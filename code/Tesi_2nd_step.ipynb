{
  "cells": [
    {
      "cell_type": "markdown",
      "metadata": {
        "id": "EKwzdnNJ6C9k"
      },
      "source": []
    },
    {
      "cell_type": "code",
      "execution_count": null,
      "metadata": {
        "colab": {
          "base_uri": "https://localhost:8080/",
          "height": 36
        },
        "id": "dnJby9Bg5PKX",
        "outputId": "ced7382a-cbc2-4030-dc2f-0dd5ecae0351"
      },
      "outputs": [
        {
          "name": "stderr",
          "output_type": "stream",
          "text": [
            "\n",
            "A module that was compiled using NumPy 1.x cannot be run in\n",
            "NumPy 2.0.2 as it may crash. To support both 1.x and 2.x\n",
            "versions of NumPy, modules must be compiled with NumPy 2.0.\n",
            "Some module may need to rebuild instead e.g. with 'pybind11>=2.12'.\n",
            "\n",
            "If you are a user of the module, the easiest solution will be to\n",
            "downgrade to 'numpy<2' or try to upgrade the affected module.\n",
            "We expect that some modules will need time to support NumPy 2.\n",
            "\n",
            "Traceback (most recent call last):  File \"/Library/Developer/CommandLineTools/Library/Frameworks/Python3.framework/Versions/3.9/lib/python3.9/runpy.py\", line 197, in _run_module_as_main\n",
            "    return _run_code(code, main_globals, None,\n",
            "  File \"/Library/Developer/CommandLineTools/Library/Frameworks/Python3.framework/Versions/3.9/lib/python3.9/runpy.py\", line 87, in _run_code\n",
            "    exec(code, run_globals)\n",
            "  File \"/Users/mirco/Documents/Tesi/code/tesi_venv/lib/python3.9/site-packages/ipykernel_launcher.py\", line 18, in <module>\n",
            "    app.launch_new_instance()\n",
            "  File \"/Users/mirco/Documents/Tesi/code/tesi_venv/lib/python3.9/site-packages/traitlets/config/application.py\", line 1075, in launch_instance\n",
            "    app.start()\n",
            "  File \"/Users/mirco/Documents/Tesi/code/tesi_venv/lib/python3.9/site-packages/ipykernel/kernelapp.py\", line 739, in start\n",
            "    self.io_loop.start()\n",
            "  File \"/Users/mirco/Documents/Tesi/code/tesi_venv/lib/python3.9/site-packages/tornado/platform/asyncio.py\", line 211, in start\n",
            "    self.asyncio_loop.run_forever()\n",
            "  File \"/Library/Developer/CommandLineTools/Library/Frameworks/Python3.framework/Versions/3.9/lib/python3.9/asyncio/base_events.py\", line 596, in run_forever\n",
            "    self._run_once()\n",
            "  File \"/Library/Developer/CommandLineTools/Library/Frameworks/Python3.framework/Versions/3.9/lib/python3.9/asyncio/base_events.py\", line 1890, in _run_once\n",
            "    handle._run()\n",
            "  File \"/Library/Developer/CommandLineTools/Library/Frameworks/Python3.framework/Versions/3.9/lib/python3.9/asyncio/events.py\", line 80, in _run\n",
            "    self._context.run(self._callback, *self._args)\n",
            "  File \"/Users/mirco/Documents/Tesi/code/tesi_venv/lib/python3.9/site-packages/ipykernel/kernelbase.py\", line 545, in dispatch_queue\n",
            "    await self.process_one()\n",
            "  File \"/Users/mirco/Documents/Tesi/code/tesi_venv/lib/python3.9/site-packages/ipykernel/kernelbase.py\", line 534, in process_one\n",
            "    await dispatch(*args)\n",
            "  File \"/Users/mirco/Documents/Tesi/code/tesi_venv/lib/python3.9/site-packages/ipykernel/kernelbase.py\", line 437, in dispatch_shell\n",
            "    await result\n",
            "  File \"/Users/mirco/Documents/Tesi/code/tesi_venv/lib/python3.9/site-packages/ipykernel/ipkernel.py\", line 362, in execute_request\n",
            "    await super().execute_request(stream, ident, parent)\n",
            "  File \"/Users/mirco/Documents/Tesi/code/tesi_venv/lib/python3.9/site-packages/ipykernel/kernelbase.py\", line 778, in execute_request\n",
            "    reply_content = await reply_content\n",
            "  File \"/Users/mirco/Documents/Tesi/code/tesi_venv/lib/python3.9/site-packages/ipykernel/ipkernel.py\", line 449, in do_execute\n",
            "    res = shell.run_cell(\n",
            "  File \"/Users/mirco/Documents/Tesi/code/tesi_venv/lib/python3.9/site-packages/ipykernel/zmqshell.py\", line 549, in run_cell\n",
            "    return super().run_cell(*args, **kwargs)\n",
            "  File \"/Users/mirco/Documents/Tesi/code/tesi_venv/lib/python3.9/site-packages/IPython/core/interactiveshell.py\", line 3048, in run_cell\n",
            "    result = self._run_cell(\n",
            "  File \"/Users/mirco/Documents/Tesi/code/tesi_venv/lib/python3.9/site-packages/IPython/core/interactiveshell.py\", line 3103, in _run_cell\n",
            "    result = runner(coro)\n",
            "  File \"/Users/mirco/Documents/Tesi/code/tesi_venv/lib/python3.9/site-packages/IPython/core/async_helpers.py\", line 129, in _pseudo_sync_runner\n",
            "    coro.send(None)\n",
            "  File \"/Users/mirco/Documents/Tesi/code/tesi_venv/lib/python3.9/site-packages/IPython/core/interactiveshell.py\", line 3308, in run_cell_async\n",
            "    has_raised = await self.run_ast_nodes(code_ast.body, cell_name,\n",
            "  File \"/Users/mirco/Documents/Tesi/code/tesi_venv/lib/python3.9/site-packages/IPython/core/interactiveshell.py\", line 3490, in run_ast_nodes\n",
            "    if await self.run_code(code, result, async_=asy):\n",
            "  File \"/Users/mirco/Documents/Tesi/code/tesi_venv/lib/python3.9/site-packages/IPython/core/interactiveshell.py\", line 3550, in run_code\n",
            "    exec(code_obj, self.user_global_ns, self.user_ns)\n",
            "  File \"/var/folders/dx/qk3tvc814mq270kn8gmbcqwr0000gn/T/ipykernel_2517/4089027316.py\", line 1, in <module>\n",
            "    import torch\n",
            "  File \"/Users/mirco/Documents/Tesi/code/tesi_venv/lib/python3.9/site-packages/torch/__init__.py\", line 1477, in <module>\n",
            "    from .functional import *  # noqa: F403\n",
            "  File \"/Users/mirco/Documents/Tesi/code/tesi_venv/lib/python3.9/site-packages/torch/functional.py\", line 9, in <module>\n",
            "    import torch.nn.functional as F\n",
            "  File \"/Users/mirco/Documents/Tesi/code/tesi_venv/lib/python3.9/site-packages/torch/nn/__init__.py\", line 1, in <module>\n",
            "    from .modules import *  # noqa: F403\n",
            "  File \"/Users/mirco/Documents/Tesi/code/tesi_venv/lib/python3.9/site-packages/torch/nn/modules/__init__.py\", line 35, in <module>\n",
            "    from .transformer import TransformerEncoder, TransformerDecoder, \\\n",
            "  File \"/Users/mirco/Documents/Tesi/code/tesi_venv/lib/python3.9/site-packages/torch/nn/modules/transformer.py\", line 20, in <module>\n",
            "    device: torch.device = torch.device(torch._C._get_default_device()),  # torch.device('cpu'),\n",
            "/Users/mirco/Documents/Tesi/code/tesi_venv/lib/python3.9/site-packages/torch/nn/modules/transformer.py:20: UserWarning: Failed to initialize NumPy: _ARRAY_API not found (Triggered internally at /Users/runner/work/pytorch/pytorch/pytorch/torch/csrc/utils/tensor_numpy.cpp:84.)\n",
            "  device: torch.device = torch.device(torch._C._get_default_device()),  # torch.device('cpu'),\n"
          ]
        }
      ],
      "source": [
        "import numpy as np\n",
        "import pandas as pd\n",
        "import torch\n",
        "from IPython.display import clear_output\n",
        "\n",
        "torch.__version__"
      ]
    },
    {
      "cell_type": "code",
      "execution_count": null,
      "metadata": {
        "collapsed": true,
        "id": "pD8ZcXVE6MyP"
      },
      "outputs": [],
      "source": [
        "#Install needed libraries\n",
        "# !pip install pyg_lib torch_scatter torch_sparse torch_cluster torch_spline_conv -f https://data.pyg.org/whl/torch-2.6.0+cu124.html\n",
        "# !pip install torch-geometric-temporal\n",
        "# clear_output()"
      ]
    },
    {
      "cell_type": "code",
      "execution_count": null,
      "metadata": {
        "colab": {
          "base_uri": "https://localhost:8080/"
        },
        "id": "6LDRdkfs5-Sl",
        "outputId": "baf93265-4f1a-4add-eafc-2e97cefb6aa3"
      },
      "outputs": [
        {
          "name": "stdout",
          "output_type": "stream",
          "text": [
            "Cloning into 'DGDNN'...\n",
            "remote: Enumerating objects: 440, done.\u001b[K\n",
            "remote: Counting objects: 100% (199/199), done.\u001b[K\n",
            "remote: Compressing objects: 100% (157/157), done.\u001b[K\n",
            "remote: Total 440 (delta 94), reused 35 (delta 35), pack-reused 241 (from 1)\u001b[K\n",
            "Receiving objects: 100% (440/440), 129.41 KiB | 2.12 MiB/s, done.\n",
            "Resolving deltas: 100% (178/178), done.\n"
          ]
        }
      ],
      "source": [
        "#Cloning the DGDNN model\n",
        "#!git clone https://github.com/pixelhero98/DGDNN.git"
      ]
    },
    {
      "cell_type": "markdown",
      "metadata": {
        "id": "ql-xe2BnPiCf"
      },
      "source": [
        "# Model 1: GConvGRU"
      ]
    },
    {
      "cell_type": "code",
      "execution_count": 7,
      "metadata": {
        "id": "hAP4Vu62Pml2"
      },
      "outputs": [],
      "source": [
        "from torch_geometric_temporal.nn import GConvGRU"
      ]
    },
    {
      "cell_type": "code",
      "execution_count": 8,
      "metadata": {
        "colab": {
          "base_uri": "https://localhost:8080/"
        },
        "id": "zBgNnY-tPrMg",
        "outputId": "67f7d268-2bd9-4cf2-cc09-e4bcca2824c8"
      },
      "outputs": [
        {
          "data": {
            "text/plain": [
              "60600"
            ]
          },
          "execution_count": 8,
          "metadata": {},
          "output_type": "execute_result"
        }
      ],
      "source": [
        "model = GConvGRU(100,100,1)\n",
        "\n",
        "\n",
        "sum([p.numel() for p in model.parameters()])"
      ]
    },
    {
      "cell_type": "code",
      "execution_count": 25,
      "metadata": {
        "id": "L8Jd3WRBP32R"
      },
      "outputs": [],
      "source": [
        "df_NYSE = pd.read_csv('/content/data/NYSE.csv')\n",
        "df_NASDAQ = pd.read_csv('/content/data/NASDAQ.csv')"
      ]
    },
    {
      "cell_type": "code",
      "execution_count": 31,
      "metadata": {
        "colab": {
          "base_uri": "https://localhost:8080/"
        },
        "id": "pxAXYgQfC5m-",
        "outputId": "b514f675-c317-4250-9fa3-26c898ed312f"
      },
      "outputs": [
        {
          "data": {
            "text/plain": [
              "(      AABA\n",
              " 0     AAON\n",
              " 1     AAPL\n",
              " 2     AAWW\n",
              " 3     AAXJ\n",
              " 4     AAXN\n",
              " ...    ...\n",
              " 1020  ZBRA\n",
              " 1021  ZEUS\n",
              " 1022  ZION\n",
              " 1023   ZIV\n",
              " 1024  ZUMZ\n",
              " \n",
              " [1025 rows x 1 columns],\n",
              "          A\n",
              " 0      AAN\n",
              " 1      AAP\n",
              " 2      AAT\n",
              " 3       AB\n",
              " 4      ABB\n",
              " ...    ...\n",
              " 1731  ZB-A\n",
              " 1732   ZBH\n",
              " 1733    ZF\n",
              " 1734   ZNH\n",
              " 1735   ZTR\n",
              " \n",
              " [1736 rows x 1 columns])"
            ]
          },
          "execution_count": 31,
          "metadata": {},
          "output_type": "execute_result"
        }
      ],
      "source": [
        "df_NASDAQ, df_NYSE"
      ]
    },
    {
      "cell_type": "markdown",
      "metadata": {
        "id": "U7WV_WLqSckw"
      },
      "source": [
        "# Model 3"
      ]
    },
    {
      "cell_type": "code",
      "execution_count": 9,
      "metadata": {
        "id": "V_sW9yBwSd9l"
      },
      "outputs": [],
      "source": [
        "from torch_geometric_temporal.signal import DynamicGraphTemporalSignal"
      ]
    },
    {
      "cell_type": "code",
      "execution_count": 10,
      "metadata": {
        "colab": {
          "base_uri": "https://localhost:8080/",
          "height": 240
        },
        "id": "yCqwhBc8S5FU",
        "outputId": "b664f627-e3b7-4bc0-ad85-1599f4d1125a"
      },
      "outputs": [
        {
          "data": {
            "text/html": [
              "<div style=\"max-width:800px; border: 1px solid var(--colab-border-color);\"><style>\n",
              "      pre.function-repr-contents {\n",
              "        overflow-x: auto;\n",
              "        padding: 8px 12px;\n",
              "        max-height: 500px;\n",
              "      }\n",
              "\n",
              "      pre.function-repr-contents.function-repr-contents-collapsed {\n",
              "        cursor: pointer;\n",
              "        max-height: 100px;\n",
              "      }\n",
              "    </style>\n",
              "    <pre style=\"white-space: initial; background:\n",
              "         var(--colab-secondary-surface-color); padding: 8px 12px;\n",
              "         border-bottom: 1px solid var(--colab-border-color);\"><b>torch_geometric_temporal.signal.dynamic_graph_temporal_signal.DynamicGraphTemporalSignal</b><br/>def __init__(edge_indices: Edge_Indices, edge_weights: Edge_Weights, features: Node_Features, targets: Targets, **kwargs: Additional_Features)</pre><pre class=\"function-repr-contents function-repr-contents-collapsed\" style=\"\"><a class=\"filepath\" style=\"display:none\" href=\"#\">/usr/local/lib/python3.11/dist-packages/torch_geometric_temporal/signal/dynamic_graph_temporal_signal.py</a>A data iterator object to contain a dynamic graph with a\n",
              "changing edge set and weights . The feature set and node labels\n",
              "(target) are also dynamic. The iterator returns a single discrete temporal\n",
              "snapshot for a time period (e.g. day or week). This single snapshot is a\n",
              "Pytorch Geometric Data object. Between two temporal snapshots the edges,\n",
              "edge weights, target matrices and optionally passed attributes might change.\n",
              "\n",
              "Args:\n",
              "    edge_indices (Sequence of Numpy arrays): Sequence of edge index tensors.\n",
              "    edge_weights (Sequence of Numpy arrays): Sequence of edge weight tensors.\n",
              "    features (Sequence of Numpy arrays): Sequence of node feature tensors.\n",
              "    targets (Sequence of Numpy arrays): Sequence of node label (target) tensors.\n",
              "    **kwargs (optional Sequence of Numpy arrays): Sequence of additional attributes.</pre>\n",
              "      <script>\n",
              "      if (google.colab.kernel.accessAllowed && google.colab.files && google.colab.files.view) {\n",
              "        for (const element of document.querySelectorAll('.filepath')) {\n",
              "          element.style.display = 'block'\n",
              "          element.onclick = (event) => {\n",
              "            event.preventDefault();\n",
              "            event.stopPropagation();\n",
              "            google.colab.files.view(element.textContent, 14);\n",
              "          };\n",
              "        }\n",
              "      }\n",
              "      for (const element of document.querySelectorAll('.function-repr-contents')) {\n",
              "        element.onclick = (event) => {\n",
              "          event.preventDefault();\n",
              "          event.stopPropagation();\n",
              "          element.classList.toggle('function-repr-contents-collapsed');\n",
              "        };\n",
              "      }\n",
              "      </script>\n",
              "      </div>"
            ],
            "text/plain": [
              "torch_geometric_temporal.signal.dynamic_graph_temporal_signal.DynamicGraphTemporalSignal"
            ]
          },
          "execution_count": 10,
          "metadata": {},
          "output_type": "execute_result"
        }
      ],
      "source": [
        "DynamicGraphTemporalSignal"
      ]
    },
    {
      "cell_type": "markdown",
      "metadata": {
        "id": "zjrSKZOh-Qm5"
      },
      "source": [
        "# Model 2: DGDNN\n",
        "\n",
        "GitHub: https://github.com/pixelhero98/DGDNN"
      ]
    },
    {
      "cell_type": "code",
      "execution_count": 11,
      "metadata": {
        "id": "Km3vpuil-UOY"
      },
      "outputs": [],
      "source": [
        "from DGDNN.Model.dgdnn import DGDNN"
      ]
    },
    {
      "cell_type": "code",
      "execution_count": 12,
      "metadata": {
        "colab": {
          "base_uri": "https://localhost:8080/"
        },
        "id": "JZRameyH74rl",
        "outputId": "1e25cb16-e9e5-42e9-c2a5-92b6f3759fa1"
      },
      "outputs": [
        {
          "data": {
            "text/plain": [
              "13"
            ]
          },
          "execution_count": 12,
          "metadata": {},
          "output_type": "execute_result"
        }
      ],
      "source": [
        "model = DGDNN(\n",
        "    [20],\n",
        "    [10],\n",
        "    1,\n",
        "    1,\n",
        "    1,\n",
        "    1,\n",
        "    1,\n",
        "    1,\n",
        "    1\n",
        ")\n",
        "\n",
        "sum([p.numel() for p in model.parameters()])"
      ]
    },
    {
      "cell_type": "code",
      "execution_count": 13,
      "metadata": {
        "colab": {
          "base_uri": "https://localhost:8080/"
        },
        "id": "HLc0K0AI-JpR",
        "outputId": "b1b8f905-b610-4423-c984-efa5a49cc538"
      },
      "outputs": [
        {
          "name": "stdout",
          "output_type": "stream",
          "text": [
            "total 8\n",
            "drwxr-xr-x 1 root root 4096 May 23 13:39 sample_data\n",
            "drwxr-xr-x 6 root root 4096 May 29 07:53 DGDNN\n",
            "unzip:  cannot find or open data.zip, data.zip.zip or data.zip.ZIP.\n"
          ]
        }
      ],
      "source": [
        "!cd /content && ls -ltr && unzip data.zip"
      ]
    }
  ],
  "metadata": {
    "colab": {
      "provenance": []
    },
    "kernelspec": {
      "display_name": "tesi_venv",
      "language": "python",
      "name": "python3"
    },
    "language_info": {
      "codemirror_mode": {
        "name": "ipython",
        "version": 3
      },
      "file_extension": ".py",
      "mimetype": "text/x-python",
      "name": "python",
      "nbconvert_exporter": "python",
      "pygments_lexer": "ipython3",
      "version": "3.9.6"
    }
  },
  "nbformat": 4,
  "nbformat_minor": 0
}
