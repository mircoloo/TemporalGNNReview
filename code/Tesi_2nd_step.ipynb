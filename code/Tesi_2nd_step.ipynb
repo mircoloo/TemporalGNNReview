{
  "cells": [
    {
      "cell_type": "markdown",
      "metadata": {
        "id": "EKwzdnNJ6C9k"
      },
      "source": []
    },
    {
      "cell_type": "code",
      "execution_count": 1,
      "metadata": {
        "colab": {
          "base_uri": "https://localhost:8080/",
          "height": 36
        },
        "id": "dnJby9Bg5PKX",
        "outputId": "ced7382a-cbc2-4030-dc2f-0dd5ecae0351"
      },
      "outputs": [
        {
          "data": {
            "text/plain": [
              "'2.2.2'"
            ]
          },
          "execution_count": 1,
          "metadata": {},
          "output_type": "execute_result"
        }
      ],
      "source": [
        "import numpy as np\n",
        "import pandas as pd\n",
        "import torch\n",
        "import os\n",
        "from IPython.display import clear_output\n",
        "import matplotlib.pyplot as plt\n",
        "torch.__version__"
      ]
    },
    {
      "cell_type": "markdown",
      "metadata": {},
      "source": [
        "# Code to handle to create and handle the dataset"
      ]
    },
    {
      "cell_type": "code",
      "execution_count": 2,
      "metadata": {},
      "outputs": [],
      "source": [
        "from models.DGDNN.Data.geometric_dataset_gen import MyDataset as MyGeometricDataset\n",
        "from models.DGDNN.Data.dataset_gen import MyDataset "
      ]
    },
    {
      "cell_type": "code",
      "execution_count": 3,
      "metadata": {},
      "outputs": [],
      "source": [
        "%reload_ext autoreload\n",
        "%autoreload 2"
      ]
    },
    {
      "cell_type": "code",
      "execution_count": 9,
      "metadata": {},
      "outputs": [
        {
          "name": "stderr",
          "output_type": "stream",
          "text": [
            "  0%|          | 0/416 [00:00<?, ?it/s]"
          ]
        },
        {
          "name": "stdout",
          "output_type": "stream",
          "text": [
            "Generating graph 0/416...\n"
          ]
        },
        {
          "name": "stderr",
          "output_type": "stream",
          "text": [
            "/Users/mirco/Documents/Tesi/code/models/DGDNN/Data/geometric_dataset_gen.py:133: FutureWarning: The behavior of 'isin' with dtype=datetime64[ns] and castable values (e.g. strings) is deprecated. In a future version, these will not be considered matching by isin. Explicitly cast to the appropriate dtype before calling isin instead.\n",
            "  df = df[df.index.isin(dates_dt)]\n",
            "/Users/mirco/Documents/Tesi/code/models/DGDNN/Data/geometric_dataset_gen.py:133: FutureWarning: The behavior of 'isin' with dtype=datetime64[ns] and castable values (e.g. strings) is deprecated. In a future version, these will not be considered matching by isin. Explicitly cast to the appropriate dtype before calling isin instead.\n",
            "  df = df[df.index.isin(dates_dt)]\n",
            "/Users/mirco/Documents/Tesi/code/models/DGDNN/Data/geometric_dataset_gen.py:133: FutureWarning: The behavior of 'isin' with dtype=datetime64[ns] and castable values (e.g. strings) is deprecated. In a future version, these will not be considered matching by isin. Explicitly cast to the appropriate dtype before calling isin instead.\n",
            "  df = df[df.index.isin(dates_dt)]\n",
            "/Users/mirco/Documents/Tesi/code/models/DGDNN/Data/geometric_dataset_gen.py:133: FutureWarning: The behavior of 'isin' with dtype=datetime64[ns] and castable values (e.g. strings) is deprecated. In a future version, these will not be considered matching by isin. Explicitly cast to the appropriate dtype before calling isin instead.\n",
            "  df = df[df.index.isin(dates_dt)]\n",
            "  0%|          | 1/416 [00:00<05:14,  1.32it/s]"
          ]
        },
        {
          "name": "stdout",
          "output_type": "stream",
          "text": [
            "Generating graph 1/416...\n"
          ]
        },
        {
          "name": "stderr",
          "output_type": "stream",
          "text": [
            "/Users/mirco/Documents/Tesi/code/models/DGDNN/Data/geometric_dataset_gen.py:133: FutureWarning: The behavior of 'isin' with dtype=datetime64[ns] and castable values (e.g. strings) is deprecated. In a future version, these will not be considered matching by isin. Explicitly cast to the appropriate dtype before calling isin instead.\n",
            "  df = df[df.index.isin(dates_dt)]\n",
            "/Users/mirco/Documents/Tesi/code/models/DGDNN/Data/geometric_dataset_gen.py:133: FutureWarning: The behavior of 'isin' with dtype=datetime64[ns] and castable values (e.g. strings) is deprecated. In a future version, these will not be considered matching by isin. Explicitly cast to the appropriate dtype before calling isin instead.\n",
            "  df = df[df.index.isin(dates_dt)]\n",
            "/Users/mirco/Documents/Tesi/code/models/DGDNN/Data/geometric_dataset_gen.py:133: FutureWarning: The behavior of 'isin' with dtype=datetime64[ns] and castable values (e.g. strings) is deprecated. In a future version, these will not be considered matching by isin. Explicitly cast to the appropriate dtype before calling isin instead.\n",
            "  df = df[df.index.isin(dates_dt)]\n",
            "/Users/mirco/Documents/Tesi/code/models/DGDNN/Data/geometric_dataset_gen.py:133: FutureWarning: The behavior of 'isin' with dtype=datetime64[ns] and castable values (e.g. strings) is deprecated. In a future version, these will not be considered matching by isin. Explicitly cast to the appropriate dtype before calling isin instead.\n",
            "  df = df[df.index.isin(dates_dt)]\n",
            "  0%|          | 2/416 [00:01<05:10,  1.33it/s]"
          ]
        },
        {
          "name": "stdout",
          "output_type": "stream",
          "text": [
            "Generating graph 2/416...\n"
          ]
        },
        {
          "name": "stderr",
          "output_type": "stream",
          "text": [
            "/Users/mirco/Documents/Tesi/code/models/DGDNN/Data/geometric_dataset_gen.py:133: FutureWarning: The behavior of 'isin' with dtype=datetime64[ns] and castable values (e.g. strings) is deprecated. In a future version, these will not be considered matching by isin. Explicitly cast to the appropriate dtype before calling isin instead.\n",
            "  df = df[df.index.isin(dates_dt)]\n",
            "/Users/mirco/Documents/Tesi/code/models/DGDNN/Data/geometric_dataset_gen.py:133: FutureWarning: The behavior of 'isin' with dtype=datetime64[ns] and castable values (e.g. strings) is deprecated. In a future version, these will not be considered matching by isin. Explicitly cast to the appropriate dtype before calling isin instead.\n",
            "  df = df[df.index.isin(dates_dt)]\n",
            "/Users/mirco/Documents/Tesi/code/models/DGDNN/Data/geometric_dataset_gen.py:133: FutureWarning: The behavior of 'isin' with dtype=datetime64[ns] and castable values (e.g. strings) is deprecated. In a future version, these will not be considered matching by isin. Explicitly cast to the appropriate dtype before calling isin instead.\n",
            "  df = df[df.index.isin(dates_dt)]\n",
            "/Users/mirco/Documents/Tesi/code/models/DGDNN/Data/geometric_dataset_gen.py:133: FutureWarning: The behavior of 'isin' with dtype=datetime64[ns] and castable values (e.g. strings) is deprecated. In a future version, these will not be considered matching by isin. Explicitly cast to the appropriate dtype before calling isin instead.\n",
            "  df = df[df.index.isin(dates_dt)]\n",
            "  1%|          | 3/416 [00:02<06:43,  1.02it/s]"
          ]
        },
        {
          "name": "stdout",
          "output_type": "stream",
          "text": [
            "Generating graph 3/416...\n"
          ]
        },
        {
          "name": "stderr",
          "output_type": "stream",
          "text": [
            "/Users/mirco/Documents/Tesi/code/models/DGDNN/Data/geometric_dataset_gen.py:133: FutureWarning: The behavior of 'isin' with dtype=datetime64[ns] and castable values (e.g. strings) is deprecated. In a future version, these will not be considered matching by isin. Explicitly cast to the appropriate dtype before calling isin instead.\n",
            "  df = df[df.index.isin(dates_dt)]\n",
            "/Users/mirco/Documents/Tesi/code/models/DGDNN/Data/geometric_dataset_gen.py:133: FutureWarning: The behavior of 'isin' with dtype=datetime64[ns] and castable values (e.g. strings) is deprecated. In a future version, these will not be considered matching by isin. Explicitly cast to the appropriate dtype before calling isin instead.\n",
            "  df = df[df.index.isin(dates_dt)]\n",
            "/Users/mirco/Documents/Tesi/code/models/DGDNN/Data/geometric_dataset_gen.py:133: FutureWarning: The behavior of 'isin' with dtype=datetime64[ns] and castable values (e.g. strings) is deprecated. In a future version, these will not be considered matching by isin. Explicitly cast to the appropriate dtype before calling isin instead.\n",
            "  df = df[df.index.isin(dates_dt)]\n",
            "/Users/mirco/Documents/Tesi/code/models/DGDNN/Data/geometric_dataset_gen.py:133: FutureWarning: The behavior of 'isin' with dtype=datetime64[ns] and castable values (e.g. strings) is deprecated. In a future version, these will not be considered matching by isin. Explicitly cast to the appropriate dtype before calling isin instead.\n",
            "  df = df[df.index.isin(dates_dt)]\n",
            "  1%|          | 4/416 [00:03<06:10,  1.11it/s]"
          ]
        },
        {
          "name": "stdout",
          "output_type": "stream",
          "text": [
            "Generating graph 4/416...\n"
          ]
        },
        {
          "name": "stderr",
          "output_type": "stream",
          "text": [
            "/Users/mirco/Documents/Tesi/code/models/DGDNN/Data/geometric_dataset_gen.py:133: FutureWarning: The behavior of 'isin' with dtype=datetime64[ns] and castable values (e.g. strings) is deprecated. In a future version, these will not be considered matching by isin. Explicitly cast to the appropriate dtype before calling isin instead.\n",
            "  df = df[df.index.isin(dates_dt)]\n",
            "/Users/mirco/Documents/Tesi/code/models/DGDNN/Data/geometric_dataset_gen.py:133: FutureWarning: The behavior of 'isin' with dtype=datetime64[ns] and castable values (e.g. strings) is deprecated. In a future version, these will not be considered matching by isin. Explicitly cast to the appropriate dtype before calling isin instead.\n",
            "  df = df[df.index.isin(dates_dt)]\n",
            "/Users/mirco/Documents/Tesi/code/models/DGDNN/Data/geometric_dataset_gen.py:133: FutureWarning: The behavior of 'isin' with dtype=datetime64[ns] and castable values (e.g. strings) is deprecated. In a future version, these will not be considered matching by isin. Explicitly cast to the appropriate dtype before calling isin instead.\n",
            "  df = df[df.index.isin(dates_dt)]\n",
            "/Users/mirco/Documents/Tesi/code/models/DGDNN/Data/geometric_dataset_gen.py:133: FutureWarning: The behavior of 'isin' with dtype=datetime64[ns] and castable values (e.g. strings) is deprecated. In a future version, these will not be considered matching by isin. Explicitly cast to the appropriate dtype before calling isin instead.\n",
            "  df = df[df.index.isin(dates_dt)]\n",
            "  1%|          | 5/416 [00:04<05:49,  1.18it/s]"
          ]
        },
        {
          "name": "stdout",
          "output_type": "stream",
          "text": [
            "Generating graph 5/416...\n"
          ]
        },
        {
          "name": "stderr",
          "output_type": "stream",
          "text": [
            "/Users/mirco/Documents/Tesi/code/models/DGDNN/Data/geometric_dataset_gen.py:133: FutureWarning: The behavior of 'isin' with dtype=datetime64[ns] and castable values (e.g. strings) is deprecated. In a future version, these will not be considered matching by isin. Explicitly cast to the appropriate dtype before calling isin instead.\n",
            "  df = df[df.index.isin(dates_dt)]\n",
            "/Users/mirco/Documents/Tesi/code/models/DGDNN/Data/geometric_dataset_gen.py:133: FutureWarning: The behavior of 'isin' with dtype=datetime64[ns] and castable values (e.g. strings) is deprecated. In a future version, these will not be considered matching by isin. Explicitly cast to the appropriate dtype before calling isin instead.\n",
            "  df = df[df.index.isin(dates_dt)]\n",
            "/Users/mirco/Documents/Tesi/code/models/DGDNN/Data/geometric_dataset_gen.py:133: FutureWarning: The behavior of 'isin' with dtype=datetime64[ns] and castable values (e.g. strings) is deprecated. In a future version, these will not be considered matching by isin. Explicitly cast to the appropriate dtype before calling isin instead.\n",
            "  df = df[df.index.isin(dates_dt)]\n",
            "/Users/mirco/Documents/Tesi/code/models/DGDNN/Data/geometric_dataset_gen.py:133: FutureWarning: The behavior of 'isin' with dtype=datetime64[ns] and castable values (e.g. strings) is deprecated. In a future version, these will not be considered matching by isin. Explicitly cast to the appropriate dtype before calling isin instead.\n",
            "  df = df[df.index.isin(dates_dt)]\n",
            "  1%|▏         | 6/416 [00:05<05:54,  1.16it/s]"
          ]
        },
        {
          "name": "stdout",
          "output_type": "stream",
          "text": [
            "Generating graph 6/416...\n"
          ]
        },
        {
          "name": "stderr",
          "output_type": "stream",
          "text": [
            "/Users/mirco/Documents/Tesi/code/models/DGDNN/Data/geometric_dataset_gen.py:133: FutureWarning: The behavior of 'isin' with dtype=datetime64[ns] and castable values (e.g. strings) is deprecated. In a future version, these will not be considered matching by isin. Explicitly cast to the appropriate dtype before calling isin instead.\n",
            "  df = df[df.index.isin(dates_dt)]\n",
            "/Users/mirco/Documents/Tesi/code/models/DGDNN/Data/geometric_dataset_gen.py:133: FutureWarning: The behavior of 'isin' with dtype=datetime64[ns] and castable values (e.g. strings) is deprecated. In a future version, these will not be considered matching by isin. Explicitly cast to the appropriate dtype before calling isin instead.\n",
            "  df = df[df.index.isin(dates_dt)]\n",
            "/Users/mirco/Documents/Tesi/code/models/DGDNN/Data/geometric_dataset_gen.py:133: FutureWarning: The behavior of 'isin' with dtype=datetime64[ns] and castable values (e.g. strings) is deprecated. In a future version, these will not be considered matching by isin. Explicitly cast to the appropriate dtype before calling isin instead.\n",
            "  df = df[df.index.isin(dates_dt)]\n",
            "/Users/mirco/Documents/Tesi/code/models/DGDNN/Data/geometric_dataset_gen.py:133: FutureWarning: The behavior of 'isin' with dtype=datetime64[ns] and castable values (e.g. strings) is deprecated. In a future version, these will not be considered matching by isin. Explicitly cast to the appropriate dtype before calling isin instead.\n",
            "  df = df[df.index.isin(dates_dt)]\n",
            "  2%|▏         | 7/416 [00:05<05:36,  1.21it/s]"
          ]
        },
        {
          "name": "stdout",
          "output_type": "stream",
          "text": [
            "Generating graph 7/416...\n"
          ]
        },
        {
          "name": "stderr",
          "output_type": "stream",
          "text": [
            "/Users/mirco/Documents/Tesi/code/models/DGDNN/Data/geometric_dataset_gen.py:133: FutureWarning: The behavior of 'isin' with dtype=datetime64[ns] and castable values (e.g. strings) is deprecated. In a future version, these will not be considered matching by isin. Explicitly cast to the appropriate dtype before calling isin instead.\n",
            "  df = df[df.index.isin(dates_dt)]\n",
            "/Users/mirco/Documents/Tesi/code/models/DGDNN/Data/geometric_dataset_gen.py:133: FutureWarning: The behavior of 'isin' with dtype=datetime64[ns] and castable values (e.g. strings) is deprecated. In a future version, these will not be considered matching by isin. Explicitly cast to the appropriate dtype before calling isin instead.\n",
            "  df = df[df.index.isin(dates_dt)]\n",
            "/Users/mirco/Documents/Tesi/code/models/DGDNN/Data/geometric_dataset_gen.py:133: FutureWarning: The behavior of 'isin' with dtype=datetime64[ns] and castable values (e.g. strings) is deprecated. In a future version, these will not be considered matching by isin. Explicitly cast to the appropriate dtype before calling isin instead.\n",
            "  df = df[df.index.isin(dates_dt)]\n",
            "/Users/mirco/Documents/Tesi/code/models/DGDNN/Data/geometric_dataset_gen.py:133: FutureWarning: The behavior of 'isin' with dtype=datetime64[ns] and castable values (e.g. strings) is deprecated. In a future version, these will not be considered matching by isin. Explicitly cast to the appropriate dtype before calling isin instead.\n",
            "  df = df[df.index.isin(dates_dt)]\n",
            "  2%|▏         | 8/416 [00:06<05:24,  1.26it/s]"
          ]
        },
        {
          "name": "stdout",
          "output_type": "stream",
          "text": [
            "Generating graph 8/416...\n"
          ]
        },
        {
          "name": "stderr",
          "output_type": "stream",
          "text": [
            "/Users/mirco/Documents/Tesi/code/models/DGDNN/Data/geometric_dataset_gen.py:133: FutureWarning: The behavior of 'isin' with dtype=datetime64[ns] and castable values (e.g. strings) is deprecated. In a future version, these will not be considered matching by isin. Explicitly cast to the appropriate dtype before calling isin instead.\n",
            "  df = df[df.index.isin(dates_dt)]\n",
            "/Users/mirco/Documents/Tesi/code/models/DGDNN/Data/geometric_dataset_gen.py:133: FutureWarning: The behavior of 'isin' with dtype=datetime64[ns] and castable values (e.g. strings) is deprecated. In a future version, these will not be considered matching by isin. Explicitly cast to the appropriate dtype before calling isin instead.\n",
            "  df = df[df.index.isin(dates_dt)]\n",
            "/Users/mirco/Documents/Tesi/code/models/DGDNN/Data/geometric_dataset_gen.py:133: FutureWarning: The behavior of 'isin' with dtype=datetime64[ns] and castable values (e.g. strings) is deprecated. In a future version, these will not be considered matching by isin. Explicitly cast to the appropriate dtype before calling isin instead.\n",
            "  df = df[df.index.isin(dates_dt)]\n",
            "/Users/mirco/Documents/Tesi/code/models/DGDNN/Data/geometric_dataset_gen.py:133: FutureWarning: The behavior of 'isin' with dtype=datetime64[ns] and castable values (e.g. strings) is deprecated. In a future version, these will not be considered matching by isin. Explicitly cast to the appropriate dtype before calling isin instead.\n",
            "  df = df[df.index.isin(dates_dt)]\n",
            "  2%|▏         | 9/416 [00:07<05:14,  1.29it/s]"
          ]
        },
        {
          "name": "stdout",
          "output_type": "stream",
          "text": [
            "Generating graph 9/416...\n"
          ]
        },
        {
          "name": "stderr",
          "output_type": "stream",
          "text": [
            "/Users/mirco/Documents/Tesi/code/models/DGDNN/Data/geometric_dataset_gen.py:133: FutureWarning: The behavior of 'isin' with dtype=datetime64[ns] and castable values (e.g. strings) is deprecated. In a future version, these will not be considered matching by isin. Explicitly cast to the appropriate dtype before calling isin instead.\n",
            "  df = df[df.index.isin(dates_dt)]\n",
            "/Users/mirco/Documents/Tesi/code/models/DGDNN/Data/geometric_dataset_gen.py:133: FutureWarning: The behavior of 'isin' with dtype=datetime64[ns] and castable values (e.g. strings) is deprecated. In a future version, these will not be considered matching by isin. Explicitly cast to the appropriate dtype before calling isin instead.\n",
            "  df = df[df.index.isin(dates_dt)]\n",
            "/Users/mirco/Documents/Tesi/code/models/DGDNN/Data/geometric_dataset_gen.py:133: FutureWarning: The behavior of 'isin' with dtype=datetime64[ns] and castable values (e.g. strings) is deprecated. In a future version, these will not be considered matching by isin. Explicitly cast to the appropriate dtype before calling isin instead.\n",
            "  df = df[df.index.isin(dates_dt)]\n",
            "/Users/mirco/Documents/Tesi/code/models/DGDNN/Data/geometric_dataset_gen.py:133: FutureWarning: The behavior of 'isin' with dtype=datetime64[ns] and castable values (e.g. strings) is deprecated. In a future version, these will not be considered matching by isin. Explicitly cast to the appropriate dtype before calling isin instead.\n",
            "  df = df[df.index.isin(dates_dt)]\n",
            "  2%|▏         | 10/416 [00:08<05:41,  1.19it/s]"
          ]
        },
        {
          "name": "stdout",
          "output_type": "stream",
          "text": [
            "Generating graph 10/416...\n"
          ]
        },
        {
          "name": "stderr",
          "output_type": "stream",
          "text": [
            "/Users/mirco/Documents/Tesi/code/models/DGDNN/Data/geometric_dataset_gen.py:133: FutureWarning: The behavior of 'isin' with dtype=datetime64[ns] and castable values (e.g. strings) is deprecated. In a future version, these will not be considered matching by isin. Explicitly cast to the appropriate dtype before calling isin instead.\n",
            "  df = df[df.index.isin(dates_dt)]\n",
            "/Users/mirco/Documents/Tesi/code/models/DGDNN/Data/geometric_dataset_gen.py:133: FutureWarning: The behavior of 'isin' with dtype=datetime64[ns] and castable values (e.g. strings) is deprecated. In a future version, these will not be considered matching by isin. Explicitly cast to the appropriate dtype before calling isin instead.\n",
            "  df = df[df.index.isin(dates_dt)]\n",
            "/Users/mirco/Documents/Tesi/code/models/DGDNN/Data/geometric_dataset_gen.py:133: FutureWarning: The behavior of 'isin' with dtype=datetime64[ns] and castable values (e.g. strings) is deprecated. In a future version, these will not be considered matching by isin. Explicitly cast to the appropriate dtype before calling isin instead.\n",
            "  df = df[df.index.isin(dates_dt)]\n",
            "/Users/mirco/Documents/Tesi/code/models/DGDNN/Data/geometric_dataset_gen.py:133: FutureWarning: The behavior of 'isin' with dtype=datetime64[ns] and castable values (e.g. strings) is deprecated. In a future version, these will not be considered matching by isin. Explicitly cast to the appropriate dtype before calling isin instead.\n",
            "  df = df[df.index.isin(dates_dt)]\n",
            "  3%|▎         | 11/416 [00:09<05:34,  1.21it/s]"
          ]
        },
        {
          "name": "stdout",
          "output_type": "stream",
          "text": [
            "Generating graph 11/416...\n"
          ]
        },
        {
          "name": "stderr",
          "output_type": "stream",
          "text": [
            "/Users/mirco/Documents/Tesi/code/models/DGDNN/Data/geometric_dataset_gen.py:133: FutureWarning: The behavior of 'isin' with dtype=datetime64[ns] and castable values (e.g. strings) is deprecated. In a future version, these will not be considered matching by isin. Explicitly cast to the appropriate dtype before calling isin instead.\n",
            "  df = df[df.index.isin(dates_dt)]\n",
            "/Users/mirco/Documents/Tesi/code/models/DGDNN/Data/geometric_dataset_gen.py:133: FutureWarning: The behavior of 'isin' with dtype=datetime64[ns] and castable values (e.g. strings) is deprecated. In a future version, these will not be considered matching by isin. Explicitly cast to the appropriate dtype before calling isin instead.\n",
            "  df = df[df.index.isin(dates_dt)]\n",
            "/Users/mirco/Documents/Tesi/code/models/DGDNN/Data/geometric_dataset_gen.py:133: FutureWarning: The behavior of 'isin' with dtype=datetime64[ns] and castable values (e.g. strings) is deprecated. In a future version, these will not be considered matching by isin. Explicitly cast to the appropriate dtype before calling isin instead.\n",
            "  df = df[df.index.isin(dates_dt)]\n",
            "/Users/mirco/Documents/Tesi/code/models/DGDNN/Data/geometric_dataset_gen.py:133: FutureWarning: The behavior of 'isin' with dtype=datetime64[ns] and castable values (e.g. strings) is deprecated. In a future version, these will not be considered matching by isin. Explicitly cast to the appropriate dtype before calling isin instead.\n",
            "  df = df[df.index.isin(dates_dt)]\n",
            "  3%|▎         | 12/416 [00:09<05:21,  1.26it/s]"
          ]
        },
        {
          "name": "stdout",
          "output_type": "stream",
          "text": [
            "Generating graph 12/416...\n"
          ]
        },
        {
          "name": "stderr",
          "output_type": "stream",
          "text": [
            "/Users/mirco/Documents/Tesi/code/models/DGDNN/Data/geometric_dataset_gen.py:133: FutureWarning: The behavior of 'isin' with dtype=datetime64[ns] and castable values (e.g. strings) is deprecated. In a future version, these will not be considered matching by isin. Explicitly cast to the appropriate dtype before calling isin instead.\n",
            "  df = df[df.index.isin(dates_dt)]\n",
            "/Users/mirco/Documents/Tesi/code/models/DGDNN/Data/geometric_dataset_gen.py:133: FutureWarning: The behavior of 'isin' with dtype=datetime64[ns] and castable values (e.g. strings) is deprecated. In a future version, these will not be considered matching by isin. Explicitly cast to the appropriate dtype before calling isin instead.\n",
            "  df = df[df.index.isin(dates_dt)]\n",
            "/Users/mirco/Documents/Tesi/code/models/DGDNN/Data/geometric_dataset_gen.py:133: FutureWarning: The behavior of 'isin' with dtype=datetime64[ns] and castable values (e.g. strings) is deprecated. In a future version, these will not be considered matching by isin. Explicitly cast to the appropriate dtype before calling isin instead.\n",
            "  df = df[df.index.isin(dates_dt)]\n",
            "/Users/mirco/Documents/Tesi/code/models/DGDNN/Data/geometric_dataset_gen.py:133: FutureWarning: The behavior of 'isin' with dtype=datetime64[ns] and castable values (e.g. strings) is deprecated. In a future version, these will not be considered matching by isin. Explicitly cast to the appropriate dtype before calling isin instead.\n",
            "  df = df[df.index.isin(dates_dt)]\n",
            "  3%|▎         | 13/416 [00:10<05:30,  1.22it/s]"
          ]
        },
        {
          "name": "stdout",
          "output_type": "stream",
          "text": [
            "Generating graph 13/416...\n"
          ]
        },
        {
          "name": "stderr",
          "output_type": "stream",
          "text": [
            "/Users/mirco/Documents/Tesi/code/models/DGDNN/Data/geometric_dataset_gen.py:133: FutureWarning: The behavior of 'isin' with dtype=datetime64[ns] and castable values (e.g. strings) is deprecated. In a future version, these will not be considered matching by isin. Explicitly cast to the appropriate dtype before calling isin instead.\n",
            "  df = df[df.index.isin(dates_dt)]\n",
            "/Users/mirco/Documents/Tesi/code/models/DGDNN/Data/geometric_dataset_gen.py:133: FutureWarning: The behavior of 'isin' with dtype=datetime64[ns] and castable values (e.g. strings) is deprecated. In a future version, these will not be considered matching by isin. Explicitly cast to the appropriate dtype before calling isin instead.\n",
            "  df = df[df.index.isin(dates_dt)]\n",
            "/Users/mirco/Documents/Tesi/code/models/DGDNN/Data/geometric_dataset_gen.py:133: FutureWarning: The behavior of 'isin' with dtype=datetime64[ns] and castable values (e.g. strings) is deprecated. In a future version, these will not be considered matching by isin. Explicitly cast to the appropriate dtype before calling isin instead.\n",
            "  df = df[df.index.isin(dates_dt)]\n",
            "/Users/mirco/Documents/Tesi/code/models/DGDNN/Data/geometric_dataset_gen.py:133: FutureWarning: The behavior of 'isin' with dtype=datetime64[ns] and castable values (e.g. strings) is deprecated. In a future version, these will not be considered matching by isin. Explicitly cast to the appropriate dtype before calling isin instead.\n",
            "  df = df[df.index.isin(dates_dt)]\n",
            "  3%|▎         | 14/416 [00:11<05:17,  1.27it/s]"
          ]
        },
        {
          "name": "stdout",
          "output_type": "stream",
          "text": [
            "Generating graph 14/416...\n"
          ]
        },
        {
          "name": "stderr",
          "output_type": "stream",
          "text": [
            "/Users/mirco/Documents/Tesi/code/models/DGDNN/Data/geometric_dataset_gen.py:133: FutureWarning: The behavior of 'isin' with dtype=datetime64[ns] and castable values (e.g. strings) is deprecated. In a future version, these will not be considered matching by isin. Explicitly cast to the appropriate dtype before calling isin instead.\n",
            "  df = df[df.index.isin(dates_dt)]\n",
            "/Users/mirco/Documents/Tesi/code/models/DGDNN/Data/geometric_dataset_gen.py:133: FutureWarning: The behavior of 'isin' with dtype=datetime64[ns] and castable values (e.g. strings) is deprecated. In a future version, these will not be considered matching by isin. Explicitly cast to the appropriate dtype before calling isin instead.\n",
            "  df = df[df.index.isin(dates_dt)]\n",
            "/Users/mirco/Documents/Tesi/code/models/DGDNN/Data/geometric_dataset_gen.py:133: FutureWarning: The behavior of 'isin' with dtype=datetime64[ns] and castable values (e.g. strings) is deprecated. In a future version, these will not be considered matching by isin. Explicitly cast to the appropriate dtype before calling isin instead.\n",
            "  df = df[df.index.isin(dates_dt)]\n",
            "/Users/mirco/Documents/Tesi/code/models/DGDNN/Data/geometric_dataset_gen.py:133: FutureWarning: The behavior of 'isin' with dtype=datetime64[ns] and castable values (e.g. strings) is deprecated. In a future version, these will not be considered matching by isin. Explicitly cast to the appropriate dtype before calling isin instead.\n",
            "  df = df[df.index.isin(dates_dt)]\n",
            "  4%|▎         | 15/416 [00:12<05:09,  1.29it/s]"
          ]
        },
        {
          "name": "stdout",
          "output_type": "stream",
          "text": [
            "Generating graph 15/416...\n"
          ]
        },
        {
          "name": "stderr",
          "output_type": "stream",
          "text": [
            "/Users/mirco/Documents/Tesi/code/models/DGDNN/Data/geometric_dataset_gen.py:133: FutureWarning: The behavior of 'isin' with dtype=datetime64[ns] and castable values (e.g. strings) is deprecated. In a future version, these will not be considered matching by isin. Explicitly cast to the appropriate dtype before calling isin instead.\n",
            "  df = df[df.index.isin(dates_dt)]\n",
            "/Users/mirco/Documents/Tesi/code/models/DGDNN/Data/geometric_dataset_gen.py:133: FutureWarning: The behavior of 'isin' with dtype=datetime64[ns] and castable values (e.g. strings) is deprecated. In a future version, these will not be considered matching by isin. Explicitly cast to the appropriate dtype before calling isin instead.\n",
            "  df = df[df.index.isin(dates_dt)]\n",
            "/Users/mirco/Documents/Tesi/code/models/DGDNN/Data/geometric_dataset_gen.py:133: FutureWarning: The behavior of 'isin' with dtype=datetime64[ns] and castable values (e.g. strings) is deprecated. In a future version, these will not be considered matching by isin. Explicitly cast to the appropriate dtype before calling isin instead.\n",
            "  df = df[df.index.isin(dates_dt)]\n",
            "/Users/mirco/Documents/Tesi/code/models/DGDNN/Data/geometric_dataset_gen.py:133: FutureWarning: The behavior of 'isin' with dtype=datetime64[ns] and castable values (e.g. strings) is deprecated. In a future version, these will not be considered matching by isin. Explicitly cast to the appropriate dtype before calling isin instead.\n",
            "  df = df[df.index.isin(dates_dt)]\n",
            "  4%|▍         | 16/416 [00:12<05:04,  1.31it/s]"
          ]
        },
        {
          "name": "stdout",
          "output_type": "stream",
          "text": [
            "Generating graph 16/416...\n"
          ]
        },
        {
          "name": "stderr",
          "output_type": "stream",
          "text": [
            "/Users/mirco/Documents/Tesi/code/models/DGDNN/Data/geometric_dataset_gen.py:133: FutureWarning: The behavior of 'isin' with dtype=datetime64[ns] and castable values (e.g. strings) is deprecated. In a future version, these will not be considered matching by isin. Explicitly cast to the appropriate dtype before calling isin instead.\n",
            "  df = df[df.index.isin(dates_dt)]\n",
            "/Users/mirco/Documents/Tesi/code/models/DGDNN/Data/geometric_dataset_gen.py:133: FutureWarning: The behavior of 'isin' with dtype=datetime64[ns] and castable values (e.g. strings) is deprecated. In a future version, these will not be considered matching by isin. Explicitly cast to the appropriate dtype before calling isin instead.\n",
            "  df = df[df.index.isin(dates_dt)]\n",
            "/Users/mirco/Documents/Tesi/code/models/DGDNN/Data/geometric_dataset_gen.py:133: FutureWarning: The behavior of 'isin' with dtype=datetime64[ns] and castable values (e.g. strings) is deprecated. In a future version, these will not be considered matching by isin. Explicitly cast to the appropriate dtype before calling isin instead.\n",
            "  df = df[df.index.isin(dates_dt)]\n",
            "/Users/mirco/Documents/Tesi/code/models/DGDNN/Data/geometric_dataset_gen.py:133: FutureWarning: The behavior of 'isin' with dtype=datetime64[ns] and castable values (e.g. strings) is deprecated. In a future version, these will not be considered matching by isin. Explicitly cast to the appropriate dtype before calling isin instead.\n",
            "  df = df[df.index.isin(dates_dt)]\n",
            "  4%|▍         | 17/416 [00:13<05:19,  1.25it/s]"
          ]
        },
        {
          "name": "stdout",
          "output_type": "stream",
          "text": [
            "Generating graph 17/416...\n"
          ]
        },
        {
          "name": "stderr",
          "output_type": "stream",
          "text": [
            "/Users/mirco/Documents/Tesi/code/models/DGDNN/Data/geometric_dataset_gen.py:133: FutureWarning: The behavior of 'isin' with dtype=datetime64[ns] and castable values (e.g. strings) is deprecated. In a future version, these will not be considered matching by isin. Explicitly cast to the appropriate dtype before calling isin instead.\n",
            "  df = df[df.index.isin(dates_dt)]\n",
            "/Users/mirco/Documents/Tesi/code/models/DGDNN/Data/geometric_dataset_gen.py:133: FutureWarning: The behavior of 'isin' with dtype=datetime64[ns] and castable values (e.g. strings) is deprecated. In a future version, these will not be considered matching by isin. Explicitly cast to the appropriate dtype before calling isin instead.\n",
            "  df = df[df.index.isin(dates_dt)]\n",
            "/Users/mirco/Documents/Tesi/code/models/DGDNN/Data/geometric_dataset_gen.py:133: FutureWarning: The behavior of 'isin' with dtype=datetime64[ns] and castable values (e.g. strings) is deprecated. In a future version, these will not be considered matching by isin. Explicitly cast to the appropriate dtype before calling isin instead.\n",
            "  df = df[df.index.isin(dates_dt)]\n",
            "/Users/mirco/Documents/Tesi/code/models/DGDNN/Data/geometric_dataset_gen.py:133: FutureWarning: The behavior of 'isin' with dtype=datetime64[ns] and castable values (e.g. strings) is deprecated. In a future version, these will not be considered matching by isin. Explicitly cast to the appropriate dtype before calling isin instead.\n",
            "  df = df[df.index.isin(dates_dt)]\n",
            "  4%|▍         | 18/416 [00:14<05:17,  1.25it/s]"
          ]
        },
        {
          "name": "stdout",
          "output_type": "stream",
          "text": [
            "Generating graph 18/416...\n"
          ]
        },
        {
          "name": "stderr",
          "output_type": "stream",
          "text": [
            "/Users/mirco/Documents/Tesi/code/models/DGDNN/Data/geometric_dataset_gen.py:133: FutureWarning: The behavior of 'isin' with dtype=datetime64[ns] and castable values (e.g. strings) is deprecated. In a future version, these will not be considered matching by isin. Explicitly cast to the appropriate dtype before calling isin instead.\n",
            "  df = df[df.index.isin(dates_dt)]\n",
            "/Users/mirco/Documents/Tesi/code/models/DGDNN/Data/geometric_dataset_gen.py:133: FutureWarning: The behavior of 'isin' with dtype=datetime64[ns] and castable values (e.g. strings) is deprecated. In a future version, these will not be considered matching by isin. Explicitly cast to the appropriate dtype before calling isin instead.\n",
            "  df = df[df.index.isin(dates_dt)]\n",
            "/Users/mirco/Documents/Tesi/code/models/DGDNN/Data/geometric_dataset_gen.py:133: FutureWarning: The behavior of 'isin' with dtype=datetime64[ns] and castable values (e.g. strings) is deprecated. In a future version, these will not be considered matching by isin. Explicitly cast to the appropriate dtype before calling isin instead.\n",
            "  df = df[df.index.isin(dates_dt)]\n",
            "/Users/mirco/Documents/Tesi/code/models/DGDNN/Data/geometric_dataset_gen.py:133: FutureWarning: The behavior of 'isin' with dtype=datetime64[ns] and castable values (e.g. strings) is deprecated. In a future version, these will not be considered matching by isin. Explicitly cast to the appropriate dtype before calling isin instead.\n",
            "  df = df[df.index.isin(dates_dt)]\n",
            "  5%|▍         | 19/416 [00:15<05:08,  1.29it/s]"
          ]
        },
        {
          "name": "stdout",
          "output_type": "stream",
          "text": [
            "Generating graph 19/416...\n"
          ]
        },
        {
          "name": "stderr",
          "output_type": "stream",
          "text": [
            "/Users/mirco/Documents/Tesi/code/models/DGDNN/Data/geometric_dataset_gen.py:133: FutureWarning: The behavior of 'isin' with dtype=datetime64[ns] and castable values (e.g. strings) is deprecated. In a future version, these will not be considered matching by isin. Explicitly cast to the appropriate dtype before calling isin instead.\n",
            "  df = df[df.index.isin(dates_dt)]\n",
            "/Users/mirco/Documents/Tesi/code/models/DGDNN/Data/geometric_dataset_gen.py:133: FutureWarning: The behavior of 'isin' with dtype=datetime64[ns] and castable values (e.g. strings) is deprecated. In a future version, these will not be considered matching by isin. Explicitly cast to the appropriate dtype before calling isin instead.\n",
            "  df = df[df.index.isin(dates_dt)]\n",
            "/Users/mirco/Documents/Tesi/code/models/DGDNN/Data/geometric_dataset_gen.py:133: FutureWarning: The behavior of 'isin' with dtype=datetime64[ns] and castable values (e.g. strings) is deprecated. In a future version, these will not be considered matching by isin. Explicitly cast to the appropriate dtype before calling isin instead.\n",
            "  df = df[df.index.isin(dates_dt)]\n",
            "/Users/mirco/Documents/Tesi/code/models/DGDNN/Data/geometric_dataset_gen.py:133: FutureWarning: The behavior of 'isin' with dtype=datetime64[ns] and castable values (e.g. strings) is deprecated. In a future version, these will not be considered matching by isin. Explicitly cast to the appropriate dtype before calling isin instead.\n",
            "  df = df[df.index.isin(dates_dt)]\n",
            "  5%|▍         | 20/416 [00:16<05:16,  1.25it/s]"
          ]
        },
        {
          "name": "stdout",
          "output_type": "stream",
          "text": [
            "Generating graph 20/416...\n"
          ]
        },
        {
          "name": "stderr",
          "output_type": "stream",
          "text": [
            "/Users/mirco/Documents/Tesi/code/models/DGDNN/Data/geometric_dataset_gen.py:133: FutureWarning: The behavior of 'isin' with dtype=datetime64[ns] and castable values (e.g. strings) is deprecated. In a future version, these will not be considered matching by isin. Explicitly cast to the appropriate dtype before calling isin instead.\n",
            "  df = df[df.index.isin(dates_dt)]\n",
            "/Users/mirco/Documents/Tesi/code/models/DGDNN/Data/geometric_dataset_gen.py:133: FutureWarning: The behavior of 'isin' with dtype=datetime64[ns] and castable values (e.g. strings) is deprecated. In a future version, these will not be considered matching by isin. Explicitly cast to the appropriate dtype before calling isin instead.\n",
            "  df = df[df.index.isin(dates_dt)]\n",
            "/Users/mirco/Documents/Tesi/code/models/DGDNN/Data/geometric_dataset_gen.py:133: FutureWarning: The behavior of 'isin' with dtype=datetime64[ns] and castable values (e.g. strings) is deprecated. In a future version, these will not be considered matching by isin. Explicitly cast to the appropriate dtype before calling isin instead.\n",
            "  df = df[df.index.isin(dates_dt)]\n",
            "/Users/mirco/Documents/Tesi/code/models/DGDNN/Data/geometric_dataset_gen.py:133: FutureWarning: The behavior of 'isin' with dtype=datetime64[ns] and castable values (e.g. strings) is deprecated. In a future version, these will not be considered matching by isin. Explicitly cast to the appropriate dtype before calling isin instead.\n",
            "  df = df[df.index.isin(dates_dt)]\n",
            "  5%|▌         | 21/416 [00:16<05:05,  1.29it/s]"
          ]
        },
        {
          "name": "stdout",
          "output_type": "stream",
          "text": [
            "Generating graph 21/416...\n"
          ]
        },
        {
          "name": "stderr",
          "output_type": "stream",
          "text": [
            "/Users/mirco/Documents/Tesi/code/models/DGDNN/Data/geometric_dataset_gen.py:133: FutureWarning: The behavior of 'isin' with dtype=datetime64[ns] and castable values (e.g. strings) is deprecated. In a future version, these will not be considered matching by isin. Explicitly cast to the appropriate dtype before calling isin instead.\n",
            "  df = df[df.index.isin(dates_dt)]\n",
            "/Users/mirco/Documents/Tesi/code/models/DGDNN/Data/geometric_dataset_gen.py:133: FutureWarning: The behavior of 'isin' with dtype=datetime64[ns] and castable values (e.g. strings) is deprecated. In a future version, these will not be considered matching by isin. Explicitly cast to the appropriate dtype before calling isin instead.\n",
            "  df = df[df.index.isin(dates_dt)]\n",
            "/Users/mirco/Documents/Tesi/code/models/DGDNN/Data/geometric_dataset_gen.py:133: FutureWarning: The behavior of 'isin' with dtype=datetime64[ns] and castable values (e.g. strings) is deprecated. In a future version, these will not be considered matching by isin. Explicitly cast to the appropriate dtype before calling isin instead.\n",
            "  df = df[df.index.isin(dates_dt)]\n",
            "/Users/mirco/Documents/Tesi/code/models/DGDNN/Data/geometric_dataset_gen.py:133: FutureWarning: The behavior of 'isin' with dtype=datetime64[ns] and castable values (e.g. strings) is deprecated. In a future version, these will not be considered matching by isin. Explicitly cast to the appropriate dtype before calling isin instead.\n",
            "  df = df[df.index.isin(dates_dt)]\n",
            "  5%|▌         | 22/416 [00:17<04:59,  1.32it/s]"
          ]
        },
        {
          "name": "stdout",
          "output_type": "stream",
          "text": [
            "Generating graph 22/416...\n"
          ]
        },
        {
          "name": "stderr",
          "output_type": "stream",
          "text": [
            "/Users/mirco/Documents/Tesi/code/models/DGDNN/Data/geometric_dataset_gen.py:133: FutureWarning: The behavior of 'isin' with dtype=datetime64[ns] and castable values (e.g. strings) is deprecated. In a future version, these will not be considered matching by isin. Explicitly cast to the appropriate dtype before calling isin instead.\n",
            "  df = df[df.index.isin(dates_dt)]\n",
            "/Users/mirco/Documents/Tesi/code/models/DGDNN/Data/geometric_dataset_gen.py:133: FutureWarning: The behavior of 'isin' with dtype=datetime64[ns] and castable values (e.g. strings) is deprecated. In a future version, these will not be considered matching by isin. Explicitly cast to the appropriate dtype before calling isin instead.\n",
            "  df = df[df.index.isin(dates_dt)]\n",
            "/Users/mirco/Documents/Tesi/code/models/DGDNN/Data/geometric_dataset_gen.py:133: FutureWarning: The behavior of 'isin' with dtype=datetime64[ns] and castable values (e.g. strings) is deprecated. In a future version, these will not be considered matching by isin. Explicitly cast to the appropriate dtype before calling isin instead.\n",
            "  df = df[df.index.isin(dates_dt)]\n",
            "/Users/mirco/Documents/Tesi/code/models/DGDNN/Data/geometric_dataset_gen.py:133: FutureWarning: The behavior of 'isin' with dtype=datetime64[ns] and castable values (e.g. strings) is deprecated. In a future version, these will not be considered matching by isin. Explicitly cast to the appropriate dtype before calling isin instead.\n",
            "  df = df[df.index.isin(dates_dt)]\n",
            "  6%|▌         | 23/416 [00:18<04:53,  1.34it/s]"
          ]
        },
        {
          "name": "stdout",
          "output_type": "stream",
          "text": [
            "Generating graph 23/416...\n"
          ]
        },
        {
          "name": "stderr",
          "output_type": "stream",
          "text": [
            "/Users/mirco/Documents/Tesi/code/models/DGDNN/Data/geometric_dataset_gen.py:133: FutureWarning: The behavior of 'isin' with dtype=datetime64[ns] and castable values (e.g. strings) is deprecated. In a future version, these will not be considered matching by isin. Explicitly cast to the appropriate dtype before calling isin instead.\n",
            "  df = df[df.index.isin(dates_dt)]\n",
            "/Users/mirco/Documents/Tesi/code/models/DGDNN/Data/geometric_dataset_gen.py:133: FutureWarning: The behavior of 'isin' with dtype=datetime64[ns] and castable values (e.g. strings) is deprecated. In a future version, these will not be considered matching by isin. Explicitly cast to the appropriate dtype before calling isin instead.\n",
            "  df = df[df.index.isin(dates_dt)]\n",
            "/Users/mirco/Documents/Tesi/code/models/DGDNN/Data/geometric_dataset_gen.py:133: FutureWarning: The behavior of 'isin' with dtype=datetime64[ns] and castable values (e.g. strings) is deprecated. In a future version, these will not be considered matching by isin. Explicitly cast to the appropriate dtype before calling isin instead.\n",
            "  df = df[df.index.isin(dates_dt)]\n",
            "/Users/mirco/Documents/Tesi/code/models/DGDNN/Data/geometric_dataset_gen.py:133: FutureWarning: The behavior of 'isin' with dtype=datetime64[ns] and castable values (e.g. strings) is deprecated. In a future version, these will not be considered matching by isin. Explicitly cast to the appropriate dtype before calling isin instead.\n",
            "  df = df[df.index.isin(dates_dt)]\n",
            "  6%|▌         | 24/416 [00:19<05:03,  1.29it/s]"
          ]
        },
        {
          "name": "stdout",
          "output_type": "stream",
          "text": [
            "Generating graph 24/416...\n"
          ]
        },
        {
          "name": "stderr",
          "output_type": "stream",
          "text": [
            "/Users/mirco/Documents/Tesi/code/models/DGDNN/Data/geometric_dataset_gen.py:133: FutureWarning: The behavior of 'isin' with dtype=datetime64[ns] and castable values (e.g. strings) is deprecated. In a future version, these will not be considered matching by isin. Explicitly cast to the appropriate dtype before calling isin instead.\n",
            "  df = df[df.index.isin(dates_dt)]\n",
            "/Users/mirco/Documents/Tesi/code/models/DGDNN/Data/geometric_dataset_gen.py:133: FutureWarning: The behavior of 'isin' with dtype=datetime64[ns] and castable values (e.g. strings) is deprecated. In a future version, these will not be considered matching by isin. Explicitly cast to the appropriate dtype before calling isin instead.\n",
            "  df = df[df.index.isin(dates_dt)]\n",
            "/Users/mirco/Documents/Tesi/code/models/DGDNN/Data/geometric_dataset_gen.py:133: FutureWarning: The behavior of 'isin' with dtype=datetime64[ns] and castable values (e.g. strings) is deprecated. In a future version, these will not be considered matching by isin. Explicitly cast to the appropriate dtype before calling isin instead.\n",
            "  df = df[df.index.isin(dates_dt)]\n",
            "/Users/mirco/Documents/Tesi/code/models/DGDNN/Data/geometric_dataset_gen.py:133: FutureWarning: The behavior of 'isin' with dtype=datetime64[ns] and castable values (e.g. strings) is deprecated. In a future version, these will not be considered matching by isin. Explicitly cast to the appropriate dtype before calling isin instead.\n",
            "  df = df[df.index.isin(dates_dt)]\n",
            "  6%|▌         | 25/416 [00:19<04:55,  1.32it/s]"
          ]
        },
        {
          "name": "stdout",
          "output_type": "stream",
          "text": [
            "Generating graph 25/416...\n"
          ]
        },
        {
          "name": "stderr",
          "output_type": "stream",
          "text": [
            "/Users/mirco/Documents/Tesi/code/models/DGDNN/Data/geometric_dataset_gen.py:133: FutureWarning: The behavior of 'isin' with dtype=datetime64[ns] and castable values (e.g. strings) is deprecated. In a future version, these will not be considered matching by isin. Explicitly cast to the appropriate dtype before calling isin instead.\n",
            "  df = df[df.index.isin(dates_dt)]\n",
            "/Users/mirco/Documents/Tesi/code/models/DGDNN/Data/geometric_dataset_gen.py:133: FutureWarning: The behavior of 'isin' with dtype=datetime64[ns] and castable values (e.g. strings) is deprecated. In a future version, these will not be considered matching by isin. Explicitly cast to the appropriate dtype before calling isin instead.\n",
            "  df = df[df.index.isin(dates_dt)]\n",
            "/Users/mirco/Documents/Tesi/code/models/DGDNN/Data/geometric_dataset_gen.py:133: FutureWarning: The behavior of 'isin' with dtype=datetime64[ns] and castable values (e.g. strings) is deprecated. In a future version, these will not be considered matching by isin. Explicitly cast to the appropriate dtype before calling isin instead.\n",
            "  df = df[df.index.isin(dates_dt)]\n",
            "/Users/mirco/Documents/Tesi/code/models/DGDNN/Data/geometric_dataset_gen.py:133: FutureWarning: The behavior of 'isin' with dtype=datetime64[ns] and castable values (e.g. strings) is deprecated. In a future version, these will not be considered matching by isin. Explicitly cast to the appropriate dtype before calling isin instead.\n",
            "  df = df[df.index.isin(dates_dt)]\n",
            "  6%|▋         | 26/416 [00:20<05:14,  1.24it/s]"
          ]
        },
        {
          "name": "stdout",
          "output_type": "stream",
          "text": [
            "Generating graph 26/416...\n"
          ]
        },
        {
          "name": "stderr",
          "output_type": "stream",
          "text": [
            "/Users/mirco/Documents/Tesi/code/models/DGDNN/Data/geometric_dataset_gen.py:133: FutureWarning: The behavior of 'isin' with dtype=datetime64[ns] and castable values (e.g. strings) is deprecated. In a future version, these will not be considered matching by isin. Explicitly cast to the appropriate dtype before calling isin instead.\n",
            "  df = df[df.index.isin(dates_dt)]\n",
            "/Users/mirco/Documents/Tesi/code/models/DGDNN/Data/geometric_dataset_gen.py:133: FutureWarning: The behavior of 'isin' with dtype=datetime64[ns] and castable values (e.g. strings) is deprecated. In a future version, these will not be considered matching by isin. Explicitly cast to the appropriate dtype before calling isin instead.\n",
            "  df = df[df.index.isin(dates_dt)]\n",
            "/Users/mirco/Documents/Tesi/code/models/DGDNN/Data/geometric_dataset_gen.py:133: FutureWarning: The behavior of 'isin' with dtype=datetime64[ns] and castable values (e.g. strings) is deprecated. In a future version, these will not be considered matching by isin. Explicitly cast to the appropriate dtype before calling isin instead.\n",
            "  df = df[df.index.isin(dates_dt)]\n",
            "/Users/mirco/Documents/Tesi/code/models/DGDNN/Data/geometric_dataset_gen.py:133: FutureWarning: The behavior of 'isin' with dtype=datetime64[ns] and castable values (e.g. strings) is deprecated. In a future version, these will not be considered matching by isin. Explicitly cast to the appropriate dtype before calling isin instead.\n",
            "  df = df[df.index.isin(dates_dt)]\n",
            "  6%|▋         | 27/416 [00:21<05:06,  1.27it/s]"
          ]
        },
        {
          "name": "stdout",
          "output_type": "stream",
          "text": [
            "Generating graph 27/416...\n"
          ]
        },
        {
          "name": "stderr",
          "output_type": "stream",
          "text": [
            "/Users/mirco/Documents/Tesi/code/models/DGDNN/Data/geometric_dataset_gen.py:133: FutureWarning: The behavior of 'isin' with dtype=datetime64[ns] and castable values (e.g. strings) is deprecated. In a future version, these will not be considered matching by isin. Explicitly cast to the appropriate dtype before calling isin instead.\n",
            "  df = df[df.index.isin(dates_dt)]\n",
            "/Users/mirco/Documents/Tesi/code/models/DGDNN/Data/geometric_dataset_gen.py:133: FutureWarning: The behavior of 'isin' with dtype=datetime64[ns] and castable values (e.g. strings) is deprecated. In a future version, these will not be considered matching by isin. Explicitly cast to the appropriate dtype before calling isin instead.\n",
            "  df = df[df.index.isin(dates_dt)]\n",
            "/Users/mirco/Documents/Tesi/code/models/DGDNN/Data/geometric_dataset_gen.py:133: FutureWarning: The behavior of 'isin' with dtype=datetime64[ns] and castable values (e.g. strings) is deprecated. In a future version, these will not be considered matching by isin. Explicitly cast to the appropriate dtype before calling isin instead.\n",
            "  df = df[df.index.isin(dates_dt)]\n",
            "/Users/mirco/Documents/Tesi/code/models/DGDNN/Data/geometric_dataset_gen.py:133: FutureWarning: The behavior of 'isin' with dtype=datetime64[ns] and castable values (e.g. strings) is deprecated. In a future version, these will not be considered matching by isin. Explicitly cast to the appropriate dtype before calling isin instead.\n",
            "  df = df[df.index.isin(dates_dt)]\n",
            "  7%|▋         | 28/416 [00:22<04:56,  1.31it/s]"
          ]
        },
        {
          "name": "stdout",
          "output_type": "stream",
          "text": [
            "Generating graph 28/416...\n"
          ]
        },
        {
          "name": "stderr",
          "output_type": "stream",
          "text": [
            "/Users/mirco/Documents/Tesi/code/models/DGDNN/Data/geometric_dataset_gen.py:133: FutureWarning: The behavior of 'isin' with dtype=datetime64[ns] and castable values (e.g. strings) is deprecated. In a future version, these will not be considered matching by isin. Explicitly cast to the appropriate dtype before calling isin instead.\n",
            "  df = df[df.index.isin(dates_dt)]\n",
            "/Users/mirco/Documents/Tesi/code/models/DGDNN/Data/geometric_dataset_gen.py:133: FutureWarning: The behavior of 'isin' with dtype=datetime64[ns] and castable values (e.g. strings) is deprecated. In a future version, these will not be considered matching by isin. Explicitly cast to the appropriate dtype before calling isin instead.\n",
            "  df = df[df.index.isin(dates_dt)]\n",
            "/Users/mirco/Documents/Tesi/code/models/DGDNN/Data/geometric_dataset_gen.py:133: FutureWarning: The behavior of 'isin' with dtype=datetime64[ns] and castable values (e.g. strings) is deprecated. In a future version, these will not be considered matching by isin. Explicitly cast to the appropriate dtype before calling isin instead.\n",
            "  df = df[df.index.isin(dates_dt)]\n",
            "/Users/mirco/Documents/Tesi/code/models/DGDNN/Data/geometric_dataset_gen.py:133: FutureWarning: The behavior of 'isin' with dtype=datetime64[ns] and castable values (e.g. strings) is deprecated. In a future version, these will not be considered matching by isin. Explicitly cast to the appropriate dtype before calling isin instead.\n",
            "  df = df[df.index.isin(dates_dt)]\n",
            "  7%|▋         | 29/416 [00:23<04:49,  1.33it/s]"
          ]
        },
        {
          "name": "stdout",
          "output_type": "stream",
          "text": [
            "Generating graph 29/416...\n"
          ]
        },
        {
          "name": "stderr",
          "output_type": "stream",
          "text": [
            "/Users/mirco/Documents/Tesi/code/models/DGDNN/Data/geometric_dataset_gen.py:133: FutureWarning: The behavior of 'isin' with dtype=datetime64[ns] and castable values (e.g. strings) is deprecated. In a future version, these will not be considered matching by isin. Explicitly cast to the appropriate dtype before calling isin instead.\n",
            "  df = df[df.index.isin(dates_dt)]\n",
            "/Users/mirco/Documents/Tesi/code/models/DGDNN/Data/geometric_dataset_gen.py:133: FutureWarning: The behavior of 'isin' with dtype=datetime64[ns] and castable values (e.g. strings) is deprecated. In a future version, these will not be considered matching by isin. Explicitly cast to the appropriate dtype before calling isin instead.\n",
            "  df = df[df.index.isin(dates_dt)]\n",
            "/Users/mirco/Documents/Tesi/code/models/DGDNN/Data/geometric_dataset_gen.py:133: FutureWarning: The behavior of 'isin' with dtype=datetime64[ns] and castable values (e.g. strings) is deprecated. In a future version, these will not be considered matching by isin. Explicitly cast to the appropriate dtype before calling isin instead.\n",
            "  df = df[df.index.isin(dates_dt)]\n",
            "/Users/mirco/Documents/Tesi/code/models/DGDNN/Data/geometric_dataset_gen.py:133: FutureWarning: The behavior of 'isin' with dtype=datetime64[ns] and castable values (e.g. strings) is deprecated. In a future version, these will not be considered matching by isin. Explicitly cast to the appropriate dtype before calling isin instead.\n",
            "  df = df[df.index.isin(dates_dt)]\n",
            "  7%|▋         | 30/416 [00:23<04:57,  1.30it/s]"
          ]
        },
        {
          "name": "stdout",
          "output_type": "stream",
          "text": [
            "Generating graph 30/416...\n"
          ]
        },
        {
          "name": "stderr",
          "output_type": "stream",
          "text": [
            "/Users/mirco/Documents/Tesi/code/models/DGDNN/Data/geometric_dataset_gen.py:133: FutureWarning: The behavior of 'isin' with dtype=datetime64[ns] and castable values (e.g. strings) is deprecated. In a future version, these will not be considered matching by isin. Explicitly cast to the appropriate dtype before calling isin instead.\n",
            "  df = df[df.index.isin(dates_dt)]\n",
            "/Users/mirco/Documents/Tesi/code/models/DGDNN/Data/geometric_dataset_gen.py:133: FutureWarning: The behavior of 'isin' with dtype=datetime64[ns] and castable values (e.g. strings) is deprecated. In a future version, these will not be considered matching by isin. Explicitly cast to the appropriate dtype before calling isin instead.\n",
            "  df = df[df.index.isin(dates_dt)]\n",
            "/Users/mirco/Documents/Tesi/code/models/DGDNN/Data/geometric_dataset_gen.py:133: FutureWarning: The behavior of 'isin' with dtype=datetime64[ns] and castable values (e.g. strings) is deprecated. In a future version, these will not be considered matching by isin. Explicitly cast to the appropriate dtype before calling isin instead.\n",
            "  df = df[df.index.isin(dates_dt)]\n",
            "/Users/mirco/Documents/Tesi/code/models/DGDNN/Data/geometric_dataset_gen.py:133: FutureWarning: The behavior of 'isin' with dtype=datetime64[ns] and castable values (e.g. strings) is deprecated. In a future version, these will not be considered matching by isin. Explicitly cast to the appropriate dtype before calling isin instead.\n",
            "  df = df[df.index.isin(dates_dt)]\n",
            "  7%|▋         | 31/416 [00:24<04:50,  1.33it/s]"
          ]
        },
        {
          "name": "stdout",
          "output_type": "stream",
          "text": [
            "Generating graph 31/416...\n"
          ]
        },
        {
          "name": "stderr",
          "output_type": "stream",
          "text": [
            "/Users/mirco/Documents/Tesi/code/models/DGDNN/Data/geometric_dataset_gen.py:133: FutureWarning: The behavior of 'isin' with dtype=datetime64[ns] and castable values (e.g. strings) is deprecated. In a future version, these will not be considered matching by isin. Explicitly cast to the appropriate dtype before calling isin instead.\n",
            "  df = df[df.index.isin(dates_dt)]\n",
            "/Users/mirco/Documents/Tesi/code/models/DGDNN/Data/geometric_dataset_gen.py:133: FutureWarning: The behavior of 'isin' with dtype=datetime64[ns] and castable values (e.g. strings) is deprecated. In a future version, these will not be considered matching by isin. Explicitly cast to the appropriate dtype before calling isin instead.\n",
            "  df = df[df.index.isin(dates_dt)]\n",
            "/Users/mirco/Documents/Tesi/code/models/DGDNN/Data/geometric_dataset_gen.py:133: FutureWarning: The behavior of 'isin' with dtype=datetime64[ns] and castable values (e.g. strings) is deprecated. In a future version, these will not be considered matching by isin. Explicitly cast to the appropriate dtype before calling isin instead.\n",
            "  df = df[df.index.isin(dates_dt)]\n",
            "/Users/mirco/Documents/Tesi/code/models/DGDNN/Data/geometric_dataset_gen.py:133: FutureWarning: The behavior of 'isin' with dtype=datetime64[ns] and castable values (e.g. strings) is deprecated. In a future version, these will not be considered matching by isin. Explicitly cast to the appropriate dtype before calling isin instead.\n",
            "  df = df[df.index.isin(dates_dt)]\n",
            "  8%|▊         | 32/416 [00:25<04:43,  1.35it/s]"
          ]
        },
        {
          "name": "stdout",
          "output_type": "stream",
          "text": [
            "Generating graph 32/416...\n"
          ]
        },
        {
          "name": "stderr",
          "output_type": "stream",
          "text": [
            "/Users/mirco/Documents/Tesi/code/models/DGDNN/Data/geometric_dataset_gen.py:133: FutureWarning: The behavior of 'isin' with dtype=datetime64[ns] and castable values (e.g. strings) is deprecated. In a future version, these will not be considered matching by isin. Explicitly cast to the appropriate dtype before calling isin instead.\n",
            "  df = df[df.index.isin(dates_dt)]\n",
            "/Users/mirco/Documents/Tesi/code/models/DGDNN/Data/geometric_dataset_gen.py:133: FutureWarning: The behavior of 'isin' with dtype=datetime64[ns] and castable values (e.g. strings) is deprecated. In a future version, these will not be considered matching by isin. Explicitly cast to the appropriate dtype before calling isin instead.\n",
            "  df = df[df.index.isin(dates_dt)]\n",
            "/Users/mirco/Documents/Tesi/code/models/DGDNN/Data/geometric_dataset_gen.py:133: FutureWarning: The behavior of 'isin' with dtype=datetime64[ns] and castable values (e.g. strings) is deprecated. In a future version, these will not be considered matching by isin. Explicitly cast to the appropriate dtype before calling isin instead.\n",
            "  df = df[df.index.isin(dates_dt)]\n",
            "/Users/mirco/Documents/Tesi/code/models/DGDNN/Data/geometric_dataset_gen.py:133: FutureWarning: The behavior of 'isin' with dtype=datetime64[ns] and castable values (e.g. strings) is deprecated. In a future version, these will not be considered matching by isin. Explicitly cast to the appropriate dtype before calling isin instead.\n",
            "  df = df[df.index.isin(dates_dt)]\n",
            "  8%|▊         | 33/416 [00:26<04:50,  1.32it/s]"
          ]
        },
        {
          "name": "stdout",
          "output_type": "stream",
          "text": [
            "Generating graph 33/416...\n"
          ]
        },
        {
          "name": "stderr",
          "output_type": "stream",
          "text": [
            "/Users/mirco/Documents/Tesi/code/models/DGDNN/Data/geometric_dataset_gen.py:133: FutureWarning: The behavior of 'isin' with dtype=datetime64[ns] and castable values (e.g. strings) is deprecated. In a future version, these will not be considered matching by isin. Explicitly cast to the appropriate dtype before calling isin instead.\n",
            "  df = df[df.index.isin(dates_dt)]\n",
            "/Users/mirco/Documents/Tesi/code/models/DGDNN/Data/geometric_dataset_gen.py:133: FutureWarning: The behavior of 'isin' with dtype=datetime64[ns] and castable values (e.g. strings) is deprecated. In a future version, these will not be considered matching by isin. Explicitly cast to the appropriate dtype before calling isin instead.\n",
            "  df = df[df.index.isin(dates_dt)]\n",
            "/Users/mirco/Documents/Tesi/code/models/DGDNN/Data/geometric_dataset_gen.py:133: FutureWarning: The behavior of 'isin' with dtype=datetime64[ns] and castable values (e.g. strings) is deprecated. In a future version, these will not be considered matching by isin. Explicitly cast to the appropriate dtype before calling isin instead.\n",
            "  df = df[df.index.isin(dates_dt)]\n",
            "/Users/mirco/Documents/Tesi/code/models/DGDNN/Data/geometric_dataset_gen.py:133: FutureWarning: The behavior of 'isin' with dtype=datetime64[ns] and castable values (e.g. strings) is deprecated. In a future version, these will not be considered matching by isin. Explicitly cast to the appropriate dtype before calling isin instead.\n",
            "  df = df[df.index.isin(dates_dt)]\n",
            "  8%|▊         | 34/416 [00:26<04:57,  1.28it/s]"
          ]
        },
        {
          "name": "stdout",
          "output_type": "stream",
          "text": [
            "Generating graph 34/416...\n"
          ]
        },
        {
          "name": "stderr",
          "output_type": "stream",
          "text": [
            "/Users/mirco/Documents/Tesi/code/models/DGDNN/Data/geometric_dataset_gen.py:133: FutureWarning: The behavior of 'isin' with dtype=datetime64[ns] and castable values (e.g. strings) is deprecated. In a future version, these will not be considered matching by isin. Explicitly cast to the appropriate dtype before calling isin instead.\n",
            "  df = df[df.index.isin(dates_dt)]\n",
            "/Users/mirco/Documents/Tesi/code/models/DGDNN/Data/geometric_dataset_gen.py:133: FutureWarning: The behavior of 'isin' with dtype=datetime64[ns] and castable values (e.g. strings) is deprecated. In a future version, these will not be considered matching by isin. Explicitly cast to the appropriate dtype before calling isin instead.\n",
            "  df = df[df.index.isin(dates_dt)]\n",
            "/Users/mirco/Documents/Tesi/code/models/DGDNN/Data/geometric_dataset_gen.py:133: FutureWarning: The behavior of 'isin' with dtype=datetime64[ns] and castable values (e.g. strings) is deprecated. In a future version, these will not be considered matching by isin. Explicitly cast to the appropriate dtype before calling isin instead.\n",
            "  df = df[df.index.isin(dates_dt)]\n",
            "/Users/mirco/Documents/Tesi/code/models/DGDNN/Data/geometric_dataset_gen.py:133: FutureWarning: The behavior of 'isin' with dtype=datetime64[ns] and castable values (e.g. strings) is deprecated. In a future version, these will not be considered matching by isin. Explicitly cast to the appropriate dtype before calling isin instead.\n",
            "  df = df[df.index.isin(dates_dt)]\n",
            "  8%|▊         | 35/416 [00:27<04:50,  1.31it/s]"
          ]
        },
        {
          "name": "stdout",
          "output_type": "stream",
          "text": [
            "Generating graph 35/416...\n"
          ]
        },
        {
          "name": "stderr",
          "output_type": "stream",
          "text": [
            "/Users/mirco/Documents/Tesi/code/models/DGDNN/Data/geometric_dataset_gen.py:133: FutureWarning: The behavior of 'isin' with dtype=datetime64[ns] and castable values (e.g. strings) is deprecated. In a future version, these will not be considered matching by isin. Explicitly cast to the appropriate dtype before calling isin instead.\n",
            "  df = df[df.index.isin(dates_dt)]\n",
            "/Users/mirco/Documents/Tesi/code/models/DGDNN/Data/geometric_dataset_gen.py:133: FutureWarning: The behavior of 'isin' with dtype=datetime64[ns] and castable values (e.g. strings) is deprecated. In a future version, these will not be considered matching by isin. Explicitly cast to the appropriate dtype before calling isin instead.\n",
            "  df = df[df.index.isin(dates_dt)]\n",
            "/Users/mirco/Documents/Tesi/code/models/DGDNN/Data/geometric_dataset_gen.py:133: FutureWarning: The behavior of 'isin' with dtype=datetime64[ns] and castable values (e.g. strings) is deprecated. In a future version, these will not be considered matching by isin. Explicitly cast to the appropriate dtype before calling isin instead.\n",
            "  df = df[df.index.isin(dates_dt)]\n",
            "/Users/mirco/Documents/Tesi/code/models/DGDNN/Data/geometric_dataset_gen.py:133: FutureWarning: The behavior of 'isin' with dtype=datetime64[ns] and castable values (e.g. strings) is deprecated. In a future version, these will not be considered matching by isin. Explicitly cast to the appropriate dtype before calling isin instead.\n",
            "  df = df[df.index.isin(dates_dt)]\n",
            "  9%|▊         | 36/416 [00:28<04:43,  1.34it/s]"
          ]
        },
        {
          "name": "stdout",
          "output_type": "stream",
          "text": [
            "Generating graph 36/416...\n"
          ]
        },
        {
          "name": "stderr",
          "output_type": "stream",
          "text": [
            "/Users/mirco/Documents/Tesi/code/models/DGDNN/Data/geometric_dataset_gen.py:133: FutureWarning: The behavior of 'isin' with dtype=datetime64[ns] and castable values (e.g. strings) is deprecated. In a future version, these will not be considered matching by isin. Explicitly cast to the appropriate dtype before calling isin instead.\n",
            "  df = df[df.index.isin(dates_dt)]\n",
            "/Users/mirco/Documents/Tesi/code/models/DGDNN/Data/geometric_dataset_gen.py:133: FutureWarning: The behavior of 'isin' with dtype=datetime64[ns] and castable values (e.g. strings) is deprecated. In a future version, these will not be considered matching by isin. Explicitly cast to the appropriate dtype before calling isin instead.\n",
            "  df = df[df.index.isin(dates_dt)]\n",
            "/Users/mirco/Documents/Tesi/code/models/DGDNN/Data/geometric_dataset_gen.py:133: FutureWarning: The behavior of 'isin' with dtype=datetime64[ns] and castable values (e.g. strings) is deprecated. In a future version, these will not be considered matching by isin. Explicitly cast to the appropriate dtype before calling isin instead.\n",
            "  df = df[df.index.isin(dates_dt)]\n",
            "/Users/mirco/Documents/Tesi/code/models/DGDNN/Data/geometric_dataset_gen.py:133: FutureWarning: The behavior of 'isin' with dtype=datetime64[ns] and castable values (e.g. strings) is deprecated. In a future version, these will not be considered matching by isin. Explicitly cast to the appropriate dtype before calling isin instead.\n",
            "  df = df[df.index.isin(dates_dt)]\n",
            "  9%|▉         | 37/416 [00:29<04:52,  1.29it/s]"
          ]
        },
        {
          "name": "stdout",
          "output_type": "stream",
          "text": [
            "Generating graph 37/416...\n"
          ]
        },
        {
          "name": "stderr",
          "output_type": "stream",
          "text": [
            "/Users/mirco/Documents/Tesi/code/models/DGDNN/Data/geometric_dataset_gen.py:133: FutureWarning: The behavior of 'isin' with dtype=datetime64[ns] and castable values (e.g. strings) is deprecated. In a future version, these will not be considered matching by isin. Explicitly cast to the appropriate dtype before calling isin instead.\n",
            "  df = df[df.index.isin(dates_dt)]\n",
            "/Users/mirco/Documents/Tesi/code/models/DGDNN/Data/geometric_dataset_gen.py:133: FutureWarning: The behavior of 'isin' with dtype=datetime64[ns] and castable values (e.g. strings) is deprecated. In a future version, these will not be considered matching by isin. Explicitly cast to the appropriate dtype before calling isin instead.\n",
            "  df = df[df.index.isin(dates_dt)]\n",
            "/Users/mirco/Documents/Tesi/code/models/DGDNN/Data/geometric_dataset_gen.py:133: FutureWarning: The behavior of 'isin' with dtype=datetime64[ns] and castable values (e.g. strings) is deprecated. In a future version, these will not be considered matching by isin. Explicitly cast to the appropriate dtype before calling isin instead.\n",
            "  df = df[df.index.isin(dates_dt)]\n",
            "/Users/mirco/Documents/Tesi/code/models/DGDNN/Data/geometric_dataset_gen.py:133: FutureWarning: The behavior of 'isin' with dtype=datetime64[ns] and castable values (e.g. strings) is deprecated. In a future version, these will not be considered matching by isin. Explicitly cast to the appropriate dtype before calling isin instead.\n",
            "  df = df[df.index.isin(dates_dt)]\n",
            "  9%|▉         | 38/416 [00:29<04:50,  1.30it/s]"
          ]
        },
        {
          "name": "stdout",
          "output_type": "stream",
          "text": [
            "Generating graph 38/416...\n"
          ]
        },
        {
          "name": "stderr",
          "output_type": "stream",
          "text": [
            "/Users/mirco/Documents/Tesi/code/models/DGDNN/Data/geometric_dataset_gen.py:133: FutureWarning: The behavior of 'isin' with dtype=datetime64[ns] and castable values (e.g. strings) is deprecated. In a future version, these will not be considered matching by isin. Explicitly cast to the appropriate dtype before calling isin instead.\n",
            "  df = df[df.index.isin(dates_dt)]\n",
            "/Users/mirco/Documents/Tesi/code/models/DGDNN/Data/geometric_dataset_gen.py:133: FutureWarning: The behavior of 'isin' with dtype=datetime64[ns] and castable values (e.g. strings) is deprecated. In a future version, these will not be considered matching by isin. Explicitly cast to the appropriate dtype before calling isin instead.\n",
            "  df = df[df.index.isin(dates_dt)]\n",
            "/Users/mirco/Documents/Tesi/code/models/DGDNN/Data/geometric_dataset_gen.py:133: FutureWarning: The behavior of 'isin' with dtype=datetime64[ns] and castable values (e.g. strings) is deprecated. In a future version, these will not be considered matching by isin. Explicitly cast to the appropriate dtype before calling isin instead.\n",
            "  df = df[df.index.isin(dates_dt)]\n",
            "/Users/mirco/Documents/Tesi/code/models/DGDNN/Data/geometric_dataset_gen.py:133: FutureWarning: The behavior of 'isin' with dtype=datetime64[ns] and castable values (e.g. strings) is deprecated. In a future version, these will not be considered matching by isin. Explicitly cast to the appropriate dtype before calling isin instead.\n",
            "  df = df[df.index.isin(dates_dt)]\n",
            "  9%|▉         | 39/416 [00:30<04:43,  1.33it/s]"
          ]
        },
        {
          "name": "stdout",
          "output_type": "stream",
          "text": [
            "Generating graph 39/416...\n"
          ]
        },
        {
          "name": "stderr",
          "output_type": "stream",
          "text": [
            "/Users/mirco/Documents/Tesi/code/models/DGDNN/Data/geometric_dataset_gen.py:133: FutureWarning: The behavior of 'isin' with dtype=datetime64[ns] and castable values (e.g. strings) is deprecated. In a future version, these will not be considered matching by isin. Explicitly cast to the appropriate dtype before calling isin instead.\n",
            "  df = df[df.index.isin(dates_dt)]\n",
            "/Users/mirco/Documents/Tesi/code/models/DGDNN/Data/geometric_dataset_gen.py:133: FutureWarning: The behavior of 'isin' with dtype=datetime64[ns] and castable values (e.g. strings) is deprecated. In a future version, these will not be considered matching by isin. Explicitly cast to the appropriate dtype before calling isin instead.\n",
            "  df = df[df.index.isin(dates_dt)]\n",
            "/Users/mirco/Documents/Tesi/code/models/DGDNN/Data/geometric_dataset_gen.py:133: FutureWarning: The behavior of 'isin' with dtype=datetime64[ns] and castable values (e.g. strings) is deprecated. In a future version, these will not be considered matching by isin. Explicitly cast to the appropriate dtype before calling isin instead.\n",
            "  df = df[df.index.isin(dates_dt)]\n",
            "/Users/mirco/Documents/Tesi/code/models/DGDNN/Data/geometric_dataset_gen.py:133: FutureWarning: The behavior of 'isin' with dtype=datetime64[ns] and castable values (e.g. strings) is deprecated. In a future version, these will not be considered matching by isin. Explicitly cast to the appropriate dtype before calling isin instead.\n",
            "  df = df[df.index.isin(dates_dt)]\n",
            " 10%|▉         | 40/416 [00:31<04:37,  1.35it/s]"
          ]
        },
        {
          "name": "stdout",
          "output_type": "stream",
          "text": [
            "Generating graph 40/416...\n"
          ]
        },
        {
          "name": "stderr",
          "output_type": "stream",
          "text": [
            "/Users/mirco/Documents/Tesi/code/models/DGDNN/Data/geometric_dataset_gen.py:133: FutureWarning: The behavior of 'isin' with dtype=datetime64[ns] and castable values (e.g. strings) is deprecated. In a future version, these will not be considered matching by isin. Explicitly cast to the appropriate dtype before calling isin instead.\n",
            "  df = df[df.index.isin(dates_dt)]\n",
            "/Users/mirco/Documents/Tesi/code/models/DGDNN/Data/geometric_dataset_gen.py:133: FutureWarning: The behavior of 'isin' with dtype=datetime64[ns] and castable values (e.g. strings) is deprecated. In a future version, these will not be considered matching by isin. Explicitly cast to the appropriate dtype before calling isin instead.\n",
            "  df = df[df.index.isin(dates_dt)]\n",
            "/Users/mirco/Documents/Tesi/code/models/DGDNN/Data/geometric_dataset_gen.py:133: FutureWarning: The behavior of 'isin' with dtype=datetime64[ns] and castable values (e.g. strings) is deprecated. In a future version, these will not be considered matching by isin. Explicitly cast to the appropriate dtype before calling isin instead.\n",
            "  df = df[df.index.isin(dates_dt)]\n",
            "/Users/mirco/Documents/Tesi/code/models/DGDNN/Data/geometric_dataset_gen.py:133: FutureWarning: The behavior of 'isin' with dtype=datetime64[ns] and castable values (e.g. strings) is deprecated. In a future version, these will not be considered matching by isin. Explicitly cast to the appropriate dtype before calling isin instead.\n",
            "  df = df[df.index.isin(dates_dt)]\n",
            " 10%|▉         | 41/416 [00:32<04:58,  1.26it/s]"
          ]
        },
        {
          "name": "stdout",
          "output_type": "stream",
          "text": [
            "Generating graph 41/416...\n"
          ]
        },
        {
          "name": "stderr",
          "output_type": "stream",
          "text": [
            "/Users/mirco/Documents/Tesi/code/models/DGDNN/Data/geometric_dataset_gen.py:133: FutureWarning: The behavior of 'isin' with dtype=datetime64[ns] and castable values (e.g. strings) is deprecated. In a future version, these will not be considered matching by isin. Explicitly cast to the appropriate dtype before calling isin instead.\n",
            "  df = df[df.index.isin(dates_dt)]\n",
            "/Users/mirco/Documents/Tesi/code/models/DGDNN/Data/geometric_dataset_gen.py:133: FutureWarning: The behavior of 'isin' with dtype=datetime64[ns] and castable values (e.g. strings) is deprecated. In a future version, these will not be considered matching by isin. Explicitly cast to the appropriate dtype before calling isin instead.\n",
            "  df = df[df.index.isin(dates_dt)]\n",
            "/Users/mirco/Documents/Tesi/code/models/DGDNN/Data/geometric_dataset_gen.py:133: FutureWarning: The behavior of 'isin' with dtype=datetime64[ns] and castable values (e.g. strings) is deprecated. In a future version, these will not be considered matching by isin. Explicitly cast to the appropriate dtype before calling isin instead.\n",
            "  df = df[df.index.isin(dates_dt)]\n",
            "/Users/mirco/Documents/Tesi/code/models/DGDNN/Data/geometric_dataset_gen.py:133: FutureWarning: The behavior of 'isin' with dtype=datetime64[ns] and castable values (e.g. strings) is deprecated. In a future version, these will not be considered matching by isin. Explicitly cast to the appropriate dtype before calling isin instead.\n",
            "  df = df[df.index.isin(dates_dt)]\n",
            " 10%|█         | 42/416 [00:32<04:47,  1.30it/s]"
          ]
        },
        {
          "name": "stdout",
          "output_type": "stream",
          "text": [
            "Generating graph 42/416...\n"
          ]
        },
        {
          "name": "stderr",
          "output_type": "stream",
          "text": [
            "/Users/mirco/Documents/Tesi/code/models/DGDNN/Data/geometric_dataset_gen.py:133: FutureWarning: The behavior of 'isin' with dtype=datetime64[ns] and castable values (e.g. strings) is deprecated. In a future version, these will not be considered matching by isin. Explicitly cast to the appropriate dtype before calling isin instead.\n",
            "  df = df[df.index.isin(dates_dt)]\n",
            "/Users/mirco/Documents/Tesi/code/models/DGDNN/Data/geometric_dataset_gen.py:133: FutureWarning: The behavior of 'isin' with dtype=datetime64[ns] and castable values (e.g. strings) is deprecated. In a future version, these will not be considered matching by isin. Explicitly cast to the appropriate dtype before calling isin instead.\n",
            "  df = df[df.index.isin(dates_dt)]\n",
            "/Users/mirco/Documents/Tesi/code/models/DGDNN/Data/geometric_dataset_gen.py:133: FutureWarning: The behavior of 'isin' with dtype=datetime64[ns] and castable values (e.g. strings) is deprecated. In a future version, these will not be considered matching by isin. Explicitly cast to the appropriate dtype before calling isin instead.\n",
            "  df = df[df.index.isin(dates_dt)]\n",
            "/Users/mirco/Documents/Tesi/code/models/DGDNN/Data/geometric_dataset_gen.py:133: FutureWarning: The behavior of 'isin' with dtype=datetime64[ns] and castable values (e.g. strings) is deprecated. In a future version, these will not be considered matching by isin. Explicitly cast to the appropriate dtype before calling isin instead.\n",
            "  df = df[df.index.isin(dates_dt)]\n",
            " 10%|█         | 43/416 [00:33<04:39,  1.33it/s]"
          ]
        },
        {
          "name": "stdout",
          "output_type": "stream",
          "text": [
            "Generating graph 43/416...\n"
          ]
        },
        {
          "name": "stderr",
          "output_type": "stream",
          "text": [
            "/Users/mirco/Documents/Tesi/code/models/DGDNN/Data/geometric_dataset_gen.py:133: FutureWarning: The behavior of 'isin' with dtype=datetime64[ns] and castable values (e.g. strings) is deprecated. In a future version, these will not be considered matching by isin. Explicitly cast to the appropriate dtype before calling isin instead.\n",
            "  df = df[df.index.isin(dates_dt)]\n",
            "/Users/mirco/Documents/Tesi/code/models/DGDNN/Data/geometric_dataset_gen.py:133: FutureWarning: The behavior of 'isin' with dtype=datetime64[ns] and castable values (e.g. strings) is deprecated. In a future version, these will not be considered matching by isin. Explicitly cast to the appropriate dtype before calling isin instead.\n",
            "  df = df[df.index.isin(dates_dt)]\n",
            "/Users/mirco/Documents/Tesi/code/models/DGDNN/Data/geometric_dataset_gen.py:133: FutureWarning: The behavior of 'isin' with dtype=datetime64[ns] and castable values (e.g. strings) is deprecated. In a future version, these will not be considered matching by isin. Explicitly cast to the appropriate dtype before calling isin instead.\n",
            "  df = df[df.index.isin(dates_dt)]\n",
            "/Users/mirco/Documents/Tesi/code/models/DGDNN/Data/geometric_dataset_gen.py:133: FutureWarning: The behavior of 'isin' with dtype=datetime64[ns] and castable values (e.g. strings) is deprecated. In a future version, these will not be considered matching by isin. Explicitly cast to the appropriate dtype before calling isin instead.\n",
            "  df = df[df.index.isin(dates_dt)]\n",
            " 11%|█         | 44/416 [00:34<04:46,  1.30it/s]"
          ]
        },
        {
          "name": "stdout",
          "output_type": "stream",
          "text": [
            "Generating graph 44/416...\n"
          ]
        },
        {
          "name": "stderr",
          "output_type": "stream",
          "text": [
            "/Users/mirco/Documents/Tesi/code/models/DGDNN/Data/geometric_dataset_gen.py:133: FutureWarning: The behavior of 'isin' with dtype=datetime64[ns] and castable values (e.g. strings) is deprecated. In a future version, these will not be considered matching by isin. Explicitly cast to the appropriate dtype before calling isin instead.\n",
            "  df = df[df.index.isin(dates_dt)]\n",
            "/Users/mirco/Documents/Tesi/code/models/DGDNN/Data/geometric_dataset_gen.py:133: FutureWarning: The behavior of 'isin' with dtype=datetime64[ns] and castable values (e.g. strings) is deprecated. In a future version, these will not be considered matching by isin. Explicitly cast to the appropriate dtype before calling isin instead.\n",
            "  df = df[df.index.isin(dates_dt)]\n",
            "/Users/mirco/Documents/Tesi/code/models/DGDNN/Data/geometric_dataset_gen.py:133: FutureWarning: The behavior of 'isin' with dtype=datetime64[ns] and castable values (e.g. strings) is deprecated. In a future version, these will not be considered matching by isin. Explicitly cast to the appropriate dtype before calling isin instead.\n",
            "  df = df[df.index.isin(dates_dt)]\n",
            "/Users/mirco/Documents/Tesi/code/models/DGDNN/Data/geometric_dataset_gen.py:133: FutureWarning: The behavior of 'isin' with dtype=datetime64[ns] and castable values (e.g. strings) is deprecated. In a future version, these will not be considered matching by isin. Explicitly cast to the appropriate dtype before calling isin instead.\n",
            "  df = df[df.index.isin(dates_dt)]\n",
            " 11%|█         | 45/416 [00:35<04:39,  1.33it/s]"
          ]
        },
        {
          "name": "stdout",
          "output_type": "stream",
          "text": [
            "Generating graph 45/416...\n"
          ]
        },
        {
          "name": "stderr",
          "output_type": "stream",
          "text": [
            "/Users/mirco/Documents/Tesi/code/models/DGDNN/Data/geometric_dataset_gen.py:133: FutureWarning: The behavior of 'isin' with dtype=datetime64[ns] and castable values (e.g. strings) is deprecated. In a future version, these will not be considered matching by isin. Explicitly cast to the appropriate dtype before calling isin instead.\n",
            "  df = df[df.index.isin(dates_dt)]\n",
            "/Users/mirco/Documents/Tesi/code/models/DGDNN/Data/geometric_dataset_gen.py:133: FutureWarning: The behavior of 'isin' with dtype=datetime64[ns] and castable values (e.g. strings) is deprecated. In a future version, these will not be considered matching by isin. Explicitly cast to the appropriate dtype before calling isin instead.\n",
            "  df = df[df.index.isin(dates_dt)]\n",
            "/Users/mirco/Documents/Tesi/code/models/DGDNN/Data/geometric_dataset_gen.py:133: FutureWarning: The behavior of 'isin' with dtype=datetime64[ns] and castable values (e.g. strings) is deprecated. In a future version, these will not be considered matching by isin. Explicitly cast to the appropriate dtype before calling isin instead.\n",
            "  df = df[df.index.isin(dates_dt)]\n",
            "/Users/mirco/Documents/Tesi/code/models/DGDNN/Data/geometric_dataset_gen.py:133: FutureWarning: The behavior of 'isin' with dtype=datetime64[ns] and castable values (e.g. strings) is deprecated. In a future version, these will not be considered matching by isin. Explicitly cast to the appropriate dtype before calling isin instead.\n",
            "  df = df[df.index.isin(dates_dt)]\n",
            " 11%|█         | 46/416 [00:35<04:34,  1.35it/s]"
          ]
        },
        {
          "name": "stdout",
          "output_type": "stream",
          "text": [
            "Generating graph 46/416...\n"
          ]
        },
        {
          "name": "stderr",
          "output_type": "stream",
          "text": [
            "/Users/mirco/Documents/Tesi/code/models/DGDNN/Data/geometric_dataset_gen.py:133: FutureWarning: The behavior of 'isin' with dtype=datetime64[ns] and castable values (e.g. strings) is deprecated. In a future version, these will not be considered matching by isin. Explicitly cast to the appropriate dtype before calling isin instead.\n",
            "  df = df[df.index.isin(dates_dt)]\n",
            "/Users/mirco/Documents/Tesi/code/models/DGDNN/Data/geometric_dataset_gen.py:133: FutureWarning: The behavior of 'isin' with dtype=datetime64[ns] and castable values (e.g. strings) is deprecated. In a future version, these will not be considered matching by isin. Explicitly cast to the appropriate dtype before calling isin instead.\n",
            "  df = df[df.index.isin(dates_dt)]\n",
            "/Users/mirco/Documents/Tesi/code/models/DGDNN/Data/geometric_dataset_gen.py:133: FutureWarning: The behavior of 'isin' with dtype=datetime64[ns] and castable values (e.g. strings) is deprecated. In a future version, these will not be considered matching by isin. Explicitly cast to the appropriate dtype before calling isin instead.\n",
            "  df = df[df.index.isin(dates_dt)]\n",
            "/Users/mirco/Documents/Tesi/code/models/DGDNN/Data/geometric_dataset_gen.py:133: FutureWarning: The behavior of 'isin' with dtype=datetime64[ns] and castable values (e.g. strings) is deprecated. In a future version, these will not be considered matching by isin. Explicitly cast to the appropriate dtype before calling isin instead.\n",
            "  df = df[df.index.isin(dates_dt)]\n",
            " 11%|█▏        | 47/416 [00:36<04:44,  1.30it/s]"
          ]
        },
        {
          "name": "stdout",
          "output_type": "stream",
          "text": [
            "Generating graph 47/416...\n"
          ]
        },
        {
          "name": "stderr",
          "output_type": "stream",
          "text": [
            "/Users/mirco/Documents/Tesi/code/models/DGDNN/Data/geometric_dataset_gen.py:133: FutureWarning: The behavior of 'isin' with dtype=datetime64[ns] and castable values (e.g. strings) is deprecated. In a future version, these will not be considered matching by isin. Explicitly cast to the appropriate dtype before calling isin instead.\n",
            "  df = df[df.index.isin(dates_dt)]\n",
            "/Users/mirco/Documents/Tesi/code/models/DGDNN/Data/geometric_dataset_gen.py:133: FutureWarning: The behavior of 'isin' with dtype=datetime64[ns] and castable values (e.g. strings) is deprecated. In a future version, these will not be considered matching by isin. Explicitly cast to the appropriate dtype before calling isin instead.\n",
            "  df = df[df.index.isin(dates_dt)]\n",
            "/Users/mirco/Documents/Tesi/code/models/DGDNN/Data/geometric_dataset_gen.py:133: FutureWarning: The behavior of 'isin' with dtype=datetime64[ns] and castable values (e.g. strings) is deprecated. In a future version, these will not be considered matching by isin. Explicitly cast to the appropriate dtype before calling isin instead.\n",
            "  df = df[df.index.isin(dates_dt)]\n",
            "/Users/mirco/Documents/Tesi/code/models/DGDNN/Data/geometric_dataset_gen.py:133: FutureWarning: The behavior of 'isin' with dtype=datetime64[ns] and castable values (e.g. strings) is deprecated. In a future version, these will not be considered matching by isin. Explicitly cast to the appropriate dtype before calling isin instead.\n",
            "  df = df[df.index.isin(dates_dt)]\n",
            " 12%|█▏        | 48/416 [00:37<04:47,  1.28it/s]"
          ]
        },
        {
          "name": "stdout",
          "output_type": "stream",
          "text": [
            "Generating graph 48/416...\n"
          ]
        },
        {
          "name": "stderr",
          "output_type": "stream",
          "text": [
            "/Users/mirco/Documents/Tesi/code/models/DGDNN/Data/geometric_dataset_gen.py:133: FutureWarning: The behavior of 'isin' with dtype=datetime64[ns] and castable values (e.g. strings) is deprecated. In a future version, these will not be considered matching by isin. Explicitly cast to the appropriate dtype before calling isin instead.\n",
            "  df = df[df.index.isin(dates_dt)]\n",
            "/Users/mirco/Documents/Tesi/code/models/DGDNN/Data/geometric_dataset_gen.py:133: FutureWarning: The behavior of 'isin' with dtype=datetime64[ns] and castable values (e.g. strings) is deprecated. In a future version, these will not be considered matching by isin. Explicitly cast to the appropriate dtype before calling isin instead.\n",
            "  df = df[df.index.isin(dates_dt)]\n",
            "/Users/mirco/Documents/Tesi/code/models/DGDNN/Data/geometric_dataset_gen.py:133: FutureWarning: The behavior of 'isin' with dtype=datetime64[ns] and castable values (e.g. strings) is deprecated. In a future version, these will not be considered matching by isin. Explicitly cast to the appropriate dtype before calling isin instead.\n",
            "  df = df[df.index.isin(dates_dt)]\n",
            "/Users/mirco/Documents/Tesi/code/models/DGDNN/Data/geometric_dataset_gen.py:133: FutureWarning: The behavior of 'isin' with dtype=datetime64[ns] and castable values (e.g. strings) is deprecated. In a future version, these will not be considered matching by isin. Explicitly cast to the appropriate dtype before calling isin instead.\n",
            "  df = df[df.index.isin(dates_dt)]\n",
            " 12%|█▏        | 49/416 [00:38<04:39,  1.31it/s]"
          ]
        },
        {
          "name": "stdout",
          "output_type": "stream",
          "text": [
            "Generating graph 49/416...\n"
          ]
        },
        {
          "name": "stderr",
          "output_type": "stream",
          "text": [
            "/Users/mirco/Documents/Tesi/code/models/DGDNN/Data/geometric_dataset_gen.py:133: FutureWarning: The behavior of 'isin' with dtype=datetime64[ns] and castable values (e.g. strings) is deprecated. In a future version, these will not be considered matching by isin. Explicitly cast to the appropriate dtype before calling isin instead.\n",
            "  df = df[df.index.isin(dates_dt)]\n",
            "/Users/mirco/Documents/Tesi/code/models/DGDNN/Data/geometric_dataset_gen.py:133: FutureWarning: The behavior of 'isin' with dtype=datetime64[ns] and castable values (e.g. strings) is deprecated. In a future version, these will not be considered matching by isin. Explicitly cast to the appropriate dtype before calling isin instead.\n",
            "  df = df[df.index.isin(dates_dt)]\n",
            "/Users/mirco/Documents/Tesi/code/models/DGDNN/Data/geometric_dataset_gen.py:133: FutureWarning: The behavior of 'isin' with dtype=datetime64[ns] and castable values (e.g. strings) is deprecated. In a future version, these will not be considered matching by isin. Explicitly cast to the appropriate dtype before calling isin instead.\n",
            "  df = df[df.index.isin(dates_dt)]\n",
            "/Users/mirco/Documents/Tesi/code/models/DGDNN/Data/geometric_dataset_gen.py:133: FutureWarning: The behavior of 'isin' with dtype=datetime64[ns] and castable values (e.g. strings) is deprecated. In a future version, these will not be considered matching by isin. Explicitly cast to the appropriate dtype before calling isin instead.\n",
            "  df = df[df.index.isin(dates_dt)]\n",
            " 12%|█▏        | 50/416 [00:38<04:33,  1.34it/s]"
          ]
        },
        {
          "name": "stdout",
          "output_type": "stream",
          "text": [
            "Generating graph 50/416...\n"
          ]
        },
        {
          "name": "stderr",
          "output_type": "stream",
          "text": [
            "/Users/mirco/Documents/Tesi/code/models/DGDNN/Data/geometric_dataset_gen.py:133: FutureWarning: The behavior of 'isin' with dtype=datetime64[ns] and castable values (e.g. strings) is deprecated. In a future version, these will not be considered matching by isin. Explicitly cast to the appropriate dtype before calling isin instead.\n",
            "  df = df[df.index.isin(dates_dt)]\n",
            "/Users/mirco/Documents/Tesi/code/models/DGDNN/Data/geometric_dataset_gen.py:133: FutureWarning: The behavior of 'isin' with dtype=datetime64[ns] and castable values (e.g. strings) is deprecated. In a future version, these will not be considered matching by isin. Explicitly cast to the appropriate dtype before calling isin instead.\n",
            "  df = df[df.index.isin(dates_dt)]\n",
            "/Users/mirco/Documents/Tesi/code/models/DGDNN/Data/geometric_dataset_gen.py:133: FutureWarning: The behavior of 'isin' with dtype=datetime64[ns] and castable values (e.g. strings) is deprecated. In a future version, these will not be considered matching by isin. Explicitly cast to the appropriate dtype before calling isin instead.\n",
            "  df = df[df.index.isin(dates_dt)]\n",
            "/Users/mirco/Documents/Tesi/code/models/DGDNN/Data/geometric_dataset_gen.py:133: FutureWarning: The behavior of 'isin' with dtype=datetime64[ns] and castable values (e.g. strings) is deprecated. In a future version, these will not be considered matching by isin. Explicitly cast to the appropriate dtype before calling isin instead.\n",
            "  df = df[df.index.isin(dates_dt)]\n",
            " 12%|█▏        | 51/416 [00:39<04:43,  1.29it/s]"
          ]
        },
        {
          "name": "stdout",
          "output_type": "stream",
          "text": [
            "Generating graph 51/416...\n"
          ]
        },
        {
          "name": "stderr",
          "output_type": "stream",
          "text": [
            "/Users/mirco/Documents/Tesi/code/models/DGDNN/Data/geometric_dataset_gen.py:133: FutureWarning: The behavior of 'isin' with dtype=datetime64[ns] and castable values (e.g. strings) is deprecated. In a future version, these will not be considered matching by isin. Explicitly cast to the appropriate dtype before calling isin instead.\n",
            "  df = df[df.index.isin(dates_dt)]\n",
            "/Users/mirco/Documents/Tesi/code/models/DGDNN/Data/geometric_dataset_gen.py:133: FutureWarning: The behavior of 'isin' with dtype=datetime64[ns] and castable values (e.g. strings) is deprecated. In a future version, these will not be considered matching by isin. Explicitly cast to the appropriate dtype before calling isin instead.\n",
            "  df = df[df.index.isin(dates_dt)]\n",
            "/Users/mirco/Documents/Tesi/code/models/DGDNN/Data/geometric_dataset_gen.py:133: FutureWarning: The behavior of 'isin' with dtype=datetime64[ns] and castable values (e.g. strings) is deprecated. In a future version, these will not be considered matching by isin. Explicitly cast to the appropriate dtype before calling isin instead.\n",
            "  df = df[df.index.isin(dates_dt)]\n",
            "/Users/mirco/Documents/Tesi/code/models/DGDNN/Data/geometric_dataset_gen.py:133: FutureWarning: The behavior of 'isin' with dtype=datetime64[ns] and castable values (e.g. strings) is deprecated. In a future version, these will not be considered matching by isin. Explicitly cast to the appropriate dtype before calling isin instead.\n",
            "  df = df[df.index.isin(dates_dt)]\n",
            " 12%|█▎        | 52/416 [00:40<04:36,  1.32it/s]"
          ]
        },
        {
          "name": "stdout",
          "output_type": "stream",
          "text": [
            "Generating graph 52/416...\n"
          ]
        },
        {
          "name": "stderr",
          "output_type": "stream",
          "text": [
            "/Users/mirco/Documents/Tesi/code/models/DGDNN/Data/geometric_dataset_gen.py:133: FutureWarning: The behavior of 'isin' with dtype=datetime64[ns] and castable values (e.g. strings) is deprecated. In a future version, these will not be considered matching by isin. Explicitly cast to the appropriate dtype before calling isin instead.\n",
            "  df = df[df.index.isin(dates_dt)]\n",
            "/Users/mirco/Documents/Tesi/code/models/DGDNN/Data/geometric_dataset_gen.py:133: FutureWarning: The behavior of 'isin' with dtype=datetime64[ns] and castable values (e.g. strings) is deprecated. In a future version, these will not be considered matching by isin. Explicitly cast to the appropriate dtype before calling isin instead.\n",
            "  df = df[df.index.isin(dates_dt)]\n",
            "/Users/mirco/Documents/Tesi/code/models/DGDNN/Data/geometric_dataset_gen.py:133: FutureWarning: The behavior of 'isin' with dtype=datetime64[ns] and castable values (e.g. strings) is deprecated. In a future version, these will not be considered matching by isin. Explicitly cast to the appropriate dtype before calling isin instead.\n",
            "  df = df[df.index.isin(dates_dt)]\n",
            "/Users/mirco/Documents/Tesi/code/models/DGDNN/Data/geometric_dataset_gen.py:133: FutureWarning: The behavior of 'isin' with dtype=datetime64[ns] and castable values (e.g. strings) is deprecated. In a future version, these will not be considered matching by isin. Explicitly cast to the appropriate dtype before calling isin instead.\n",
            "  df = df[df.index.isin(dates_dt)]\n",
            " 13%|█▎        | 53/416 [00:41<04:30,  1.34it/s]"
          ]
        },
        {
          "name": "stdout",
          "output_type": "stream",
          "text": [
            "Generating graph 53/416...\n"
          ]
        },
        {
          "name": "stderr",
          "output_type": "stream",
          "text": [
            "/Users/mirco/Documents/Tesi/code/models/DGDNN/Data/geometric_dataset_gen.py:133: FutureWarning: The behavior of 'isin' with dtype=datetime64[ns] and castable values (e.g. strings) is deprecated. In a future version, these will not be considered matching by isin. Explicitly cast to the appropriate dtype before calling isin instead.\n",
            "  df = df[df.index.isin(dates_dt)]\n",
            "/Users/mirco/Documents/Tesi/code/models/DGDNN/Data/geometric_dataset_gen.py:133: FutureWarning: The behavior of 'isin' with dtype=datetime64[ns] and castable values (e.g. strings) is deprecated. In a future version, these will not be considered matching by isin. Explicitly cast to the appropriate dtype before calling isin instead.\n",
            "  df = df[df.index.isin(dates_dt)]\n",
            "/Users/mirco/Documents/Tesi/code/models/DGDNN/Data/geometric_dataset_gen.py:133: FutureWarning: The behavior of 'isin' with dtype=datetime64[ns] and castable values (e.g. strings) is deprecated. In a future version, these will not be considered matching by isin. Explicitly cast to the appropriate dtype before calling isin instead.\n",
            "  df = df[df.index.isin(dates_dt)]\n",
            "/Users/mirco/Documents/Tesi/code/models/DGDNN/Data/geometric_dataset_gen.py:133: FutureWarning: The behavior of 'isin' with dtype=datetime64[ns] and castable values (e.g. strings) is deprecated. In a future version, these will not be considered matching by isin. Explicitly cast to the appropriate dtype before calling isin instead.\n",
            "  df = df[df.index.isin(dates_dt)]\n",
            " 13%|█▎        | 54/416 [00:42<04:38,  1.30it/s]"
          ]
        },
        {
          "name": "stdout",
          "output_type": "stream",
          "text": [
            "Generating graph 54/416...\n"
          ]
        },
        {
          "name": "stderr",
          "output_type": "stream",
          "text": [
            "/Users/mirco/Documents/Tesi/code/models/DGDNN/Data/geometric_dataset_gen.py:133: FutureWarning: The behavior of 'isin' with dtype=datetime64[ns] and castable values (e.g. strings) is deprecated. In a future version, these will not be considered matching by isin. Explicitly cast to the appropriate dtype before calling isin instead.\n",
            "  df = df[df.index.isin(dates_dt)]\n",
            "/Users/mirco/Documents/Tesi/code/models/DGDNN/Data/geometric_dataset_gen.py:133: FutureWarning: The behavior of 'isin' with dtype=datetime64[ns] and castable values (e.g. strings) is deprecated. In a future version, these will not be considered matching by isin. Explicitly cast to the appropriate dtype before calling isin instead.\n",
            "  df = df[df.index.isin(dates_dt)]\n",
            "/Users/mirco/Documents/Tesi/code/models/DGDNN/Data/geometric_dataset_gen.py:133: FutureWarning: The behavior of 'isin' with dtype=datetime64[ns] and castable values (e.g. strings) is deprecated. In a future version, these will not be considered matching by isin. Explicitly cast to the appropriate dtype before calling isin instead.\n",
            "  df = df[df.index.isin(dates_dt)]\n",
            "/Users/mirco/Documents/Tesi/code/models/DGDNN/Data/geometric_dataset_gen.py:133: FutureWarning: The behavior of 'isin' with dtype=datetime64[ns] and castable values (e.g. strings) is deprecated. In a future version, these will not be considered matching by isin. Explicitly cast to the appropriate dtype before calling isin instead.\n",
            "  df = df[df.index.isin(dates_dt)]\n",
            " 13%|█▎        | 55/416 [00:42<04:35,  1.31it/s]"
          ]
        },
        {
          "name": "stdout",
          "output_type": "stream",
          "text": [
            "Generating graph 55/416...\n"
          ]
        },
        {
          "name": "stderr",
          "output_type": "stream",
          "text": [
            "/Users/mirco/Documents/Tesi/code/models/DGDNN/Data/geometric_dataset_gen.py:133: FutureWarning: The behavior of 'isin' with dtype=datetime64[ns] and castable values (e.g. strings) is deprecated. In a future version, these will not be considered matching by isin. Explicitly cast to the appropriate dtype before calling isin instead.\n",
            "  df = df[df.index.isin(dates_dt)]\n",
            "/Users/mirco/Documents/Tesi/code/models/DGDNN/Data/geometric_dataset_gen.py:133: FutureWarning: The behavior of 'isin' with dtype=datetime64[ns] and castable values (e.g. strings) is deprecated. In a future version, these will not be considered matching by isin. Explicitly cast to the appropriate dtype before calling isin instead.\n",
            "  df = df[df.index.isin(dates_dt)]\n",
            "/Users/mirco/Documents/Tesi/code/models/DGDNN/Data/geometric_dataset_gen.py:133: FutureWarning: The behavior of 'isin' with dtype=datetime64[ns] and castable values (e.g. strings) is deprecated. In a future version, these will not be considered matching by isin. Explicitly cast to the appropriate dtype before calling isin instead.\n",
            "  df = df[df.index.isin(dates_dt)]\n",
            "/Users/mirco/Documents/Tesi/code/models/DGDNN/Data/geometric_dataset_gen.py:133: FutureWarning: The behavior of 'isin' with dtype=datetime64[ns] and castable values (e.g. strings) is deprecated. In a future version, these will not be considered matching by isin. Explicitly cast to the appropriate dtype before calling isin instead.\n",
            "  df = df[df.index.isin(dates_dt)]\n",
            " 13%|█▎        | 56/416 [00:43<04:39,  1.29it/s]"
          ]
        },
        {
          "name": "stdout",
          "output_type": "stream",
          "text": [
            "Generating graph 56/416...\n"
          ]
        },
        {
          "name": "stderr",
          "output_type": "stream",
          "text": [
            "/Users/mirco/Documents/Tesi/code/models/DGDNN/Data/geometric_dataset_gen.py:133: FutureWarning: The behavior of 'isin' with dtype=datetime64[ns] and castable values (e.g. strings) is deprecated. In a future version, these will not be considered matching by isin. Explicitly cast to the appropriate dtype before calling isin instead.\n",
            "  df = df[df.index.isin(dates_dt)]\n",
            "/Users/mirco/Documents/Tesi/code/models/DGDNN/Data/geometric_dataset_gen.py:133: FutureWarning: The behavior of 'isin' with dtype=datetime64[ns] and castable values (e.g. strings) is deprecated. In a future version, these will not be considered matching by isin. Explicitly cast to the appropriate dtype before calling isin instead.\n",
            "  df = df[df.index.isin(dates_dt)]\n",
            "/Users/mirco/Documents/Tesi/code/models/DGDNN/Data/geometric_dataset_gen.py:133: FutureWarning: The behavior of 'isin' with dtype=datetime64[ns] and castable values (e.g. strings) is deprecated. In a future version, these will not be considered matching by isin. Explicitly cast to the appropriate dtype before calling isin instead.\n",
            "  df = df[df.index.isin(dates_dt)]\n",
            "/Users/mirco/Documents/Tesi/code/models/DGDNN/Data/geometric_dataset_gen.py:133: FutureWarning: The behavior of 'isin' with dtype=datetime64[ns] and castable values (e.g. strings) is deprecated. In a future version, these will not be considered matching by isin. Explicitly cast to the appropriate dtype before calling isin instead.\n",
            "  df = df[df.index.isin(dates_dt)]\n",
            " 14%|█▎        | 57/416 [00:44<04:32,  1.32it/s]"
          ]
        },
        {
          "name": "stdout",
          "output_type": "stream",
          "text": [
            "Generating graph 57/416...\n"
          ]
        },
        {
          "name": "stderr",
          "output_type": "stream",
          "text": [
            "/Users/mirco/Documents/Tesi/code/models/DGDNN/Data/geometric_dataset_gen.py:133: FutureWarning: The behavior of 'isin' with dtype=datetime64[ns] and castable values (e.g. strings) is deprecated. In a future version, these will not be considered matching by isin. Explicitly cast to the appropriate dtype before calling isin instead.\n",
            "  df = df[df.index.isin(dates_dt)]\n",
            "/Users/mirco/Documents/Tesi/code/models/DGDNN/Data/geometric_dataset_gen.py:133: FutureWarning: The behavior of 'isin' with dtype=datetime64[ns] and castable values (e.g. strings) is deprecated. In a future version, these will not be considered matching by isin. Explicitly cast to the appropriate dtype before calling isin instead.\n",
            "  df = df[df.index.isin(dates_dt)]\n",
            "/Users/mirco/Documents/Tesi/code/models/DGDNN/Data/geometric_dataset_gen.py:133: FutureWarning: The behavior of 'isin' with dtype=datetime64[ns] and castable values (e.g. strings) is deprecated. In a future version, these will not be considered matching by isin. Explicitly cast to the appropriate dtype before calling isin instead.\n",
            "  df = df[df.index.isin(dates_dt)]\n",
            "/Users/mirco/Documents/Tesi/code/models/DGDNN/Data/geometric_dataset_gen.py:133: FutureWarning: The behavior of 'isin' with dtype=datetime64[ns] and castable values (e.g. strings) is deprecated. In a future version, these will not be considered matching by isin. Explicitly cast to the appropriate dtype before calling isin instead.\n",
            "  df = df[df.index.isin(dates_dt)]\n",
            " 14%|█▍        | 58/416 [00:45<04:38,  1.28it/s]"
          ]
        },
        {
          "name": "stdout",
          "output_type": "stream",
          "text": [
            "Generating graph 58/416...\n"
          ]
        },
        {
          "name": "stderr",
          "output_type": "stream",
          "text": [
            "/Users/mirco/Documents/Tesi/code/models/DGDNN/Data/geometric_dataset_gen.py:133: FutureWarning: The behavior of 'isin' with dtype=datetime64[ns] and castable values (e.g. strings) is deprecated. In a future version, these will not be considered matching by isin. Explicitly cast to the appropriate dtype before calling isin instead.\n",
            "  df = df[df.index.isin(dates_dt)]\n",
            "/Users/mirco/Documents/Tesi/code/models/DGDNN/Data/geometric_dataset_gen.py:133: FutureWarning: The behavior of 'isin' with dtype=datetime64[ns] and castable values (e.g. strings) is deprecated. In a future version, these will not be considered matching by isin. Explicitly cast to the appropriate dtype before calling isin instead.\n",
            "  df = df[df.index.isin(dates_dt)]\n",
            "/Users/mirco/Documents/Tesi/code/models/DGDNN/Data/geometric_dataset_gen.py:133: FutureWarning: The behavior of 'isin' with dtype=datetime64[ns] and castable values (e.g. strings) is deprecated. In a future version, these will not be considered matching by isin. Explicitly cast to the appropriate dtype before calling isin instead.\n",
            "  df = df[df.index.isin(dates_dt)]\n",
            "/Users/mirco/Documents/Tesi/code/models/DGDNN/Data/geometric_dataset_gen.py:133: FutureWarning: The behavior of 'isin' with dtype=datetime64[ns] and castable values (e.g. strings) is deprecated. In a future version, these will not be considered matching by isin. Explicitly cast to the appropriate dtype before calling isin instead.\n",
            "  df = df[df.index.isin(dates_dt)]\n",
            " 14%|█▍        | 59/416 [00:45<04:31,  1.32it/s]"
          ]
        },
        {
          "name": "stdout",
          "output_type": "stream",
          "text": [
            "Generating graph 59/416...\n"
          ]
        },
        {
          "name": "stderr",
          "output_type": "stream",
          "text": [
            "/Users/mirco/Documents/Tesi/code/models/DGDNN/Data/geometric_dataset_gen.py:133: FutureWarning: The behavior of 'isin' with dtype=datetime64[ns] and castable values (e.g. strings) is deprecated. In a future version, these will not be considered matching by isin. Explicitly cast to the appropriate dtype before calling isin instead.\n",
            "  df = df[df.index.isin(dates_dt)]\n",
            "/Users/mirco/Documents/Tesi/code/models/DGDNN/Data/geometric_dataset_gen.py:133: FutureWarning: The behavior of 'isin' with dtype=datetime64[ns] and castable values (e.g. strings) is deprecated. In a future version, these will not be considered matching by isin. Explicitly cast to the appropriate dtype before calling isin instead.\n",
            "  df = df[df.index.isin(dates_dt)]\n",
            "/Users/mirco/Documents/Tesi/code/models/DGDNN/Data/geometric_dataset_gen.py:133: FutureWarning: The behavior of 'isin' with dtype=datetime64[ns] and castable values (e.g. strings) is deprecated. In a future version, these will not be considered matching by isin. Explicitly cast to the appropriate dtype before calling isin instead.\n",
            "  df = df[df.index.isin(dates_dt)]\n",
            "/Users/mirco/Documents/Tesi/code/models/DGDNN/Data/geometric_dataset_gen.py:133: FutureWarning: The behavior of 'isin' with dtype=datetime64[ns] and castable values (e.g. strings) is deprecated. In a future version, these will not be considered matching by isin. Explicitly cast to the appropriate dtype before calling isin instead.\n",
            "  df = df[df.index.isin(dates_dt)]\n",
            " 14%|█▍        | 60/416 [00:46<04:25,  1.34it/s]"
          ]
        },
        {
          "name": "stdout",
          "output_type": "stream",
          "text": [
            "Generating graph 60/416...\n"
          ]
        },
        {
          "name": "stderr",
          "output_type": "stream",
          "text": [
            "/Users/mirco/Documents/Tesi/code/models/DGDNN/Data/geometric_dataset_gen.py:133: FutureWarning: The behavior of 'isin' with dtype=datetime64[ns] and castable values (e.g. strings) is deprecated. In a future version, these will not be considered matching by isin. Explicitly cast to the appropriate dtype before calling isin instead.\n",
            "  df = df[df.index.isin(dates_dt)]\n",
            "/Users/mirco/Documents/Tesi/code/models/DGDNN/Data/geometric_dataset_gen.py:133: FutureWarning: The behavior of 'isin' with dtype=datetime64[ns] and castable values (e.g. strings) is deprecated. In a future version, these will not be considered matching by isin. Explicitly cast to the appropriate dtype before calling isin instead.\n",
            "  df = df[df.index.isin(dates_dt)]\n",
            "/Users/mirco/Documents/Tesi/code/models/DGDNN/Data/geometric_dataset_gen.py:133: FutureWarning: The behavior of 'isin' with dtype=datetime64[ns] and castable values (e.g. strings) is deprecated. In a future version, these will not be considered matching by isin. Explicitly cast to the appropriate dtype before calling isin instead.\n",
            "  df = df[df.index.isin(dates_dt)]\n",
            "/Users/mirco/Documents/Tesi/code/models/DGDNN/Data/geometric_dataset_gen.py:133: FutureWarning: The behavior of 'isin' with dtype=datetime64[ns] and castable values (e.g. strings) is deprecated. In a future version, these will not be considered matching by isin. Explicitly cast to the appropriate dtype before calling isin instead.\n",
            "  df = df[df.index.isin(dates_dt)]\n",
            " 15%|█▍        | 61/416 [00:47<04:32,  1.30it/s]"
          ]
        },
        {
          "name": "stdout",
          "output_type": "stream",
          "text": [
            "Generating graph 61/416...\n"
          ]
        },
        {
          "name": "stderr",
          "output_type": "stream",
          "text": [
            "/Users/mirco/Documents/Tesi/code/models/DGDNN/Data/geometric_dataset_gen.py:133: FutureWarning: The behavior of 'isin' with dtype=datetime64[ns] and castable values (e.g. strings) is deprecated. In a future version, these will not be considered matching by isin. Explicitly cast to the appropriate dtype before calling isin instead.\n",
            "  df = df[df.index.isin(dates_dt)]\n",
            "/Users/mirco/Documents/Tesi/code/models/DGDNN/Data/geometric_dataset_gen.py:133: FutureWarning: The behavior of 'isin' with dtype=datetime64[ns] and castable values (e.g. strings) is deprecated. In a future version, these will not be considered matching by isin. Explicitly cast to the appropriate dtype before calling isin instead.\n",
            "  df = df[df.index.isin(dates_dt)]\n",
            "/Users/mirco/Documents/Tesi/code/models/DGDNN/Data/geometric_dataset_gen.py:133: FutureWarning: The behavior of 'isin' with dtype=datetime64[ns] and castable values (e.g. strings) is deprecated. In a future version, these will not be considered matching by isin. Explicitly cast to the appropriate dtype before calling isin instead.\n",
            "  df = df[df.index.isin(dates_dt)]\n",
            "/Users/mirco/Documents/Tesi/code/models/DGDNN/Data/geometric_dataset_gen.py:133: FutureWarning: The behavior of 'isin' with dtype=datetime64[ns] and castable values (e.g. strings) is deprecated. In a future version, these will not be considered matching by isin. Explicitly cast to the appropriate dtype before calling isin instead.\n",
            "  df = df[df.index.isin(dates_dt)]\n",
            " 15%|█▍        | 62/416 [00:48<04:26,  1.33it/s]"
          ]
        },
        {
          "name": "stdout",
          "output_type": "stream",
          "text": [
            "Generating graph 62/416...\n"
          ]
        },
        {
          "name": "stderr",
          "output_type": "stream",
          "text": [
            "/Users/mirco/Documents/Tesi/code/models/DGDNN/Data/geometric_dataset_gen.py:133: FutureWarning: The behavior of 'isin' with dtype=datetime64[ns] and castable values (e.g. strings) is deprecated. In a future version, these will not be considered matching by isin. Explicitly cast to the appropriate dtype before calling isin instead.\n",
            "  df = df[df.index.isin(dates_dt)]\n",
            "/Users/mirco/Documents/Tesi/code/models/DGDNN/Data/geometric_dataset_gen.py:133: FutureWarning: The behavior of 'isin' with dtype=datetime64[ns] and castable values (e.g. strings) is deprecated. In a future version, these will not be considered matching by isin. Explicitly cast to the appropriate dtype before calling isin instead.\n",
            "  df = df[df.index.isin(dates_dt)]\n",
            "/Users/mirco/Documents/Tesi/code/models/DGDNN/Data/geometric_dataset_gen.py:133: FutureWarning: The behavior of 'isin' with dtype=datetime64[ns] and castable values (e.g. strings) is deprecated. In a future version, these will not be considered matching by isin. Explicitly cast to the appropriate dtype before calling isin instead.\n",
            "  df = df[df.index.isin(dates_dt)]\n",
            "/Users/mirco/Documents/Tesi/code/models/DGDNN/Data/geometric_dataset_gen.py:133: FutureWarning: The behavior of 'isin' with dtype=datetime64[ns] and castable values (e.g. strings) is deprecated. In a future version, these will not be considered matching by isin. Explicitly cast to the appropriate dtype before calling isin instead.\n",
            "  df = df[df.index.isin(dates_dt)]\n",
            " 15%|█▌        | 63/416 [00:48<04:31,  1.30it/s]"
          ]
        },
        {
          "name": "stdout",
          "output_type": "stream",
          "text": [
            "Generating graph 63/416...\n"
          ]
        },
        {
          "name": "stderr",
          "output_type": "stream",
          "text": [
            "/Users/mirco/Documents/Tesi/code/models/DGDNN/Data/geometric_dataset_gen.py:133: FutureWarning: The behavior of 'isin' with dtype=datetime64[ns] and castable values (e.g. strings) is deprecated. In a future version, these will not be considered matching by isin. Explicitly cast to the appropriate dtype before calling isin instead.\n",
            "  df = df[df.index.isin(dates_dt)]\n",
            "/Users/mirco/Documents/Tesi/code/models/DGDNN/Data/geometric_dataset_gen.py:133: FutureWarning: The behavior of 'isin' with dtype=datetime64[ns] and castable values (e.g. strings) is deprecated. In a future version, these will not be considered matching by isin. Explicitly cast to the appropriate dtype before calling isin instead.\n",
            "  df = df[df.index.isin(dates_dt)]\n",
            "/Users/mirco/Documents/Tesi/code/models/DGDNN/Data/geometric_dataset_gen.py:133: FutureWarning: The behavior of 'isin' with dtype=datetime64[ns] and castable values (e.g. strings) is deprecated. In a future version, these will not be considered matching by isin. Explicitly cast to the appropriate dtype before calling isin instead.\n",
            "  df = df[df.index.isin(dates_dt)]\n",
            "/Users/mirco/Documents/Tesi/code/models/DGDNN/Data/geometric_dataset_gen.py:133: FutureWarning: The behavior of 'isin' with dtype=datetime64[ns] and castable values (e.g. strings) is deprecated. In a future version, these will not be considered matching by isin. Explicitly cast to the appropriate dtype before calling isin instead.\n",
            "  df = df[df.index.isin(dates_dt)]\n",
            " 15%|█▌        | 64/416 [00:49<04:38,  1.26it/s]"
          ]
        },
        {
          "name": "stdout",
          "output_type": "stream",
          "text": [
            "Generating graph 64/416...\n"
          ]
        },
        {
          "name": "stderr",
          "output_type": "stream",
          "text": [
            "/Users/mirco/Documents/Tesi/code/models/DGDNN/Data/geometric_dataset_gen.py:133: FutureWarning: The behavior of 'isin' with dtype=datetime64[ns] and castable values (e.g. strings) is deprecated. In a future version, these will not be considered matching by isin. Explicitly cast to the appropriate dtype before calling isin instead.\n",
            "  df = df[df.index.isin(dates_dt)]\n",
            "/Users/mirco/Documents/Tesi/code/models/DGDNN/Data/geometric_dataset_gen.py:133: FutureWarning: The behavior of 'isin' with dtype=datetime64[ns] and castable values (e.g. strings) is deprecated. In a future version, these will not be considered matching by isin. Explicitly cast to the appropriate dtype before calling isin instead.\n",
            "  df = df[df.index.isin(dates_dt)]\n",
            "/Users/mirco/Documents/Tesi/code/models/DGDNN/Data/geometric_dataset_gen.py:133: FutureWarning: The behavior of 'isin' with dtype=datetime64[ns] and castable values (e.g. strings) is deprecated. In a future version, these will not be considered matching by isin. Explicitly cast to the appropriate dtype before calling isin instead.\n",
            "  df = df[df.index.isin(dates_dt)]\n",
            "/Users/mirco/Documents/Tesi/code/models/DGDNN/Data/geometric_dataset_gen.py:133: FutureWarning: The behavior of 'isin' with dtype=datetime64[ns] and castable values (e.g. strings) is deprecated. In a future version, these will not be considered matching by isin. Explicitly cast to the appropriate dtype before calling isin instead.\n",
            "  df = df[df.index.isin(dates_dt)]\n",
            " 16%|█▌        | 65/416 [00:50<04:29,  1.30it/s]"
          ]
        },
        {
          "name": "stdout",
          "output_type": "stream",
          "text": [
            "Generating graph 65/416...\n"
          ]
        },
        {
          "name": "stderr",
          "output_type": "stream",
          "text": [
            "/Users/mirco/Documents/Tesi/code/models/DGDNN/Data/geometric_dataset_gen.py:133: FutureWarning: The behavior of 'isin' with dtype=datetime64[ns] and castable values (e.g. strings) is deprecated. In a future version, these will not be considered matching by isin. Explicitly cast to the appropriate dtype before calling isin instead.\n",
            "  df = df[df.index.isin(dates_dt)]\n",
            "/Users/mirco/Documents/Tesi/code/models/DGDNN/Data/geometric_dataset_gen.py:133: FutureWarning: The behavior of 'isin' with dtype=datetime64[ns] and castable values (e.g. strings) is deprecated. In a future version, these will not be considered matching by isin. Explicitly cast to the appropriate dtype before calling isin instead.\n",
            "  df = df[df.index.isin(dates_dt)]\n",
            "/Users/mirco/Documents/Tesi/code/models/DGDNN/Data/geometric_dataset_gen.py:133: FutureWarning: The behavior of 'isin' with dtype=datetime64[ns] and castable values (e.g. strings) is deprecated. In a future version, these will not be considered matching by isin. Explicitly cast to the appropriate dtype before calling isin instead.\n",
            "  df = df[df.index.isin(dates_dt)]\n",
            "/Users/mirco/Documents/Tesi/code/models/DGDNN/Data/geometric_dataset_gen.py:133: FutureWarning: The behavior of 'isin' with dtype=datetime64[ns] and castable values (e.g. strings) is deprecated. In a future version, these will not be considered matching by isin. Explicitly cast to the appropriate dtype before calling isin instead.\n",
            "  df = df[df.index.isin(dates_dt)]\n",
            " 16%|█▌        | 66/416 [00:51<04:23,  1.33it/s]"
          ]
        },
        {
          "name": "stdout",
          "output_type": "stream",
          "text": [
            "Generating graph 66/416...\n"
          ]
        },
        {
          "name": "stderr",
          "output_type": "stream",
          "text": [
            "/Users/mirco/Documents/Tesi/code/models/DGDNN/Data/geometric_dataset_gen.py:133: FutureWarning: The behavior of 'isin' with dtype=datetime64[ns] and castable values (e.g. strings) is deprecated. In a future version, these will not be considered matching by isin. Explicitly cast to the appropriate dtype before calling isin instead.\n",
            "  df = df[df.index.isin(dates_dt)]\n",
            "/Users/mirco/Documents/Tesi/code/models/DGDNN/Data/geometric_dataset_gen.py:133: FutureWarning: The behavior of 'isin' with dtype=datetime64[ns] and castable values (e.g. strings) is deprecated. In a future version, these will not be considered matching by isin. Explicitly cast to the appropriate dtype before calling isin instead.\n",
            "  df = df[df.index.isin(dates_dt)]\n",
            "/Users/mirco/Documents/Tesi/code/models/DGDNN/Data/geometric_dataset_gen.py:133: FutureWarning: The behavior of 'isin' with dtype=datetime64[ns] and castable values (e.g. strings) is deprecated. In a future version, these will not be considered matching by isin. Explicitly cast to the appropriate dtype before calling isin instead.\n",
            "  df = df[df.index.isin(dates_dt)]\n",
            "/Users/mirco/Documents/Tesi/code/models/DGDNN/Data/geometric_dataset_gen.py:133: FutureWarning: The behavior of 'isin' with dtype=datetime64[ns] and castable values (e.g. strings) is deprecated. In a future version, these will not be considered matching by isin. Explicitly cast to the appropriate dtype before calling isin instead.\n",
            "  df = df[df.index.isin(dates_dt)]\n",
            " 16%|█▌        | 67/416 [00:51<04:18,  1.35it/s]"
          ]
        },
        {
          "name": "stdout",
          "output_type": "stream",
          "text": [
            "Generating graph 67/416...\n"
          ]
        },
        {
          "name": "stderr",
          "output_type": "stream",
          "text": [
            "/Users/mirco/Documents/Tesi/code/models/DGDNN/Data/geometric_dataset_gen.py:133: FutureWarning: The behavior of 'isin' with dtype=datetime64[ns] and castable values (e.g. strings) is deprecated. In a future version, these will not be considered matching by isin. Explicitly cast to the appropriate dtype before calling isin instead.\n",
            "  df = df[df.index.isin(dates_dt)]\n",
            "/Users/mirco/Documents/Tesi/code/models/DGDNN/Data/geometric_dataset_gen.py:133: FutureWarning: The behavior of 'isin' with dtype=datetime64[ns] and castable values (e.g. strings) is deprecated. In a future version, these will not be considered matching by isin. Explicitly cast to the appropriate dtype before calling isin instead.\n",
            "  df = df[df.index.isin(dates_dt)]\n",
            "/Users/mirco/Documents/Tesi/code/models/DGDNN/Data/geometric_dataset_gen.py:133: FutureWarning: The behavior of 'isin' with dtype=datetime64[ns] and castable values (e.g. strings) is deprecated. In a future version, these will not be considered matching by isin. Explicitly cast to the appropriate dtype before calling isin instead.\n",
            "  df = df[df.index.isin(dates_dt)]\n",
            "/Users/mirco/Documents/Tesi/code/models/DGDNN/Data/geometric_dataset_gen.py:133: FutureWarning: The behavior of 'isin' with dtype=datetime64[ns] and castable values (e.g. strings) is deprecated. In a future version, these will not be considered matching by isin. Explicitly cast to the appropriate dtype before calling isin instead.\n",
            "  df = df[df.index.isin(dates_dt)]\n",
            " 16%|█▋        | 68/416 [00:52<04:30,  1.29it/s]"
          ]
        },
        {
          "name": "stdout",
          "output_type": "stream",
          "text": [
            "Generating graph 68/416...\n"
          ]
        },
        {
          "name": "stderr",
          "output_type": "stream",
          "text": [
            "/Users/mirco/Documents/Tesi/code/models/DGDNN/Data/geometric_dataset_gen.py:133: FutureWarning: The behavior of 'isin' with dtype=datetime64[ns] and castable values (e.g. strings) is deprecated. In a future version, these will not be considered matching by isin. Explicitly cast to the appropriate dtype before calling isin instead.\n",
            "  df = df[df.index.isin(dates_dt)]\n",
            "/Users/mirco/Documents/Tesi/code/models/DGDNN/Data/geometric_dataset_gen.py:133: FutureWarning: The behavior of 'isin' with dtype=datetime64[ns] and castable values (e.g. strings) is deprecated. In a future version, these will not be considered matching by isin. Explicitly cast to the appropriate dtype before calling isin instead.\n",
            "  df = df[df.index.isin(dates_dt)]\n",
            "/Users/mirco/Documents/Tesi/code/models/DGDNN/Data/geometric_dataset_gen.py:133: FutureWarning: The behavior of 'isin' with dtype=datetime64[ns] and castable values (e.g. strings) is deprecated. In a future version, these will not be considered matching by isin. Explicitly cast to the appropriate dtype before calling isin instead.\n",
            "  df = df[df.index.isin(dates_dt)]\n",
            "/Users/mirco/Documents/Tesi/code/models/DGDNN/Data/geometric_dataset_gen.py:133: FutureWarning: The behavior of 'isin' with dtype=datetime64[ns] and castable values (e.g. strings) is deprecated. In a future version, these will not be considered matching by isin. Explicitly cast to the appropriate dtype before calling isin instead.\n",
            "  df = df[df.index.isin(dates_dt)]\n",
            " 17%|█▋        | 69/416 [00:53<04:23,  1.32it/s]"
          ]
        },
        {
          "name": "stdout",
          "output_type": "stream",
          "text": [
            "Generating graph 69/416...\n"
          ]
        },
        {
          "name": "stderr",
          "output_type": "stream",
          "text": [
            "/Users/mirco/Documents/Tesi/code/models/DGDNN/Data/geometric_dataset_gen.py:133: FutureWarning: The behavior of 'isin' with dtype=datetime64[ns] and castable values (e.g. strings) is deprecated. In a future version, these will not be considered matching by isin. Explicitly cast to the appropriate dtype before calling isin instead.\n",
            "  df = df[df.index.isin(dates_dt)]\n",
            "/Users/mirco/Documents/Tesi/code/models/DGDNN/Data/geometric_dataset_gen.py:133: FutureWarning: The behavior of 'isin' with dtype=datetime64[ns] and castable values (e.g. strings) is deprecated. In a future version, these will not be considered matching by isin. Explicitly cast to the appropriate dtype before calling isin instead.\n",
            "  df = df[df.index.isin(dates_dt)]\n",
            "/Users/mirco/Documents/Tesi/code/models/DGDNN/Data/geometric_dataset_gen.py:133: FutureWarning: The behavior of 'isin' with dtype=datetime64[ns] and castable values (e.g. strings) is deprecated. In a future version, these will not be considered matching by isin. Explicitly cast to the appropriate dtype before calling isin instead.\n",
            "  df = df[df.index.isin(dates_dt)]\n",
            "/Users/mirco/Documents/Tesi/code/models/DGDNN/Data/geometric_dataset_gen.py:133: FutureWarning: The behavior of 'isin' with dtype=datetime64[ns] and castable values (e.g. strings) is deprecated. In a future version, these will not be considered matching by isin. Explicitly cast to the appropriate dtype before calling isin instead.\n",
            "  df = df[df.index.isin(dates_dt)]\n",
            " 17%|█▋        | 70/416 [00:54<04:17,  1.34it/s]"
          ]
        },
        {
          "name": "stdout",
          "output_type": "stream",
          "text": [
            "Generating graph 70/416...\n"
          ]
        },
        {
          "name": "stderr",
          "output_type": "stream",
          "text": [
            "/Users/mirco/Documents/Tesi/code/models/DGDNN/Data/geometric_dataset_gen.py:133: FutureWarning: The behavior of 'isin' with dtype=datetime64[ns] and castable values (e.g. strings) is deprecated. In a future version, these will not be considered matching by isin. Explicitly cast to the appropriate dtype before calling isin instead.\n",
            "  df = df[df.index.isin(dates_dt)]\n",
            "/Users/mirco/Documents/Tesi/code/models/DGDNN/Data/geometric_dataset_gen.py:133: FutureWarning: The behavior of 'isin' with dtype=datetime64[ns] and castable values (e.g. strings) is deprecated. In a future version, these will not be considered matching by isin. Explicitly cast to the appropriate dtype before calling isin instead.\n",
            "  df = df[df.index.isin(dates_dt)]\n",
            "/Users/mirco/Documents/Tesi/code/models/DGDNN/Data/geometric_dataset_gen.py:133: FutureWarning: The behavior of 'isin' with dtype=datetime64[ns] and castable values (e.g. strings) is deprecated. In a future version, these will not be considered matching by isin. Explicitly cast to the appropriate dtype before calling isin instead.\n",
            "  df = df[df.index.isin(dates_dt)]\n",
            "/Users/mirco/Documents/Tesi/code/models/DGDNN/Data/geometric_dataset_gen.py:133: FutureWarning: The behavior of 'isin' with dtype=datetime64[ns] and castable values (e.g. strings) is deprecated. In a future version, these will not be considered matching by isin. Explicitly cast to the appropriate dtype before calling isin instead.\n",
            "  df = df[df.index.isin(dates_dt)]\n",
            " 17%|█▋        | 71/416 [00:55<04:36,  1.25it/s]"
          ]
        },
        {
          "name": "stdout",
          "output_type": "stream",
          "text": [
            "Generating graph 71/416...\n"
          ]
        },
        {
          "name": "stderr",
          "output_type": "stream",
          "text": [
            "/Users/mirco/Documents/Tesi/code/models/DGDNN/Data/geometric_dataset_gen.py:133: FutureWarning: The behavior of 'isin' with dtype=datetime64[ns] and castable values (e.g. strings) is deprecated. In a future version, these will not be considered matching by isin. Explicitly cast to the appropriate dtype before calling isin instead.\n",
            "  df = df[df.index.isin(dates_dt)]\n",
            "/Users/mirco/Documents/Tesi/code/models/DGDNN/Data/geometric_dataset_gen.py:133: FutureWarning: The behavior of 'isin' with dtype=datetime64[ns] and castable values (e.g. strings) is deprecated. In a future version, these will not be considered matching by isin. Explicitly cast to the appropriate dtype before calling isin instead.\n",
            "  df = df[df.index.isin(dates_dt)]\n",
            "/Users/mirco/Documents/Tesi/code/models/DGDNN/Data/geometric_dataset_gen.py:133: FutureWarning: The behavior of 'isin' with dtype=datetime64[ns] and castable values (e.g. strings) is deprecated. In a future version, these will not be considered matching by isin. Explicitly cast to the appropriate dtype before calling isin instead.\n",
            "  df = df[df.index.isin(dates_dt)]\n",
            "/Users/mirco/Documents/Tesi/code/models/DGDNN/Data/geometric_dataset_gen.py:133: FutureWarning: The behavior of 'isin' with dtype=datetime64[ns] and castable values (e.g. strings) is deprecated. In a future version, these will not be considered matching by isin. Explicitly cast to the appropriate dtype before calling isin instead.\n",
            "  df = df[df.index.isin(dates_dt)]\n",
            " 17%|█▋        | 72/416 [00:55<04:29,  1.28it/s]"
          ]
        },
        {
          "name": "stdout",
          "output_type": "stream",
          "text": [
            "Generating graph 72/416...\n"
          ]
        },
        {
          "name": "stderr",
          "output_type": "stream",
          "text": [
            "/Users/mirco/Documents/Tesi/code/models/DGDNN/Data/geometric_dataset_gen.py:133: FutureWarning: The behavior of 'isin' with dtype=datetime64[ns] and castable values (e.g. strings) is deprecated. In a future version, these will not be considered matching by isin. Explicitly cast to the appropriate dtype before calling isin instead.\n",
            "  df = df[df.index.isin(dates_dt)]\n",
            "/Users/mirco/Documents/Tesi/code/models/DGDNN/Data/geometric_dataset_gen.py:133: FutureWarning: The behavior of 'isin' with dtype=datetime64[ns] and castable values (e.g. strings) is deprecated. In a future version, these will not be considered matching by isin. Explicitly cast to the appropriate dtype before calling isin instead.\n",
            "  df = df[df.index.isin(dates_dt)]\n",
            "/Users/mirco/Documents/Tesi/code/models/DGDNN/Data/geometric_dataset_gen.py:133: FutureWarning: The behavior of 'isin' with dtype=datetime64[ns] and castable values (e.g. strings) is deprecated. In a future version, these will not be considered matching by isin. Explicitly cast to the appropriate dtype before calling isin instead.\n",
            "  df = df[df.index.isin(dates_dt)]\n",
            "/Users/mirco/Documents/Tesi/code/models/DGDNN/Data/geometric_dataset_gen.py:133: FutureWarning: The behavior of 'isin' with dtype=datetime64[ns] and castable values (e.g. strings) is deprecated. In a future version, these will not be considered matching by isin. Explicitly cast to the appropriate dtype before calling isin instead.\n",
            "  df = df[df.index.isin(dates_dt)]\n",
            " 18%|█▊        | 73/416 [00:56<04:21,  1.31it/s]"
          ]
        },
        {
          "name": "stdout",
          "output_type": "stream",
          "text": [
            "Generating graph 73/416...\n"
          ]
        },
        {
          "name": "stderr",
          "output_type": "stream",
          "text": [
            "/Users/mirco/Documents/Tesi/code/models/DGDNN/Data/geometric_dataset_gen.py:133: FutureWarning: The behavior of 'isin' with dtype=datetime64[ns] and castable values (e.g. strings) is deprecated. In a future version, these will not be considered matching by isin. Explicitly cast to the appropriate dtype before calling isin instead.\n",
            "  df = df[df.index.isin(dates_dt)]\n",
            "/Users/mirco/Documents/Tesi/code/models/DGDNN/Data/geometric_dataset_gen.py:133: FutureWarning: The behavior of 'isin' with dtype=datetime64[ns] and castable values (e.g. strings) is deprecated. In a future version, these will not be considered matching by isin. Explicitly cast to the appropriate dtype before calling isin instead.\n",
            "  df = df[df.index.isin(dates_dt)]\n",
            "/Users/mirco/Documents/Tesi/code/models/DGDNN/Data/geometric_dataset_gen.py:133: FutureWarning: The behavior of 'isin' with dtype=datetime64[ns] and castable values (e.g. strings) is deprecated. In a future version, these will not be considered matching by isin. Explicitly cast to the appropriate dtype before calling isin instead.\n",
            "  df = df[df.index.isin(dates_dt)]\n",
            "/Users/mirco/Documents/Tesi/code/models/DGDNN/Data/geometric_dataset_gen.py:133: FutureWarning: The behavior of 'isin' with dtype=datetime64[ns] and castable values (e.g. strings) is deprecated. In a future version, these will not be considered matching by isin. Explicitly cast to the appropriate dtype before calling isin instead.\n",
            "  df = df[df.index.isin(dates_dt)]\n",
            " 18%|█▊        | 74/416 [00:57<04:15,  1.34it/s]"
          ]
        },
        {
          "name": "stdout",
          "output_type": "stream",
          "text": [
            "Generating graph 74/416...\n"
          ]
        },
        {
          "name": "stderr",
          "output_type": "stream",
          "text": [
            "/Users/mirco/Documents/Tesi/code/models/DGDNN/Data/geometric_dataset_gen.py:133: FutureWarning: The behavior of 'isin' with dtype=datetime64[ns] and castable values (e.g. strings) is deprecated. In a future version, these will not be considered matching by isin. Explicitly cast to the appropriate dtype before calling isin instead.\n",
            "  df = df[df.index.isin(dates_dt)]\n",
            "/Users/mirco/Documents/Tesi/code/models/DGDNN/Data/geometric_dataset_gen.py:133: FutureWarning: The behavior of 'isin' with dtype=datetime64[ns] and castable values (e.g. strings) is deprecated. In a future version, these will not be considered matching by isin. Explicitly cast to the appropriate dtype before calling isin instead.\n",
            "  df = df[df.index.isin(dates_dt)]\n",
            "/Users/mirco/Documents/Tesi/code/models/DGDNN/Data/geometric_dataset_gen.py:133: FutureWarning: The behavior of 'isin' with dtype=datetime64[ns] and castable values (e.g. strings) is deprecated. In a future version, these will not be considered matching by isin. Explicitly cast to the appropriate dtype before calling isin instead.\n",
            "  df = df[df.index.isin(dates_dt)]\n",
            "/Users/mirco/Documents/Tesi/code/models/DGDNN/Data/geometric_dataset_gen.py:133: FutureWarning: The behavior of 'isin' with dtype=datetime64[ns] and castable values (e.g. strings) is deprecated. In a future version, these will not be considered matching by isin. Explicitly cast to the appropriate dtype before calling isin instead.\n",
            "  df = df[df.index.isin(dates_dt)]\n",
            " 18%|█▊        | 75/416 [00:58<04:25,  1.28it/s]"
          ]
        },
        {
          "name": "stdout",
          "output_type": "stream",
          "text": [
            "Generating graph 75/416...\n"
          ]
        },
        {
          "name": "stderr",
          "output_type": "stream",
          "text": [
            "/Users/mirco/Documents/Tesi/code/models/DGDNN/Data/geometric_dataset_gen.py:133: FutureWarning: The behavior of 'isin' with dtype=datetime64[ns] and castable values (e.g. strings) is deprecated. In a future version, these will not be considered matching by isin. Explicitly cast to the appropriate dtype before calling isin instead.\n",
            "  df = df[df.index.isin(dates_dt)]\n",
            "/Users/mirco/Documents/Tesi/code/models/DGDNN/Data/geometric_dataset_gen.py:133: FutureWarning: The behavior of 'isin' with dtype=datetime64[ns] and castable values (e.g. strings) is deprecated. In a future version, these will not be considered matching by isin. Explicitly cast to the appropriate dtype before calling isin instead.\n",
            "  df = df[df.index.isin(dates_dt)]\n",
            "/Users/mirco/Documents/Tesi/code/models/DGDNN/Data/geometric_dataset_gen.py:133: FutureWarning: The behavior of 'isin' with dtype=datetime64[ns] and castable values (e.g. strings) is deprecated. In a future version, these will not be considered matching by isin. Explicitly cast to the appropriate dtype before calling isin instead.\n",
            "  df = df[df.index.isin(dates_dt)]\n",
            "/Users/mirco/Documents/Tesi/code/models/DGDNN/Data/geometric_dataset_gen.py:133: FutureWarning: The behavior of 'isin' with dtype=datetime64[ns] and castable values (e.g. strings) is deprecated. In a future version, these will not be considered matching by isin. Explicitly cast to the appropriate dtype before calling isin instead.\n",
            "  df = df[df.index.isin(dates_dt)]\n",
            " 18%|█▊        | 76/416 [00:58<04:18,  1.32it/s]"
          ]
        },
        {
          "name": "stdout",
          "output_type": "stream",
          "text": [
            "Generating graph 76/416...\n"
          ]
        },
        {
          "name": "stderr",
          "output_type": "stream",
          "text": [
            "/Users/mirco/Documents/Tesi/code/models/DGDNN/Data/geometric_dataset_gen.py:133: FutureWarning: The behavior of 'isin' with dtype=datetime64[ns] and castable values (e.g. strings) is deprecated. In a future version, these will not be considered matching by isin. Explicitly cast to the appropriate dtype before calling isin instead.\n",
            "  df = df[df.index.isin(dates_dt)]\n",
            "/Users/mirco/Documents/Tesi/code/models/DGDNN/Data/geometric_dataset_gen.py:133: FutureWarning: The behavior of 'isin' with dtype=datetime64[ns] and castable values (e.g. strings) is deprecated. In a future version, these will not be considered matching by isin. Explicitly cast to the appropriate dtype before calling isin instead.\n",
            "  df = df[df.index.isin(dates_dt)]\n",
            "/Users/mirco/Documents/Tesi/code/models/DGDNN/Data/geometric_dataset_gen.py:133: FutureWarning: The behavior of 'isin' with dtype=datetime64[ns] and castable values (e.g. strings) is deprecated. In a future version, these will not be considered matching by isin. Explicitly cast to the appropriate dtype before calling isin instead.\n",
            "  df = df[df.index.isin(dates_dt)]\n",
            "/Users/mirco/Documents/Tesi/code/models/DGDNN/Data/geometric_dataset_gen.py:133: FutureWarning: The behavior of 'isin' with dtype=datetime64[ns] and castable values (e.g. strings) is deprecated. In a future version, these will not be considered matching by isin. Explicitly cast to the appropriate dtype before calling isin instead.\n",
            "  df = df[df.index.isin(dates_dt)]\n",
            " 19%|█▊        | 77/416 [00:59<04:12,  1.34it/s]"
          ]
        },
        {
          "name": "stdout",
          "output_type": "stream",
          "text": [
            "Generating graph 77/416...\n"
          ]
        },
        {
          "name": "stderr",
          "output_type": "stream",
          "text": [
            "/Users/mirco/Documents/Tesi/code/models/DGDNN/Data/geometric_dataset_gen.py:133: FutureWarning: The behavior of 'isin' with dtype=datetime64[ns] and castable values (e.g. strings) is deprecated. In a future version, these will not be considered matching by isin. Explicitly cast to the appropriate dtype before calling isin instead.\n",
            "  df = df[df.index.isin(dates_dt)]\n",
            "/Users/mirco/Documents/Tesi/code/models/DGDNN/Data/geometric_dataset_gen.py:133: FutureWarning: The behavior of 'isin' with dtype=datetime64[ns] and castable values (e.g. strings) is deprecated. In a future version, these will not be considered matching by isin. Explicitly cast to the appropriate dtype before calling isin instead.\n",
            "  df = df[df.index.isin(dates_dt)]\n",
            "/Users/mirco/Documents/Tesi/code/models/DGDNN/Data/geometric_dataset_gen.py:133: FutureWarning: The behavior of 'isin' with dtype=datetime64[ns] and castable values (e.g. strings) is deprecated. In a future version, these will not be considered matching by isin. Explicitly cast to the appropriate dtype before calling isin instead.\n",
            "  df = df[df.index.isin(dates_dt)]\n",
            "/Users/mirco/Documents/Tesi/code/models/DGDNN/Data/geometric_dataset_gen.py:133: FutureWarning: The behavior of 'isin' with dtype=datetime64[ns] and castable values (e.g. strings) is deprecated. In a future version, these will not be considered matching by isin. Explicitly cast to the appropriate dtype before calling isin instead.\n",
            "  df = df[df.index.isin(dates_dt)]\n",
            " 19%|█▉        | 78/416 [01:00<04:35,  1.23it/s]"
          ]
        },
        {
          "name": "stdout",
          "output_type": "stream",
          "text": [
            "Generating graph 78/416...\n"
          ]
        },
        {
          "name": "stderr",
          "output_type": "stream",
          "text": [
            "/Users/mirco/Documents/Tesi/code/models/DGDNN/Data/geometric_dataset_gen.py:133: FutureWarning: The behavior of 'isin' with dtype=datetime64[ns] and castable values (e.g. strings) is deprecated. In a future version, these will not be considered matching by isin. Explicitly cast to the appropriate dtype before calling isin instead.\n",
            "  df = df[df.index.isin(dates_dt)]\n",
            "/Users/mirco/Documents/Tesi/code/models/DGDNN/Data/geometric_dataset_gen.py:133: FutureWarning: The behavior of 'isin' with dtype=datetime64[ns] and castable values (e.g. strings) is deprecated. In a future version, these will not be considered matching by isin. Explicitly cast to the appropriate dtype before calling isin instead.\n",
            "  df = df[df.index.isin(dates_dt)]\n",
            "/Users/mirco/Documents/Tesi/code/models/DGDNN/Data/geometric_dataset_gen.py:133: FutureWarning: The behavior of 'isin' with dtype=datetime64[ns] and castable values (e.g. strings) is deprecated. In a future version, these will not be considered matching by isin. Explicitly cast to the appropriate dtype before calling isin instead.\n",
            "  df = df[df.index.isin(dates_dt)]\n",
            "/Users/mirco/Documents/Tesi/code/models/DGDNN/Data/geometric_dataset_gen.py:133: FutureWarning: The behavior of 'isin' with dtype=datetime64[ns] and castable values (e.g. strings) is deprecated. In a future version, these will not be considered matching by isin. Explicitly cast to the appropriate dtype before calling isin instead.\n",
            "  df = df[df.index.isin(dates_dt)]\n",
            " 19%|█▉        | 79/416 [01:01<04:25,  1.27it/s]"
          ]
        },
        {
          "name": "stdout",
          "output_type": "stream",
          "text": [
            "Generating graph 79/416...\n"
          ]
        },
        {
          "name": "stderr",
          "output_type": "stream",
          "text": [
            "/Users/mirco/Documents/Tesi/code/models/DGDNN/Data/geometric_dataset_gen.py:133: FutureWarning: The behavior of 'isin' with dtype=datetime64[ns] and castable values (e.g. strings) is deprecated. In a future version, these will not be considered matching by isin. Explicitly cast to the appropriate dtype before calling isin instead.\n",
            "  df = df[df.index.isin(dates_dt)]\n",
            "/Users/mirco/Documents/Tesi/code/models/DGDNN/Data/geometric_dataset_gen.py:133: FutureWarning: The behavior of 'isin' with dtype=datetime64[ns] and castable values (e.g. strings) is deprecated. In a future version, these will not be considered matching by isin. Explicitly cast to the appropriate dtype before calling isin instead.\n",
            "  df = df[df.index.isin(dates_dt)]\n",
            "/Users/mirco/Documents/Tesi/code/models/DGDNN/Data/geometric_dataset_gen.py:133: FutureWarning: The behavior of 'isin' with dtype=datetime64[ns] and castable values (e.g. strings) is deprecated. In a future version, these will not be considered matching by isin. Explicitly cast to the appropriate dtype before calling isin instead.\n",
            "  df = df[df.index.isin(dates_dt)]\n",
            "/Users/mirco/Documents/Tesi/code/models/DGDNN/Data/geometric_dataset_gen.py:133: FutureWarning: The behavior of 'isin' with dtype=datetime64[ns] and castable values (e.g. strings) is deprecated. In a future version, these will not be considered matching by isin. Explicitly cast to the appropriate dtype before calling isin instead.\n",
            "  df = df[df.index.isin(dates_dt)]\n",
            " 19%|█▉        | 80/416 [01:02<04:17,  1.30it/s]"
          ]
        },
        {
          "name": "stdout",
          "output_type": "stream",
          "text": [
            "Generating graph 80/416...\n"
          ]
        },
        {
          "name": "stderr",
          "output_type": "stream",
          "text": [
            "/Users/mirco/Documents/Tesi/code/models/DGDNN/Data/geometric_dataset_gen.py:133: FutureWarning: The behavior of 'isin' with dtype=datetime64[ns] and castable values (e.g. strings) is deprecated. In a future version, these will not be considered matching by isin. Explicitly cast to the appropriate dtype before calling isin instead.\n",
            "  df = df[df.index.isin(dates_dt)]\n",
            "/Users/mirco/Documents/Tesi/code/models/DGDNN/Data/geometric_dataset_gen.py:133: FutureWarning: The behavior of 'isin' with dtype=datetime64[ns] and castable values (e.g. strings) is deprecated. In a future version, these will not be considered matching by isin. Explicitly cast to the appropriate dtype before calling isin instead.\n",
            "  df = df[df.index.isin(dates_dt)]\n",
            "/Users/mirco/Documents/Tesi/code/models/DGDNN/Data/geometric_dataset_gen.py:133: FutureWarning: The behavior of 'isin' with dtype=datetime64[ns] and castable values (e.g. strings) is deprecated. In a future version, these will not be considered matching by isin. Explicitly cast to the appropriate dtype before calling isin instead.\n",
            "  df = df[df.index.isin(dates_dt)]\n",
            "/Users/mirco/Documents/Tesi/code/models/DGDNN/Data/geometric_dataset_gen.py:133: FutureWarning: The behavior of 'isin' with dtype=datetime64[ns] and castable values (e.g. strings) is deprecated. In a future version, these will not be considered matching by isin. Explicitly cast to the appropriate dtype before calling isin instead.\n",
            "  df = df[df.index.isin(dates_dt)]\n",
            " 19%|█▉        | 81/416 [01:02<04:12,  1.33it/s]"
          ]
        },
        {
          "name": "stdout",
          "output_type": "stream",
          "text": [
            "Generating graph 81/416...\n"
          ]
        },
        {
          "name": "stderr",
          "output_type": "stream",
          "text": [
            "/Users/mirco/Documents/Tesi/code/models/DGDNN/Data/geometric_dataset_gen.py:133: FutureWarning: The behavior of 'isin' with dtype=datetime64[ns] and castable values (e.g. strings) is deprecated. In a future version, these will not be considered matching by isin. Explicitly cast to the appropriate dtype before calling isin instead.\n",
            "  df = df[df.index.isin(dates_dt)]\n",
            "/Users/mirco/Documents/Tesi/code/models/DGDNN/Data/geometric_dataset_gen.py:133: FutureWarning: The behavior of 'isin' with dtype=datetime64[ns] and castable values (e.g. strings) is deprecated. In a future version, these will not be considered matching by isin. Explicitly cast to the appropriate dtype before calling isin instead.\n",
            "  df = df[df.index.isin(dates_dt)]\n",
            "/Users/mirco/Documents/Tesi/code/models/DGDNN/Data/geometric_dataset_gen.py:133: FutureWarning: The behavior of 'isin' with dtype=datetime64[ns] and castable values (e.g. strings) is deprecated. In a future version, these will not be considered matching by isin. Explicitly cast to the appropriate dtype before calling isin instead.\n",
            "  df = df[df.index.isin(dates_dt)]\n",
            "/Users/mirco/Documents/Tesi/code/models/DGDNN/Data/geometric_dataset_gen.py:133: FutureWarning: The behavior of 'isin' with dtype=datetime64[ns] and castable values (e.g. strings) is deprecated. In a future version, these will not be considered matching by isin. Explicitly cast to the appropriate dtype before calling isin instead.\n",
            "  df = df[df.index.isin(dates_dt)]\n",
            " 20%|█▉        | 82/416 [01:03<04:21,  1.28it/s]"
          ]
        },
        {
          "name": "stdout",
          "output_type": "stream",
          "text": [
            "Generating graph 82/416...\n"
          ]
        },
        {
          "name": "stderr",
          "output_type": "stream",
          "text": [
            "/Users/mirco/Documents/Tesi/code/models/DGDNN/Data/geometric_dataset_gen.py:133: FutureWarning: The behavior of 'isin' with dtype=datetime64[ns] and castable values (e.g. strings) is deprecated. In a future version, these will not be considered matching by isin. Explicitly cast to the appropriate dtype before calling isin instead.\n",
            "  df = df[df.index.isin(dates_dt)]\n",
            "/Users/mirco/Documents/Tesi/code/models/DGDNN/Data/geometric_dataset_gen.py:133: FutureWarning: The behavior of 'isin' with dtype=datetime64[ns] and castable values (e.g. strings) is deprecated. In a future version, these will not be considered matching by isin. Explicitly cast to the appropriate dtype before calling isin instead.\n",
            "  df = df[df.index.isin(dates_dt)]\n",
            "/Users/mirco/Documents/Tesi/code/models/DGDNN/Data/geometric_dataset_gen.py:133: FutureWarning: The behavior of 'isin' with dtype=datetime64[ns] and castable values (e.g. strings) is deprecated. In a future version, these will not be considered matching by isin. Explicitly cast to the appropriate dtype before calling isin instead.\n",
            "  df = df[df.index.isin(dates_dt)]\n",
            "/Users/mirco/Documents/Tesi/code/models/DGDNN/Data/geometric_dataset_gen.py:133: FutureWarning: The behavior of 'isin' with dtype=datetime64[ns] and castable values (e.g. strings) is deprecated. In a future version, these will not be considered matching by isin. Explicitly cast to the appropriate dtype before calling isin instead.\n",
            "  df = df[df.index.isin(dates_dt)]\n",
            " 20%|█▉        | 83/416 [01:04<04:13,  1.31it/s]"
          ]
        },
        {
          "name": "stdout",
          "output_type": "stream",
          "text": [
            "Generating graph 83/416...\n"
          ]
        },
        {
          "name": "stderr",
          "output_type": "stream",
          "text": [
            "/Users/mirco/Documents/Tesi/code/models/DGDNN/Data/geometric_dataset_gen.py:133: FutureWarning: The behavior of 'isin' with dtype=datetime64[ns] and castable values (e.g. strings) is deprecated. In a future version, these will not be considered matching by isin. Explicitly cast to the appropriate dtype before calling isin instead.\n",
            "  df = df[df.index.isin(dates_dt)]\n",
            "/Users/mirco/Documents/Tesi/code/models/DGDNN/Data/geometric_dataset_gen.py:133: FutureWarning: The behavior of 'isin' with dtype=datetime64[ns] and castable values (e.g. strings) is deprecated. In a future version, these will not be considered matching by isin. Explicitly cast to the appropriate dtype before calling isin instead.\n",
            "  df = df[df.index.isin(dates_dt)]\n",
            "/Users/mirco/Documents/Tesi/code/models/DGDNN/Data/geometric_dataset_gen.py:133: FutureWarning: The behavior of 'isin' with dtype=datetime64[ns] and castable values (e.g. strings) is deprecated. In a future version, these will not be considered matching by isin. Explicitly cast to the appropriate dtype before calling isin instead.\n",
            "  df = df[df.index.isin(dates_dt)]\n",
            "/Users/mirco/Documents/Tesi/code/models/DGDNN/Data/geometric_dataset_gen.py:133: FutureWarning: The behavior of 'isin' with dtype=datetime64[ns] and castable values (e.g. strings) is deprecated. In a future version, these will not be considered matching by isin. Explicitly cast to the appropriate dtype before calling isin instead.\n",
            "  df = df[df.index.isin(dates_dt)]\n",
            " 20%|██        | 84/416 [01:05<04:08,  1.33it/s]"
          ]
        },
        {
          "name": "stdout",
          "output_type": "stream",
          "text": [
            "Generating graph 84/416...\n"
          ]
        },
        {
          "name": "stderr",
          "output_type": "stream",
          "text": [
            "/Users/mirco/Documents/Tesi/code/models/DGDNN/Data/geometric_dataset_gen.py:133: FutureWarning: The behavior of 'isin' with dtype=datetime64[ns] and castable values (e.g. strings) is deprecated. In a future version, these will not be considered matching by isin. Explicitly cast to the appropriate dtype before calling isin instead.\n",
            "  df = df[df.index.isin(dates_dt)]\n",
            "/Users/mirco/Documents/Tesi/code/models/DGDNN/Data/geometric_dataset_gen.py:133: FutureWarning: The behavior of 'isin' with dtype=datetime64[ns] and castable values (e.g. strings) is deprecated. In a future version, these will not be considered matching by isin. Explicitly cast to the appropriate dtype before calling isin instead.\n",
            "  df = df[df.index.isin(dates_dt)]\n",
            "/Users/mirco/Documents/Tesi/code/models/DGDNN/Data/geometric_dataset_gen.py:133: FutureWarning: The behavior of 'isin' with dtype=datetime64[ns] and castable values (e.g. strings) is deprecated. In a future version, these will not be considered matching by isin. Explicitly cast to the appropriate dtype before calling isin instead.\n",
            "  df = df[df.index.isin(dates_dt)]\n",
            "/Users/mirco/Documents/Tesi/code/models/DGDNN/Data/geometric_dataset_gen.py:133: FutureWarning: The behavior of 'isin' with dtype=datetime64[ns] and castable values (e.g. strings) is deprecated. In a future version, these will not be considered matching by isin. Explicitly cast to the appropriate dtype before calling isin instead.\n",
            "  df = df[df.index.isin(dates_dt)]\n",
            " 20%|██        | 85/416 [01:06<04:28,  1.23it/s]"
          ]
        },
        {
          "name": "stdout",
          "output_type": "stream",
          "text": [
            "Generating graph 85/416...\n"
          ]
        },
        {
          "name": "stderr",
          "output_type": "stream",
          "text": [
            "/Users/mirco/Documents/Tesi/code/models/DGDNN/Data/geometric_dataset_gen.py:133: FutureWarning: The behavior of 'isin' with dtype=datetime64[ns] and castable values (e.g. strings) is deprecated. In a future version, these will not be considered matching by isin. Explicitly cast to the appropriate dtype before calling isin instead.\n",
            "  df = df[df.index.isin(dates_dt)]\n",
            "/Users/mirco/Documents/Tesi/code/models/DGDNN/Data/geometric_dataset_gen.py:133: FutureWarning: The behavior of 'isin' with dtype=datetime64[ns] and castable values (e.g. strings) is deprecated. In a future version, these will not be considered matching by isin. Explicitly cast to the appropriate dtype before calling isin instead.\n",
            "  df = df[df.index.isin(dates_dt)]\n",
            "/Users/mirco/Documents/Tesi/code/models/DGDNN/Data/geometric_dataset_gen.py:133: FutureWarning: The behavior of 'isin' with dtype=datetime64[ns] and castable values (e.g. strings) is deprecated. In a future version, these will not be considered matching by isin. Explicitly cast to the appropriate dtype before calling isin instead.\n",
            "  df = df[df.index.isin(dates_dt)]\n",
            "/Users/mirco/Documents/Tesi/code/models/DGDNN/Data/geometric_dataset_gen.py:133: FutureWarning: The behavior of 'isin' with dtype=datetime64[ns] and castable values (e.g. strings) is deprecated. In a future version, these will not be considered matching by isin. Explicitly cast to the appropriate dtype before calling isin instead.\n",
            "  df = df[df.index.isin(dates_dt)]\n",
            " 21%|██        | 86/416 [01:06<04:20,  1.27it/s]"
          ]
        },
        {
          "name": "stdout",
          "output_type": "stream",
          "text": [
            "Generating graph 86/416...\n"
          ]
        },
        {
          "name": "stderr",
          "output_type": "stream",
          "text": [
            "/Users/mirco/Documents/Tesi/code/models/DGDNN/Data/geometric_dataset_gen.py:133: FutureWarning: The behavior of 'isin' with dtype=datetime64[ns] and castable values (e.g. strings) is deprecated. In a future version, these will not be considered matching by isin. Explicitly cast to the appropriate dtype before calling isin instead.\n",
            "  df = df[df.index.isin(dates_dt)]\n",
            "/Users/mirco/Documents/Tesi/code/models/DGDNN/Data/geometric_dataset_gen.py:133: FutureWarning: The behavior of 'isin' with dtype=datetime64[ns] and castable values (e.g. strings) is deprecated. In a future version, these will not be considered matching by isin. Explicitly cast to the appropriate dtype before calling isin instead.\n",
            "  df = df[df.index.isin(dates_dt)]\n",
            "/Users/mirco/Documents/Tesi/code/models/DGDNN/Data/geometric_dataset_gen.py:133: FutureWarning: The behavior of 'isin' with dtype=datetime64[ns] and castable values (e.g. strings) is deprecated. In a future version, these will not be considered matching by isin. Explicitly cast to the appropriate dtype before calling isin instead.\n",
            "  df = df[df.index.isin(dates_dt)]\n",
            "/Users/mirco/Documents/Tesi/code/models/DGDNN/Data/geometric_dataset_gen.py:133: FutureWarning: The behavior of 'isin' with dtype=datetime64[ns] and castable values (e.g. strings) is deprecated. In a future version, these will not be considered matching by isin. Explicitly cast to the appropriate dtype before calling isin instead.\n",
            "  df = df[df.index.isin(dates_dt)]\n",
            " 21%|██        | 87/416 [01:07<04:12,  1.30it/s]"
          ]
        },
        {
          "name": "stdout",
          "output_type": "stream",
          "text": [
            "Generating graph 87/416...\n"
          ]
        },
        {
          "name": "stderr",
          "output_type": "stream",
          "text": [
            "/Users/mirco/Documents/Tesi/code/models/DGDNN/Data/geometric_dataset_gen.py:133: FutureWarning: The behavior of 'isin' with dtype=datetime64[ns] and castable values (e.g. strings) is deprecated. In a future version, these will not be considered matching by isin. Explicitly cast to the appropriate dtype before calling isin instead.\n",
            "  df = df[df.index.isin(dates_dt)]\n",
            "/Users/mirco/Documents/Tesi/code/models/DGDNN/Data/geometric_dataset_gen.py:133: FutureWarning: The behavior of 'isin' with dtype=datetime64[ns] and castable values (e.g. strings) is deprecated. In a future version, these will not be considered matching by isin. Explicitly cast to the appropriate dtype before calling isin instead.\n",
            "  df = df[df.index.isin(dates_dt)]\n",
            "/Users/mirco/Documents/Tesi/code/models/DGDNN/Data/geometric_dataset_gen.py:133: FutureWarning: The behavior of 'isin' with dtype=datetime64[ns] and castable values (e.g. strings) is deprecated. In a future version, these will not be considered matching by isin. Explicitly cast to the appropriate dtype before calling isin instead.\n",
            "  df = df[df.index.isin(dates_dt)]\n",
            "/Users/mirco/Documents/Tesi/code/models/DGDNN/Data/geometric_dataset_gen.py:133: FutureWarning: The behavior of 'isin' with dtype=datetime64[ns] and castable values (e.g. strings) is deprecated. In a future version, these will not be considered matching by isin. Explicitly cast to the appropriate dtype before calling isin instead.\n",
            "  df = df[df.index.isin(dates_dt)]\n",
            " 21%|██        | 88/416 [01:08<04:17,  1.27it/s]"
          ]
        },
        {
          "name": "stdout",
          "output_type": "stream",
          "text": [
            "Generating graph 88/416...\n"
          ]
        },
        {
          "name": "stderr",
          "output_type": "stream",
          "text": [
            "/Users/mirco/Documents/Tesi/code/models/DGDNN/Data/geometric_dataset_gen.py:133: FutureWarning: The behavior of 'isin' with dtype=datetime64[ns] and castable values (e.g. strings) is deprecated. In a future version, these will not be considered matching by isin. Explicitly cast to the appropriate dtype before calling isin instead.\n",
            "  df = df[df.index.isin(dates_dt)]\n",
            "/Users/mirco/Documents/Tesi/code/models/DGDNN/Data/geometric_dataset_gen.py:133: FutureWarning: The behavior of 'isin' with dtype=datetime64[ns] and castable values (e.g. strings) is deprecated. In a future version, these will not be considered matching by isin. Explicitly cast to the appropriate dtype before calling isin instead.\n",
            "  df = df[df.index.isin(dates_dt)]\n",
            "/Users/mirco/Documents/Tesi/code/models/DGDNN/Data/geometric_dataset_gen.py:133: FutureWarning: The behavior of 'isin' with dtype=datetime64[ns] and castable values (e.g. strings) is deprecated. In a future version, these will not be considered matching by isin. Explicitly cast to the appropriate dtype before calling isin instead.\n",
            "  df = df[df.index.isin(dates_dt)]\n",
            "/Users/mirco/Documents/Tesi/code/models/DGDNN/Data/geometric_dataset_gen.py:133: FutureWarning: The behavior of 'isin' with dtype=datetime64[ns] and castable values (e.g. strings) is deprecated. In a future version, these will not be considered matching by isin. Explicitly cast to the appropriate dtype before calling isin instead.\n",
            "  df = df[df.index.isin(dates_dt)]\n",
            " 21%|██▏       | 89/416 [01:09<04:11,  1.30it/s]"
          ]
        },
        {
          "name": "stdout",
          "output_type": "stream",
          "text": [
            "Generating graph 89/416...\n"
          ]
        },
        {
          "name": "stderr",
          "output_type": "stream",
          "text": [
            "/Users/mirco/Documents/Tesi/code/models/DGDNN/Data/geometric_dataset_gen.py:133: FutureWarning: The behavior of 'isin' with dtype=datetime64[ns] and castable values (e.g. strings) is deprecated. In a future version, these will not be considered matching by isin. Explicitly cast to the appropriate dtype before calling isin instead.\n",
            "  df = df[df.index.isin(dates_dt)]\n",
            "/Users/mirco/Documents/Tesi/code/models/DGDNN/Data/geometric_dataset_gen.py:133: FutureWarning: The behavior of 'isin' with dtype=datetime64[ns] and castable values (e.g. strings) is deprecated. In a future version, these will not be considered matching by isin. Explicitly cast to the appropriate dtype before calling isin instead.\n",
            "  df = df[df.index.isin(dates_dt)]\n",
            "/Users/mirco/Documents/Tesi/code/models/DGDNN/Data/geometric_dataset_gen.py:133: FutureWarning: The behavior of 'isin' with dtype=datetime64[ns] and castable values (e.g. strings) is deprecated. In a future version, these will not be considered matching by isin. Explicitly cast to the appropriate dtype before calling isin instead.\n",
            "  df = df[df.index.isin(dates_dt)]\n",
            "/Users/mirco/Documents/Tesi/code/models/DGDNN/Data/geometric_dataset_gen.py:133: FutureWarning: The behavior of 'isin' with dtype=datetime64[ns] and castable values (e.g. strings) is deprecated. In a future version, these will not be considered matching by isin. Explicitly cast to the appropriate dtype before calling isin instead.\n",
            "  df = df[df.index.isin(dates_dt)]\n",
            " 22%|██▏       | 90/416 [01:09<04:05,  1.33it/s]"
          ]
        },
        {
          "name": "stdout",
          "output_type": "stream",
          "text": [
            "Generating graph 90/416...\n"
          ]
        },
        {
          "name": "stderr",
          "output_type": "stream",
          "text": [
            "/Users/mirco/Documents/Tesi/code/models/DGDNN/Data/geometric_dataset_gen.py:133: FutureWarning: The behavior of 'isin' with dtype=datetime64[ns] and castable values (e.g. strings) is deprecated. In a future version, these will not be considered matching by isin. Explicitly cast to the appropriate dtype before calling isin instead.\n",
            "  df = df[df.index.isin(dates_dt)]\n",
            "/Users/mirco/Documents/Tesi/code/models/DGDNN/Data/geometric_dataset_gen.py:133: FutureWarning: The behavior of 'isin' with dtype=datetime64[ns] and castable values (e.g. strings) is deprecated. In a future version, these will not be considered matching by isin. Explicitly cast to the appropriate dtype before calling isin instead.\n",
            "  df = df[df.index.isin(dates_dt)]\n",
            "/Users/mirco/Documents/Tesi/code/models/DGDNN/Data/geometric_dataset_gen.py:133: FutureWarning: The behavior of 'isin' with dtype=datetime64[ns] and castable values (e.g. strings) is deprecated. In a future version, these will not be considered matching by isin. Explicitly cast to the appropriate dtype before calling isin instead.\n",
            "  df = df[df.index.isin(dates_dt)]\n",
            "/Users/mirco/Documents/Tesi/code/models/DGDNN/Data/geometric_dataset_gen.py:133: FutureWarning: The behavior of 'isin' with dtype=datetime64[ns] and castable values (e.g. strings) is deprecated. In a future version, these will not be considered matching by isin. Explicitly cast to the appropriate dtype before calling isin instead.\n",
            "  df = df[df.index.isin(dates_dt)]\n",
            " 22%|██▏       | 91/416 [01:10<04:00,  1.35it/s]"
          ]
        },
        {
          "name": "stdout",
          "output_type": "stream",
          "text": [
            "Generating graph 91/416...\n"
          ]
        },
        {
          "name": "stderr",
          "output_type": "stream",
          "text": [
            "/Users/mirco/Documents/Tesi/code/models/DGDNN/Data/geometric_dataset_gen.py:133: FutureWarning: The behavior of 'isin' with dtype=datetime64[ns] and castable values (e.g. strings) is deprecated. In a future version, these will not be considered matching by isin. Explicitly cast to the appropriate dtype before calling isin instead.\n",
            "  df = df[df.index.isin(dates_dt)]\n",
            "/Users/mirco/Documents/Tesi/code/models/DGDNN/Data/geometric_dataset_gen.py:133: FutureWarning: The behavior of 'isin' with dtype=datetime64[ns] and castable values (e.g. strings) is deprecated. In a future version, these will not be considered matching by isin. Explicitly cast to the appropriate dtype before calling isin instead.\n",
            "  df = df[df.index.isin(dates_dt)]\n",
            "/Users/mirco/Documents/Tesi/code/models/DGDNN/Data/geometric_dataset_gen.py:133: FutureWarning: The behavior of 'isin' with dtype=datetime64[ns] and castable values (e.g. strings) is deprecated. In a future version, these will not be considered matching by isin. Explicitly cast to the appropriate dtype before calling isin instead.\n",
            "  df = df[df.index.isin(dates_dt)]\n",
            "/Users/mirco/Documents/Tesi/code/models/DGDNN/Data/geometric_dataset_gen.py:133: FutureWarning: The behavior of 'isin' with dtype=datetime64[ns] and castable values (e.g. strings) is deprecated. In a future version, these will not be considered matching by isin. Explicitly cast to the appropriate dtype before calling isin instead.\n",
            "  df = df[df.index.isin(dates_dt)]\n",
            " 22%|██▏       | 92/416 [01:11<04:19,  1.25it/s]"
          ]
        },
        {
          "name": "stdout",
          "output_type": "stream",
          "text": [
            "Generating graph 92/416...\n"
          ]
        },
        {
          "name": "stderr",
          "output_type": "stream",
          "text": [
            "/Users/mirco/Documents/Tesi/code/models/DGDNN/Data/geometric_dataset_gen.py:133: FutureWarning: The behavior of 'isin' with dtype=datetime64[ns] and castable values (e.g. strings) is deprecated. In a future version, these will not be considered matching by isin. Explicitly cast to the appropriate dtype before calling isin instead.\n",
            "  df = df[df.index.isin(dates_dt)]\n",
            "/Users/mirco/Documents/Tesi/code/models/DGDNN/Data/geometric_dataset_gen.py:133: FutureWarning: The behavior of 'isin' with dtype=datetime64[ns] and castable values (e.g. strings) is deprecated. In a future version, these will not be considered matching by isin. Explicitly cast to the appropriate dtype before calling isin instead.\n",
            "  df = df[df.index.isin(dates_dt)]\n",
            "/Users/mirco/Documents/Tesi/code/models/DGDNN/Data/geometric_dataset_gen.py:133: FutureWarning: The behavior of 'isin' with dtype=datetime64[ns] and castable values (e.g. strings) is deprecated. In a future version, these will not be considered matching by isin. Explicitly cast to the appropriate dtype before calling isin instead.\n",
            "  df = df[df.index.isin(dates_dt)]\n",
            "/Users/mirco/Documents/Tesi/code/models/DGDNN/Data/geometric_dataset_gen.py:133: FutureWarning: The behavior of 'isin' with dtype=datetime64[ns] and castable values (e.g. strings) is deprecated. In a future version, these will not be considered matching by isin. Explicitly cast to the appropriate dtype before calling isin instead.\n",
            "  df = df[df.index.isin(dates_dt)]\n",
            " 22%|██▏       | 93/416 [01:12<04:10,  1.29it/s]"
          ]
        },
        {
          "name": "stdout",
          "output_type": "stream",
          "text": [
            "Generating graph 93/416...\n"
          ]
        },
        {
          "name": "stderr",
          "output_type": "stream",
          "text": [
            "/Users/mirco/Documents/Tesi/code/models/DGDNN/Data/geometric_dataset_gen.py:133: FutureWarning: The behavior of 'isin' with dtype=datetime64[ns] and castable values (e.g. strings) is deprecated. In a future version, these will not be considered matching by isin. Explicitly cast to the appropriate dtype before calling isin instead.\n",
            "  df = df[df.index.isin(dates_dt)]\n",
            "/Users/mirco/Documents/Tesi/code/models/DGDNN/Data/geometric_dataset_gen.py:133: FutureWarning: The behavior of 'isin' with dtype=datetime64[ns] and castable values (e.g. strings) is deprecated. In a future version, these will not be considered matching by isin. Explicitly cast to the appropriate dtype before calling isin instead.\n",
            "  df = df[df.index.isin(dates_dt)]\n",
            "/Users/mirco/Documents/Tesi/code/models/DGDNN/Data/geometric_dataset_gen.py:133: FutureWarning: The behavior of 'isin' with dtype=datetime64[ns] and castable values (e.g. strings) is deprecated. In a future version, these will not be considered matching by isin. Explicitly cast to the appropriate dtype before calling isin instead.\n",
            "  df = df[df.index.isin(dates_dt)]\n",
            "/Users/mirco/Documents/Tesi/code/models/DGDNN/Data/geometric_dataset_gen.py:133: FutureWarning: The behavior of 'isin' with dtype=datetime64[ns] and castable values (e.g. strings) is deprecated. In a future version, these will not be considered matching by isin. Explicitly cast to the appropriate dtype before calling isin instead.\n",
            "  df = df[df.index.isin(dates_dt)]\n",
            " 23%|██▎       | 94/416 [01:12<04:04,  1.32it/s]"
          ]
        },
        {
          "name": "stdout",
          "output_type": "stream",
          "text": [
            "Generating graph 94/416...\n"
          ]
        },
        {
          "name": "stderr",
          "output_type": "stream",
          "text": [
            "/Users/mirco/Documents/Tesi/code/models/DGDNN/Data/geometric_dataset_gen.py:133: FutureWarning: The behavior of 'isin' with dtype=datetime64[ns] and castable values (e.g. strings) is deprecated. In a future version, these will not be considered matching by isin. Explicitly cast to the appropriate dtype before calling isin instead.\n",
            "  df = df[df.index.isin(dates_dt)]\n",
            "/Users/mirco/Documents/Tesi/code/models/DGDNN/Data/geometric_dataset_gen.py:133: FutureWarning: The behavior of 'isin' with dtype=datetime64[ns] and castable values (e.g. strings) is deprecated. In a future version, these will not be considered matching by isin. Explicitly cast to the appropriate dtype before calling isin instead.\n",
            "  df = df[df.index.isin(dates_dt)]\n",
            "/Users/mirco/Documents/Tesi/code/models/DGDNN/Data/geometric_dataset_gen.py:133: FutureWarning: The behavior of 'isin' with dtype=datetime64[ns] and castable values (e.g. strings) is deprecated. In a future version, these will not be considered matching by isin. Explicitly cast to the appropriate dtype before calling isin instead.\n",
            "  df = df[df.index.isin(dates_dt)]\n",
            "/Users/mirco/Documents/Tesi/code/models/DGDNN/Data/geometric_dataset_gen.py:133: FutureWarning: The behavior of 'isin' with dtype=datetime64[ns] and castable values (e.g. strings) is deprecated. In a future version, these will not be considered matching by isin. Explicitly cast to the appropriate dtype before calling isin instead.\n",
            "  df = df[df.index.isin(dates_dt)]\n",
            " 23%|██▎       | 95/416 [01:13<04:14,  1.26it/s]"
          ]
        },
        {
          "name": "stdout",
          "output_type": "stream",
          "text": [
            "Generating graph 95/416...\n"
          ]
        },
        {
          "name": "stderr",
          "output_type": "stream",
          "text": [
            "/Users/mirco/Documents/Tesi/code/models/DGDNN/Data/geometric_dataset_gen.py:133: FutureWarning: The behavior of 'isin' with dtype=datetime64[ns] and castable values (e.g. strings) is deprecated. In a future version, these will not be considered matching by isin. Explicitly cast to the appropriate dtype before calling isin instead.\n",
            "  df = df[df.index.isin(dates_dt)]\n",
            "/Users/mirco/Documents/Tesi/code/models/DGDNN/Data/geometric_dataset_gen.py:133: FutureWarning: The behavior of 'isin' with dtype=datetime64[ns] and castable values (e.g. strings) is deprecated. In a future version, these will not be considered matching by isin. Explicitly cast to the appropriate dtype before calling isin instead.\n",
            "  df = df[df.index.isin(dates_dt)]\n",
            "/Users/mirco/Documents/Tesi/code/models/DGDNN/Data/geometric_dataset_gen.py:133: FutureWarning: The behavior of 'isin' with dtype=datetime64[ns] and castable values (e.g. strings) is deprecated. In a future version, these will not be considered matching by isin. Explicitly cast to the appropriate dtype before calling isin instead.\n",
            "  df = df[df.index.isin(dates_dt)]\n",
            "/Users/mirco/Documents/Tesi/code/models/DGDNN/Data/geometric_dataset_gen.py:133: FutureWarning: The behavior of 'isin' with dtype=datetime64[ns] and castable values (e.g. strings) is deprecated. In a future version, these will not be considered matching by isin. Explicitly cast to the appropriate dtype before calling isin instead.\n",
            "  df = df[df.index.isin(dates_dt)]\n",
            " 23%|██▎       | 96/416 [01:14<04:07,  1.29it/s]"
          ]
        },
        {
          "name": "stdout",
          "output_type": "stream",
          "text": [
            "Generating graph 96/416...\n"
          ]
        },
        {
          "name": "stderr",
          "output_type": "stream",
          "text": [
            "/Users/mirco/Documents/Tesi/code/models/DGDNN/Data/geometric_dataset_gen.py:133: FutureWarning: The behavior of 'isin' with dtype=datetime64[ns] and castable values (e.g. strings) is deprecated. In a future version, these will not be considered matching by isin. Explicitly cast to the appropriate dtype before calling isin instead.\n",
            "  df = df[df.index.isin(dates_dt)]\n",
            "/Users/mirco/Documents/Tesi/code/models/DGDNN/Data/geometric_dataset_gen.py:133: FutureWarning: The behavior of 'isin' with dtype=datetime64[ns] and castable values (e.g. strings) is deprecated. In a future version, these will not be considered matching by isin. Explicitly cast to the appropriate dtype before calling isin instead.\n",
            "  df = df[df.index.isin(dates_dt)]\n",
            "/Users/mirco/Documents/Tesi/code/models/DGDNN/Data/geometric_dataset_gen.py:133: FutureWarning: The behavior of 'isin' with dtype=datetime64[ns] and castable values (e.g. strings) is deprecated. In a future version, these will not be considered matching by isin. Explicitly cast to the appropriate dtype before calling isin instead.\n",
            "  df = df[df.index.isin(dates_dt)]\n",
            "/Users/mirco/Documents/Tesi/code/models/DGDNN/Data/geometric_dataset_gen.py:133: FutureWarning: The behavior of 'isin' with dtype=datetime64[ns] and castable values (e.g. strings) is deprecated. In a future version, these will not be considered matching by isin. Explicitly cast to the appropriate dtype before calling isin instead.\n",
            "  df = df[df.index.isin(dates_dt)]\n",
            " 23%|██▎       | 97/416 [01:15<04:00,  1.32it/s]"
          ]
        },
        {
          "name": "stdout",
          "output_type": "stream",
          "text": [
            "Generating graph 97/416...\n"
          ]
        },
        {
          "name": "stderr",
          "output_type": "stream",
          "text": [
            "/Users/mirco/Documents/Tesi/code/models/DGDNN/Data/geometric_dataset_gen.py:133: FutureWarning: The behavior of 'isin' with dtype=datetime64[ns] and castable values (e.g. strings) is deprecated. In a future version, these will not be considered matching by isin. Explicitly cast to the appropriate dtype before calling isin instead.\n",
            "  df = df[df.index.isin(dates_dt)]\n",
            "/Users/mirco/Documents/Tesi/code/models/DGDNN/Data/geometric_dataset_gen.py:133: FutureWarning: The behavior of 'isin' with dtype=datetime64[ns] and castable values (e.g. strings) is deprecated. In a future version, these will not be considered matching by isin. Explicitly cast to the appropriate dtype before calling isin instead.\n",
            "  df = df[df.index.isin(dates_dt)]\n",
            "/Users/mirco/Documents/Tesi/code/models/DGDNN/Data/geometric_dataset_gen.py:133: FutureWarning: The behavior of 'isin' with dtype=datetime64[ns] and castable values (e.g. strings) is deprecated. In a future version, these will not be considered matching by isin. Explicitly cast to the appropriate dtype before calling isin instead.\n",
            "  df = df[df.index.isin(dates_dt)]\n",
            "/Users/mirco/Documents/Tesi/code/models/DGDNN/Data/geometric_dataset_gen.py:133: FutureWarning: The behavior of 'isin' with dtype=datetime64[ns] and castable values (e.g. strings) is deprecated. In a future version, these will not be considered matching by isin. Explicitly cast to the appropriate dtype before calling isin instead.\n",
            "  df = df[df.index.isin(dates_dt)]\n",
            " 24%|██▎       | 98/416 [01:15<03:57,  1.34it/s]"
          ]
        },
        {
          "name": "stdout",
          "output_type": "stream",
          "text": [
            "Generating graph 98/416...\n"
          ]
        },
        {
          "name": "stderr",
          "output_type": "stream",
          "text": [
            "/Users/mirco/Documents/Tesi/code/models/DGDNN/Data/geometric_dataset_gen.py:133: FutureWarning: The behavior of 'isin' with dtype=datetime64[ns] and castable values (e.g. strings) is deprecated. In a future version, these will not be considered matching by isin. Explicitly cast to the appropriate dtype before calling isin instead.\n",
            "  df = df[df.index.isin(dates_dt)]\n",
            "/Users/mirco/Documents/Tesi/code/models/DGDNN/Data/geometric_dataset_gen.py:133: FutureWarning: The behavior of 'isin' with dtype=datetime64[ns] and castable values (e.g. strings) is deprecated. In a future version, these will not be considered matching by isin. Explicitly cast to the appropriate dtype before calling isin instead.\n",
            "  df = df[df.index.isin(dates_dt)]\n",
            "/Users/mirco/Documents/Tesi/code/models/DGDNN/Data/geometric_dataset_gen.py:133: FutureWarning: The behavior of 'isin' with dtype=datetime64[ns] and castable values (e.g. strings) is deprecated. In a future version, these will not be considered matching by isin. Explicitly cast to the appropriate dtype before calling isin instead.\n",
            "  df = df[df.index.isin(dates_dt)]\n",
            "/Users/mirco/Documents/Tesi/code/models/DGDNN/Data/geometric_dataset_gen.py:133: FutureWarning: The behavior of 'isin' with dtype=datetime64[ns] and castable values (e.g. strings) is deprecated. In a future version, these will not be considered matching by isin. Explicitly cast to the appropriate dtype before calling isin instead.\n",
            "  df = df[df.index.isin(dates_dt)]\n",
            " 24%|██▍       | 99/416 [01:16<04:17,  1.23it/s]"
          ]
        },
        {
          "name": "stdout",
          "output_type": "stream",
          "text": [
            "Generating graph 99/416...\n"
          ]
        },
        {
          "name": "stderr",
          "output_type": "stream",
          "text": [
            "/Users/mirco/Documents/Tesi/code/models/DGDNN/Data/geometric_dataset_gen.py:133: FutureWarning: The behavior of 'isin' with dtype=datetime64[ns] and castable values (e.g. strings) is deprecated. In a future version, these will not be considered matching by isin. Explicitly cast to the appropriate dtype before calling isin instead.\n",
            "  df = df[df.index.isin(dates_dt)]\n",
            "/Users/mirco/Documents/Tesi/code/models/DGDNN/Data/geometric_dataset_gen.py:133: FutureWarning: The behavior of 'isin' with dtype=datetime64[ns] and castable values (e.g. strings) is deprecated. In a future version, these will not be considered matching by isin. Explicitly cast to the appropriate dtype before calling isin instead.\n",
            "  df = df[df.index.isin(dates_dt)]\n",
            "/Users/mirco/Documents/Tesi/code/models/DGDNN/Data/geometric_dataset_gen.py:133: FutureWarning: The behavior of 'isin' with dtype=datetime64[ns] and castable values (e.g. strings) is deprecated. In a future version, these will not be considered matching by isin. Explicitly cast to the appropriate dtype before calling isin instead.\n",
            "  df = df[df.index.isin(dates_dt)]\n",
            "/Users/mirco/Documents/Tesi/code/models/DGDNN/Data/geometric_dataset_gen.py:133: FutureWarning: The behavior of 'isin' with dtype=datetime64[ns] and castable values (e.g. strings) is deprecated. In a future version, these will not be considered matching by isin. Explicitly cast to the appropriate dtype before calling isin instead.\n",
            "  df = df[df.index.isin(dates_dt)]\n",
            " 24%|██▍       | 100/416 [01:17<04:07,  1.28it/s]"
          ]
        },
        {
          "name": "stdout",
          "output_type": "stream",
          "text": [
            "Generating graph 100/416...\n"
          ]
        },
        {
          "name": "stderr",
          "output_type": "stream",
          "text": [
            "/Users/mirco/Documents/Tesi/code/models/DGDNN/Data/geometric_dataset_gen.py:133: FutureWarning: The behavior of 'isin' with dtype=datetime64[ns] and castable values (e.g. strings) is deprecated. In a future version, these will not be considered matching by isin. Explicitly cast to the appropriate dtype before calling isin instead.\n",
            "  df = df[df.index.isin(dates_dt)]\n",
            "/Users/mirco/Documents/Tesi/code/models/DGDNN/Data/geometric_dataset_gen.py:133: FutureWarning: The behavior of 'isin' with dtype=datetime64[ns] and castable values (e.g. strings) is deprecated. In a future version, these will not be considered matching by isin. Explicitly cast to the appropriate dtype before calling isin instead.\n",
            "  df = df[df.index.isin(dates_dt)]\n",
            "/Users/mirco/Documents/Tesi/code/models/DGDNN/Data/geometric_dataset_gen.py:133: FutureWarning: The behavior of 'isin' with dtype=datetime64[ns] and castable values (e.g. strings) is deprecated. In a future version, these will not be considered matching by isin. Explicitly cast to the appropriate dtype before calling isin instead.\n",
            "  df = df[df.index.isin(dates_dt)]\n",
            "/Users/mirco/Documents/Tesi/code/models/DGDNN/Data/geometric_dataset_gen.py:133: FutureWarning: The behavior of 'isin' with dtype=datetime64[ns] and castable values (e.g. strings) is deprecated. In a future version, these will not be considered matching by isin. Explicitly cast to the appropriate dtype before calling isin instead.\n",
            "  df = df[df.index.isin(dates_dt)]\n",
            " 24%|██▍       | 101/416 [01:18<04:00,  1.31it/s]"
          ]
        },
        {
          "name": "stdout",
          "output_type": "stream",
          "text": [
            "Generating graph 101/416...\n"
          ]
        },
        {
          "name": "stderr",
          "output_type": "stream",
          "text": [
            "/Users/mirco/Documents/Tesi/code/models/DGDNN/Data/geometric_dataset_gen.py:133: FutureWarning: The behavior of 'isin' with dtype=datetime64[ns] and castable values (e.g. strings) is deprecated. In a future version, these will not be considered matching by isin. Explicitly cast to the appropriate dtype before calling isin instead.\n",
            "  df = df[df.index.isin(dates_dt)]\n",
            "/Users/mirco/Documents/Tesi/code/models/DGDNN/Data/geometric_dataset_gen.py:133: FutureWarning: The behavior of 'isin' with dtype=datetime64[ns] and castable values (e.g. strings) is deprecated. In a future version, these will not be considered matching by isin. Explicitly cast to the appropriate dtype before calling isin instead.\n",
            "  df = df[df.index.isin(dates_dt)]\n",
            "/Users/mirco/Documents/Tesi/code/models/DGDNN/Data/geometric_dataset_gen.py:133: FutureWarning: The behavior of 'isin' with dtype=datetime64[ns] and castable values (e.g. strings) is deprecated. In a future version, these will not be considered matching by isin. Explicitly cast to the appropriate dtype before calling isin instead.\n",
            "  df = df[df.index.isin(dates_dt)]\n",
            "/Users/mirco/Documents/Tesi/code/models/DGDNN/Data/geometric_dataset_gen.py:133: FutureWarning: The behavior of 'isin' with dtype=datetime64[ns] and castable values (e.g. strings) is deprecated. In a future version, these will not be considered matching by isin. Explicitly cast to the appropriate dtype before calling isin instead.\n",
            "  df = df[df.index.isin(dates_dt)]\n",
            " 25%|██▍       | 102/416 [01:19<04:08,  1.26it/s]"
          ]
        },
        {
          "name": "stdout",
          "output_type": "stream",
          "text": [
            "Generating graph 102/416...\n"
          ]
        },
        {
          "name": "stderr",
          "output_type": "stream",
          "text": [
            "/Users/mirco/Documents/Tesi/code/models/DGDNN/Data/geometric_dataset_gen.py:133: FutureWarning: The behavior of 'isin' with dtype=datetime64[ns] and castable values (e.g. strings) is deprecated. In a future version, these will not be considered matching by isin. Explicitly cast to the appropriate dtype before calling isin instead.\n",
            "  df = df[df.index.isin(dates_dt)]\n",
            "/Users/mirco/Documents/Tesi/code/models/DGDNN/Data/geometric_dataset_gen.py:133: FutureWarning: The behavior of 'isin' with dtype=datetime64[ns] and castable values (e.g. strings) is deprecated. In a future version, these will not be considered matching by isin. Explicitly cast to the appropriate dtype before calling isin instead.\n",
            "  df = df[df.index.isin(dates_dt)]\n",
            "/Users/mirco/Documents/Tesi/code/models/DGDNN/Data/geometric_dataset_gen.py:133: FutureWarning: The behavior of 'isin' with dtype=datetime64[ns] and castable values (e.g. strings) is deprecated. In a future version, these will not be considered matching by isin. Explicitly cast to the appropriate dtype before calling isin instead.\n",
            "  df = df[df.index.isin(dates_dt)]\n",
            "/Users/mirco/Documents/Tesi/code/models/DGDNN/Data/geometric_dataset_gen.py:133: FutureWarning: The behavior of 'isin' with dtype=datetime64[ns] and castable values (e.g. strings) is deprecated. In a future version, these will not be considered matching by isin. Explicitly cast to the appropriate dtype before calling isin instead.\n",
            "  df = df[df.index.isin(dates_dt)]\n",
            " 25%|██▍       | 103/416 [01:19<04:00,  1.30it/s]"
          ]
        },
        {
          "name": "stdout",
          "output_type": "stream",
          "text": [
            "Generating graph 103/416...\n"
          ]
        },
        {
          "name": "stderr",
          "output_type": "stream",
          "text": [
            "/Users/mirco/Documents/Tesi/code/models/DGDNN/Data/geometric_dataset_gen.py:133: FutureWarning: The behavior of 'isin' with dtype=datetime64[ns] and castable values (e.g. strings) is deprecated. In a future version, these will not be considered matching by isin. Explicitly cast to the appropriate dtype before calling isin instead.\n",
            "  df = df[df.index.isin(dates_dt)]\n",
            "/Users/mirco/Documents/Tesi/code/models/DGDNN/Data/geometric_dataset_gen.py:133: FutureWarning: The behavior of 'isin' with dtype=datetime64[ns] and castable values (e.g. strings) is deprecated. In a future version, these will not be considered matching by isin. Explicitly cast to the appropriate dtype before calling isin instead.\n",
            "  df = df[df.index.isin(dates_dt)]\n",
            "/Users/mirco/Documents/Tesi/code/models/DGDNN/Data/geometric_dataset_gen.py:133: FutureWarning: The behavior of 'isin' with dtype=datetime64[ns] and castable values (e.g. strings) is deprecated. In a future version, these will not be considered matching by isin. Explicitly cast to the appropriate dtype before calling isin instead.\n",
            "  df = df[df.index.isin(dates_dt)]\n",
            "/Users/mirco/Documents/Tesi/code/models/DGDNN/Data/geometric_dataset_gen.py:133: FutureWarning: The behavior of 'isin' with dtype=datetime64[ns] and castable values (e.g. strings) is deprecated. In a future version, these will not be considered matching by isin. Explicitly cast to the appropriate dtype before calling isin instead.\n",
            "  df = df[df.index.isin(dates_dt)]\n",
            " 25%|██▌       | 104/416 [01:20<04:03,  1.28it/s]"
          ]
        },
        {
          "name": "stdout",
          "output_type": "stream",
          "text": [
            "Generating graph 104/416...\n"
          ]
        },
        {
          "name": "stderr",
          "output_type": "stream",
          "text": [
            "/Users/mirco/Documents/Tesi/code/models/DGDNN/Data/geometric_dataset_gen.py:133: FutureWarning: The behavior of 'isin' with dtype=datetime64[ns] and castable values (e.g. strings) is deprecated. In a future version, these will not be considered matching by isin. Explicitly cast to the appropriate dtype before calling isin instead.\n",
            "  df = df[df.index.isin(dates_dt)]\n",
            "/Users/mirco/Documents/Tesi/code/models/DGDNN/Data/geometric_dataset_gen.py:133: FutureWarning: The behavior of 'isin' with dtype=datetime64[ns] and castable values (e.g. strings) is deprecated. In a future version, these will not be considered matching by isin. Explicitly cast to the appropriate dtype before calling isin instead.\n",
            "  df = df[df.index.isin(dates_dt)]\n",
            "/Users/mirco/Documents/Tesi/code/models/DGDNN/Data/geometric_dataset_gen.py:133: FutureWarning: The behavior of 'isin' with dtype=datetime64[ns] and castable values (e.g. strings) is deprecated. In a future version, these will not be considered matching by isin. Explicitly cast to the appropriate dtype before calling isin instead.\n",
            "  df = df[df.index.isin(dates_dt)]\n",
            "/Users/mirco/Documents/Tesi/code/models/DGDNN/Data/geometric_dataset_gen.py:133: FutureWarning: The behavior of 'isin' with dtype=datetime64[ns] and castable values (e.g. strings) is deprecated. In a future version, these will not be considered matching by isin. Explicitly cast to the appropriate dtype before calling isin instead.\n",
            "  df = df[df.index.isin(dates_dt)]\n",
            " 25%|██▌       | 105/416 [01:21<04:05,  1.27it/s]"
          ]
        },
        {
          "name": "stdout",
          "output_type": "stream",
          "text": [
            "Generating graph 105/416...\n"
          ]
        },
        {
          "name": "stderr",
          "output_type": "stream",
          "text": [
            "/Users/mirco/Documents/Tesi/code/models/DGDNN/Data/geometric_dataset_gen.py:133: FutureWarning: The behavior of 'isin' with dtype=datetime64[ns] and castable values (e.g. strings) is deprecated. In a future version, these will not be considered matching by isin. Explicitly cast to the appropriate dtype before calling isin instead.\n",
            "  df = df[df.index.isin(dates_dt)]\n",
            "/Users/mirco/Documents/Tesi/code/models/DGDNN/Data/geometric_dataset_gen.py:133: FutureWarning: The behavior of 'isin' with dtype=datetime64[ns] and castable values (e.g. strings) is deprecated. In a future version, these will not be considered matching by isin. Explicitly cast to the appropriate dtype before calling isin instead.\n",
            "  df = df[df.index.isin(dates_dt)]\n",
            "/Users/mirco/Documents/Tesi/code/models/DGDNN/Data/geometric_dataset_gen.py:133: FutureWarning: The behavior of 'isin' with dtype=datetime64[ns] and castable values (e.g. strings) is deprecated. In a future version, these will not be considered matching by isin. Explicitly cast to the appropriate dtype before calling isin instead.\n",
            "  df = df[df.index.isin(dates_dt)]\n",
            "/Users/mirco/Documents/Tesi/code/models/DGDNN/Data/geometric_dataset_gen.py:133: FutureWarning: The behavior of 'isin' with dtype=datetime64[ns] and castable values (e.g. strings) is deprecated. In a future version, these will not be considered matching by isin. Explicitly cast to the appropriate dtype before calling isin instead.\n",
            "  df = df[df.index.isin(dates_dt)]\n",
            " 25%|██▌       | 106/416 [01:22<04:22,  1.18it/s]"
          ]
        },
        {
          "name": "stdout",
          "output_type": "stream",
          "text": [
            "Generating graph 106/416...\n"
          ]
        },
        {
          "name": "stderr",
          "output_type": "stream",
          "text": [
            "/Users/mirco/Documents/Tesi/code/models/DGDNN/Data/geometric_dataset_gen.py:133: FutureWarning: The behavior of 'isin' with dtype=datetime64[ns] and castable values (e.g. strings) is deprecated. In a future version, these will not be considered matching by isin. Explicitly cast to the appropriate dtype before calling isin instead.\n",
            "  df = df[df.index.isin(dates_dt)]\n",
            "/Users/mirco/Documents/Tesi/code/models/DGDNN/Data/geometric_dataset_gen.py:133: FutureWarning: The behavior of 'isin' with dtype=datetime64[ns] and castable values (e.g. strings) is deprecated. In a future version, these will not be considered matching by isin. Explicitly cast to the appropriate dtype before calling isin instead.\n",
            "  df = df[df.index.isin(dates_dt)]\n",
            "/Users/mirco/Documents/Tesi/code/models/DGDNN/Data/geometric_dataset_gen.py:133: FutureWarning: The behavior of 'isin' with dtype=datetime64[ns] and castable values (e.g. strings) is deprecated. In a future version, these will not be considered matching by isin. Explicitly cast to the appropriate dtype before calling isin instead.\n",
            "  df = df[df.index.isin(dates_dt)]\n",
            "/Users/mirco/Documents/Tesi/code/models/DGDNN/Data/geometric_dataset_gen.py:133: FutureWarning: The behavior of 'isin' with dtype=datetime64[ns] and castable values (e.g. strings) is deprecated. In a future version, these will not be considered matching by isin. Explicitly cast to the appropriate dtype before calling isin instead.\n",
            "  df = df[df.index.isin(dates_dt)]\n",
            " 26%|██▌       | 107/416 [01:23<04:10,  1.23it/s]"
          ]
        },
        {
          "name": "stdout",
          "output_type": "stream",
          "text": [
            "Generating graph 107/416...\n"
          ]
        },
        {
          "name": "stderr",
          "output_type": "stream",
          "text": [
            "/Users/mirco/Documents/Tesi/code/models/DGDNN/Data/geometric_dataset_gen.py:133: FutureWarning: The behavior of 'isin' with dtype=datetime64[ns] and castable values (e.g. strings) is deprecated. In a future version, these will not be considered matching by isin. Explicitly cast to the appropriate dtype before calling isin instead.\n",
            "  df = df[df.index.isin(dates_dt)]\n",
            "/Users/mirco/Documents/Tesi/code/models/DGDNN/Data/geometric_dataset_gen.py:133: FutureWarning: The behavior of 'isin' with dtype=datetime64[ns] and castable values (e.g. strings) is deprecated. In a future version, these will not be considered matching by isin. Explicitly cast to the appropriate dtype before calling isin instead.\n",
            "  df = df[df.index.isin(dates_dt)]\n",
            "/Users/mirco/Documents/Tesi/code/models/DGDNN/Data/geometric_dataset_gen.py:133: FutureWarning: The behavior of 'isin' with dtype=datetime64[ns] and castable values (e.g. strings) is deprecated. In a future version, these will not be considered matching by isin. Explicitly cast to the appropriate dtype before calling isin instead.\n",
            "  df = df[df.index.isin(dates_dt)]\n",
            "/Users/mirco/Documents/Tesi/code/models/DGDNN/Data/geometric_dataset_gen.py:133: FutureWarning: The behavior of 'isin' with dtype=datetime64[ns] and castable values (e.g. strings) is deprecated. In a future version, these will not be considered matching by isin. Explicitly cast to the appropriate dtype before calling isin instead.\n",
            "  df = df[df.index.isin(dates_dt)]\n",
            " 26%|██▌       | 108/416 [01:23<04:01,  1.27it/s]"
          ]
        },
        {
          "name": "stdout",
          "output_type": "stream",
          "text": [
            "Generating graph 108/416...\n"
          ]
        },
        {
          "name": "stderr",
          "output_type": "stream",
          "text": [
            "/Users/mirco/Documents/Tesi/code/models/DGDNN/Data/geometric_dataset_gen.py:133: FutureWarning: The behavior of 'isin' with dtype=datetime64[ns] and castable values (e.g. strings) is deprecated. In a future version, these will not be considered matching by isin. Explicitly cast to the appropriate dtype before calling isin instead.\n",
            "  df = df[df.index.isin(dates_dt)]\n",
            "/Users/mirco/Documents/Tesi/code/models/DGDNN/Data/geometric_dataset_gen.py:133: FutureWarning: The behavior of 'isin' with dtype=datetime64[ns] and castable values (e.g. strings) is deprecated. In a future version, these will not be considered matching by isin. Explicitly cast to the appropriate dtype before calling isin instead.\n",
            "  df = df[df.index.isin(dates_dt)]\n",
            "/Users/mirco/Documents/Tesi/code/models/DGDNN/Data/geometric_dataset_gen.py:133: FutureWarning: The behavior of 'isin' with dtype=datetime64[ns] and castable values (e.g. strings) is deprecated. In a future version, these will not be considered matching by isin. Explicitly cast to the appropriate dtype before calling isin instead.\n",
            "  df = df[df.index.isin(dates_dt)]\n",
            "/Users/mirco/Documents/Tesi/code/models/DGDNN/Data/geometric_dataset_gen.py:133: FutureWarning: The behavior of 'isin' with dtype=datetime64[ns] and castable values (e.g. strings) is deprecated. In a future version, these will not be considered matching by isin. Explicitly cast to the appropriate dtype before calling isin instead.\n",
            "  df = df[df.index.isin(dates_dt)]\n",
            " 26%|██▌       | 109/416 [01:24<04:08,  1.24it/s]"
          ]
        },
        {
          "name": "stdout",
          "output_type": "stream",
          "text": [
            "Generating graph 109/416...\n"
          ]
        },
        {
          "name": "stderr",
          "output_type": "stream",
          "text": [
            "/Users/mirco/Documents/Tesi/code/models/DGDNN/Data/geometric_dataset_gen.py:133: FutureWarning: The behavior of 'isin' with dtype=datetime64[ns] and castable values (e.g. strings) is deprecated. In a future version, these will not be considered matching by isin. Explicitly cast to the appropriate dtype before calling isin instead.\n",
            "  df = df[df.index.isin(dates_dt)]\n",
            "/Users/mirco/Documents/Tesi/code/models/DGDNN/Data/geometric_dataset_gen.py:133: FutureWarning: The behavior of 'isin' with dtype=datetime64[ns] and castable values (e.g. strings) is deprecated. In a future version, these will not be considered matching by isin. Explicitly cast to the appropriate dtype before calling isin instead.\n",
            "  df = df[df.index.isin(dates_dt)]\n",
            "/Users/mirco/Documents/Tesi/code/models/DGDNN/Data/geometric_dataset_gen.py:133: FutureWarning: The behavior of 'isin' with dtype=datetime64[ns] and castable values (e.g. strings) is deprecated. In a future version, these will not be considered matching by isin. Explicitly cast to the appropriate dtype before calling isin instead.\n",
            "  df = df[df.index.isin(dates_dt)]\n",
            "/Users/mirco/Documents/Tesi/code/models/DGDNN/Data/geometric_dataset_gen.py:133: FutureWarning: The behavior of 'isin' with dtype=datetime64[ns] and castable values (e.g. strings) is deprecated. In a future version, these will not be considered matching by isin. Explicitly cast to the appropriate dtype before calling isin instead.\n",
            "  df = df[df.index.isin(dates_dt)]\n",
            " 26%|██▋       | 110/416 [01:25<03:59,  1.28it/s]"
          ]
        },
        {
          "name": "stdout",
          "output_type": "stream",
          "text": [
            "Generating graph 110/416...\n"
          ]
        },
        {
          "name": "stderr",
          "output_type": "stream",
          "text": [
            "/Users/mirco/Documents/Tesi/code/models/DGDNN/Data/geometric_dataset_gen.py:133: FutureWarning: The behavior of 'isin' with dtype=datetime64[ns] and castable values (e.g. strings) is deprecated. In a future version, these will not be considered matching by isin. Explicitly cast to the appropriate dtype before calling isin instead.\n",
            "  df = df[df.index.isin(dates_dt)]\n",
            "/Users/mirco/Documents/Tesi/code/models/DGDNN/Data/geometric_dataset_gen.py:133: FutureWarning: The behavior of 'isin' with dtype=datetime64[ns] and castable values (e.g. strings) is deprecated. In a future version, these will not be considered matching by isin. Explicitly cast to the appropriate dtype before calling isin instead.\n",
            "  df = df[df.index.isin(dates_dt)]\n",
            "/Users/mirco/Documents/Tesi/code/models/DGDNN/Data/geometric_dataset_gen.py:133: FutureWarning: The behavior of 'isin' with dtype=datetime64[ns] and castable values (e.g. strings) is deprecated. In a future version, these will not be considered matching by isin. Explicitly cast to the appropriate dtype before calling isin instead.\n",
            "  df = df[df.index.isin(dates_dt)]\n",
            "/Users/mirco/Documents/Tesi/code/models/DGDNN/Data/geometric_dataset_gen.py:133: FutureWarning: The behavior of 'isin' with dtype=datetime64[ns] and castable values (e.g. strings) is deprecated. In a future version, these will not be considered matching by isin. Explicitly cast to the appropriate dtype before calling isin instead.\n",
            "  df = df[df.index.isin(dates_dt)]\n",
            " 27%|██▋       | 111/416 [01:26<03:57,  1.28it/s]"
          ]
        },
        {
          "name": "stdout",
          "output_type": "stream",
          "text": [
            "Generating graph 111/416...\n"
          ]
        },
        {
          "name": "stderr",
          "output_type": "stream",
          "text": [
            "/Users/mirco/Documents/Tesi/code/models/DGDNN/Data/geometric_dataset_gen.py:133: FutureWarning: The behavior of 'isin' with dtype=datetime64[ns] and castable values (e.g. strings) is deprecated. In a future version, these will not be considered matching by isin. Explicitly cast to the appropriate dtype before calling isin instead.\n",
            "  df = df[df.index.isin(dates_dt)]\n",
            "/Users/mirco/Documents/Tesi/code/models/DGDNN/Data/geometric_dataset_gen.py:133: FutureWarning: The behavior of 'isin' with dtype=datetime64[ns] and castable values (e.g. strings) is deprecated. In a future version, these will not be considered matching by isin. Explicitly cast to the appropriate dtype before calling isin instead.\n",
            "  df = df[df.index.isin(dates_dt)]\n",
            "/Users/mirco/Documents/Tesi/code/models/DGDNN/Data/geometric_dataset_gen.py:133: FutureWarning: The behavior of 'isin' with dtype=datetime64[ns] and castable values (e.g. strings) is deprecated. In a future version, these will not be considered matching by isin. Explicitly cast to the appropriate dtype before calling isin instead.\n",
            "  df = df[df.index.isin(dates_dt)]\n",
            "/Users/mirco/Documents/Tesi/code/models/DGDNN/Data/geometric_dataset_gen.py:133: FutureWarning: The behavior of 'isin' with dtype=datetime64[ns] and castable values (e.g. strings) is deprecated. In a future version, these will not be considered matching by isin. Explicitly cast to the appropriate dtype before calling isin instead.\n",
            "  df = df[df.index.isin(dates_dt)]\n",
            " 27%|██▋       | 112/416 [01:26<03:53,  1.30it/s]"
          ]
        },
        {
          "name": "stdout",
          "output_type": "stream",
          "text": [
            "Generating graph 112/416...\n"
          ]
        },
        {
          "name": "stderr",
          "output_type": "stream",
          "text": [
            "/Users/mirco/Documents/Tesi/code/models/DGDNN/Data/geometric_dataset_gen.py:133: FutureWarning: The behavior of 'isin' with dtype=datetime64[ns] and castable values (e.g. strings) is deprecated. In a future version, these will not be considered matching by isin. Explicitly cast to the appropriate dtype before calling isin instead.\n",
            "  df = df[df.index.isin(dates_dt)]\n",
            "/Users/mirco/Documents/Tesi/code/models/DGDNN/Data/geometric_dataset_gen.py:133: FutureWarning: The behavior of 'isin' with dtype=datetime64[ns] and castable values (e.g. strings) is deprecated. In a future version, these will not be considered matching by isin. Explicitly cast to the appropriate dtype before calling isin instead.\n",
            "  df = df[df.index.isin(dates_dt)]\n",
            "/Users/mirco/Documents/Tesi/code/models/DGDNN/Data/geometric_dataset_gen.py:133: FutureWarning: The behavior of 'isin' with dtype=datetime64[ns] and castable values (e.g. strings) is deprecated. In a future version, these will not be considered matching by isin. Explicitly cast to the appropriate dtype before calling isin instead.\n",
            "  df = df[df.index.isin(dates_dt)]\n",
            "/Users/mirco/Documents/Tesi/code/models/DGDNN/Data/geometric_dataset_gen.py:133: FutureWarning: The behavior of 'isin' with dtype=datetime64[ns] and castable values (e.g. strings) is deprecated. In a future version, these will not be considered matching by isin. Explicitly cast to the appropriate dtype before calling isin instead.\n",
            "  df = df[df.index.isin(dates_dt)]\n",
            " 27%|██▋       | 113/416 [01:27<04:08,  1.22it/s]"
          ]
        },
        {
          "name": "stdout",
          "output_type": "stream",
          "text": [
            "Generating graph 113/416...\n"
          ]
        },
        {
          "name": "stderr",
          "output_type": "stream",
          "text": [
            "/Users/mirco/Documents/Tesi/code/models/DGDNN/Data/geometric_dataset_gen.py:133: FutureWarning: The behavior of 'isin' with dtype=datetime64[ns] and castable values (e.g. strings) is deprecated. In a future version, these will not be considered matching by isin. Explicitly cast to the appropriate dtype before calling isin instead.\n",
            "  df = df[df.index.isin(dates_dt)]\n",
            "/Users/mirco/Documents/Tesi/code/models/DGDNN/Data/geometric_dataset_gen.py:133: FutureWarning: The behavior of 'isin' with dtype=datetime64[ns] and castable values (e.g. strings) is deprecated. In a future version, these will not be considered matching by isin. Explicitly cast to the appropriate dtype before calling isin instead.\n",
            "  df = df[df.index.isin(dates_dt)]\n",
            "/Users/mirco/Documents/Tesi/code/models/DGDNN/Data/geometric_dataset_gen.py:133: FutureWarning: The behavior of 'isin' with dtype=datetime64[ns] and castable values (e.g. strings) is deprecated. In a future version, these will not be considered matching by isin. Explicitly cast to the appropriate dtype before calling isin instead.\n",
            "  df = df[df.index.isin(dates_dt)]\n",
            "/Users/mirco/Documents/Tesi/code/models/DGDNN/Data/geometric_dataset_gen.py:133: FutureWarning: The behavior of 'isin' with dtype=datetime64[ns] and castable values (e.g. strings) is deprecated. In a future version, these will not be considered matching by isin. Explicitly cast to the appropriate dtype before calling isin instead.\n",
            "  df = df[df.index.isin(dates_dt)]\n",
            " 27%|██▋       | 114/416 [01:28<03:58,  1.27it/s]"
          ]
        },
        {
          "name": "stdout",
          "output_type": "stream",
          "text": [
            "Generating graph 114/416...\n"
          ]
        },
        {
          "name": "stderr",
          "output_type": "stream",
          "text": [
            "/Users/mirco/Documents/Tesi/code/models/DGDNN/Data/geometric_dataset_gen.py:133: FutureWarning: The behavior of 'isin' with dtype=datetime64[ns] and castable values (e.g. strings) is deprecated. In a future version, these will not be considered matching by isin. Explicitly cast to the appropriate dtype before calling isin instead.\n",
            "  df = df[df.index.isin(dates_dt)]\n",
            "/Users/mirco/Documents/Tesi/code/models/DGDNN/Data/geometric_dataset_gen.py:133: FutureWarning: The behavior of 'isin' with dtype=datetime64[ns] and castable values (e.g. strings) is deprecated. In a future version, these will not be considered matching by isin. Explicitly cast to the appropriate dtype before calling isin instead.\n",
            "  df = df[df.index.isin(dates_dt)]\n",
            "/Users/mirco/Documents/Tesi/code/models/DGDNN/Data/geometric_dataset_gen.py:133: FutureWarning: The behavior of 'isin' with dtype=datetime64[ns] and castable values (e.g. strings) is deprecated. In a future version, these will not be considered matching by isin. Explicitly cast to the appropriate dtype before calling isin instead.\n",
            "  df = df[df.index.isin(dates_dt)]\n",
            "/Users/mirco/Documents/Tesi/code/models/DGDNN/Data/geometric_dataset_gen.py:133: FutureWarning: The behavior of 'isin' with dtype=datetime64[ns] and castable values (e.g. strings) is deprecated. In a future version, these will not be considered matching by isin. Explicitly cast to the appropriate dtype before calling isin instead.\n",
            "  df = df[df.index.isin(dates_dt)]\n",
            " 28%|██▊       | 115/416 [01:29<04:03,  1.24it/s]"
          ]
        },
        {
          "name": "stdout",
          "output_type": "stream",
          "text": [
            "Generating graph 115/416...\n"
          ]
        },
        {
          "name": "stderr",
          "output_type": "stream",
          "text": [
            "/Users/mirco/Documents/Tesi/code/models/DGDNN/Data/geometric_dataset_gen.py:133: FutureWarning: The behavior of 'isin' with dtype=datetime64[ns] and castable values (e.g. strings) is deprecated. In a future version, these will not be considered matching by isin. Explicitly cast to the appropriate dtype before calling isin instead.\n",
            "  df = df[df.index.isin(dates_dt)]\n",
            "/Users/mirco/Documents/Tesi/code/models/DGDNN/Data/geometric_dataset_gen.py:133: FutureWarning: The behavior of 'isin' with dtype=datetime64[ns] and castable values (e.g. strings) is deprecated. In a future version, these will not be considered matching by isin. Explicitly cast to the appropriate dtype before calling isin instead.\n",
            "  df = df[df.index.isin(dates_dt)]\n",
            "/Users/mirco/Documents/Tesi/code/models/DGDNN/Data/geometric_dataset_gen.py:133: FutureWarning: The behavior of 'isin' with dtype=datetime64[ns] and castable values (e.g. strings) is deprecated. In a future version, these will not be considered matching by isin. Explicitly cast to the appropriate dtype before calling isin instead.\n",
            "  df = df[df.index.isin(dates_dt)]\n",
            "/Users/mirco/Documents/Tesi/code/models/DGDNN/Data/geometric_dataset_gen.py:133: FutureWarning: The behavior of 'isin' with dtype=datetime64[ns] and castable values (e.g. strings) is deprecated. In a future version, these will not be considered matching by isin. Explicitly cast to the appropriate dtype before calling isin instead.\n",
            "  df = df[df.index.isin(dates_dt)]\n",
            " 28%|██▊       | 116/416 [01:30<03:54,  1.28it/s]"
          ]
        },
        {
          "name": "stdout",
          "output_type": "stream",
          "text": [
            "Generating graph 116/416...\n"
          ]
        },
        {
          "name": "stderr",
          "output_type": "stream",
          "text": [
            "/Users/mirco/Documents/Tesi/code/models/DGDNN/Data/geometric_dataset_gen.py:133: FutureWarning: The behavior of 'isin' with dtype=datetime64[ns] and castable values (e.g. strings) is deprecated. In a future version, these will not be considered matching by isin. Explicitly cast to the appropriate dtype before calling isin instead.\n",
            "  df = df[df.index.isin(dates_dt)]\n",
            "/Users/mirco/Documents/Tesi/code/models/DGDNN/Data/geometric_dataset_gen.py:133: FutureWarning: The behavior of 'isin' with dtype=datetime64[ns] and castable values (e.g. strings) is deprecated. In a future version, these will not be considered matching by isin. Explicitly cast to the appropriate dtype before calling isin instead.\n",
            "  df = df[df.index.isin(dates_dt)]\n",
            "/Users/mirco/Documents/Tesi/code/models/DGDNN/Data/geometric_dataset_gen.py:133: FutureWarning: The behavior of 'isin' with dtype=datetime64[ns] and castable values (e.g. strings) is deprecated. In a future version, these will not be considered matching by isin. Explicitly cast to the appropriate dtype before calling isin instead.\n",
            "  df = df[df.index.isin(dates_dt)]\n",
            "/Users/mirco/Documents/Tesi/code/models/DGDNN/Data/geometric_dataset_gen.py:133: FutureWarning: The behavior of 'isin' with dtype=datetime64[ns] and castable values (e.g. strings) is deprecated. In a future version, these will not be considered matching by isin. Explicitly cast to the appropriate dtype before calling isin instead.\n",
            "  df = df[df.index.isin(dates_dt)]\n",
            " 28%|██▊       | 117/416 [01:30<03:49,  1.30it/s]"
          ]
        },
        {
          "name": "stdout",
          "output_type": "stream",
          "text": [
            "Generating graph 117/416...\n"
          ]
        },
        {
          "name": "stderr",
          "output_type": "stream",
          "text": [
            "/Users/mirco/Documents/Tesi/code/models/DGDNN/Data/geometric_dataset_gen.py:133: FutureWarning: The behavior of 'isin' with dtype=datetime64[ns] and castable values (e.g. strings) is deprecated. In a future version, these will not be considered matching by isin. Explicitly cast to the appropriate dtype before calling isin instead.\n",
            "  df = df[df.index.isin(dates_dt)]\n",
            "/Users/mirco/Documents/Tesi/code/models/DGDNN/Data/geometric_dataset_gen.py:133: FutureWarning: The behavior of 'isin' with dtype=datetime64[ns] and castable values (e.g. strings) is deprecated. In a future version, these will not be considered matching by isin. Explicitly cast to the appropriate dtype before calling isin instead.\n",
            "  df = df[df.index.isin(dates_dt)]\n",
            "/Users/mirco/Documents/Tesi/code/models/DGDNN/Data/geometric_dataset_gen.py:133: FutureWarning: The behavior of 'isin' with dtype=datetime64[ns] and castable values (e.g. strings) is deprecated. In a future version, these will not be considered matching by isin. Explicitly cast to the appropriate dtype before calling isin instead.\n",
            "  df = df[df.index.isin(dates_dt)]\n",
            "/Users/mirco/Documents/Tesi/code/models/DGDNN/Data/geometric_dataset_gen.py:133: FutureWarning: The behavior of 'isin' with dtype=datetime64[ns] and castable values (e.g. strings) is deprecated. In a future version, these will not be considered matching by isin. Explicitly cast to the appropriate dtype before calling isin instead.\n",
            "  df = df[df.index.isin(dates_dt)]\n",
            " 28%|██▊       | 118/416 [01:31<03:44,  1.33it/s]"
          ]
        },
        {
          "name": "stdout",
          "output_type": "stream",
          "text": [
            "Generating graph 118/416...\n"
          ]
        },
        {
          "name": "stderr",
          "output_type": "stream",
          "text": [
            "/Users/mirco/Documents/Tesi/code/models/DGDNN/Data/geometric_dataset_gen.py:133: FutureWarning: The behavior of 'isin' with dtype=datetime64[ns] and castable values (e.g. strings) is deprecated. In a future version, these will not be considered matching by isin. Explicitly cast to the appropriate dtype before calling isin instead.\n",
            "  df = df[df.index.isin(dates_dt)]\n",
            "/Users/mirco/Documents/Tesi/code/models/DGDNN/Data/geometric_dataset_gen.py:133: FutureWarning: The behavior of 'isin' with dtype=datetime64[ns] and castable values (e.g. strings) is deprecated. In a future version, these will not be considered matching by isin. Explicitly cast to the appropriate dtype before calling isin instead.\n",
            "  df = df[df.index.isin(dates_dt)]\n",
            "/Users/mirco/Documents/Tesi/code/models/DGDNN/Data/geometric_dataset_gen.py:133: FutureWarning: The behavior of 'isin' with dtype=datetime64[ns] and castable values (e.g. strings) is deprecated. In a future version, these will not be considered matching by isin. Explicitly cast to the appropriate dtype before calling isin instead.\n",
            "  df = df[df.index.isin(dates_dt)]\n",
            "/Users/mirco/Documents/Tesi/code/models/DGDNN/Data/geometric_dataset_gen.py:133: FutureWarning: The behavior of 'isin' with dtype=datetime64[ns] and castable values (e.g. strings) is deprecated. In a future version, these will not be considered matching by isin. Explicitly cast to the appropriate dtype before calling isin instead.\n",
            "  df = df[df.index.isin(dates_dt)]\n",
            " 29%|██▊       | 119/416 [01:32<03:50,  1.29it/s]"
          ]
        },
        {
          "name": "stdout",
          "output_type": "stream",
          "text": [
            "Generating graph 119/416...\n"
          ]
        },
        {
          "name": "stderr",
          "output_type": "stream",
          "text": [
            "/Users/mirco/Documents/Tesi/code/models/DGDNN/Data/geometric_dataset_gen.py:133: FutureWarning: The behavior of 'isin' with dtype=datetime64[ns] and castable values (e.g. strings) is deprecated. In a future version, these will not be considered matching by isin. Explicitly cast to the appropriate dtype before calling isin instead.\n",
            "  df = df[df.index.isin(dates_dt)]\n",
            "/Users/mirco/Documents/Tesi/code/models/DGDNN/Data/geometric_dataset_gen.py:133: FutureWarning: The behavior of 'isin' with dtype=datetime64[ns] and castable values (e.g. strings) is deprecated. In a future version, these will not be considered matching by isin. Explicitly cast to the appropriate dtype before calling isin instead.\n",
            "  df = df[df.index.isin(dates_dt)]\n",
            "/Users/mirco/Documents/Tesi/code/models/DGDNN/Data/geometric_dataset_gen.py:133: FutureWarning: The behavior of 'isin' with dtype=datetime64[ns] and castable values (e.g. strings) is deprecated. In a future version, these will not be considered matching by isin. Explicitly cast to the appropriate dtype before calling isin instead.\n",
            "  df = df[df.index.isin(dates_dt)]\n",
            "/Users/mirco/Documents/Tesi/code/models/DGDNN/Data/geometric_dataset_gen.py:133: FutureWarning: The behavior of 'isin' with dtype=datetime64[ns] and castable values (e.g. strings) is deprecated. In a future version, these will not be considered matching by isin. Explicitly cast to the appropriate dtype before calling isin instead.\n",
            "  df = df[df.index.isin(dates_dt)]\n",
            " 29%|██▉       | 120/416 [01:33<03:53,  1.27it/s]"
          ]
        },
        {
          "name": "stdout",
          "output_type": "stream",
          "text": [
            "Generating graph 120/416...\n"
          ]
        },
        {
          "name": "stderr",
          "output_type": "stream",
          "text": [
            "/Users/mirco/Documents/Tesi/code/models/DGDNN/Data/geometric_dataset_gen.py:133: FutureWarning: The behavior of 'isin' with dtype=datetime64[ns] and castable values (e.g. strings) is deprecated. In a future version, these will not be considered matching by isin. Explicitly cast to the appropriate dtype before calling isin instead.\n",
            "  df = df[df.index.isin(dates_dt)]\n",
            "/Users/mirco/Documents/Tesi/code/models/DGDNN/Data/geometric_dataset_gen.py:133: FutureWarning: The behavior of 'isin' with dtype=datetime64[ns] and castable values (e.g. strings) is deprecated. In a future version, these will not be considered matching by isin. Explicitly cast to the appropriate dtype before calling isin instead.\n",
            "  df = df[df.index.isin(dates_dt)]\n",
            "/Users/mirco/Documents/Tesi/code/models/DGDNN/Data/geometric_dataset_gen.py:133: FutureWarning: The behavior of 'isin' with dtype=datetime64[ns] and castable values (e.g. strings) is deprecated. In a future version, these will not be considered matching by isin. Explicitly cast to the appropriate dtype before calling isin instead.\n",
            "  df = df[df.index.isin(dates_dt)]\n",
            "/Users/mirco/Documents/Tesi/code/models/DGDNN/Data/geometric_dataset_gen.py:133: FutureWarning: The behavior of 'isin' with dtype=datetime64[ns] and castable values (e.g. strings) is deprecated. In a future version, these will not be considered matching by isin. Explicitly cast to the appropriate dtype before calling isin instead.\n",
            "  df = df[df.index.isin(dates_dt)]\n",
            " 29%|██▉       | 121/416 [01:34<03:45,  1.31it/s]"
          ]
        },
        {
          "name": "stdout",
          "output_type": "stream",
          "text": [
            "Generating graph 121/416...\n"
          ]
        },
        {
          "name": "stderr",
          "output_type": "stream",
          "text": [
            "/Users/mirco/Documents/Tesi/code/models/DGDNN/Data/geometric_dataset_gen.py:133: FutureWarning: The behavior of 'isin' with dtype=datetime64[ns] and castable values (e.g. strings) is deprecated. In a future version, these will not be considered matching by isin. Explicitly cast to the appropriate dtype before calling isin instead.\n",
            "  df = df[df.index.isin(dates_dt)]\n",
            "/Users/mirco/Documents/Tesi/code/models/DGDNN/Data/geometric_dataset_gen.py:133: FutureWarning: The behavior of 'isin' with dtype=datetime64[ns] and castable values (e.g. strings) is deprecated. In a future version, these will not be considered matching by isin. Explicitly cast to the appropriate dtype before calling isin instead.\n",
            "  df = df[df.index.isin(dates_dt)]\n",
            "/Users/mirco/Documents/Tesi/code/models/DGDNN/Data/geometric_dataset_gen.py:133: FutureWarning: The behavior of 'isin' with dtype=datetime64[ns] and castable values (e.g. strings) is deprecated. In a future version, these will not be considered matching by isin. Explicitly cast to the appropriate dtype before calling isin instead.\n",
            "  df = df[df.index.isin(dates_dt)]\n",
            "/Users/mirco/Documents/Tesi/code/models/DGDNN/Data/geometric_dataset_gen.py:133: FutureWarning: The behavior of 'isin' with dtype=datetime64[ns] and castable values (e.g. strings) is deprecated. In a future version, these will not be considered matching by isin. Explicitly cast to the appropriate dtype before calling isin instead.\n",
            "  df = df[df.index.isin(dates_dt)]\n",
            " 29%|██▉       | 122/416 [01:34<03:40,  1.33it/s]"
          ]
        },
        {
          "name": "stdout",
          "output_type": "stream",
          "text": [
            "Generating graph 122/416...\n"
          ]
        },
        {
          "name": "stderr",
          "output_type": "stream",
          "text": [
            "/Users/mirco/Documents/Tesi/code/models/DGDNN/Data/geometric_dataset_gen.py:133: FutureWarning: The behavior of 'isin' with dtype=datetime64[ns] and castable values (e.g. strings) is deprecated. In a future version, these will not be considered matching by isin. Explicitly cast to the appropriate dtype before calling isin instead.\n",
            "  df = df[df.index.isin(dates_dt)]\n",
            "/Users/mirco/Documents/Tesi/code/models/DGDNN/Data/geometric_dataset_gen.py:133: FutureWarning: The behavior of 'isin' with dtype=datetime64[ns] and castable values (e.g. strings) is deprecated. In a future version, these will not be considered matching by isin. Explicitly cast to the appropriate dtype before calling isin instead.\n",
            "  df = df[df.index.isin(dates_dt)]\n",
            "/Users/mirco/Documents/Tesi/code/models/DGDNN/Data/geometric_dataset_gen.py:133: FutureWarning: The behavior of 'isin' with dtype=datetime64[ns] and castable values (e.g. strings) is deprecated. In a future version, these will not be considered matching by isin. Explicitly cast to the appropriate dtype before calling isin instead.\n",
            "  df = df[df.index.isin(dates_dt)]\n",
            "/Users/mirco/Documents/Tesi/code/models/DGDNN/Data/geometric_dataset_gen.py:133: FutureWarning: The behavior of 'isin' with dtype=datetime64[ns] and castable values (e.g. strings) is deprecated. In a future version, these will not be considered matching by isin. Explicitly cast to the appropriate dtype before calling isin instead.\n",
            "  df = df[df.index.isin(dates_dt)]\n",
            " 30%|██▉       | 123/416 [01:35<03:48,  1.28it/s]"
          ]
        },
        {
          "name": "stdout",
          "output_type": "stream",
          "text": [
            "Generating graph 123/416...\n"
          ]
        },
        {
          "name": "stderr",
          "output_type": "stream",
          "text": [
            "/Users/mirco/Documents/Tesi/code/models/DGDNN/Data/geometric_dataset_gen.py:133: FutureWarning: The behavior of 'isin' with dtype=datetime64[ns] and castable values (e.g. strings) is deprecated. In a future version, these will not be considered matching by isin. Explicitly cast to the appropriate dtype before calling isin instead.\n",
            "  df = df[df.index.isin(dates_dt)]\n",
            "/Users/mirco/Documents/Tesi/code/models/DGDNN/Data/geometric_dataset_gen.py:133: FutureWarning: The behavior of 'isin' with dtype=datetime64[ns] and castable values (e.g. strings) is deprecated. In a future version, these will not be considered matching by isin. Explicitly cast to the appropriate dtype before calling isin instead.\n",
            "  df = df[df.index.isin(dates_dt)]\n",
            "/Users/mirco/Documents/Tesi/code/models/DGDNN/Data/geometric_dataset_gen.py:133: FutureWarning: The behavior of 'isin' with dtype=datetime64[ns] and castable values (e.g. strings) is deprecated. In a future version, these will not be considered matching by isin. Explicitly cast to the appropriate dtype before calling isin instead.\n",
            "  df = df[df.index.isin(dates_dt)]\n",
            "/Users/mirco/Documents/Tesi/code/models/DGDNN/Data/geometric_dataset_gen.py:133: FutureWarning: The behavior of 'isin' with dtype=datetime64[ns] and castable values (e.g. strings) is deprecated. In a future version, these will not be considered matching by isin. Explicitly cast to the appropriate dtype before calling isin instead.\n",
            "  df = df[df.index.isin(dates_dt)]\n",
            " 30%|██▉       | 124/416 [01:36<03:44,  1.30it/s]"
          ]
        },
        {
          "name": "stdout",
          "output_type": "stream",
          "text": [
            "Generating graph 124/416...\n"
          ]
        },
        {
          "name": "stderr",
          "output_type": "stream",
          "text": [
            "/Users/mirco/Documents/Tesi/code/models/DGDNN/Data/geometric_dataset_gen.py:133: FutureWarning: The behavior of 'isin' with dtype=datetime64[ns] and castable values (e.g. strings) is deprecated. In a future version, these will not be considered matching by isin. Explicitly cast to the appropriate dtype before calling isin instead.\n",
            "  df = df[df.index.isin(dates_dt)]\n",
            "/Users/mirco/Documents/Tesi/code/models/DGDNN/Data/geometric_dataset_gen.py:133: FutureWarning: The behavior of 'isin' with dtype=datetime64[ns] and castable values (e.g. strings) is deprecated. In a future version, these will not be considered matching by isin. Explicitly cast to the appropriate dtype before calling isin instead.\n",
            "  df = df[df.index.isin(dates_dt)]\n",
            "/Users/mirco/Documents/Tesi/code/models/DGDNN/Data/geometric_dataset_gen.py:133: FutureWarning: The behavior of 'isin' with dtype=datetime64[ns] and castable values (e.g. strings) is deprecated. In a future version, these will not be considered matching by isin. Explicitly cast to the appropriate dtype before calling isin instead.\n",
            "  df = df[df.index.isin(dates_dt)]\n",
            "/Users/mirco/Documents/Tesi/code/models/DGDNN/Data/geometric_dataset_gen.py:133: FutureWarning: The behavior of 'isin' with dtype=datetime64[ns] and castable values (e.g. strings) is deprecated. In a future version, these will not be considered matching by isin. Explicitly cast to the appropriate dtype before calling isin instead.\n",
            "  df = df[df.index.isin(dates_dt)]\n",
            " 30%|███       | 125/416 [01:37<03:42,  1.31it/s]"
          ]
        },
        {
          "name": "stdout",
          "output_type": "stream",
          "text": [
            "Generating graph 125/416...\n"
          ]
        },
        {
          "name": "stderr",
          "output_type": "stream",
          "text": [
            "/Users/mirco/Documents/Tesi/code/models/DGDNN/Data/geometric_dataset_gen.py:133: FutureWarning: The behavior of 'isin' with dtype=datetime64[ns] and castable values (e.g. strings) is deprecated. In a future version, these will not be considered matching by isin. Explicitly cast to the appropriate dtype before calling isin instead.\n",
            "  df = df[df.index.isin(dates_dt)]\n",
            "/Users/mirco/Documents/Tesi/code/models/DGDNN/Data/geometric_dataset_gen.py:133: FutureWarning: The behavior of 'isin' with dtype=datetime64[ns] and castable values (e.g. strings) is deprecated. In a future version, these will not be considered matching by isin. Explicitly cast to the appropriate dtype before calling isin instead.\n",
            "  df = df[df.index.isin(dates_dt)]\n",
            "/Users/mirco/Documents/Tesi/code/models/DGDNN/Data/geometric_dataset_gen.py:133: FutureWarning: The behavior of 'isin' with dtype=datetime64[ns] and castable values (e.g. strings) is deprecated. In a future version, these will not be considered matching by isin. Explicitly cast to the appropriate dtype before calling isin instead.\n",
            "  df = df[df.index.isin(dates_dt)]\n",
            "/Users/mirco/Documents/Tesi/code/models/DGDNN/Data/geometric_dataset_gen.py:133: FutureWarning: The behavior of 'isin' with dtype=datetime64[ns] and castable values (e.g. strings) is deprecated. In a future version, these will not be considered matching by isin. Explicitly cast to the appropriate dtype before calling isin instead.\n",
            "  df = df[df.index.isin(dates_dt)]\n",
            " 30%|███       | 126/416 [01:37<03:48,  1.27it/s]"
          ]
        },
        {
          "name": "stdout",
          "output_type": "stream",
          "text": [
            "Generating graph 126/416...\n"
          ]
        },
        {
          "name": "stderr",
          "output_type": "stream",
          "text": [
            "/Users/mirco/Documents/Tesi/code/models/DGDNN/Data/geometric_dataset_gen.py:133: FutureWarning: The behavior of 'isin' with dtype=datetime64[ns] and castable values (e.g. strings) is deprecated. In a future version, these will not be considered matching by isin. Explicitly cast to the appropriate dtype before calling isin instead.\n",
            "  df = df[df.index.isin(dates_dt)]\n",
            "/Users/mirco/Documents/Tesi/code/models/DGDNN/Data/geometric_dataset_gen.py:133: FutureWarning: The behavior of 'isin' with dtype=datetime64[ns] and castable values (e.g. strings) is deprecated. In a future version, these will not be considered matching by isin. Explicitly cast to the appropriate dtype before calling isin instead.\n",
            "  df = df[df.index.isin(dates_dt)]\n",
            "/Users/mirco/Documents/Tesi/code/models/DGDNN/Data/geometric_dataset_gen.py:133: FutureWarning: The behavior of 'isin' with dtype=datetime64[ns] and castable values (e.g. strings) is deprecated. In a future version, these will not be considered matching by isin. Explicitly cast to the appropriate dtype before calling isin instead.\n",
            "  df = df[df.index.isin(dates_dt)]\n",
            "/Users/mirco/Documents/Tesi/code/models/DGDNN/Data/geometric_dataset_gen.py:133: FutureWarning: The behavior of 'isin' with dtype=datetime64[ns] and castable values (e.g. strings) is deprecated. In a future version, these will not be considered matching by isin. Explicitly cast to the appropriate dtype before calling isin instead.\n",
            "  df = df[df.index.isin(dates_dt)]\n",
            " 31%|███       | 127/416 [01:38<03:49,  1.26it/s]"
          ]
        },
        {
          "name": "stdout",
          "output_type": "stream",
          "text": [
            "Generating graph 127/416...\n"
          ]
        },
        {
          "name": "stderr",
          "output_type": "stream",
          "text": [
            "/Users/mirco/Documents/Tesi/code/models/DGDNN/Data/geometric_dataset_gen.py:133: FutureWarning: The behavior of 'isin' with dtype=datetime64[ns] and castable values (e.g. strings) is deprecated. In a future version, these will not be considered matching by isin. Explicitly cast to the appropriate dtype before calling isin instead.\n",
            "  df = df[df.index.isin(dates_dt)]\n",
            "/Users/mirco/Documents/Tesi/code/models/DGDNN/Data/geometric_dataset_gen.py:133: FutureWarning: The behavior of 'isin' with dtype=datetime64[ns] and castable values (e.g. strings) is deprecated. In a future version, these will not be considered matching by isin. Explicitly cast to the appropriate dtype before calling isin instead.\n",
            "  df = df[df.index.isin(dates_dt)]\n",
            "/Users/mirco/Documents/Tesi/code/models/DGDNN/Data/geometric_dataset_gen.py:133: FutureWarning: The behavior of 'isin' with dtype=datetime64[ns] and castable values (e.g. strings) is deprecated. In a future version, these will not be considered matching by isin. Explicitly cast to the appropriate dtype before calling isin instead.\n",
            "  df = df[df.index.isin(dates_dt)]\n",
            "/Users/mirco/Documents/Tesi/code/models/DGDNN/Data/geometric_dataset_gen.py:133: FutureWarning: The behavior of 'isin' with dtype=datetime64[ns] and castable values (e.g. strings) is deprecated. In a future version, these will not be considered matching by isin. Explicitly cast to the appropriate dtype before calling isin instead.\n",
            "  df = df[df.index.isin(dates_dt)]\n",
            " 31%|███       | 128/416 [01:39<03:41,  1.30it/s]"
          ]
        },
        {
          "name": "stdout",
          "output_type": "stream",
          "text": [
            "Generating graph 128/416...\n"
          ]
        },
        {
          "name": "stderr",
          "output_type": "stream",
          "text": [
            "/Users/mirco/Documents/Tesi/code/models/DGDNN/Data/geometric_dataset_gen.py:133: FutureWarning: The behavior of 'isin' with dtype=datetime64[ns] and castable values (e.g. strings) is deprecated. In a future version, these will not be considered matching by isin. Explicitly cast to the appropriate dtype before calling isin instead.\n",
            "  df = df[df.index.isin(dates_dt)]\n",
            "/Users/mirco/Documents/Tesi/code/models/DGDNN/Data/geometric_dataset_gen.py:133: FutureWarning: The behavior of 'isin' with dtype=datetime64[ns] and castable values (e.g. strings) is deprecated. In a future version, these will not be considered matching by isin. Explicitly cast to the appropriate dtype before calling isin instead.\n",
            "  df = df[df.index.isin(dates_dt)]\n",
            "/Users/mirco/Documents/Tesi/code/models/DGDNN/Data/geometric_dataset_gen.py:133: FutureWarning: The behavior of 'isin' with dtype=datetime64[ns] and castable values (e.g. strings) is deprecated. In a future version, these will not be considered matching by isin. Explicitly cast to the appropriate dtype before calling isin instead.\n",
            "  df = df[df.index.isin(dates_dt)]\n",
            "/Users/mirco/Documents/Tesi/code/models/DGDNN/Data/geometric_dataset_gen.py:133: FutureWarning: The behavior of 'isin' with dtype=datetime64[ns] and castable values (e.g. strings) is deprecated. In a future version, these will not be considered matching by isin. Explicitly cast to the appropriate dtype before calling isin instead.\n",
            "  df = df[df.index.isin(dates_dt)]\n",
            " 31%|███       | 129/416 [01:40<03:36,  1.32it/s]"
          ]
        },
        {
          "name": "stdout",
          "output_type": "stream",
          "text": [
            "Generating graph 129/416...\n"
          ]
        },
        {
          "name": "stderr",
          "output_type": "stream",
          "text": [
            "/Users/mirco/Documents/Tesi/code/models/DGDNN/Data/geometric_dataset_gen.py:133: FutureWarning: The behavior of 'isin' with dtype=datetime64[ns] and castable values (e.g. strings) is deprecated. In a future version, these will not be considered matching by isin. Explicitly cast to the appropriate dtype before calling isin instead.\n",
            "  df = df[df.index.isin(dates_dt)]\n",
            "/Users/mirco/Documents/Tesi/code/models/DGDNN/Data/geometric_dataset_gen.py:133: FutureWarning: The behavior of 'isin' with dtype=datetime64[ns] and castable values (e.g. strings) is deprecated. In a future version, these will not be considered matching by isin. Explicitly cast to the appropriate dtype before calling isin instead.\n",
            "  df = df[df.index.isin(dates_dt)]\n",
            "/Users/mirco/Documents/Tesi/code/models/DGDNN/Data/geometric_dataset_gen.py:133: FutureWarning: The behavior of 'isin' with dtype=datetime64[ns] and castable values (e.g. strings) is deprecated. In a future version, these will not be considered matching by isin. Explicitly cast to the appropriate dtype before calling isin instead.\n",
            "  df = df[df.index.isin(dates_dt)]\n",
            "/Users/mirco/Documents/Tesi/code/models/DGDNN/Data/geometric_dataset_gen.py:133: FutureWarning: The behavior of 'isin' with dtype=datetime64[ns] and castable values (e.g. strings) is deprecated. In a future version, these will not be considered matching by isin. Explicitly cast to the appropriate dtype before calling isin instead.\n",
            "  df = df[df.index.isin(dates_dt)]\n",
            " 31%|███▏      | 130/416 [01:41<03:43,  1.28it/s]"
          ]
        },
        {
          "name": "stdout",
          "output_type": "stream",
          "text": [
            "Generating graph 130/416...\n"
          ]
        },
        {
          "name": "stderr",
          "output_type": "stream",
          "text": [
            "/Users/mirco/Documents/Tesi/code/models/DGDNN/Data/geometric_dataset_gen.py:133: FutureWarning: The behavior of 'isin' with dtype=datetime64[ns] and castable values (e.g. strings) is deprecated. In a future version, these will not be considered matching by isin. Explicitly cast to the appropriate dtype before calling isin instead.\n",
            "  df = df[df.index.isin(dates_dt)]\n",
            "/Users/mirco/Documents/Tesi/code/models/DGDNN/Data/geometric_dataset_gen.py:133: FutureWarning: The behavior of 'isin' with dtype=datetime64[ns] and castable values (e.g. strings) is deprecated. In a future version, these will not be considered matching by isin. Explicitly cast to the appropriate dtype before calling isin instead.\n",
            "  df = df[df.index.isin(dates_dt)]\n",
            "/Users/mirco/Documents/Tesi/code/models/DGDNN/Data/geometric_dataset_gen.py:133: FutureWarning: The behavior of 'isin' with dtype=datetime64[ns] and castable values (e.g. strings) is deprecated. In a future version, these will not be considered matching by isin. Explicitly cast to the appropriate dtype before calling isin instead.\n",
            "  df = df[df.index.isin(dates_dt)]\n",
            "/Users/mirco/Documents/Tesi/code/models/DGDNN/Data/geometric_dataset_gen.py:133: FutureWarning: The behavior of 'isin' with dtype=datetime64[ns] and castable values (e.g. strings) is deprecated. In a future version, these will not be considered matching by isin. Explicitly cast to the appropriate dtype before calling isin instead.\n",
            "  df = df[df.index.isin(dates_dt)]\n",
            " 31%|███▏      | 131/416 [01:41<03:37,  1.31it/s]"
          ]
        },
        {
          "name": "stdout",
          "output_type": "stream",
          "text": [
            "Generating graph 131/416...\n"
          ]
        },
        {
          "name": "stderr",
          "output_type": "stream",
          "text": [
            "/Users/mirco/Documents/Tesi/code/models/DGDNN/Data/geometric_dataset_gen.py:133: FutureWarning: The behavior of 'isin' with dtype=datetime64[ns] and castable values (e.g. strings) is deprecated. In a future version, these will not be considered matching by isin. Explicitly cast to the appropriate dtype before calling isin instead.\n",
            "  df = df[df.index.isin(dates_dt)]\n",
            "/Users/mirco/Documents/Tesi/code/models/DGDNN/Data/geometric_dataset_gen.py:133: FutureWarning: The behavior of 'isin' with dtype=datetime64[ns] and castable values (e.g. strings) is deprecated. In a future version, these will not be considered matching by isin. Explicitly cast to the appropriate dtype before calling isin instead.\n",
            "  df = df[df.index.isin(dates_dt)]\n",
            "/Users/mirco/Documents/Tesi/code/models/DGDNN/Data/geometric_dataset_gen.py:133: FutureWarning: The behavior of 'isin' with dtype=datetime64[ns] and castable values (e.g. strings) is deprecated. In a future version, these will not be considered matching by isin. Explicitly cast to the appropriate dtype before calling isin instead.\n",
            "  df = df[df.index.isin(dates_dt)]\n",
            "/Users/mirco/Documents/Tesi/code/models/DGDNN/Data/geometric_dataset_gen.py:133: FutureWarning: The behavior of 'isin' with dtype=datetime64[ns] and castable values (e.g. strings) is deprecated. In a future version, these will not be considered matching by isin. Explicitly cast to the appropriate dtype before calling isin instead.\n",
            "  df = df[df.index.isin(dates_dt)]\n",
            " 32%|███▏      | 132/416 [01:42<03:32,  1.34it/s]"
          ]
        },
        {
          "name": "stdout",
          "output_type": "stream",
          "text": [
            "Generating graph 132/416...\n"
          ]
        },
        {
          "name": "stderr",
          "output_type": "stream",
          "text": [
            "/Users/mirco/Documents/Tesi/code/models/DGDNN/Data/geometric_dataset_gen.py:133: FutureWarning: The behavior of 'isin' with dtype=datetime64[ns] and castable values (e.g. strings) is deprecated. In a future version, these will not be considered matching by isin. Explicitly cast to the appropriate dtype before calling isin instead.\n",
            "  df = df[df.index.isin(dates_dt)]\n",
            "/Users/mirco/Documents/Tesi/code/models/DGDNN/Data/geometric_dataset_gen.py:133: FutureWarning: The behavior of 'isin' with dtype=datetime64[ns] and castable values (e.g. strings) is deprecated. In a future version, these will not be considered matching by isin. Explicitly cast to the appropriate dtype before calling isin instead.\n",
            "  df = df[df.index.isin(dates_dt)]\n",
            "/Users/mirco/Documents/Tesi/code/models/DGDNN/Data/geometric_dataset_gen.py:133: FutureWarning: The behavior of 'isin' with dtype=datetime64[ns] and castable values (e.g. strings) is deprecated. In a future version, these will not be considered matching by isin. Explicitly cast to the appropriate dtype before calling isin instead.\n",
            "  df = df[df.index.isin(dates_dt)]\n",
            "/Users/mirco/Documents/Tesi/code/models/DGDNN/Data/geometric_dataset_gen.py:133: FutureWarning: The behavior of 'isin' with dtype=datetime64[ns] and castable values (e.g. strings) is deprecated. In a future version, these will not be considered matching by isin. Explicitly cast to the appropriate dtype before calling isin instead.\n",
            "  df = df[df.index.isin(dates_dt)]\n",
            " 32%|███▏      | 133/416 [01:43<03:38,  1.29it/s]"
          ]
        },
        {
          "name": "stdout",
          "output_type": "stream",
          "text": [
            "Generating graph 133/416...\n"
          ]
        },
        {
          "name": "stderr",
          "output_type": "stream",
          "text": [
            "/Users/mirco/Documents/Tesi/code/models/DGDNN/Data/geometric_dataset_gen.py:133: FutureWarning: The behavior of 'isin' with dtype=datetime64[ns] and castable values (e.g. strings) is deprecated. In a future version, these will not be considered matching by isin. Explicitly cast to the appropriate dtype before calling isin instead.\n",
            "  df = df[df.index.isin(dates_dt)]\n",
            "/Users/mirco/Documents/Tesi/code/models/DGDNN/Data/geometric_dataset_gen.py:133: FutureWarning: The behavior of 'isin' with dtype=datetime64[ns] and castable values (e.g. strings) is deprecated. In a future version, these will not be considered matching by isin. Explicitly cast to the appropriate dtype before calling isin instead.\n",
            "  df = df[df.index.isin(dates_dt)]\n",
            "/Users/mirco/Documents/Tesi/code/models/DGDNN/Data/geometric_dataset_gen.py:133: FutureWarning: The behavior of 'isin' with dtype=datetime64[ns] and castable values (e.g. strings) is deprecated. In a future version, these will not be considered matching by isin. Explicitly cast to the appropriate dtype before calling isin instead.\n",
            "  df = df[df.index.isin(dates_dt)]\n",
            "/Users/mirco/Documents/Tesi/code/models/DGDNN/Data/geometric_dataset_gen.py:133: FutureWarning: The behavior of 'isin' with dtype=datetime64[ns] and castable values (e.g. strings) is deprecated. In a future version, these will not be considered matching by isin. Explicitly cast to the appropriate dtype before calling isin instead.\n",
            "  df = df[df.index.isin(dates_dt)]\n",
            " 32%|███▏      | 134/416 [01:44<03:39,  1.29it/s]"
          ]
        },
        {
          "name": "stdout",
          "output_type": "stream",
          "text": [
            "Generating graph 134/416...\n"
          ]
        },
        {
          "name": "stderr",
          "output_type": "stream",
          "text": [
            "/Users/mirco/Documents/Tesi/code/models/DGDNN/Data/geometric_dataset_gen.py:133: FutureWarning: The behavior of 'isin' with dtype=datetime64[ns] and castable values (e.g. strings) is deprecated. In a future version, these will not be considered matching by isin. Explicitly cast to the appropriate dtype before calling isin instead.\n",
            "  df = df[df.index.isin(dates_dt)]\n",
            "/Users/mirco/Documents/Tesi/code/models/DGDNN/Data/geometric_dataset_gen.py:133: FutureWarning: The behavior of 'isin' with dtype=datetime64[ns] and castable values (e.g. strings) is deprecated. In a future version, these will not be considered matching by isin. Explicitly cast to the appropriate dtype before calling isin instead.\n",
            "  df = df[df.index.isin(dates_dt)]\n",
            "/Users/mirco/Documents/Tesi/code/models/DGDNN/Data/geometric_dataset_gen.py:133: FutureWarning: The behavior of 'isin' with dtype=datetime64[ns] and castable values (e.g. strings) is deprecated. In a future version, these will not be considered matching by isin. Explicitly cast to the appropriate dtype before calling isin instead.\n",
            "  df = df[df.index.isin(dates_dt)]\n",
            "/Users/mirco/Documents/Tesi/code/models/DGDNN/Data/geometric_dataset_gen.py:133: FutureWarning: The behavior of 'isin' with dtype=datetime64[ns] and castable values (e.g. strings) is deprecated. In a future version, these will not be considered matching by isin. Explicitly cast to the appropriate dtype before calling isin instead.\n",
            "  df = df[df.index.isin(dates_dt)]\n",
            " 32%|███▏      | 135/416 [01:44<03:35,  1.30it/s]"
          ]
        },
        {
          "name": "stdout",
          "output_type": "stream",
          "text": [
            "Generating graph 135/416...\n"
          ]
        },
        {
          "name": "stderr",
          "output_type": "stream",
          "text": [
            "/Users/mirco/Documents/Tesi/code/models/DGDNN/Data/geometric_dataset_gen.py:133: FutureWarning: The behavior of 'isin' with dtype=datetime64[ns] and castable values (e.g. strings) is deprecated. In a future version, these will not be considered matching by isin. Explicitly cast to the appropriate dtype before calling isin instead.\n",
            "  df = df[df.index.isin(dates_dt)]\n",
            "/Users/mirco/Documents/Tesi/code/models/DGDNN/Data/geometric_dataset_gen.py:133: FutureWarning: The behavior of 'isin' with dtype=datetime64[ns] and castable values (e.g. strings) is deprecated. In a future version, these will not be considered matching by isin. Explicitly cast to the appropriate dtype before calling isin instead.\n",
            "  df = df[df.index.isin(dates_dt)]\n",
            "/Users/mirco/Documents/Tesi/code/models/DGDNN/Data/geometric_dataset_gen.py:133: FutureWarning: The behavior of 'isin' with dtype=datetime64[ns] and castable values (e.g. strings) is deprecated. In a future version, these will not be considered matching by isin. Explicitly cast to the appropriate dtype before calling isin instead.\n",
            "  df = df[df.index.isin(dates_dt)]\n",
            "/Users/mirco/Documents/Tesi/code/models/DGDNN/Data/geometric_dataset_gen.py:133: FutureWarning: The behavior of 'isin' with dtype=datetime64[ns] and castable values (e.g. strings) is deprecated. In a future version, these will not be considered matching by isin. Explicitly cast to the appropriate dtype before calling isin instead.\n",
            "  df = df[df.index.isin(dates_dt)]\n",
            " 33%|███▎      | 136/416 [01:45<03:42,  1.26it/s]"
          ]
        },
        {
          "name": "stdout",
          "output_type": "stream",
          "text": [
            "Generating graph 136/416...\n"
          ]
        },
        {
          "name": "stderr",
          "output_type": "stream",
          "text": [
            "/Users/mirco/Documents/Tesi/code/models/DGDNN/Data/geometric_dataset_gen.py:133: FutureWarning: The behavior of 'isin' with dtype=datetime64[ns] and castable values (e.g. strings) is deprecated. In a future version, these will not be considered matching by isin. Explicitly cast to the appropriate dtype before calling isin instead.\n",
            "  df = df[df.index.isin(dates_dt)]\n",
            "/Users/mirco/Documents/Tesi/code/models/DGDNN/Data/geometric_dataset_gen.py:133: FutureWarning: The behavior of 'isin' with dtype=datetime64[ns] and castable values (e.g. strings) is deprecated. In a future version, these will not be considered matching by isin. Explicitly cast to the appropriate dtype before calling isin instead.\n",
            "  df = df[df.index.isin(dates_dt)]\n",
            "/Users/mirco/Documents/Tesi/code/models/DGDNN/Data/geometric_dataset_gen.py:133: FutureWarning: The behavior of 'isin' with dtype=datetime64[ns] and castable values (e.g. strings) is deprecated. In a future version, these will not be considered matching by isin. Explicitly cast to the appropriate dtype before calling isin instead.\n",
            "  df = df[df.index.isin(dates_dt)]\n",
            "/Users/mirco/Documents/Tesi/code/models/DGDNN/Data/geometric_dataset_gen.py:133: FutureWarning: The behavior of 'isin' with dtype=datetime64[ns] and castable values (e.g. strings) is deprecated. In a future version, these will not be considered matching by isin. Explicitly cast to the appropriate dtype before calling isin instead.\n",
            "  df = df[df.index.isin(dates_dt)]\n",
            " 33%|███▎      | 137/416 [01:46<03:34,  1.30it/s]"
          ]
        },
        {
          "name": "stdout",
          "output_type": "stream",
          "text": [
            "Generating graph 137/416...\n"
          ]
        },
        {
          "name": "stderr",
          "output_type": "stream",
          "text": [
            "/Users/mirco/Documents/Tesi/code/models/DGDNN/Data/geometric_dataset_gen.py:133: FutureWarning: The behavior of 'isin' with dtype=datetime64[ns] and castable values (e.g. strings) is deprecated. In a future version, these will not be considered matching by isin. Explicitly cast to the appropriate dtype before calling isin instead.\n",
            "  df = df[df.index.isin(dates_dt)]\n",
            "/Users/mirco/Documents/Tesi/code/models/DGDNN/Data/geometric_dataset_gen.py:133: FutureWarning: The behavior of 'isin' with dtype=datetime64[ns] and castable values (e.g. strings) is deprecated. In a future version, these will not be considered matching by isin. Explicitly cast to the appropriate dtype before calling isin instead.\n",
            "  df = df[df.index.isin(dates_dt)]\n",
            "/Users/mirco/Documents/Tesi/code/models/DGDNN/Data/geometric_dataset_gen.py:133: FutureWarning: The behavior of 'isin' with dtype=datetime64[ns] and castable values (e.g. strings) is deprecated. In a future version, these will not be considered matching by isin. Explicitly cast to the appropriate dtype before calling isin instead.\n",
            "  df = df[df.index.isin(dates_dt)]\n",
            "/Users/mirco/Documents/Tesi/code/models/DGDNN/Data/geometric_dataset_gen.py:133: FutureWarning: The behavior of 'isin' with dtype=datetime64[ns] and castable values (e.g. strings) is deprecated. In a future version, these will not be considered matching by isin. Explicitly cast to the appropriate dtype before calling isin instead.\n",
            "  df = df[df.index.isin(dates_dt)]\n",
            " 33%|███▎      | 138/416 [01:47<03:28,  1.33it/s]"
          ]
        },
        {
          "name": "stdout",
          "output_type": "stream",
          "text": [
            "Generating graph 138/416...\n"
          ]
        },
        {
          "name": "stderr",
          "output_type": "stream",
          "text": [
            "/Users/mirco/Documents/Tesi/code/models/DGDNN/Data/geometric_dataset_gen.py:133: FutureWarning: The behavior of 'isin' with dtype=datetime64[ns] and castable values (e.g. strings) is deprecated. In a future version, these will not be considered matching by isin. Explicitly cast to the appropriate dtype before calling isin instead.\n",
            "  df = df[df.index.isin(dates_dt)]\n",
            "/Users/mirco/Documents/Tesi/code/models/DGDNN/Data/geometric_dataset_gen.py:133: FutureWarning: The behavior of 'isin' with dtype=datetime64[ns] and castable values (e.g. strings) is deprecated. In a future version, these will not be considered matching by isin. Explicitly cast to the appropriate dtype before calling isin instead.\n",
            "  df = df[df.index.isin(dates_dt)]\n",
            "/Users/mirco/Documents/Tesi/code/models/DGDNN/Data/geometric_dataset_gen.py:133: FutureWarning: The behavior of 'isin' with dtype=datetime64[ns] and castable values (e.g. strings) is deprecated. In a future version, these will not be considered matching by isin. Explicitly cast to the appropriate dtype before calling isin instead.\n",
            "  df = df[df.index.isin(dates_dt)]\n",
            "/Users/mirco/Documents/Tesi/code/models/DGDNN/Data/geometric_dataset_gen.py:133: FutureWarning: The behavior of 'isin' with dtype=datetime64[ns] and castable values (e.g. strings) is deprecated. In a future version, these will not be considered matching by isin. Explicitly cast to the appropriate dtype before calling isin instead.\n",
            "  df = df[df.index.isin(dates_dt)]\n",
            " 33%|███▎      | 139/416 [01:47<03:26,  1.34it/s]"
          ]
        },
        {
          "name": "stdout",
          "output_type": "stream",
          "text": [
            "Generating graph 139/416...\n"
          ]
        },
        {
          "name": "stderr",
          "output_type": "stream",
          "text": [
            "/Users/mirco/Documents/Tesi/code/models/DGDNN/Data/geometric_dataset_gen.py:133: FutureWarning: The behavior of 'isin' with dtype=datetime64[ns] and castable values (e.g. strings) is deprecated. In a future version, these will not be considered matching by isin. Explicitly cast to the appropriate dtype before calling isin instead.\n",
            "  df = df[df.index.isin(dates_dt)]\n",
            "/Users/mirco/Documents/Tesi/code/models/DGDNN/Data/geometric_dataset_gen.py:133: FutureWarning: The behavior of 'isin' with dtype=datetime64[ns] and castable values (e.g. strings) is deprecated. In a future version, these will not be considered matching by isin. Explicitly cast to the appropriate dtype before calling isin instead.\n",
            "  df = df[df.index.isin(dates_dt)]\n",
            "/Users/mirco/Documents/Tesi/code/models/DGDNN/Data/geometric_dataset_gen.py:133: FutureWarning: The behavior of 'isin' with dtype=datetime64[ns] and castable values (e.g. strings) is deprecated. In a future version, these will not be considered matching by isin. Explicitly cast to the appropriate dtype before calling isin instead.\n",
            "  df = df[df.index.isin(dates_dt)]\n",
            "/Users/mirco/Documents/Tesi/code/models/DGDNN/Data/geometric_dataset_gen.py:133: FutureWarning: The behavior of 'isin' with dtype=datetime64[ns] and castable values (e.g. strings) is deprecated. In a future version, these will not be considered matching by isin. Explicitly cast to the appropriate dtype before calling isin instead.\n",
            "  df = df[df.index.isin(dates_dt)]\n",
            " 34%|███▎      | 140/416 [01:48<03:33,  1.29it/s]"
          ]
        },
        {
          "name": "stdout",
          "output_type": "stream",
          "text": [
            "Generating graph 140/416...\n"
          ]
        },
        {
          "name": "stderr",
          "output_type": "stream",
          "text": [
            "/Users/mirco/Documents/Tesi/code/models/DGDNN/Data/geometric_dataset_gen.py:133: FutureWarning: The behavior of 'isin' with dtype=datetime64[ns] and castable values (e.g. strings) is deprecated. In a future version, these will not be considered matching by isin. Explicitly cast to the appropriate dtype before calling isin instead.\n",
            "  df = df[df.index.isin(dates_dt)]\n",
            "/Users/mirco/Documents/Tesi/code/models/DGDNN/Data/geometric_dataset_gen.py:133: FutureWarning: The behavior of 'isin' with dtype=datetime64[ns] and castable values (e.g. strings) is deprecated. In a future version, these will not be considered matching by isin. Explicitly cast to the appropriate dtype before calling isin instead.\n",
            "  df = df[df.index.isin(dates_dt)]\n",
            "/Users/mirco/Documents/Tesi/code/models/DGDNN/Data/geometric_dataset_gen.py:133: FutureWarning: The behavior of 'isin' with dtype=datetime64[ns] and castable values (e.g. strings) is deprecated. In a future version, these will not be considered matching by isin. Explicitly cast to the appropriate dtype before calling isin instead.\n",
            "  df = df[df.index.isin(dates_dt)]\n",
            "/Users/mirco/Documents/Tesi/code/models/DGDNN/Data/geometric_dataset_gen.py:133: FutureWarning: The behavior of 'isin' with dtype=datetime64[ns] and castable values (e.g. strings) is deprecated. In a future version, these will not be considered matching by isin. Explicitly cast to the appropriate dtype before calling isin instead.\n",
            "  df = df[df.index.isin(dates_dt)]\n",
            " 34%|███▍      | 141/416 [01:49<03:36,  1.27it/s]"
          ]
        },
        {
          "name": "stdout",
          "output_type": "stream",
          "text": [
            "Generating graph 141/416...\n"
          ]
        },
        {
          "name": "stderr",
          "output_type": "stream",
          "text": [
            "/Users/mirco/Documents/Tesi/code/models/DGDNN/Data/geometric_dataset_gen.py:133: FutureWarning: The behavior of 'isin' with dtype=datetime64[ns] and castable values (e.g. strings) is deprecated. In a future version, these will not be considered matching by isin. Explicitly cast to the appropriate dtype before calling isin instead.\n",
            "  df = df[df.index.isin(dates_dt)]\n",
            "/Users/mirco/Documents/Tesi/code/models/DGDNN/Data/geometric_dataset_gen.py:133: FutureWarning: The behavior of 'isin' with dtype=datetime64[ns] and castable values (e.g. strings) is deprecated. In a future version, these will not be considered matching by isin. Explicitly cast to the appropriate dtype before calling isin instead.\n",
            "  df = df[df.index.isin(dates_dt)]\n",
            "/Users/mirco/Documents/Tesi/code/models/DGDNN/Data/geometric_dataset_gen.py:133: FutureWarning: The behavior of 'isin' with dtype=datetime64[ns] and castable values (e.g. strings) is deprecated. In a future version, these will not be considered matching by isin. Explicitly cast to the appropriate dtype before calling isin instead.\n",
            "  df = df[df.index.isin(dates_dt)]\n",
            "/Users/mirco/Documents/Tesi/code/models/DGDNN/Data/geometric_dataset_gen.py:133: FutureWarning: The behavior of 'isin' with dtype=datetime64[ns] and castable values (e.g. strings) is deprecated. In a future version, these will not be considered matching by isin. Explicitly cast to the appropriate dtype before calling isin instead.\n",
            "  df = df[df.index.isin(dates_dt)]\n",
            " 34%|███▍      | 142/416 [01:50<03:29,  1.31it/s]"
          ]
        },
        {
          "name": "stdout",
          "output_type": "stream",
          "text": [
            "Generating graph 142/416...\n"
          ]
        },
        {
          "name": "stderr",
          "output_type": "stream",
          "text": [
            "/Users/mirco/Documents/Tesi/code/models/DGDNN/Data/geometric_dataset_gen.py:133: FutureWarning: The behavior of 'isin' with dtype=datetime64[ns] and castable values (e.g. strings) is deprecated. In a future version, these will not be considered matching by isin. Explicitly cast to the appropriate dtype before calling isin instead.\n",
            "  df = df[df.index.isin(dates_dt)]\n",
            "/Users/mirco/Documents/Tesi/code/models/DGDNN/Data/geometric_dataset_gen.py:133: FutureWarning: The behavior of 'isin' with dtype=datetime64[ns] and castable values (e.g. strings) is deprecated. In a future version, these will not be considered matching by isin. Explicitly cast to the appropriate dtype before calling isin instead.\n",
            "  df = df[df.index.isin(dates_dt)]\n",
            "/Users/mirco/Documents/Tesi/code/models/DGDNN/Data/geometric_dataset_gen.py:133: FutureWarning: The behavior of 'isin' with dtype=datetime64[ns] and castable values (e.g. strings) is deprecated. In a future version, these will not be considered matching by isin. Explicitly cast to the appropriate dtype before calling isin instead.\n",
            "  df = df[df.index.isin(dates_dt)]\n",
            "/Users/mirco/Documents/Tesi/code/models/DGDNN/Data/geometric_dataset_gen.py:133: FutureWarning: The behavior of 'isin' with dtype=datetime64[ns] and castable values (e.g. strings) is deprecated. In a future version, these will not be considered matching by isin. Explicitly cast to the appropriate dtype before calling isin instead.\n",
            "  df = df[df.index.isin(dates_dt)]\n",
            " 34%|███▍      | 143/416 [01:51<03:36,  1.26it/s]"
          ]
        },
        {
          "name": "stdout",
          "output_type": "stream",
          "text": [
            "Generating graph 143/416...\n"
          ]
        },
        {
          "name": "stderr",
          "output_type": "stream",
          "text": [
            "/Users/mirco/Documents/Tesi/code/models/DGDNN/Data/geometric_dataset_gen.py:133: FutureWarning: The behavior of 'isin' with dtype=datetime64[ns] and castable values (e.g. strings) is deprecated. In a future version, these will not be considered matching by isin. Explicitly cast to the appropriate dtype before calling isin instead.\n",
            "  df = df[df.index.isin(dates_dt)]\n",
            "/Users/mirco/Documents/Tesi/code/models/DGDNN/Data/geometric_dataset_gen.py:133: FutureWarning: The behavior of 'isin' with dtype=datetime64[ns] and castable values (e.g. strings) is deprecated. In a future version, these will not be considered matching by isin. Explicitly cast to the appropriate dtype before calling isin instead.\n",
            "  df = df[df.index.isin(dates_dt)]\n",
            "/Users/mirco/Documents/Tesi/code/models/DGDNN/Data/geometric_dataset_gen.py:133: FutureWarning: The behavior of 'isin' with dtype=datetime64[ns] and castable values (e.g. strings) is deprecated. In a future version, these will not be considered matching by isin. Explicitly cast to the appropriate dtype before calling isin instead.\n",
            "  df = df[df.index.isin(dates_dt)]\n",
            "/Users/mirco/Documents/Tesi/code/models/DGDNN/Data/geometric_dataset_gen.py:133: FutureWarning: The behavior of 'isin' with dtype=datetime64[ns] and castable values (e.g. strings) is deprecated. In a future version, these will not be considered matching by isin. Explicitly cast to the appropriate dtype before calling isin instead.\n",
            "  df = df[df.index.isin(dates_dt)]\n",
            " 35%|███▍      | 144/416 [01:51<03:29,  1.30it/s]"
          ]
        },
        {
          "name": "stdout",
          "output_type": "stream",
          "text": [
            "Generating graph 144/416...\n"
          ]
        },
        {
          "name": "stderr",
          "output_type": "stream",
          "text": [
            "/Users/mirco/Documents/Tesi/code/models/DGDNN/Data/geometric_dataset_gen.py:133: FutureWarning: The behavior of 'isin' with dtype=datetime64[ns] and castable values (e.g. strings) is deprecated. In a future version, these will not be considered matching by isin. Explicitly cast to the appropriate dtype before calling isin instead.\n",
            "  df = df[df.index.isin(dates_dt)]\n",
            "/Users/mirco/Documents/Tesi/code/models/DGDNN/Data/geometric_dataset_gen.py:133: FutureWarning: The behavior of 'isin' with dtype=datetime64[ns] and castable values (e.g. strings) is deprecated. In a future version, these will not be considered matching by isin. Explicitly cast to the appropriate dtype before calling isin instead.\n",
            "  df = df[df.index.isin(dates_dt)]\n",
            "/Users/mirco/Documents/Tesi/code/models/DGDNN/Data/geometric_dataset_gen.py:133: FutureWarning: The behavior of 'isin' with dtype=datetime64[ns] and castable values (e.g. strings) is deprecated. In a future version, these will not be considered matching by isin. Explicitly cast to the appropriate dtype before calling isin instead.\n",
            "  df = df[df.index.isin(dates_dt)]\n",
            "/Users/mirco/Documents/Tesi/code/models/DGDNN/Data/geometric_dataset_gen.py:133: FutureWarning: The behavior of 'isin' with dtype=datetime64[ns] and castable values (e.g. strings) is deprecated. In a future version, these will not be considered matching by isin. Explicitly cast to the appropriate dtype before calling isin instead.\n",
            "  df = df[df.index.isin(dates_dt)]\n",
            " 35%|███▍      | 145/416 [01:52<03:24,  1.32it/s]"
          ]
        },
        {
          "name": "stdout",
          "output_type": "stream",
          "text": [
            "Generating graph 145/416...\n"
          ]
        },
        {
          "name": "stderr",
          "output_type": "stream",
          "text": [
            "/Users/mirco/Documents/Tesi/code/models/DGDNN/Data/geometric_dataset_gen.py:133: FutureWarning: The behavior of 'isin' with dtype=datetime64[ns] and castable values (e.g. strings) is deprecated. In a future version, these will not be considered matching by isin. Explicitly cast to the appropriate dtype before calling isin instead.\n",
            "  df = df[df.index.isin(dates_dt)]\n",
            "/Users/mirco/Documents/Tesi/code/models/DGDNN/Data/geometric_dataset_gen.py:133: FutureWarning: The behavior of 'isin' with dtype=datetime64[ns] and castable values (e.g. strings) is deprecated. In a future version, these will not be considered matching by isin. Explicitly cast to the appropriate dtype before calling isin instead.\n",
            "  df = df[df.index.isin(dates_dt)]\n",
            "/Users/mirco/Documents/Tesi/code/models/DGDNN/Data/geometric_dataset_gen.py:133: FutureWarning: The behavior of 'isin' with dtype=datetime64[ns] and castable values (e.g. strings) is deprecated. In a future version, these will not be considered matching by isin. Explicitly cast to the appropriate dtype before calling isin instead.\n",
            "  df = df[df.index.isin(dates_dt)]\n",
            "/Users/mirco/Documents/Tesi/code/models/DGDNN/Data/geometric_dataset_gen.py:133: FutureWarning: The behavior of 'isin' with dtype=datetime64[ns] and castable values (e.g. strings) is deprecated. In a future version, these will not be considered matching by isin. Explicitly cast to the appropriate dtype before calling isin instead.\n",
            "  df = df[df.index.isin(dates_dt)]\n",
            " 35%|███▌      | 146/416 [01:53<03:20,  1.35it/s]"
          ]
        },
        {
          "name": "stdout",
          "output_type": "stream",
          "text": [
            "Generating graph 146/416...\n"
          ]
        },
        {
          "name": "stderr",
          "output_type": "stream",
          "text": [
            "/Users/mirco/Documents/Tesi/code/models/DGDNN/Data/geometric_dataset_gen.py:133: FutureWarning: The behavior of 'isin' with dtype=datetime64[ns] and castable values (e.g. strings) is deprecated. In a future version, these will not be considered matching by isin. Explicitly cast to the appropriate dtype before calling isin instead.\n",
            "  df = df[df.index.isin(dates_dt)]\n",
            "/Users/mirco/Documents/Tesi/code/models/DGDNN/Data/geometric_dataset_gen.py:133: FutureWarning: The behavior of 'isin' with dtype=datetime64[ns] and castable values (e.g. strings) is deprecated. In a future version, these will not be considered matching by isin. Explicitly cast to the appropriate dtype before calling isin instead.\n",
            "  df = df[df.index.isin(dates_dt)]\n",
            "/Users/mirco/Documents/Tesi/code/models/DGDNN/Data/geometric_dataset_gen.py:133: FutureWarning: The behavior of 'isin' with dtype=datetime64[ns] and castable values (e.g. strings) is deprecated. In a future version, these will not be considered matching by isin. Explicitly cast to the appropriate dtype before calling isin instead.\n",
            "  df = df[df.index.isin(dates_dt)]\n",
            "/Users/mirco/Documents/Tesi/code/models/DGDNN/Data/geometric_dataset_gen.py:133: FutureWarning: The behavior of 'isin' with dtype=datetime64[ns] and castable values (e.g. strings) is deprecated. In a future version, these will not be considered matching by isin. Explicitly cast to the appropriate dtype before calling isin instead.\n",
            "  df = df[df.index.isin(dates_dt)]\n",
            " 35%|███▌      | 147/416 [01:54<03:26,  1.30it/s]"
          ]
        },
        {
          "name": "stdout",
          "output_type": "stream",
          "text": [
            "Generating graph 147/416...\n"
          ]
        },
        {
          "name": "stderr",
          "output_type": "stream",
          "text": [
            "/Users/mirco/Documents/Tesi/code/models/DGDNN/Data/geometric_dataset_gen.py:133: FutureWarning: The behavior of 'isin' with dtype=datetime64[ns] and castable values (e.g. strings) is deprecated. In a future version, these will not be considered matching by isin. Explicitly cast to the appropriate dtype before calling isin instead.\n",
            "  df = df[df.index.isin(dates_dt)]\n",
            "/Users/mirco/Documents/Tesi/code/models/DGDNN/Data/geometric_dataset_gen.py:133: FutureWarning: The behavior of 'isin' with dtype=datetime64[ns] and castable values (e.g. strings) is deprecated. In a future version, these will not be considered matching by isin. Explicitly cast to the appropriate dtype before calling isin instead.\n",
            "  df = df[df.index.isin(dates_dt)]\n",
            "/Users/mirco/Documents/Tesi/code/models/DGDNN/Data/geometric_dataset_gen.py:133: FutureWarning: The behavior of 'isin' with dtype=datetime64[ns] and castable values (e.g. strings) is deprecated. In a future version, these will not be considered matching by isin. Explicitly cast to the appropriate dtype before calling isin instead.\n",
            "  df = df[df.index.isin(dates_dt)]\n",
            "/Users/mirco/Documents/Tesi/code/models/DGDNN/Data/geometric_dataset_gen.py:133: FutureWarning: The behavior of 'isin' with dtype=datetime64[ns] and castable values (e.g. strings) is deprecated. In a future version, these will not be considered matching by isin. Explicitly cast to the appropriate dtype before calling isin instead.\n",
            "  df = df[df.index.isin(dates_dt)]\n",
            " 36%|███▌      | 148/416 [01:54<03:34,  1.25it/s]"
          ]
        },
        {
          "name": "stdout",
          "output_type": "stream",
          "text": [
            "Generating graph 148/416...\n"
          ]
        },
        {
          "name": "stderr",
          "output_type": "stream",
          "text": [
            "/Users/mirco/Documents/Tesi/code/models/DGDNN/Data/geometric_dataset_gen.py:133: FutureWarning: The behavior of 'isin' with dtype=datetime64[ns] and castable values (e.g. strings) is deprecated. In a future version, these will not be considered matching by isin. Explicitly cast to the appropriate dtype before calling isin instead.\n",
            "  df = df[df.index.isin(dates_dt)]\n",
            "/Users/mirco/Documents/Tesi/code/models/DGDNN/Data/geometric_dataset_gen.py:133: FutureWarning: The behavior of 'isin' with dtype=datetime64[ns] and castable values (e.g. strings) is deprecated. In a future version, these will not be considered matching by isin. Explicitly cast to the appropriate dtype before calling isin instead.\n",
            "  df = df[df.index.isin(dates_dt)]\n",
            "/Users/mirco/Documents/Tesi/code/models/DGDNN/Data/geometric_dataset_gen.py:133: FutureWarning: The behavior of 'isin' with dtype=datetime64[ns] and castable values (e.g. strings) is deprecated. In a future version, these will not be considered matching by isin. Explicitly cast to the appropriate dtype before calling isin instead.\n",
            "  df = df[df.index.isin(dates_dt)]\n",
            "/Users/mirco/Documents/Tesi/code/models/DGDNN/Data/geometric_dataset_gen.py:133: FutureWarning: The behavior of 'isin' with dtype=datetime64[ns] and castable values (e.g. strings) is deprecated. In a future version, these will not be considered matching by isin. Explicitly cast to the appropriate dtype before calling isin instead.\n",
            "  df = df[df.index.isin(dates_dt)]\n",
            " 36%|███▌      | 149/416 [01:55<03:26,  1.29it/s]"
          ]
        },
        {
          "name": "stdout",
          "output_type": "stream",
          "text": [
            "Generating graph 149/416...\n"
          ]
        },
        {
          "name": "stderr",
          "output_type": "stream",
          "text": [
            "/Users/mirco/Documents/Tesi/code/models/DGDNN/Data/geometric_dataset_gen.py:133: FutureWarning: The behavior of 'isin' with dtype=datetime64[ns] and castable values (e.g. strings) is deprecated. In a future version, these will not be considered matching by isin. Explicitly cast to the appropriate dtype before calling isin instead.\n",
            "  df = df[df.index.isin(dates_dt)]\n",
            "/Users/mirco/Documents/Tesi/code/models/DGDNN/Data/geometric_dataset_gen.py:133: FutureWarning: The behavior of 'isin' with dtype=datetime64[ns] and castable values (e.g. strings) is deprecated. In a future version, these will not be considered matching by isin. Explicitly cast to the appropriate dtype before calling isin instead.\n",
            "  df = df[df.index.isin(dates_dt)]\n",
            "/Users/mirco/Documents/Tesi/code/models/DGDNN/Data/geometric_dataset_gen.py:133: FutureWarning: The behavior of 'isin' with dtype=datetime64[ns] and castable values (e.g. strings) is deprecated. In a future version, these will not be considered matching by isin. Explicitly cast to the appropriate dtype before calling isin instead.\n",
            "  df = df[df.index.isin(dates_dt)]\n",
            "/Users/mirco/Documents/Tesi/code/models/DGDNN/Data/geometric_dataset_gen.py:133: FutureWarning: The behavior of 'isin' with dtype=datetime64[ns] and castable values (e.g. strings) is deprecated. In a future version, these will not be considered matching by isin. Explicitly cast to the appropriate dtype before calling isin instead.\n",
            "  df = df[df.index.isin(dates_dt)]\n",
            " 36%|███▌      | 150/416 [01:56<03:30,  1.27it/s]"
          ]
        },
        {
          "name": "stdout",
          "output_type": "stream",
          "text": [
            "Generating graph 150/416...\n"
          ]
        },
        {
          "name": "stderr",
          "output_type": "stream",
          "text": [
            "/Users/mirco/Documents/Tesi/code/models/DGDNN/Data/geometric_dataset_gen.py:133: FutureWarning: The behavior of 'isin' with dtype=datetime64[ns] and castable values (e.g. strings) is deprecated. In a future version, these will not be considered matching by isin. Explicitly cast to the appropriate dtype before calling isin instead.\n",
            "  df = df[df.index.isin(dates_dt)]\n",
            "/Users/mirco/Documents/Tesi/code/models/DGDNN/Data/geometric_dataset_gen.py:133: FutureWarning: The behavior of 'isin' with dtype=datetime64[ns] and castable values (e.g. strings) is deprecated. In a future version, these will not be considered matching by isin. Explicitly cast to the appropriate dtype before calling isin instead.\n",
            "  df = df[df.index.isin(dates_dt)]\n",
            "/Users/mirco/Documents/Tesi/code/models/DGDNN/Data/geometric_dataset_gen.py:133: FutureWarning: The behavior of 'isin' with dtype=datetime64[ns] and castable values (e.g. strings) is deprecated. In a future version, these will not be considered matching by isin. Explicitly cast to the appropriate dtype before calling isin instead.\n",
            "  df = df[df.index.isin(dates_dt)]\n",
            "/Users/mirco/Documents/Tesi/code/models/DGDNN/Data/geometric_dataset_gen.py:133: FutureWarning: The behavior of 'isin' with dtype=datetime64[ns] and castable values (e.g. strings) is deprecated. In a future version, these will not be considered matching by isin. Explicitly cast to the appropriate dtype before calling isin instead.\n",
            "  df = df[df.index.isin(dates_dt)]\n",
            " 36%|███▋      | 151/416 [01:57<03:24,  1.30it/s]"
          ]
        },
        {
          "name": "stdout",
          "output_type": "stream",
          "text": [
            "Generating graph 151/416...\n"
          ]
        },
        {
          "name": "stderr",
          "output_type": "stream",
          "text": [
            "/Users/mirco/Documents/Tesi/code/models/DGDNN/Data/geometric_dataset_gen.py:133: FutureWarning: The behavior of 'isin' with dtype=datetime64[ns] and castable values (e.g. strings) is deprecated. In a future version, these will not be considered matching by isin. Explicitly cast to the appropriate dtype before calling isin instead.\n",
            "  df = df[df.index.isin(dates_dt)]\n",
            "/Users/mirco/Documents/Tesi/code/models/DGDNN/Data/geometric_dataset_gen.py:133: FutureWarning: The behavior of 'isin' with dtype=datetime64[ns] and castable values (e.g. strings) is deprecated. In a future version, these will not be considered matching by isin. Explicitly cast to the appropriate dtype before calling isin instead.\n",
            "  df = df[df.index.isin(dates_dt)]\n",
            "/Users/mirco/Documents/Tesi/code/models/DGDNN/Data/geometric_dataset_gen.py:133: FutureWarning: The behavior of 'isin' with dtype=datetime64[ns] and castable values (e.g. strings) is deprecated. In a future version, these will not be considered matching by isin. Explicitly cast to the appropriate dtype before calling isin instead.\n",
            "  df = df[df.index.isin(dates_dt)]\n",
            "/Users/mirco/Documents/Tesi/code/models/DGDNN/Data/geometric_dataset_gen.py:133: FutureWarning: The behavior of 'isin' with dtype=datetime64[ns] and castable values (e.g. strings) is deprecated. In a future version, these will not be considered matching by isin. Explicitly cast to the appropriate dtype before calling isin instead.\n",
            "  df = df[df.index.isin(dates_dt)]\n",
            " 37%|███▋      | 152/416 [01:57<03:23,  1.30it/s]"
          ]
        },
        {
          "name": "stdout",
          "output_type": "stream",
          "text": [
            "Generating graph 152/416...\n"
          ]
        },
        {
          "name": "stderr",
          "output_type": "stream",
          "text": [
            "/Users/mirco/Documents/Tesi/code/models/DGDNN/Data/geometric_dataset_gen.py:133: FutureWarning: The behavior of 'isin' with dtype=datetime64[ns] and castable values (e.g. strings) is deprecated. In a future version, these will not be considered matching by isin. Explicitly cast to the appropriate dtype before calling isin instead.\n",
            "  df = df[df.index.isin(dates_dt)]\n",
            "/Users/mirco/Documents/Tesi/code/models/DGDNN/Data/geometric_dataset_gen.py:133: FutureWarning: The behavior of 'isin' with dtype=datetime64[ns] and castable values (e.g. strings) is deprecated. In a future version, these will not be considered matching by isin. Explicitly cast to the appropriate dtype before calling isin instead.\n",
            "  df = df[df.index.isin(dates_dt)]\n",
            "/Users/mirco/Documents/Tesi/code/models/DGDNN/Data/geometric_dataset_gen.py:133: FutureWarning: The behavior of 'isin' with dtype=datetime64[ns] and castable values (e.g. strings) is deprecated. In a future version, these will not be considered matching by isin. Explicitly cast to the appropriate dtype before calling isin instead.\n",
            "  df = df[df.index.isin(dates_dt)]\n",
            "/Users/mirco/Documents/Tesi/code/models/DGDNN/Data/geometric_dataset_gen.py:133: FutureWarning: The behavior of 'isin' with dtype=datetime64[ns] and castable values (e.g. strings) is deprecated. In a future version, these will not be considered matching by isin. Explicitly cast to the appropriate dtype before calling isin instead.\n",
            "  df = df[df.index.isin(dates_dt)]\n",
            " 37%|███▋      | 153/416 [01:58<03:26,  1.27it/s]"
          ]
        },
        {
          "name": "stdout",
          "output_type": "stream",
          "text": [
            "Generating graph 153/416...\n"
          ]
        },
        {
          "name": "stderr",
          "output_type": "stream",
          "text": [
            "/Users/mirco/Documents/Tesi/code/models/DGDNN/Data/geometric_dataset_gen.py:133: FutureWarning: The behavior of 'isin' with dtype=datetime64[ns] and castable values (e.g. strings) is deprecated. In a future version, these will not be considered matching by isin. Explicitly cast to the appropriate dtype before calling isin instead.\n",
            "  df = df[df.index.isin(dates_dt)]\n",
            "/Users/mirco/Documents/Tesi/code/models/DGDNN/Data/geometric_dataset_gen.py:133: FutureWarning: The behavior of 'isin' with dtype=datetime64[ns] and castable values (e.g. strings) is deprecated. In a future version, these will not be considered matching by isin. Explicitly cast to the appropriate dtype before calling isin instead.\n",
            "  df = df[df.index.isin(dates_dt)]\n",
            "/Users/mirco/Documents/Tesi/code/models/DGDNN/Data/geometric_dataset_gen.py:133: FutureWarning: The behavior of 'isin' with dtype=datetime64[ns] and castable values (e.g. strings) is deprecated. In a future version, these will not be considered matching by isin. Explicitly cast to the appropriate dtype before calling isin instead.\n",
            "  df = df[df.index.isin(dates_dt)]\n",
            "/Users/mirco/Documents/Tesi/code/models/DGDNN/Data/geometric_dataset_gen.py:133: FutureWarning: The behavior of 'isin' with dtype=datetime64[ns] and castable values (e.g. strings) is deprecated. In a future version, these will not be considered matching by isin. Explicitly cast to the appropriate dtype before calling isin instead.\n",
            "  df = df[df.index.isin(dates_dt)]\n",
            " 37%|███▋      | 154/416 [01:59<03:20,  1.31it/s]"
          ]
        },
        {
          "name": "stdout",
          "output_type": "stream",
          "text": [
            "Generating graph 154/416...\n"
          ]
        },
        {
          "name": "stderr",
          "output_type": "stream",
          "text": [
            "/Users/mirco/Documents/Tesi/code/models/DGDNN/Data/geometric_dataset_gen.py:133: FutureWarning: The behavior of 'isin' with dtype=datetime64[ns] and castable values (e.g. strings) is deprecated. In a future version, these will not be considered matching by isin. Explicitly cast to the appropriate dtype before calling isin instead.\n",
            "  df = df[df.index.isin(dates_dt)]\n",
            "/Users/mirco/Documents/Tesi/code/models/DGDNN/Data/geometric_dataset_gen.py:133: FutureWarning: The behavior of 'isin' with dtype=datetime64[ns] and castable values (e.g. strings) is deprecated. In a future version, these will not be considered matching by isin. Explicitly cast to the appropriate dtype before calling isin instead.\n",
            "  df = df[df.index.isin(dates_dt)]\n",
            "/Users/mirco/Documents/Tesi/code/models/DGDNN/Data/geometric_dataset_gen.py:133: FutureWarning: The behavior of 'isin' with dtype=datetime64[ns] and castable values (e.g. strings) is deprecated. In a future version, these will not be considered matching by isin. Explicitly cast to the appropriate dtype before calling isin instead.\n",
            "  df = df[df.index.isin(dates_dt)]\n",
            "/Users/mirco/Documents/Tesi/code/models/DGDNN/Data/geometric_dataset_gen.py:133: FutureWarning: The behavior of 'isin' with dtype=datetime64[ns] and castable values (e.g. strings) is deprecated. In a future version, these will not be considered matching by isin. Explicitly cast to the appropriate dtype before calling isin instead.\n",
            "  df = df[df.index.isin(dates_dt)]\n",
            " 37%|███▋      | 155/416 [02:00<03:23,  1.28it/s]"
          ]
        },
        {
          "name": "stdout",
          "output_type": "stream",
          "text": [
            "Generating graph 155/416...\n"
          ]
        },
        {
          "name": "stderr",
          "output_type": "stream",
          "text": [
            "/Users/mirco/Documents/Tesi/code/models/DGDNN/Data/geometric_dataset_gen.py:133: FutureWarning: The behavior of 'isin' with dtype=datetime64[ns] and castable values (e.g. strings) is deprecated. In a future version, these will not be considered matching by isin. Explicitly cast to the appropriate dtype before calling isin instead.\n",
            "  df = df[df.index.isin(dates_dt)]\n",
            "/Users/mirco/Documents/Tesi/code/models/DGDNN/Data/geometric_dataset_gen.py:133: FutureWarning: The behavior of 'isin' with dtype=datetime64[ns] and castable values (e.g. strings) is deprecated. In a future version, these will not be considered matching by isin. Explicitly cast to the appropriate dtype before calling isin instead.\n",
            "  df = df[df.index.isin(dates_dt)]\n",
            "/Users/mirco/Documents/Tesi/code/models/DGDNN/Data/geometric_dataset_gen.py:133: FutureWarning: The behavior of 'isin' with dtype=datetime64[ns] and castable values (e.g. strings) is deprecated. In a future version, these will not be considered matching by isin. Explicitly cast to the appropriate dtype before calling isin instead.\n",
            "  df = df[df.index.isin(dates_dt)]\n",
            "/Users/mirco/Documents/Tesi/code/models/DGDNN/Data/geometric_dataset_gen.py:133: FutureWarning: The behavior of 'isin' with dtype=datetime64[ns] and castable values (e.g. strings) is deprecated. In a future version, these will not be considered matching by isin. Explicitly cast to the appropriate dtype before calling isin instead.\n",
            "  df = df[df.index.isin(dates_dt)]\n",
            " 38%|███▊      | 156/416 [02:01<03:19,  1.30it/s]"
          ]
        },
        {
          "name": "stdout",
          "output_type": "stream",
          "text": [
            "Generating graph 156/416...\n"
          ]
        },
        {
          "name": "stderr",
          "output_type": "stream",
          "text": [
            "/Users/mirco/Documents/Tesi/code/models/DGDNN/Data/geometric_dataset_gen.py:133: FutureWarning: The behavior of 'isin' with dtype=datetime64[ns] and castable values (e.g. strings) is deprecated. In a future version, these will not be considered matching by isin. Explicitly cast to the appropriate dtype before calling isin instead.\n",
            "  df = df[df.index.isin(dates_dt)]\n",
            "/Users/mirco/Documents/Tesi/code/models/DGDNN/Data/geometric_dataset_gen.py:133: FutureWarning: The behavior of 'isin' with dtype=datetime64[ns] and castable values (e.g. strings) is deprecated. In a future version, these will not be considered matching by isin. Explicitly cast to the appropriate dtype before calling isin instead.\n",
            "  df = df[df.index.isin(dates_dt)]\n",
            "/Users/mirco/Documents/Tesi/code/models/DGDNN/Data/geometric_dataset_gen.py:133: FutureWarning: The behavior of 'isin' with dtype=datetime64[ns] and castable values (e.g. strings) is deprecated. In a future version, these will not be considered matching by isin. Explicitly cast to the appropriate dtype before calling isin instead.\n",
            "  df = df[df.index.isin(dates_dt)]\n",
            "/Users/mirco/Documents/Tesi/code/models/DGDNN/Data/geometric_dataset_gen.py:133: FutureWarning: The behavior of 'isin' with dtype=datetime64[ns] and castable values (e.g. strings) is deprecated. In a future version, these will not be considered matching by isin. Explicitly cast to the appropriate dtype before calling isin instead.\n",
            "  df = df[df.index.isin(dates_dt)]\n",
            " 38%|███▊      | 157/416 [02:01<03:27,  1.25it/s]"
          ]
        },
        {
          "name": "stdout",
          "output_type": "stream",
          "text": [
            "Generating graph 157/416...\n"
          ]
        },
        {
          "name": "stderr",
          "output_type": "stream",
          "text": [
            "/Users/mirco/Documents/Tesi/code/models/DGDNN/Data/geometric_dataset_gen.py:133: FutureWarning: The behavior of 'isin' with dtype=datetime64[ns] and castable values (e.g. strings) is deprecated. In a future version, these will not be considered matching by isin. Explicitly cast to the appropriate dtype before calling isin instead.\n",
            "  df = df[df.index.isin(dates_dt)]\n",
            "/Users/mirco/Documents/Tesi/code/models/DGDNN/Data/geometric_dataset_gen.py:133: FutureWarning: The behavior of 'isin' with dtype=datetime64[ns] and castable values (e.g. strings) is deprecated. In a future version, these will not be considered matching by isin. Explicitly cast to the appropriate dtype before calling isin instead.\n",
            "  df = df[df.index.isin(dates_dt)]\n",
            "/Users/mirco/Documents/Tesi/code/models/DGDNN/Data/geometric_dataset_gen.py:133: FutureWarning: The behavior of 'isin' with dtype=datetime64[ns] and castable values (e.g. strings) is deprecated. In a future version, these will not be considered matching by isin. Explicitly cast to the appropriate dtype before calling isin instead.\n",
            "  df = df[df.index.isin(dates_dt)]\n",
            "/Users/mirco/Documents/Tesi/code/models/DGDNN/Data/geometric_dataset_gen.py:133: FutureWarning: The behavior of 'isin' with dtype=datetime64[ns] and castable values (e.g. strings) is deprecated. In a future version, these will not be considered matching by isin. Explicitly cast to the appropriate dtype before calling isin instead.\n",
            "  df = df[df.index.isin(dates_dt)]\n",
            " 38%|███▊      | 158/416 [02:02<03:20,  1.28it/s]"
          ]
        },
        {
          "name": "stdout",
          "output_type": "stream",
          "text": [
            "Generating graph 158/416...\n"
          ]
        },
        {
          "name": "stderr",
          "output_type": "stream",
          "text": [
            "/Users/mirco/Documents/Tesi/code/models/DGDNN/Data/geometric_dataset_gen.py:133: FutureWarning: The behavior of 'isin' with dtype=datetime64[ns] and castable values (e.g. strings) is deprecated. In a future version, these will not be considered matching by isin. Explicitly cast to the appropriate dtype before calling isin instead.\n",
            "  df = df[df.index.isin(dates_dt)]\n",
            "/Users/mirco/Documents/Tesi/code/models/DGDNN/Data/geometric_dataset_gen.py:133: FutureWarning: The behavior of 'isin' with dtype=datetime64[ns] and castable values (e.g. strings) is deprecated. In a future version, these will not be considered matching by isin. Explicitly cast to the appropriate dtype before calling isin instead.\n",
            "  df = df[df.index.isin(dates_dt)]\n",
            "/Users/mirco/Documents/Tesi/code/models/DGDNN/Data/geometric_dataset_gen.py:133: FutureWarning: The behavior of 'isin' with dtype=datetime64[ns] and castable values (e.g. strings) is deprecated. In a future version, these will not be considered matching by isin. Explicitly cast to the appropriate dtype before calling isin instead.\n",
            "  df = df[df.index.isin(dates_dt)]\n",
            "/Users/mirco/Documents/Tesi/code/models/DGDNN/Data/geometric_dataset_gen.py:133: FutureWarning: The behavior of 'isin' with dtype=datetime64[ns] and castable values (e.g. strings) is deprecated. In a future version, these will not be considered matching by isin. Explicitly cast to the appropriate dtype before calling isin instead.\n",
            "  df = df[df.index.isin(dates_dt)]\n",
            " 38%|███▊      | 159/416 [02:03<03:14,  1.32it/s]"
          ]
        },
        {
          "name": "stdout",
          "output_type": "stream",
          "text": [
            "Generating graph 159/416...\n"
          ]
        },
        {
          "name": "stderr",
          "output_type": "stream",
          "text": [
            "/Users/mirco/Documents/Tesi/code/models/DGDNN/Data/geometric_dataset_gen.py:133: FutureWarning: The behavior of 'isin' with dtype=datetime64[ns] and castable values (e.g. strings) is deprecated. In a future version, these will not be considered matching by isin. Explicitly cast to the appropriate dtype before calling isin instead.\n",
            "  df = df[df.index.isin(dates_dt)]\n",
            "/Users/mirco/Documents/Tesi/code/models/DGDNN/Data/geometric_dataset_gen.py:133: FutureWarning: The behavior of 'isin' with dtype=datetime64[ns] and castable values (e.g. strings) is deprecated. In a future version, these will not be considered matching by isin. Explicitly cast to the appropriate dtype before calling isin instead.\n",
            "  df = df[df.index.isin(dates_dt)]\n",
            "/Users/mirco/Documents/Tesi/code/models/DGDNN/Data/geometric_dataset_gen.py:133: FutureWarning: The behavior of 'isin' with dtype=datetime64[ns] and castable values (e.g. strings) is deprecated. In a future version, these will not be considered matching by isin. Explicitly cast to the appropriate dtype before calling isin instead.\n",
            "  df = df[df.index.isin(dates_dt)]\n",
            "/Users/mirco/Documents/Tesi/code/models/DGDNN/Data/geometric_dataset_gen.py:133: FutureWarning: The behavior of 'isin' with dtype=datetime64[ns] and castable values (e.g. strings) is deprecated. In a future version, these will not be considered matching by isin. Explicitly cast to the appropriate dtype before calling isin instead.\n",
            "  df = df[df.index.isin(dates_dt)]\n",
            " 38%|███▊      | 160/416 [02:04<03:23,  1.26it/s]"
          ]
        },
        {
          "name": "stdout",
          "output_type": "stream",
          "text": [
            "Generating graph 160/416...\n"
          ]
        },
        {
          "name": "stderr",
          "output_type": "stream",
          "text": [
            "/Users/mirco/Documents/Tesi/code/models/DGDNN/Data/geometric_dataset_gen.py:133: FutureWarning: The behavior of 'isin' with dtype=datetime64[ns] and castable values (e.g. strings) is deprecated. In a future version, these will not be considered matching by isin. Explicitly cast to the appropriate dtype before calling isin instead.\n",
            "  df = df[df.index.isin(dates_dt)]\n",
            "/Users/mirco/Documents/Tesi/code/models/DGDNN/Data/geometric_dataset_gen.py:133: FutureWarning: The behavior of 'isin' with dtype=datetime64[ns] and castable values (e.g. strings) is deprecated. In a future version, these will not be considered matching by isin. Explicitly cast to the appropriate dtype before calling isin instead.\n",
            "  df = df[df.index.isin(dates_dt)]\n",
            "/Users/mirco/Documents/Tesi/code/models/DGDNN/Data/geometric_dataset_gen.py:133: FutureWarning: The behavior of 'isin' with dtype=datetime64[ns] and castable values (e.g. strings) is deprecated. In a future version, these will not be considered matching by isin. Explicitly cast to the appropriate dtype before calling isin instead.\n",
            "  df = df[df.index.isin(dates_dt)]\n",
            "/Users/mirco/Documents/Tesi/code/models/DGDNN/Data/geometric_dataset_gen.py:133: FutureWarning: The behavior of 'isin' with dtype=datetime64[ns] and castable values (e.g. strings) is deprecated. In a future version, these will not be considered matching by isin. Explicitly cast to the appropriate dtype before calling isin instead.\n",
            "  df = df[df.index.isin(dates_dt)]\n",
            " 39%|███▊      | 161/416 [02:04<03:16,  1.30it/s]"
          ]
        },
        {
          "name": "stdout",
          "output_type": "stream",
          "text": [
            "Generating graph 161/416...\n"
          ]
        },
        {
          "name": "stderr",
          "output_type": "stream",
          "text": [
            "/Users/mirco/Documents/Tesi/code/models/DGDNN/Data/geometric_dataset_gen.py:133: FutureWarning: The behavior of 'isin' with dtype=datetime64[ns] and castable values (e.g. strings) is deprecated. In a future version, these will not be considered matching by isin. Explicitly cast to the appropriate dtype before calling isin instead.\n",
            "  df = df[df.index.isin(dates_dt)]\n",
            "/Users/mirco/Documents/Tesi/code/models/DGDNN/Data/geometric_dataset_gen.py:133: FutureWarning: The behavior of 'isin' with dtype=datetime64[ns] and castable values (e.g. strings) is deprecated. In a future version, these will not be considered matching by isin. Explicitly cast to the appropriate dtype before calling isin instead.\n",
            "  df = df[df.index.isin(dates_dt)]\n",
            "/Users/mirco/Documents/Tesi/code/models/DGDNN/Data/geometric_dataset_gen.py:133: FutureWarning: The behavior of 'isin' with dtype=datetime64[ns] and castable values (e.g. strings) is deprecated. In a future version, these will not be considered matching by isin. Explicitly cast to the appropriate dtype before calling isin instead.\n",
            "  df = df[df.index.isin(dates_dt)]\n",
            "/Users/mirco/Documents/Tesi/code/models/DGDNN/Data/geometric_dataset_gen.py:133: FutureWarning: The behavior of 'isin' with dtype=datetime64[ns] and castable values (e.g. strings) is deprecated. In a future version, these will not be considered matching by isin. Explicitly cast to the appropriate dtype before calling isin instead.\n",
            "  df = df[df.index.isin(dates_dt)]\n",
            " 39%|███▉      | 162/416 [02:05<03:19,  1.28it/s]"
          ]
        },
        {
          "name": "stdout",
          "output_type": "stream",
          "text": [
            "Generating graph 162/416...\n"
          ]
        },
        {
          "name": "stderr",
          "output_type": "stream",
          "text": [
            "/Users/mirco/Documents/Tesi/code/models/DGDNN/Data/geometric_dataset_gen.py:133: FutureWarning: The behavior of 'isin' with dtype=datetime64[ns] and castable values (e.g. strings) is deprecated. In a future version, these will not be considered matching by isin. Explicitly cast to the appropriate dtype before calling isin instead.\n",
            "  df = df[df.index.isin(dates_dt)]\n",
            "/Users/mirco/Documents/Tesi/code/models/DGDNN/Data/geometric_dataset_gen.py:133: FutureWarning: The behavior of 'isin' with dtype=datetime64[ns] and castable values (e.g. strings) is deprecated. In a future version, these will not be considered matching by isin. Explicitly cast to the appropriate dtype before calling isin instead.\n",
            "  df = df[df.index.isin(dates_dt)]\n",
            "/Users/mirco/Documents/Tesi/code/models/DGDNN/Data/geometric_dataset_gen.py:133: FutureWarning: The behavior of 'isin' with dtype=datetime64[ns] and castable values (e.g. strings) is deprecated. In a future version, these will not be considered matching by isin. Explicitly cast to the appropriate dtype before calling isin instead.\n",
            "  df = df[df.index.isin(dates_dt)]\n",
            "/Users/mirco/Documents/Tesi/code/models/DGDNN/Data/geometric_dataset_gen.py:133: FutureWarning: The behavior of 'isin' with dtype=datetime64[ns] and castable values (e.g. strings) is deprecated. In a future version, these will not be considered matching by isin. Explicitly cast to the appropriate dtype before calling isin instead.\n",
            "  df = df[df.index.isin(dates_dt)]\n",
            " 39%|███▉      | 163/416 [02:06<03:12,  1.31it/s]"
          ]
        },
        {
          "name": "stdout",
          "output_type": "stream",
          "text": [
            "Generating graph 163/416...\n"
          ]
        },
        {
          "name": "stderr",
          "output_type": "stream",
          "text": [
            "/Users/mirco/Documents/Tesi/code/models/DGDNN/Data/geometric_dataset_gen.py:133: FutureWarning: The behavior of 'isin' with dtype=datetime64[ns] and castable values (e.g. strings) is deprecated. In a future version, these will not be considered matching by isin. Explicitly cast to the appropriate dtype before calling isin instead.\n",
            "  df = df[df.index.isin(dates_dt)]\n",
            "/Users/mirco/Documents/Tesi/code/models/DGDNN/Data/geometric_dataset_gen.py:133: FutureWarning: The behavior of 'isin' with dtype=datetime64[ns] and castable values (e.g. strings) is deprecated. In a future version, these will not be considered matching by isin. Explicitly cast to the appropriate dtype before calling isin instead.\n",
            "  df = df[df.index.isin(dates_dt)]\n",
            "/Users/mirco/Documents/Tesi/code/models/DGDNN/Data/geometric_dataset_gen.py:133: FutureWarning: The behavior of 'isin' with dtype=datetime64[ns] and castable values (e.g. strings) is deprecated. In a future version, these will not be considered matching by isin. Explicitly cast to the appropriate dtype before calling isin instead.\n",
            "  df = df[df.index.isin(dates_dt)]\n",
            "/Users/mirco/Documents/Tesi/code/models/DGDNN/Data/geometric_dataset_gen.py:133: FutureWarning: The behavior of 'isin' with dtype=datetime64[ns] and castable values (e.g. strings) is deprecated. In a future version, these will not be considered matching by isin. Explicitly cast to the appropriate dtype before calling isin instead.\n",
            "  df = df[df.index.isin(dates_dt)]\n",
            " 39%|███▉      | 164/416 [02:07<03:20,  1.26it/s]"
          ]
        },
        {
          "name": "stdout",
          "output_type": "stream",
          "text": [
            "Generating graph 164/416...\n"
          ]
        },
        {
          "name": "stderr",
          "output_type": "stream",
          "text": [
            "/Users/mirco/Documents/Tesi/code/models/DGDNN/Data/geometric_dataset_gen.py:133: FutureWarning: The behavior of 'isin' with dtype=datetime64[ns] and castable values (e.g. strings) is deprecated. In a future version, these will not be considered matching by isin. Explicitly cast to the appropriate dtype before calling isin instead.\n",
            "  df = df[df.index.isin(dates_dt)]\n",
            "/Users/mirco/Documents/Tesi/code/models/DGDNN/Data/geometric_dataset_gen.py:133: FutureWarning: The behavior of 'isin' with dtype=datetime64[ns] and castable values (e.g. strings) is deprecated. In a future version, these will not be considered matching by isin. Explicitly cast to the appropriate dtype before calling isin instead.\n",
            "  df = df[df.index.isin(dates_dt)]\n",
            "/Users/mirco/Documents/Tesi/code/models/DGDNN/Data/geometric_dataset_gen.py:133: FutureWarning: The behavior of 'isin' with dtype=datetime64[ns] and castable values (e.g. strings) is deprecated. In a future version, these will not be considered matching by isin. Explicitly cast to the appropriate dtype before calling isin instead.\n",
            "  df = df[df.index.isin(dates_dt)]\n",
            "/Users/mirco/Documents/Tesi/code/models/DGDNN/Data/geometric_dataset_gen.py:133: FutureWarning: The behavior of 'isin' with dtype=datetime64[ns] and castable values (e.g. strings) is deprecated. In a future version, these will not be considered matching by isin. Explicitly cast to the appropriate dtype before calling isin instead.\n",
            "  df = df[df.index.isin(dates_dt)]\n",
            " 40%|███▉      | 165/416 [02:08<03:13,  1.29it/s]"
          ]
        },
        {
          "name": "stdout",
          "output_type": "stream",
          "text": [
            "Generating graph 165/416...\n"
          ]
        },
        {
          "name": "stderr",
          "output_type": "stream",
          "text": [
            "/Users/mirco/Documents/Tesi/code/models/DGDNN/Data/geometric_dataset_gen.py:133: FutureWarning: The behavior of 'isin' with dtype=datetime64[ns] and castable values (e.g. strings) is deprecated. In a future version, these will not be considered matching by isin. Explicitly cast to the appropriate dtype before calling isin instead.\n",
            "  df = df[df.index.isin(dates_dt)]\n",
            "/Users/mirco/Documents/Tesi/code/models/DGDNN/Data/geometric_dataset_gen.py:133: FutureWarning: The behavior of 'isin' with dtype=datetime64[ns] and castable values (e.g. strings) is deprecated. In a future version, these will not be considered matching by isin. Explicitly cast to the appropriate dtype before calling isin instead.\n",
            "  df = df[df.index.isin(dates_dt)]\n",
            "/Users/mirco/Documents/Tesi/code/models/DGDNN/Data/geometric_dataset_gen.py:133: FutureWarning: The behavior of 'isin' with dtype=datetime64[ns] and castable values (e.g. strings) is deprecated. In a future version, these will not be considered matching by isin. Explicitly cast to the appropriate dtype before calling isin instead.\n",
            "  df = df[df.index.isin(dates_dt)]\n",
            "/Users/mirco/Documents/Tesi/code/models/DGDNN/Data/geometric_dataset_gen.py:133: FutureWarning: The behavior of 'isin' with dtype=datetime64[ns] and castable values (e.g. strings) is deprecated. In a future version, these will not be considered matching by isin. Explicitly cast to the appropriate dtype before calling isin instead.\n",
            "  df = df[df.index.isin(dates_dt)]\n",
            " 40%|███▉      | 166/416 [02:08<03:08,  1.33it/s]"
          ]
        },
        {
          "name": "stdout",
          "output_type": "stream",
          "text": [
            "Generating graph 166/416...\n"
          ]
        },
        {
          "name": "stderr",
          "output_type": "stream",
          "text": [
            "/Users/mirco/Documents/Tesi/code/models/DGDNN/Data/geometric_dataset_gen.py:133: FutureWarning: The behavior of 'isin' with dtype=datetime64[ns] and castable values (e.g. strings) is deprecated. In a future version, these will not be considered matching by isin. Explicitly cast to the appropriate dtype before calling isin instead.\n",
            "  df = df[df.index.isin(dates_dt)]\n",
            "/Users/mirco/Documents/Tesi/code/models/DGDNN/Data/geometric_dataset_gen.py:133: FutureWarning: The behavior of 'isin' with dtype=datetime64[ns] and castable values (e.g. strings) is deprecated. In a future version, these will not be considered matching by isin. Explicitly cast to the appropriate dtype before calling isin instead.\n",
            "  df = df[df.index.isin(dates_dt)]\n",
            "/Users/mirco/Documents/Tesi/code/models/DGDNN/Data/geometric_dataset_gen.py:133: FutureWarning: The behavior of 'isin' with dtype=datetime64[ns] and castable values (e.g. strings) is deprecated. In a future version, these will not be considered matching by isin. Explicitly cast to the appropriate dtype before calling isin instead.\n",
            "  df = df[df.index.isin(dates_dt)]\n",
            "/Users/mirco/Documents/Tesi/code/models/DGDNN/Data/geometric_dataset_gen.py:133: FutureWarning: The behavior of 'isin' with dtype=datetime64[ns] and castable values (e.g. strings) is deprecated. In a future version, these will not be considered matching by isin. Explicitly cast to the appropriate dtype before calling isin instead.\n",
            "  df = df[df.index.isin(dates_dt)]\n",
            " 40%|████      | 167/416 [02:09<03:16,  1.27it/s]"
          ]
        },
        {
          "name": "stdout",
          "output_type": "stream",
          "text": [
            "Generating graph 167/416...\n"
          ]
        },
        {
          "name": "stderr",
          "output_type": "stream",
          "text": [
            "/Users/mirco/Documents/Tesi/code/models/DGDNN/Data/geometric_dataset_gen.py:133: FutureWarning: The behavior of 'isin' with dtype=datetime64[ns] and castable values (e.g. strings) is deprecated. In a future version, these will not be considered matching by isin. Explicitly cast to the appropriate dtype before calling isin instead.\n",
            "  df = df[df.index.isin(dates_dt)]\n",
            "/Users/mirco/Documents/Tesi/code/models/DGDNN/Data/geometric_dataset_gen.py:133: FutureWarning: The behavior of 'isin' with dtype=datetime64[ns] and castable values (e.g. strings) is deprecated. In a future version, these will not be considered matching by isin. Explicitly cast to the appropriate dtype before calling isin instead.\n",
            "  df = df[df.index.isin(dates_dt)]\n",
            "/Users/mirco/Documents/Tesi/code/models/DGDNN/Data/geometric_dataset_gen.py:133: FutureWarning: The behavior of 'isin' with dtype=datetime64[ns] and castable values (e.g. strings) is deprecated. In a future version, these will not be considered matching by isin. Explicitly cast to the appropriate dtype before calling isin instead.\n",
            "  df = df[df.index.isin(dates_dt)]\n",
            "/Users/mirco/Documents/Tesi/code/models/DGDNN/Data/geometric_dataset_gen.py:133: FutureWarning: The behavior of 'isin' with dtype=datetime64[ns] and castable values (e.g. strings) is deprecated. In a future version, these will not be considered matching by isin. Explicitly cast to the appropriate dtype before calling isin instead.\n",
            "  df = df[df.index.isin(dates_dt)]\n",
            " 40%|████      | 168/416 [02:10<03:21,  1.23it/s]"
          ]
        },
        {
          "name": "stdout",
          "output_type": "stream",
          "text": [
            "Generating graph 168/416...\n"
          ]
        },
        {
          "name": "stderr",
          "output_type": "stream",
          "text": [
            "/Users/mirco/Documents/Tesi/code/models/DGDNN/Data/geometric_dataset_gen.py:133: FutureWarning: The behavior of 'isin' with dtype=datetime64[ns] and castable values (e.g. strings) is deprecated. In a future version, these will not be considered matching by isin. Explicitly cast to the appropriate dtype before calling isin instead.\n",
            "  df = df[df.index.isin(dates_dt)]\n",
            "/Users/mirco/Documents/Tesi/code/models/DGDNN/Data/geometric_dataset_gen.py:133: FutureWarning: The behavior of 'isin' with dtype=datetime64[ns] and castable values (e.g. strings) is deprecated. In a future version, these will not be considered matching by isin. Explicitly cast to the appropriate dtype before calling isin instead.\n",
            "  df = df[df.index.isin(dates_dt)]\n",
            "/Users/mirco/Documents/Tesi/code/models/DGDNN/Data/geometric_dataset_gen.py:133: FutureWarning: The behavior of 'isin' with dtype=datetime64[ns] and castable values (e.g. strings) is deprecated. In a future version, these will not be considered matching by isin. Explicitly cast to the appropriate dtype before calling isin instead.\n",
            "  df = df[df.index.isin(dates_dt)]\n",
            "/Users/mirco/Documents/Tesi/code/models/DGDNN/Data/geometric_dataset_gen.py:133: FutureWarning: The behavior of 'isin' with dtype=datetime64[ns] and castable values (e.g. strings) is deprecated. In a future version, these will not be considered matching by isin. Explicitly cast to the appropriate dtype before calling isin instead.\n",
            "  df = df[df.index.isin(dates_dt)]\n",
            " 41%|████      | 169/416 [02:11<03:18,  1.25it/s]"
          ]
        },
        {
          "name": "stdout",
          "output_type": "stream",
          "text": [
            "Generating graph 169/416...\n"
          ]
        },
        {
          "name": "stderr",
          "output_type": "stream",
          "text": [
            "/Users/mirco/Documents/Tesi/code/models/DGDNN/Data/geometric_dataset_gen.py:133: FutureWarning: The behavior of 'isin' with dtype=datetime64[ns] and castable values (e.g. strings) is deprecated. In a future version, these will not be considered matching by isin. Explicitly cast to the appropriate dtype before calling isin instead.\n",
            "  df = df[df.index.isin(dates_dt)]\n",
            "/Users/mirco/Documents/Tesi/code/models/DGDNN/Data/geometric_dataset_gen.py:133: FutureWarning: The behavior of 'isin' with dtype=datetime64[ns] and castable values (e.g. strings) is deprecated. In a future version, these will not be considered matching by isin. Explicitly cast to the appropriate dtype before calling isin instead.\n",
            "  df = df[df.index.isin(dates_dt)]\n",
            "/Users/mirco/Documents/Tesi/code/models/DGDNN/Data/geometric_dataset_gen.py:133: FutureWarning: The behavior of 'isin' with dtype=datetime64[ns] and castable values (e.g. strings) is deprecated. In a future version, these will not be considered matching by isin. Explicitly cast to the appropriate dtype before calling isin instead.\n",
            "  df = df[df.index.isin(dates_dt)]\n",
            "/Users/mirco/Documents/Tesi/code/models/DGDNN/Data/geometric_dataset_gen.py:133: FutureWarning: The behavior of 'isin' with dtype=datetime64[ns] and castable values (e.g. strings) is deprecated. In a future version, these will not be considered matching by isin. Explicitly cast to the appropriate dtype before calling isin instead.\n",
            "  df = df[df.index.isin(dates_dt)]\n",
            " 41%|████      | 170/416 [02:12<03:12,  1.28it/s]"
          ]
        },
        {
          "name": "stdout",
          "output_type": "stream",
          "text": [
            "Generating graph 170/416...\n"
          ]
        },
        {
          "name": "stderr",
          "output_type": "stream",
          "text": [
            "/Users/mirco/Documents/Tesi/code/models/DGDNN/Data/geometric_dataset_gen.py:133: FutureWarning: The behavior of 'isin' with dtype=datetime64[ns] and castable values (e.g. strings) is deprecated. In a future version, these will not be considered matching by isin. Explicitly cast to the appropriate dtype before calling isin instead.\n",
            "  df = df[df.index.isin(dates_dt)]\n",
            "/Users/mirco/Documents/Tesi/code/models/DGDNN/Data/geometric_dataset_gen.py:133: FutureWarning: The behavior of 'isin' with dtype=datetime64[ns] and castable values (e.g. strings) is deprecated. In a future version, these will not be considered matching by isin. Explicitly cast to the appropriate dtype before calling isin instead.\n",
            "  df = df[df.index.isin(dates_dt)]\n",
            "/Users/mirco/Documents/Tesi/code/models/DGDNN/Data/geometric_dataset_gen.py:133: FutureWarning: The behavior of 'isin' with dtype=datetime64[ns] and castable values (e.g. strings) is deprecated. In a future version, these will not be considered matching by isin. Explicitly cast to the appropriate dtype before calling isin instead.\n",
            "  df = df[df.index.isin(dates_dt)]\n",
            "/Users/mirco/Documents/Tesi/code/models/DGDNN/Data/geometric_dataset_gen.py:133: FutureWarning: The behavior of 'isin' with dtype=datetime64[ns] and castable values (e.g. strings) is deprecated. In a future version, these will not be considered matching by isin. Explicitly cast to the appropriate dtype before calling isin instead.\n",
            "  df = df[df.index.isin(dates_dt)]\n",
            " 41%|████      | 171/416 [02:12<03:18,  1.23it/s]"
          ]
        },
        {
          "name": "stdout",
          "output_type": "stream",
          "text": [
            "Generating graph 171/416...\n"
          ]
        },
        {
          "name": "stderr",
          "output_type": "stream",
          "text": [
            "/Users/mirco/Documents/Tesi/code/models/DGDNN/Data/geometric_dataset_gen.py:133: FutureWarning: The behavior of 'isin' with dtype=datetime64[ns] and castable values (e.g. strings) is deprecated. In a future version, these will not be considered matching by isin. Explicitly cast to the appropriate dtype before calling isin instead.\n",
            "  df = df[df.index.isin(dates_dt)]\n",
            "/Users/mirco/Documents/Tesi/code/models/DGDNN/Data/geometric_dataset_gen.py:133: FutureWarning: The behavior of 'isin' with dtype=datetime64[ns] and castable values (e.g. strings) is deprecated. In a future version, these will not be considered matching by isin. Explicitly cast to the appropriate dtype before calling isin instead.\n",
            "  df = df[df.index.isin(dates_dt)]\n",
            "/Users/mirco/Documents/Tesi/code/models/DGDNN/Data/geometric_dataset_gen.py:133: FutureWarning: The behavior of 'isin' with dtype=datetime64[ns] and castable values (e.g. strings) is deprecated. In a future version, these will not be considered matching by isin. Explicitly cast to the appropriate dtype before calling isin instead.\n",
            "  df = df[df.index.isin(dates_dt)]\n",
            "/Users/mirco/Documents/Tesi/code/models/DGDNN/Data/geometric_dataset_gen.py:133: FutureWarning: The behavior of 'isin' with dtype=datetime64[ns] and castable values (e.g. strings) is deprecated. In a future version, these will not be considered matching by isin. Explicitly cast to the appropriate dtype before calling isin instead.\n",
            "  df = df[df.index.isin(dates_dt)]\n",
            " 41%|████▏     | 172/416 [02:13<03:12,  1.26it/s]"
          ]
        },
        {
          "name": "stdout",
          "output_type": "stream",
          "text": [
            "Generating graph 172/416...\n"
          ]
        },
        {
          "name": "stderr",
          "output_type": "stream",
          "text": [
            "/Users/mirco/Documents/Tesi/code/models/DGDNN/Data/geometric_dataset_gen.py:133: FutureWarning: The behavior of 'isin' with dtype=datetime64[ns] and castable values (e.g. strings) is deprecated. In a future version, these will not be considered matching by isin. Explicitly cast to the appropriate dtype before calling isin instead.\n",
            "  df = df[df.index.isin(dates_dt)]\n",
            "/Users/mirco/Documents/Tesi/code/models/DGDNN/Data/geometric_dataset_gen.py:133: FutureWarning: The behavior of 'isin' with dtype=datetime64[ns] and castable values (e.g. strings) is deprecated. In a future version, these will not be considered matching by isin. Explicitly cast to the appropriate dtype before calling isin instead.\n",
            "  df = df[df.index.isin(dates_dt)]\n",
            "/Users/mirco/Documents/Tesi/code/models/DGDNN/Data/geometric_dataset_gen.py:133: FutureWarning: The behavior of 'isin' with dtype=datetime64[ns] and castable values (e.g. strings) is deprecated. In a future version, these will not be considered matching by isin. Explicitly cast to the appropriate dtype before calling isin instead.\n",
            "  df = df[df.index.isin(dates_dt)]\n",
            "/Users/mirco/Documents/Tesi/code/models/DGDNN/Data/geometric_dataset_gen.py:133: FutureWarning: The behavior of 'isin' with dtype=datetime64[ns] and castable values (e.g. strings) is deprecated. In a future version, these will not be considered matching by isin. Explicitly cast to the appropriate dtype before calling isin instead.\n",
            "  df = df[df.index.isin(dates_dt)]\n",
            " 42%|████▏     | 173/416 [02:14<03:08,  1.29it/s]"
          ]
        },
        {
          "name": "stdout",
          "output_type": "stream",
          "text": [
            "Generating graph 173/416...\n"
          ]
        },
        {
          "name": "stderr",
          "output_type": "stream",
          "text": [
            "/Users/mirco/Documents/Tesi/code/models/DGDNN/Data/geometric_dataset_gen.py:133: FutureWarning: The behavior of 'isin' with dtype=datetime64[ns] and castable values (e.g. strings) is deprecated. In a future version, these will not be considered matching by isin. Explicitly cast to the appropriate dtype before calling isin instead.\n",
            "  df = df[df.index.isin(dates_dt)]\n",
            "/Users/mirco/Documents/Tesi/code/models/DGDNN/Data/geometric_dataset_gen.py:133: FutureWarning: The behavior of 'isin' with dtype=datetime64[ns] and castable values (e.g. strings) is deprecated. In a future version, these will not be considered matching by isin. Explicitly cast to the appropriate dtype before calling isin instead.\n",
            "  df = df[df.index.isin(dates_dt)]\n",
            "/Users/mirco/Documents/Tesi/code/models/DGDNN/Data/geometric_dataset_gen.py:133: FutureWarning: The behavior of 'isin' with dtype=datetime64[ns] and castable values (e.g. strings) is deprecated. In a future version, these will not be considered matching by isin. Explicitly cast to the appropriate dtype before calling isin instead.\n",
            "  df = df[df.index.isin(dates_dt)]\n",
            "/Users/mirco/Documents/Tesi/code/models/DGDNN/Data/geometric_dataset_gen.py:133: FutureWarning: The behavior of 'isin' with dtype=datetime64[ns] and castable values (e.g. strings) is deprecated. In a future version, these will not be considered matching by isin. Explicitly cast to the appropriate dtype before calling isin instead.\n",
            "  df = df[df.index.isin(dates_dt)]\n",
            " 42%|████▏     | 174/416 [02:15<03:13,  1.25it/s]"
          ]
        },
        {
          "name": "stdout",
          "output_type": "stream",
          "text": [
            "Generating graph 174/416...\n"
          ]
        },
        {
          "name": "stderr",
          "output_type": "stream",
          "text": [
            "/Users/mirco/Documents/Tesi/code/models/DGDNN/Data/geometric_dataset_gen.py:133: FutureWarning: The behavior of 'isin' with dtype=datetime64[ns] and castable values (e.g. strings) is deprecated. In a future version, these will not be considered matching by isin. Explicitly cast to the appropriate dtype before calling isin instead.\n",
            "  df = df[df.index.isin(dates_dt)]\n",
            "/Users/mirco/Documents/Tesi/code/models/DGDNN/Data/geometric_dataset_gen.py:133: FutureWarning: The behavior of 'isin' with dtype=datetime64[ns] and castable values (e.g. strings) is deprecated. In a future version, these will not be considered matching by isin. Explicitly cast to the appropriate dtype before calling isin instead.\n",
            "  df = df[df.index.isin(dates_dt)]\n",
            "/Users/mirco/Documents/Tesi/code/models/DGDNN/Data/geometric_dataset_gen.py:133: FutureWarning: The behavior of 'isin' with dtype=datetime64[ns] and castable values (e.g. strings) is deprecated. In a future version, these will not be considered matching by isin. Explicitly cast to the appropriate dtype before calling isin instead.\n",
            "  df = df[df.index.isin(dates_dt)]\n",
            "/Users/mirco/Documents/Tesi/code/models/DGDNN/Data/geometric_dataset_gen.py:133: FutureWarning: The behavior of 'isin' with dtype=datetime64[ns] and castable values (e.g. strings) is deprecated. In a future version, these will not be considered matching by isin. Explicitly cast to the appropriate dtype before calling isin instead.\n",
            "  df = df[df.index.isin(dates_dt)]\n",
            " 42%|████▏     | 175/416 [02:16<03:21,  1.20it/s]"
          ]
        },
        {
          "name": "stdout",
          "output_type": "stream",
          "text": [
            "Generating graph 175/416...\n"
          ]
        },
        {
          "name": "stderr",
          "output_type": "stream",
          "text": [
            "/Users/mirco/Documents/Tesi/code/models/DGDNN/Data/geometric_dataset_gen.py:133: FutureWarning: The behavior of 'isin' with dtype=datetime64[ns] and castable values (e.g. strings) is deprecated. In a future version, these will not be considered matching by isin. Explicitly cast to the appropriate dtype before calling isin instead.\n",
            "  df = df[df.index.isin(dates_dt)]\n",
            "/Users/mirco/Documents/Tesi/code/models/DGDNN/Data/geometric_dataset_gen.py:133: FutureWarning: The behavior of 'isin' with dtype=datetime64[ns] and castable values (e.g. strings) is deprecated. In a future version, these will not be considered matching by isin. Explicitly cast to the appropriate dtype before calling isin instead.\n",
            "  df = df[df.index.isin(dates_dt)]\n",
            "/Users/mirco/Documents/Tesi/code/models/DGDNN/Data/geometric_dataset_gen.py:133: FutureWarning: The behavior of 'isin' with dtype=datetime64[ns] and castable values (e.g. strings) is deprecated. In a future version, these will not be considered matching by isin. Explicitly cast to the appropriate dtype before calling isin instead.\n",
            "  df = df[df.index.isin(dates_dt)]\n",
            "/Users/mirco/Documents/Tesi/code/models/DGDNN/Data/geometric_dataset_gen.py:133: FutureWarning: The behavior of 'isin' with dtype=datetime64[ns] and castable values (e.g. strings) is deprecated. In a future version, these will not be considered matching by isin. Explicitly cast to the appropriate dtype before calling isin instead.\n",
            "  df = df[df.index.isin(dates_dt)]\n",
            " 42%|████▏     | 176/416 [02:16<03:13,  1.24it/s]"
          ]
        },
        {
          "name": "stdout",
          "output_type": "stream",
          "text": [
            "Generating graph 176/416...\n"
          ]
        },
        {
          "name": "stderr",
          "output_type": "stream",
          "text": [
            "/Users/mirco/Documents/Tesi/code/models/DGDNN/Data/geometric_dataset_gen.py:133: FutureWarning: The behavior of 'isin' with dtype=datetime64[ns] and castable values (e.g. strings) is deprecated. In a future version, these will not be considered matching by isin. Explicitly cast to the appropriate dtype before calling isin instead.\n",
            "  df = df[df.index.isin(dates_dt)]\n",
            "/Users/mirco/Documents/Tesi/code/models/DGDNN/Data/geometric_dataset_gen.py:133: FutureWarning: The behavior of 'isin' with dtype=datetime64[ns] and castable values (e.g. strings) is deprecated. In a future version, these will not be considered matching by isin. Explicitly cast to the appropriate dtype before calling isin instead.\n",
            "  df = df[df.index.isin(dates_dt)]\n",
            "/Users/mirco/Documents/Tesi/code/models/DGDNN/Data/geometric_dataset_gen.py:133: FutureWarning: The behavior of 'isin' with dtype=datetime64[ns] and castable values (e.g. strings) is deprecated. In a future version, these will not be considered matching by isin. Explicitly cast to the appropriate dtype before calling isin instead.\n",
            "  df = df[df.index.isin(dates_dt)]\n",
            "/Users/mirco/Documents/Tesi/code/models/DGDNN/Data/geometric_dataset_gen.py:133: FutureWarning: The behavior of 'isin' with dtype=datetime64[ns] and castable values (e.g. strings) is deprecated. In a future version, these will not be considered matching by isin. Explicitly cast to the appropriate dtype before calling isin instead.\n",
            "  df = df[df.index.isin(dates_dt)]\n",
            " 43%|████▎     | 177/416 [02:18<03:39,  1.09it/s]"
          ]
        },
        {
          "name": "stdout",
          "output_type": "stream",
          "text": [
            "Generating graph 177/416...\n"
          ]
        },
        {
          "name": "stderr",
          "output_type": "stream",
          "text": [
            "/Users/mirco/Documents/Tesi/code/models/DGDNN/Data/geometric_dataset_gen.py:133: FutureWarning: The behavior of 'isin' with dtype=datetime64[ns] and castable values (e.g. strings) is deprecated. In a future version, these will not be considered matching by isin. Explicitly cast to the appropriate dtype before calling isin instead.\n",
            "  df = df[df.index.isin(dates_dt)]\n",
            "/Users/mirco/Documents/Tesi/code/models/DGDNN/Data/geometric_dataset_gen.py:133: FutureWarning: The behavior of 'isin' with dtype=datetime64[ns] and castable values (e.g. strings) is deprecated. In a future version, these will not be considered matching by isin. Explicitly cast to the appropriate dtype before calling isin instead.\n",
            "  df = df[df.index.isin(dates_dt)]\n",
            "/Users/mirco/Documents/Tesi/code/models/DGDNN/Data/geometric_dataset_gen.py:133: FutureWarning: The behavior of 'isin' with dtype=datetime64[ns] and castable values (e.g. strings) is deprecated. In a future version, these will not be considered matching by isin. Explicitly cast to the appropriate dtype before calling isin instead.\n",
            "  df = df[df.index.isin(dates_dt)]\n",
            "/Users/mirco/Documents/Tesi/code/models/DGDNN/Data/geometric_dataset_gen.py:133: FutureWarning: The behavior of 'isin' with dtype=datetime64[ns] and castable values (e.g. strings) is deprecated. In a future version, these will not be considered matching by isin. Explicitly cast to the appropriate dtype before calling isin instead.\n",
            "  df = df[df.index.isin(dates_dt)]\n",
            " 43%|████▎     | 178/416 [02:18<03:24,  1.16it/s]"
          ]
        },
        {
          "name": "stdout",
          "output_type": "stream",
          "text": [
            "Generating graph 178/416...\n"
          ]
        },
        {
          "name": "stderr",
          "output_type": "stream",
          "text": [
            "/Users/mirco/Documents/Tesi/code/models/DGDNN/Data/geometric_dataset_gen.py:133: FutureWarning: The behavior of 'isin' with dtype=datetime64[ns] and castable values (e.g. strings) is deprecated. In a future version, these will not be considered matching by isin. Explicitly cast to the appropriate dtype before calling isin instead.\n",
            "  df = df[df.index.isin(dates_dt)]\n",
            "/Users/mirco/Documents/Tesi/code/models/DGDNN/Data/geometric_dataset_gen.py:133: FutureWarning: The behavior of 'isin' with dtype=datetime64[ns] and castable values (e.g. strings) is deprecated. In a future version, these will not be considered matching by isin. Explicitly cast to the appropriate dtype before calling isin instead.\n",
            "  df = df[df.index.isin(dates_dt)]\n",
            "/Users/mirco/Documents/Tesi/code/models/DGDNN/Data/geometric_dataset_gen.py:133: FutureWarning: The behavior of 'isin' with dtype=datetime64[ns] and castable values (e.g. strings) is deprecated. In a future version, these will not be considered matching by isin. Explicitly cast to the appropriate dtype before calling isin instead.\n",
            "  df = df[df.index.isin(dates_dt)]\n",
            "/Users/mirco/Documents/Tesi/code/models/DGDNN/Data/geometric_dataset_gen.py:133: FutureWarning: The behavior of 'isin' with dtype=datetime64[ns] and castable values (e.g. strings) is deprecated. In a future version, these will not be considered matching by isin. Explicitly cast to the appropriate dtype before calling isin instead.\n",
            "  df = df[df.index.isin(dates_dt)]\n",
            " 43%|████▎     | 179/416 [02:19<03:15,  1.21it/s]"
          ]
        },
        {
          "name": "stdout",
          "output_type": "stream",
          "text": [
            "Generating graph 179/416...\n"
          ]
        },
        {
          "name": "stderr",
          "output_type": "stream",
          "text": [
            "/Users/mirco/Documents/Tesi/code/models/DGDNN/Data/geometric_dataset_gen.py:133: FutureWarning: The behavior of 'isin' with dtype=datetime64[ns] and castable values (e.g. strings) is deprecated. In a future version, these will not be considered matching by isin. Explicitly cast to the appropriate dtype before calling isin instead.\n",
            "  df = df[df.index.isin(dates_dt)]\n",
            "/Users/mirco/Documents/Tesi/code/models/DGDNN/Data/geometric_dataset_gen.py:133: FutureWarning: The behavior of 'isin' with dtype=datetime64[ns] and castable values (e.g. strings) is deprecated. In a future version, these will not be considered matching by isin. Explicitly cast to the appropriate dtype before calling isin instead.\n",
            "  df = df[df.index.isin(dates_dt)]\n",
            "/Users/mirco/Documents/Tesi/code/models/DGDNN/Data/geometric_dataset_gen.py:133: FutureWarning: The behavior of 'isin' with dtype=datetime64[ns] and castable values (e.g. strings) is deprecated. In a future version, these will not be considered matching by isin. Explicitly cast to the appropriate dtype before calling isin instead.\n",
            "  df = df[df.index.isin(dates_dt)]\n",
            "/Users/mirco/Documents/Tesi/code/models/DGDNN/Data/geometric_dataset_gen.py:133: FutureWarning: The behavior of 'isin' with dtype=datetime64[ns] and castable values (e.g. strings) is deprecated. In a future version, these will not be considered matching by isin. Explicitly cast to the appropriate dtype before calling isin instead.\n",
            "  df = df[df.index.isin(dates_dt)]\n",
            " 43%|████▎     | 180/416 [02:20<03:05,  1.27it/s]"
          ]
        },
        {
          "name": "stdout",
          "output_type": "stream",
          "text": [
            "Generating graph 180/416...\n"
          ]
        },
        {
          "name": "stderr",
          "output_type": "stream",
          "text": [
            "/Users/mirco/Documents/Tesi/code/models/DGDNN/Data/geometric_dataset_gen.py:133: FutureWarning: The behavior of 'isin' with dtype=datetime64[ns] and castable values (e.g. strings) is deprecated. In a future version, these will not be considered matching by isin. Explicitly cast to the appropriate dtype before calling isin instead.\n",
            "  df = df[df.index.isin(dates_dt)]\n",
            "/Users/mirco/Documents/Tesi/code/models/DGDNN/Data/geometric_dataset_gen.py:133: FutureWarning: The behavior of 'isin' with dtype=datetime64[ns] and castable values (e.g. strings) is deprecated. In a future version, these will not be considered matching by isin. Explicitly cast to the appropriate dtype before calling isin instead.\n",
            "  df = df[df.index.isin(dates_dt)]\n",
            "/Users/mirco/Documents/Tesi/code/models/DGDNN/Data/geometric_dataset_gen.py:133: FutureWarning: The behavior of 'isin' with dtype=datetime64[ns] and castable values (e.g. strings) is deprecated. In a future version, these will not be considered matching by isin. Explicitly cast to the appropriate dtype before calling isin instead.\n",
            "  df = df[df.index.isin(dates_dt)]\n",
            "/Users/mirco/Documents/Tesi/code/models/DGDNN/Data/geometric_dataset_gen.py:133: FutureWarning: The behavior of 'isin' with dtype=datetime64[ns] and castable values (e.g. strings) is deprecated. In a future version, these will not be considered matching by isin. Explicitly cast to the appropriate dtype before calling isin instead.\n",
            "  df = df[df.index.isin(dates_dt)]\n",
            " 44%|████▎     | 181/416 [02:21<03:08,  1.25it/s]"
          ]
        },
        {
          "name": "stdout",
          "output_type": "stream",
          "text": [
            "Generating graph 181/416...\n"
          ]
        },
        {
          "name": "stderr",
          "output_type": "stream",
          "text": [
            "/Users/mirco/Documents/Tesi/code/models/DGDNN/Data/geometric_dataset_gen.py:133: FutureWarning: The behavior of 'isin' with dtype=datetime64[ns] and castable values (e.g. strings) is deprecated. In a future version, these will not be considered matching by isin. Explicitly cast to the appropriate dtype before calling isin instead.\n",
            "  df = df[df.index.isin(dates_dt)]\n",
            "/Users/mirco/Documents/Tesi/code/models/DGDNN/Data/geometric_dataset_gen.py:133: FutureWarning: The behavior of 'isin' with dtype=datetime64[ns] and castable values (e.g. strings) is deprecated. In a future version, these will not be considered matching by isin. Explicitly cast to the appropriate dtype before calling isin instead.\n",
            "  df = df[df.index.isin(dates_dt)]\n",
            "/Users/mirco/Documents/Tesi/code/models/DGDNN/Data/geometric_dataset_gen.py:133: FutureWarning: The behavior of 'isin' with dtype=datetime64[ns] and castable values (e.g. strings) is deprecated. In a future version, these will not be considered matching by isin. Explicitly cast to the appropriate dtype before calling isin instead.\n",
            "  df = df[df.index.isin(dates_dt)]\n",
            "/Users/mirco/Documents/Tesi/code/models/DGDNN/Data/geometric_dataset_gen.py:133: FutureWarning: The behavior of 'isin' with dtype=datetime64[ns] and castable values (e.g. strings) is deprecated. In a future version, these will not be considered matching by isin. Explicitly cast to the appropriate dtype before calling isin instead.\n",
            "  df = df[df.index.isin(dates_dt)]\n",
            " 44%|████▍     | 182/416 [02:21<03:04,  1.27it/s]"
          ]
        },
        {
          "name": "stdout",
          "output_type": "stream",
          "text": [
            "Generating graph 182/416...\n"
          ]
        },
        {
          "name": "stderr",
          "output_type": "stream",
          "text": [
            "/Users/mirco/Documents/Tesi/code/models/DGDNN/Data/geometric_dataset_gen.py:133: FutureWarning: The behavior of 'isin' with dtype=datetime64[ns] and castable values (e.g. strings) is deprecated. In a future version, these will not be considered matching by isin. Explicitly cast to the appropriate dtype before calling isin instead.\n",
            "  df = df[df.index.isin(dates_dt)]\n",
            "/Users/mirco/Documents/Tesi/code/models/DGDNN/Data/geometric_dataset_gen.py:133: FutureWarning: The behavior of 'isin' with dtype=datetime64[ns] and castable values (e.g. strings) is deprecated. In a future version, these will not be considered matching by isin. Explicitly cast to the appropriate dtype before calling isin instead.\n",
            "  df = df[df.index.isin(dates_dt)]\n",
            "/Users/mirco/Documents/Tesi/code/models/DGDNN/Data/geometric_dataset_gen.py:133: FutureWarning: The behavior of 'isin' with dtype=datetime64[ns] and castable values (e.g. strings) is deprecated. In a future version, these will not be considered matching by isin. Explicitly cast to the appropriate dtype before calling isin instead.\n",
            "  df = df[df.index.isin(dates_dt)]\n",
            "/Users/mirco/Documents/Tesi/code/models/DGDNN/Data/geometric_dataset_gen.py:133: FutureWarning: The behavior of 'isin' with dtype=datetime64[ns] and castable values (e.g. strings) is deprecated. In a future version, these will not be considered matching by isin. Explicitly cast to the appropriate dtype before calling isin instead.\n",
            "  df = df[df.index.isin(dates_dt)]\n",
            " 44%|████▍     | 183/416 [02:22<03:02,  1.28it/s]"
          ]
        },
        {
          "name": "stdout",
          "output_type": "stream",
          "text": [
            "Generating graph 183/416...\n"
          ]
        },
        {
          "name": "stderr",
          "output_type": "stream",
          "text": [
            "/Users/mirco/Documents/Tesi/code/models/DGDNN/Data/geometric_dataset_gen.py:133: FutureWarning: The behavior of 'isin' with dtype=datetime64[ns] and castable values (e.g. strings) is deprecated. In a future version, these will not be considered matching by isin. Explicitly cast to the appropriate dtype before calling isin instead.\n",
            "  df = df[df.index.isin(dates_dt)]\n",
            "/Users/mirco/Documents/Tesi/code/models/DGDNN/Data/geometric_dataset_gen.py:133: FutureWarning: The behavior of 'isin' with dtype=datetime64[ns] and castable values (e.g. strings) is deprecated. In a future version, these will not be considered matching by isin. Explicitly cast to the appropriate dtype before calling isin instead.\n",
            "  df = df[df.index.isin(dates_dt)]\n",
            "/Users/mirco/Documents/Tesi/code/models/DGDNN/Data/geometric_dataset_gen.py:133: FutureWarning: The behavior of 'isin' with dtype=datetime64[ns] and castable values (e.g. strings) is deprecated. In a future version, these will not be considered matching by isin. Explicitly cast to the appropriate dtype before calling isin instead.\n",
            "  df = df[df.index.isin(dates_dt)]\n",
            "/Users/mirco/Documents/Tesi/code/models/DGDNN/Data/geometric_dataset_gen.py:133: FutureWarning: The behavior of 'isin' with dtype=datetime64[ns] and castable values (e.g. strings) is deprecated. In a future version, these will not be considered matching by isin. Explicitly cast to the appropriate dtype before calling isin instead.\n",
            "  df = df[df.index.isin(dates_dt)]\n",
            " 44%|████▍     | 184/416 [02:23<03:10,  1.22it/s]"
          ]
        },
        {
          "name": "stdout",
          "output_type": "stream",
          "text": [
            "Generating graph 184/416...\n"
          ]
        },
        {
          "name": "stderr",
          "output_type": "stream",
          "text": [
            "/Users/mirco/Documents/Tesi/code/models/DGDNN/Data/geometric_dataset_gen.py:133: FutureWarning: The behavior of 'isin' with dtype=datetime64[ns] and castable values (e.g. strings) is deprecated. In a future version, these will not be considered matching by isin. Explicitly cast to the appropriate dtype before calling isin instead.\n",
            "  df = df[df.index.isin(dates_dt)]\n",
            "/Users/mirco/Documents/Tesi/code/models/DGDNN/Data/geometric_dataset_gen.py:133: FutureWarning: The behavior of 'isin' with dtype=datetime64[ns] and castable values (e.g. strings) is deprecated. In a future version, these will not be considered matching by isin. Explicitly cast to the appropriate dtype before calling isin instead.\n",
            "  df = df[df.index.isin(dates_dt)]\n",
            "/Users/mirco/Documents/Tesi/code/models/DGDNN/Data/geometric_dataset_gen.py:133: FutureWarning: The behavior of 'isin' with dtype=datetime64[ns] and castable values (e.g. strings) is deprecated. In a future version, these will not be considered matching by isin. Explicitly cast to the appropriate dtype before calling isin instead.\n",
            "  df = df[df.index.isin(dates_dt)]\n",
            "/Users/mirco/Documents/Tesi/code/models/DGDNN/Data/geometric_dataset_gen.py:133: FutureWarning: The behavior of 'isin' with dtype=datetime64[ns] and castable values (e.g. strings) is deprecated. In a future version, these will not be considered matching by isin. Explicitly cast to the appropriate dtype before calling isin instead.\n",
            "  df = df[df.index.isin(dates_dt)]\n",
            " 44%|████▍     | 185/416 [02:24<03:10,  1.21it/s]"
          ]
        },
        {
          "name": "stdout",
          "output_type": "stream",
          "text": [
            "Generating graph 185/416...\n"
          ]
        },
        {
          "name": "stderr",
          "output_type": "stream",
          "text": [
            "/Users/mirco/Documents/Tesi/code/models/DGDNN/Data/geometric_dataset_gen.py:133: FutureWarning: The behavior of 'isin' with dtype=datetime64[ns] and castable values (e.g. strings) is deprecated. In a future version, these will not be considered matching by isin. Explicitly cast to the appropriate dtype before calling isin instead.\n",
            "  df = df[df.index.isin(dates_dt)]\n",
            "/Users/mirco/Documents/Tesi/code/models/DGDNN/Data/geometric_dataset_gen.py:133: FutureWarning: The behavior of 'isin' with dtype=datetime64[ns] and castable values (e.g. strings) is deprecated. In a future version, these will not be considered matching by isin. Explicitly cast to the appropriate dtype before calling isin instead.\n",
            "  df = df[df.index.isin(dates_dt)]\n",
            "/Users/mirco/Documents/Tesi/code/models/DGDNN/Data/geometric_dataset_gen.py:133: FutureWarning: The behavior of 'isin' with dtype=datetime64[ns] and castable values (e.g. strings) is deprecated. In a future version, these will not be considered matching by isin. Explicitly cast to the appropriate dtype before calling isin instead.\n",
            "  df = df[df.index.isin(dates_dt)]\n",
            "/Users/mirco/Documents/Tesi/code/models/DGDNN/Data/geometric_dataset_gen.py:133: FutureWarning: The behavior of 'isin' with dtype=datetime64[ns] and castable values (e.g. strings) is deprecated. In a future version, these will not be considered matching by isin. Explicitly cast to the appropriate dtype before calling isin instead.\n",
            "  df = df[df.index.isin(dates_dt)]\n",
            " 45%|████▍     | 186/416 [02:25<03:05,  1.24it/s]"
          ]
        },
        {
          "name": "stdout",
          "output_type": "stream",
          "text": [
            "Generating graph 186/416...\n"
          ]
        },
        {
          "name": "stderr",
          "output_type": "stream",
          "text": [
            "/Users/mirco/Documents/Tesi/code/models/DGDNN/Data/geometric_dataset_gen.py:133: FutureWarning: The behavior of 'isin' with dtype=datetime64[ns] and castable values (e.g. strings) is deprecated. In a future version, these will not be considered matching by isin. Explicitly cast to the appropriate dtype before calling isin instead.\n",
            "  df = df[df.index.isin(dates_dt)]\n",
            "/Users/mirco/Documents/Tesi/code/models/DGDNN/Data/geometric_dataset_gen.py:133: FutureWarning: The behavior of 'isin' with dtype=datetime64[ns] and castable values (e.g. strings) is deprecated. In a future version, these will not be considered matching by isin. Explicitly cast to the appropriate dtype before calling isin instead.\n",
            "  df = df[df.index.isin(dates_dt)]\n",
            "/Users/mirco/Documents/Tesi/code/models/DGDNN/Data/geometric_dataset_gen.py:133: FutureWarning: The behavior of 'isin' with dtype=datetime64[ns] and castable values (e.g. strings) is deprecated. In a future version, these will not be considered matching by isin. Explicitly cast to the appropriate dtype before calling isin instead.\n",
            "  df = df[df.index.isin(dates_dt)]\n",
            "/Users/mirco/Documents/Tesi/code/models/DGDNN/Data/geometric_dataset_gen.py:133: FutureWarning: The behavior of 'isin' with dtype=datetime64[ns] and castable values (e.g. strings) is deprecated. In a future version, these will not be considered matching by isin. Explicitly cast to the appropriate dtype before calling isin instead.\n",
            "  df = df[df.index.isin(dates_dt)]\n",
            " 45%|████▍     | 187/416 [02:26<03:11,  1.20it/s]"
          ]
        },
        {
          "name": "stdout",
          "output_type": "stream",
          "text": [
            "Generating graph 187/416...\n"
          ]
        },
        {
          "name": "stderr",
          "output_type": "stream",
          "text": [
            "/Users/mirco/Documents/Tesi/code/models/DGDNN/Data/geometric_dataset_gen.py:133: FutureWarning: The behavior of 'isin' with dtype=datetime64[ns] and castable values (e.g. strings) is deprecated. In a future version, these will not be considered matching by isin. Explicitly cast to the appropriate dtype before calling isin instead.\n",
            "  df = df[df.index.isin(dates_dt)]\n",
            "/Users/mirco/Documents/Tesi/code/models/DGDNN/Data/geometric_dataset_gen.py:133: FutureWarning: The behavior of 'isin' with dtype=datetime64[ns] and castable values (e.g. strings) is deprecated. In a future version, these will not be considered matching by isin. Explicitly cast to the appropriate dtype before calling isin instead.\n",
            "  df = df[df.index.isin(dates_dt)]\n",
            "/Users/mirco/Documents/Tesi/code/models/DGDNN/Data/geometric_dataset_gen.py:133: FutureWarning: The behavior of 'isin' with dtype=datetime64[ns] and castable values (e.g. strings) is deprecated. In a future version, these will not be considered matching by isin. Explicitly cast to the appropriate dtype before calling isin instead.\n",
            "  df = df[df.index.isin(dates_dt)]\n",
            "/Users/mirco/Documents/Tesi/code/models/DGDNN/Data/geometric_dataset_gen.py:133: FutureWarning: The behavior of 'isin' with dtype=datetime64[ns] and castable values (e.g. strings) is deprecated. In a future version, these will not be considered matching by isin. Explicitly cast to the appropriate dtype before calling isin instead.\n",
            "  df = df[df.index.isin(dates_dt)]\n",
            " 45%|████▌     | 188/416 [02:26<03:11,  1.19it/s]"
          ]
        },
        {
          "name": "stdout",
          "output_type": "stream",
          "text": [
            "Generating graph 188/416...\n"
          ]
        },
        {
          "name": "stderr",
          "output_type": "stream",
          "text": [
            "/Users/mirco/Documents/Tesi/code/models/DGDNN/Data/geometric_dataset_gen.py:133: FutureWarning: The behavior of 'isin' with dtype=datetime64[ns] and castable values (e.g. strings) is deprecated. In a future version, these will not be considered matching by isin. Explicitly cast to the appropriate dtype before calling isin instead.\n",
            "  df = df[df.index.isin(dates_dt)]\n",
            "/Users/mirco/Documents/Tesi/code/models/DGDNN/Data/geometric_dataset_gen.py:133: FutureWarning: The behavior of 'isin' with dtype=datetime64[ns] and castable values (e.g. strings) is deprecated. In a future version, these will not be considered matching by isin. Explicitly cast to the appropriate dtype before calling isin instead.\n",
            "  df = df[df.index.isin(dates_dt)]\n",
            "/Users/mirco/Documents/Tesi/code/models/DGDNN/Data/geometric_dataset_gen.py:133: FutureWarning: The behavior of 'isin' with dtype=datetime64[ns] and castable values (e.g. strings) is deprecated. In a future version, these will not be considered matching by isin. Explicitly cast to the appropriate dtype before calling isin instead.\n",
            "  df = df[df.index.isin(dates_dt)]\n",
            "/Users/mirco/Documents/Tesi/code/models/DGDNN/Data/geometric_dataset_gen.py:133: FutureWarning: The behavior of 'isin' with dtype=datetime64[ns] and castable values (e.g. strings) is deprecated. In a future version, these will not be considered matching by isin. Explicitly cast to the appropriate dtype before calling isin instead.\n",
            "  df = df[df.index.isin(dates_dt)]\n",
            " 45%|████▌     | 189/416 [02:27<03:03,  1.24it/s]"
          ]
        },
        {
          "name": "stdout",
          "output_type": "stream",
          "text": [
            "Generating graph 189/416...\n"
          ]
        },
        {
          "name": "stderr",
          "output_type": "stream",
          "text": [
            "/Users/mirco/Documents/Tesi/code/models/DGDNN/Data/geometric_dataset_gen.py:133: FutureWarning: The behavior of 'isin' with dtype=datetime64[ns] and castable values (e.g. strings) is deprecated. In a future version, these will not be considered matching by isin. Explicitly cast to the appropriate dtype before calling isin instead.\n",
            "  df = df[df.index.isin(dates_dt)]\n",
            "/Users/mirco/Documents/Tesi/code/models/DGDNN/Data/geometric_dataset_gen.py:133: FutureWarning: The behavior of 'isin' with dtype=datetime64[ns] and castable values (e.g. strings) is deprecated. In a future version, these will not be considered matching by isin. Explicitly cast to the appropriate dtype before calling isin instead.\n",
            "  df = df[df.index.isin(dates_dt)]\n",
            "/Users/mirco/Documents/Tesi/code/models/DGDNN/Data/geometric_dataset_gen.py:133: FutureWarning: The behavior of 'isin' with dtype=datetime64[ns] and castable values (e.g. strings) is deprecated. In a future version, these will not be considered matching by isin. Explicitly cast to the appropriate dtype before calling isin instead.\n",
            "  df = df[df.index.isin(dates_dt)]\n",
            "/Users/mirco/Documents/Tesi/code/models/DGDNN/Data/geometric_dataset_gen.py:133: FutureWarning: The behavior of 'isin' with dtype=datetime64[ns] and castable values (e.g. strings) is deprecated. In a future version, these will not be considered matching by isin. Explicitly cast to the appropriate dtype before calling isin instead.\n",
            "  df = df[df.index.isin(dates_dt)]\n",
            " 46%|████▌     | 190/416 [02:28<02:56,  1.28it/s]"
          ]
        },
        {
          "name": "stdout",
          "output_type": "stream",
          "text": [
            "Generating graph 190/416...\n"
          ]
        },
        {
          "name": "stderr",
          "output_type": "stream",
          "text": [
            "/Users/mirco/Documents/Tesi/code/models/DGDNN/Data/geometric_dataset_gen.py:133: FutureWarning: The behavior of 'isin' with dtype=datetime64[ns] and castable values (e.g. strings) is deprecated. In a future version, these will not be considered matching by isin. Explicitly cast to the appropriate dtype before calling isin instead.\n",
            "  df = df[df.index.isin(dates_dt)]\n",
            "/Users/mirco/Documents/Tesi/code/models/DGDNN/Data/geometric_dataset_gen.py:133: FutureWarning: The behavior of 'isin' with dtype=datetime64[ns] and castable values (e.g. strings) is deprecated. In a future version, these will not be considered matching by isin. Explicitly cast to the appropriate dtype before calling isin instead.\n",
            "  df = df[df.index.isin(dates_dt)]\n",
            "/Users/mirco/Documents/Tesi/code/models/DGDNN/Data/geometric_dataset_gen.py:133: FutureWarning: The behavior of 'isin' with dtype=datetime64[ns] and castable values (e.g. strings) is deprecated. In a future version, these will not be considered matching by isin. Explicitly cast to the appropriate dtype before calling isin instead.\n",
            "  df = df[df.index.isin(dates_dt)]\n",
            "/Users/mirco/Documents/Tesi/code/models/DGDNN/Data/geometric_dataset_gen.py:133: FutureWarning: The behavior of 'isin' with dtype=datetime64[ns] and castable values (e.g. strings) is deprecated. In a future version, these will not be considered matching by isin. Explicitly cast to the appropriate dtype before calling isin instead.\n",
            "  df = df[df.index.isin(dates_dt)]\n",
            " 46%|████▌     | 191/416 [02:29<02:57,  1.27it/s]"
          ]
        },
        {
          "name": "stdout",
          "output_type": "stream",
          "text": [
            "Generating graph 191/416...\n"
          ]
        },
        {
          "name": "stderr",
          "output_type": "stream",
          "text": [
            "/Users/mirco/Documents/Tesi/code/models/DGDNN/Data/geometric_dataset_gen.py:133: FutureWarning: The behavior of 'isin' with dtype=datetime64[ns] and castable values (e.g. strings) is deprecated. In a future version, these will not be considered matching by isin. Explicitly cast to the appropriate dtype before calling isin instead.\n",
            "  df = df[df.index.isin(dates_dt)]\n",
            "/Users/mirco/Documents/Tesi/code/models/DGDNN/Data/geometric_dataset_gen.py:133: FutureWarning: The behavior of 'isin' with dtype=datetime64[ns] and castable values (e.g. strings) is deprecated. In a future version, these will not be considered matching by isin. Explicitly cast to the appropriate dtype before calling isin instead.\n",
            "  df = df[df.index.isin(dates_dt)]\n",
            "/Users/mirco/Documents/Tesi/code/models/DGDNN/Data/geometric_dataset_gen.py:133: FutureWarning: The behavior of 'isin' with dtype=datetime64[ns] and castable values (e.g. strings) is deprecated. In a future version, these will not be considered matching by isin. Explicitly cast to the appropriate dtype before calling isin instead.\n",
            "  df = df[df.index.isin(dates_dt)]\n",
            "/Users/mirco/Documents/Tesi/code/models/DGDNN/Data/geometric_dataset_gen.py:133: FutureWarning: The behavior of 'isin' with dtype=datetime64[ns] and castable values (e.g. strings) is deprecated. In a future version, these will not be considered matching by isin. Explicitly cast to the appropriate dtype before calling isin instead.\n",
            "  df = df[df.index.isin(dates_dt)]\n",
            " 46%|████▌     | 192/416 [02:29<02:50,  1.31it/s]"
          ]
        },
        {
          "name": "stdout",
          "output_type": "stream",
          "text": [
            "Generating graph 192/416...\n"
          ]
        },
        {
          "name": "stderr",
          "output_type": "stream",
          "text": [
            "/Users/mirco/Documents/Tesi/code/models/DGDNN/Data/geometric_dataset_gen.py:133: FutureWarning: The behavior of 'isin' with dtype=datetime64[ns] and castable values (e.g. strings) is deprecated. In a future version, these will not be considered matching by isin. Explicitly cast to the appropriate dtype before calling isin instead.\n",
            "  df = df[df.index.isin(dates_dt)]\n",
            "/Users/mirco/Documents/Tesi/code/models/DGDNN/Data/geometric_dataset_gen.py:133: FutureWarning: The behavior of 'isin' with dtype=datetime64[ns] and castable values (e.g. strings) is deprecated. In a future version, these will not be considered matching by isin. Explicitly cast to the appropriate dtype before calling isin instead.\n",
            "  df = df[df.index.isin(dates_dt)]\n",
            "/Users/mirco/Documents/Tesi/code/models/DGDNN/Data/geometric_dataset_gen.py:133: FutureWarning: The behavior of 'isin' with dtype=datetime64[ns] and castable values (e.g. strings) is deprecated. In a future version, these will not be considered matching by isin. Explicitly cast to the appropriate dtype before calling isin instead.\n",
            "  df = df[df.index.isin(dates_dt)]\n",
            "/Users/mirco/Documents/Tesi/code/models/DGDNN/Data/geometric_dataset_gen.py:133: FutureWarning: The behavior of 'isin' with dtype=datetime64[ns] and castable values (e.g. strings) is deprecated. In a future version, these will not be considered matching by isin. Explicitly cast to the appropriate dtype before calling isin instead.\n",
            "  df = df[df.index.isin(dates_dt)]\n",
            " 46%|████▋     | 193/416 [02:30<02:45,  1.35it/s]"
          ]
        },
        {
          "name": "stdout",
          "output_type": "stream",
          "text": [
            "Generating graph 193/416...\n"
          ]
        },
        {
          "name": "stderr",
          "output_type": "stream",
          "text": [
            "/Users/mirco/Documents/Tesi/code/models/DGDNN/Data/geometric_dataset_gen.py:133: FutureWarning: The behavior of 'isin' with dtype=datetime64[ns] and castable values (e.g. strings) is deprecated. In a future version, these will not be considered matching by isin. Explicitly cast to the appropriate dtype before calling isin instead.\n",
            "  df = df[df.index.isin(dates_dt)]\n",
            "/Users/mirco/Documents/Tesi/code/models/DGDNN/Data/geometric_dataset_gen.py:133: FutureWarning: The behavior of 'isin' with dtype=datetime64[ns] and castable values (e.g. strings) is deprecated. In a future version, these will not be considered matching by isin. Explicitly cast to the appropriate dtype before calling isin instead.\n",
            "  df = df[df.index.isin(dates_dt)]\n",
            "/Users/mirco/Documents/Tesi/code/models/DGDNN/Data/geometric_dataset_gen.py:133: FutureWarning: The behavior of 'isin' with dtype=datetime64[ns] and castable values (e.g. strings) is deprecated. In a future version, these will not be considered matching by isin. Explicitly cast to the appropriate dtype before calling isin instead.\n",
            "  df = df[df.index.isin(dates_dt)]\n",
            "/Users/mirco/Documents/Tesi/code/models/DGDNN/Data/geometric_dataset_gen.py:133: FutureWarning: The behavior of 'isin' with dtype=datetime64[ns] and castable values (e.g. strings) is deprecated. In a future version, these will not be considered matching by isin. Explicitly cast to the appropriate dtype before calling isin instead.\n",
            "  df = df[df.index.isin(dates_dt)]\n",
            " 47%|████▋     | 194/416 [02:31<02:42,  1.37it/s]"
          ]
        },
        {
          "name": "stdout",
          "output_type": "stream",
          "text": [
            "Generating graph 194/416...\n"
          ]
        },
        {
          "name": "stderr",
          "output_type": "stream",
          "text": [
            "/Users/mirco/Documents/Tesi/code/models/DGDNN/Data/geometric_dataset_gen.py:133: FutureWarning: The behavior of 'isin' with dtype=datetime64[ns] and castable values (e.g. strings) is deprecated. In a future version, these will not be considered matching by isin. Explicitly cast to the appropriate dtype before calling isin instead.\n",
            "  df = df[df.index.isin(dates_dt)]\n",
            "/Users/mirco/Documents/Tesi/code/models/DGDNN/Data/geometric_dataset_gen.py:133: FutureWarning: The behavior of 'isin' with dtype=datetime64[ns] and castable values (e.g. strings) is deprecated. In a future version, these will not be considered matching by isin. Explicitly cast to the appropriate dtype before calling isin instead.\n",
            "  df = df[df.index.isin(dates_dt)]\n",
            "/Users/mirco/Documents/Tesi/code/models/DGDNN/Data/geometric_dataset_gen.py:133: FutureWarning: The behavior of 'isin' with dtype=datetime64[ns] and castable values (e.g. strings) is deprecated. In a future version, these will not be considered matching by isin. Explicitly cast to the appropriate dtype before calling isin instead.\n",
            "  df = df[df.index.isin(dates_dt)]\n",
            "/Users/mirco/Documents/Tesi/code/models/DGDNN/Data/geometric_dataset_gen.py:133: FutureWarning: The behavior of 'isin' with dtype=datetime64[ns] and castable values (e.g. strings) is deprecated. In a future version, these will not be considered matching by isin. Explicitly cast to the appropriate dtype before calling isin instead.\n",
            "  df = df[df.index.isin(dates_dt)]\n",
            " 47%|████▋     | 195/416 [02:32<02:50,  1.30it/s]"
          ]
        },
        {
          "name": "stdout",
          "output_type": "stream",
          "text": [
            "Generating graph 195/416...\n"
          ]
        },
        {
          "name": "stderr",
          "output_type": "stream",
          "text": [
            "/Users/mirco/Documents/Tesi/code/models/DGDNN/Data/geometric_dataset_gen.py:133: FutureWarning: The behavior of 'isin' with dtype=datetime64[ns] and castable values (e.g. strings) is deprecated. In a future version, these will not be considered matching by isin. Explicitly cast to the appropriate dtype before calling isin instead.\n",
            "  df = df[df.index.isin(dates_dt)]\n",
            "/Users/mirco/Documents/Tesi/code/models/DGDNN/Data/geometric_dataset_gen.py:133: FutureWarning: The behavior of 'isin' with dtype=datetime64[ns] and castable values (e.g. strings) is deprecated. In a future version, these will not be considered matching by isin. Explicitly cast to the appropriate dtype before calling isin instead.\n",
            "  df = df[df.index.isin(dates_dt)]\n",
            "/Users/mirco/Documents/Tesi/code/models/DGDNN/Data/geometric_dataset_gen.py:133: FutureWarning: The behavior of 'isin' with dtype=datetime64[ns] and castable values (e.g. strings) is deprecated. In a future version, these will not be considered matching by isin. Explicitly cast to the appropriate dtype before calling isin instead.\n",
            "  df = df[df.index.isin(dates_dt)]\n",
            "/Users/mirco/Documents/Tesi/code/models/DGDNN/Data/geometric_dataset_gen.py:133: FutureWarning: The behavior of 'isin' with dtype=datetime64[ns] and castable values (e.g. strings) is deprecated. In a future version, these will not be considered matching by isin. Explicitly cast to the appropriate dtype before calling isin instead.\n",
            "  df = df[df.index.isin(dates_dt)]\n",
            " 47%|████▋     | 196/416 [02:32<02:47,  1.31it/s]"
          ]
        },
        {
          "name": "stdout",
          "output_type": "stream",
          "text": [
            "Generating graph 196/416...\n"
          ]
        },
        {
          "name": "stderr",
          "output_type": "stream",
          "text": [
            "/Users/mirco/Documents/Tesi/code/models/DGDNN/Data/geometric_dataset_gen.py:133: FutureWarning: The behavior of 'isin' with dtype=datetime64[ns] and castable values (e.g. strings) is deprecated. In a future version, these will not be considered matching by isin. Explicitly cast to the appropriate dtype before calling isin instead.\n",
            "  df = df[df.index.isin(dates_dt)]\n",
            "/Users/mirco/Documents/Tesi/code/models/DGDNN/Data/geometric_dataset_gen.py:133: FutureWarning: The behavior of 'isin' with dtype=datetime64[ns] and castable values (e.g. strings) is deprecated. In a future version, these will not be considered matching by isin. Explicitly cast to the appropriate dtype before calling isin instead.\n",
            "  df = df[df.index.isin(dates_dt)]\n",
            "/Users/mirco/Documents/Tesi/code/models/DGDNN/Data/geometric_dataset_gen.py:133: FutureWarning: The behavior of 'isin' with dtype=datetime64[ns] and castable values (e.g. strings) is deprecated. In a future version, these will not be considered matching by isin. Explicitly cast to the appropriate dtype before calling isin instead.\n",
            "  df = df[df.index.isin(dates_dt)]\n",
            "/Users/mirco/Documents/Tesi/code/models/DGDNN/Data/geometric_dataset_gen.py:133: FutureWarning: The behavior of 'isin' with dtype=datetime64[ns] and castable values (e.g. strings) is deprecated. In a future version, these will not be considered matching by isin. Explicitly cast to the appropriate dtype before calling isin instead.\n",
            "  df = df[df.index.isin(dates_dt)]\n",
            " 47%|████▋     | 197/416 [02:33<02:45,  1.32it/s]"
          ]
        },
        {
          "name": "stdout",
          "output_type": "stream",
          "text": [
            "Generating graph 197/416...\n"
          ]
        },
        {
          "name": "stderr",
          "output_type": "stream",
          "text": [
            "/Users/mirco/Documents/Tesi/code/models/DGDNN/Data/geometric_dataset_gen.py:133: FutureWarning: The behavior of 'isin' with dtype=datetime64[ns] and castable values (e.g. strings) is deprecated. In a future version, these will not be considered matching by isin. Explicitly cast to the appropriate dtype before calling isin instead.\n",
            "  df = df[df.index.isin(dates_dt)]\n",
            "/Users/mirco/Documents/Tesi/code/models/DGDNN/Data/geometric_dataset_gen.py:133: FutureWarning: The behavior of 'isin' with dtype=datetime64[ns] and castable values (e.g. strings) is deprecated. In a future version, these will not be considered matching by isin. Explicitly cast to the appropriate dtype before calling isin instead.\n",
            "  df = df[df.index.isin(dates_dt)]\n",
            "/Users/mirco/Documents/Tesi/code/models/DGDNN/Data/geometric_dataset_gen.py:133: FutureWarning: The behavior of 'isin' with dtype=datetime64[ns] and castable values (e.g. strings) is deprecated. In a future version, these will not be considered matching by isin. Explicitly cast to the appropriate dtype before calling isin instead.\n",
            "  df = df[df.index.isin(dates_dt)]\n",
            "/Users/mirco/Documents/Tesi/code/models/DGDNN/Data/geometric_dataset_gen.py:133: FutureWarning: The behavior of 'isin' with dtype=datetime64[ns] and castable values (e.g. strings) is deprecated. In a future version, these will not be considered matching by isin. Explicitly cast to the appropriate dtype before calling isin instead.\n",
            "  df = df[df.index.isin(dates_dt)]\n",
            " 48%|████▊     | 198/416 [02:34<02:48,  1.29it/s]"
          ]
        },
        {
          "name": "stdout",
          "output_type": "stream",
          "text": [
            "Generating graph 198/416...\n"
          ]
        },
        {
          "name": "stderr",
          "output_type": "stream",
          "text": [
            "/Users/mirco/Documents/Tesi/code/models/DGDNN/Data/geometric_dataset_gen.py:133: FutureWarning: The behavior of 'isin' with dtype=datetime64[ns] and castable values (e.g. strings) is deprecated. In a future version, these will not be considered matching by isin. Explicitly cast to the appropriate dtype before calling isin instead.\n",
            "  df = df[df.index.isin(dates_dt)]\n",
            "/Users/mirco/Documents/Tesi/code/models/DGDNN/Data/geometric_dataset_gen.py:133: FutureWarning: The behavior of 'isin' with dtype=datetime64[ns] and castable values (e.g. strings) is deprecated. In a future version, these will not be considered matching by isin. Explicitly cast to the appropriate dtype before calling isin instead.\n",
            "  df = df[df.index.isin(dates_dt)]\n",
            "/Users/mirco/Documents/Tesi/code/models/DGDNN/Data/geometric_dataset_gen.py:133: FutureWarning: The behavior of 'isin' with dtype=datetime64[ns] and castable values (e.g. strings) is deprecated. In a future version, these will not be considered matching by isin. Explicitly cast to the appropriate dtype before calling isin instead.\n",
            "  df = df[df.index.isin(dates_dt)]\n",
            "/Users/mirco/Documents/Tesi/code/models/DGDNN/Data/geometric_dataset_gen.py:133: FutureWarning: The behavior of 'isin' with dtype=datetime64[ns] and castable values (e.g. strings) is deprecated. In a future version, these will not be considered matching by isin. Explicitly cast to the appropriate dtype before calling isin instead.\n",
            "  df = df[df.index.isin(dates_dt)]\n",
            " 48%|████▊     | 199/416 [02:35<02:43,  1.33it/s]"
          ]
        },
        {
          "name": "stdout",
          "output_type": "stream",
          "text": [
            "Generating graph 199/416...\n"
          ]
        },
        {
          "name": "stderr",
          "output_type": "stream",
          "text": [
            "/Users/mirco/Documents/Tesi/code/models/DGDNN/Data/geometric_dataset_gen.py:133: FutureWarning: The behavior of 'isin' with dtype=datetime64[ns] and castable values (e.g. strings) is deprecated. In a future version, these will not be considered matching by isin. Explicitly cast to the appropriate dtype before calling isin instead.\n",
            "  df = df[df.index.isin(dates_dt)]\n",
            "/Users/mirco/Documents/Tesi/code/models/DGDNN/Data/geometric_dataset_gen.py:133: FutureWarning: The behavior of 'isin' with dtype=datetime64[ns] and castable values (e.g. strings) is deprecated. In a future version, these will not be considered matching by isin. Explicitly cast to the appropriate dtype before calling isin instead.\n",
            "  df = df[df.index.isin(dates_dt)]\n",
            "/Users/mirco/Documents/Tesi/code/models/DGDNN/Data/geometric_dataset_gen.py:133: FutureWarning: The behavior of 'isin' with dtype=datetime64[ns] and castable values (e.g. strings) is deprecated. In a future version, these will not be considered matching by isin. Explicitly cast to the appropriate dtype before calling isin instead.\n",
            "  df = df[df.index.isin(dates_dt)]\n",
            "/Users/mirco/Documents/Tesi/code/models/DGDNN/Data/geometric_dataset_gen.py:133: FutureWarning: The behavior of 'isin' with dtype=datetime64[ns] and castable values (e.g. strings) is deprecated. In a future version, these will not be considered matching by isin. Explicitly cast to the appropriate dtype before calling isin instead.\n",
            "  df = df[df.index.isin(dates_dt)]\n",
            " 48%|████▊     | 200/416 [02:35<02:40,  1.34it/s]"
          ]
        },
        {
          "name": "stdout",
          "output_type": "stream",
          "text": [
            "Generating graph 200/416...\n"
          ]
        },
        {
          "name": "stderr",
          "output_type": "stream",
          "text": [
            "/Users/mirco/Documents/Tesi/code/models/DGDNN/Data/geometric_dataset_gen.py:133: FutureWarning: The behavior of 'isin' with dtype=datetime64[ns] and castable values (e.g. strings) is deprecated. In a future version, these will not be considered matching by isin. Explicitly cast to the appropriate dtype before calling isin instead.\n",
            "  df = df[df.index.isin(dates_dt)]\n",
            "/Users/mirco/Documents/Tesi/code/models/DGDNN/Data/geometric_dataset_gen.py:133: FutureWarning: The behavior of 'isin' with dtype=datetime64[ns] and castable values (e.g. strings) is deprecated. In a future version, these will not be considered matching by isin. Explicitly cast to the appropriate dtype before calling isin instead.\n",
            "  df = df[df.index.isin(dates_dt)]\n",
            "/Users/mirco/Documents/Tesi/code/models/DGDNN/Data/geometric_dataset_gen.py:133: FutureWarning: The behavior of 'isin' with dtype=datetime64[ns] and castable values (e.g. strings) is deprecated. In a future version, these will not be considered matching by isin. Explicitly cast to the appropriate dtype before calling isin instead.\n",
            "  df = df[df.index.isin(dates_dt)]\n",
            "/Users/mirco/Documents/Tesi/code/models/DGDNN/Data/geometric_dataset_gen.py:133: FutureWarning: The behavior of 'isin' with dtype=datetime64[ns] and castable values (e.g. strings) is deprecated. In a future version, these will not be considered matching by isin. Explicitly cast to the appropriate dtype before calling isin instead.\n",
            "  df = df[df.index.isin(dates_dt)]\n",
            " 48%|████▊     | 201/416 [02:36<02:37,  1.37it/s]"
          ]
        },
        {
          "name": "stdout",
          "output_type": "stream",
          "text": [
            "Generating graph 201/416...\n"
          ]
        },
        {
          "name": "stderr",
          "output_type": "stream",
          "text": [
            "/Users/mirco/Documents/Tesi/code/models/DGDNN/Data/geometric_dataset_gen.py:133: FutureWarning: The behavior of 'isin' with dtype=datetime64[ns] and castable values (e.g. strings) is deprecated. In a future version, these will not be considered matching by isin. Explicitly cast to the appropriate dtype before calling isin instead.\n",
            "  df = df[df.index.isin(dates_dt)]\n",
            "/Users/mirco/Documents/Tesi/code/models/DGDNN/Data/geometric_dataset_gen.py:133: FutureWarning: The behavior of 'isin' with dtype=datetime64[ns] and castable values (e.g. strings) is deprecated. In a future version, these will not be considered matching by isin. Explicitly cast to the appropriate dtype before calling isin instead.\n",
            "  df = df[df.index.isin(dates_dt)]\n",
            "/Users/mirco/Documents/Tesi/code/models/DGDNN/Data/geometric_dataset_gen.py:133: FutureWarning: The behavior of 'isin' with dtype=datetime64[ns] and castable values (e.g. strings) is deprecated. In a future version, these will not be considered matching by isin. Explicitly cast to the appropriate dtype before calling isin instead.\n",
            "  df = df[df.index.isin(dates_dt)]\n",
            "/Users/mirco/Documents/Tesi/code/models/DGDNN/Data/geometric_dataset_gen.py:133: FutureWarning: The behavior of 'isin' with dtype=datetime64[ns] and castable values (e.g. strings) is deprecated. In a future version, these will not be considered matching by isin. Explicitly cast to the appropriate dtype before calling isin instead.\n",
            "  df = df[df.index.isin(dates_dt)]\n",
            " 49%|████▊     | 202/416 [02:37<02:42,  1.31it/s]"
          ]
        },
        {
          "name": "stdout",
          "output_type": "stream",
          "text": [
            "Generating graph 202/416...\n"
          ]
        },
        {
          "name": "stderr",
          "output_type": "stream",
          "text": [
            "/Users/mirco/Documents/Tesi/code/models/DGDNN/Data/geometric_dataset_gen.py:133: FutureWarning: The behavior of 'isin' with dtype=datetime64[ns] and castable values (e.g. strings) is deprecated. In a future version, these will not be considered matching by isin. Explicitly cast to the appropriate dtype before calling isin instead.\n",
            "  df = df[df.index.isin(dates_dt)]\n",
            "/Users/mirco/Documents/Tesi/code/models/DGDNN/Data/geometric_dataset_gen.py:133: FutureWarning: The behavior of 'isin' with dtype=datetime64[ns] and castable values (e.g. strings) is deprecated. In a future version, these will not be considered matching by isin. Explicitly cast to the appropriate dtype before calling isin instead.\n",
            "  df = df[df.index.isin(dates_dt)]\n",
            "/Users/mirco/Documents/Tesi/code/models/DGDNN/Data/geometric_dataset_gen.py:133: FutureWarning: The behavior of 'isin' with dtype=datetime64[ns] and castable values (e.g. strings) is deprecated. In a future version, these will not be considered matching by isin. Explicitly cast to the appropriate dtype before calling isin instead.\n",
            "  df = df[df.index.isin(dates_dt)]\n",
            "/Users/mirco/Documents/Tesi/code/models/DGDNN/Data/geometric_dataset_gen.py:133: FutureWarning: The behavior of 'isin' with dtype=datetime64[ns] and castable values (e.g. strings) is deprecated. In a future version, these will not be considered matching by isin. Explicitly cast to the appropriate dtype before calling isin instead.\n",
            "  df = df[df.index.isin(dates_dt)]\n",
            " 49%|████▉     | 203/416 [02:38<02:39,  1.33it/s]"
          ]
        },
        {
          "name": "stdout",
          "output_type": "stream",
          "text": [
            "Generating graph 203/416...\n"
          ]
        },
        {
          "name": "stderr",
          "output_type": "stream",
          "text": [
            "/Users/mirco/Documents/Tesi/code/models/DGDNN/Data/geometric_dataset_gen.py:133: FutureWarning: The behavior of 'isin' with dtype=datetime64[ns] and castable values (e.g. strings) is deprecated. In a future version, these will not be considered matching by isin. Explicitly cast to the appropriate dtype before calling isin instead.\n",
            "  df = df[df.index.isin(dates_dt)]\n",
            "/Users/mirco/Documents/Tesi/code/models/DGDNN/Data/geometric_dataset_gen.py:133: FutureWarning: The behavior of 'isin' with dtype=datetime64[ns] and castable values (e.g. strings) is deprecated. In a future version, these will not be considered matching by isin. Explicitly cast to the appropriate dtype before calling isin instead.\n",
            "  df = df[df.index.isin(dates_dt)]\n",
            "/Users/mirco/Documents/Tesi/code/models/DGDNN/Data/geometric_dataset_gen.py:133: FutureWarning: The behavior of 'isin' with dtype=datetime64[ns] and castable values (e.g. strings) is deprecated. In a future version, these will not be considered matching by isin. Explicitly cast to the appropriate dtype before calling isin instead.\n",
            "  df = df[df.index.isin(dates_dt)]\n",
            "/Users/mirco/Documents/Tesi/code/models/DGDNN/Data/geometric_dataset_gen.py:133: FutureWarning: The behavior of 'isin' with dtype=datetime64[ns] and castable values (e.g. strings) is deprecated. In a future version, these will not be considered matching by isin. Explicitly cast to the appropriate dtype before calling isin instead.\n",
            "  df = df[df.index.isin(dates_dt)]\n",
            " 49%|████▉     | 204/416 [02:38<02:44,  1.29it/s]"
          ]
        },
        {
          "name": "stdout",
          "output_type": "stream",
          "text": [
            "Generating graph 204/416...\n"
          ]
        },
        {
          "name": "stderr",
          "output_type": "stream",
          "text": [
            "/Users/mirco/Documents/Tesi/code/models/DGDNN/Data/geometric_dataset_gen.py:133: FutureWarning: The behavior of 'isin' with dtype=datetime64[ns] and castable values (e.g. strings) is deprecated. In a future version, these will not be considered matching by isin. Explicitly cast to the appropriate dtype before calling isin instead.\n",
            "  df = df[df.index.isin(dates_dt)]\n",
            "/Users/mirco/Documents/Tesi/code/models/DGDNN/Data/geometric_dataset_gen.py:133: FutureWarning: The behavior of 'isin' with dtype=datetime64[ns] and castable values (e.g. strings) is deprecated. In a future version, these will not be considered matching by isin. Explicitly cast to the appropriate dtype before calling isin instead.\n",
            "  df = df[df.index.isin(dates_dt)]\n",
            "/Users/mirco/Documents/Tesi/code/models/DGDNN/Data/geometric_dataset_gen.py:133: FutureWarning: The behavior of 'isin' with dtype=datetime64[ns] and castable values (e.g. strings) is deprecated. In a future version, these will not be considered matching by isin. Explicitly cast to the appropriate dtype before calling isin instead.\n",
            "  df = df[df.index.isin(dates_dt)]\n",
            "/Users/mirco/Documents/Tesi/code/models/DGDNN/Data/geometric_dataset_gen.py:133: FutureWarning: The behavior of 'isin' with dtype=datetime64[ns] and castable values (e.g. strings) is deprecated. In a future version, these will not be considered matching by isin. Explicitly cast to the appropriate dtype before calling isin instead.\n",
            "  df = df[df.index.isin(dates_dt)]\n",
            " 49%|████▉     | 205/416 [02:39<02:41,  1.31it/s]"
          ]
        },
        {
          "name": "stdout",
          "output_type": "stream",
          "text": [
            "Generating graph 205/416...\n"
          ]
        },
        {
          "name": "stderr",
          "output_type": "stream",
          "text": [
            "/Users/mirco/Documents/Tesi/code/models/DGDNN/Data/geometric_dataset_gen.py:133: FutureWarning: The behavior of 'isin' with dtype=datetime64[ns] and castable values (e.g. strings) is deprecated. In a future version, these will not be considered matching by isin. Explicitly cast to the appropriate dtype before calling isin instead.\n",
            "  df = df[df.index.isin(dates_dt)]\n",
            "/Users/mirco/Documents/Tesi/code/models/DGDNN/Data/geometric_dataset_gen.py:133: FutureWarning: The behavior of 'isin' with dtype=datetime64[ns] and castable values (e.g. strings) is deprecated. In a future version, these will not be considered matching by isin. Explicitly cast to the appropriate dtype before calling isin instead.\n",
            "  df = df[df.index.isin(dates_dt)]\n",
            "/Users/mirco/Documents/Tesi/code/models/DGDNN/Data/geometric_dataset_gen.py:133: FutureWarning: The behavior of 'isin' with dtype=datetime64[ns] and castable values (e.g. strings) is deprecated. In a future version, these will not be considered matching by isin. Explicitly cast to the appropriate dtype before calling isin instead.\n",
            "  df = df[df.index.isin(dates_dt)]\n",
            "/Users/mirco/Documents/Tesi/code/models/DGDNN/Data/geometric_dataset_gen.py:133: FutureWarning: The behavior of 'isin' with dtype=datetime64[ns] and castable values (e.g. strings) is deprecated. In a future version, these will not be considered matching by isin. Explicitly cast to the appropriate dtype before calling isin instead.\n",
            "  df = df[df.index.isin(dates_dt)]\n",
            " 50%|████▉     | 206/416 [02:40<02:54,  1.21it/s]"
          ]
        },
        {
          "name": "stdout",
          "output_type": "stream",
          "text": [
            "Generating graph 206/416...\n"
          ]
        },
        {
          "name": "stderr",
          "output_type": "stream",
          "text": [
            "/Users/mirco/Documents/Tesi/code/models/DGDNN/Data/geometric_dataset_gen.py:133: FutureWarning: The behavior of 'isin' with dtype=datetime64[ns] and castable values (e.g. strings) is deprecated. In a future version, these will not be considered matching by isin. Explicitly cast to the appropriate dtype before calling isin instead.\n",
            "  df = df[df.index.isin(dates_dt)]\n",
            "/Users/mirco/Documents/Tesi/code/models/DGDNN/Data/geometric_dataset_gen.py:133: FutureWarning: The behavior of 'isin' with dtype=datetime64[ns] and castable values (e.g. strings) is deprecated. In a future version, these will not be considered matching by isin. Explicitly cast to the appropriate dtype before calling isin instead.\n",
            "  df = df[df.index.isin(dates_dt)]\n",
            "/Users/mirco/Documents/Tesi/code/models/DGDNN/Data/geometric_dataset_gen.py:133: FutureWarning: The behavior of 'isin' with dtype=datetime64[ns] and castable values (e.g. strings) is deprecated. In a future version, these will not be considered matching by isin. Explicitly cast to the appropriate dtype before calling isin instead.\n",
            "  df = df[df.index.isin(dates_dt)]\n",
            "/Users/mirco/Documents/Tesi/code/models/DGDNN/Data/geometric_dataset_gen.py:133: FutureWarning: The behavior of 'isin' with dtype=datetime64[ns] and castable values (e.g. strings) is deprecated. In a future version, these will not be considered matching by isin. Explicitly cast to the appropriate dtype before calling isin instead.\n",
            "  df = df[df.index.isin(dates_dt)]\n",
            " 50%|████▉     | 207/416 [02:41<02:49,  1.24it/s]"
          ]
        },
        {
          "name": "stdout",
          "output_type": "stream",
          "text": [
            "Generating graph 207/416...\n"
          ]
        },
        {
          "name": "stderr",
          "output_type": "stream",
          "text": [
            "/Users/mirco/Documents/Tesi/code/models/DGDNN/Data/geometric_dataset_gen.py:133: FutureWarning: The behavior of 'isin' with dtype=datetime64[ns] and castable values (e.g. strings) is deprecated. In a future version, these will not be considered matching by isin. Explicitly cast to the appropriate dtype before calling isin instead.\n",
            "  df = df[df.index.isin(dates_dt)]\n",
            "/Users/mirco/Documents/Tesi/code/models/DGDNN/Data/geometric_dataset_gen.py:133: FutureWarning: The behavior of 'isin' with dtype=datetime64[ns] and castable values (e.g. strings) is deprecated. In a future version, these will not be considered matching by isin. Explicitly cast to the appropriate dtype before calling isin instead.\n",
            "  df = df[df.index.isin(dates_dt)]\n",
            "/Users/mirco/Documents/Tesi/code/models/DGDNN/Data/geometric_dataset_gen.py:133: FutureWarning: The behavior of 'isin' with dtype=datetime64[ns] and castable values (e.g. strings) is deprecated. In a future version, these will not be considered matching by isin. Explicitly cast to the appropriate dtype before calling isin instead.\n",
            "  df = df[df.index.isin(dates_dt)]\n",
            "/Users/mirco/Documents/Tesi/code/models/DGDNN/Data/geometric_dataset_gen.py:133: FutureWarning: The behavior of 'isin' with dtype=datetime64[ns] and castable values (e.g. strings) is deprecated. In a future version, these will not be considered matching by isin. Explicitly cast to the appropriate dtype before calling isin instead.\n",
            "  df = df[df.index.isin(dates_dt)]\n",
            " 50%|█████     | 208/416 [02:42<02:52,  1.20it/s]"
          ]
        },
        {
          "name": "stdout",
          "output_type": "stream",
          "text": [
            "Generating graph 208/416...\n"
          ]
        },
        {
          "name": "stderr",
          "output_type": "stream",
          "text": [
            "/Users/mirco/Documents/Tesi/code/models/DGDNN/Data/geometric_dataset_gen.py:133: FutureWarning: The behavior of 'isin' with dtype=datetime64[ns] and castable values (e.g. strings) is deprecated. In a future version, these will not be considered matching by isin. Explicitly cast to the appropriate dtype before calling isin instead.\n",
            "  df = df[df.index.isin(dates_dt)]\n",
            "/Users/mirco/Documents/Tesi/code/models/DGDNN/Data/geometric_dataset_gen.py:133: FutureWarning: The behavior of 'isin' with dtype=datetime64[ns] and castable values (e.g. strings) is deprecated. In a future version, these will not be considered matching by isin. Explicitly cast to the appropriate dtype before calling isin instead.\n",
            "  df = df[df.index.isin(dates_dt)]\n",
            "/Users/mirco/Documents/Tesi/code/models/DGDNN/Data/geometric_dataset_gen.py:133: FutureWarning: The behavior of 'isin' with dtype=datetime64[ns] and castable values (e.g. strings) is deprecated. In a future version, these will not be considered matching by isin. Explicitly cast to the appropriate dtype before calling isin instead.\n",
            "  df = df[df.index.isin(dates_dt)]\n",
            "/Users/mirco/Documents/Tesi/code/models/DGDNN/Data/geometric_dataset_gen.py:133: FutureWarning: The behavior of 'isin' with dtype=datetime64[ns] and castable values (e.g. strings) is deprecated. In a future version, these will not be considered matching by isin. Explicitly cast to the appropriate dtype before calling isin instead.\n",
            "  df = df[df.index.isin(dates_dt)]\n",
            " 50%|█████     | 209/416 [02:43<02:48,  1.23it/s]"
          ]
        },
        {
          "name": "stdout",
          "output_type": "stream",
          "text": [
            "Generating graph 209/416...\n"
          ]
        },
        {
          "name": "stderr",
          "output_type": "stream",
          "text": [
            "/Users/mirco/Documents/Tesi/code/models/DGDNN/Data/geometric_dataset_gen.py:133: FutureWarning: The behavior of 'isin' with dtype=datetime64[ns] and castable values (e.g. strings) is deprecated. In a future version, these will not be considered matching by isin. Explicitly cast to the appropriate dtype before calling isin instead.\n",
            "  df = df[df.index.isin(dates_dt)]\n",
            "/Users/mirco/Documents/Tesi/code/models/DGDNN/Data/geometric_dataset_gen.py:133: FutureWarning: The behavior of 'isin' with dtype=datetime64[ns] and castable values (e.g. strings) is deprecated. In a future version, these will not be considered matching by isin. Explicitly cast to the appropriate dtype before calling isin instead.\n",
            "  df = df[df.index.isin(dates_dt)]\n",
            "/Users/mirco/Documents/Tesi/code/models/DGDNN/Data/geometric_dataset_gen.py:133: FutureWarning: The behavior of 'isin' with dtype=datetime64[ns] and castable values (e.g. strings) is deprecated. In a future version, these will not be considered matching by isin. Explicitly cast to the appropriate dtype before calling isin instead.\n",
            "  df = df[df.index.isin(dates_dt)]\n",
            "/Users/mirco/Documents/Tesi/code/models/DGDNN/Data/geometric_dataset_gen.py:133: FutureWarning: The behavior of 'isin' with dtype=datetime64[ns] and castable values (e.g. strings) is deprecated. In a future version, these will not be considered matching by isin. Explicitly cast to the appropriate dtype before calling isin instead.\n",
            "  df = df[df.index.isin(dates_dt)]\n",
            " 50%|█████     | 210/416 [02:43<02:48,  1.23it/s]"
          ]
        },
        {
          "name": "stdout",
          "output_type": "stream",
          "text": [
            "Generating graph 210/416...\n"
          ]
        },
        {
          "name": "stderr",
          "output_type": "stream",
          "text": [
            "/Users/mirco/Documents/Tesi/code/models/DGDNN/Data/geometric_dataset_gen.py:133: FutureWarning: The behavior of 'isin' with dtype=datetime64[ns] and castable values (e.g. strings) is deprecated. In a future version, these will not be considered matching by isin. Explicitly cast to the appropriate dtype before calling isin instead.\n",
            "  df = df[df.index.isin(dates_dt)]\n",
            "/Users/mirco/Documents/Tesi/code/models/DGDNN/Data/geometric_dataset_gen.py:133: FutureWarning: The behavior of 'isin' with dtype=datetime64[ns] and castable values (e.g. strings) is deprecated. In a future version, these will not be considered matching by isin. Explicitly cast to the appropriate dtype before calling isin instead.\n",
            "  df = df[df.index.isin(dates_dt)]\n",
            "/Users/mirco/Documents/Tesi/code/models/DGDNN/Data/geometric_dataset_gen.py:133: FutureWarning: The behavior of 'isin' with dtype=datetime64[ns] and castable values (e.g. strings) is deprecated. In a future version, these will not be considered matching by isin. Explicitly cast to the appropriate dtype before calling isin instead.\n",
            "  df = df[df.index.isin(dates_dt)]\n",
            "/Users/mirco/Documents/Tesi/code/models/DGDNN/Data/geometric_dataset_gen.py:133: FutureWarning: The behavior of 'isin' with dtype=datetime64[ns] and castable values (e.g. strings) is deprecated. In a future version, these will not be considered matching by isin. Explicitly cast to the appropriate dtype before calling isin instead.\n",
            "  df = df[df.index.isin(dates_dt)]\n",
            " 51%|█████     | 211/416 [02:44<02:44,  1.25it/s]"
          ]
        },
        {
          "name": "stdout",
          "output_type": "stream",
          "text": [
            "Generating graph 211/416...\n"
          ]
        },
        {
          "name": "stderr",
          "output_type": "stream",
          "text": [
            "/Users/mirco/Documents/Tesi/code/models/DGDNN/Data/geometric_dataset_gen.py:133: FutureWarning: The behavior of 'isin' with dtype=datetime64[ns] and castable values (e.g. strings) is deprecated. In a future version, these will not be considered matching by isin. Explicitly cast to the appropriate dtype before calling isin instead.\n",
            "  df = df[df.index.isin(dates_dt)]\n",
            "/Users/mirco/Documents/Tesi/code/models/DGDNN/Data/geometric_dataset_gen.py:133: FutureWarning: The behavior of 'isin' with dtype=datetime64[ns] and castable values (e.g. strings) is deprecated. In a future version, these will not be considered matching by isin. Explicitly cast to the appropriate dtype before calling isin instead.\n",
            "  df = df[df.index.isin(dates_dt)]\n",
            "/Users/mirco/Documents/Tesi/code/models/DGDNN/Data/geometric_dataset_gen.py:133: FutureWarning: The behavior of 'isin' with dtype=datetime64[ns] and castable values (e.g. strings) is deprecated. In a future version, these will not be considered matching by isin. Explicitly cast to the appropriate dtype before calling isin instead.\n",
            "  df = df[df.index.isin(dates_dt)]\n",
            "/Users/mirco/Documents/Tesi/code/models/DGDNN/Data/geometric_dataset_gen.py:133: FutureWarning: The behavior of 'isin' with dtype=datetime64[ns] and castable values (e.g. strings) is deprecated. In a future version, these will not be considered matching by isin. Explicitly cast to the appropriate dtype before calling isin instead.\n",
            "  df = df[df.index.isin(dates_dt)]\n",
            " 51%|█████     | 212/416 [02:45<02:51,  1.19it/s]"
          ]
        },
        {
          "name": "stdout",
          "output_type": "stream",
          "text": [
            "Generating graph 212/416...\n"
          ]
        },
        {
          "name": "stderr",
          "output_type": "stream",
          "text": [
            "/Users/mirco/Documents/Tesi/code/models/DGDNN/Data/geometric_dataset_gen.py:133: FutureWarning: The behavior of 'isin' with dtype=datetime64[ns] and castable values (e.g. strings) is deprecated. In a future version, these will not be considered matching by isin. Explicitly cast to the appropriate dtype before calling isin instead.\n",
            "  df = df[df.index.isin(dates_dt)]\n",
            "/Users/mirco/Documents/Tesi/code/models/DGDNN/Data/geometric_dataset_gen.py:133: FutureWarning: The behavior of 'isin' with dtype=datetime64[ns] and castable values (e.g. strings) is deprecated. In a future version, these will not be considered matching by isin. Explicitly cast to the appropriate dtype before calling isin instead.\n",
            "  df = df[df.index.isin(dates_dt)]\n",
            "/Users/mirco/Documents/Tesi/code/models/DGDNN/Data/geometric_dataset_gen.py:133: FutureWarning: The behavior of 'isin' with dtype=datetime64[ns] and castable values (e.g. strings) is deprecated. In a future version, these will not be considered matching by isin. Explicitly cast to the appropriate dtype before calling isin instead.\n",
            "  df = df[df.index.isin(dates_dt)]\n",
            "/Users/mirco/Documents/Tesi/code/models/DGDNN/Data/geometric_dataset_gen.py:133: FutureWarning: The behavior of 'isin' with dtype=datetime64[ns] and castable values (e.g. strings) is deprecated. In a future version, these will not be considered matching by isin. Explicitly cast to the appropriate dtype before calling isin instead.\n",
            "  df = df[df.index.isin(dates_dt)]\n",
            " 51%|█████     | 213/416 [02:46<02:45,  1.22it/s]"
          ]
        },
        {
          "name": "stdout",
          "output_type": "stream",
          "text": [
            "Generating graph 213/416...\n"
          ]
        },
        {
          "name": "stderr",
          "output_type": "stream",
          "text": [
            "/Users/mirco/Documents/Tesi/code/models/DGDNN/Data/geometric_dataset_gen.py:133: FutureWarning: The behavior of 'isin' with dtype=datetime64[ns] and castable values (e.g. strings) is deprecated. In a future version, these will not be considered matching by isin. Explicitly cast to the appropriate dtype before calling isin instead.\n",
            "  df = df[df.index.isin(dates_dt)]\n",
            "/Users/mirco/Documents/Tesi/code/models/DGDNN/Data/geometric_dataset_gen.py:133: FutureWarning: The behavior of 'isin' with dtype=datetime64[ns] and castable values (e.g. strings) is deprecated. In a future version, these will not be considered matching by isin. Explicitly cast to the appropriate dtype before calling isin instead.\n",
            "  df = df[df.index.isin(dates_dt)]\n",
            "/Users/mirco/Documents/Tesi/code/models/DGDNN/Data/geometric_dataset_gen.py:133: FutureWarning: The behavior of 'isin' with dtype=datetime64[ns] and castable values (e.g. strings) is deprecated. In a future version, these will not be considered matching by isin. Explicitly cast to the appropriate dtype before calling isin instead.\n",
            "  df = df[df.index.isin(dates_dt)]\n",
            "/Users/mirco/Documents/Tesi/code/models/DGDNN/Data/geometric_dataset_gen.py:133: FutureWarning: The behavior of 'isin' with dtype=datetime64[ns] and castable values (e.g. strings) is deprecated. In a future version, these will not be considered matching by isin. Explicitly cast to the appropriate dtype before calling isin instead.\n",
            "  df = df[df.index.isin(dates_dt)]\n",
            " 51%|█████▏    | 214/416 [02:47<02:40,  1.25it/s]"
          ]
        },
        {
          "name": "stdout",
          "output_type": "stream",
          "text": [
            "Generating graph 214/416...\n"
          ]
        },
        {
          "name": "stderr",
          "output_type": "stream",
          "text": [
            "/Users/mirco/Documents/Tesi/code/models/DGDNN/Data/geometric_dataset_gen.py:133: FutureWarning: The behavior of 'isin' with dtype=datetime64[ns] and castable values (e.g. strings) is deprecated. In a future version, these will not be considered matching by isin. Explicitly cast to the appropriate dtype before calling isin instead.\n",
            "  df = df[df.index.isin(dates_dt)]\n",
            "/Users/mirco/Documents/Tesi/code/models/DGDNN/Data/geometric_dataset_gen.py:133: FutureWarning: The behavior of 'isin' with dtype=datetime64[ns] and castable values (e.g. strings) is deprecated. In a future version, these will not be considered matching by isin. Explicitly cast to the appropriate dtype before calling isin instead.\n",
            "  df = df[df.index.isin(dates_dt)]\n",
            "/Users/mirco/Documents/Tesi/code/models/DGDNN/Data/geometric_dataset_gen.py:133: FutureWarning: The behavior of 'isin' with dtype=datetime64[ns] and castable values (e.g. strings) is deprecated. In a future version, these will not be considered matching by isin. Explicitly cast to the appropriate dtype before calling isin instead.\n",
            "  df = df[df.index.isin(dates_dt)]\n",
            "/Users/mirco/Documents/Tesi/code/models/DGDNN/Data/geometric_dataset_gen.py:133: FutureWarning: The behavior of 'isin' with dtype=datetime64[ns] and castable values (e.g. strings) is deprecated. In a future version, these will not be considered matching by isin. Explicitly cast to the appropriate dtype before calling isin instead.\n",
            "  df = df[df.index.isin(dates_dt)]\n",
            " 52%|█████▏    | 215/416 [02:48<02:49,  1.18it/s]"
          ]
        },
        {
          "name": "stdout",
          "output_type": "stream",
          "text": [
            "Generating graph 215/416...\n"
          ]
        },
        {
          "name": "stderr",
          "output_type": "stream",
          "text": [
            "/Users/mirco/Documents/Tesi/code/models/DGDNN/Data/geometric_dataset_gen.py:133: FutureWarning: The behavior of 'isin' with dtype=datetime64[ns] and castable values (e.g. strings) is deprecated. In a future version, these will not be considered matching by isin. Explicitly cast to the appropriate dtype before calling isin instead.\n",
            "  df = df[df.index.isin(dates_dt)]\n",
            "/Users/mirco/Documents/Tesi/code/models/DGDNN/Data/geometric_dataset_gen.py:133: FutureWarning: The behavior of 'isin' with dtype=datetime64[ns] and castable values (e.g. strings) is deprecated. In a future version, these will not be considered matching by isin. Explicitly cast to the appropriate dtype before calling isin instead.\n",
            "  df = df[df.index.isin(dates_dt)]\n",
            "/Users/mirco/Documents/Tesi/code/models/DGDNN/Data/geometric_dataset_gen.py:133: FutureWarning: The behavior of 'isin' with dtype=datetime64[ns] and castable values (e.g. strings) is deprecated. In a future version, these will not be considered matching by isin. Explicitly cast to the appropriate dtype before calling isin instead.\n",
            "  df = df[df.index.isin(dates_dt)]\n",
            "/Users/mirco/Documents/Tesi/code/models/DGDNN/Data/geometric_dataset_gen.py:133: FutureWarning: The behavior of 'isin' with dtype=datetime64[ns] and castable values (e.g. strings) is deprecated. In a future version, these will not be considered matching by isin. Explicitly cast to the appropriate dtype before calling isin instead.\n",
            "  df = df[df.index.isin(dates_dt)]\n",
            " 52%|█████▏    | 216/416 [02:49<03:01,  1.10it/s]"
          ]
        },
        {
          "name": "stdout",
          "output_type": "stream",
          "text": [
            "Generating graph 216/416...\n"
          ]
        },
        {
          "name": "stderr",
          "output_type": "stream",
          "text": [
            "/Users/mirco/Documents/Tesi/code/models/DGDNN/Data/geometric_dataset_gen.py:133: FutureWarning: The behavior of 'isin' with dtype=datetime64[ns] and castable values (e.g. strings) is deprecated. In a future version, these will not be considered matching by isin. Explicitly cast to the appropriate dtype before calling isin instead.\n",
            "  df = df[df.index.isin(dates_dt)]\n",
            "/Users/mirco/Documents/Tesi/code/models/DGDNN/Data/geometric_dataset_gen.py:133: FutureWarning: The behavior of 'isin' with dtype=datetime64[ns] and castable values (e.g. strings) is deprecated. In a future version, these will not be considered matching by isin. Explicitly cast to the appropriate dtype before calling isin instead.\n",
            "  df = df[df.index.isin(dates_dt)]\n",
            "/Users/mirco/Documents/Tesi/code/models/DGDNN/Data/geometric_dataset_gen.py:133: FutureWarning: The behavior of 'isin' with dtype=datetime64[ns] and castable values (e.g. strings) is deprecated. In a future version, these will not be considered matching by isin. Explicitly cast to the appropriate dtype before calling isin instead.\n",
            "  df = df[df.index.isin(dates_dt)]\n",
            "/Users/mirco/Documents/Tesi/code/models/DGDNN/Data/geometric_dataset_gen.py:133: FutureWarning: The behavior of 'isin' with dtype=datetime64[ns] and castable values (e.g. strings) is deprecated. In a future version, these will not be considered matching by isin. Explicitly cast to the appropriate dtype before calling isin instead.\n",
            "  df = df[df.index.isin(dates_dt)]\n",
            " 52%|█████▏    | 217/416 [02:49<02:54,  1.14it/s]"
          ]
        },
        {
          "name": "stdout",
          "output_type": "stream",
          "text": [
            "Generating graph 217/416...\n"
          ]
        },
        {
          "name": "stderr",
          "output_type": "stream",
          "text": [
            "/Users/mirco/Documents/Tesi/code/models/DGDNN/Data/geometric_dataset_gen.py:133: FutureWarning: The behavior of 'isin' with dtype=datetime64[ns] and castable values (e.g. strings) is deprecated. In a future version, these will not be considered matching by isin. Explicitly cast to the appropriate dtype before calling isin instead.\n",
            "  df = df[df.index.isin(dates_dt)]\n",
            "/Users/mirco/Documents/Tesi/code/models/DGDNN/Data/geometric_dataset_gen.py:133: FutureWarning: The behavior of 'isin' with dtype=datetime64[ns] and castable values (e.g. strings) is deprecated. In a future version, these will not be considered matching by isin. Explicitly cast to the appropriate dtype before calling isin instead.\n",
            "  df = df[df.index.isin(dates_dt)]\n",
            "/Users/mirco/Documents/Tesi/code/models/DGDNN/Data/geometric_dataset_gen.py:133: FutureWarning: The behavior of 'isin' with dtype=datetime64[ns] and castable values (e.g. strings) is deprecated. In a future version, these will not be considered matching by isin. Explicitly cast to the appropriate dtype before calling isin instead.\n",
            "  df = df[df.index.isin(dates_dt)]\n",
            "/Users/mirco/Documents/Tesi/code/models/DGDNN/Data/geometric_dataset_gen.py:133: FutureWarning: The behavior of 'isin' with dtype=datetime64[ns] and castable values (e.g. strings) is deprecated. In a future version, these will not be considered matching by isin. Explicitly cast to the appropriate dtype before calling isin instead.\n",
            "  df = df[df.index.isin(dates_dt)]\n",
            " 52%|█████▏    | 218/416 [02:50<02:49,  1.17it/s]"
          ]
        },
        {
          "name": "stdout",
          "output_type": "stream",
          "text": [
            "Generating graph 218/416...\n"
          ]
        },
        {
          "name": "stderr",
          "output_type": "stream",
          "text": [
            "/Users/mirco/Documents/Tesi/code/models/DGDNN/Data/geometric_dataset_gen.py:133: FutureWarning: The behavior of 'isin' with dtype=datetime64[ns] and castable values (e.g. strings) is deprecated. In a future version, these will not be considered matching by isin. Explicitly cast to the appropriate dtype before calling isin instead.\n",
            "  df = df[df.index.isin(dates_dt)]\n",
            "/Users/mirco/Documents/Tesi/code/models/DGDNN/Data/geometric_dataset_gen.py:133: FutureWarning: The behavior of 'isin' with dtype=datetime64[ns] and castable values (e.g. strings) is deprecated. In a future version, these will not be considered matching by isin. Explicitly cast to the appropriate dtype before calling isin instead.\n",
            "  df = df[df.index.isin(dates_dt)]\n",
            "/Users/mirco/Documents/Tesi/code/models/DGDNN/Data/geometric_dataset_gen.py:133: FutureWarning: The behavior of 'isin' with dtype=datetime64[ns] and castable values (e.g. strings) is deprecated. In a future version, these will not be considered matching by isin. Explicitly cast to the appropriate dtype before calling isin instead.\n",
            "  df = df[df.index.isin(dates_dt)]\n",
            "/Users/mirco/Documents/Tesi/code/models/DGDNN/Data/geometric_dataset_gen.py:133: FutureWarning: The behavior of 'isin' with dtype=datetime64[ns] and castable values (e.g. strings) is deprecated. In a future version, these will not be considered matching by isin. Explicitly cast to the appropriate dtype before calling isin instead.\n",
            "  df = df[df.index.isin(dates_dt)]\n",
            " 53%|█████▎    | 219/416 [02:51<02:52,  1.14it/s]"
          ]
        },
        {
          "name": "stdout",
          "output_type": "stream",
          "text": [
            "Generating graph 219/416...\n"
          ]
        },
        {
          "name": "stderr",
          "output_type": "stream",
          "text": [
            "/Users/mirco/Documents/Tesi/code/models/DGDNN/Data/geometric_dataset_gen.py:133: FutureWarning: The behavior of 'isin' with dtype=datetime64[ns] and castable values (e.g. strings) is deprecated. In a future version, these will not be considered matching by isin. Explicitly cast to the appropriate dtype before calling isin instead.\n",
            "  df = df[df.index.isin(dates_dt)]\n",
            "/Users/mirco/Documents/Tesi/code/models/DGDNN/Data/geometric_dataset_gen.py:133: FutureWarning: The behavior of 'isin' with dtype=datetime64[ns] and castable values (e.g. strings) is deprecated. In a future version, these will not be considered matching by isin. Explicitly cast to the appropriate dtype before calling isin instead.\n",
            "  df = df[df.index.isin(dates_dt)]\n",
            "/Users/mirco/Documents/Tesi/code/models/DGDNN/Data/geometric_dataset_gen.py:133: FutureWarning: The behavior of 'isin' with dtype=datetime64[ns] and castable values (e.g. strings) is deprecated. In a future version, these will not be considered matching by isin. Explicitly cast to the appropriate dtype before calling isin instead.\n",
            "  df = df[df.index.isin(dates_dt)]\n",
            "/Users/mirco/Documents/Tesi/code/models/DGDNN/Data/geometric_dataset_gen.py:133: FutureWarning: The behavior of 'isin' with dtype=datetime64[ns] and castable values (e.g. strings) is deprecated. In a future version, these will not be considered matching by isin. Explicitly cast to the appropriate dtype before calling isin instead.\n",
            "  df = df[df.index.isin(dates_dt)]\n",
            " 53%|█████▎    | 220/416 [02:52<02:46,  1.18it/s]"
          ]
        },
        {
          "name": "stdout",
          "output_type": "stream",
          "text": [
            "Generating graph 220/416...\n"
          ]
        },
        {
          "name": "stderr",
          "output_type": "stream",
          "text": [
            "/Users/mirco/Documents/Tesi/code/models/DGDNN/Data/geometric_dataset_gen.py:133: FutureWarning: The behavior of 'isin' with dtype=datetime64[ns] and castable values (e.g. strings) is deprecated. In a future version, these will not be considered matching by isin. Explicitly cast to the appropriate dtype before calling isin instead.\n",
            "  df = df[df.index.isin(dates_dt)]\n",
            "/Users/mirco/Documents/Tesi/code/models/DGDNN/Data/geometric_dataset_gen.py:133: FutureWarning: The behavior of 'isin' with dtype=datetime64[ns] and castable values (e.g. strings) is deprecated. In a future version, these will not be considered matching by isin. Explicitly cast to the appropriate dtype before calling isin instead.\n",
            "  df = df[df.index.isin(dates_dt)]\n",
            "/Users/mirco/Documents/Tesi/code/models/DGDNN/Data/geometric_dataset_gen.py:133: FutureWarning: The behavior of 'isin' with dtype=datetime64[ns] and castable values (e.g. strings) is deprecated. In a future version, these will not be considered matching by isin. Explicitly cast to the appropriate dtype before calling isin instead.\n",
            "  df = df[df.index.isin(dates_dt)]\n",
            "/Users/mirco/Documents/Tesi/code/models/DGDNN/Data/geometric_dataset_gen.py:133: FutureWarning: The behavior of 'isin' with dtype=datetime64[ns] and castable values (e.g. strings) is deprecated. In a future version, these will not be considered matching by isin. Explicitly cast to the appropriate dtype before calling isin instead.\n",
            "  df = df[df.index.isin(dates_dt)]\n",
            " 53%|█████▎    | 221/416 [02:53<02:41,  1.21it/s]"
          ]
        },
        {
          "name": "stdout",
          "output_type": "stream",
          "text": [
            "Generating graph 221/416...\n"
          ]
        },
        {
          "name": "stderr",
          "output_type": "stream",
          "text": [
            "/Users/mirco/Documents/Tesi/code/models/DGDNN/Data/geometric_dataset_gen.py:133: FutureWarning: The behavior of 'isin' with dtype=datetime64[ns] and castable values (e.g. strings) is deprecated. In a future version, these will not be considered matching by isin. Explicitly cast to the appropriate dtype before calling isin instead.\n",
            "  df = df[df.index.isin(dates_dt)]\n",
            "/Users/mirco/Documents/Tesi/code/models/DGDNN/Data/geometric_dataset_gen.py:133: FutureWarning: The behavior of 'isin' with dtype=datetime64[ns] and castable values (e.g. strings) is deprecated. In a future version, these will not be considered matching by isin. Explicitly cast to the appropriate dtype before calling isin instead.\n",
            "  df = df[df.index.isin(dates_dt)]\n",
            "/Users/mirco/Documents/Tesi/code/models/DGDNN/Data/geometric_dataset_gen.py:133: FutureWarning: The behavior of 'isin' with dtype=datetime64[ns] and castable values (e.g. strings) is deprecated. In a future version, these will not be considered matching by isin. Explicitly cast to the appropriate dtype before calling isin instead.\n",
            "  df = df[df.index.isin(dates_dt)]\n",
            "/Users/mirco/Documents/Tesi/code/models/DGDNN/Data/geometric_dataset_gen.py:133: FutureWarning: The behavior of 'isin' with dtype=datetime64[ns] and castable values (e.g. strings) is deprecated. In a future version, these will not be considered matching by isin. Explicitly cast to the appropriate dtype before calling isin instead.\n",
            "  df = df[df.index.isin(dates_dt)]\n",
            " 53%|█████▎    | 222/416 [02:54<02:48,  1.15it/s]"
          ]
        },
        {
          "name": "stdout",
          "output_type": "stream",
          "text": [
            "Generating graph 222/416...\n"
          ]
        },
        {
          "name": "stderr",
          "output_type": "stream",
          "text": [
            "/Users/mirco/Documents/Tesi/code/models/DGDNN/Data/geometric_dataset_gen.py:133: FutureWarning: The behavior of 'isin' with dtype=datetime64[ns] and castable values (e.g. strings) is deprecated. In a future version, these will not be considered matching by isin. Explicitly cast to the appropriate dtype before calling isin instead.\n",
            "  df = df[df.index.isin(dates_dt)]\n",
            "/Users/mirco/Documents/Tesi/code/models/DGDNN/Data/geometric_dataset_gen.py:133: FutureWarning: The behavior of 'isin' with dtype=datetime64[ns] and castable values (e.g. strings) is deprecated. In a future version, these will not be considered matching by isin. Explicitly cast to the appropriate dtype before calling isin instead.\n",
            "  df = df[df.index.isin(dates_dt)]\n",
            "/Users/mirco/Documents/Tesi/code/models/DGDNN/Data/geometric_dataset_gen.py:133: FutureWarning: The behavior of 'isin' with dtype=datetime64[ns] and castable values (e.g. strings) is deprecated. In a future version, these will not be considered matching by isin. Explicitly cast to the appropriate dtype before calling isin instead.\n",
            "  df = df[df.index.isin(dates_dt)]\n",
            "/Users/mirco/Documents/Tesi/code/models/DGDNN/Data/geometric_dataset_gen.py:133: FutureWarning: The behavior of 'isin' with dtype=datetime64[ns] and castable values (e.g. strings) is deprecated. In a future version, these will not be considered matching by isin. Explicitly cast to the appropriate dtype before calling isin instead.\n",
            "  df = df[df.index.isin(dates_dt)]\n",
            " 54%|█████▎    | 223/416 [02:54<02:41,  1.19it/s]"
          ]
        },
        {
          "name": "stdout",
          "output_type": "stream",
          "text": [
            "Generating graph 223/416...\n"
          ]
        },
        {
          "name": "stderr",
          "output_type": "stream",
          "text": [
            "/Users/mirco/Documents/Tesi/code/models/DGDNN/Data/geometric_dataset_gen.py:133: FutureWarning: The behavior of 'isin' with dtype=datetime64[ns] and castable values (e.g. strings) is deprecated. In a future version, these will not be considered matching by isin. Explicitly cast to the appropriate dtype before calling isin instead.\n",
            "  df = df[df.index.isin(dates_dt)]\n",
            "/Users/mirco/Documents/Tesi/code/models/DGDNN/Data/geometric_dataset_gen.py:133: FutureWarning: The behavior of 'isin' with dtype=datetime64[ns] and castable values (e.g. strings) is deprecated. In a future version, these will not be considered matching by isin. Explicitly cast to the appropriate dtype before calling isin instead.\n",
            "  df = df[df.index.isin(dates_dt)]\n",
            "/Users/mirco/Documents/Tesi/code/models/DGDNN/Data/geometric_dataset_gen.py:133: FutureWarning: The behavior of 'isin' with dtype=datetime64[ns] and castable values (e.g. strings) is deprecated. In a future version, these will not be considered matching by isin. Explicitly cast to the appropriate dtype before calling isin instead.\n",
            "  df = df[df.index.isin(dates_dt)]\n",
            "/Users/mirco/Documents/Tesi/code/models/DGDNN/Data/geometric_dataset_gen.py:133: FutureWarning: The behavior of 'isin' with dtype=datetime64[ns] and castable values (e.g. strings) is deprecated. In a future version, these will not be considered matching by isin. Explicitly cast to the appropriate dtype before calling isin instead.\n",
            "  df = df[df.index.isin(dates_dt)]\n",
            " 54%|█████▍    | 224/416 [02:55<02:35,  1.23it/s]"
          ]
        },
        {
          "name": "stdout",
          "output_type": "stream",
          "text": [
            "Generating graph 224/416...\n"
          ]
        },
        {
          "name": "stderr",
          "output_type": "stream",
          "text": [
            "/Users/mirco/Documents/Tesi/code/models/DGDNN/Data/geometric_dataset_gen.py:133: FutureWarning: The behavior of 'isin' with dtype=datetime64[ns] and castable values (e.g. strings) is deprecated. In a future version, these will not be considered matching by isin. Explicitly cast to the appropriate dtype before calling isin instead.\n",
            "  df = df[df.index.isin(dates_dt)]\n",
            "/Users/mirco/Documents/Tesi/code/models/DGDNN/Data/geometric_dataset_gen.py:133: FutureWarning: The behavior of 'isin' with dtype=datetime64[ns] and castable values (e.g. strings) is deprecated. In a future version, these will not be considered matching by isin. Explicitly cast to the appropriate dtype before calling isin instead.\n",
            "  df = df[df.index.isin(dates_dt)]\n",
            "/Users/mirco/Documents/Tesi/code/models/DGDNN/Data/geometric_dataset_gen.py:133: FutureWarning: The behavior of 'isin' with dtype=datetime64[ns] and castable values (e.g. strings) is deprecated. In a future version, these will not be considered matching by isin. Explicitly cast to the appropriate dtype before calling isin instead.\n",
            "  df = df[df.index.isin(dates_dt)]\n",
            "/Users/mirco/Documents/Tesi/code/models/DGDNN/Data/geometric_dataset_gen.py:133: FutureWarning: The behavior of 'isin' with dtype=datetime64[ns] and castable values (e.g. strings) is deprecated. In a future version, these will not be considered matching by isin. Explicitly cast to the appropriate dtype before calling isin instead.\n",
            "  df = df[df.index.isin(dates_dt)]\n",
            " 54%|█████▍    | 225/416 [02:56<02:39,  1.20it/s]"
          ]
        },
        {
          "name": "stdout",
          "output_type": "stream",
          "text": [
            "Generating graph 225/416...\n"
          ]
        },
        {
          "name": "stderr",
          "output_type": "stream",
          "text": [
            "/Users/mirco/Documents/Tesi/code/models/DGDNN/Data/geometric_dataset_gen.py:133: FutureWarning: The behavior of 'isin' with dtype=datetime64[ns] and castable values (e.g. strings) is deprecated. In a future version, these will not be considered matching by isin. Explicitly cast to the appropriate dtype before calling isin instead.\n",
            "  df = df[df.index.isin(dates_dt)]\n",
            "/Users/mirco/Documents/Tesi/code/models/DGDNN/Data/geometric_dataset_gen.py:133: FutureWarning: The behavior of 'isin' with dtype=datetime64[ns] and castable values (e.g. strings) is deprecated. In a future version, these will not be considered matching by isin. Explicitly cast to the appropriate dtype before calling isin instead.\n",
            "  df = df[df.index.isin(dates_dt)]\n",
            "/Users/mirco/Documents/Tesi/code/models/DGDNN/Data/geometric_dataset_gen.py:133: FutureWarning: The behavior of 'isin' with dtype=datetime64[ns] and castable values (e.g. strings) is deprecated. In a future version, these will not be considered matching by isin. Explicitly cast to the appropriate dtype before calling isin instead.\n",
            "  df = df[df.index.isin(dates_dt)]\n",
            "/Users/mirco/Documents/Tesi/code/models/DGDNN/Data/geometric_dataset_gen.py:133: FutureWarning: The behavior of 'isin' with dtype=datetime64[ns] and castable values (e.g. strings) is deprecated. In a future version, these will not be considered matching by isin. Explicitly cast to the appropriate dtype before calling isin instead.\n",
            "  df = df[df.index.isin(dates_dt)]\n",
            " 54%|█████▍    | 226/416 [02:57<02:32,  1.25it/s]"
          ]
        },
        {
          "name": "stdout",
          "output_type": "stream",
          "text": [
            "Generating graph 226/416...\n"
          ]
        },
        {
          "name": "stderr",
          "output_type": "stream",
          "text": [
            "/Users/mirco/Documents/Tesi/code/models/DGDNN/Data/geometric_dataset_gen.py:133: FutureWarning: The behavior of 'isin' with dtype=datetime64[ns] and castable values (e.g. strings) is deprecated. In a future version, these will not be considered matching by isin. Explicitly cast to the appropriate dtype before calling isin instead.\n",
            "  df = df[df.index.isin(dates_dt)]\n",
            "/Users/mirco/Documents/Tesi/code/models/DGDNN/Data/geometric_dataset_gen.py:133: FutureWarning: The behavior of 'isin' with dtype=datetime64[ns] and castable values (e.g. strings) is deprecated. In a future version, these will not be considered matching by isin. Explicitly cast to the appropriate dtype before calling isin instead.\n",
            "  df = df[df.index.isin(dates_dt)]\n",
            "/Users/mirco/Documents/Tesi/code/models/DGDNN/Data/geometric_dataset_gen.py:133: FutureWarning: The behavior of 'isin' with dtype=datetime64[ns] and castable values (e.g. strings) is deprecated. In a future version, these will not be considered matching by isin. Explicitly cast to the appropriate dtype before calling isin instead.\n",
            "  df = df[df.index.isin(dates_dt)]\n",
            "/Users/mirco/Documents/Tesi/code/models/DGDNN/Data/geometric_dataset_gen.py:133: FutureWarning: The behavior of 'isin' with dtype=datetime64[ns] and castable values (e.g. strings) is deprecated. In a future version, these will not be considered matching by isin. Explicitly cast to the appropriate dtype before calling isin instead.\n",
            "  df = df[df.index.isin(dates_dt)]\n",
            " 55%|█████▍    | 227/416 [02:58<02:28,  1.27it/s]"
          ]
        },
        {
          "name": "stdout",
          "output_type": "stream",
          "text": [
            "Generating graph 227/416...\n"
          ]
        },
        {
          "name": "stderr",
          "output_type": "stream",
          "text": [
            "/Users/mirco/Documents/Tesi/code/models/DGDNN/Data/geometric_dataset_gen.py:133: FutureWarning: The behavior of 'isin' with dtype=datetime64[ns] and castable values (e.g. strings) is deprecated. In a future version, these will not be considered matching by isin. Explicitly cast to the appropriate dtype before calling isin instead.\n",
            "  df = df[df.index.isin(dates_dt)]\n",
            "/Users/mirco/Documents/Tesi/code/models/DGDNN/Data/geometric_dataset_gen.py:133: FutureWarning: The behavior of 'isin' with dtype=datetime64[ns] and castable values (e.g. strings) is deprecated. In a future version, these will not be considered matching by isin. Explicitly cast to the appropriate dtype before calling isin instead.\n",
            "  df = df[df.index.isin(dates_dt)]\n",
            "/Users/mirco/Documents/Tesi/code/models/DGDNN/Data/geometric_dataset_gen.py:133: FutureWarning: The behavior of 'isin' with dtype=datetime64[ns] and castable values (e.g. strings) is deprecated. In a future version, these will not be considered matching by isin. Explicitly cast to the appropriate dtype before calling isin instead.\n",
            "  df = df[df.index.isin(dates_dt)]\n",
            "/Users/mirco/Documents/Tesi/code/models/DGDNN/Data/geometric_dataset_gen.py:133: FutureWarning: The behavior of 'isin' with dtype=datetime64[ns] and castable values (e.g. strings) is deprecated. In a future version, these will not be considered matching by isin. Explicitly cast to the appropriate dtype before calling isin instead.\n",
            "  df = df[df.index.isin(dates_dt)]\n",
            " 55%|█████▍    | 228/416 [02:58<02:26,  1.29it/s]"
          ]
        },
        {
          "name": "stdout",
          "output_type": "stream",
          "text": [
            "Generating graph 228/416...\n"
          ]
        },
        {
          "name": "stderr",
          "output_type": "stream",
          "text": [
            "/Users/mirco/Documents/Tesi/code/models/DGDNN/Data/geometric_dataset_gen.py:133: FutureWarning: The behavior of 'isin' with dtype=datetime64[ns] and castable values (e.g. strings) is deprecated. In a future version, these will not be considered matching by isin. Explicitly cast to the appropriate dtype before calling isin instead.\n",
            "  df = df[df.index.isin(dates_dt)]\n",
            "/Users/mirco/Documents/Tesi/code/models/DGDNN/Data/geometric_dataset_gen.py:133: FutureWarning: The behavior of 'isin' with dtype=datetime64[ns] and castable values (e.g. strings) is deprecated. In a future version, these will not be considered matching by isin. Explicitly cast to the appropriate dtype before calling isin instead.\n",
            "  df = df[df.index.isin(dates_dt)]\n",
            "/Users/mirco/Documents/Tesi/code/models/DGDNN/Data/geometric_dataset_gen.py:133: FutureWarning: The behavior of 'isin' with dtype=datetime64[ns] and castable values (e.g. strings) is deprecated. In a future version, these will not be considered matching by isin. Explicitly cast to the appropriate dtype before calling isin instead.\n",
            "  df = df[df.index.isin(dates_dt)]\n",
            "/Users/mirco/Documents/Tesi/code/models/DGDNN/Data/geometric_dataset_gen.py:133: FutureWarning: The behavior of 'isin' with dtype=datetime64[ns] and castable values (e.g. strings) is deprecated. In a future version, these will not be considered matching by isin. Explicitly cast to the appropriate dtype before calling isin instead.\n",
            "  df = df[df.index.isin(dates_dt)]\n",
            " 55%|█████▌    | 229/416 [02:59<02:40,  1.16it/s]"
          ]
        },
        {
          "name": "stdout",
          "output_type": "stream",
          "text": [
            "Generating graph 229/416...\n"
          ]
        },
        {
          "name": "stderr",
          "output_type": "stream",
          "text": [
            "/Users/mirco/Documents/Tesi/code/models/DGDNN/Data/geometric_dataset_gen.py:133: FutureWarning: The behavior of 'isin' with dtype=datetime64[ns] and castable values (e.g. strings) is deprecated. In a future version, these will not be considered matching by isin. Explicitly cast to the appropriate dtype before calling isin instead.\n",
            "  df = df[df.index.isin(dates_dt)]\n",
            "/Users/mirco/Documents/Tesi/code/models/DGDNN/Data/geometric_dataset_gen.py:133: FutureWarning: The behavior of 'isin' with dtype=datetime64[ns] and castable values (e.g. strings) is deprecated. In a future version, these will not be considered matching by isin. Explicitly cast to the appropriate dtype before calling isin instead.\n",
            "  df = df[df.index.isin(dates_dt)]\n",
            "/Users/mirco/Documents/Tesi/code/models/DGDNN/Data/geometric_dataset_gen.py:133: FutureWarning: The behavior of 'isin' with dtype=datetime64[ns] and castable values (e.g. strings) is deprecated. In a future version, these will not be considered matching by isin. Explicitly cast to the appropriate dtype before calling isin instead.\n",
            "  df = df[df.index.isin(dates_dt)]\n",
            "/Users/mirco/Documents/Tesi/code/models/DGDNN/Data/geometric_dataset_gen.py:133: FutureWarning: The behavior of 'isin' with dtype=datetime64[ns] and castable values (e.g. strings) is deprecated. In a future version, these will not be considered matching by isin. Explicitly cast to the appropriate dtype before calling isin instead.\n",
            "  df = df[df.index.isin(dates_dt)]\n",
            " 55%|█████▌    | 230/416 [03:00<02:33,  1.21it/s]"
          ]
        },
        {
          "name": "stdout",
          "output_type": "stream",
          "text": [
            "Generating graph 230/416...\n"
          ]
        },
        {
          "name": "stderr",
          "output_type": "stream",
          "text": [
            "/Users/mirco/Documents/Tesi/code/models/DGDNN/Data/geometric_dataset_gen.py:133: FutureWarning: The behavior of 'isin' with dtype=datetime64[ns] and castable values (e.g. strings) is deprecated. In a future version, these will not be considered matching by isin. Explicitly cast to the appropriate dtype before calling isin instead.\n",
            "  df = df[df.index.isin(dates_dt)]\n",
            "/Users/mirco/Documents/Tesi/code/models/DGDNN/Data/geometric_dataset_gen.py:133: FutureWarning: The behavior of 'isin' with dtype=datetime64[ns] and castable values (e.g. strings) is deprecated. In a future version, these will not be considered matching by isin. Explicitly cast to the appropriate dtype before calling isin instead.\n",
            "  df = df[df.index.isin(dates_dt)]\n",
            "/Users/mirco/Documents/Tesi/code/models/DGDNN/Data/geometric_dataset_gen.py:133: FutureWarning: The behavior of 'isin' with dtype=datetime64[ns] and castable values (e.g. strings) is deprecated. In a future version, these will not be considered matching by isin. Explicitly cast to the appropriate dtype before calling isin instead.\n",
            "  df = df[df.index.isin(dates_dt)]\n",
            "/Users/mirco/Documents/Tesi/code/models/DGDNN/Data/geometric_dataset_gen.py:133: FutureWarning: The behavior of 'isin' with dtype=datetime64[ns] and castable values (e.g. strings) is deprecated. In a future version, these will not be considered matching by isin. Explicitly cast to the appropriate dtype before calling isin instead.\n",
            "  df = df[df.index.isin(dates_dt)]\n",
            " 56%|█████▌    | 231/416 [03:01<02:27,  1.25it/s]"
          ]
        },
        {
          "name": "stdout",
          "output_type": "stream",
          "text": [
            "Generating graph 231/416...\n"
          ]
        },
        {
          "name": "stderr",
          "output_type": "stream",
          "text": [
            "/Users/mirco/Documents/Tesi/code/models/DGDNN/Data/geometric_dataset_gen.py:133: FutureWarning: The behavior of 'isin' with dtype=datetime64[ns] and castable values (e.g. strings) is deprecated. In a future version, these will not be considered matching by isin. Explicitly cast to the appropriate dtype before calling isin instead.\n",
            "  df = df[df.index.isin(dates_dt)]\n",
            "/Users/mirco/Documents/Tesi/code/models/DGDNN/Data/geometric_dataset_gen.py:133: FutureWarning: The behavior of 'isin' with dtype=datetime64[ns] and castable values (e.g. strings) is deprecated. In a future version, these will not be considered matching by isin. Explicitly cast to the appropriate dtype before calling isin instead.\n",
            "  df = df[df.index.isin(dates_dt)]\n",
            "/Users/mirco/Documents/Tesi/code/models/DGDNN/Data/geometric_dataset_gen.py:133: FutureWarning: The behavior of 'isin' with dtype=datetime64[ns] and castable values (e.g. strings) is deprecated. In a future version, these will not be considered matching by isin. Explicitly cast to the appropriate dtype before calling isin instead.\n",
            "  df = df[df.index.isin(dates_dt)]\n",
            "/Users/mirco/Documents/Tesi/code/models/DGDNN/Data/geometric_dataset_gen.py:133: FutureWarning: The behavior of 'isin' with dtype=datetime64[ns] and castable values (e.g. strings) is deprecated. In a future version, these will not be considered matching by isin. Explicitly cast to the appropriate dtype before calling isin instead.\n",
            "  df = df[df.index.isin(dates_dt)]\n",
            " 56%|█████▌    | 232/416 [03:02<02:30,  1.22it/s]"
          ]
        },
        {
          "name": "stdout",
          "output_type": "stream",
          "text": [
            "Generating graph 232/416...\n"
          ]
        },
        {
          "name": "stderr",
          "output_type": "stream",
          "text": [
            "/Users/mirco/Documents/Tesi/code/models/DGDNN/Data/geometric_dataset_gen.py:133: FutureWarning: The behavior of 'isin' with dtype=datetime64[ns] and castable values (e.g. strings) is deprecated. In a future version, these will not be considered matching by isin. Explicitly cast to the appropriate dtype before calling isin instead.\n",
            "  df = df[df.index.isin(dates_dt)]\n",
            "/Users/mirco/Documents/Tesi/code/models/DGDNN/Data/geometric_dataset_gen.py:133: FutureWarning: The behavior of 'isin' with dtype=datetime64[ns] and castable values (e.g. strings) is deprecated. In a future version, these will not be considered matching by isin. Explicitly cast to the appropriate dtype before calling isin instead.\n",
            "  df = df[df.index.isin(dates_dt)]\n",
            "/Users/mirco/Documents/Tesi/code/models/DGDNN/Data/geometric_dataset_gen.py:133: FutureWarning: The behavior of 'isin' with dtype=datetime64[ns] and castable values (e.g. strings) is deprecated. In a future version, these will not be considered matching by isin. Explicitly cast to the appropriate dtype before calling isin instead.\n",
            "  df = df[df.index.isin(dates_dt)]\n",
            "/Users/mirco/Documents/Tesi/code/models/DGDNN/Data/geometric_dataset_gen.py:133: FutureWarning: The behavior of 'isin' with dtype=datetime64[ns] and castable values (e.g. strings) is deprecated. In a future version, these will not be considered matching by isin. Explicitly cast to the appropriate dtype before calling isin instead.\n",
            "  df = df[df.index.isin(dates_dt)]\n",
            " 56%|█████▌    | 233/416 [03:02<02:26,  1.25it/s]"
          ]
        },
        {
          "name": "stdout",
          "output_type": "stream",
          "text": [
            "Generating graph 233/416...\n"
          ]
        },
        {
          "name": "stderr",
          "output_type": "stream",
          "text": [
            "/Users/mirco/Documents/Tesi/code/models/DGDNN/Data/geometric_dataset_gen.py:133: FutureWarning: The behavior of 'isin' with dtype=datetime64[ns] and castable values (e.g. strings) is deprecated. In a future version, these will not be considered matching by isin. Explicitly cast to the appropriate dtype before calling isin instead.\n",
            "  df = df[df.index.isin(dates_dt)]\n",
            "/Users/mirco/Documents/Tesi/code/models/DGDNN/Data/geometric_dataset_gen.py:133: FutureWarning: The behavior of 'isin' with dtype=datetime64[ns] and castable values (e.g. strings) is deprecated. In a future version, these will not be considered matching by isin. Explicitly cast to the appropriate dtype before calling isin instead.\n",
            "  df = df[df.index.isin(dates_dt)]\n",
            "/Users/mirco/Documents/Tesi/code/models/DGDNN/Data/geometric_dataset_gen.py:133: FutureWarning: The behavior of 'isin' with dtype=datetime64[ns] and castable values (e.g. strings) is deprecated. In a future version, these will not be considered matching by isin. Explicitly cast to the appropriate dtype before calling isin instead.\n",
            "  df = df[df.index.isin(dates_dt)]\n",
            "/Users/mirco/Documents/Tesi/code/models/DGDNN/Data/geometric_dataset_gen.py:133: FutureWarning: The behavior of 'isin' with dtype=datetime64[ns] and castable values (e.g. strings) is deprecated. In a future version, these will not be considered matching by isin. Explicitly cast to the appropriate dtype before calling isin instead.\n",
            "  df = df[df.index.isin(dates_dt)]\n",
            " 56%|█████▋    | 234/416 [03:03<02:21,  1.28it/s]"
          ]
        },
        {
          "name": "stdout",
          "output_type": "stream",
          "text": [
            "Generating graph 234/416...\n"
          ]
        },
        {
          "name": "stderr",
          "output_type": "stream",
          "text": [
            "/Users/mirco/Documents/Tesi/code/models/DGDNN/Data/geometric_dataset_gen.py:133: FutureWarning: The behavior of 'isin' with dtype=datetime64[ns] and castable values (e.g. strings) is deprecated. In a future version, these will not be considered matching by isin. Explicitly cast to the appropriate dtype before calling isin instead.\n",
            "  df = df[df.index.isin(dates_dt)]\n",
            "/Users/mirco/Documents/Tesi/code/models/DGDNN/Data/geometric_dataset_gen.py:133: FutureWarning: The behavior of 'isin' with dtype=datetime64[ns] and castable values (e.g. strings) is deprecated. In a future version, these will not be considered matching by isin. Explicitly cast to the appropriate dtype before calling isin instead.\n",
            "  df = df[df.index.isin(dates_dt)]\n",
            "/Users/mirco/Documents/Tesi/code/models/DGDNN/Data/geometric_dataset_gen.py:133: FutureWarning: The behavior of 'isin' with dtype=datetime64[ns] and castable values (e.g. strings) is deprecated. In a future version, these will not be considered matching by isin. Explicitly cast to the appropriate dtype before calling isin instead.\n",
            "  df = df[df.index.isin(dates_dt)]\n",
            "/Users/mirco/Documents/Tesi/code/models/DGDNN/Data/geometric_dataset_gen.py:133: FutureWarning: The behavior of 'isin' with dtype=datetime64[ns] and castable values (e.g. strings) is deprecated. In a future version, these will not be considered matching by isin. Explicitly cast to the appropriate dtype before calling isin instead.\n",
            "  df = df[df.index.isin(dates_dt)]\n",
            " 56%|█████▋    | 235/416 [03:04<02:22,  1.27it/s]"
          ]
        },
        {
          "name": "stdout",
          "output_type": "stream",
          "text": [
            "Generating graph 235/416...\n"
          ]
        },
        {
          "name": "stderr",
          "output_type": "stream",
          "text": [
            "/Users/mirco/Documents/Tesi/code/models/DGDNN/Data/geometric_dataset_gen.py:133: FutureWarning: The behavior of 'isin' with dtype=datetime64[ns] and castable values (e.g. strings) is deprecated. In a future version, these will not be considered matching by isin. Explicitly cast to the appropriate dtype before calling isin instead.\n",
            "  df = df[df.index.isin(dates_dt)]\n",
            "/Users/mirco/Documents/Tesi/code/models/DGDNN/Data/geometric_dataset_gen.py:133: FutureWarning: The behavior of 'isin' with dtype=datetime64[ns] and castable values (e.g. strings) is deprecated. In a future version, these will not be considered matching by isin. Explicitly cast to the appropriate dtype before calling isin instead.\n",
            "  df = df[df.index.isin(dates_dt)]\n",
            "/Users/mirco/Documents/Tesi/code/models/DGDNN/Data/geometric_dataset_gen.py:133: FutureWarning: The behavior of 'isin' with dtype=datetime64[ns] and castable values (e.g. strings) is deprecated. In a future version, these will not be considered matching by isin. Explicitly cast to the appropriate dtype before calling isin instead.\n",
            "  df = df[df.index.isin(dates_dt)]\n",
            "/Users/mirco/Documents/Tesi/code/models/DGDNN/Data/geometric_dataset_gen.py:133: FutureWarning: The behavior of 'isin' with dtype=datetime64[ns] and castable values (e.g. strings) is deprecated. In a future version, these will not be considered matching by isin. Explicitly cast to the appropriate dtype before calling isin instead.\n",
            "  df = df[df.index.isin(dates_dt)]\n",
            " 57%|█████▋    | 236/416 [03:05<02:25,  1.24it/s]"
          ]
        },
        {
          "name": "stdout",
          "output_type": "stream",
          "text": [
            "Generating graph 236/416...\n"
          ]
        },
        {
          "name": "stderr",
          "output_type": "stream",
          "text": [
            "/Users/mirco/Documents/Tesi/code/models/DGDNN/Data/geometric_dataset_gen.py:133: FutureWarning: The behavior of 'isin' with dtype=datetime64[ns] and castable values (e.g. strings) is deprecated. In a future version, these will not be considered matching by isin. Explicitly cast to the appropriate dtype before calling isin instead.\n",
            "  df = df[df.index.isin(dates_dt)]\n",
            "/Users/mirco/Documents/Tesi/code/models/DGDNN/Data/geometric_dataset_gen.py:133: FutureWarning: The behavior of 'isin' with dtype=datetime64[ns] and castable values (e.g. strings) is deprecated. In a future version, these will not be considered matching by isin. Explicitly cast to the appropriate dtype before calling isin instead.\n",
            "  df = df[df.index.isin(dates_dt)]\n",
            "/Users/mirco/Documents/Tesi/code/models/DGDNN/Data/geometric_dataset_gen.py:133: FutureWarning: The behavior of 'isin' with dtype=datetime64[ns] and castable values (e.g. strings) is deprecated. In a future version, these will not be considered matching by isin. Explicitly cast to the appropriate dtype before calling isin instead.\n",
            "  df = df[df.index.isin(dates_dt)]\n",
            "/Users/mirco/Documents/Tesi/code/models/DGDNN/Data/geometric_dataset_gen.py:133: FutureWarning: The behavior of 'isin' with dtype=datetime64[ns] and castable values (e.g. strings) is deprecated. In a future version, these will not be considered matching by isin. Explicitly cast to the appropriate dtype before calling isin instead.\n",
            "  df = df[df.index.isin(dates_dt)]\n",
            " 57%|█████▋    | 237/416 [03:06<02:21,  1.27it/s]"
          ]
        },
        {
          "name": "stdout",
          "output_type": "stream",
          "text": [
            "Generating graph 237/416...\n"
          ]
        },
        {
          "name": "stderr",
          "output_type": "stream",
          "text": [
            "/Users/mirco/Documents/Tesi/code/models/DGDNN/Data/geometric_dataset_gen.py:133: FutureWarning: The behavior of 'isin' with dtype=datetime64[ns] and castable values (e.g. strings) is deprecated. In a future version, these will not be considered matching by isin. Explicitly cast to the appropriate dtype before calling isin instead.\n",
            "  df = df[df.index.isin(dates_dt)]\n",
            "/Users/mirco/Documents/Tesi/code/models/DGDNN/Data/geometric_dataset_gen.py:133: FutureWarning: The behavior of 'isin' with dtype=datetime64[ns] and castable values (e.g. strings) is deprecated. In a future version, these will not be considered matching by isin. Explicitly cast to the appropriate dtype before calling isin instead.\n",
            "  df = df[df.index.isin(dates_dt)]\n",
            "/Users/mirco/Documents/Tesi/code/models/DGDNN/Data/geometric_dataset_gen.py:133: FutureWarning: The behavior of 'isin' with dtype=datetime64[ns] and castable values (e.g. strings) is deprecated. In a future version, these will not be considered matching by isin. Explicitly cast to the appropriate dtype before calling isin instead.\n",
            "  df = df[df.index.isin(dates_dt)]\n",
            "/Users/mirco/Documents/Tesi/code/models/DGDNN/Data/geometric_dataset_gen.py:133: FutureWarning: The behavior of 'isin' with dtype=datetime64[ns] and castable values (e.g. strings) is deprecated. In a future version, these will not be considered matching by isin. Explicitly cast to the appropriate dtype before calling isin instead.\n",
            "  df = df[df.index.isin(dates_dt)]\n",
            " 57%|█████▋    | 238/416 [03:06<02:17,  1.30it/s]"
          ]
        },
        {
          "name": "stdout",
          "output_type": "stream",
          "text": [
            "Generating graph 238/416...\n"
          ]
        },
        {
          "name": "stderr",
          "output_type": "stream",
          "text": [
            "/Users/mirco/Documents/Tesi/code/models/DGDNN/Data/geometric_dataset_gen.py:133: FutureWarning: The behavior of 'isin' with dtype=datetime64[ns] and castable values (e.g. strings) is deprecated. In a future version, these will not be considered matching by isin. Explicitly cast to the appropriate dtype before calling isin instead.\n",
            "  df = df[df.index.isin(dates_dt)]\n",
            "/Users/mirco/Documents/Tesi/code/models/DGDNN/Data/geometric_dataset_gen.py:133: FutureWarning: The behavior of 'isin' with dtype=datetime64[ns] and castable values (e.g. strings) is deprecated. In a future version, these will not be considered matching by isin. Explicitly cast to the appropriate dtype before calling isin instead.\n",
            "  df = df[df.index.isin(dates_dt)]\n",
            "/Users/mirco/Documents/Tesi/code/models/DGDNN/Data/geometric_dataset_gen.py:133: FutureWarning: The behavior of 'isin' with dtype=datetime64[ns] and castable values (e.g. strings) is deprecated. In a future version, these will not be considered matching by isin. Explicitly cast to the appropriate dtype before calling isin instead.\n",
            "  df = df[df.index.isin(dates_dt)]\n",
            "/Users/mirco/Documents/Tesi/code/models/DGDNN/Data/geometric_dataset_gen.py:133: FutureWarning: The behavior of 'isin' with dtype=datetime64[ns] and castable values (e.g. strings) is deprecated. In a future version, these will not be considered matching by isin. Explicitly cast to the appropriate dtype before calling isin instead.\n",
            "  df = df[df.index.isin(dates_dt)]\n",
            " 57%|█████▋    | 239/416 [03:07<02:20,  1.26it/s]"
          ]
        },
        {
          "name": "stdout",
          "output_type": "stream",
          "text": [
            "Generating graph 239/416...\n"
          ]
        },
        {
          "name": "stderr",
          "output_type": "stream",
          "text": [
            "/Users/mirco/Documents/Tesi/code/models/DGDNN/Data/geometric_dataset_gen.py:133: FutureWarning: The behavior of 'isin' with dtype=datetime64[ns] and castable values (e.g. strings) is deprecated. In a future version, these will not be considered matching by isin. Explicitly cast to the appropriate dtype before calling isin instead.\n",
            "  df = df[df.index.isin(dates_dt)]\n",
            "/Users/mirco/Documents/Tesi/code/models/DGDNN/Data/geometric_dataset_gen.py:133: FutureWarning: The behavior of 'isin' with dtype=datetime64[ns] and castable values (e.g. strings) is deprecated. In a future version, these will not be considered matching by isin. Explicitly cast to the appropriate dtype before calling isin instead.\n",
            "  df = df[df.index.isin(dates_dt)]\n",
            "/Users/mirco/Documents/Tesi/code/models/DGDNN/Data/geometric_dataset_gen.py:133: FutureWarning: The behavior of 'isin' with dtype=datetime64[ns] and castable values (e.g. strings) is deprecated. In a future version, these will not be considered matching by isin. Explicitly cast to the appropriate dtype before calling isin instead.\n",
            "  df = df[df.index.isin(dates_dt)]\n",
            "/Users/mirco/Documents/Tesi/code/models/DGDNN/Data/geometric_dataset_gen.py:133: FutureWarning: The behavior of 'isin' with dtype=datetime64[ns] and castable values (e.g. strings) is deprecated. In a future version, these will not be considered matching by isin. Explicitly cast to the appropriate dtype before calling isin instead.\n",
            "  df = df[df.index.isin(dates_dt)]\n",
            " 58%|█████▊    | 240/416 [03:08<02:16,  1.29it/s]"
          ]
        },
        {
          "name": "stdout",
          "output_type": "stream",
          "text": [
            "Generating graph 240/416...\n"
          ]
        },
        {
          "name": "stderr",
          "output_type": "stream",
          "text": [
            "/Users/mirco/Documents/Tesi/code/models/DGDNN/Data/geometric_dataset_gen.py:133: FutureWarning: The behavior of 'isin' with dtype=datetime64[ns] and castable values (e.g. strings) is deprecated. In a future version, these will not be considered matching by isin. Explicitly cast to the appropriate dtype before calling isin instead.\n",
            "  df = df[df.index.isin(dates_dt)]\n",
            "/Users/mirco/Documents/Tesi/code/models/DGDNN/Data/geometric_dataset_gen.py:133: FutureWarning: The behavior of 'isin' with dtype=datetime64[ns] and castable values (e.g. strings) is deprecated. In a future version, these will not be considered matching by isin. Explicitly cast to the appropriate dtype before calling isin instead.\n",
            "  df = df[df.index.isin(dates_dt)]\n",
            "/Users/mirco/Documents/Tesi/code/models/DGDNN/Data/geometric_dataset_gen.py:133: FutureWarning: The behavior of 'isin' with dtype=datetime64[ns] and castable values (e.g. strings) is deprecated. In a future version, these will not be considered matching by isin. Explicitly cast to the appropriate dtype before calling isin instead.\n",
            "  df = df[df.index.isin(dates_dt)]\n",
            "/Users/mirco/Documents/Tesi/code/models/DGDNN/Data/geometric_dataset_gen.py:133: FutureWarning: The behavior of 'isin' with dtype=datetime64[ns] and castable values (e.g. strings) is deprecated. In a future version, these will not be considered matching by isin. Explicitly cast to the appropriate dtype before calling isin instead.\n",
            "  df = df[df.index.isin(dates_dt)]\n",
            " 58%|█████▊    | 241/416 [03:09<02:12,  1.32it/s]"
          ]
        },
        {
          "name": "stdout",
          "output_type": "stream",
          "text": [
            "Generating graph 241/416...\n"
          ]
        },
        {
          "name": "stderr",
          "output_type": "stream",
          "text": [
            "/Users/mirco/Documents/Tesi/code/models/DGDNN/Data/geometric_dataset_gen.py:133: FutureWarning: The behavior of 'isin' with dtype=datetime64[ns] and castable values (e.g. strings) is deprecated. In a future version, these will not be considered matching by isin. Explicitly cast to the appropriate dtype before calling isin instead.\n",
            "  df = df[df.index.isin(dates_dt)]\n",
            "/Users/mirco/Documents/Tesi/code/models/DGDNN/Data/geometric_dataset_gen.py:133: FutureWarning: The behavior of 'isin' with dtype=datetime64[ns] and castable values (e.g. strings) is deprecated. In a future version, these will not be considered matching by isin. Explicitly cast to the appropriate dtype before calling isin instead.\n",
            "  df = df[df.index.isin(dates_dt)]\n",
            "/Users/mirco/Documents/Tesi/code/models/DGDNN/Data/geometric_dataset_gen.py:133: FutureWarning: The behavior of 'isin' with dtype=datetime64[ns] and castable values (e.g. strings) is deprecated. In a future version, these will not be considered matching by isin. Explicitly cast to the appropriate dtype before calling isin instead.\n",
            "  df = df[df.index.isin(dates_dt)]\n",
            "/Users/mirco/Documents/Tesi/code/models/DGDNN/Data/geometric_dataset_gen.py:133: FutureWarning: The behavior of 'isin' with dtype=datetime64[ns] and castable values (e.g. strings) is deprecated. In a future version, these will not be considered matching by isin. Explicitly cast to the appropriate dtype before calling isin instead.\n",
            "  df = df[df.index.isin(dates_dt)]\n",
            " 58%|█████▊    | 242/416 [03:09<02:18,  1.25it/s]"
          ]
        },
        {
          "name": "stdout",
          "output_type": "stream",
          "text": [
            "Generating graph 242/416...\n"
          ]
        },
        {
          "name": "stderr",
          "output_type": "stream",
          "text": [
            "/Users/mirco/Documents/Tesi/code/models/DGDNN/Data/geometric_dataset_gen.py:133: FutureWarning: The behavior of 'isin' with dtype=datetime64[ns] and castable values (e.g. strings) is deprecated. In a future version, these will not be considered matching by isin. Explicitly cast to the appropriate dtype before calling isin instead.\n",
            "  df = df[df.index.isin(dates_dt)]\n",
            "/Users/mirco/Documents/Tesi/code/models/DGDNN/Data/geometric_dataset_gen.py:133: FutureWarning: The behavior of 'isin' with dtype=datetime64[ns] and castable values (e.g. strings) is deprecated. In a future version, these will not be considered matching by isin. Explicitly cast to the appropriate dtype before calling isin instead.\n",
            "  df = df[df.index.isin(dates_dt)]\n",
            "/Users/mirco/Documents/Tesi/code/models/DGDNN/Data/geometric_dataset_gen.py:133: FutureWarning: The behavior of 'isin' with dtype=datetime64[ns] and castable values (e.g. strings) is deprecated. In a future version, these will not be considered matching by isin. Explicitly cast to the appropriate dtype before calling isin instead.\n",
            "  df = df[df.index.isin(dates_dt)]\n",
            "/Users/mirco/Documents/Tesi/code/models/DGDNN/Data/geometric_dataset_gen.py:133: FutureWarning: The behavior of 'isin' with dtype=datetime64[ns] and castable values (e.g. strings) is deprecated. In a future version, these will not be considered matching by isin. Explicitly cast to the appropriate dtype before calling isin instead.\n",
            "  df = df[df.index.isin(dates_dt)]\n",
            " 58%|█████▊    | 243/416 [03:10<02:14,  1.29it/s]"
          ]
        },
        {
          "name": "stdout",
          "output_type": "stream",
          "text": [
            "Generating graph 243/416...\n"
          ]
        },
        {
          "name": "stderr",
          "output_type": "stream",
          "text": [
            "/Users/mirco/Documents/Tesi/code/models/DGDNN/Data/geometric_dataset_gen.py:133: FutureWarning: The behavior of 'isin' with dtype=datetime64[ns] and castable values (e.g. strings) is deprecated. In a future version, these will not be considered matching by isin. Explicitly cast to the appropriate dtype before calling isin instead.\n",
            "  df = df[df.index.isin(dates_dt)]\n",
            "/Users/mirco/Documents/Tesi/code/models/DGDNN/Data/geometric_dataset_gen.py:133: FutureWarning: The behavior of 'isin' with dtype=datetime64[ns] and castable values (e.g. strings) is deprecated. In a future version, these will not be considered matching by isin. Explicitly cast to the appropriate dtype before calling isin instead.\n",
            "  df = df[df.index.isin(dates_dt)]\n",
            "/Users/mirco/Documents/Tesi/code/models/DGDNN/Data/geometric_dataset_gen.py:133: FutureWarning: The behavior of 'isin' with dtype=datetime64[ns] and castable values (e.g. strings) is deprecated. In a future version, these will not be considered matching by isin. Explicitly cast to the appropriate dtype before calling isin instead.\n",
            "  df = df[df.index.isin(dates_dt)]\n",
            "/Users/mirco/Documents/Tesi/code/models/DGDNN/Data/geometric_dataset_gen.py:133: FutureWarning: The behavior of 'isin' with dtype=datetime64[ns] and castable values (e.g. strings) is deprecated. In a future version, these will not be considered matching by isin. Explicitly cast to the appropriate dtype before calling isin instead.\n",
            "  df = df[df.index.isin(dates_dt)]\n",
            " 59%|█████▊    | 244/416 [03:11<02:10,  1.32it/s]"
          ]
        },
        {
          "name": "stdout",
          "output_type": "stream",
          "text": [
            "Generating graph 244/416...\n"
          ]
        },
        {
          "name": "stderr",
          "output_type": "stream",
          "text": [
            "/Users/mirco/Documents/Tesi/code/models/DGDNN/Data/geometric_dataset_gen.py:133: FutureWarning: The behavior of 'isin' with dtype=datetime64[ns] and castable values (e.g. strings) is deprecated. In a future version, these will not be considered matching by isin. Explicitly cast to the appropriate dtype before calling isin instead.\n",
            "  df = df[df.index.isin(dates_dt)]\n",
            "/Users/mirco/Documents/Tesi/code/models/DGDNN/Data/geometric_dataset_gen.py:133: FutureWarning: The behavior of 'isin' with dtype=datetime64[ns] and castable values (e.g. strings) is deprecated. In a future version, these will not be considered matching by isin. Explicitly cast to the appropriate dtype before calling isin instead.\n",
            "  df = df[df.index.isin(dates_dt)]\n",
            "/Users/mirco/Documents/Tesi/code/models/DGDNN/Data/geometric_dataset_gen.py:133: FutureWarning: The behavior of 'isin' with dtype=datetime64[ns] and castable values (e.g. strings) is deprecated. In a future version, these will not be considered matching by isin. Explicitly cast to the appropriate dtype before calling isin instead.\n",
            "  df = df[df.index.isin(dates_dt)]\n",
            "/Users/mirco/Documents/Tesi/code/models/DGDNN/Data/geometric_dataset_gen.py:133: FutureWarning: The behavior of 'isin' with dtype=datetime64[ns] and castable values (e.g. strings) is deprecated. In a future version, these will not be considered matching by isin. Explicitly cast to the appropriate dtype before calling isin instead.\n",
            "  df = df[df.index.isin(dates_dt)]\n",
            " 59%|█████▉    | 245/416 [03:12<02:10,  1.31it/s]"
          ]
        },
        {
          "name": "stdout",
          "output_type": "stream",
          "text": [
            "Generating graph 245/416...\n"
          ]
        },
        {
          "name": "stderr",
          "output_type": "stream",
          "text": [
            "/Users/mirco/Documents/Tesi/code/models/DGDNN/Data/geometric_dataset_gen.py:133: FutureWarning: The behavior of 'isin' with dtype=datetime64[ns] and castable values (e.g. strings) is deprecated. In a future version, these will not be considered matching by isin. Explicitly cast to the appropriate dtype before calling isin instead.\n",
            "  df = df[df.index.isin(dates_dt)]\n",
            "/Users/mirco/Documents/Tesi/code/models/DGDNN/Data/geometric_dataset_gen.py:133: FutureWarning: The behavior of 'isin' with dtype=datetime64[ns] and castable values (e.g. strings) is deprecated. In a future version, these will not be considered matching by isin. Explicitly cast to the appropriate dtype before calling isin instead.\n",
            "  df = df[df.index.isin(dates_dt)]\n",
            "/Users/mirco/Documents/Tesi/code/models/DGDNN/Data/geometric_dataset_gen.py:133: FutureWarning: The behavior of 'isin' with dtype=datetime64[ns] and castable values (e.g. strings) is deprecated. In a future version, these will not be considered matching by isin. Explicitly cast to the appropriate dtype before calling isin instead.\n",
            "  df = df[df.index.isin(dates_dt)]\n",
            "/Users/mirco/Documents/Tesi/code/models/DGDNN/Data/geometric_dataset_gen.py:133: FutureWarning: The behavior of 'isin' with dtype=datetime64[ns] and castable values (e.g. strings) is deprecated. In a future version, these will not be considered matching by isin. Explicitly cast to the appropriate dtype before calling isin instead.\n",
            "  df = df[df.index.isin(dates_dt)]\n",
            " 59%|█████▉    | 246/416 [03:13<02:18,  1.22it/s]"
          ]
        },
        {
          "name": "stdout",
          "output_type": "stream",
          "text": [
            "Generating graph 246/416...\n"
          ]
        },
        {
          "name": "stderr",
          "output_type": "stream",
          "text": [
            "/Users/mirco/Documents/Tesi/code/models/DGDNN/Data/geometric_dataset_gen.py:133: FutureWarning: The behavior of 'isin' with dtype=datetime64[ns] and castable values (e.g. strings) is deprecated. In a future version, these will not be considered matching by isin. Explicitly cast to the appropriate dtype before calling isin instead.\n",
            "  df = df[df.index.isin(dates_dt)]\n",
            "/Users/mirco/Documents/Tesi/code/models/DGDNN/Data/geometric_dataset_gen.py:133: FutureWarning: The behavior of 'isin' with dtype=datetime64[ns] and castable values (e.g. strings) is deprecated. In a future version, these will not be considered matching by isin. Explicitly cast to the appropriate dtype before calling isin instead.\n",
            "  df = df[df.index.isin(dates_dt)]\n",
            "/Users/mirco/Documents/Tesi/code/models/DGDNN/Data/geometric_dataset_gen.py:133: FutureWarning: The behavior of 'isin' with dtype=datetime64[ns] and castable values (e.g. strings) is deprecated. In a future version, these will not be considered matching by isin. Explicitly cast to the appropriate dtype before calling isin instead.\n",
            "  df = df[df.index.isin(dates_dt)]\n",
            "/Users/mirco/Documents/Tesi/code/models/DGDNN/Data/geometric_dataset_gen.py:133: FutureWarning: The behavior of 'isin' with dtype=datetime64[ns] and castable values (e.g. strings) is deprecated. In a future version, these will not be considered matching by isin. Explicitly cast to the appropriate dtype before calling isin instead.\n",
            "  df = df[df.index.isin(dates_dt)]\n",
            " 59%|█████▉    | 247/416 [03:13<02:16,  1.24it/s]"
          ]
        },
        {
          "name": "stdout",
          "output_type": "stream",
          "text": [
            "Generating graph 247/416...\n"
          ]
        },
        {
          "name": "stderr",
          "output_type": "stream",
          "text": [
            "/Users/mirco/Documents/Tesi/code/models/DGDNN/Data/geometric_dataset_gen.py:133: FutureWarning: The behavior of 'isin' with dtype=datetime64[ns] and castable values (e.g. strings) is deprecated. In a future version, these will not be considered matching by isin. Explicitly cast to the appropriate dtype before calling isin instead.\n",
            "  df = df[df.index.isin(dates_dt)]\n",
            "/Users/mirco/Documents/Tesi/code/models/DGDNN/Data/geometric_dataset_gen.py:133: FutureWarning: The behavior of 'isin' with dtype=datetime64[ns] and castable values (e.g. strings) is deprecated. In a future version, these will not be considered matching by isin. Explicitly cast to the appropriate dtype before calling isin instead.\n",
            "  df = df[df.index.isin(dates_dt)]\n",
            "/Users/mirco/Documents/Tesi/code/models/DGDNN/Data/geometric_dataset_gen.py:133: FutureWarning: The behavior of 'isin' with dtype=datetime64[ns] and castable values (e.g. strings) is deprecated. In a future version, these will not be considered matching by isin. Explicitly cast to the appropriate dtype before calling isin instead.\n",
            "  df = df[df.index.isin(dates_dt)]\n",
            "/Users/mirco/Documents/Tesi/code/models/DGDNN/Data/geometric_dataset_gen.py:133: FutureWarning: The behavior of 'isin' with dtype=datetime64[ns] and castable values (e.g. strings) is deprecated. In a future version, these will not be considered matching by isin. Explicitly cast to the appropriate dtype before calling isin instead.\n",
            "  df = df[df.index.isin(dates_dt)]\n",
            " 60%|█████▉    | 248/416 [03:14<02:15,  1.24it/s]"
          ]
        },
        {
          "name": "stdout",
          "output_type": "stream",
          "text": [
            "Generating graph 248/416...\n"
          ]
        },
        {
          "name": "stderr",
          "output_type": "stream",
          "text": [
            "/Users/mirco/Documents/Tesi/code/models/DGDNN/Data/geometric_dataset_gen.py:133: FutureWarning: The behavior of 'isin' with dtype=datetime64[ns] and castable values (e.g. strings) is deprecated. In a future version, these will not be considered matching by isin. Explicitly cast to the appropriate dtype before calling isin instead.\n",
            "  df = df[df.index.isin(dates_dt)]\n",
            "/Users/mirco/Documents/Tesi/code/models/DGDNN/Data/geometric_dataset_gen.py:133: FutureWarning: The behavior of 'isin' with dtype=datetime64[ns] and castable values (e.g. strings) is deprecated. In a future version, these will not be considered matching by isin. Explicitly cast to the appropriate dtype before calling isin instead.\n",
            "  df = df[df.index.isin(dates_dt)]\n",
            "/Users/mirco/Documents/Tesi/code/models/DGDNN/Data/geometric_dataset_gen.py:133: FutureWarning: The behavior of 'isin' with dtype=datetime64[ns] and castable values (e.g. strings) is deprecated. In a future version, these will not be considered matching by isin. Explicitly cast to the appropriate dtype before calling isin instead.\n",
            "  df = df[df.index.isin(dates_dt)]\n",
            "/Users/mirco/Documents/Tesi/code/models/DGDNN/Data/geometric_dataset_gen.py:133: FutureWarning: The behavior of 'isin' with dtype=datetime64[ns] and castable values (e.g. strings) is deprecated. In a future version, these will not be considered matching by isin. Explicitly cast to the appropriate dtype before calling isin instead.\n",
            "  df = df[df.index.isin(dates_dt)]\n",
            " 60%|█████▉    | 249/416 [03:15<02:18,  1.20it/s]"
          ]
        },
        {
          "name": "stdout",
          "output_type": "stream",
          "text": [
            "Generating graph 249/416...\n"
          ]
        },
        {
          "name": "stderr",
          "output_type": "stream",
          "text": [
            "/Users/mirco/Documents/Tesi/code/models/DGDNN/Data/geometric_dataset_gen.py:133: FutureWarning: The behavior of 'isin' with dtype=datetime64[ns] and castable values (e.g. strings) is deprecated. In a future version, these will not be considered matching by isin. Explicitly cast to the appropriate dtype before calling isin instead.\n",
            "  df = df[df.index.isin(dates_dt)]\n",
            "/Users/mirco/Documents/Tesi/code/models/DGDNN/Data/geometric_dataset_gen.py:133: FutureWarning: The behavior of 'isin' with dtype=datetime64[ns] and castable values (e.g. strings) is deprecated. In a future version, these will not be considered matching by isin. Explicitly cast to the appropriate dtype before calling isin instead.\n",
            "  df = df[df.index.isin(dates_dt)]\n",
            "/Users/mirco/Documents/Tesi/code/models/DGDNN/Data/geometric_dataset_gen.py:133: FutureWarning: The behavior of 'isin' with dtype=datetime64[ns] and castable values (e.g. strings) is deprecated. In a future version, these will not be considered matching by isin. Explicitly cast to the appropriate dtype before calling isin instead.\n",
            "  df = df[df.index.isin(dates_dt)]\n",
            "/Users/mirco/Documents/Tesi/code/models/DGDNN/Data/geometric_dataset_gen.py:133: FutureWarning: The behavior of 'isin' with dtype=datetime64[ns] and castable values (e.g. strings) is deprecated. In a future version, these will not be considered matching by isin. Explicitly cast to the appropriate dtype before calling isin instead.\n",
            "  df = df[df.index.isin(dates_dt)]\n",
            " 60%|██████    | 250/416 [03:16<02:16,  1.22it/s]"
          ]
        },
        {
          "name": "stdout",
          "output_type": "stream",
          "text": [
            "Generating graph 250/416...\n"
          ]
        },
        {
          "name": "stderr",
          "output_type": "stream",
          "text": [
            "/Users/mirco/Documents/Tesi/code/models/DGDNN/Data/geometric_dataset_gen.py:133: FutureWarning: The behavior of 'isin' with dtype=datetime64[ns] and castable values (e.g. strings) is deprecated. In a future version, these will not be considered matching by isin. Explicitly cast to the appropriate dtype before calling isin instead.\n",
            "  df = df[df.index.isin(dates_dt)]\n",
            "/Users/mirco/Documents/Tesi/code/models/DGDNN/Data/geometric_dataset_gen.py:133: FutureWarning: The behavior of 'isin' with dtype=datetime64[ns] and castable values (e.g. strings) is deprecated. In a future version, these will not be considered matching by isin. Explicitly cast to the appropriate dtype before calling isin instead.\n",
            "  df = df[df.index.isin(dates_dt)]\n",
            "/Users/mirco/Documents/Tesi/code/models/DGDNN/Data/geometric_dataset_gen.py:133: FutureWarning: The behavior of 'isin' with dtype=datetime64[ns] and castable values (e.g. strings) is deprecated. In a future version, these will not be considered matching by isin. Explicitly cast to the appropriate dtype before calling isin instead.\n",
            "  df = df[df.index.isin(dates_dt)]\n",
            "/Users/mirco/Documents/Tesi/code/models/DGDNN/Data/geometric_dataset_gen.py:133: FutureWarning: The behavior of 'isin' with dtype=datetime64[ns] and castable values (e.g. strings) is deprecated. In a future version, these will not be considered matching by isin. Explicitly cast to the appropriate dtype before calling isin instead.\n",
            "  df = df[df.index.isin(dates_dt)]\n",
            " 60%|██████    | 251/416 [03:17<02:13,  1.24it/s]"
          ]
        },
        {
          "name": "stdout",
          "output_type": "stream",
          "text": [
            "Generating graph 251/416...\n"
          ]
        },
        {
          "name": "stderr",
          "output_type": "stream",
          "text": [
            "/Users/mirco/Documents/Tesi/code/models/DGDNN/Data/geometric_dataset_gen.py:133: FutureWarning: The behavior of 'isin' with dtype=datetime64[ns] and castable values (e.g. strings) is deprecated. In a future version, these will not be considered matching by isin. Explicitly cast to the appropriate dtype before calling isin instead.\n",
            "  df = df[df.index.isin(dates_dt)]\n",
            "/Users/mirco/Documents/Tesi/code/models/DGDNN/Data/geometric_dataset_gen.py:133: FutureWarning: The behavior of 'isin' with dtype=datetime64[ns] and castable values (e.g. strings) is deprecated. In a future version, these will not be considered matching by isin. Explicitly cast to the appropriate dtype before calling isin instead.\n",
            "  df = df[df.index.isin(dates_dt)]\n",
            "/Users/mirco/Documents/Tesi/code/models/DGDNN/Data/geometric_dataset_gen.py:133: FutureWarning: The behavior of 'isin' with dtype=datetime64[ns] and castable values (e.g. strings) is deprecated. In a future version, these will not be considered matching by isin. Explicitly cast to the appropriate dtype before calling isin instead.\n",
            "  df = df[df.index.isin(dates_dt)]\n",
            "/Users/mirco/Documents/Tesi/code/models/DGDNN/Data/geometric_dataset_gen.py:133: FutureWarning: The behavior of 'isin' with dtype=datetime64[ns] and castable values (e.g. strings) is deprecated. In a future version, these will not be considered matching by isin. Explicitly cast to the appropriate dtype before calling isin instead.\n",
            "  df = df[df.index.isin(dates_dt)]\n",
            " 61%|██████    | 252/416 [03:18<02:12,  1.24it/s]"
          ]
        },
        {
          "name": "stdout",
          "output_type": "stream",
          "text": [
            "Generating graph 252/416...\n"
          ]
        },
        {
          "name": "stderr",
          "output_type": "stream",
          "text": [
            "/Users/mirco/Documents/Tesi/code/models/DGDNN/Data/geometric_dataset_gen.py:133: FutureWarning: The behavior of 'isin' with dtype=datetime64[ns] and castable values (e.g. strings) is deprecated. In a future version, these will not be considered matching by isin. Explicitly cast to the appropriate dtype before calling isin instead.\n",
            "  df = df[df.index.isin(dates_dt)]\n",
            "/Users/mirco/Documents/Tesi/code/models/DGDNN/Data/geometric_dataset_gen.py:133: FutureWarning: The behavior of 'isin' with dtype=datetime64[ns] and castable values (e.g. strings) is deprecated. In a future version, these will not be considered matching by isin. Explicitly cast to the appropriate dtype before calling isin instead.\n",
            "  df = df[df.index.isin(dates_dt)]\n",
            "/Users/mirco/Documents/Tesi/code/models/DGDNN/Data/geometric_dataset_gen.py:133: FutureWarning: The behavior of 'isin' with dtype=datetime64[ns] and castable values (e.g. strings) is deprecated. In a future version, these will not be considered matching by isin. Explicitly cast to the appropriate dtype before calling isin instead.\n",
            "  df = df[df.index.isin(dates_dt)]\n",
            "/Users/mirco/Documents/Tesi/code/models/DGDNN/Data/geometric_dataset_gen.py:133: FutureWarning: The behavior of 'isin' with dtype=datetime64[ns] and castable values (e.g. strings) is deprecated. In a future version, these will not be considered matching by isin. Explicitly cast to the appropriate dtype before calling isin instead.\n",
            "  df = df[df.index.isin(dates_dt)]\n",
            " 61%|██████    | 253/416 [03:18<02:19,  1.17it/s]"
          ]
        },
        {
          "name": "stdout",
          "output_type": "stream",
          "text": [
            "Generating graph 253/416...\n"
          ]
        },
        {
          "name": "stderr",
          "output_type": "stream",
          "text": [
            "/Users/mirco/Documents/Tesi/code/models/DGDNN/Data/geometric_dataset_gen.py:133: FutureWarning: The behavior of 'isin' with dtype=datetime64[ns] and castable values (e.g. strings) is deprecated. In a future version, these will not be considered matching by isin. Explicitly cast to the appropriate dtype before calling isin instead.\n",
            "  df = df[df.index.isin(dates_dt)]\n",
            "/Users/mirco/Documents/Tesi/code/models/DGDNN/Data/geometric_dataset_gen.py:133: FutureWarning: The behavior of 'isin' with dtype=datetime64[ns] and castable values (e.g. strings) is deprecated. In a future version, these will not be considered matching by isin. Explicitly cast to the appropriate dtype before calling isin instead.\n",
            "  df = df[df.index.isin(dates_dt)]\n",
            "/Users/mirco/Documents/Tesi/code/models/DGDNN/Data/geometric_dataset_gen.py:133: FutureWarning: The behavior of 'isin' with dtype=datetime64[ns] and castable values (e.g. strings) is deprecated. In a future version, these will not be considered matching by isin. Explicitly cast to the appropriate dtype before calling isin instead.\n",
            "  df = df[df.index.isin(dates_dt)]\n",
            "/Users/mirco/Documents/Tesi/code/models/DGDNN/Data/geometric_dataset_gen.py:133: FutureWarning: The behavior of 'isin' with dtype=datetime64[ns] and castable values (e.g. strings) is deprecated. In a future version, these will not be considered matching by isin. Explicitly cast to the appropriate dtype before calling isin instead.\n",
            "  df = df[df.index.isin(dates_dt)]\n",
            " 61%|██████    | 254/416 [03:19<02:15,  1.19it/s]"
          ]
        },
        {
          "name": "stdout",
          "output_type": "stream",
          "text": [
            "Generating graph 254/416...\n"
          ]
        },
        {
          "name": "stderr",
          "output_type": "stream",
          "text": [
            "/Users/mirco/Documents/Tesi/code/models/DGDNN/Data/geometric_dataset_gen.py:133: FutureWarning: The behavior of 'isin' with dtype=datetime64[ns] and castable values (e.g. strings) is deprecated. In a future version, these will not be considered matching by isin. Explicitly cast to the appropriate dtype before calling isin instead.\n",
            "  df = df[df.index.isin(dates_dt)]\n",
            "/Users/mirco/Documents/Tesi/code/models/DGDNN/Data/geometric_dataset_gen.py:133: FutureWarning: The behavior of 'isin' with dtype=datetime64[ns] and castable values (e.g. strings) is deprecated. In a future version, these will not be considered matching by isin. Explicitly cast to the appropriate dtype before calling isin instead.\n",
            "  df = df[df.index.isin(dates_dt)]\n",
            "/Users/mirco/Documents/Tesi/code/models/DGDNN/Data/geometric_dataset_gen.py:133: FutureWarning: The behavior of 'isin' with dtype=datetime64[ns] and castable values (e.g. strings) is deprecated. In a future version, these will not be considered matching by isin. Explicitly cast to the appropriate dtype before calling isin instead.\n",
            "  df = df[df.index.isin(dates_dt)]\n",
            "/Users/mirco/Documents/Tesi/code/models/DGDNN/Data/geometric_dataset_gen.py:133: FutureWarning: The behavior of 'isin' with dtype=datetime64[ns] and castable values (e.g. strings) is deprecated. In a future version, these will not be considered matching by isin. Explicitly cast to the appropriate dtype before calling isin instead.\n",
            "  df = df[df.index.isin(dates_dt)]\n",
            " 61%|██████▏   | 255/416 [03:20<02:14,  1.20it/s]"
          ]
        },
        {
          "name": "stdout",
          "output_type": "stream",
          "text": [
            "Generating graph 255/416...\n"
          ]
        },
        {
          "name": "stderr",
          "output_type": "stream",
          "text": [
            "/Users/mirco/Documents/Tesi/code/models/DGDNN/Data/geometric_dataset_gen.py:133: FutureWarning: The behavior of 'isin' with dtype=datetime64[ns] and castable values (e.g. strings) is deprecated. In a future version, these will not be considered matching by isin. Explicitly cast to the appropriate dtype before calling isin instead.\n",
            "  df = df[df.index.isin(dates_dt)]\n",
            "/Users/mirco/Documents/Tesi/code/models/DGDNN/Data/geometric_dataset_gen.py:133: FutureWarning: The behavior of 'isin' with dtype=datetime64[ns] and castable values (e.g. strings) is deprecated. In a future version, these will not be considered matching by isin. Explicitly cast to the appropriate dtype before calling isin instead.\n",
            "  df = df[df.index.isin(dates_dt)]\n",
            "/Users/mirco/Documents/Tesi/code/models/DGDNN/Data/geometric_dataset_gen.py:133: FutureWarning: The behavior of 'isin' with dtype=datetime64[ns] and castable values (e.g. strings) is deprecated. In a future version, these will not be considered matching by isin. Explicitly cast to the appropriate dtype before calling isin instead.\n",
            "  df = df[df.index.isin(dates_dt)]\n",
            "/Users/mirco/Documents/Tesi/code/models/DGDNN/Data/geometric_dataset_gen.py:133: FutureWarning: The behavior of 'isin' with dtype=datetime64[ns] and castable values (e.g. strings) is deprecated. In a future version, these will not be considered matching by isin. Explicitly cast to the appropriate dtype before calling isin instead.\n",
            "  df = df[df.index.isin(dates_dt)]\n",
            " 62%|██████▏   | 256/416 [03:21<02:18,  1.15it/s]"
          ]
        },
        {
          "name": "stdout",
          "output_type": "stream",
          "text": [
            "Generating graph 256/416...\n"
          ]
        },
        {
          "name": "stderr",
          "output_type": "stream",
          "text": [
            "/Users/mirco/Documents/Tesi/code/models/DGDNN/Data/geometric_dataset_gen.py:133: FutureWarning: The behavior of 'isin' with dtype=datetime64[ns] and castable values (e.g. strings) is deprecated. In a future version, these will not be considered matching by isin. Explicitly cast to the appropriate dtype before calling isin instead.\n",
            "  df = df[df.index.isin(dates_dt)]\n",
            "/Users/mirco/Documents/Tesi/code/models/DGDNN/Data/geometric_dataset_gen.py:133: FutureWarning: The behavior of 'isin' with dtype=datetime64[ns] and castable values (e.g. strings) is deprecated. In a future version, these will not be considered matching by isin. Explicitly cast to the appropriate dtype before calling isin instead.\n",
            "  df = df[df.index.isin(dates_dt)]\n",
            "/Users/mirco/Documents/Tesi/code/models/DGDNN/Data/geometric_dataset_gen.py:133: FutureWarning: The behavior of 'isin' with dtype=datetime64[ns] and castable values (e.g. strings) is deprecated. In a future version, these will not be considered matching by isin. Explicitly cast to the appropriate dtype before calling isin instead.\n",
            "  df = df[df.index.isin(dates_dt)]\n",
            "/Users/mirco/Documents/Tesi/code/models/DGDNN/Data/geometric_dataset_gen.py:133: FutureWarning: The behavior of 'isin' with dtype=datetime64[ns] and castable values (e.g. strings) is deprecated. In a future version, these will not be considered matching by isin. Explicitly cast to the appropriate dtype before calling isin instead.\n",
            "  df = df[df.index.isin(dates_dt)]\n",
            " 62%|██████▏   | 257/416 [03:22<02:14,  1.18it/s]"
          ]
        },
        {
          "name": "stdout",
          "output_type": "stream",
          "text": [
            "Generating graph 257/416...\n"
          ]
        },
        {
          "name": "stderr",
          "output_type": "stream",
          "text": [
            "/Users/mirco/Documents/Tesi/code/models/DGDNN/Data/geometric_dataset_gen.py:133: FutureWarning: The behavior of 'isin' with dtype=datetime64[ns] and castable values (e.g. strings) is deprecated. In a future version, these will not be considered matching by isin. Explicitly cast to the appropriate dtype before calling isin instead.\n",
            "  df = df[df.index.isin(dates_dt)]\n",
            "/Users/mirco/Documents/Tesi/code/models/DGDNN/Data/geometric_dataset_gen.py:133: FutureWarning: The behavior of 'isin' with dtype=datetime64[ns] and castable values (e.g. strings) is deprecated. In a future version, these will not be considered matching by isin. Explicitly cast to the appropriate dtype before calling isin instead.\n",
            "  df = df[df.index.isin(dates_dt)]\n",
            "/Users/mirco/Documents/Tesi/code/models/DGDNN/Data/geometric_dataset_gen.py:133: FutureWarning: The behavior of 'isin' with dtype=datetime64[ns] and castable values (e.g. strings) is deprecated. In a future version, these will not be considered matching by isin. Explicitly cast to the appropriate dtype before calling isin instead.\n",
            "  df = df[df.index.isin(dates_dt)]\n",
            "/Users/mirco/Documents/Tesi/code/models/DGDNN/Data/geometric_dataset_gen.py:133: FutureWarning: The behavior of 'isin' with dtype=datetime64[ns] and castable values (e.g. strings) is deprecated. In a future version, these will not be considered matching by isin. Explicitly cast to the appropriate dtype before calling isin instead.\n",
            "  df = df[df.index.isin(dates_dt)]\n",
            " 62%|██████▏   | 258/416 [03:23<02:14,  1.18it/s]"
          ]
        },
        {
          "name": "stdout",
          "output_type": "stream",
          "text": [
            "Generating graph 258/416...\n"
          ]
        },
        {
          "name": "stderr",
          "output_type": "stream",
          "text": [
            "/Users/mirco/Documents/Tesi/code/models/DGDNN/Data/geometric_dataset_gen.py:133: FutureWarning: The behavior of 'isin' with dtype=datetime64[ns] and castable values (e.g. strings) is deprecated. In a future version, these will not be considered matching by isin. Explicitly cast to the appropriate dtype before calling isin instead.\n",
            "  df = df[df.index.isin(dates_dt)]\n",
            "/Users/mirco/Documents/Tesi/code/models/DGDNN/Data/geometric_dataset_gen.py:133: FutureWarning: The behavior of 'isin' with dtype=datetime64[ns] and castable values (e.g. strings) is deprecated. In a future version, these will not be considered matching by isin. Explicitly cast to the appropriate dtype before calling isin instead.\n",
            "  df = df[df.index.isin(dates_dt)]\n",
            "/Users/mirco/Documents/Tesi/code/models/DGDNN/Data/geometric_dataset_gen.py:133: FutureWarning: The behavior of 'isin' with dtype=datetime64[ns] and castable values (e.g. strings) is deprecated. In a future version, these will not be considered matching by isin. Explicitly cast to the appropriate dtype before calling isin instead.\n",
            "  df = df[df.index.isin(dates_dt)]\n",
            "/Users/mirco/Documents/Tesi/code/models/DGDNN/Data/geometric_dataset_gen.py:133: FutureWarning: The behavior of 'isin' with dtype=datetime64[ns] and castable values (e.g. strings) is deprecated. In a future version, these will not be considered matching by isin. Explicitly cast to the appropriate dtype before calling isin instead.\n",
            "  df = df[df.index.isin(dates_dt)]\n",
            " 62%|██████▏   | 259/416 [03:24<02:13,  1.17it/s]"
          ]
        },
        {
          "name": "stdout",
          "output_type": "stream",
          "text": [
            "Generating graph 259/416...\n"
          ]
        },
        {
          "name": "stderr",
          "output_type": "stream",
          "text": [
            "/Users/mirco/Documents/Tesi/code/models/DGDNN/Data/geometric_dataset_gen.py:133: FutureWarning: The behavior of 'isin' with dtype=datetime64[ns] and castable values (e.g. strings) is deprecated. In a future version, these will not be considered matching by isin. Explicitly cast to the appropriate dtype before calling isin instead.\n",
            "  df = df[df.index.isin(dates_dt)]\n",
            "/Users/mirco/Documents/Tesi/code/models/DGDNN/Data/geometric_dataset_gen.py:133: FutureWarning: The behavior of 'isin' with dtype=datetime64[ns] and castable values (e.g. strings) is deprecated. In a future version, these will not be considered matching by isin. Explicitly cast to the appropriate dtype before calling isin instead.\n",
            "  df = df[df.index.isin(dates_dt)]\n",
            "/Users/mirco/Documents/Tesi/code/models/DGDNN/Data/geometric_dataset_gen.py:133: FutureWarning: The behavior of 'isin' with dtype=datetime64[ns] and castable values (e.g. strings) is deprecated. In a future version, these will not be considered matching by isin. Explicitly cast to the appropriate dtype before calling isin instead.\n",
            "  df = df[df.index.isin(dates_dt)]\n",
            "/Users/mirco/Documents/Tesi/code/models/DGDNN/Data/geometric_dataset_gen.py:133: FutureWarning: The behavior of 'isin' with dtype=datetime64[ns] and castable values (e.g. strings) is deprecated. In a future version, these will not be considered matching by isin. Explicitly cast to the appropriate dtype before calling isin instead.\n",
            "  df = df[df.index.isin(dates_dt)]\n",
            " 62%|██████▎   | 260/416 [03:25<02:17,  1.13it/s]"
          ]
        },
        {
          "name": "stdout",
          "output_type": "stream",
          "text": [
            "Generating graph 260/416...\n"
          ]
        },
        {
          "name": "stderr",
          "output_type": "stream",
          "text": [
            "/Users/mirco/Documents/Tesi/code/models/DGDNN/Data/geometric_dataset_gen.py:133: FutureWarning: The behavior of 'isin' with dtype=datetime64[ns] and castable values (e.g. strings) is deprecated. In a future version, these will not be considered matching by isin. Explicitly cast to the appropriate dtype before calling isin instead.\n",
            "  df = df[df.index.isin(dates_dt)]\n",
            "/Users/mirco/Documents/Tesi/code/models/DGDNN/Data/geometric_dataset_gen.py:133: FutureWarning: The behavior of 'isin' with dtype=datetime64[ns] and castable values (e.g. strings) is deprecated. In a future version, these will not be considered matching by isin. Explicitly cast to the appropriate dtype before calling isin instead.\n",
            "  df = df[df.index.isin(dates_dt)]\n",
            "/Users/mirco/Documents/Tesi/code/models/DGDNN/Data/geometric_dataset_gen.py:133: FutureWarning: The behavior of 'isin' with dtype=datetime64[ns] and castable values (e.g. strings) is deprecated. In a future version, these will not be considered matching by isin. Explicitly cast to the appropriate dtype before calling isin instead.\n",
            "  df = df[df.index.isin(dates_dt)]\n",
            "/Users/mirco/Documents/Tesi/code/models/DGDNN/Data/geometric_dataset_gen.py:133: FutureWarning: The behavior of 'isin' with dtype=datetime64[ns] and castable values (e.g. strings) is deprecated. In a future version, these will not be considered matching by isin. Explicitly cast to the appropriate dtype before calling isin instead.\n",
            "  df = df[df.index.isin(dates_dt)]\n",
            " 63%|██████▎   | 261/416 [03:25<02:10,  1.19it/s]"
          ]
        },
        {
          "name": "stdout",
          "output_type": "stream",
          "text": [
            "Generating graph 261/416...\n"
          ]
        },
        {
          "name": "stderr",
          "output_type": "stream",
          "text": [
            "/Users/mirco/Documents/Tesi/code/models/DGDNN/Data/geometric_dataset_gen.py:133: FutureWarning: The behavior of 'isin' with dtype=datetime64[ns] and castable values (e.g. strings) is deprecated. In a future version, these will not be considered matching by isin. Explicitly cast to the appropriate dtype before calling isin instead.\n",
            "  df = df[df.index.isin(dates_dt)]\n",
            "/Users/mirco/Documents/Tesi/code/models/DGDNN/Data/geometric_dataset_gen.py:133: FutureWarning: The behavior of 'isin' with dtype=datetime64[ns] and castable values (e.g. strings) is deprecated. In a future version, these will not be considered matching by isin. Explicitly cast to the appropriate dtype before calling isin instead.\n",
            "  df = df[df.index.isin(dates_dt)]\n",
            "/Users/mirco/Documents/Tesi/code/models/DGDNN/Data/geometric_dataset_gen.py:133: FutureWarning: The behavior of 'isin' with dtype=datetime64[ns] and castable values (e.g. strings) is deprecated. In a future version, these will not be considered matching by isin. Explicitly cast to the appropriate dtype before calling isin instead.\n",
            "  df = df[df.index.isin(dates_dt)]\n",
            "/Users/mirco/Documents/Tesi/code/models/DGDNN/Data/geometric_dataset_gen.py:133: FutureWarning: The behavior of 'isin' with dtype=datetime64[ns] and castable values (e.g. strings) is deprecated. In a future version, these will not be considered matching by isin. Explicitly cast to the appropriate dtype before calling isin instead.\n",
            "  df = df[df.index.isin(dates_dt)]\n",
            " 63%|██████▎   | 262/416 [03:26<02:07,  1.21it/s]"
          ]
        },
        {
          "name": "stdout",
          "output_type": "stream",
          "text": [
            "Generating graph 262/416...\n"
          ]
        },
        {
          "name": "stderr",
          "output_type": "stream",
          "text": [
            "/Users/mirco/Documents/Tesi/code/models/DGDNN/Data/geometric_dataset_gen.py:133: FutureWarning: The behavior of 'isin' with dtype=datetime64[ns] and castable values (e.g. strings) is deprecated. In a future version, these will not be considered matching by isin. Explicitly cast to the appropriate dtype before calling isin instead.\n",
            "  df = df[df.index.isin(dates_dt)]\n",
            "/Users/mirco/Documents/Tesi/code/models/DGDNN/Data/geometric_dataset_gen.py:133: FutureWarning: The behavior of 'isin' with dtype=datetime64[ns] and castable values (e.g. strings) is deprecated. In a future version, these will not be considered matching by isin. Explicitly cast to the appropriate dtype before calling isin instead.\n",
            "  df = df[df.index.isin(dates_dt)]\n",
            "/Users/mirco/Documents/Tesi/code/models/DGDNN/Data/geometric_dataset_gen.py:133: FutureWarning: The behavior of 'isin' with dtype=datetime64[ns] and castable values (e.g. strings) is deprecated. In a future version, these will not be considered matching by isin. Explicitly cast to the appropriate dtype before calling isin instead.\n",
            "  df = df[df.index.isin(dates_dt)]\n",
            "/Users/mirco/Documents/Tesi/code/models/DGDNN/Data/geometric_dataset_gen.py:133: FutureWarning: The behavior of 'isin' with dtype=datetime64[ns] and castable values (e.g. strings) is deprecated. In a future version, these will not be considered matching by isin. Explicitly cast to the appropriate dtype before calling isin instead.\n",
            "  df = df[df.index.isin(dates_dt)]\n",
            " 63%|██████▎   | 263/416 [03:27<02:09,  1.19it/s]"
          ]
        },
        {
          "name": "stdout",
          "output_type": "stream",
          "text": [
            "Generating graph 263/416...\n"
          ]
        },
        {
          "name": "stderr",
          "output_type": "stream",
          "text": [
            "/Users/mirco/Documents/Tesi/code/models/DGDNN/Data/geometric_dataset_gen.py:133: FutureWarning: The behavior of 'isin' with dtype=datetime64[ns] and castable values (e.g. strings) is deprecated. In a future version, these will not be considered matching by isin. Explicitly cast to the appropriate dtype before calling isin instead.\n",
            "  df = df[df.index.isin(dates_dt)]\n",
            "/Users/mirco/Documents/Tesi/code/models/DGDNN/Data/geometric_dataset_gen.py:133: FutureWarning: The behavior of 'isin' with dtype=datetime64[ns] and castable values (e.g. strings) is deprecated. In a future version, these will not be considered matching by isin. Explicitly cast to the appropriate dtype before calling isin instead.\n",
            "  df = df[df.index.isin(dates_dt)]\n",
            "/Users/mirco/Documents/Tesi/code/models/DGDNN/Data/geometric_dataset_gen.py:133: FutureWarning: The behavior of 'isin' with dtype=datetime64[ns] and castable values (e.g. strings) is deprecated. In a future version, these will not be considered matching by isin. Explicitly cast to the appropriate dtype before calling isin instead.\n",
            "  df = df[df.index.isin(dates_dt)]\n",
            "/Users/mirco/Documents/Tesi/code/models/DGDNN/Data/geometric_dataset_gen.py:133: FutureWarning: The behavior of 'isin' with dtype=datetime64[ns] and castable values (e.g. strings) is deprecated. In a future version, these will not be considered matching by isin. Explicitly cast to the appropriate dtype before calling isin instead.\n",
            "  df = df[df.index.isin(dates_dt)]\n",
            " 63%|██████▎   | 264/416 [03:28<02:06,  1.20it/s]"
          ]
        },
        {
          "name": "stdout",
          "output_type": "stream",
          "text": [
            "Generating graph 264/416...\n"
          ]
        },
        {
          "name": "stderr",
          "output_type": "stream",
          "text": [
            "/Users/mirco/Documents/Tesi/code/models/DGDNN/Data/geometric_dataset_gen.py:133: FutureWarning: The behavior of 'isin' with dtype=datetime64[ns] and castable values (e.g. strings) is deprecated. In a future version, these will not be considered matching by isin. Explicitly cast to the appropriate dtype before calling isin instead.\n",
            "  df = df[df.index.isin(dates_dt)]\n",
            "/Users/mirco/Documents/Tesi/code/models/DGDNN/Data/geometric_dataset_gen.py:133: FutureWarning: The behavior of 'isin' with dtype=datetime64[ns] and castable values (e.g. strings) is deprecated. In a future version, these will not be considered matching by isin. Explicitly cast to the appropriate dtype before calling isin instead.\n",
            "  df = df[df.index.isin(dates_dt)]\n",
            "/Users/mirco/Documents/Tesi/code/models/DGDNN/Data/geometric_dataset_gen.py:133: FutureWarning: The behavior of 'isin' with dtype=datetime64[ns] and castable values (e.g. strings) is deprecated. In a future version, these will not be considered matching by isin. Explicitly cast to the appropriate dtype before calling isin instead.\n",
            "  df = df[df.index.isin(dates_dt)]\n",
            "/Users/mirco/Documents/Tesi/code/models/DGDNN/Data/geometric_dataset_gen.py:133: FutureWarning: The behavior of 'isin' with dtype=datetime64[ns] and castable values (e.g. strings) is deprecated. In a future version, these will not be considered matching by isin. Explicitly cast to the appropriate dtype before calling isin instead.\n",
            "  df = df[df.index.isin(dates_dt)]\n",
            " 64%|██████▎   | 265/416 [03:29<02:04,  1.21it/s]"
          ]
        },
        {
          "name": "stdout",
          "output_type": "stream",
          "text": [
            "Generating graph 265/416...\n"
          ]
        },
        {
          "name": "stderr",
          "output_type": "stream",
          "text": [
            "/Users/mirco/Documents/Tesi/code/models/DGDNN/Data/geometric_dataset_gen.py:133: FutureWarning: The behavior of 'isin' with dtype=datetime64[ns] and castable values (e.g. strings) is deprecated. In a future version, these will not be considered matching by isin. Explicitly cast to the appropriate dtype before calling isin instead.\n",
            "  df = df[df.index.isin(dates_dt)]\n",
            "/Users/mirco/Documents/Tesi/code/models/DGDNN/Data/geometric_dataset_gen.py:133: FutureWarning: The behavior of 'isin' with dtype=datetime64[ns] and castable values (e.g. strings) is deprecated. In a future version, these will not be considered matching by isin. Explicitly cast to the appropriate dtype before calling isin instead.\n",
            "  df = df[df.index.isin(dates_dt)]\n",
            "/Users/mirco/Documents/Tesi/code/models/DGDNN/Data/geometric_dataset_gen.py:133: FutureWarning: The behavior of 'isin' with dtype=datetime64[ns] and castable values (e.g. strings) is deprecated. In a future version, these will not be considered matching by isin. Explicitly cast to the appropriate dtype before calling isin instead.\n",
            "  df = df[df.index.isin(dates_dt)]\n",
            "/Users/mirco/Documents/Tesi/code/models/DGDNN/Data/geometric_dataset_gen.py:133: FutureWarning: The behavior of 'isin' with dtype=datetime64[ns] and castable values (e.g. strings) is deprecated. In a future version, these will not be considered matching by isin. Explicitly cast to the appropriate dtype before calling isin instead.\n",
            "  df = df[df.index.isin(dates_dt)]\n",
            " 64%|██████▍   | 266/416 [03:30<02:09,  1.16it/s]"
          ]
        },
        {
          "name": "stdout",
          "output_type": "stream",
          "text": [
            "Generating graph 266/416...\n"
          ]
        },
        {
          "name": "stderr",
          "output_type": "stream",
          "text": [
            "/Users/mirco/Documents/Tesi/code/models/DGDNN/Data/geometric_dataset_gen.py:133: FutureWarning: The behavior of 'isin' with dtype=datetime64[ns] and castable values (e.g. strings) is deprecated. In a future version, these will not be considered matching by isin. Explicitly cast to the appropriate dtype before calling isin instead.\n",
            "  df = df[df.index.isin(dates_dt)]\n",
            "/Users/mirco/Documents/Tesi/code/models/DGDNN/Data/geometric_dataset_gen.py:133: FutureWarning: The behavior of 'isin' with dtype=datetime64[ns] and castable values (e.g. strings) is deprecated. In a future version, these will not be considered matching by isin. Explicitly cast to the appropriate dtype before calling isin instead.\n",
            "  df = df[df.index.isin(dates_dt)]\n",
            "/Users/mirco/Documents/Tesi/code/models/DGDNN/Data/geometric_dataset_gen.py:133: FutureWarning: The behavior of 'isin' with dtype=datetime64[ns] and castable values (e.g. strings) is deprecated. In a future version, these will not be considered matching by isin. Explicitly cast to the appropriate dtype before calling isin instead.\n",
            "  df = df[df.index.isin(dates_dt)]\n",
            "/Users/mirco/Documents/Tesi/code/models/DGDNN/Data/geometric_dataset_gen.py:133: FutureWarning: The behavior of 'isin' with dtype=datetime64[ns] and castable values (e.g. strings) is deprecated. In a future version, these will not be considered matching by isin. Explicitly cast to the appropriate dtype before calling isin instead.\n",
            "  df = df[df.index.isin(dates_dt)]\n",
            " 64%|██████▍   | 267/416 [03:30<02:07,  1.17it/s]"
          ]
        },
        {
          "name": "stdout",
          "output_type": "stream",
          "text": [
            "Generating graph 267/416...\n"
          ]
        },
        {
          "name": "stderr",
          "output_type": "stream",
          "text": [
            "/Users/mirco/Documents/Tesi/code/models/DGDNN/Data/geometric_dataset_gen.py:133: FutureWarning: The behavior of 'isin' with dtype=datetime64[ns] and castable values (e.g. strings) is deprecated. In a future version, these will not be considered matching by isin. Explicitly cast to the appropriate dtype before calling isin instead.\n",
            "  df = df[df.index.isin(dates_dt)]\n",
            "/Users/mirco/Documents/Tesi/code/models/DGDNN/Data/geometric_dataset_gen.py:133: FutureWarning: The behavior of 'isin' with dtype=datetime64[ns] and castable values (e.g. strings) is deprecated. In a future version, these will not be considered matching by isin. Explicitly cast to the appropriate dtype before calling isin instead.\n",
            "  df = df[df.index.isin(dates_dt)]\n",
            "/Users/mirco/Documents/Tesi/code/models/DGDNN/Data/geometric_dataset_gen.py:133: FutureWarning: The behavior of 'isin' with dtype=datetime64[ns] and castable values (e.g. strings) is deprecated. In a future version, these will not be considered matching by isin. Explicitly cast to the appropriate dtype before calling isin instead.\n",
            "  df = df[df.index.isin(dates_dt)]\n",
            "/Users/mirco/Documents/Tesi/code/models/DGDNN/Data/geometric_dataset_gen.py:133: FutureWarning: The behavior of 'isin' with dtype=datetime64[ns] and castable values (e.g. strings) is deprecated. In a future version, these will not be considered matching by isin. Explicitly cast to the appropriate dtype before calling isin instead.\n",
            "  df = df[df.index.isin(dates_dt)]\n",
            " 64%|██████▍   | 268/416 [03:31<02:08,  1.16it/s]"
          ]
        },
        {
          "name": "stdout",
          "output_type": "stream",
          "text": [
            "Generating graph 268/416...\n"
          ]
        },
        {
          "name": "stderr",
          "output_type": "stream",
          "text": [
            "/Users/mirco/Documents/Tesi/code/models/DGDNN/Data/geometric_dataset_gen.py:133: FutureWarning: The behavior of 'isin' with dtype=datetime64[ns] and castable values (e.g. strings) is deprecated. In a future version, these will not be considered matching by isin. Explicitly cast to the appropriate dtype before calling isin instead.\n",
            "  df = df[df.index.isin(dates_dt)]\n",
            "/Users/mirco/Documents/Tesi/code/models/DGDNN/Data/geometric_dataset_gen.py:133: FutureWarning: The behavior of 'isin' with dtype=datetime64[ns] and castable values (e.g. strings) is deprecated. In a future version, these will not be considered matching by isin. Explicitly cast to the appropriate dtype before calling isin instead.\n",
            "  df = df[df.index.isin(dates_dt)]\n",
            "/Users/mirco/Documents/Tesi/code/models/DGDNN/Data/geometric_dataset_gen.py:133: FutureWarning: The behavior of 'isin' with dtype=datetime64[ns] and castable values (e.g. strings) is deprecated. In a future version, these will not be considered matching by isin. Explicitly cast to the appropriate dtype before calling isin instead.\n",
            "  df = df[df.index.isin(dates_dt)]\n",
            "/Users/mirco/Documents/Tesi/code/models/DGDNN/Data/geometric_dataset_gen.py:133: FutureWarning: The behavior of 'isin' with dtype=datetime64[ns] and castable values (e.g. strings) is deprecated. In a future version, these will not be considered matching by isin. Explicitly cast to the appropriate dtype before calling isin instead.\n",
            "  df = df[df.index.isin(dates_dt)]\n",
            " 65%|██████▍   | 269/416 [03:32<02:04,  1.18it/s]"
          ]
        },
        {
          "name": "stdout",
          "output_type": "stream",
          "text": [
            "Generating graph 269/416...\n"
          ]
        },
        {
          "name": "stderr",
          "output_type": "stream",
          "text": [
            "/Users/mirco/Documents/Tesi/code/models/DGDNN/Data/geometric_dataset_gen.py:133: FutureWarning: The behavior of 'isin' with dtype=datetime64[ns] and castable values (e.g. strings) is deprecated. In a future version, these will not be considered matching by isin. Explicitly cast to the appropriate dtype before calling isin instead.\n",
            "  df = df[df.index.isin(dates_dt)]\n",
            "/Users/mirco/Documents/Tesi/code/models/DGDNN/Data/geometric_dataset_gen.py:133: FutureWarning: The behavior of 'isin' with dtype=datetime64[ns] and castable values (e.g. strings) is deprecated. In a future version, these will not be considered matching by isin. Explicitly cast to the appropriate dtype before calling isin instead.\n",
            "  df = df[df.index.isin(dates_dt)]\n",
            "/Users/mirco/Documents/Tesi/code/models/DGDNN/Data/geometric_dataset_gen.py:133: FutureWarning: The behavior of 'isin' with dtype=datetime64[ns] and castable values (e.g. strings) is deprecated. In a future version, these will not be considered matching by isin. Explicitly cast to the appropriate dtype before calling isin instead.\n",
            "  df = df[df.index.isin(dates_dt)]\n",
            "/Users/mirco/Documents/Tesi/code/models/DGDNN/Data/geometric_dataset_gen.py:133: FutureWarning: The behavior of 'isin' with dtype=datetime64[ns] and castable values (e.g. strings) is deprecated. In a future version, these will not be considered matching by isin. Explicitly cast to the appropriate dtype before calling isin instead.\n",
            "  df = df[df.index.isin(dates_dt)]\n",
            " 65%|██████▍   | 270/416 [03:33<02:07,  1.15it/s]"
          ]
        },
        {
          "name": "stdout",
          "output_type": "stream",
          "text": [
            "Generating graph 270/416...\n"
          ]
        },
        {
          "name": "stderr",
          "output_type": "stream",
          "text": [
            "/Users/mirco/Documents/Tesi/code/models/DGDNN/Data/geometric_dataset_gen.py:133: FutureWarning: The behavior of 'isin' with dtype=datetime64[ns] and castable values (e.g. strings) is deprecated. In a future version, these will not be considered matching by isin. Explicitly cast to the appropriate dtype before calling isin instead.\n",
            "  df = df[df.index.isin(dates_dt)]\n",
            "/Users/mirco/Documents/Tesi/code/models/DGDNN/Data/geometric_dataset_gen.py:133: FutureWarning: The behavior of 'isin' with dtype=datetime64[ns] and castable values (e.g. strings) is deprecated. In a future version, these will not be considered matching by isin. Explicitly cast to the appropriate dtype before calling isin instead.\n",
            "  df = df[df.index.isin(dates_dt)]\n",
            "/Users/mirco/Documents/Tesi/code/models/DGDNN/Data/geometric_dataset_gen.py:133: FutureWarning: The behavior of 'isin' with dtype=datetime64[ns] and castable values (e.g. strings) is deprecated. In a future version, these will not be considered matching by isin. Explicitly cast to the appropriate dtype before calling isin instead.\n",
            "  df = df[df.index.isin(dates_dt)]\n",
            "/Users/mirco/Documents/Tesi/code/models/DGDNN/Data/geometric_dataset_gen.py:133: FutureWarning: The behavior of 'isin' with dtype=datetime64[ns] and castable values (e.g. strings) is deprecated. In a future version, these will not be considered matching by isin. Explicitly cast to the appropriate dtype before calling isin instead.\n",
            "  df = df[df.index.isin(dates_dt)]\n",
            " 65%|██████▌   | 271/416 [03:34<02:04,  1.17it/s]"
          ]
        },
        {
          "name": "stdout",
          "output_type": "stream",
          "text": [
            "Generating graph 271/416...\n"
          ]
        },
        {
          "name": "stderr",
          "output_type": "stream",
          "text": [
            "/Users/mirco/Documents/Tesi/code/models/DGDNN/Data/geometric_dataset_gen.py:133: FutureWarning: The behavior of 'isin' with dtype=datetime64[ns] and castable values (e.g. strings) is deprecated. In a future version, these will not be considered matching by isin. Explicitly cast to the appropriate dtype before calling isin instead.\n",
            "  df = df[df.index.isin(dates_dt)]\n",
            "/Users/mirco/Documents/Tesi/code/models/DGDNN/Data/geometric_dataset_gen.py:133: FutureWarning: The behavior of 'isin' with dtype=datetime64[ns] and castable values (e.g. strings) is deprecated. In a future version, these will not be considered matching by isin. Explicitly cast to the appropriate dtype before calling isin instead.\n",
            "  df = df[df.index.isin(dates_dt)]\n",
            "/Users/mirco/Documents/Tesi/code/models/DGDNN/Data/geometric_dataset_gen.py:133: FutureWarning: The behavior of 'isin' with dtype=datetime64[ns] and castable values (e.g. strings) is deprecated. In a future version, these will not be considered matching by isin. Explicitly cast to the appropriate dtype before calling isin instead.\n",
            "  df = df[df.index.isin(dates_dt)]\n",
            "/Users/mirco/Documents/Tesi/code/models/DGDNN/Data/geometric_dataset_gen.py:133: FutureWarning: The behavior of 'isin' with dtype=datetime64[ns] and castable values (e.g. strings) is deprecated. In a future version, these will not be considered matching by isin. Explicitly cast to the appropriate dtype before calling isin instead.\n",
            "  df = df[df.index.isin(dates_dt)]\n",
            " 65%|██████▌   | 272/416 [03:35<02:00,  1.19it/s]"
          ]
        },
        {
          "name": "stdout",
          "output_type": "stream",
          "text": [
            "Generating graph 272/416...\n"
          ]
        },
        {
          "name": "stderr",
          "output_type": "stream",
          "text": [
            "/Users/mirco/Documents/Tesi/code/models/DGDNN/Data/geometric_dataset_gen.py:133: FutureWarning: The behavior of 'isin' with dtype=datetime64[ns] and castable values (e.g. strings) is deprecated. In a future version, these will not be considered matching by isin. Explicitly cast to the appropriate dtype before calling isin instead.\n",
            "  df = df[df.index.isin(dates_dt)]\n",
            "/Users/mirco/Documents/Tesi/code/models/DGDNN/Data/geometric_dataset_gen.py:133: FutureWarning: The behavior of 'isin' with dtype=datetime64[ns] and castable values (e.g. strings) is deprecated. In a future version, these will not be considered matching by isin. Explicitly cast to the appropriate dtype before calling isin instead.\n",
            "  df = df[df.index.isin(dates_dt)]\n",
            "/Users/mirco/Documents/Tesi/code/models/DGDNN/Data/geometric_dataset_gen.py:133: FutureWarning: The behavior of 'isin' with dtype=datetime64[ns] and castable values (e.g. strings) is deprecated. In a future version, these will not be considered matching by isin. Explicitly cast to the appropriate dtype before calling isin instead.\n",
            "  df = df[df.index.isin(dates_dt)]\n",
            "/Users/mirco/Documents/Tesi/code/models/DGDNN/Data/geometric_dataset_gen.py:133: FutureWarning: The behavior of 'isin' with dtype=datetime64[ns] and castable values (e.g. strings) is deprecated. In a future version, these will not be considered matching by isin. Explicitly cast to the appropriate dtype before calling isin instead.\n",
            "  df = df[df.index.isin(dates_dt)]\n",
            " 66%|██████▌   | 273/416 [03:35<02:01,  1.18it/s]"
          ]
        },
        {
          "name": "stdout",
          "output_type": "stream",
          "text": [
            "Generating graph 273/416...\n"
          ]
        },
        {
          "name": "stderr",
          "output_type": "stream",
          "text": [
            "/Users/mirco/Documents/Tesi/code/models/DGDNN/Data/geometric_dataset_gen.py:133: FutureWarning: The behavior of 'isin' with dtype=datetime64[ns] and castable values (e.g. strings) is deprecated. In a future version, these will not be considered matching by isin. Explicitly cast to the appropriate dtype before calling isin instead.\n",
            "  df = df[df.index.isin(dates_dt)]\n",
            "/Users/mirco/Documents/Tesi/code/models/DGDNN/Data/geometric_dataset_gen.py:133: FutureWarning: The behavior of 'isin' with dtype=datetime64[ns] and castable values (e.g. strings) is deprecated. In a future version, these will not be considered matching by isin. Explicitly cast to the appropriate dtype before calling isin instead.\n",
            "  df = df[df.index.isin(dates_dt)]\n",
            "/Users/mirco/Documents/Tesi/code/models/DGDNN/Data/geometric_dataset_gen.py:133: FutureWarning: The behavior of 'isin' with dtype=datetime64[ns] and castable values (e.g. strings) is deprecated. In a future version, these will not be considered matching by isin. Explicitly cast to the appropriate dtype before calling isin instead.\n",
            "  df = df[df.index.isin(dates_dt)]\n",
            "/Users/mirco/Documents/Tesi/code/models/DGDNN/Data/geometric_dataset_gen.py:133: FutureWarning: The behavior of 'isin' with dtype=datetime64[ns] and castable values (e.g. strings) is deprecated. In a future version, these will not be considered matching by isin. Explicitly cast to the appropriate dtype before calling isin instead.\n",
            "  df = df[df.index.isin(dates_dt)]\n",
            " 66%|██████▌   | 274/416 [03:36<02:02,  1.16it/s]"
          ]
        },
        {
          "name": "stdout",
          "output_type": "stream",
          "text": [
            "Generating graph 274/416...\n"
          ]
        },
        {
          "name": "stderr",
          "output_type": "stream",
          "text": [
            "/Users/mirco/Documents/Tesi/code/models/DGDNN/Data/geometric_dataset_gen.py:133: FutureWarning: The behavior of 'isin' with dtype=datetime64[ns] and castable values (e.g. strings) is deprecated. In a future version, these will not be considered matching by isin. Explicitly cast to the appropriate dtype before calling isin instead.\n",
            "  df = df[df.index.isin(dates_dt)]\n",
            "/Users/mirco/Documents/Tesi/code/models/DGDNN/Data/geometric_dataset_gen.py:133: FutureWarning: The behavior of 'isin' with dtype=datetime64[ns] and castable values (e.g. strings) is deprecated. In a future version, these will not be considered matching by isin. Explicitly cast to the appropriate dtype before calling isin instead.\n",
            "  df = df[df.index.isin(dates_dt)]\n",
            "/Users/mirco/Documents/Tesi/code/models/DGDNN/Data/geometric_dataset_gen.py:133: FutureWarning: The behavior of 'isin' with dtype=datetime64[ns] and castable values (e.g. strings) is deprecated. In a future version, these will not be considered matching by isin. Explicitly cast to the appropriate dtype before calling isin instead.\n",
            "  df = df[df.index.isin(dates_dt)]\n",
            "/Users/mirco/Documents/Tesi/code/models/DGDNN/Data/geometric_dataset_gen.py:133: FutureWarning: The behavior of 'isin' with dtype=datetime64[ns] and castable values (e.g. strings) is deprecated. In a future version, these will not be considered matching by isin. Explicitly cast to the appropriate dtype before calling isin instead.\n",
            "  df = df[df.index.isin(dates_dt)]\n",
            " 66%|██████▌   | 275/416 [03:37<01:59,  1.18it/s]"
          ]
        },
        {
          "name": "stdout",
          "output_type": "stream",
          "text": [
            "Generating graph 275/416...\n"
          ]
        },
        {
          "name": "stderr",
          "output_type": "stream",
          "text": [
            "/Users/mirco/Documents/Tesi/code/models/DGDNN/Data/geometric_dataset_gen.py:133: FutureWarning: The behavior of 'isin' with dtype=datetime64[ns] and castable values (e.g. strings) is deprecated. In a future version, these will not be considered matching by isin. Explicitly cast to the appropriate dtype before calling isin instead.\n",
            "  df = df[df.index.isin(dates_dt)]\n",
            "/Users/mirco/Documents/Tesi/code/models/DGDNN/Data/geometric_dataset_gen.py:133: FutureWarning: The behavior of 'isin' with dtype=datetime64[ns] and castable values (e.g. strings) is deprecated. In a future version, these will not be considered matching by isin. Explicitly cast to the appropriate dtype before calling isin instead.\n",
            "  df = df[df.index.isin(dates_dt)]\n",
            "/Users/mirco/Documents/Tesi/code/models/DGDNN/Data/geometric_dataset_gen.py:133: FutureWarning: The behavior of 'isin' with dtype=datetime64[ns] and castable values (e.g. strings) is deprecated. In a future version, these will not be considered matching by isin. Explicitly cast to the appropriate dtype before calling isin instead.\n",
            "  df = df[df.index.isin(dates_dt)]\n",
            "/Users/mirco/Documents/Tesi/code/models/DGDNN/Data/geometric_dataset_gen.py:133: FutureWarning: The behavior of 'isin' with dtype=datetime64[ns] and castable values (e.g. strings) is deprecated. In a future version, these will not be considered matching by isin. Explicitly cast to the appropriate dtype before calling isin instead.\n",
            "  df = df[df.index.isin(dates_dt)]\n",
            " 66%|██████▋   | 276/416 [03:38<01:57,  1.19it/s]"
          ]
        },
        {
          "name": "stdout",
          "output_type": "stream",
          "text": [
            "Generating graph 276/416...\n"
          ]
        },
        {
          "name": "stderr",
          "output_type": "stream",
          "text": [
            "/Users/mirco/Documents/Tesi/code/models/DGDNN/Data/geometric_dataset_gen.py:133: FutureWarning: The behavior of 'isin' with dtype=datetime64[ns] and castable values (e.g. strings) is deprecated. In a future version, these will not be considered matching by isin. Explicitly cast to the appropriate dtype before calling isin instead.\n",
            "  df = df[df.index.isin(dates_dt)]\n",
            "/Users/mirco/Documents/Tesi/code/models/DGDNN/Data/geometric_dataset_gen.py:133: FutureWarning: The behavior of 'isin' with dtype=datetime64[ns] and castable values (e.g. strings) is deprecated. In a future version, these will not be considered matching by isin. Explicitly cast to the appropriate dtype before calling isin instead.\n",
            "  df = df[df.index.isin(dates_dt)]\n",
            "/Users/mirco/Documents/Tesi/code/models/DGDNN/Data/geometric_dataset_gen.py:133: FutureWarning: The behavior of 'isin' with dtype=datetime64[ns] and castable values (e.g. strings) is deprecated. In a future version, these will not be considered matching by isin. Explicitly cast to the appropriate dtype before calling isin instead.\n",
            "  df = df[df.index.isin(dates_dt)]\n",
            "/Users/mirco/Documents/Tesi/code/models/DGDNN/Data/geometric_dataset_gen.py:133: FutureWarning: The behavior of 'isin' with dtype=datetime64[ns] and castable values (e.g. strings) is deprecated. In a future version, these will not be considered matching by isin. Explicitly cast to the appropriate dtype before calling isin instead.\n",
            "  df = df[df.index.isin(dates_dt)]\n",
            " 67%|██████▋   | 277/416 [03:39<01:58,  1.17it/s]"
          ]
        },
        {
          "name": "stdout",
          "output_type": "stream",
          "text": [
            "Generating graph 277/416...\n"
          ]
        },
        {
          "name": "stderr",
          "output_type": "stream",
          "text": [
            "/Users/mirco/Documents/Tesi/code/models/DGDNN/Data/geometric_dataset_gen.py:133: FutureWarning: The behavior of 'isin' with dtype=datetime64[ns] and castable values (e.g. strings) is deprecated. In a future version, these will not be considered matching by isin. Explicitly cast to the appropriate dtype before calling isin instead.\n",
            "  df = df[df.index.isin(dates_dt)]\n",
            "/Users/mirco/Documents/Tesi/code/models/DGDNN/Data/geometric_dataset_gen.py:133: FutureWarning: The behavior of 'isin' with dtype=datetime64[ns] and castable values (e.g. strings) is deprecated. In a future version, these will not be considered matching by isin. Explicitly cast to the appropriate dtype before calling isin instead.\n",
            "  df = df[df.index.isin(dates_dt)]\n",
            "/Users/mirco/Documents/Tesi/code/models/DGDNN/Data/geometric_dataset_gen.py:133: FutureWarning: The behavior of 'isin' with dtype=datetime64[ns] and castable values (e.g. strings) is deprecated. In a future version, these will not be considered matching by isin. Explicitly cast to the appropriate dtype before calling isin instead.\n",
            "  df = df[df.index.isin(dates_dt)]\n",
            "/Users/mirco/Documents/Tesi/code/models/DGDNN/Data/geometric_dataset_gen.py:133: FutureWarning: The behavior of 'isin' with dtype=datetime64[ns] and castable values (e.g. strings) is deprecated. In a future version, these will not be considered matching by isin. Explicitly cast to the appropriate dtype before calling isin instead.\n",
            "  df = df[df.index.isin(dates_dt)]\n",
            " 67%|██████▋   | 278/416 [03:40<01:54,  1.21it/s]"
          ]
        },
        {
          "name": "stdout",
          "output_type": "stream",
          "text": [
            "Generating graph 278/416...\n"
          ]
        },
        {
          "name": "stderr",
          "output_type": "stream",
          "text": [
            "/Users/mirco/Documents/Tesi/code/models/DGDNN/Data/geometric_dataset_gen.py:133: FutureWarning: The behavior of 'isin' with dtype=datetime64[ns] and castable values (e.g. strings) is deprecated. In a future version, these will not be considered matching by isin. Explicitly cast to the appropriate dtype before calling isin instead.\n",
            "  df = df[df.index.isin(dates_dt)]\n",
            "/Users/mirco/Documents/Tesi/code/models/DGDNN/Data/geometric_dataset_gen.py:133: FutureWarning: The behavior of 'isin' with dtype=datetime64[ns] and castable values (e.g. strings) is deprecated. In a future version, these will not be considered matching by isin. Explicitly cast to the appropriate dtype before calling isin instead.\n",
            "  df = df[df.index.isin(dates_dt)]\n",
            "/Users/mirco/Documents/Tesi/code/models/DGDNN/Data/geometric_dataset_gen.py:133: FutureWarning: The behavior of 'isin' with dtype=datetime64[ns] and castable values (e.g. strings) is deprecated. In a future version, these will not be considered matching by isin. Explicitly cast to the appropriate dtype before calling isin instead.\n",
            "  df = df[df.index.isin(dates_dt)]\n",
            "/Users/mirco/Documents/Tesi/code/models/DGDNN/Data/geometric_dataset_gen.py:133: FutureWarning: The behavior of 'isin' with dtype=datetime64[ns] and castable values (e.g. strings) is deprecated. In a future version, these will not be considered matching by isin. Explicitly cast to the appropriate dtype before calling isin instead.\n",
            "  df = df[df.index.isin(dates_dt)]\n",
            " 67%|██████▋   | 279/416 [03:40<01:50,  1.24it/s]"
          ]
        },
        {
          "name": "stdout",
          "output_type": "stream",
          "text": [
            "Generating graph 279/416...\n"
          ]
        },
        {
          "name": "stderr",
          "output_type": "stream",
          "text": [
            "/Users/mirco/Documents/Tesi/code/models/DGDNN/Data/geometric_dataset_gen.py:133: FutureWarning: The behavior of 'isin' with dtype=datetime64[ns] and castable values (e.g. strings) is deprecated. In a future version, these will not be considered matching by isin. Explicitly cast to the appropriate dtype before calling isin instead.\n",
            "  df = df[df.index.isin(dates_dt)]\n",
            "/Users/mirco/Documents/Tesi/code/models/DGDNN/Data/geometric_dataset_gen.py:133: FutureWarning: The behavior of 'isin' with dtype=datetime64[ns] and castable values (e.g. strings) is deprecated. In a future version, these will not be considered matching by isin. Explicitly cast to the appropriate dtype before calling isin instead.\n",
            "  df = df[df.index.isin(dates_dt)]\n",
            "/Users/mirco/Documents/Tesi/code/models/DGDNN/Data/geometric_dataset_gen.py:133: FutureWarning: The behavior of 'isin' with dtype=datetime64[ns] and castable values (e.g. strings) is deprecated. In a future version, these will not be considered matching by isin. Explicitly cast to the appropriate dtype before calling isin instead.\n",
            "  df = df[df.index.isin(dates_dt)]\n",
            "/Users/mirco/Documents/Tesi/code/models/DGDNN/Data/geometric_dataset_gen.py:133: FutureWarning: The behavior of 'isin' with dtype=datetime64[ns] and castable values (e.g. strings) is deprecated. In a future version, these will not be considered matching by isin. Explicitly cast to the appropriate dtype before calling isin instead.\n",
            "  df = df[df.index.isin(dates_dt)]\n",
            " 67%|██████▋   | 280/416 [03:41<01:53,  1.20it/s]"
          ]
        },
        {
          "name": "stdout",
          "output_type": "stream",
          "text": [
            "Generating graph 280/416...\n"
          ]
        },
        {
          "name": "stderr",
          "output_type": "stream",
          "text": [
            "/Users/mirco/Documents/Tesi/code/models/DGDNN/Data/geometric_dataset_gen.py:133: FutureWarning: The behavior of 'isin' with dtype=datetime64[ns] and castable values (e.g. strings) is deprecated. In a future version, these will not be considered matching by isin. Explicitly cast to the appropriate dtype before calling isin instead.\n",
            "  df = df[df.index.isin(dates_dt)]\n",
            "/Users/mirco/Documents/Tesi/code/models/DGDNN/Data/geometric_dataset_gen.py:133: FutureWarning: The behavior of 'isin' with dtype=datetime64[ns] and castable values (e.g. strings) is deprecated. In a future version, these will not be considered matching by isin. Explicitly cast to the appropriate dtype before calling isin instead.\n",
            "  df = df[df.index.isin(dates_dt)]\n",
            "/Users/mirco/Documents/Tesi/code/models/DGDNN/Data/geometric_dataset_gen.py:133: FutureWarning: The behavior of 'isin' with dtype=datetime64[ns] and castable values (e.g. strings) is deprecated. In a future version, these will not be considered matching by isin. Explicitly cast to the appropriate dtype before calling isin instead.\n",
            "  df = df[df.index.isin(dates_dt)]\n",
            "/Users/mirco/Documents/Tesi/code/models/DGDNN/Data/geometric_dataset_gen.py:133: FutureWarning: The behavior of 'isin' with dtype=datetime64[ns] and castable values (e.g. strings) is deprecated. In a future version, these will not be considered matching by isin. Explicitly cast to the appropriate dtype before calling isin instead.\n",
            "  df = df[df.index.isin(dates_dt)]\n",
            " 68%|██████▊   | 281/416 [03:42<01:51,  1.22it/s]"
          ]
        },
        {
          "name": "stdout",
          "output_type": "stream",
          "text": [
            "Generating graph 281/416...\n"
          ]
        },
        {
          "name": "stderr",
          "output_type": "stream",
          "text": [
            "/Users/mirco/Documents/Tesi/code/models/DGDNN/Data/geometric_dataset_gen.py:133: FutureWarning: The behavior of 'isin' with dtype=datetime64[ns] and castable values (e.g. strings) is deprecated. In a future version, these will not be considered matching by isin. Explicitly cast to the appropriate dtype before calling isin instead.\n",
            "  df = df[df.index.isin(dates_dt)]\n",
            "/Users/mirco/Documents/Tesi/code/models/DGDNN/Data/geometric_dataset_gen.py:133: FutureWarning: The behavior of 'isin' with dtype=datetime64[ns] and castable values (e.g. strings) is deprecated. In a future version, these will not be considered matching by isin. Explicitly cast to the appropriate dtype before calling isin instead.\n",
            "  df = df[df.index.isin(dates_dt)]\n",
            "/Users/mirco/Documents/Tesi/code/models/DGDNN/Data/geometric_dataset_gen.py:133: FutureWarning: The behavior of 'isin' with dtype=datetime64[ns] and castable values (e.g. strings) is deprecated. In a future version, these will not be considered matching by isin. Explicitly cast to the appropriate dtype before calling isin instead.\n",
            "  df = df[df.index.isin(dates_dt)]\n",
            "/Users/mirco/Documents/Tesi/code/models/DGDNN/Data/geometric_dataset_gen.py:133: FutureWarning: The behavior of 'isin' with dtype=datetime64[ns] and castable values (e.g. strings) is deprecated. In a future version, these will not be considered matching by isin. Explicitly cast to the appropriate dtype before calling isin instead.\n",
            "  df = df[df.index.isin(dates_dt)]\n",
            " 68%|██████▊   | 282/416 [03:43<01:49,  1.23it/s]"
          ]
        },
        {
          "name": "stdout",
          "output_type": "stream",
          "text": [
            "Generating graph 282/416...\n"
          ]
        },
        {
          "name": "stderr",
          "output_type": "stream",
          "text": [
            "/Users/mirco/Documents/Tesi/code/models/DGDNN/Data/geometric_dataset_gen.py:133: FutureWarning: The behavior of 'isin' with dtype=datetime64[ns] and castable values (e.g. strings) is deprecated. In a future version, these will not be considered matching by isin. Explicitly cast to the appropriate dtype before calling isin instead.\n",
            "  df = df[df.index.isin(dates_dt)]\n",
            "/Users/mirco/Documents/Tesi/code/models/DGDNN/Data/geometric_dataset_gen.py:133: FutureWarning: The behavior of 'isin' with dtype=datetime64[ns] and castable values (e.g. strings) is deprecated. In a future version, these will not be considered matching by isin. Explicitly cast to the appropriate dtype before calling isin instead.\n",
            "  df = df[df.index.isin(dates_dt)]\n",
            "/Users/mirco/Documents/Tesi/code/models/DGDNN/Data/geometric_dataset_gen.py:133: FutureWarning: The behavior of 'isin' with dtype=datetime64[ns] and castable values (e.g. strings) is deprecated. In a future version, these will not be considered matching by isin. Explicitly cast to the appropriate dtype before calling isin instead.\n",
            "  df = df[df.index.isin(dates_dt)]\n",
            "/Users/mirco/Documents/Tesi/code/models/DGDNN/Data/geometric_dataset_gen.py:133: FutureWarning: The behavior of 'isin' with dtype=datetime64[ns] and castable values (e.g. strings) is deprecated. In a future version, these will not be considered matching by isin. Explicitly cast to the appropriate dtype before calling isin instead.\n",
            "  df = df[df.index.isin(dates_dt)]\n",
            " 68%|██████▊   | 283/416 [03:44<01:49,  1.21it/s]"
          ]
        },
        {
          "name": "stdout",
          "output_type": "stream",
          "text": [
            "Generating graph 283/416...\n"
          ]
        },
        {
          "name": "stderr",
          "output_type": "stream",
          "text": [
            "/Users/mirco/Documents/Tesi/code/models/DGDNN/Data/geometric_dataset_gen.py:133: FutureWarning: The behavior of 'isin' with dtype=datetime64[ns] and castable values (e.g. strings) is deprecated. In a future version, these will not be considered matching by isin. Explicitly cast to the appropriate dtype before calling isin instead.\n",
            "  df = df[df.index.isin(dates_dt)]\n",
            "/Users/mirco/Documents/Tesi/code/models/DGDNN/Data/geometric_dataset_gen.py:133: FutureWarning: The behavior of 'isin' with dtype=datetime64[ns] and castable values (e.g. strings) is deprecated. In a future version, these will not be considered matching by isin. Explicitly cast to the appropriate dtype before calling isin instead.\n",
            "  df = df[df.index.isin(dates_dt)]\n",
            "/Users/mirco/Documents/Tesi/code/models/DGDNN/Data/geometric_dataset_gen.py:133: FutureWarning: The behavior of 'isin' with dtype=datetime64[ns] and castable values (e.g. strings) is deprecated. In a future version, these will not be considered matching by isin. Explicitly cast to the appropriate dtype before calling isin instead.\n",
            "  df = df[df.index.isin(dates_dt)]\n",
            "/Users/mirco/Documents/Tesi/code/models/DGDNN/Data/geometric_dataset_gen.py:133: FutureWarning: The behavior of 'isin' with dtype=datetime64[ns] and castable values (e.g. strings) is deprecated. In a future version, these will not be considered matching by isin. Explicitly cast to the appropriate dtype before calling isin instead.\n",
            "  df = df[df.index.isin(dates_dt)]\n",
            " 68%|██████▊   | 284/416 [03:45<01:54,  1.15it/s]"
          ]
        },
        {
          "name": "stdout",
          "output_type": "stream",
          "text": [
            "Generating graph 284/416...\n"
          ]
        },
        {
          "name": "stderr",
          "output_type": "stream",
          "text": [
            "/Users/mirco/Documents/Tesi/code/models/DGDNN/Data/geometric_dataset_gen.py:133: FutureWarning: The behavior of 'isin' with dtype=datetime64[ns] and castable values (e.g. strings) is deprecated. In a future version, these will not be considered matching by isin. Explicitly cast to the appropriate dtype before calling isin instead.\n",
            "  df = df[df.index.isin(dates_dt)]\n",
            "/Users/mirco/Documents/Tesi/code/models/DGDNN/Data/geometric_dataset_gen.py:133: FutureWarning: The behavior of 'isin' with dtype=datetime64[ns] and castable values (e.g. strings) is deprecated. In a future version, these will not be considered matching by isin. Explicitly cast to the appropriate dtype before calling isin instead.\n",
            "  df = df[df.index.isin(dates_dt)]\n",
            "/Users/mirco/Documents/Tesi/code/models/DGDNN/Data/geometric_dataset_gen.py:133: FutureWarning: The behavior of 'isin' with dtype=datetime64[ns] and castable values (e.g. strings) is deprecated. In a future version, these will not be considered matching by isin. Explicitly cast to the appropriate dtype before calling isin instead.\n",
            "  df = df[df.index.isin(dates_dt)]\n",
            "/Users/mirco/Documents/Tesi/code/models/DGDNN/Data/geometric_dataset_gen.py:133: FutureWarning: The behavior of 'isin' with dtype=datetime64[ns] and castable values (e.g. strings) is deprecated. In a future version, these will not be considered matching by isin. Explicitly cast to the appropriate dtype before calling isin instead.\n",
            "  df = df[df.index.isin(dates_dt)]\n",
            " 69%|██████▊   | 285/416 [03:46<01:51,  1.17it/s]"
          ]
        },
        {
          "name": "stdout",
          "output_type": "stream",
          "text": [
            "Generating graph 285/416...\n"
          ]
        },
        {
          "name": "stderr",
          "output_type": "stream",
          "text": [
            "/Users/mirco/Documents/Tesi/code/models/DGDNN/Data/geometric_dataset_gen.py:133: FutureWarning: The behavior of 'isin' with dtype=datetime64[ns] and castable values (e.g. strings) is deprecated. In a future version, these will not be considered matching by isin. Explicitly cast to the appropriate dtype before calling isin instead.\n",
            "  df = df[df.index.isin(dates_dt)]\n",
            "/Users/mirco/Documents/Tesi/code/models/DGDNN/Data/geometric_dataset_gen.py:133: FutureWarning: The behavior of 'isin' with dtype=datetime64[ns] and castable values (e.g. strings) is deprecated. In a future version, these will not be considered matching by isin. Explicitly cast to the appropriate dtype before calling isin instead.\n",
            "  df = df[df.index.isin(dates_dt)]\n",
            "/Users/mirco/Documents/Tesi/code/models/DGDNN/Data/geometric_dataset_gen.py:133: FutureWarning: The behavior of 'isin' with dtype=datetime64[ns] and castable values (e.g. strings) is deprecated. In a future version, these will not be considered matching by isin. Explicitly cast to the appropriate dtype before calling isin instead.\n",
            "  df = df[df.index.isin(dates_dt)]\n",
            "/Users/mirco/Documents/Tesi/code/models/DGDNN/Data/geometric_dataset_gen.py:133: FutureWarning: The behavior of 'isin' with dtype=datetime64[ns] and castable values (e.g. strings) is deprecated. In a future version, these will not be considered matching by isin. Explicitly cast to the appropriate dtype before calling isin instead.\n",
            "  df = df[df.index.isin(dates_dt)]\n",
            " 69%|██████▉   | 286/416 [03:46<01:48,  1.20it/s]"
          ]
        },
        {
          "name": "stdout",
          "output_type": "stream",
          "text": [
            "Generating graph 286/416...\n"
          ]
        },
        {
          "name": "stderr",
          "output_type": "stream",
          "text": [
            "/Users/mirco/Documents/Tesi/code/models/DGDNN/Data/geometric_dataset_gen.py:133: FutureWarning: The behavior of 'isin' with dtype=datetime64[ns] and castable values (e.g. strings) is deprecated. In a future version, these will not be considered matching by isin. Explicitly cast to the appropriate dtype before calling isin instead.\n",
            "  df = df[df.index.isin(dates_dt)]\n",
            "/Users/mirco/Documents/Tesi/code/models/DGDNN/Data/geometric_dataset_gen.py:133: FutureWarning: The behavior of 'isin' with dtype=datetime64[ns] and castable values (e.g. strings) is deprecated. In a future version, these will not be considered matching by isin. Explicitly cast to the appropriate dtype before calling isin instead.\n",
            "  df = df[df.index.isin(dates_dt)]\n",
            "/Users/mirco/Documents/Tesi/code/models/DGDNN/Data/geometric_dataset_gen.py:133: FutureWarning: The behavior of 'isin' with dtype=datetime64[ns] and castable values (e.g. strings) is deprecated. In a future version, these will not be considered matching by isin. Explicitly cast to the appropriate dtype before calling isin instead.\n",
            "  df = df[df.index.isin(dates_dt)]\n",
            "/Users/mirco/Documents/Tesi/code/models/DGDNN/Data/geometric_dataset_gen.py:133: FutureWarning: The behavior of 'isin' with dtype=datetime64[ns] and castable values (e.g. strings) is deprecated. In a future version, these will not be considered matching by isin. Explicitly cast to the appropriate dtype before calling isin instead.\n",
            "  df = df[df.index.isin(dates_dt)]\n",
            " 69%|██████▉   | 287/416 [03:47<01:52,  1.15it/s]"
          ]
        },
        {
          "name": "stdout",
          "output_type": "stream",
          "text": [
            "Generating graph 287/416...\n"
          ]
        },
        {
          "name": "stderr",
          "output_type": "stream",
          "text": [
            "/Users/mirco/Documents/Tesi/code/models/DGDNN/Data/geometric_dataset_gen.py:133: FutureWarning: The behavior of 'isin' with dtype=datetime64[ns] and castable values (e.g. strings) is deprecated. In a future version, these will not be considered matching by isin. Explicitly cast to the appropriate dtype before calling isin instead.\n",
            "  df = df[df.index.isin(dates_dt)]\n",
            "/Users/mirco/Documents/Tesi/code/models/DGDNN/Data/geometric_dataset_gen.py:133: FutureWarning: The behavior of 'isin' with dtype=datetime64[ns] and castable values (e.g. strings) is deprecated. In a future version, these will not be considered matching by isin. Explicitly cast to the appropriate dtype before calling isin instead.\n",
            "  df = df[df.index.isin(dates_dt)]\n",
            "/Users/mirco/Documents/Tesi/code/models/DGDNN/Data/geometric_dataset_gen.py:133: FutureWarning: The behavior of 'isin' with dtype=datetime64[ns] and castable values (e.g. strings) is deprecated. In a future version, these will not be considered matching by isin. Explicitly cast to the appropriate dtype before calling isin instead.\n",
            "  df = df[df.index.isin(dates_dt)]\n",
            "/Users/mirco/Documents/Tesi/code/models/DGDNN/Data/geometric_dataset_gen.py:133: FutureWarning: The behavior of 'isin' with dtype=datetime64[ns] and castable values (e.g. strings) is deprecated. In a future version, these will not be considered matching by isin. Explicitly cast to the appropriate dtype before calling isin instead.\n",
            "  df = df[df.index.isin(dates_dt)]\n",
            " 69%|██████▉   | 288/416 [03:48<01:48,  1.18it/s]"
          ]
        },
        {
          "name": "stdout",
          "output_type": "stream",
          "text": [
            "Generating graph 288/416...\n"
          ]
        },
        {
          "name": "stderr",
          "output_type": "stream",
          "text": [
            "/Users/mirco/Documents/Tesi/code/models/DGDNN/Data/geometric_dataset_gen.py:133: FutureWarning: The behavior of 'isin' with dtype=datetime64[ns] and castable values (e.g. strings) is deprecated. In a future version, these will not be considered matching by isin. Explicitly cast to the appropriate dtype before calling isin instead.\n",
            "  df = df[df.index.isin(dates_dt)]\n",
            "/Users/mirco/Documents/Tesi/code/models/DGDNN/Data/geometric_dataset_gen.py:133: FutureWarning: The behavior of 'isin' with dtype=datetime64[ns] and castable values (e.g. strings) is deprecated. In a future version, these will not be considered matching by isin. Explicitly cast to the appropriate dtype before calling isin instead.\n",
            "  df = df[df.index.isin(dates_dt)]\n",
            "/Users/mirco/Documents/Tesi/code/models/DGDNN/Data/geometric_dataset_gen.py:133: FutureWarning: The behavior of 'isin' with dtype=datetime64[ns] and castable values (e.g. strings) is deprecated. In a future version, these will not be considered matching by isin. Explicitly cast to the appropriate dtype before calling isin instead.\n",
            "  df = df[df.index.isin(dates_dt)]\n",
            "/Users/mirco/Documents/Tesi/code/models/DGDNN/Data/geometric_dataset_gen.py:133: FutureWarning: The behavior of 'isin' with dtype=datetime64[ns] and castable values (e.g. strings) is deprecated. In a future version, these will not be considered matching by isin. Explicitly cast to the appropriate dtype before calling isin instead.\n",
            "  df = df[df.index.isin(dates_dt)]\n",
            " 69%|██████▉   | 289/416 [03:49<01:47,  1.18it/s]"
          ]
        },
        {
          "name": "stdout",
          "output_type": "stream",
          "text": [
            "Generating graph 289/416...\n"
          ]
        },
        {
          "name": "stderr",
          "output_type": "stream",
          "text": [
            "/Users/mirco/Documents/Tesi/code/models/DGDNN/Data/geometric_dataset_gen.py:133: FutureWarning: The behavior of 'isin' with dtype=datetime64[ns] and castable values (e.g. strings) is deprecated. In a future version, these will not be considered matching by isin. Explicitly cast to the appropriate dtype before calling isin instead.\n",
            "  df = df[df.index.isin(dates_dt)]\n",
            "/Users/mirco/Documents/Tesi/code/models/DGDNN/Data/geometric_dataset_gen.py:133: FutureWarning: The behavior of 'isin' with dtype=datetime64[ns] and castable values (e.g. strings) is deprecated. In a future version, these will not be considered matching by isin. Explicitly cast to the appropriate dtype before calling isin instead.\n",
            "  df = df[df.index.isin(dates_dt)]\n",
            "/Users/mirco/Documents/Tesi/code/models/DGDNN/Data/geometric_dataset_gen.py:133: FutureWarning: The behavior of 'isin' with dtype=datetime64[ns] and castable values (e.g. strings) is deprecated. In a future version, these will not be considered matching by isin. Explicitly cast to the appropriate dtype before calling isin instead.\n",
            "  df = df[df.index.isin(dates_dt)]\n",
            "/Users/mirco/Documents/Tesi/code/models/DGDNN/Data/geometric_dataset_gen.py:133: FutureWarning: The behavior of 'isin' with dtype=datetime64[ns] and castable values (e.g. strings) is deprecated. In a future version, these will not be considered matching by isin. Explicitly cast to the appropriate dtype before calling isin instead.\n",
            "  df = df[df.index.isin(dates_dt)]\n",
            " 70%|██████▉   | 290/416 [03:50<01:45,  1.20it/s]"
          ]
        },
        {
          "name": "stdout",
          "output_type": "stream",
          "text": [
            "Generating graph 290/416...\n"
          ]
        },
        {
          "name": "stderr",
          "output_type": "stream",
          "text": [
            "/Users/mirco/Documents/Tesi/code/models/DGDNN/Data/geometric_dataset_gen.py:133: FutureWarning: The behavior of 'isin' with dtype=datetime64[ns] and castable values (e.g. strings) is deprecated. In a future version, these will not be considered matching by isin. Explicitly cast to the appropriate dtype before calling isin instead.\n",
            "  df = df[df.index.isin(dates_dt)]\n",
            "/Users/mirco/Documents/Tesi/code/models/DGDNN/Data/geometric_dataset_gen.py:133: FutureWarning: The behavior of 'isin' with dtype=datetime64[ns] and castable values (e.g. strings) is deprecated. In a future version, these will not be considered matching by isin. Explicitly cast to the appropriate dtype before calling isin instead.\n",
            "  df = df[df.index.isin(dates_dt)]\n",
            "/Users/mirco/Documents/Tesi/code/models/DGDNN/Data/geometric_dataset_gen.py:133: FutureWarning: The behavior of 'isin' with dtype=datetime64[ns] and castable values (e.g. strings) is deprecated. In a future version, these will not be considered matching by isin. Explicitly cast to the appropriate dtype before calling isin instead.\n",
            "  df = df[df.index.isin(dates_dt)]\n",
            "/Users/mirco/Documents/Tesi/code/models/DGDNN/Data/geometric_dataset_gen.py:133: FutureWarning: The behavior of 'isin' with dtype=datetime64[ns] and castable values (e.g. strings) is deprecated. In a future version, these will not be considered matching by isin. Explicitly cast to the appropriate dtype before calling isin instead.\n",
            "  df = df[df.index.isin(dates_dt)]\n",
            " 70%|██████▉   | 291/416 [03:51<01:48,  1.15it/s]"
          ]
        },
        {
          "name": "stdout",
          "output_type": "stream",
          "text": [
            "Generating graph 291/416...\n"
          ]
        },
        {
          "name": "stderr",
          "output_type": "stream",
          "text": [
            "/Users/mirco/Documents/Tesi/code/models/DGDNN/Data/geometric_dataset_gen.py:133: FutureWarning: The behavior of 'isin' with dtype=datetime64[ns] and castable values (e.g. strings) is deprecated. In a future version, these will not be considered matching by isin. Explicitly cast to the appropriate dtype before calling isin instead.\n",
            "  df = df[df.index.isin(dates_dt)]\n",
            "/Users/mirco/Documents/Tesi/code/models/DGDNN/Data/geometric_dataset_gen.py:133: FutureWarning: The behavior of 'isin' with dtype=datetime64[ns] and castable values (e.g. strings) is deprecated. In a future version, these will not be considered matching by isin. Explicitly cast to the appropriate dtype before calling isin instead.\n",
            "  df = df[df.index.isin(dates_dt)]\n",
            "/Users/mirco/Documents/Tesi/code/models/DGDNN/Data/geometric_dataset_gen.py:133: FutureWarning: The behavior of 'isin' with dtype=datetime64[ns] and castable values (e.g. strings) is deprecated. In a future version, these will not be considered matching by isin. Explicitly cast to the appropriate dtype before calling isin instead.\n",
            "  df = df[df.index.isin(dates_dt)]\n",
            "/Users/mirco/Documents/Tesi/code/models/DGDNN/Data/geometric_dataset_gen.py:133: FutureWarning: The behavior of 'isin' with dtype=datetime64[ns] and castable values (e.g. strings) is deprecated. In a future version, these will not be considered matching by isin. Explicitly cast to the appropriate dtype before calling isin instead.\n",
            "  df = df[df.index.isin(dates_dt)]\n",
            " 70%|███████   | 292/416 [03:51<01:45,  1.18it/s]"
          ]
        },
        {
          "name": "stdout",
          "output_type": "stream",
          "text": [
            "Generating graph 292/416...\n"
          ]
        },
        {
          "name": "stderr",
          "output_type": "stream",
          "text": [
            "/Users/mirco/Documents/Tesi/code/models/DGDNN/Data/geometric_dataset_gen.py:133: FutureWarning: The behavior of 'isin' with dtype=datetime64[ns] and castable values (e.g. strings) is deprecated. In a future version, these will not be considered matching by isin. Explicitly cast to the appropriate dtype before calling isin instead.\n",
            "  df = df[df.index.isin(dates_dt)]\n",
            "/Users/mirco/Documents/Tesi/code/models/DGDNN/Data/geometric_dataset_gen.py:133: FutureWarning: The behavior of 'isin' with dtype=datetime64[ns] and castable values (e.g. strings) is deprecated. In a future version, these will not be considered matching by isin. Explicitly cast to the appropriate dtype before calling isin instead.\n",
            "  df = df[df.index.isin(dates_dt)]\n",
            "/Users/mirco/Documents/Tesi/code/models/DGDNN/Data/geometric_dataset_gen.py:133: FutureWarning: The behavior of 'isin' with dtype=datetime64[ns] and castable values (e.g. strings) is deprecated. In a future version, these will not be considered matching by isin. Explicitly cast to the appropriate dtype before calling isin instead.\n",
            "  df = df[df.index.isin(dates_dt)]\n",
            "/Users/mirco/Documents/Tesi/code/models/DGDNN/Data/geometric_dataset_gen.py:133: FutureWarning: The behavior of 'isin' with dtype=datetime64[ns] and castable values (e.g. strings) is deprecated. In a future version, these will not be considered matching by isin. Explicitly cast to the appropriate dtype before calling isin instead.\n",
            "  df = df[df.index.isin(dates_dt)]\n",
            " 70%|███████   | 293/416 [03:52<01:47,  1.14it/s]"
          ]
        },
        {
          "name": "stdout",
          "output_type": "stream",
          "text": [
            "Generating graph 293/416...\n"
          ]
        },
        {
          "name": "stderr",
          "output_type": "stream",
          "text": [
            "/Users/mirco/Documents/Tesi/code/models/DGDNN/Data/geometric_dataset_gen.py:133: FutureWarning: The behavior of 'isin' with dtype=datetime64[ns] and castable values (e.g. strings) is deprecated. In a future version, these will not be considered matching by isin. Explicitly cast to the appropriate dtype before calling isin instead.\n",
            "  df = df[df.index.isin(dates_dt)]\n",
            "/Users/mirco/Documents/Tesi/code/models/DGDNN/Data/geometric_dataset_gen.py:133: FutureWarning: The behavior of 'isin' with dtype=datetime64[ns] and castable values (e.g. strings) is deprecated. In a future version, these will not be considered matching by isin. Explicitly cast to the appropriate dtype before calling isin instead.\n",
            "  df = df[df.index.isin(dates_dt)]\n",
            "/Users/mirco/Documents/Tesi/code/models/DGDNN/Data/geometric_dataset_gen.py:133: FutureWarning: The behavior of 'isin' with dtype=datetime64[ns] and castable values (e.g. strings) is deprecated. In a future version, these will not be considered matching by isin. Explicitly cast to the appropriate dtype before calling isin instead.\n",
            "  df = df[df.index.isin(dates_dt)]\n",
            "/Users/mirco/Documents/Tesi/code/models/DGDNN/Data/geometric_dataset_gen.py:133: FutureWarning: The behavior of 'isin' with dtype=datetime64[ns] and castable values (e.g. strings) is deprecated. In a future version, these will not be considered matching by isin. Explicitly cast to the appropriate dtype before calling isin instead.\n",
            "  df = df[df.index.isin(dates_dt)]\n",
            " 71%|███████   | 294/416 [03:53<01:44,  1.17it/s]"
          ]
        },
        {
          "name": "stdout",
          "output_type": "stream",
          "text": [
            "Generating graph 294/416...\n"
          ]
        },
        {
          "name": "stderr",
          "output_type": "stream",
          "text": [
            "/Users/mirco/Documents/Tesi/code/models/DGDNN/Data/geometric_dataset_gen.py:133: FutureWarning: The behavior of 'isin' with dtype=datetime64[ns] and castable values (e.g. strings) is deprecated. In a future version, these will not be considered matching by isin. Explicitly cast to the appropriate dtype before calling isin instead.\n",
            "  df = df[df.index.isin(dates_dt)]\n",
            "/Users/mirco/Documents/Tesi/code/models/DGDNN/Data/geometric_dataset_gen.py:133: FutureWarning: The behavior of 'isin' with dtype=datetime64[ns] and castable values (e.g. strings) is deprecated. In a future version, these will not be considered matching by isin. Explicitly cast to the appropriate dtype before calling isin instead.\n",
            "  df = df[df.index.isin(dates_dt)]\n",
            "/Users/mirco/Documents/Tesi/code/models/DGDNN/Data/geometric_dataset_gen.py:133: FutureWarning: The behavior of 'isin' with dtype=datetime64[ns] and castable values (e.g. strings) is deprecated. In a future version, these will not be considered matching by isin. Explicitly cast to the appropriate dtype before calling isin instead.\n",
            "  df = df[df.index.isin(dates_dt)]\n",
            "/Users/mirco/Documents/Tesi/code/models/DGDNN/Data/geometric_dataset_gen.py:133: FutureWarning: The behavior of 'isin' with dtype=datetime64[ns] and castable values (e.g. strings) is deprecated. In a future version, these will not be considered matching by isin. Explicitly cast to the appropriate dtype before calling isin instead.\n",
            "  df = df[df.index.isin(dates_dt)]\n",
            " 71%|███████   | 295/416 [03:54<01:41,  1.20it/s]"
          ]
        },
        {
          "name": "stdout",
          "output_type": "stream",
          "text": [
            "Generating graph 295/416...\n"
          ]
        },
        {
          "name": "stderr",
          "output_type": "stream",
          "text": [
            "/Users/mirco/Documents/Tesi/code/models/DGDNN/Data/geometric_dataset_gen.py:133: FutureWarning: The behavior of 'isin' with dtype=datetime64[ns] and castable values (e.g. strings) is deprecated. In a future version, these will not be considered matching by isin. Explicitly cast to the appropriate dtype before calling isin instead.\n",
            "  df = df[df.index.isin(dates_dt)]\n",
            "/Users/mirco/Documents/Tesi/code/models/DGDNN/Data/geometric_dataset_gen.py:133: FutureWarning: The behavior of 'isin' with dtype=datetime64[ns] and castable values (e.g. strings) is deprecated. In a future version, these will not be considered matching by isin. Explicitly cast to the appropriate dtype before calling isin instead.\n",
            "  df = df[df.index.isin(dates_dt)]\n",
            "/Users/mirco/Documents/Tesi/code/models/DGDNN/Data/geometric_dataset_gen.py:133: FutureWarning: The behavior of 'isin' with dtype=datetime64[ns] and castable values (e.g. strings) is deprecated. In a future version, these will not be considered matching by isin. Explicitly cast to the appropriate dtype before calling isin instead.\n",
            "  df = df[df.index.isin(dates_dt)]\n",
            "/Users/mirco/Documents/Tesi/code/models/DGDNN/Data/geometric_dataset_gen.py:133: FutureWarning: The behavior of 'isin' with dtype=datetime64[ns] and castable values (e.g. strings) is deprecated. In a future version, these will not be considered matching by isin. Explicitly cast to the appropriate dtype before calling isin instead.\n",
            "  df = df[df.index.isin(dates_dt)]\n",
            " 71%|███████   | 296/416 [03:55<01:40,  1.20it/s]"
          ]
        },
        {
          "name": "stdout",
          "output_type": "stream",
          "text": [
            "Generating graph 296/416...\n"
          ]
        },
        {
          "name": "stderr",
          "output_type": "stream",
          "text": [
            "/Users/mirco/Documents/Tesi/code/models/DGDNN/Data/geometric_dataset_gen.py:133: FutureWarning: The behavior of 'isin' with dtype=datetime64[ns] and castable values (e.g. strings) is deprecated. In a future version, these will not be considered matching by isin. Explicitly cast to the appropriate dtype before calling isin instead.\n",
            "  df = df[df.index.isin(dates_dt)]\n",
            "/Users/mirco/Documents/Tesi/code/models/DGDNN/Data/geometric_dataset_gen.py:133: FutureWarning: The behavior of 'isin' with dtype=datetime64[ns] and castable values (e.g. strings) is deprecated. In a future version, these will not be considered matching by isin. Explicitly cast to the appropriate dtype before calling isin instead.\n",
            "  df = df[df.index.isin(dates_dt)]\n",
            "/Users/mirco/Documents/Tesi/code/models/DGDNN/Data/geometric_dataset_gen.py:133: FutureWarning: The behavior of 'isin' with dtype=datetime64[ns] and castable values (e.g. strings) is deprecated. In a future version, these will not be considered matching by isin. Explicitly cast to the appropriate dtype before calling isin instead.\n",
            "  df = df[df.index.isin(dates_dt)]\n",
            "/Users/mirco/Documents/Tesi/code/models/DGDNN/Data/geometric_dataset_gen.py:133: FutureWarning: The behavior of 'isin' with dtype=datetime64[ns] and castable values (e.g. strings) is deprecated. In a future version, these will not be considered matching by isin. Explicitly cast to the appropriate dtype before calling isin instead.\n",
            "  df = df[df.index.isin(dates_dt)]\n",
            " 71%|███████▏  | 297/416 [03:56<01:43,  1.15it/s]"
          ]
        },
        {
          "name": "stdout",
          "output_type": "stream",
          "text": [
            "Generating graph 297/416...\n"
          ]
        },
        {
          "name": "stderr",
          "output_type": "stream",
          "text": [
            "/Users/mirco/Documents/Tesi/code/models/DGDNN/Data/geometric_dataset_gen.py:133: FutureWarning: The behavior of 'isin' with dtype=datetime64[ns] and castable values (e.g. strings) is deprecated. In a future version, these will not be considered matching by isin. Explicitly cast to the appropriate dtype before calling isin instead.\n",
            "  df = df[df.index.isin(dates_dt)]\n",
            "/Users/mirco/Documents/Tesi/code/models/DGDNN/Data/geometric_dataset_gen.py:133: FutureWarning: The behavior of 'isin' with dtype=datetime64[ns] and castable values (e.g. strings) is deprecated. In a future version, these will not be considered matching by isin. Explicitly cast to the appropriate dtype before calling isin instead.\n",
            "  df = df[df.index.isin(dates_dt)]\n",
            "/Users/mirco/Documents/Tesi/code/models/DGDNN/Data/geometric_dataset_gen.py:133: FutureWarning: The behavior of 'isin' with dtype=datetime64[ns] and castable values (e.g. strings) is deprecated. In a future version, these will not be considered matching by isin. Explicitly cast to the appropriate dtype before calling isin instead.\n",
            "  df = df[df.index.isin(dates_dt)]\n",
            "/Users/mirco/Documents/Tesi/code/models/DGDNN/Data/geometric_dataset_gen.py:133: FutureWarning: The behavior of 'isin' with dtype=datetime64[ns] and castable values (e.g. strings) is deprecated. In a future version, these will not be considered matching by isin. Explicitly cast to the appropriate dtype before calling isin instead.\n",
            "  df = df[df.index.isin(dates_dt)]\n",
            " 72%|███████▏  | 298/416 [03:57<01:39,  1.18it/s]"
          ]
        },
        {
          "name": "stdout",
          "output_type": "stream",
          "text": [
            "Generating graph 298/416...\n"
          ]
        },
        {
          "name": "stderr",
          "output_type": "stream",
          "text": [
            "/Users/mirco/Documents/Tesi/code/models/DGDNN/Data/geometric_dataset_gen.py:133: FutureWarning: The behavior of 'isin' with dtype=datetime64[ns] and castable values (e.g. strings) is deprecated. In a future version, these will not be considered matching by isin. Explicitly cast to the appropriate dtype before calling isin instead.\n",
            "  df = df[df.index.isin(dates_dt)]\n",
            "/Users/mirco/Documents/Tesi/code/models/DGDNN/Data/geometric_dataset_gen.py:133: FutureWarning: The behavior of 'isin' with dtype=datetime64[ns] and castable values (e.g. strings) is deprecated. In a future version, these will not be considered matching by isin. Explicitly cast to the appropriate dtype before calling isin instead.\n",
            "  df = df[df.index.isin(dates_dt)]\n",
            "/Users/mirco/Documents/Tesi/code/models/DGDNN/Data/geometric_dataset_gen.py:133: FutureWarning: The behavior of 'isin' with dtype=datetime64[ns] and castable values (e.g. strings) is deprecated. In a future version, these will not be considered matching by isin. Explicitly cast to the appropriate dtype before calling isin instead.\n",
            "  df = df[df.index.isin(dates_dt)]\n",
            "/Users/mirco/Documents/Tesi/code/models/DGDNN/Data/geometric_dataset_gen.py:133: FutureWarning: The behavior of 'isin' with dtype=datetime64[ns] and castable values (e.g. strings) is deprecated. In a future version, these will not be considered matching by isin. Explicitly cast to the appropriate dtype before calling isin instead.\n",
            "  df = df[df.index.isin(dates_dt)]\n",
            " 72%|███████▏  | 299/416 [03:57<01:36,  1.21it/s]"
          ]
        },
        {
          "name": "stdout",
          "output_type": "stream",
          "text": [
            "Generating graph 299/416...\n"
          ]
        },
        {
          "name": "stderr",
          "output_type": "stream",
          "text": [
            "/Users/mirco/Documents/Tesi/code/models/DGDNN/Data/geometric_dataset_gen.py:133: FutureWarning: The behavior of 'isin' with dtype=datetime64[ns] and castable values (e.g. strings) is deprecated. In a future version, these will not be considered matching by isin. Explicitly cast to the appropriate dtype before calling isin instead.\n",
            "  df = df[df.index.isin(dates_dt)]\n",
            "/Users/mirco/Documents/Tesi/code/models/DGDNN/Data/geometric_dataset_gen.py:133: FutureWarning: The behavior of 'isin' with dtype=datetime64[ns] and castable values (e.g. strings) is deprecated. In a future version, these will not be considered matching by isin. Explicitly cast to the appropriate dtype before calling isin instead.\n",
            "  df = df[df.index.isin(dates_dt)]\n",
            "/Users/mirco/Documents/Tesi/code/models/DGDNN/Data/geometric_dataset_gen.py:133: FutureWarning: The behavior of 'isin' with dtype=datetime64[ns] and castable values (e.g. strings) is deprecated. In a future version, these will not be considered matching by isin. Explicitly cast to the appropriate dtype before calling isin instead.\n",
            "  df = df[df.index.isin(dates_dt)]\n",
            "/Users/mirco/Documents/Tesi/code/models/DGDNN/Data/geometric_dataset_gen.py:133: FutureWarning: The behavior of 'isin' with dtype=datetime64[ns] and castable values (e.g. strings) is deprecated. In a future version, these will not be considered matching by isin. Explicitly cast to the appropriate dtype before calling isin instead.\n",
            "  df = df[df.index.isin(dates_dt)]\n",
            " 72%|███████▏  | 300/416 [03:58<01:35,  1.22it/s]"
          ]
        },
        {
          "name": "stdout",
          "output_type": "stream",
          "text": [
            "Generating graph 300/416...\n"
          ]
        },
        {
          "name": "stderr",
          "output_type": "stream",
          "text": [
            "/Users/mirco/Documents/Tesi/code/models/DGDNN/Data/geometric_dataset_gen.py:133: FutureWarning: The behavior of 'isin' with dtype=datetime64[ns] and castable values (e.g. strings) is deprecated. In a future version, these will not be considered matching by isin. Explicitly cast to the appropriate dtype before calling isin instead.\n",
            "  df = df[df.index.isin(dates_dt)]\n",
            "/Users/mirco/Documents/Tesi/code/models/DGDNN/Data/geometric_dataset_gen.py:133: FutureWarning: The behavior of 'isin' with dtype=datetime64[ns] and castable values (e.g. strings) is deprecated. In a future version, these will not be considered matching by isin. Explicitly cast to the appropriate dtype before calling isin instead.\n",
            "  df = df[df.index.isin(dates_dt)]\n",
            "/Users/mirco/Documents/Tesi/code/models/DGDNN/Data/geometric_dataset_gen.py:133: FutureWarning: The behavior of 'isin' with dtype=datetime64[ns] and castable values (e.g. strings) is deprecated. In a future version, these will not be considered matching by isin. Explicitly cast to the appropriate dtype before calling isin instead.\n",
            "  df = df[df.index.isin(dates_dt)]\n",
            "/Users/mirco/Documents/Tesi/code/models/DGDNN/Data/geometric_dataset_gen.py:133: FutureWarning: The behavior of 'isin' with dtype=datetime64[ns] and castable values (e.g. strings) is deprecated. In a future version, these will not be considered matching by isin. Explicitly cast to the appropriate dtype before calling isin instead.\n",
            "  df = df[df.index.isin(dates_dt)]\n",
            " 72%|███████▏  | 301/416 [03:59<01:37,  1.18it/s]"
          ]
        },
        {
          "name": "stdout",
          "output_type": "stream",
          "text": [
            "Generating graph 301/416...\n"
          ]
        },
        {
          "name": "stderr",
          "output_type": "stream",
          "text": [
            "/Users/mirco/Documents/Tesi/code/models/DGDNN/Data/geometric_dataset_gen.py:133: FutureWarning: The behavior of 'isin' with dtype=datetime64[ns] and castable values (e.g. strings) is deprecated. In a future version, these will not be considered matching by isin. Explicitly cast to the appropriate dtype before calling isin instead.\n",
            "  df = df[df.index.isin(dates_dt)]\n",
            "/Users/mirco/Documents/Tesi/code/models/DGDNN/Data/geometric_dataset_gen.py:133: FutureWarning: The behavior of 'isin' with dtype=datetime64[ns] and castable values (e.g. strings) is deprecated. In a future version, these will not be considered matching by isin. Explicitly cast to the appropriate dtype before calling isin instead.\n",
            "  df = df[df.index.isin(dates_dt)]\n",
            "/Users/mirco/Documents/Tesi/code/models/DGDNN/Data/geometric_dataset_gen.py:133: FutureWarning: The behavior of 'isin' with dtype=datetime64[ns] and castable values (e.g. strings) is deprecated. In a future version, these will not be considered matching by isin. Explicitly cast to the appropriate dtype before calling isin instead.\n",
            "  df = df[df.index.isin(dates_dt)]\n",
            "/Users/mirco/Documents/Tesi/code/models/DGDNN/Data/geometric_dataset_gen.py:133: FutureWarning: The behavior of 'isin' with dtype=datetime64[ns] and castable values (e.g. strings) is deprecated. In a future version, these will not be considered matching by isin. Explicitly cast to the appropriate dtype before calling isin instead.\n",
            "  df = df[df.index.isin(dates_dt)]\n",
            " 73%|███████▎  | 302/416 [04:00<01:34,  1.20it/s]"
          ]
        },
        {
          "name": "stdout",
          "output_type": "stream",
          "text": [
            "Generating graph 302/416...\n"
          ]
        },
        {
          "name": "stderr",
          "output_type": "stream",
          "text": [
            "/Users/mirco/Documents/Tesi/code/models/DGDNN/Data/geometric_dataset_gen.py:133: FutureWarning: The behavior of 'isin' with dtype=datetime64[ns] and castable values (e.g. strings) is deprecated. In a future version, these will not be considered matching by isin. Explicitly cast to the appropriate dtype before calling isin instead.\n",
            "  df = df[df.index.isin(dates_dt)]\n",
            "/Users/mirco/Documents/Tesi/code/models/DGDNN/Data/geometric_dataset_gen.py:133: FutureWarning: The behavior of 'isin' with dtype=datetime64[ns] and castable values (e.g. strings) is deprecated. In a future version, these will not be considered matching by isin. Explicitly cast to the appropriate dtype before calling isin instead.\n",
            "  df = df[df.index.isin(dates_dt)]\n",
            "/Users/mirco/Documents/Tesi/code/models/DGDNN/Data/geometric_dataset_gen.py:133: FutureWarning: The behavior of 'isin' with dtype=datetime64[ns] and castable values (e.g. strings) is deprecated. In a future version, these will not be considered matching by isin. Explicitly cast to the appropriate dtype before calling isin instead.\n",
            "  df = df[df.index.isin(dates_dt)]\n",
            "/Users/mirco/Documents/Tesi/code/models/DGDNN/Data/geometric_dataset_gen.py:133: FutureWarning: The behavior of 'isin' with dtype=datetime64[ns] and castable values (e.g. strings) is deprecated. In a future version, these will not be considered matching by isin. Explicitly cast to the appropriate dtype before calling isin instead.\n",
            "  df = df[df.index.isin(dates_dt)]\n",
            " 73%|███████▎  | 303/416 [04:01<01:33,  1.21it/s]"
          ]
        },
        {
          "name": "stdout",
          "output_type": "stream",
          "text": [
            "Generating graph 303/416...\n"
          ]
        },
        {
          "name": "stderr",
          "output_type": "stream",
          "text": [
            "/Users/mirco/Documents/Tesi/code/models/DGDNN/Data/geometric_dataset_gen.py:133: FutureWarning: The behavior of 'isin' with dtype=datetime64[ns] and castable values (e.g. strings) is deprecated. In a future version, these will not be considered matching by isin. Explicitly cast to the appropriate dtype before calling isin instead.\n",
            "  df = df[df.index.isin(dates_dt)]\n",
            "/Users/mirco/Documents/Tesi/code/models/DGDNN/Data/geometric_dataset_gen.py:133: FutureWarning: The behavior of 'isin' with dtype=datetime64[ns] and castable values (e.g. strings) is deprecated. In a future version, these will not be considered matching by isin. Explicitly cast to the appropriate dtype before calling isin instead.\n",
            "  df = df[df.index.isin(dates_dt)]\n",
            "/Users/mirco/Documents/Tesi/code/models/DGDNN/Data/geometric_dataset_gen.py:133: FutureWarning: The behavior of 'isin' with dtype=datetime64[ns] and castable values (e.g. strings) is deprecated. In a future version, these will not be considered matching by isin. Explicitly cast to the appropriate dtype before calling isin instead.\n",
            "  df = df[df.index.isin(dates_dt)]\n",
            "/Users/mirco/Documents/Tesi/code/models/DGDNN/Data/geometric_dataset_gen.py:133: FutureWarning: The behavior of 'isin' with dtype=datetime64[ns] and castable values (e.g. strings) is deprecated. In a future version, these will not be considered matching by isin. Explicitly cast to the appropriate dtype before calling isin instead.\n",
            "  df = df[df.index.isin(dates_dt)]\n",
            " 73%|███████▎  | 304/416 [04:02<01:35,  1.17it/s]"
          ]
        },
        {
          "name": "stdout",
          "output_type": "stream",
          "text": [
            "Generating graph 304/416...\n"
          ]
        },
        {
          "name": "stderr",
          "output_type": "stream",
          "text": [
            "/Users/mirco/Documents/Tesi/code/models/DGDNN/Data/geometric_dataset_gen.py:133: FutureWarning: The behavior of 'isin' with dtype=datetime64[ns] and castable values (e.g. strings) is deprecated. In a future version, these will not be considered matching by isin. Explicitly cast to the appropriate dtype before calling isin instead.\n",
            "  df = df[df.index.isin(dates_dt)]\n",
            "/Users/mirco/Documents/Tesi/code/models/DGDNN/Data/geometric_dataset_gen.py:133: FutureWarning: The behavior of 'isin' with dtype=datetime64[ns] and castable values (e.g. strings) is deprecated. In a future version, these will not be considered matching by isin. Explicitly cast to the appropriate dtype before calling isin instead.\n",
            "  df = df[df.index.isin(dates_dt)]\n",
            "/Users/mirco/Documents/Tesi/code/models/DGDNN/Data/geometric_dataset_gen.py:133: FutureWarning: The behavior of 'isin' with dtype=datetime64[ns] and castable values (e.g. strings) is deprecated. In a future version, these will not be considered matching by isin. Explicitly cast to the appropriate dtype before calling isin instead.\n",
            "  df = df[df.index.isin(dates_dt)]\n",
            "/Users/mirco/Documents/Tesi/code/models/DGDNN/Data/geometric_dataset_gen.py:133: FutureWarning: The behavior of 'isin' with dtype=datetime64[ns] and castable values (e.g. strings) is deprecated. In a future version, these will not be considered matching by isin. Explicitly cast to the appropriate dtype before calling isin instead.\n",
            "  df = df[df.index.isin(dates_dt)]\n",
            " 73%|███████▎  | 305/416 [04:02<01:32,  1.20it/s]"
          ]
        },
        {
          "name": "stdout",
          "output_type": "stream",
          "text": [
            "Generating graph 305/416...\n"
          ]
        },
        {
          "name": "stderr",
          "output_type": "stream",
          "text": [
            "/Users/mirco/Documents/Tesi/code/models/DGDNN/Data/geometric_dataset_gen.py:133: FutureWarning: The behavior of 'isin' with dtype=datetime64[ns] and castable values (e.g. strings) is deprecated. In a future version, these will not be considered matching by isin. Explicitly cast to the appropriate dtype before calling isin instead.\n",
            "  df = df[df.index.isin(dates_dt)]\n",
            "/Users/mirco/Documents/Tesi/code/models/DGDNN/Data/geometric_dataset_gen.py:133: FutureWarning: The behavior of 'isin' with dtype=datetime64[ns] and castable values (e.g. strings) is deprecated. In a future version, these will not be considered matching by isin. Explicitly cast to the appropriate dtype before calling isin instead.\n",
            "  df = df[df.index.isin(dates_dt)]\n",
            "/Users/mirco/Documents/Tesi/code/models/DGDNN/Data/geometric_dataset_gen.py:133: FutureWarning: The behavior of 'isin' with dtype=datetime64[ns] and castable values (e.g. strings) is deprecated. In a future version, these will not be considered matching by isin. Explicitly cast to the appropriate dtype before calling isin instead.\n",
            "  df = df[df.index.isin(dates_dt)]\n",
            "/Users/mirco/Documents/Tesi/code/models/DGDNN/Data/geometric_dataset_gen.py:133: FutureWarning: The behavior of 'isin' with dtype=datetime64[ns] and castable values (e.g. strings) is deprecated. In a future version, these will not be considered matching by isin. Explicitly cast to the appropriate dtype before calling isin instead.\n",
            "  df = df[df.index.isin(dates_dt)]\n",
            " 74%|███████▎  | 306/416 [04:03<01:31,  1.20it/s]"
          ]
        },
        {
          "name": "stdout",
          "output_type": "stream",
          "text": [
            "Generating graph 306/416...\n"
          ]
        },
        {
          "name": "stderr",
          "output_type": "stream",
          "text": [
            "/Users/mirco/Documents/Tesi/code/models/DGDNN/Data/geometric_dataset_gen.py:133: FutureWarning: The behavior of 'isin' with dtype=datetime64[ns] and castable values (e.g. strings) is deprecated. In a future version, these will not be considered matching by isin. Explicitly cast to the appropriate dtype before calling isin instead.\n",
            "  df = df[df.index.isin(dates_dt)]\n",
            "/Users/mirco/Documents/Tesi/code/models/DGDNN/Data/geometric_dataset_gen.py:133: FutureWarning: The behavior of 'isin' with dtype=datetime64[ns] and castable values (e.g. strings) is deprecated. In a future version, these will not be considered matching by isin. Explicitly cast to the appropriate dtype before calling isin instead.\n",
            "  df = df[df.index.isin(dates_dt)]\n",
            "/Users/mirco/Documents/Tesi/code/models/DGDNN/Data/geometric_dataset_gen.py:133: FutureWarning: The behavior of 'isin' with dtype=datetime64[ns] and castable values (e.g. strings) is deprecated. In a future version, these will not be considered matching by isin. Explicitly cast to the appropriate dtype before calling isin instead.\n",
            "  df = df[df.index.isin(dates_dt)]\n",
            "/Users/mirco/Documents/Tesi/code/models/DGDNN/Data/geometric_dataset_gen.py:133: FutureWarning: The behavior of 'isin' with dtype=datetime64[ns] and castable values (e.g. strings) is deprecated. In a future version, these will not be considered matching by isin. Explicitly cast to the appropriate dtype before calling isin instead.\n",
            "  df = df[df.index.isin(dates_dt)]\n",
            " 74%|███████▍  | 307/416 [04:04<01:29,  1.21it/s]"
          ]
        },
        {
          "name": "stdout",
          "output_type": "stream",
          "text": [
            "Generating graph 307/416...\n"
          ]
        },
        {
          "name": "stderr",
          "output_type": "stream",
          "text": [
            "/Users/mirco/Documents/Tesi/code/models/DGDNN/Data/geometric_dataset_gen.py:133: FutureWarning: The behavior of 'isin' with dtype=datetime64[ns] and castable values (e.g. strings) is deprecated. In a future version, these will not be considered matching by isin. Explicitly cast to the appropriate dtype before calling isin instead.\n",
            "  df = df[df.index.isin(dates_dt)]\n",
            "/Users/mirco/Documents/Tesi/code/models/DGDNN/Data/geometric_dataset_gen.py:133: FutureWarning: The behavior of 'isin' with dtype=datetime64[ns] and castable values (e.g. strings) is deprecated. In a future version, these will not be considered matching by isin. Explicitly cast to the appropriate dtype before calling isin instead.\n",
            "  df = df[df.index.isin(dates_dt)]\n",
            "/Users/mirco/Documents/Tesi/code/models/DGDNN/Data/geometric_dataset_gen.py:133: FutureWarning: The behavior of 'isin' with dtype=datetime64[ns] and castable values (e.g. strings) is deprecated. In a future version, these will not be considered matching by isin. Explicitly cast to the appropriate dtype before calling isin instead.\n",
            "  df = df[df.index.isin(dates_dt)]\n",
            "/Users/mirco/Documents/Tesi/code/models/DGDNN/Data/geometric_dataset_gen.py:133: FutureWarning: The behavior of 'isin' with dtype=datetime64[ns] and castable values (e.g. strings) is deprecated. In a future version, these will not be considered matching by isin. Explicitly cast to the appropriate dtype before calling isin instead.\n",
            "  df = df[df.index.isin(dates_dt)]\n",
            " 74%|███████▍  | 308/416 [04:05<01:32,  1.17it/s]"
          ]
        },
        {
          "name": "stdout",
          "output_type": "stream",
          "text": [
            "Generating graph 308/416...\n"
          ]
        },
        {
          "name": "stderr",
          "output_type": "stream",
          "text": [
            "/Users/mirco/Documents/Tesi/code/models/DGDNN/Data/geometric_dataset_gen.py:133: FutureWarning: The behavior of 'isin' with dtype=datetime64[ns] and castable values (e.g. strings) is deprecated. In a future version, these will not be considered matching by isin. Explicitly cast to the appropriate dtype before calling isin instead.\n",
            "  df = df[df.index.isin(dates_dt)]\n",
            "/Users/mirco/Documents/Tesi/code/models/DGDNN/Data/geometric_dataset_gen.py:133: FutureWarning: The behavior of 'isin' with dtype=datetime64[ns] and castable values (e.g. strings) is deprecated. In a future version, these will not be considered matching by isin. Explicitly cast to the appropriate dtype before calling isin instead.\n",
            "  df = df[df.index.isin(dates_dt)]\n",
            "/Users/mirco/Documents/Tesi/code/models/DGDNN/Data/geometric_dataset_gen.py:133: FutureWarning: The behavior of 'isin' with dtype=datetime64[ns] and castable values (e.g. strings) is deprecated. In a future version, these will not be considered matching by isin. Explicitly cast to the appropriate dtype before calling isin instead.\n",
            "  df = df[df.index.isin(dates_dt)]\n",
            "/Users/mirco/Documents/Tesi/code/models/DGDNN/Data/geometric_dataset_gen.py:133: FutureWarning: The behavior of 'isin' with dtype=datetime64[ns] and castable values (e.g. strings) is deprecated. In a future version, these will not be considered matching by isin. Explicitly cast to the appropriate dtype before calling isin instead.\n",
            "  df = df[df.index.isin(dates_dt)]\n",
            " 74%|███████▍  | 309/416 [04:06<01:29,  1.20it/s]"
          ]
        },
        {
          "name": "stdout",
          "output_type": "stream",
          "text": [
            "Generating graph 309/416...\n"
          ]
        },
        {
          "name": "stderr",
          "output_type": "stream",
          "text": [
            "/Users/mirco/Documents/Tesi/code/models/DGDNN/Data/geometric_dataset_gen.py:133: FutureWarning: The behavior of 'isin' with dtype=datetime64[ns] and castable values (e.g. strings) is deprecated. In a future version, these will not be considered matching by isin. Explicitly cast to the appropriate dtype before calling isin instead.\n",
            "  df = df[df.index.isin(dates_dt)]\n",
            "/Users/mirco/Documents/Tesi/code/models/DGDNN/Data/geometric_dataset_gen.py:133: FutureWarning: The behavior of 'isin' with dtype=datetime64[ns] and castable values (e.g. strings) is deprecated. In a future version, these will not be considered matching by isin. Explicitly cast to the appropriate dtype before calling isin instead.\n",
            "  df = df[df.index.isin(dates_dt)]\n",
            "/Users/mirco/Documents/Tesi/code/models/DGDNN/Data/geometric_dataset_gen.py:133: FutureWarning: The behavior of 'isin' with dtype=datetime64[ns] and castable values (e.g. strings) is deprecated. In a future version, these will not be considered matching by isin. Explicitly cast to the appropriate dtype before calling isin instead.\n",
            "  df = df[df.index.isin(dates_dt)]\n",
            "/Users/mirco/Documents/Tesi/code/models/DGDNN/Data/geometric_dataset_gen.py:133: FutureWarning: The behavior of 'isin' with dtype=datetime64[ns] and castable values (e.g. strings) is deprecated. In a future version, these will not be considered matching by isin. Explicitly cast to the appropriate dtype before calling isin instead.\n",
            "  df = df[df.index.isin(dates_dt)]\n",
            " 75%|███████▍  | 310/416 [04:07<01:27,  1.22it/s]"
          ]
        },
        {
          "name": "stdout",
          "output_type": "stream",
          "text": [
            "Generating graph 310/416...\n"
          ]
        },
        {
          "name": "stderr",
          "output_type": "stream",
          "text": [
            "/Users/mirco/Documents/Tesi/code/models/DGDNN/Data/geometric_dataset_gen.py:133: FutureWarning: The behavior of 'isin' with dtype=datetime64[ns] and castable values (e.g. strings) is deprecated. In a future version, these will not be considered matching by isin. Explicitly cast to the appropriate dtype before calling isin instead.\n",
            "  df = df[df.index.isin(dates_dt)]\n",
            "/Users/mirco/Documents/Tesi/code/models/DGDNN/Data/geometric_dataset_gen.py:133: FutureWarning: The behavior of 'isin' with dtype=datetime64[ns] and castable values (e.g. strings) is deprecated. In a future version, these will not be considered matching by isin. Explicitly cast to the appropriate dtype before calling isin instead.\n",
            "  df = df[df.index.isin(dates_dt)]\n",
            "/Users/mirco/Documents/Tesi/code/models/DGDNN/Data/geometric_dataset_gen.py:133: FutureWarning: The behavior of 'isin' with dtype=datetime64[ns] and castable values (e.g. strings) is deprecated. In a future version, these will not be considered matching by isin. Explicitly cast to the appropriate dtype before calling isin instead.\n",
            "  df = df[df.index.isin(dates_dt)]\n",
            "/Users/mirco/Documents/Tesi/code/models/DGDNN/Data/geometric_dataset_gen.py:133: FutureWarning: The behavior of 'isin' with dtype=datetime64[ns] and castable values (e.g. strings) is deprecated. In a future version, these will not be considered matching by isin. Explicitly cast to the appropriate dtype before calling isin instead.\n",
            "  df = df[df.index.isin(dates_dt)]\n",
            " 75%|███████▍  | 311/416 [04:07<01:30,  1.16it/s]"
          ]
        },
        {
          "name": "stdout",
          "output_type": "stream",
          "text": [
            "Generating graph 311/416...\n"
          ]
        },
        {
          "name": "stderr",
          "output_type": "stream",
          "text": [
            "/Users/mirco/Documents/Tesi/code/models/DGDNN/Data/geometric_dataset_gen.py:133: FutureWarning: The behavior of 'isin' with dtype=datetime64[ns] and castable values (e.g. strings) is deprecated. In a future version, these will not be considered matching by isin. Explicitly cast to the appropriate dtype before calling isin instead.\n",
            "  df = df[df.index.isin(dates_dt)]\n",
            "/Users/mirco/Documents/Tesi/code/models/DGDNN/Data/geometric_dataset_gen.py:133: FutureWarning: The behavior of 'isin' with dtype=datetime64[ns] and castable values (e.g. strings) is deprecated. In a future version, these will not be considered matching by isin. Explicitly cast to the appropriate dtype before calling isin instead.\n",
            "  df = df[df.index.isin(dates_dt)]\n",
            "/Users/mirco/Documents/Tesi/code/models/DGDNN/Data/geometric_dataset_gen.py:133: FutureWarning: The behavior of 'isin' with dtype=datetime64[ns] and castable values (e.g. strings) is deprecated. In a future version, these will not be considered matching by isin. Explicitly cast to the appropriate dtype before calling isin instead.\n",
            "  df = df[df.index.isin(dates_dt)]\n",
            "/Users/mirco/Documents/Tesi/code/models/DGDNN/Data/geometric_dataset_gen.py:133: FutureWarning: The behavior of 'isin' with dtype=datetime64[ns] and castable values (e.g. strings) is deprecated. In a future version, these will not be considered matching by isin. Explicitly cast to the appropriate dtype before calling isin instead.\n",
            "  df = df[df.index.isin(dates_dt)]\n",
            " 75%|███████▌  | 312/416 [04:08<01:27,  1.19it/s]"
          ]
        },
        {
          "name": "stdout",
          "output_type": "stream",
          "text": [
            "Generating graph 312/416...\n"
          ]
        },
        {
          "name": "stderr",
          "output_type": "stream",
          "text": [
            "/Users/mirco/Documents/Tesi/code/models/DGDNN/Data/geometric_dataset_gen.py:133: FutureWarning: The behavior of 'isin' with dtype=datetime64[ns] and castable values (e.g. strings) is deprecated. In a future version, these will not be considered matching by isin. Explicitly cast to the appropriate dtype before calling isin instead.\n",
            "  df = df[df.index.isin(dates_dt)]\n",
            "/Users/mirco/Documents/Tesi/code/models/DGDNN/Data/geometric_dataset_gen.py:133: FutureWarning: The behavior of 'isin' with dtype=datetime64[ns] and castable values (e.g. strings) is deprecated. In a future version, these will not be considered matching by isin. Explicitly cast to the appropriate dtype before calling isin instead.\n",
            "  df = df[df.index.isin(dates_dt)]\n",
            "/Users/mirco/Documents/Tesi/code/models/DGDNN/Data/geometric_dataset_gen.py:133: FutureWarning: The behavior of 'isin' with dtype=datetime64[ns] and castable values (e.g. strings) is deprecated. In a future version, these will not be considered matching by isin. Explicitly cast to the appropriate dtype before calling isin instead.\n",
            "  df = df[df.index.isin(dates_dt)]\n",
            "/Users/mirco/Documents/Tesi/code/models/DGDNN/Data/geometric_dataset_gen.py:133: FutureWarning: The behavior of 'isin' with dtype=datetime64[ns] and castable values (e.g. strings) is deprecated. In a future version, these will not be considered matching by isin. Explicitly cast to the appropriate dtype before calling isin instead.\n",
            "  df = df[df.index.isin(dates_dt)]\n",
            " 75%|███████▌  | 313/416 [04:09<01:25,  1.21it/s]"
          ]
        },
        {
          "name": "stdout",
          "output_type": "stream",
          "text": [
            "Generating graph 313/416...\n"
          ]
        },
        {
          "name": "stderr",
          "output_type": "stream",
          "text": [
            "/Users/mirco/Documents/Tesi/code/models/DGDNN/Data/geometric_dataset_gen.py:133: FutureWarning: The behavior of 'isin' with dtype=datetime64[ns] and castable values (e.g. strings) is deprecated. In a future version, these will not be considered matching by isin. Explicitly cast to the appropriate dtype before calling isin instead.\n",
            "  df = df[df.index.isin(dates_dt)]\n",
            "/Users/mirco/Documents/Tesi/code/models/DGDNN/Data/geometric_dataset_gen.py:133: FutureWarning: The behavior of 'isin' with dtype=datetime64[ns] and castable values (e.g. strings) is deprecated. In a future version, these will not be considered matching by isin. Explicitly cast to the appropriate dtype before calling isin instead.\n",
            "  df = df[df.index.isin(dates_dt)]\n",
            "/Users/mirco/Documents/Tesi/code/models/DGDNN/Data/geometric_dataset_gen.py:133: FutureWarning: The behavior of 'isin' with dtype=datetime64[ns] and castable values (e.g. strings) is deprecated. In a future version, these will not be considered matching by isin. Explicitly cast to the appropriate dtype before calling isin instead.\n",
            "  df = df[df.index.isin(dates_dt)]\n",
            "/Users/mirco/Documents/Tesi/code/models/DGDNN/Data/geometric_dataset_gen.py:133: FutureWarning: The behavior of 'isin' with dtype=datetime64[ns] and castable values (e.g. strings) is deprecated. In a future version, these will not be considered matching by isin. Explicitly cast to the appropriate dtype before calling isin instead.\n",
            "  df = df[df.index.isin(dates_dt)]\n",
            " 75%|███████▌  | 314/416 [04:10<01:27,  1.16it/s]"
          ]
        },
        {
          "name": "stdout",
          "output_type": "stream",
          "text": [
            "Generating graph 314/416...\n"
          ]
        },
        {
          "name": "stderr",
          "output_type": "stream",
          "text": [
            "/Users/mirco/Documents/Tesi/code/models/DGDNN/Data/geometric_dataset_gen.py:133: FutureWarning: The behavior of 'isin' with dtype=datetime64[ns] and castable values (e.g. strings) is deprecated. In a future version, these will not be considered matching by isin. Explicitly cast to the appropriate dtype before calling isin instead.\n",
            "  df = df[df.index.isin(dates_dt)]\n",
            "/Users/mirco/Documents/Tesi/code/models/DGDNN/Data/geometric_dataset_gen.py:133: FutureWarning: The behavior of 'isin' with dtype=datetime64[ns] and castable values (e.g. strings) is deprecated. In a future version, these will not be considered matching by isin. Explicitly cast to the appropriate dtype before calling isin instead.\n",
            "  df = df[df.index.isin(dates_dt)]\n",
            "/Users/mirco/Documents/Tesi/code/models/DGDNN/Data/geometric_dataset_gen.py:133: FutureWarning: The behavior of 'isin' with dtype=datetime64[ns] and castable values (e.g. strings) is deprecated. In a future version, these will not be considered matching by isin. Explicitly cast to the appropriate dtype before calling isin instead.\n",
            "  df = df[df.index.isin(dates_dt)]\n",
            "/Users/mirco/Documents/Tesi/code/models/DGDNN/Data/geometric_dataset_gen.py:133: FutureWarning: The behavior of 'isin' with dtype=datetime64[ns] and castable values (e.g. strings) is deprecated. In a future version, these will not be considered matching by isin. Explicitly cast to the appropriate dtype before calling isin instead.\n",
            "  df = df[df.index.isin(dates_dt)]\n",
            " 76%|███████▌  | 315/416 [04:11<01:24,  1.19it/s]"
          ]
        },
        {
          "name": "stdout",
          "output_type": "stream",
          "text": [
            "Generating graph 315/416...\n"
          ]
        },
        {
          "name": "stderr",
          "output_type": "stream",
          "text": [
            "/Users/mirco/Documents/Tesi/code/models/DGDNN/Data/geometric_dataset_gen.py:133: FutureWarning: The behavior of 'isin' with dtype=datetime64[ns] and castable values (e.g. strings) is deprecated. In a future version, these will not be considered matching by isin. Explicitly cast to the appropriate dtype before calling isin instead.\n",
            "  df = df[df.index.isin(dates_dt)]\n",
            "/Users/mirco/Documents/Tesi/code/models/DGDNN/Data/geometric_dataset_gen.py:133: FutureWarning: The behavior of 'isin' with dtype=datetime64[ns] and castable values (e.g. strings) is deprecated. In a future version, these will not be considered matching by isin. Explicitly cast to the appropriate dtype before calling isin instead.\n",
            "  df = df[df.index.isin(dates_dt)]\n",
            "/Users/mirco/Documents/Tesi/code/models/DGDNN/Data/geometric_dataset_gen.py:133: FutureWarning: The behavior of 'isin' with dtype=datetime64[ns] and castable values (e.g. strings) is deprecated. In a future version, these will not be considered matching by isin. Explicitly cast to the appropriate dtype before calling isin instead.\n",
            "  df = df[df.index.isin(dates_dt)]\n",
            "/Users/mirco/Documents/Tesi/code/models/DGDNN/Data/geometric_dataset_gen.py:133: FutureWarning: The behavior of 'isin' with dtype=datetime64[ns] and castable values (e.g. strings) is deprecated. In a future version, these will not be considered matching by isin. Explicitly cast to the appropriate dtype before calling isin instead.\n",
            "  df = df[df.index.isin(dates_dt)]\n",
            " 76%|███████▌  | 316/416 [04:12<01:22,  1.21it/s]"
          ]
        },
        {
          "name": "stdout",
          "output_type": "stream",
          "text": [
            "Generating graph 316/416...\n"
          ]
        },
        {
          "name": "stderr",
          "output_type": "stream",
          "text": [
            "/Users/mirco/Documents/Tesi/code/models/DGDNN/Data/geometric_dataset_gen.py:133: FutureWarning: The behavior of 'isin' with dtype=datetime64[ns] and castable values (e.g. strings) is deprecated. In a future version, these will not be considered matching by isin. Explicitly cast to the appropriate dtype before calling isin instead.\n",
            "  df = df[df.index.isin(dates_dt)]\n",
            "/Users/mirco/Documents/Tesi/code/models/DGDNN/Data/geometric_dataset_gen.py:133: FutureWarning: The behavior of 'isin' with dtype=datetime64[ns] and castable values (e.g. strings) is deprecated. In a future version, these will not be considered matching by isin. Explicitly cast to the appropriate dtype before calling isin instead.\n",
            "  df = df[df.index.isin(dates_dt)]\n",
            "/Users/mirco/Documents/Tesi/code/models/DGDNN/Data/geometric_dataset_gen.py:133: FutureWarning: The behavior of 'isin' with dtype=datetime64[ns] and castable values (e.g. strings) is deprecated. In a future version, these will not be considered matching by isin. Explicitly cast to the appropriate dtype before calling isin instead.\n",
            "  df = df[df.index.isin(dates_dt)]\n",
            "/Users/mirco/Documents/Tesi/code/models/DGDNN/Data/geometric_dataset_gen.py:133: FutureWarning: The behavior of 'isin' with dtype=datetime64[ns] and castable values (e.g. strings) is deprecated. In a future version, these will not be considered matching by isin. Explicitly cast to the appropriate dtype before calling isin instead.\n",
            "  df = df[df.index.isin(dates_dt)]\n",
            " 76%|███████▌  | 317/416 [04:12<01:21,  1.22it/s]"
          ]
        },
        {
          "name": "stdout",
          "output_type": "stream",
          "text": [
            "Generating graph 317/416...\n"
          ]
        },
        {
          "name": "stderr",
          "output_type": "stream",
          "text": [
            "/Users/mirco/Documents/Tesi/code/models/DGDNN/Data/geometric_dataset_gen.py:133: FutureWarning: The behavior of 'isin' with dtype=datetime64[ns] and castable values (e.g. strings) is deprecated. In a future version, these will not be considered matching by isin. Explicitly cast to the appropriate dtype before calling isin instead.\n",
            "  df = df[df.index.isin(dates_dt)]\n",
            "/Users/mirco/Documents/Tesi/code/models/DGDNN/Data/geometric_dataset_gen.py:133: FutureWarning: The behavior of 'isin' with dtype=datetime64[ns] and castable values (e.g. strings) is deprecated. In a future version, these will not be considered matching by isin. Explicitly cast to the appropriate dtype before calling isin instead.\n",
            "  df = df[df.index.isin(dates_dt)]\n",
            "/Users/mirco/Documents/Tesi/code/models/DGDNN/Data/geometric_dataset_gen.py:133: FutureWarning: The behavior of 'isin' with dtype=datetime64[ns] and castable values (e.g. strings) is deprecated. In a future version, these will not be considered matching by isin. Explicitly cast to the appropriate dtype before calling isin instead.\n",
            "  df = df[df.index.isin(dates_dt)]\n",
            "/Users/mirco/Documents/Tesi/code/models/DGDNN/Data/geometric_dataset_gen.py:133: FutureWarning: The behavior of 'isin' with dtype=datetime64[ns] and castable values (e.g. strings) is deprecated. In a future version, these will not be considered matching by isin. Explicitly cast to the appropriate dtype before calling isin instead.\n",
            "  df = df[df.index.isin(dates_dt)]\n",
            " 76%|███████▋  | 318/416 [04:13<01:23,  1.18it/s]"
          ]
        },
        {
          "name": "stdout",
          "output_type": "stream",
          "text": [
            "Generating graph 318/416...\n"
          ]
        },
        {
          "name": "stderr",
          "output_type": "stream",
          "text": [
            "/Users/mirco/Documents/Tesi/code/models/DGDNN/Data/geometric_dataset_gen.py:133: FutureWarning: The behavior of 'isin' with dtype=datetime64[ns] and castable values (e.g. strings) is deprecated. In a future version, these will not be considered matching by isin. Explicitly cast to the appropriate dtype before calling isin instead.\n",
            "  df = df[df.index.isin(dates_dt)]\n",
            "/Users/mirco/Documents/Tesi/code/models/DGDNN/Data/geometric_dataset_gen.py:133: FutureWarning: The behavior of 'isin' with dtype=datetime64[ns] and castable values (e.g. strings) is deprecated. In a future version, these will not be considered matching by isin. Explicitly cast to the appropriate dtype before calling isin instead.\n",
            "  df = df[df.index.isin(dates_dt)]\n",
            "/Users/mirco/Documents/Tesi/code/models/DGDNN/Data/geometric_dataset_gen.py:133: FutureWarning: The behavior of 'isin' with dtype=datetime64[ns] and castable values (e.g. strings) is deprecated. In a future version, these will not be considered matching by isin. Explicitly cast to the appropriate dtype before calling isin instead.\n",
            "  df = df[df.index.isin(dates_dt)]\n",
            "/Users/mirco/Documents/Tesi/code/models/DGDNN/Data/geometric_dataset_gen.py:133: FutureWarning: The behavior of 'isin' with dtype=datetime64[ns] and castable values (e.g. strings) is deprecated. In a future version, these will not be considered matching by isin. Explicitly cast to the appropriate dtype before calling isin instead.\n",
            "  df = df[df.index.isin(dates_dt)]\n",
            " 77%|███████▋  | 319/416 [04:14<01:20,  1.20it/s]"
          ]
        },
        {
          "name": "stdout",
          "output_type": "stream",
          "text": [
            "Generating graph 319/416...\n"
          ]
        },
        {
          "name": "stderr",
          "output_type": "stream",
          "text": [
            "/Users/mirco/Documents/Tesi/code/models/DGDNN/Data/geometric_dataset_gen.py:133: FutureWarning: The behavior of 'isin' with dtype=datetime64[ns] and castable values (e.g. strings) is deprecated. In a future version, these will not be considered matching by isin. Explicitly cast to the appropriate dtype before calling isin instead.\n",
            "  df = df[df.index.isin(dates_dt)]\n",
            "/Users/mirco/Documents/Tesi/code/models/DGDNN/Data/geometric_dataset_gen.py:133: FutureWarning: The behavior of 'isin' with dtype=datetime64[ns] and castable values (e.g. strings) is deprecated. In a future version, these will not be considered matching by isin. Explicitly cast to the appropriate dtype before calling isin instead.\n",
            "  df = df[df.index.isin(dates_dt)]\n",
            "/Users/mirco/Documents/Tesi/code/models/DGDNN/Data/geometric_dataset_gen.py:133: FutureWarning: The behavior of 'isin' with dtype=datetime64[ns] and castable values (e.g. strings) is deprecated. In a future version, these will not be considered matching by isin. Explicitly cast to the appropriate dtype before calling isin instead.\n",
            "  df = df[df.index.isin(dates_dt)]\n",
            "/Users/mirco/Documents/Tesi/code/models/DGDNN/Data/geometric_dataset_gen.py:133: FutureWarning: The behavior of 'isin' with dtype=datetime64[ns] and castable values (e.g. strings) is deprecated. In a future version, these will not be considered matching by isin. Explicitly cast to the appropriate dtype before calling isin instead.\n",
            "  df = df[df.index.isin(dates_dt)]\n",
            " 77%|███████▋  | 320/416 [04:15<01:20,  1.20it/s]"
          ]
        },
        {
          "name": "stdout",
          "output_type": "stream",
          "text": [
            "Generating graph 320/416...\n"
          ]
        },
        {
          "name": "stderr",
          "output_type": "stream",
          "text": [
            "/Users/mirco/Documents/Tesi/code/models/DGDNN/Data/geometric_dataset_gen.py:133: FutureWarning: The behavior of 'isin' with dtype=datetime64[ns] and castable values (e.g. strings) is deprecated. In a future version, these will not be considered matching by isin. Explicitly cast to the appropriate dtype before calling isin instead.\n",
            "  df = df[df.index.isin(dates_dt)]\n",
            "/Users/mirco/Documents/Tesi/code/models/DGDNN/Data/geometric_dataset_gen.py:133: FutureWarning: The behavior of 'isin' with dtype=datetime64[ns] and castable values (e.g. strings) is deprecated. In a future version, these will not be considered matching by isin. Explicitly cast to the appropriate dtype before calling isin instead.\n",
            "  df = df[df.index.isin(dates_dt)]\n",
            "/Users/mirco/Documents/Tesi/code/models/DGDNN/Data/geometric_dataset_gen.py:133: FutureWarning: The behavior of 'isin' with dtype=datetime64[ns] and castable values (e.g. strings) is deprecated. In a future version, these will not be considered matching by isin. Explicitly cast to the appropriate dtype before calling isin instead.\n",
            "  df = df[df.index.isin(dates_dt)]\n",
            "/Users/mirco/Documents/Tesi/code/models/DGDNN/Data/geometric_dataset_gen.py:133: FutureWarning: The behavior of 'isin' with dtype=datetime64[ns] and castable values (e.g. strings) is deprecated. In a future version, these will not be considered matching by isin. Explicitly cast to the appropriate dtype before calling isin instead.\n",
            "  df = df[df.index.isin(dates_dt)]\n",
            " 77%|███████▋  | 321/416 [04:16<01:23,  1.14it/s]"
          ]
        },
        {
          "name": "stdout",
          "output_type": "stream",
          "text": [
            "Generating graph 321/416...\n"
          ]
        },
        {
          "name": "stderr",
          "output_type": "stream",
          "text": [
            "/Users/mirco/Documents/Tesi/code/models/DGDNN/Data/geometric_dataset_gen.py:133: FutureWarning: The behavior of 'isin' with dtype=datetime64[ns] and castable values (e.g. strings) is deprecated. In a future version, these will not be considered matching by isin. Explicitly cast to the appropriate dtype before calling isin instead.\n",
            "  df = df[df.index.isin(dates_dt)]\n",
            "/Users/mirco/Documents/Tesi/code/models/DGDNN/Data/geometric_dataset_gen.py:133: FutureWarning: The behavior of 'isin' with dtype=datetime64[ns] and castable values (e.g. strings) is deprecated. In a future version, these will not be considered matching by isin. Explicitly cast to the appropriate dtype before calling isin instead.\n",
            "  df = df[df.index.isin(dates_dt)]\n",
            "/Users/mirco/Documents/Tesi/code/models/DGDNN/Data/geometric_dataset_gen.py:133: FutureWarning: The behavior of 'isin' with dtype=datetime64[ns] and castable values (e.g. strings) is deprecated. In a future version, these will not be considered matching by isin. Explicitly cast to the appropriate dtype before calling isin instead.\n",
            "  df = df[df.index.isin(dates_dt)]\n",
            "/Users/mirco/Documents/Tesi/code/models/DGDNN/Data/geometric_dataset_gen.py:133: FutureWarning: The behavior of 'isin' with dtype=datetime64[ns] and castable values (e.g. strings) is deprecated. In a future version, these will not be considered matching by isin. Explicitly cast to the appropriate dtype before calling isin instead.\n",
            "  df = df[df.index.isin(dates_dt)]\n",
            " 77%|███████▋  | 322/416 [04:17<01:22,  1.14it/s]"
          ]
        },
        {
          "name": "stdout",
          "output_type": "stream",
          "text": [
            "Generating graph 322/416...\n"
          ]
        },
        {
          "name": "stderr",
          "output_type": "stream",
          "text": [
            "/Users/mirco/Documents/Tesi/code/models/DGDNN/Data/geometric_dataset_gen.py:133: FutureWarning: The behavior of 'isin' with dtype=datetime64[ns] and castable values (e.g. strings) is deprecated. In a future version, these will not be considered matching by isin. Explicitly cast to the appropriate dtype before calling isin instead.\n",
            "  df = df[df.index.isin(dates_dt)]\n",
            "/Users/mirco/Documents/Tesi/code/models/DGDNN/Data/geometric_dataset_gen.py:133: FutureWarning: The behavior of 'isin' with dtype=datetime64[ns] and castable values (e.g. strings) is deprecated. In a future version, these will not be considered matching by isin. Explicitly cast to the appropriate dtype before calling isin instead.\n",
            "  df = df[df.index.isin(dates_dt)]\n",
            "/Users/mirco/Documents/Tesi/code/models/DGDNN/Data/geometric_dataset_gen.py:133: FutureWarning: The behavior of 'isin' with dtype=datetime64[ns] and castable values (e.g. strings) is deprecated. In a future version, these will not be considered matching by isin. Explicitly cast to the appropriate dtype before calling isin instead.\n",
            "  df = df[df.index.isin(dates_dt)]\n",
            "/Users/mirco/Documents/Tesi/code/models/DGDNN/Data/geometric_dataset_gen.py:133: FutureWarning: The behavior of 'isin' with dtype=datetime64[ns] and castable values (e.g. strings) is deprecated. In a future version, these will not be considered matching by isin. Explicitly cast to the appropriate dtype before calling isin instead.\n",
            "  df = df[df.index.isin(dates_dt)]\n",
            " 78%|███████▊  | 323/416 [04:18<01:19,  1.16it/s]"
          ]
        },
        {
          "name": "stdout",
          "output_type": "stream",
          "text": [
            "Generating graph 323/416...\n"
          ]
        },
        {
          "name": "stderr",
          "output_type": "stream",
          "text": [
            "/Users/mirco/Documents/Tesi/code/models/DGDNN/Data/geometric_dataset_gen.py:133: FutureWarning: The behavior of 'isin' with dtype=datetime64[ns] and castable values (e.g. strings) is deprecated. In a future version, these will not be considered matching by isin. Explicitly cast to the appropriate dtype before calling isin instead.\n",
            "  df = df[df.index.isin(dates_dt)]\n",
            "/Users/mirco/Documents/Tesi/code/models/DGDNN/Data/geometric_dataset_gen.py:133: FutureWarning: The behavior of 'isin' with dtype=datetime64[ns] and castable values (e.g. strings) is deprecated. In a future version, these will not be considered matching by isin. Explicitly cast to the appropriate dtype before calling isin instead.\n",
            "  df = df[df.index.isin(dates_dt)]\n",
            "/Users/mirco/Documents/Tesi/code/models/DGDNN/Data/geometric_dataset_gen.py:133: FutureWarning: The behavior of 'isin' with dtype=datetime64[ns] and castable values (e.g. strings) is deprecated. In a future version, these will not be considered matching by isin. Explicitly cast to the appropriate dtype before calling isin instead.\n",
            "  df = df[df.index.isin(dates_dt)]\n",
            "/Users/mirco/Documents/Tesi/code/models/DGDNN/Data/geometric_dataset_gen.py:133: FutureWarning: The behavior of 'isin' with dtype=datetime64[ns] and castable values (e.g. strings) is deprecated. In a future version, these will not be considered matching by isin. Explicitly cast to the appropriate dtype before calling isin instead.\n",
            "  df = df[df.index.isin(dates_dt)]\n",
            " 78%|███████▊  | 324/416 [04:18<01:18,  1.18it/s]"
          ]
        },
        {
          "name": "stdout",
          "output_type": "stream",
          "text": [
            "Generating graph 324/416...\n"
          ]
        },
        {
          "name": "stderr",
          "output_type": "stream",
          "text": [
            "/Users/mirco/Documents/Tesi/code/models/DGDNN/Data/geometric_dataset_gen.py:133: FutureWarning: The behavior of 'isin' with dtype=datetime64[ns] and castable values (e.g. strings) is deprecated. In a future version, these will not be considered matching by isin. Explicitly cast to the appropriate dtype before calling isin instead.\n",
            "  df = df[df.index.isin(dates_dt)]\n",
            "/Users/mirco/Documents/Tesi/code/models/DGDNN/Data/geometric_dataset_gen.py:133: FutureWarning: The behavior of 'isin' with dtype=datetime64[ns] and castable values (e.g. strings) is deprecated. In a future version, these will not be considered matching by isin. Explicitly cast to the appropriate dtype before calling isin instead.\n",
            "  df = df[df.index.isin(dates_dt)]\n",
            "/Users/mirco/Documents/Tesi/code/models/DGDNN/Data/geometric_dataset_gen.py:133: FutureWarning: The behavior of 'isin' with dtype=datetime64[ns] and castable values (e.g. strings) is deprecated. In a future version, these will not be considered matching by isin. Explicitly cast to the appropriate dtype before calling isin instead.\n",
            "  df = df[df.index.isin(dates_dt)]\n",
            "/Users/mirco/Documents/Tesi/code/models/DGDNN/Data/geometric_dataset_gen.py:133: FutureWarning: The behavior of 'isin' with dtype=datetime64[ns] and castable values (e.g. strings) is deprecated. In a future version, these will not be considered matching by isin. Explicitly cast to the appropriate dtype before calling isin instead.\n",
            "  df = df[df.index.isin(dates_dt)]\n",
            " 78%|███████▊  | 325/416 [04:19<01:21,  1.12it/s]"
          ]
        },
        {
          "name": "stdout",
          "output_type": "stream",
          "text": [
            "Generating graph 325/416...\n"
          ]
        },
        {
          "name": "stderr",
          "output_type": "stream",
          "text": [
            "/Users/mirco/Documents/Tesi/code/models/DGDNN/Data/geometric_dataset_gen.py:133: FutureWarning: The behavior of 'isin' with dtype=datetime64[ns] and castable values (e.g. strings) is deprecated. In a future version, these will not be considered matching by isin. Explicitly cast to the appropriate dtype before calling isin instead.\n",
            "  df = df[df.index.isin(dates_dt)]\n",
            "/Users/mirco/Documents/Tesi/code/models/DGDNN/Data/geometric_dataset_gen.py:133: FutureWarning: The behavior of 'isin' with dtype=datetime64[ns] and castable values (e.g. strings) is deprecated. In a future version, these will not be considered matching by isin. Explicitly cast to the appropriate dtype before calling isin instead.\n",
            "  df = df[df.index.isin(dates_dt)]\n",
            "/Users/mirco/Documents/Tesi/code/models/DGDNN/Data/geometric_dataset_gen.py:133: FutureWarning: The behavior of 'isin' with dtype=datetime64[ns] and castable values (e.g. strings) is deprecated. In a future version, these will not be considered matching by isin. Explicitly cast to the appropriate dtype before calling isin instead.\n",
            "  df = df[df.index.isin(dates_dt)]\n",
            "/Users/mirco/Documents/Tesi/code/models/DGDNN/Data/geometric_dataset_gen.py:133: FutureWarning: The behavior of 'isin' with dtype=datetime64[ns] and castable values (e.g. strings) is deprecated. In a future version, these will not be considered matching by isin. Explicitly cast to the appropriate dtype before calling isin instead.\n",
            "  df = df[df.index.isin(dates_dt)]\n",
            " 78%|███████▊  | 326/416 [04:20<01:18,  1.15it/s]"
          ]
        },
        {
          "name": "stdout",
          "output_type": "stream",
          "text": [
            "Generating graph 326/416...\n"
          ]
        },
        {
          "name": "stderr",
          "output_type": "stream",
          "text": [
            "/Users/mirco/Documents/Tesi/code/models/DGDNN/Data/geometric_dataset_gen.py:133: FutureWarning: The behavior of 'isin' with dtype=datetime64[ns] and castable values (e.g. strings) is deprecated. In a future version, these will not be considered matching by isin. Explicitly cast to the appropriate dtype before calling isin instead.\n",
            "  df = df[df.index.isin(dates_dt)]\n",
            "/Users/mirco/Documents/Tesi/code/models/DGDNN/Data/geometric_dataset_gen.py:133: FutureWarning: The behavior of 'isin' with dtype=datetime64[ns] and castable values (e.g. strings) is deprecated. In a future version, these will not be considered matching by isin. Explicitly cast to the appropriate dtype before calling isin instead.\n",
            "  df = df[df.index.isin(dates_dt)]\n",
            "/Users/mirco/Documents/Tesi/code/models/DGDNN/Data/geometric_dataset_gen.py:133: FutureWarning: The behavior of 'isin' with dtype=datetime64[ns] and castable values (e.g. strings) is deprecated. In a future version, these will not be considered matching by isin. Explicitly cast to the appropriate dtype before calling isin instead.\n",
            "  df = df[df.index.isin(dates_dt)]\n",
            "/Users/mirco/Documents/Tesi/code/models/DGDNN/Data/geometric_dataset_gen.py:133: FutureWarning: The behavior of 'isin' with dtype=datetime64[ns] and castable values (e.g. strings) is deprecated. In a future version, these will not be considered matching by isin. Explicitly cast to the appropriate dtype before calling isin instead.\n",
            "  df = df[df.index.isin(dates_dt)]\n",
            " 79%|███████▊  | 327/416 [04:21<01:15,  1.18it/s]"
          ]
        },
        {
          "name": "stdout",
          "output_type": "stream",
          "text": [
            "Generating graph 327/416...\n"
          ]
        },
        {
          "name": "stderr",
          "output_type": "stream",
          "text": [
            "/Users/mirco/Documents/Tesi/code/models/DGDNN/Data/geometric_dataset_gen.py:133: FutureWarning: The behavior of 'isin' with dtype=datetime64[ns] and castable values (e.g. strings) is deprecated. In a future version, these will not be considered matching by isin. Explicitly cast to the appropriate dtype before calling isin instead.\n",
            "  df = df[df.index.isin(dates_dt)]\n",
            "/Users/mirco/Documents/Tesi/code/models/DGDNN/Data/geometric_dataset_gen.py:133: FutureWarning: The behavior of 'isin' with dtype=datetime64[ns] and castable values (e.g. strings) is deprecated. In a future version, these will not be considered matching by isin. Explicitly cast to the appropriate dtype before calling isin instead.\n",
            "  df = df[df.index.isin(dates_dt)]\n",
            "/Users/mirco/Documents/Tesi/code/models/DGDNN/Data/geometric_dataset_gen.py:133: FutureWarning: The behavior of 'isin' with dtype=datetime64[ns] and castable values (e.g. strings) is deprecated. In a future version, these will not be considered matching by isin. Explicitly cast to the appropriate dtype before calling isin instead.\n",
            "  df = df[df.index.isin(dates_dt)]\n",
            "/Users/mirco/Documents/Tesi/code/models/DGDNN/Data/geometric_dataset_gen.py:133: FutureWarning: The behavior of 'isin' with dtype=datetime64[ns] and castable values (e.g. strings) is deprecated. In a future version, these will not be considered matching by isin. Explicitly cast to the appropriate dtype before calling isin instead.\n",
            "  df = df[df.index.isin(dates_dt)]\n",
            " 79%|███████▉  | 328/416 [04:22<01:17,  1.14it/s]"
          ]
        },
        {
          "name": "stdout",
          "output_type": "stream",
          "text": [
            "Generating graph 328/416...\n"
          ]
        },
        {
          "name": "stderr",
          "output_type": "stream",
          "text": [
            "/Users/mirco/Documents/Tesi/code/models/DGDNN/Data/geometric_dataset_gen.py:133: FutureWarning: The behavior of 'isin' with dtype=datetime64[ns] and castable values (e.g. strings) is deprecated. In a future version, these will not be considered matching by isin. Explicitly cast to the appropriate dtype before calling isin instead.\n",
            "  df = df[df.index.isin(dates_dt)]\n",
            "/Users/mirco/Documents/Tesi/code/models/DGDNN/Data/geometric_dataset_gen.py:133: FutureWarning: The behavior of 'isin' with dtype=datetime64[ns] and castable values (e.g. strings) is deprecated. In a future version, these will not be considered matching by isin. Explicitly cast to the appropriate dtype before calling isin instead.\n",
            "  df = df[df.index.isin(dates_dt)]\n",
            "/Users/mirco/Documents/Tesi/code/models/DGDNN/Data/geometric_dataset_gen.py:133: FutureWarning: The behavior of 'isin' with dtype=datetime64[ns] and castable values (e.g. strings) is deprecated. In a future version, these will not be considered matching by isin. Explicitly cast to the appropriate dtype before calling isin instead.\n",
            "  df = df[df.index.isin(dates_dt)]\n",
            "/Users/mirco/Documents/Tesi/code/models/DGDNN/Data/geometric_dataset_gen.py:133: FutureWarning: The behavior of 'isin' with dtype=datetime64[ns] and castable values (e.g. strings) is deprecated. In a future version, these will not be considered matching by isin. Explicitly cast to the appropriate dtype before calling isin instead.\n",
            "  df = df[df.index.isin(dates_dt)]\n",
            " 79%|███████▉  | 329/416 [04:23<01:14,  1.17it/s]"
          ]
        },
        {
          "name": "stdout",
          "output_type": "stream",
          "text": [
            "Generating graph 329/416...\n"
          ]
        },
        {
          "name": "stderr",
          "output_type": "stream",
          "text": [
            "/Users/mirco/Documents/Tesi/code/models/DGDNN/Data/geometric_dataset_gen.py:133: FutureWarning: The behavior of 'isin' with dtype=datetime64[ns] and castable values (e.g. strings) is deprecated. In a future version, these will not be considered matching by isin. Explicitly cast to the appropriate dtype before calling isin instead.\n",
            "  df = df[df.index.isin(dates_dt)]\n",
            "/Users/mirco/Documents/Tesi/code/models/DGDNN/Data/geometric_dataset_gen.py:133: FutureWarning: The behavior of 'isin' with dtype=datetime64[ns] and castable values (e.g. strings) is deprecated. In a future version, these will not be considered matching by isin. Explicitly cast to the appropriate dtype before calling isin instead.\n",
            "  df = df[df.index.isin(dates_dt)]\n",
            "/Users/mirco/Documents/Tesi/code/models/DGDNN/Data/geometric_dataset_gen.py:133: FutureWarning: The behavior of 'isin' with dtype=datetime64[ns] and castable values (e.g. strings) is deprecated. In a future version, these will not be considered matching by isin. Explicitly cast to the appropriate dtype before calling isin instead.\n",
            "  df = df[df.index.isin(dates_dt)]\n",
            "/Users/mirco/Documents/Tesi/code/models/DGDNN/Data/geometric_dataset_gen.py:133: FutureWarning: The behavior of 'isin' with dtype=datetime64[ns] and castable values (e.g. strings) is deprecated. In a future version, these will not be considered matching by isin. Explicitly cast to the appropriate dtype before calling isin instead.\n",
            "  df = df[df.index.isin(dates_dt)]\n",
            " 79%|███████▉  | 330/416 [04:24<01:12,  1.18it/s]"
          ]
        },
        {
          "name": "stdout",
          "output_type": "stream",
          "text": [
            "Generating graph 330/416...\n"
          ]
        },
        {
          "name": "stderr",
          "output_type": "stream",
          "text": [
            "/Users/mirco/Documents/Tesi/code/models/DGDNN/Data/geometric_dataset_gen.py:133: FutureWarning: The behavior of 'isin' with dtype=datetime64[ns] and castable values (e.g. strings) is deprecated. In a future version, these will not be considered matching by isin. Explicitly cast to the appropriate dtype before calling isin instead.\n",
            "  df = df[df.index.isin(dates_dt)]\n",
            "/Users/mirco/Documents/Tesi/code/models/DGDNN/Data/geometric_dataset_gen.py:133: FutureWarning: The behavior of 'isin' with dtype=datetime64[ns] and castable values (e.g. strings) is deprecated. In a future version, these will not be considered matching by isin. Explicitly cast to the appropriate dtype before calling isin instead.\n",
            "  df = df[df.index.isin(dates_dt)]\n",
            "/Users/mirco/Documents/Tesi/code/models/DGDNN/Data/geometric_dataset_gen.py:133: FutureWarning: The behavior of 'isin' with dtype=datetime64[ns] and castable values (e.g. strings) is deprecated. In a future version, these will not be considered matching by isin. Explicitly cast to the appropriate dtype before calling isin instead.\n",
            "  df = df[df.index.isin(dates_dt)]\n",
            "/Users/mirco/Documents/Tesi/code/models/DGDNN/Data/geometric_dataset_gen.py:133: FutureWarning: The behavior of 'isin' with dtype=datetime64[ns] and castable values (e.g. strings) is deprecated. In a future version, these will not be considered matching by isin. Explicitly cast to the appropriate dtype before calling isin instead.\n",
            "  df = df[df.index.isin(dates_dt)]\n",
            " 80%|███████▉  | 331/416 [04:25<01:16,  1.12it/s]"
          ]
        },
        {
          "name": "stdout",
          "output_type": "stream",
          "text": [
            "Generating graph 331/416...\n"
          ]
        },
        {
          "name": "stderr",
          "output_type": "stream",
          "text": [
            "/Users/mirco/Documents/Tesi/code/models/DGDNN/Data/geometric_dataset_gen.py:133: FutureWarning: The behavior of 'isin' with dtype=datetime64[ns] and castable values (e.g. strings) is deprecated. In a future version, these will not be considered matching by isin. Explicitly cast to the appropriate dtype before calling isin instead.\n",
            "  df = df[df.index.isin(dates_dt)]\n",
            "/Users/mirco/Documents/Tesi/code/models/DGDNN/Data/geometric_dataset_gen.py:133: FutureWarning: The behavior of 'isin' with dtype=datetime64[ns] and castable values (e.g. strings) is deprecated. In a future version, these will not be considered matching by isin. Explicitly cast to the appropriate dtype before calling isin instead.\n",
            "  df = df[df.index.isin(dates_dt)]\n",
            "/Users/mirco/Documents/Tesi/code/models/DGDNN/Data/geometric_dataset_gen.py:133: FutureWarning: The behavior of 'isin' with dtype=datetime64[ns] and castable values (e.g. strings) is deprecated. In a future version, these will not be considered matching by isin. Explicitly cast to the appropriate dtype before calling isin instead.\n",
            "  df = df[df.index.isin(dates_dt)]\n",
            "/Users/mirco/Documents/Tesi/code/models/DGDNN/Data/geometric_dataset_gen.py:133: FutureWarning: The behavior of 'isin' with dtype=datetime64[ns] and castable values (e.g. strings) is deprecated. In a future version, these will not be considered matching by isin. Explicitly cast to the appropriate dtype before calling isin instead.\n",
            "  df = df[df.index.isin(dates_dt)]\n",
            " 80%|███████▉  | 332/416 [04:25<01:12,  1.15it/s]"
          ]
        },
        {
          "name": "stdout",
          "output_type": "stream",
          "text": [
            "Generating graph 332/416...\n"
          ]
        },
        {
          "name": "stderr",
          "output_type": "stream",
          "text": [
            "/Users/mirco/Documents/Tesi/code/models/DGDNN/Data/geometric_dataset_gen.py:133: FutureWarning: The behavior of 'isin' with dtype=datetime64[ns] and castable values (e.g. strings) is deprecated. In a future version, these will not be considered matching by isin. Explicitly cast to the appropriate dtype before calling isin instead.\n",
            "  df = df[df.index.isin(dates_dt)]\n",
            "/Users/mirco/Documents/Tesi/code/models/DGDNN/Data/geometric_dataset_gen.py:133: FutureWarning: The behavior of 'isin' with dtype=datetime64[ns] and castable values (e.g. strings) is deprecated. In a future version, these will not be considered matching by isin. Explicitly cast to the appropriate dtype before calling isin instead.\n",
            "  df = df[df.index.isin(dates_dt)]\n",
            "/Users/mirco/Documents/Tesi/code/models/DGDNN/Data/geometric_dataset_gen.py:133: FutureWarning: The behavior of 'isin' with dtype=datetime64[ns] and castable values (e.g. strings) is deprecated. In a future version, these will not be considered matching by isin. Explicitly cast to the appropriate dtype before calling isin instead.\n",
            "  df = df[df.index.isin(dates_dt)]\n",
            "/Users/mirco/Documents/Tesi/code/models/DGDNN/Data/geometric_dataset_gen.py:133: FutureWarning: The behavior of 'isin' with dtype=datetime64[ns] and castable values (e.g. strings) is deprecated. In a future version, these will not be considered matching by isin. Explicitly cast to the appropriate dtype before calling isin instead.\n",
            "  df = df[df.index.isin(dates_dt)]\n",
            " 80%|████████  | 333/416 [04:26<01:11,  1.16it/s]"
          ]
        },
        {
          "name": "stdout",
          "output_type": "stream",
          "text": [
            "Generating graph 333/416...\n"
          ]
        },
        {
          "name": "stderr",
          "output_type": "stream",
          "text": [
            "/Users/mirco/Documents/Tesi/code/models/DGDNN/Data/geometric_dataset_gen.py:133: FutureWarning: The behavior of 'isin' with dtype=datetime64[ns] and castable values (e.g. strings) is deprecated. In a future version, these will not be considered matching by isin. Explicitly cast to the appropriate dtype before calling isin instead.\n",
            "  df = df[df.index.isin(dates_dt)]\n",
            "/Users/mirco/Documents/Tesi/code/models/DGDNN/Data/geometric_dataset_gen.py:133: FutureWarning: The behavior of 'isin' with dtype=datetime64[ns] and castable values (e.g. strings) is deprecated. In a future version, these will not be considered matching by isin. Explicitly cast to the appropriate dtype before calling isin instead.\n",
            "  df = df[df.index.isin(dates_dt)]\n",
            "/Users/mirco/Documents/Tesi/code/models/DGDNN/Data/geometric_dataset_gen.py:133: FutureWarning: The behavior of 'isin' with dtype=datetime64[ns] and castable values (e.g. strings) is deprecated. In a future version, these will not be considered matching by isin. Explicitly cast to the appropriate dtype before calling isin instead.\n",
            "  df = df[df.index.isin(dates_dt)]\n",
            "/Users/mirco/Documents/Tesi/code/models/DGDNN/Data/geometric_dataset_gen.py:133: FutureWarning: The behavior of 'isin' with dtype=datetime64[ns] and castable values (e.g. strings) is deprecated. In a future version, these will not be considered matching by isin. Explicitly cast to the appropriate dtype before calling isin instead.\n",
            "  df = df[df.index.isin(dates_dt)]\n",
            " 80%|████████  | 334/416 [04:27<01:10,  1.17it/s]"
          ]
        },
        {
          "name": "stdout",
          "output_type": "stream",
          "text": [
            "Generating graph 334/416...\n"
          ]
        },
        {
          "name": "stderr",
          "output_type": "stream",
          "text": [
            "/Users/mirco/Documents/Tesi/code/models/DGDNN/Data/geometric_dataset_gen.py:133: FutureWarning: The behavior of 'isin' with dtype=datetime64[ns] and castable values (e.g. strings) is deprecated. In a future version, these will not be considered matching by isin. Explicitly cast to the appropriate dtype before calling isin instead.\n",
            "  df = df[df.index.isin(dates_dt)]\n",
            "/Users/mirco/Documents/Tesi/code/models/DGDNN/Data/geometric_dataset_gen.py:133: FutureWarning: The behavior of 'isin' with dtype=datetime64[ns] and castable values (e.g. strings) is deprecated. In a future version, these will not be considered matching by isin. Explicitly cast to the appropriate dtype before calling isin instead.\n",
            "  df = df[df.index.isin(dates_dt)]\n",
            "/Users/mirco/Documents/Tesi/code/models/DGDNN/Data/geometric_dataset_gen.py:133: FutureWarning: The behavior of 'isin' with dtype=datetime64[ns] and castable values (e.g. strings) is deprecated. In a future version, these will not be considered matching by isin. Explicitly cast to the appropriate dtype before calling isin instead.\n",
            "  df = df[df.index.isin(dates_dt)]\n",
            "/Users/mirco/Documents/Tesi/code/models/DGDNN/Data/geometric_dataset_gen.py:133: FutureWarning: The behavior of 'isin' with dtype=datetime64[ns] and castable values (e.g. strings) is deprecated. In a future version, these will not be considered matching by isin. Explicitly cast to the appropriate dtype before calling isin instead.\n",
            "  df = df[df.index.isin(dates_dt)]\n",
            " 81%|████████  | 335/416 [04:28<01:12,  1.12it/s]"
          ]
        },
        {
          "name": "stdout",
          "output_type": "stream",
          "text": [
            "Generating graph 335/416...\n"
          ]
        },
        {
          "name": "stderr",
          "output_type": "stream",
          "text": [
            "/Users/mirco/Documents/Tesi/code/models/DGDNN/Data/geometric_dataset_gen.py:133: FutureWarning: The behavior of 'isin' with dtype=datetime64[ns] and castable values (e.g. strings) is deprecated. In a future version, these will not be considered matching by isin. Explicitly cast to the appropriate dtype before calling isin instead.\n",
            "  df = df[df.index.isin(dates_dt)]\n",
            "/Users/mirco/Documents/Tesi/code/models/DGDNN/Data/geometric_dataset_gen.py:133: FutureWarning: The behavior of 'isin' with dtype=datetime64[ns] and castable values (e.g. strings) is deprecated. In a future version, these will not be considered matching by isin. Explicitly cast to the appropriate dtype before calling isin instead.\n",
            "  df = df[df.index.isin(dates_dt)]\n",
            "/Users/mirco/Documents/Tesi/code/models/DGDNN/Data/geometric_dataset_gen.py:133: FutureWarning: The behavior of 'isin' with dtype=datetime64[ns] and castable values (e.g. strings) is deprecated. In a future version, these will not be considered matching by isin. Explicitly cast to the appropriate dtype before calling isin instead.\n",
            "  df = df[df.index.isin(dates_dt)]\n",
            "/Users/mirco/Documents/Tesi/code/models/DGDNN/Data/geometric_dataset_gen.py:133: FutureWarning: The behavior of 'isin' with dtype=datetime64[ns] and castable values (e.g. strings) is deprecated. In a future version, these will not be considered matching by isin. Explicitly cast to the appropriate dtype before calling isin instead.\n",
            "  df = df[df.index.isin(dates_dt)]\n",
            " 81%|████████  | 336/416 [04:29<01:09,  1.15it/s]"
          ]
        },
        {
          "name": "stdout",
          "output_type": "stream",
          "text": [
            "Generating graph 336/416...\n"
          ]
        },
        {
          "name": "stderr",
          "output_type": "stream",
          "text": [
            "/Users/mirco/Documents/Tesi/code/models/DGDNN/Data/geometric_dataset_gen.py:133: FutureWarning: The behavior of 'isin' with dtype=datetime64[ns] and castable values (e.g. strings) is deprecated. In a future version, these will not be considered matching by isin. Explicitly cast to the appropriate dtype before calling isin instead.\n",
            "  df = df[df.index.isin(dates_dt)]\n",
            "/Users/mirco/Documents/Tesi/code/models/DGDNN/Data/geometric_dataset_gen.py:133: FutureWarning: The behavior of 'isin' with dtype=datetime64[ns] and castable values (e.g. strings) is deprecated. In a future version, these will not be considered matching by isin. Explicitly cast to the appropriate dtype before calling isin instead.\n",
            "  df = df[df.index.isin(dates_dt)]\n",
            "/Users/mirco/Documents/Tesi/code/models/DGDNN/Data/geometric_dataset_gen.py:133: FutureWarning: The behavior of 'isin' with dtype=datetime64[ns] and castable values (e.g. strings) is deprecated. In a future version, these will not be considered matching by isin. Explicitly cast to the appropriate dtype before calling isin instead.\n",
            "  df = df[df.index.isin(dates_dt)]\n",
            "/Users/mirco/Documents/Tesi/code/models/DGDNN/Data/geometric_dataset_gen.py:133: FutureWarning: The behavior of 'isin' with dtype=datetime64[ns] and castable values (e.g. strings) is deprecated. In a future version, these will not be considered matching by isin. Explicitly cast to the appropriate dtype before calling isin instead.\n",
            "  df = df[df.index.isin(dates_dt)]\n",
            " 81%|████████  | 337/416 [04:30<01:06,  1.18it/s]"
          ]
        },
        {
          "name": "stdout",
          "output_type": "stream",
          "text": [
            "Generating graph 337/416...\n"
          ]
        },
        {
          "name": "stderr",
          "output_type": "stream",
          "text": [
            "/Users/mirco/Documents/Tesi/code/models/DGDNN/Data/geometric_dataset_gen.py:133: FutureWarning: The behavior of 'isin' with dtype=datetime64[ns] and castable values (e.g. strings) is deprecated. In a future version, these will not be considered matching by isin. Explicitly cast to the appropriate dtype before calling isin instead.\n",
            "  df = df[df.index.isin(dates_dt)]\n",
            "/Users/mirco/Documents/Tesi/code/models/DGDNN/Data/geometric_dataset_gen.py:133: FutureWarning: The behavior of 'isin' with dtype=datetime64[ns] and castable values (e.g. strings) is deprecated. In a future version, these will not be considered matching by isin. Explicitly cast to the appropriate dtype before calling isin instead.\n",
            "  df = df[df.index.isin(dates_dt)]\n",
            "/Users/mirco/Documents/Tesi/code/models/DGDNN/Data/geometric_dataset_gen.py:133: FutureWarning: The behavior of 'isin' with dtype=datetime64[ns] and castable values (e.g. strings) is deprecated. In a future version, these will not be considered matching by isin. Explicitly cast to the appropriate dtype before calling isin instead.\n",
            "  df = df[df.index.isin(dates_dt)]\n",
            "/Users/mirco/Documents/Tesi/code/models/DGDNN/Data/geometric_dataset_gen.py:133: FutureWarning: The behavior of 'isin' with dtype=datetime64[ns] and castable values (e.g. strings) is deprecated. In a future version, these will not be considered matching by isin. Explicitly cast to the appropriate dtype before calling isin instead.\n",
            "  df = df[df.index.isin(dates_dt)]\n",
            " 81%|████████▏ | 338/416 [04:31<01:08,  1.14it/s]"
          ]
        },
        {
          "name": "stdout",
          "output_type": "stream",
          "text": [
            "Generating graph 338/416...\n"
          ]
        },
        {
          "name": "stderr",
          "output_type": "stream",
          "text": [
            "/Users/mirco/Documents/Tesi/code/models/DGDNN/Data/geometric_dataset_gen.py:133: FutureWarning: The behavior of 'isin' with dtype=datetime64[ns] and castable values (e.g. strings) is deprecated. In a future version, these will not be considered matching by isin. Explicitly cast to the appropriate dtype before calling isin instead.\n",
            "  df = df[df.index.isin(dates_dt)]\n",
            "/Users/mirco/Documents/Tesi/code/models/DGDNN/Data/geometric_dataset_gen.py:133: FutureWarning: The behavior of 'isin' with dtype=datetime64[ns] and castable values (e.g. strings) is deprecated. In a future version, these will not be considered matching by isin. Explicitly cast to the appropriate dtype before calling isin instead.\n",
            "  df = df[df.index.isin(dates_dt)]\n",
            "/Users/mirco/Documents/Tesi/code/models/DGDNN/Data/geometric_dataset_gen.py:133: FutureWarning: The behavior of 'isin' with dtype=datetime64[ns] and castable values (e.g. strings) is deprecated. In a future version, these will not be considered matching by isin. Explicitly cast to the appropriate dtype before calling isin instead.\n",
            "  df = df[df.index.isin(dates_dt)]\n",
            "/Users/mirco/Documents/Tesi/code/models/DGDNN/Data/geometric_dataset_gen.py:133: FutureWarning: The behavior of 'isin' with dtype=datetime64[ns] and castable values (e.g. strings) is deprecated. In a future version, these will not be considered matching by isin. Explicitly cast to the appropriate dtype before calling isin instead.\n",
            "  df = df[df.index.isin(dates_dt)]\n",
            " 81%|████████▏ | 339/416 [04:31<01:05,  1.17it/s]"
          ]
        },
        {
          "name": "stdout",
          "output_type": "stream",
          "text": [
            "Generating graph 339/416...\n"
          ]
        },
        {
          "name": "stderr",
          "output_type": "stream",
          "text": [
            "/Users/mirco/Documents/Tesi/code/models/DGDNN/Data/geometric_dataset_gen.py:133: FutureWarning: The behavior of 'isin' with dtype=datetime64[ns] and castable values (e.g. strings) is deprecated. In a future version, these will not be considered matching by isin. Explicitly cast to the appropriate dtype before calling isin instead.\n",
            "  df = df[df.index.isin(dates_dt)]\n",
            "/Users/mirco/Documents/Tesi/code/models/DGDNN/Data/geometric_dataset_gen.py:133: FutureWarning: The behavior of 'isin' with dtype=datetime64[ns] and castable values (e.g. strings) is deprecated. In a future version, these will not be considered matching by isin. Explicitly cast to the appropriate dtype before calling isin instead.\n",
            "  df = df[df.index.isin(dates_dt)]\n",
            "/Users/mirco/Documents/Tesi/code/models/DGDNN/Data/geometric_dataset_gen.py:133: FutureWarning: The behavior of 'isin' with dtype=datetime64[ns] and castable values (e.g. strings) is deprecated. In a future version, these will not be considered matching by isin. Explicitly cast to the appropriate dtype before calling isin instead.\n",
            "  df = df[df.index.isin(dates_dt)]\n",
            "/Users/mirco/Documents/Tesi/code/models/DGDNN/Data/geometric_dataset_gen.py:133: FutureWarning: The behavior of 'isin' with dtype=datetime64[ns] and castable values (e.g. strings) is deprecated. In a future version, these will not be considered matching by isin. Explicitly cast to the appropriate dtype before calling isin instead.\n",
            "  df = df[df.index.isin(dates_dt)]\n",
            " 82%|████████▏ | 340/416 [04:32<01:03,  1.20it/s]"
          ]
        },
        {
          "name": "stdout",
          "output_type": "stream",
          "text": [
            "Generating graph 340/416...\n"
          ]
        },
        {
          "name": "stderr",
          "output_type": "stream",
          "text": [
            "/Users/mirco/Documents/Tesi/code/models/DGDNN/Data/geometric_dataset_gen.py:133: FutureWarning: The behavior of 'isin' with dtype=datetime64[ns] and castable values (e.g. strings) is deprecated. In a future version, these will not be considered matching by isin. Explicitly cast to the appropriate dtype before calling isin instead.\n",
            "  df = df[df.index.isin(dates_dt)]\n",
            "/Users/mirco/Documents/Tesi/code/models/DGDNN/Data/geometric_dataset_gen.py:133: FutureWarning: The behavior of 'isin' with dtype=datetime64[ns] and castable values (e.g. strings) is deprecated. In a future version, these will not be considered matching by isin. Explicitly cast to the appropriate dtype before calling isin instead.\n",
            "  df = df[df.index.isin(dates_dt)]\n",
            "/Users/mirco/Documents/Tesi/code/models/DGDNN/Data/geometric_dataset_gen.py:133: FutureWarning: The behavior of 'isin' with dtype=datetime64[ns] and castable values (e.g. strings) is deprecated. In a future version, these will not be considered matching by isin. Explicitly cast to the appropriate dtype before calling isin instead.\n",
            "  df = df[df.index.isin(dates_dt)]\n",
            "/Users/mirco/Documents/Tesi/code/models/DGDNN/Data/geometric_dataset_gen.py:133: FutureWarning: The behavior of 'isin' with dtype=datetime64[ns] and castable values (e.g. strings) is deprecated. In a future version, these will not be considered matching by isin. Explicitly cast to the appropriate dtype before calling isin instead.\n",
            "  df = df[df.index.isin(dates_dt)]\n",
            " 82%|████████▏ | 341/416 [04:33<01:02,  1.19it/s]"
          ]
        },
        {
          "name": "stdout",
          "output_type": "stream",
          "text": [
            "Generating graph 341/416...\n"
          ]
        },
        {
          "name": "stderr",
          "output_type": "stream",
          "text": [
            "/Users/mirco/Documents/Tesi/code/models/DGDNN/Data/geometric_dataset_gen.py:133: FutureWarning: The behavior of 'isin' with dtype=datetime64[ns] and castable values (e.g. strings) is deprecated. In a future version, these will not be considered matching by isin. Explicitly cast to the appropriate dtype before calling isin instead.\n",
            "  df = df[df.index.isin(dates_dt)]\n",
            "/Users/mirco/Documents/Tesi/code/models/DGDNN/Data/geometric_dataset_gen.py:133: FutureWarning: The behavior of 'isin' with dtype=datetime64[ns] and castable values (e.g. strings) is deprecated. In a future version, these will not be considered matching by isin. Explicitly cast to the appropriate dtype before calling isin instead.\n",
            "  df = df[df.index.isin(dates_dt)]\n",
            "/Users/mirco/Documents/Tesi/code/models/DGDNN/Data/geometric_dataset_gen.py:133: FutureWarning: The behavior of 'isin' with dtype=datetime64[ns] and castable values (e.g. strings) is deprecated. In a future version, these will not be considered matching by isin. Explicitly cast to the appropriate dtype before calling isin instead.\n",
            "  df = df[df.index.isin(dates_dt)]\n",
            "/Users/mirco/Documents/Tesi/code/models/DGDNN/Data/geometric_dataset_gen.py:133: FutureWarning: The behavior of 'isin' with dtype=datetime64[ns] and castable values (e.g. strings) is deprecated. In a future version, these will not be considered matching by isin. Explicitly cast to the appropriate dtype before calling isin instead.\n",
            "  df = df[df.index.isin(dates_dt)]\n",
            " 82%|████████▏ | 342/416 [04:34<01:05,  1.13it/s]"
          ]
        },
        {
          "name": "stdout",
          "output_type": "stream",
          "text": [
            "Generating graph 342/416...\n"
          ]
        },
        {
          "name": "stderr",
          "output_type": "stream",
          "text": [
            "/Users/mirco/Documents/Tesi/code/models/DGDNN/Data/geometric_dataset_gen.py:133: FutureWarning: The behavior of 'isin' with dtype=datetime64[ns] and castable values (e.g. strings) is deprecated. In a future version, these will not be considered matching by isin. Explicitly cast to the appropriate dtype before calling isin instead.\n",
            "  df = df[df.index.isin(dates_dt)]\n",
            "/Users/mirco/Documents/Tesi/code/models/DGDNN/Data/geometric_dataset_gen.py:133: FutureWarning: The behavior of 'isin' with dtype=datetime64[ns] and castable values (e.g. strings) is deprecated. In a future version, these will not be considered matching by isin. Explicitly cast to the appropriate dtype before calling isin instead.\n",
            "  df = df[df.index.isin(dates_dt)]\n",
            "/Users/mirco/Documents/Tesi/code/models/DGDNN/Data/geometric_dataset_gen.py:133: FutureWarning: The behavior of 'isin' with dtype=datetime64[ns] and castable values (e.g. strings) is deprecated. In a future version, these will not be considered matching by isin. Explicitly cast to the appropriate dtype before calling isin instead.\n",
            "  df = df[df.index.isin(dates_dt)]\n",
            "/Users/mirco/Documents/Tesi/code/models/DGDNN/Data/geometric_dataset_gen.py:133: FutureWarning: The behavior of 'isin' with dtype=datetime64[ns] and castable values (e.g. strings) is deprecated. In a future version, these will not be considered matching by isin. Explicitly cast to the appropriate dtype before calling isin instead.\n",
            "  df = df[df.index.isin(dates_dt)]\n",
            " 82%|████████▏ | 343/416 [04:35<01:04,  1.14it/s]"
          ]
        },
        {
          "name": "stdout",
          "output_type": "stream",
          "text": [
            "Generating graph 343/416...\n"
          ]
        },
        {
          "name": "stderr",
          "output_type": "stream",
          "text": [
            "/Users/mirco/Documents/Tesi/code/models/DGDNN/Data/geometric_dataset_gen.py:133: FutureWarning: The behavior of 'isin' with dtype=datetime64[ns] and castable values (e.g. strings) is deprecated. In a future version, these will not be considered matching by isin. Explicitly cast to the appropriate dtype before calling isin instead.\n",
            "  df = df[df.index.isin(dates_dt)]\n",
            "/Users/mirco/Documents/Tesi/code/models/DGDNN/Data/geometric_dataset_gen.py:133: FutureWarning: The behavior of 'isin' with dtype=datetime64[ns] and castable values (e.g. strings) is deprecated. In a future version, these will not be considered matching by isin. Explicitly cast to the appropriate dtype before calling isin instead.\n",
            "  df = df[df.index.isin(dates_dt)]\n",
            "/Users/mirco/Documents/Tesi/code/models/DGDNN/Data/geometric_dataset_gen.py:133: FutureWarning: The behavior of 'isin' with dtype=datetime64[ns] and castable values (e.g. strings) is deprecated. In a future version, these will not be considered matching by isin. Explicitly cast to the appropriate dtype before calling isin instead.\n",
            "  df = df[df.index.isin(dates_dt)]\n",
            "/Users/mirco/Documents/Tesi/code/models/DGDNN/Data/geometric_dataset_gen.py:133: FutureWarning: The behavior of 'isin' with dtype=datetime64[ns] and castable values (e.g. strings) is deprecated. In a future version, these will not be considered matching by isin. Explicitly cast to the appropriate dtype before calling isin instead.\n",
            "  df = df[df.index.isin(dates_dt)]\n",
            " 83%|████████▎ | 344/416 [04:36<01:02,  1.16it/s]"
          ]
        },
        {
          "name": "stdout",
          "output_type": "stream",
          "text": [
            "Generating graph 344/416...\n"
          ]
        },
        {
          "name": "stderr",
          "output_type": "stream",
          "text": [
            "/Users/mirco/Documents/Tesi/code/models/DGDNN/Data/geometric_dataset_gen.py:133: FutureWarning: The behavior of 'isin' with dtype=datetime64[ns] and castable values (e.g. strings) is deprecated. In a future version, these will not be considered matching by isin. Explicitly cast to the appropriate dtype before calling isin instead.\n",
            "  df = df[df.index.isin(dates_dt)]\n",
            "/Users/mirco/Documents/Tesi/code/models/DGDNN/Data/geometric_dataset_gen.py:133: FutureWarning: The behavior of 'isin' with dtype=datetime64[ns] and castable values (e.g. strings) is deprecated. In a future version, these will not be considered matching by isin. Explicitly cast to the appropriate dtype before calling isin instead.\n",
            "  df = df[df.index.isin(dates_dt)]\n",
            "/Users/mirco/Documents/Tesi/code/models/DGDNN/Data/geometric_dataset_gen.py:133: FutureWarning: The behavior of 'isin' with dtype=datetime64[ns] and castable values (e.g. strings) is deprecated. In a future version, these will not be considered matching by isin. Explicitly cast to the appropriate dtype before calling isin instead.\n",
            "  df = df[df.index.isin(dates_dt)]\n",
            "/Users/mirco/Documents/Tesi/code/models/DGDNN/Data/geometric_dataset_gen.py:133: FutureWarning: The behavior of 'isin' with dtype=datetime64[ns] and castable values (e.g. strings) is deprecated. In a future version, these will not be considered matching by isin. Explicitly cast to the appropriate dtype before calling isin instead.\n",
            "  df = df[df.index.isin(dates_dt)]\n",
            " 83%|████████▎ | 345/416 [04:37<01:03,  1.12it/s]"
          ]
        },
        {
          "name": "stdout",
          "output_type": "stream",
          "text": [
            "Generating graph 345/416...\n"
          ]
        },
        {
          "name": "stderr",
          "output_type": "stream",
          "text": [
            "/Users/mirco/Documents/Tesi/code/models/DGDNN/Data/geometric_dataset_gen.py:133: FutureWarning: The behavior of 'isin' with dtype=datetime64[ns] and castable values (e.g. strings) is deprecated. In a future version, these will not be considered matching by isin. Explicitly cast to the appropriate dtype before calling isin instead.\n",
            "  df = df[df.index.isin(dates_dt)]\n",
            "/Users/mirco/Documents/Tesi/code/models/DGDNN/Data/geometric_dataset_gen.py:133: FutureWarning: The behavior of 'isin' with dtype=datetime64[ns] and castable values (e.g. strings) is deprecated. In a future version, these will not be considered matching by isin. Explicitly cast to the appropriate dtype before calling isin instead.\n",
            "  df = df[df.index.isin(dates_dt)]\n",
            "/Users/mirco/Documents/Tesi/code/models/DGDNN/Data/geometric_dataset_gen.py:133: FutureWarning: The behavior of 'isin' with dtype=datetime64[ns] and castable values (e.g. strings) is deprecated. In a future version, these will not be considered matching by isin. Explicitly cast to the appropriate dtype before calling isin instead.\n",
            "  df = df[df.index.isin(dates_dt)]\n",
            "/Users/mirco/Documents/Tesi/code/models/DGDNN/Data/geometric_dataset_gen.py:133: FutureWarning: The behavior of 'isin' with dtype=datetime64[ns] and castable values (e.g. strings) is deprecated. In a future version, these will not be considered matching by isin. Explicitly cast to the appropriate dtype before calling isin instead.\n",
            "  df = df[df.index.isin(dates_dt)]\n",
            " 83%|████████▎ | 346/416 [04:38<01:00,  1.15it/s]"
          ]
        },
        {
          "name": "stdout",
          "output_type": "stream",
          "text": [
            "Generating graph 346/416...\n"
          ]
        },
        {
          "name": "stderr",
          "output_type": "stream",
          "text": [
            "/Users/mirco/Documents/Tesi/code/models/DGDNN/Data/geometric_dataset_gen.py:133: FutureWarning: The behavior of 'isin' with dtype=datetime64[ns] and castable values (e.g. strings) is deprecated. In a future version, these will not be considered matching by isin. Explicitly cast to the appropriate dtype before calling isin instead.\n",
            "  df = df[df.index.isin(dates_dt)]\n",
            "/Users/mirco/Documents/Tesi/code/models/DGDNN/Data/geometric_dataset_gen.py:133: FutureWarning: The behavior of 'isin' with dtype=datetime64[ns] and castable values (e.g. strings) is deprecated. In a future version, these will not be considered matching by isin. Explicitly cast to the appropriate dtype before calling isin instead.\n",
            "  df = df[df.index.isin(dates_dt)]\n",
            "/Users/mirco/Documents/Tesi/code/models/DGDNN/Data/geometric_dataset_gen.py:133: FutureWarning: The behavior of 'isin' with dtype=datetime64[ns] and castable values (e.g. strings) is deprecated. In a future version, these will not be considered matching by isin. Explicitly cast to the appropriate dtype before calling isin instead.\n",
            "  df = df[df.index.isin(dates_dt)]\n",
            "/Users/mirco/Documents/Tesi/code/models/DGDNN/Data/geometric_dataset_gen.py:133: FutureWarning: The behavior of 'isin' with dtype=datetime64[ns] and castable values (e.g. strings) is deprecated. In a future version, these will not be considered matching by isin. Explicitly cast to the appropriate dtype before calling isin instead.\n",
            "  df = df[df.index.isin(dates_dt)]\n",
            " 83%|████████▎ | 347/416 [04:38<00:59,  1.16it/s]"
          ]
        },
        {
          "name": "stdout",
          "output_type": "stream",
          "text": [
            "Generating graph 347/416...\n"
          ]
        },
        {
          "name": "stderr",
          "output_type": "stream",
          "text": [
            "/Users/mirco/Documents/Tesi/code/models/DGDNN/Data/geometric_dataset_gen.py:133: FutureWarning: The behavior of 'isin' with dtype=datetime64[ns] and castable values (e.g. strings) is deprecated. In a future version, these will not be considered matching by isin. Explicitly cast to the appropriate dtype before calling isin instead.\n",
            "  df = df[df.index.isin(dates_dt)]\n",
            "/Users/mirco/Documents/Tesi/code/models/DGDNN/Data/geometric_dataset_gen.py:133: FutureWarning: The behavior of 'isin' with dtype=datetime64[ns] and castable values (e.g. strings) is deprecated. In a future version, these will not be considered matching by isin. Explicitly cast to the appropriate dtype before calling isin instead.\n",
            "  df = df[df.index.isin(dates_dt)]\n",
            "/Users/mirco/Documents/Tesi/code/models/DGDNN/Data/geometric_dataset_gen.py:133: FutureWarning: The behavior of 'isin' with dtype=datetime64[ns] and castable values (e.g. strings) is deprecated. In a future version, these will not be considered matching by isin. Explicitly cast to the appropriate dtype before calling isin instead.\n",
            "  df = df[df.index.isin(dates_dt)]\n",
            "/Users/mirco/Documents/Tesi/code/models/DGDNN/Data/geometric_dataset_gen.py:133: FutureWarning: The behavior of 'isin' with dtype=datetime64[ns] and castable values (e.g. strings) is deprecated. In a future version, these will not be considered matching by isin. Explicitly cast to the appropriate dtype before calling isin instead.\n",
            "  df = df[df.index.isin(dates_dt)]\n",
            " 84%|████████▎ | 348/416 [04:39<00:58,  1.17it/s]"
          ]
        },
        {
          "name": "stdout",
          "output_type": "stream",
          "text": [
            "Generating graph 348/416...\n"
          ]
        },
        {
          "name": "stderr",
          "output_type": "stream",
          "text": [
            "/Users/mirco/Documents/Tesi/code/models/DGDNN/Data/geometric_dataset_gen.py:133: FutureWarning: The behavior of 'isin' with dtype=datetime64[ns] and castable values (e.g. strings) is deprecated. In a future version, these will not be considered matching by isin. Explicitly cast to the appropriate dtype before calling isin instead.\n",
            "  df = df[df.index.isin(dates_dt)]\n",
            "/Users/mirco/Documents/Tesi/code/models/DGDNN/Data/geometric_dataset_gen.py:133: FutureWarning: The behavior of 'isin' with dtype=datetime64[ns] and castable values (e.g. strings) is deprecated. In a future version, these will not be considered matching by isin. Explicitly cast to the appropriate dtype before calling isin instead.\n",
            "  df = df[df.index.isin(dates_dt)]\n",
            "/Users/mirco/Documents/Tesi/code/models/DGDNN/Data/geometric_dataset_gen.py:133: FutureWarning: The behavior of 'isin' with dtype=datetime64[ns] and castable values (e.g. strings) is deprecated. In a future version, these will not be considered matching by isin. Explicitly cast to the appropriate dtype before calling isin instead.\n",
            "  df = df[df.index.isin(dates_dt)]\n",
            "/Users/mirco/Documents/Tesi/code/models/DGDNN/Data/geometric_dataset_gen.py:133: FutureWarning: The behavior of 'isin' with dtype=datetime64[ns] and castable values (e.g. strings) is deprecated. In a future version, these will not be considered matching by isin. Explicitly cast to the appropriate dtype before calling isin instead.\n",
            "  df = df[df.index.isin(dates_dt)]\n",
            " 84%|████████▍ | 349/416 [04:40<00:59,  1.13it/s]"
          ]
        },
        {
          "name": "stdout",
          "output_type": "stream",
          "text": [
            "Generating graph 349/416...\n"
          ]
        },
        {
          "name": "stderr",
          "output_type": "stream",
          "text": [
            "/Users/mirco/Documents/Tesi/code/models/DGDNN/Data/geometric_dataset_gen.py:133: FutureWarning: The behavior of 'isin' with dtype=datetime64[ns] and castable values (e.g. strings) is deprecated. In a future version, these will not be considered matching by isin. Explicitly cast to the appropriate dtype before calling isin instead.\n",
            "  df = df[df.index.isin(dates_dt)]\n",
            "/Users/mirco/Documents/Tesi/code/models/DGDNN/Data/geometric_dataset_gen.py:133: FutureWarning: The behavior of 'isin' with dtype=datetime64[ns] and castable values (e.g. strings) is deprecated. In a future version, these will not be considered matching by isin. Explicitly cast to the appropriate dtype before calling isin instead.\n",
            "  df = df[df.index.isin(dates_dt)]\n",
            "/Users/mirco/Documents/Tesi/code/models/DGDNN/Data/geometric_dataset_gen.py:133: FutureWarning: The behavior of 'isin' with dtype=datetime64[ns] and castable values (e.g. strings) is deprecated. In a future version, these will not be considered matching by isin. Explicitly cast to the appropriate dtype before calling isin instead.\n",
            "  df = df[df.index.isin(dates_dt)]\n",
            "/Users/mirco/Documents/Tesi/code/models/DGDNN/Data/geometric_dataset_gen.py:133: FutureWarning: The behavior of 'isin' with dtype=datetime64[ns] and castable values (e.g. strings) is deprecated. In a future version, these will not be considered matching by isin. Explicitly cast to the appropriate dtype before calling isin instead.\n",
            "  df = df[df.index.isin(dates_dt)]\n",
            " 84%|████████▍ | 350/416 [04:41<01:04,  1.02it/s]"
          ]
        },
        {
          "name": "stdout",
          "output_type": "stream",
          "text": [
            "Generating graph 350/416...\n"
          ]
        },
        {
          "name": "stderr",
          "output_type": "stream",
          "text": [
            "/Users/mirco/Documents/Tesi/code/models/DGDNN/Data/geometric_dataset_gen.py:133: FutureWarning: The behavior of 'isin' with dtype=datetime64[ns] and castable values (e.g. strings) is deprecated. In a future version, these will not be considered matching by isin. Explicitly cast to the appropriate dtype before calling isin instead.\n",
            "  df = df[df.index.isin(dates_dt)]\n",
            "/Users/mirco/Documents/Tesi/code/models/DGDNN/Data/geometric_dataset_gen.py:133: FutureWarning: The behavior of 'isin' with dtype=datetime64[ns] and castable values (e.g. strings) is deprecated. In a future version, these will not be considered matching by isin. Explicitly cast to the appropriate dtype before calling isin instead.\n",
            "  df = df[df.index.isin(dates_dt)]\n",
            "/Users/mirco/Documents/Tesi/code/models/DGDNN/Data/geometric_dataset_gen.py:133: FutureWarning: The behavior of 'isin' with dtype=datetime64[ns] and castable values (e.g. strings) is deprecated. In a future version, these will not be considered matching by isin. Explicitly cast to the appropriate dtype before calling isin instead.\n",
            "  df = df[df.index.isin(dates_dt)]\n",
            "/Users/mirco/Documents/Tesi/code/models/DGDNN/Data/geometric_dataset_gen.py:133: FutureWarning: The behavior of 'isin' with dtype=datetime64[ns] and castable values (e.g. strings) is deprecated. In a future version, these will not be considered matching by isin. Explicitly cast to the appropriate dtype before calling isin instead.\n",
            "  df = df[df.index.isin(dates_dt)]\n",
            " 84%|████████▍ | 351/416 [04:42<01:01,  1.05it/s]"
          ]
        },
        {
          "name": "stdout",
          "output_type": "stream",
          "text": [
            "Generating graph 351/416...\n"
          ]
        },
        {
          "name": "stderr",
          "output_type": "stream",
          "text": [
            "/Users/mirco/Documents/Tesi/code/models/DGDNN/Data/geometric_dataset_gen.py:133: FutureWarning: The behavior of 'isin' with dtype=datetime64[ns] and castable values (e.g. strings) is deprecated. In a future version, these will not be considered matching by isin. Explicitly cast to the appropriate dtype before calling isin instead.\n",
            "  df = df[df.index.isin(dates_dt)]\n",
            "/Users/mirco/Documents/Tesi/code/models/DGDNN/Data/geometric_dataset_gen.py:133: FutureWarning: The behavior of 'isin' with dtype=datetime64[ns] and castable values (e.g. strings) is deprecated. In a future version, these will not be considered matching by isin. Explicitly cast to the appropriate dtype before calling isin instead.\n",
            "  df = df[df.index.isin(dates_dt)]\n",
            "/Users/mirco/Documents/Tesi/code/models/DGDNN/Data/geometric_dataset_gen.py:133: FutureWarning: The behavior of 'isin' with dtype=datetime64[ns] and castable values (e.g. strings) is deprecated. In a future version, these will not be considered matching by isin. Explicitly cast to the appropriate dtype before calling isin instead.\n",
            "  df = df[df.index.isin(dates_dt)]\n",
            "/Users/mirco/Documents/Tesi/code/models/DGDNN/Data/geometric_dataset_gen.py:133: FutureWarning: The behavior of 'isin' with dtype=datetime64[ns] and castable values (e.g. strings) is deprecated. In a future version, these will not be considered matching by isin. Explicitly cast to the appropriate dtype before calling isin instead.\n",
            "  df = df[df.index.isin(dates_dt)]\n",
            " 85%|████████▍ | 352/416 [04:43<01:00,  1.05it/s]"
          ]
        },
        {
          "name": "stdout",
          "output_type": "stream",
          "text": [
            "Generating graph 352/416...\n"
          ]
        },
        {
          "name": "stderr",
          "output_type": "stream",
          "text": [
            "/Users/mirco/Documents/Tesi/code/models/DGDNN/Data/geometric_dataset_gen.py:133: FutureWarning: The behavior of 'isin' with dtype=datetime64[ns] and castable values (e.g. strings) is deprecated. In a future version, these will not be considered matching by isin. Explicitly cast to the appropriate dtype before calling isin instead.\n",
            "  df = df[df.index.isin(dates_dt)]\n",
            "/Users/mirco/Documents/Tesi/code/models/DGDNN/Data/geometric_dataset_gen.py:133: FutureWarning: The behavior of 'isin' with dtype=datetime64[ns] and castable values (e.g. strings) is deprecated. In a future version, these will not be considered matching by isin. Explicitly cast to the appropriate dtype before calling isin instead.\n",
            "  df = df[df.index.isin(dates_dt)]\n",
            "/Users/mirco/Documents/Tesi/code/models/DGDNN/Data/geometric_dataset_gen.py:133: FutureWarning: The behavior of 'isin' with dtype=datetime64[ns] and castable values (e.g. strings) is deprecated. In a future version, these will not be considered matching by isin. Explicitly cast to the appropriate dtype before calling isin instead.\n",
            "  df = df[df.index.isin(dates_dt)]\n",
            "/Users/mirco/Documents/Tesi/code/models/DGDNN/Data/geometric_dataset_gen.py:133: FutureWarning: The behavior of 'isin' with dtype=datetime64[ns] and castable values (e.g. strings) is deprecated. In a future version, these will not be considered matching by isin. Explicitly cast to the appropriate dtype before calling isin instead.\n",
            "  df = df[df.index.isin(dates_dt)]\n",
            " 85%|████████▍ | 353/416 [04:44<00:57,  1.09it/s]"
          ]
        },
        {
          "name": "stdout",
          "output_type": "stream",
          "text": [
            "Generating graph 353/416...\n"
          ]
        },
        {
          "name": "stderr",
          "output_type": "stream",
          "text": [
            "/Users/mirco/Documents/Tesi/code/models/DGDNN/Data/geometric_dataset_gen.py:133: FutureWarning: The behavior of 'isin' with dtype=datetime64[ns] and castable values (e.g. strings) is deprecated. In a future version, these will not be considered matching by isin. Explicitly cast to the appropriate dtype before calling isin instead.\n",
            "  df = df[df.index.isin(dates_dt)]\n",
            "/Users/mirco/Documents/Tesi/code/models/DGDNN/Data/geometric_dataset_gen.py:133: FutureWarning: The behavior of 'isin' with dtype=datetime64[ns] and castable values (e.g. strings) is deprecated. In a future version, these will not be considered matching by isin. Explicitly cast to the appropriate dtype before calling isin instead.\n",
            "  df = df[df.index.isin(dates_dt)]\n",
            "/Users/mirco/Documents/Tesi/code/models/DGDNN/Data/geometric_dataset_gen.py:133: FutureWarning: The behavior of 'isin' with dtype=datetime64[ns] and castable values (e.g. strings) is deprecated. In a future version, these will not be considered matching by isin. Explicitly cast to the appropriate dtype before calling isin instead.\n",
            "  df = df[df.index.isin(dates_dt)]\n",
            "/Users/mirco/Documents/Tesi/code/models/DGDNN/Data/geometric_dataset_gen.py:133: FutureWarning: The behavior of 'isin' with dtype=datetime64[ns] and castable values (e.g. strings) is deprecated. In a future version, these will not be considered matching by isin. Explicitly cast to the appropriate dtype before calling isin instead.\n",
            "  df = df[df.index.isin(dates_dt)]\n",
            " 85%|████████▌ | 354/416 [04:45<00:56,  1.10it/s]"
          ]
        },
        {
          "name": "stdout",
          "output_type": "stream",
          "text": [
            "Generating graph 354/416...\n"
          ]
        },
        {
          "name": "stderr",
          "output_type": "stream",
          "text": [
            "/Users/mirco/Documents/Tesi/code/models/DGDNN/Data/geometric_dataset_gen.py:133: FutureWarning: The behavior of 'isin' with dtype=datetime64[ns] and castable values (e.g. strings) is deprecated. In a future version, these will not be considered matching by isin. Explicitly cast to the appropriate dtype before calling isin instead.\n",
            "  df = df[df.index.isin(dates_dt)]\n",
            "/Users/mirco/Documents/Tesi/code/models/DGDNN/Data/geometric_dataset_gen.py:133: FutureWarning: The behavior of 'isin' with dtype=datetime64[ns] and castable values (e.g. strings) is deprecated. In a future version, these will not be considered matching by isin. Explicitly cast to the appropriate dtype before calling isin instead.\n",
            "  df = df[df.index.isin(dates_dt)]\n",
            "/Users/mirco/Documents/Tesi/code/models/DGDNN/Data/geometric_dataset_gen.py:133: FutureWarning: The behavior of 'isin' with dtype=datetime64[ns] and castable values (e.g. strings) is deprecated. In a future version, these will not be considered matching by isin. Explicitly cast to the appropriate dtype before calling isin instead.\n",
            "  df = df[df.index.isin(dates_dt)]\n",
            "/Users/mirco/Documents/Tesi/code/models/DGDNN/Data/geometric_dataset_gen.py:133: FutureWarning: The behavior of 'isin' with dtype=datetime64[ns] and castable values (e.g. strings) is deprecated. In a future version, these will not be considered matching by isin. Explicitly cast to the appropriate dtype before calling isin instead.\n",
            "  df = df[df.index.isin(dates_dt)]\n",
            " 85%|████████▌ | 355/416 [04:46<01:00,  1.01it/s]"
          ]
        },
        {
          "name": "stdout",
          "output_type": "stream",
          "text": [
            "Generating graph 355/416...\n"
          ]
        },
        {
          "name": "stderr",
          "output_type": "stream",
          "text": [
            "/Users/mirco/Documents/Tesi/code/models/DGDNN/Data/geometric_dataset_gen.py:133: FutureWarning: The behavior of 'isin' with dtype=datetime64[ns] and castable values (e.g. strings) is deprecated. In a future version, these will not be considered matching by isin. Explicitly cast to the appropriate dtype before calling isin instead.\n",
            "  df = df[df.index.isin(dates_dt)]\n",
            "/Users/mirco/Documents/Tesi/code/models/DGDNN/Data/geometric_dataset_gen.py:133: FutureWarning: The behavior of 'isin' with dtype=datetime64[ns] and castable values (e.g. strings) is deprecated. In a future version, these will not be considered matching by isin. Explicitly cast to the appropriate dtype before calling isin instead.\n",
            "  df = df[df.index.isin(dates_dt)]\n",
            "/Users/mirco/Documents/Tesi/code/models/DGDNN/Data/geometric_dataset_gen.py:133: FutureWarning: The behavior of 'isin' with dtype=datetime64[ns] and castable values (e.g. strings) is deprecated. In a future version, these will not be considered matching by isin. Explicitly cast to the appropriate dtype before calling isin instead.\n",
            "  df = df[df.index.isin(dates_dt)]\n",
            "/Users/mirco/Documents/Tesi/code/models/DGDNN/Data/geometric_dataset_gen.py:133: FutureWarning: The behavior of 'isin' with dtype=datetime64[ns] and castable values (e.g. strings) is deprecated. In a future version, these will not be considered matching by isin. Explicitly cast to the appropriate dtype before calling isin instead.\n",
            "  df = df[df.index.isin(dates_dt)]\n",
            " 86%|████████▌ | 356/416 [04:47<00:56,  1.06it/s]"
          ]
        },
        {
          "name": "stdout",
          "output_type": "stream",
          "text": [
            "Generating graph 356/416...\n"
          ]
        },
        {
          "name": "stderr",
          "output_type": "stream",
          "text": [
            "/Users/mirco/Documents/Tesi/code/models/DGDNN/Data/geometric_dataset_gen.py:133: FutureWarning: The behavior of 'isin' with dtype=datetime64[ns] and castable values (e.g. strings) is deprecated. In a future version, these will not be considered matching by isin. Explicitly cast to the appropriate dtype before calling isin instead.\n",
            "  df = df[df.index.isin(dates_dt)]\n",
            "/Users/mirco/Documents/Tesi/code/models/DGDNN/Data/geometric_dataset_gen.py:133: FutureWarning: The behavior of 'isin' with dtype=datetime64[ns] and castable values (e.g. strings) is deprecated. In a future version, these will not be considered matching by isin. Explicitly cast to the appropriate dtype before calling isin instead.\n",
            "  df = df[df.index.isin(dates_dt)]\n",
            "/Users/mirco/Documents/Tesi/code/models/DGDNN/Data/geometric_dataset_gen.py:133: FutureWarning: The behavior of 'isin' with dtype=datetime64[ns] and castable values (e.g. strings) is deprecated. In a future version, these will not be considered matching by isin. Explicitly cast to the appropriate dtype before calling isin instead.\n",
            "  df = df[df.index.isin(dates_dt)]\n",
            "/Users/mirco/Documents/Tesi/code/models/DGDNN/Data/geometric_dataset_gen.py:133: FutureWarning: The behavior of 'isin' with dtype=datetime64[ns] and castable values (e.g. strings) is deprecated. In a future version, these will not be considered matching by isin. Explicitly cast to the appropriate dtype before calling isin instead.\n",
            "  df = df[df.index.isin(dates_dt)]\n",
            " 86%|████████▌ | 357/416 [04:48<00:53,  1.09it/s]"
          ]
        },
        {
          "name": "stdout",
          "output_type": "stream",
          "text": [
            "Generating graph 357/416...\n"
          ]
        },
        {
          "name": "stderr",
          "output_type": "stream",
          "text": [
            "/Users/mirco/Documents/Tesi/code/models/DGDNN/Data/geometric_dataset_gen.py:133: FutureWarning: The behavior of 'isin' with dtype=datetime64[ns] and castable values (e.g. strings) is deprecated. In a future version, these will not be considered matching by isin. Explicitly cast to the appropriate dtype before calling isin instead.\n",
            "  df = df[df.index.isin(dates_dt)]\n",
            "/Users/mirco/Documents/Tesi/code/models/DGDNN/Data/geometric_dataset_gen.py:133: FutureWarning: The behavior of 'isin' with dtype=datetime64[ns] and castable values (e.g. strings) is deprecated. In a future version, these will not be considered matching by isin. Explicitly cast to the appropriate dtype before calling isin instead.\n",
            "  df = df[df.index.isin(dates_dt)]\n",
            "/Users/mirco/Documents/Tesi/code/models/DGDNN/Data/geometric_dataset_gen.py:133: FutureWarning: The behavior of 'isin' with dtype=datetime64[ns] and castable values (e.g. strings) is deprecated. In a future version, these will not be considered matching by isin. Explicitly cast to the appropriate dtype before calling isin instead.\n",
            "  df = df[df.index.isin(dates_dt)]\n",
            "/Users/mirco/Documents/Tesi/code/models/DGDNN/Data/geometric_dataset_gen.py:133: FutureWarning: The behavior of 'isin' with dtype=datetime64[ns] and castable values (e.g. strings) is deprecated. In a future version, these will not be considered matching by isin. Explicitly cast to the appropriate dtype before calling isin instead.\n",
            "  df = df[df.index.isin(dates_dt)]\n",
            " 86%|████████▌ | 358/416 [04:49<00:51,  1.13it/s]"
          ]
        },
        {
          "name": "stdout",
          "output_type": "stream",
          "text": [
            "Generating graph 358/416...\n"
          ]
        },
        {
          "name": "stderr",
          "output_type": "stream",
          "text": [
            "/Users/mirco/Documents/Tesi/code/models/DGDNN/Data/geometric_dataset_gen.py:133: FutureWarning: The behavior of 'isin' with dtype=datetime64[ns] and castable values (e.g. strings) is deprecated. In a future version, these will not be considered matching by isin. Explicitly cast to the appropriate dtype before calling isin instead.\n",
            "  df = df[df.index.isin(dates_dt)]\n",
            "/Users/mirco/Documents/Tesi/code/models/DGDNN/Data/geometric_dataset_gen.py:133: FutureWarning: The behavior of 'isin' with dtype=datetime64[ns] and castable values (e.g. strings) is deprecated. In a future version, these will not be considered matching by isin. Explicitly cast to the appropriate dtype before calling isin instead.\n",
            "  df = df[df.index.isin(dates_dt)]\n",
            "/Users/mirco/Documents/Tesi/code/models/DGDNN/Data/geometric_dataset_gen.py:133: FutureWarning: The behavior of 'isin' with dtype=datetime64[ns] and castable values (e.g. strings) is deprecated. In a future version, these will not be considered matching by isin. Explicitly cast to the appropriate dtype before calling isin instead.\n",
            "  df = df[df.index.isin(dates_dt)]\n",
            "/Users/mirco/Documents/Tesi/code/models/DGDNN/Data/geometric_dataset_gen.py:133: FutureWarning: The behavior of 'isin' with dtype=datetime64[ns] and castable values (e.g. strings) is deprecated. In a future version, these will not be considered matching by isin. Explicitly cast to the appropriate dtype before calling isin instead.\n",
            "  df = df[df.index.isin(dates_dt)]\n",
            " 86%|████████▋ | 359/416 [04:50<00:51,  1.11it/s]"
          ]
        },
        {
          "name": "stdout",
          "output_type": "stream",
          "text": [
            "Generating graph 359/416...\n"
          ]
        },
        {
          "name": "stderr",
          "output_type": "stream",
          "text": [
            "/Users/mirco/Documents/Tesi/code/models/DGDNN/Data/geometric_dataset_gen.py:133: FutureWarning: The behavior of 'isin' with dtype=datetime64[ns] and castable values (e.g. strings) is deprecated. In a future version, these will not be considered matching by isin. Explicitly cast to the appropriate dtype before calling isin instead.\n",
            "  df = df[df.index.isin(dates_dt)]\n",
            "/Users/mirco/Documents/Tesi/code/models/DGDNN/Data/geometric_dataset_gen.py:133: FutureWarning: The behavior of 'isin' with dtype=datetime64[ns] and castable values (e.g. strings) is deprecated. In a future version, these will not be considered matching by isin. Explicitly cast to the appropriate dtype before calling isin instead.\n",
            "  df = df[df.index.isin(dates_dt)]\n",
            "/Users/mirco/Documents/Tesi/code/models/DGDNN/Data/geometric_dataset_gen.py:133: FutureWarning: The behavior of 'isin' with dtype=datetime64[ns] and castable values (e.g. strings) is deprecated. In a future version, these will not be considered matching by isin. Explicitly cast to the appropriate dtype before calling isin instead.\n",
            "  df = df[df.index.isin(dates_dt)]\n",
            "/Users/mirco/Documents/Tesi/code/models/DGDNN/Data/geometric_dataset_gen.py:133: FutureWarning: The behavior of 'isin' with dtype=datetime64[ns] and castable values (e.g. strings) is deprecated. In a future version, these will not be considered matching by isin. Explicitly cast to the appropriate dtype before calling isin instead.\n",
            "  df = df[df.index.isin(dates_dt)]\n",
            " 87%|████████▋ | 360/416 [04:50<00:49,  1.14it/s]"
          ]
        },
        {
          "name": "stdout",
          "output_type": "stream",
          "text": [
            "Generating graph 360/416...\n"
          ]
        },
        {
          "name": "stderr",
          "output_type": "stream",
          "text": [
            "/Users/mirco/Documents/Tesi/code/models/DGDNN/Data/geometric_dataset_gen.py:133: FutureWarning: The behavior of 'isin' with dtype=datetime64[ns] and castable values (e.g. strings) is deprecated. In a future version, these will not be considered matching by isin. Explicitly cast to the appropriate dtype before calling isin instead.\n",
            "  df = df[df.index.isin(dates_dt)]\n",
            "/Users/mirco/Documents/Tesi/code/models/DGDNN/Data/geometric_dataset_gen.py:133: FutureWarning: The behavior of 'isin' with dtype=datetime64[ns] and castable values (e.g. strings) is deprecated. In a future version, these will not be considered matching by isin. Explicitly cast to the appropriate dtype before calling isin instead.\n",
            "  df = df[df.index.isin(dates_dt)]\n",
            "/Users/mirco/Documents/Tesi/code/models/DGDNN/Data/geometric_dataset_gen.py:133: FutureWarning: The behavior of 'isin' with dtype=datetime64[ns] and castable values (e.g. strings) is deprecated. In a future version, these will not be considered matching by isin. Explicitly cast to the appropriate dtype before calling isin instead.\n",
            "  df = df[df.index.isin(dates_dt)]\n",
            "/Users/mirco/Documents/Tesi/code/models/DGDNN/Data/geometric_dataset_gen.py:133: FutureWarning: The behavior of 'isin' with dtype=datetime64[ns] and castable values (e.g. strings) is deprecated. In a future version, these will not be considered matching by isin. Explicitly cast to the appropriate dtype before calling isin instead.\n",
            "  df = df[df.index.isin(dates_dt)]\n",
            " 87%|████████▋ | 361/416 [04:51<00:47,  1.16it/s]"
          ]
        },
        {
          "name": "stdout",
          "output_type": "stream",
          "text": [
            "Generating graph 361/416...\n"
          ]
        },
        {
          "name": "stderr",
          "output_type": "stream",
          "text": [
            "/Users/mirco/Documents/Tesi/code/models/DGDNN/Data/geometric_dataset_gen.py:133: FutureWarning: The behavior of 'isin' with dtype=datetime64[ns] and castable values (e.g. strings) is deprecated. In a future version, these will not be considered matching by isin. Explicitly cast to the appropriate dtype before calling isin instead.\n",
            "  df = df[df.index.isin(dates_dt)]\n",
            "/Users/mirco/Documents/Tesi/code/models/DGDNN/Data/geometric_dataset_gen.py:133: FutureWarning: The behavior of 'isin' with dtype=datetime64[ns] and castable values (e.g. strings) is deprecated. In a future version, these will not be considered matching by isin. Explicitly cast to the appropriate dtype before calling isin instead.\n",
            "  df = df[df.index.isin(dates_dt)]\n",
            "/Users/mirco/Documents/Tesi/code/models/DGDNN/Data/geometric_dataset_gen.py:133: FutureWarning: The behavior of 'isin' with dtype=datetime64[ns] and castable values (e.g. strings) is deprecated. In a future version, these will not be considered matching by isin. Explicitly cast to the appropriate dtype before calling isin instead.\n",
            "  df = df[df.index.isin(dates_dt)]\n",
            "/Users/mirco/Documents/Tesi/code/models/DGDNN/Data/geometric_dataset_gen.py:133: FutureWarning: The behavior of 'isin' with dtype=datetime64[ns] and castable values (e.g. strings) is deprecated. In a future version, these will not be considered matching by isin. Explicitly cast to the appropriate dtype before calling isin instead.\n",
            "  df = df[df.index.isin(dates_dt)]\n",
            " 87%|████████▋ | 362/416 [04:52<00:47,  1.13it/s]"
          ]
        },
        {
          "name": "stdout",
          "output_type": "stream",
          "text": [
            "Generating graph 362/416...\n"
          ]
        },
        {
          "name": "stderr",
          "output_type": "stream",
          "text": [
            "/Users/mirco/Documents/Tesi/code/models/DGDNN/Data/geometric_dataset_gen.py:133: FutureWarning: The behavior of 'isin' with dtype=datetime64[ns] and castable values (e.g. strings) is deprecated. In a future version, these will not be considered matching by isin. Explicitly cast to the appropriate dtype before calling isin instead.\n",
            "  df = df[df.index.isin(dates_dt)]\n",
            "/Users/mirco/Documents/Tesi/code/models/DGDNN/Data/geometric_dataset_gen.py:133: FutureWarning: The behavior of 'isin' with dtype=datetime64[ns] and castable values (e.g. strings) is deprecated. In a future version, these will not be considered matching by isin. Explicitly cast to the appropriate dtype before calling isin instead.\n",
            "  df = df[df.index.isin(dates_dt)]\n",
            "/Users/mirco/Documents/Tesi/code/models/DGDNN/Data/geometric_dataset_gen.py:133: FutureWarning: The behavior of 'isin' with dtype=datetime64[ns] and castable values (e.g. strings) is deprecated. In a future version, these will not be considered matching by isin. Explicitly cast to the appropriate dtype before calling isin instead.\n",
            "  df = df[df.index.isin(dates_dt)]\n",
            "/Users/mirco/Documents/Tesi/code/models/DGDNN/Data/geometric_dataset_gen.py:133: FutureWarning: The behavior of 'isin' with dtype=datetime64[ns] and castable values (e.g. strings) is deprecated. In a future version, these will not be considered matching by isin. Explicitly cast to the appropriate dtype before calling isin instead.\n",
            "  df = df[df.index.isin(dates_dt)]\n",
            " 87%|████████▋ | 363/416 [04:53<00:45,  1.16it/s]"
          ]
        },
        {
          "name": "stdout",
          "output_type": "stream",
          "text": [
            "Generating graph 363/416...\n"
          ]
        },
        {
          "name": "stderr",
          "output_type": "stream",
          "text": [
            "/Users/mirco/Documents/Tesi/code/models/DGDNN/Data/geometric_dataset_gen.py:133: FutureWarning: The behavior of 'isin' with dtype=datetime64[ns] and castable values (e.g. strings) is deprecated. In a future version, these will not be considered matching by isin. Explicitly cast to the appropriate dtype before calling isin instead.\n",
            "  df = df[df.index.isin(dates_dt)]\n",
            "/Users/mirco/Documents/Tesi/code/models/DGDNN/Data/geometric_dataset_gen.py:133: FutureWarning: The behavior of 'isin' with dtype=datetime64[ns] and castable values (e.g. strings) is deprecated. In a future version, these will not be considered matching by isin. Explicitly cast to the appropriate dtype before calling isin instead.\n",
            "  df = df[df.index.isin(dates_dt)]\n",
            "/Users/mirco/Documents/Tesi/code/models/DGDNN/Data/geometric_dataset_gen.py:133: FutureWarning: The behavior of 'isin' with dtype=datetime64[ns] and castable values (e.g. strings) is deprecated. In a future version, these will not be considered matching by isin. Explicitly cast to the appropriate dtype before calling isin instead.\n",
            "  df = df[df.index.isin(dates_dt)]\n",
            "/Users/mirco/Documents/Tesi/code/models/DGDNN/Data/geometric_dataset_gen.py:133: FutureWarning: The behavior of 'isin' with dtype=datetime64[ns] and castable values (e.g. strings) is deprecated. In a future version, these will not be considered matching by isin. Explicitly cast to the appropriate dtype before calling isin instead.\n",
            "  df = df[df.index.isin(dates_dt)]\n",
            " 88%|████████▊ | 364/416 [04:54<00:43,  1.19it/s]"
          ]
        },
        {
          "name": "stdout",
          "output_type": "stream",
          "text": [
            "Generating graph 364/416...\n"
          ]
        },
        {
          "name": "stderr",
          "output_type": "stream",
          "text": [
            "/Users/mirco/Documents/Tesi/code/models/DGDNN/Data/geometric_dataset_gen.py:133: FutureWarning: The behavior of 'isin' with dtype=datetime64[ns] and castable values (e.g. strings) is deprecated. In a future version, these will not be considered matching by isin. Explicitly cast to the appropriate dtype before calling isin instead.\n",
            "  df = df[df.index.isin(dates_dt)]\n",
            "/Users/mirco/Documents/Tesi/code/models/DGDNN/Data/geometric_dataset_gen.py:133: FutureWarning: The behavior of 'isin' with dtype=datetime64[ns] and castable values (e.g. strings) is deprecated. In a future version, these will not be considered matching by isin. Explicitly cast to the appropriate dtype before calling isin instead.\n",
            "  df = df[df.index.isin(dates_dt)]\n",
            "/Users/mirco/Documents/Tesi/code/models/DGDNN/Data/geometric_dataset_gen.py:133: FutureWarning: The behavior of 'isin' with dtype=datetime64[ns] and castable values (e.g. strings) is deprecated. In a future version, these will not be considered matching by isin. Explicitly cast to the appropriate dtype before calling isin instead.\n",
            "  df = df[df.index.isin(dates_dt)]\n",
            "/Users/mirco/Documents/Tesi/code/models/DGDNN/Data/geometric_dataset_gen.py:133: FutureWarning: The behavior of 'isin' with dtype=datetime64[ns] and castable values (e.g. strings) is deprecated. In a future version, these will not be considered matching by isin. Explicitly cast to the appropriate dtype before calling isin instead.\n",
            "  df = df[df.index.isin(dates_dt)]\n",
            " 88%|████████▊ | 365/416 [04:55<00:43,  1.17it/s]"
          ]
        },
        {
          "name": "stdout",
          "output_type": "stream",
          "text": [
            "Generating graph 365/416...\n"
          ]
        },
        {
          "name": "stderr",
          "output_type": "stream",
          "text": [
            "/Users/mirco/Documents/Tesi/code/models/DGDNN/Data/geometric_dataset_gen.py:133: FutureWarning: The behavior of 'isin' with dtype=datetime64[ns] and castable values (e.g. strings) is deprecated. In a future version, these will not be considered matching by isin. Explicitly cast to the appropriate dtype before calling isin instead.\n",
            "  df = df[df.index.isin(dates_dt)]\n",
            "/Users/mirco/Documents/Tesi/code/models/DGDNN/Data/geometric_dataset_gen.py:133: FutureWarning: The behavior of 'isin' with dtype=datetime64[ns] and castable values (e.g. strings) is deprecated. In a future version, these will not be considered matching by isin. Explicitly cast to the appropriate dtype before calling isin instead.\n",
            "  df = df[df.index.isin(dates_dt)]\n",
            "/Users/mirco/Documents/Tesi/code/models/DGDNN/Data/geometric_dataset_gen.py:133: FutureWarning: The behavior of 'isin' with dtype=datetime64[ns] and castable values (e.g. strings) is deprecated. In a future version, these will not be considered matching by isin. Explicitly cast to the appropriate dtype before calling isin instead.\n",
            "  df = df[df.index.isin(dates_dt)]\n",
            "/Users/mirco/Documents/Tesi/code/models/DGDNN/Data/geometric_dataset_gen.py:133: FutureWarning: The behavior of 'isin' with dtype=datetime64[ns] and castable values (e.g. strings) is deprecated. In a future version, these will not be considered matching by isin. Explicitly cast to the appropriate dtype before calling isin instead.\n",
            "  df = df[df.index.isin(dates_dt)]\n",
            " 88%|████████▊ | 366/416 [04:56<00:43,  1.14it/s]"
          ]
        },
        {
          "name": "stdout",
          "output_type": "stream",
          "text": [
            "Generating graph 366/416...\n"
          ]
        },
        {
          "name": "stderr",
          "output_type": "stream",
          "text": [
            "/Users/mirco/Documents/Tesi/code/models/DGDNN/Data/geometric_dataset_gen.py:133: FutureWarning: The behavior of 'isin' with dtype=datetime64[ns] and castable values (e.g. strings) is deprecated. In a future version, these will not be considered matching by isin. Explicitly cast to the appropriate dtype before calling isin instead.\n",
            "  df = df[df.index.isin(dates_dt)]\n",
            "/Users/mirco/Documents/Tesi/code/models/DGDNN/Data/geometric_dataset_gen.py:133: FutureWarning: The behavior of 'isin' with dtype=datetime64[ns] and castable values (e.g. strings) is deprecated. In a future version, these will not be considered matching by isin. Explicitly cast to the appropriate dtype before calling isin instead.\n",
            "  df = df[df.index.isin(dates_dt)]\n",
            "/Users/mirco/Documents/Tesi/code/models/DGDNN/Data/geometric_dataset_gen.py:133: FutureWarning: The behavior of 'isin' with dtype=datetime64[ns] and castable values (e.g. strings) is deprecated. In a future version, these will not be considered matching by isin. Explicitly cast to the appropriate dtype before calling isin instead.\n",
            "  df = df[df.index.isin(dates_dt)]\n",
            "/Users/mirco/Documents/Tesi/code/models/DGDNN/Data/geometric_dataset_gen.py:133: FutureWarning: The behavior of 'isin' with dtype=datetime64[ns] and castable values (e.g. strings) is deprecated. In a future version, these will not be considered matching by isin. Explicitly cast to the appropriate dtype before calling isin instead.\n",
            "  df = df[df.index.isin(dates_dt)]\n",
            " 88%|████████▊ | 367/416 [04:56<00:41,  1.18it/s]"
          ]
        },
        {
          "name": "stdout",
          "output_type": "stream",
          "text": [
            "Generating graph 367/416...\n"
          ]
        },
        {
          "name": "stderr",
          "output_type": "stream",
          "text": [
            "/Users/mirco/Documents/Tesi/code/models/DGDNN/Data/geometric_dataset_gen.py:133: FutureWarning: The behavior of 'isin' with dtype=datetime64[ns] and castable values (e.g. strings) is deprecated. In a future version, these will not be considered matching by isin. Explicitly cast to the appropriate dtype before calling isin instead.\n",
            "  df = df[df.index.isin(dates_dt)]\n",
            "/Users/mirco/Documents/Tesi/code/models/DGDNN/Data/geometric_dataset_gen.py:133: FutureWarning: The behavior of 'isin' with dtype=datetime64[ns] and castable values (e.g. strings) is deprecated. In a future version, these will not be considered matching by isin. Explicitly cast to the appropriate dtype before calling isin instead.\n",
            "  df = df[df.index.isin(dates_dt)]\n",
            "/Users/mirco/Documents/Tesi/code/models/DGDNN/Data/geometric_dataset_gen.py:133: FutureWarning: The behavior of 'isin' with dtype=datetime64[ns] and castable values (e.g. strings) is deprecated. In a future version, these will not be considered matching by isin. Explicitly cast to the appropriate dtype before calling isin instead.\n",
            "  df = df[df.index.isin(dates_dt)]\n",
            "/Users/mirco/Documents/Tesi/code/models/DGDNN/Data/geometric_dataset_gen.py:133: FutureWarning: The behavior of 'isin' with dtype=datetime64[ns] and castable values (e.g. strings) is deprecated. In a future version, these will not be considered matching by isin. Explicitly cast to the appropriate dtype before calling isin instead.\n",
            "  df = df[df.index.isin(dates_dt)]\n",
            " 88%|████████▊ | 368/416 [04:57<00:39,  1.20it/s]"
          ]
        },
        {
          "name": "stdout",
          "output_type": "stream",
          "text": [
            "Generating graph 368/416...\n"
          ]
        },
        {
          "name": "stderr",
          "output_type": "stream",
          "text": [
            "/Users/mirco/Documents/Tesi/code/models/DGDNN/Data/geometric_dataset_gen.py:133: FutureWarning: The behavior of 'isin' with dtype=datetime64[ns] and castable values (e.g. strings) is deprecated. In a future version, these will not be considered matching by isin. Explicitly cast to the appropriate dtype before calling isin instead.\n",
            "  df = df[df.index.isin(dates_dt)]\n",
            "/Users/mirco/Documents/Tesi/code/models/DGDNN/Data/geometric_dataset_gen.py:133: FutureWarning: The behavior of 'isin' with dtype=datetime64[ns] and castable values (e.g. strings) is deprecated. In a future version, these will not be considered matching by isin. Explicitly cast to the appropriate dtype before calling isin instead.\n",
            "  df = df[df.index.isin(dates_dt)]\n",
            "/Users/mirco/Documents/Tesi/code/models/DGDNN/Data/geometric_dataset_gen.py:133: FutureWarning: The behavior of 'isin' with dtype=datetime64[ns] and castable values (e.g. strings) is deprecated. In a future version, these will not be considered matching by isin. Explicitly cast to the appropriate dtype before calling isin instead.\n",
            "  df = df[df.index.isin(dates_dt)]\n",
            "/Users/mirco/Documents/Tesi/code/models/DGDNN/Data/geometric_dataset_gen.py:133: FutureWarning: The behavior of 'isin' with dtype=datetime64[ns] and castable values (e.g. strings) is deprecated. In a future version, these will not be considered matching by isin. Explicitly cast to the appropriate dtype before calling isin instead.\n",
            "  df = df[df.index.isin(dates_dt)]\n",
            " 89%|████████▊ | 369/416 [04:58<00:39,  1.18it/s]"
          ]
        },
        {
          "name": "stdout",
          "output_type": "stream",
          "text": [
            "Generating graph 369/416...\n"
          ]
        },
        {
          "name": "stderr",
          "output_type": "stream",
          "text": [
            "/Users/mirco/Documents/Tesi/code/models/DGDNN/Data/geometric_dataset_gen.py:133: FutureWarning: The behavior of 'isin' with dtype=datetime64[ns] and castable values (e.g. strings) is deprecated. In a future version, these will not be considered matching by isin. Explicitly cast to the appropriate dtype before calling isin instead.\n",
            "  df = df[df.index.isin(dates_dt)]\n",
            "/Users/mirco/Documents/Tesi/code/models/DGDNN/Data/geometric_dataset_gen.py:133: FutureWarning: The behavior of 'isin' with dtype=datetime64[ns] and castable values (e.g. strings) is deprecated. In a future version, these will not be considered matching by isin. Explicitly cast to the appropriate dtype before calling isin instead.\n",
            "  df = df[df.index.isin(dates_dt)]\n",
            "/Users/mirco/Documents/Tesi/code/models/DGDNN/Data/geometric_dataset_gen.py:133: FutureWarning: The behavior of 'isin' with dtype=datetime64[ns] and castable values (e.g. strings) is deprecated. In a future version, these will not be considered matching by isin. Explicitly cast to the appropriate dtype before calling isin instead.\n",
            "  df = df[df.index.isin(dates_dt)]\n",
            "/Users/mirco/Documents/Tesi/code/models/DGDNN/Data/geometric_dataset_gen.py:133: FutureWarning: The behavior of 'isin' with dtype=datetime64[ns] and castable values (e.g. strings) is deprecated. In a future version, these will not be considered matching by isin. Explicitly cast to the appropriate dtype before calling isin instead.\n",
            "  df = df[df.index.isin(dates_dt)]\n",
            " 89%|████████▉ | 370/416 [04:59<00:37,  1.23it/s]"
          ]
        },
        {
          "name": "stdout",
          "output_type": "stream",
          "text": [
            "Generating graph 370/416...\n"
          ]
        },
        {
          "name": "stderr",
          "output_type": "stream",
          "text": [
            "/Users/mirco/Documents/Tesi/code/models/DGDNN/Data/geometric_dataset_gen.py:133: FutureWarning: The behavior of 'isin' with dtype=datetime64[ns] and castable values (e.g. strings) is deprecated. In a future version, these will not be considered matching by isin. Explicitly cast to the appropriate dtype before calling isin instead.\n",
            "  df = df[df.index.isin(dates_dt)]\n",
            "/Users/mirco/Documents/Tesi/code/models/DGDNN/Data/geometric_dataset_gen.py:133: FutureWarning: The behavior of 'isin' with dtype=datetime64[ns] and castable values (e.g. strings) is deprecated. In a future version, these will not be considered matching by isin. Explicitly cast to the appropriate dtype before calling isin instead.\n",
            "  df = df[df.index.isin(dates_dt)]\n",
            "/Users/mirco/Documents/Tesi/code/models/DGDNN/Data/geometric_dataset_gen.py:133: FutureWarning: The behavior of 'isin' with dtype=datetime64[ns] and castable values (e.g. strings) is deprecated. In a future version, these will not be considered matching by isin. Explicitly cast to the appropriate dtype before calling isin instead.\n",
            "  df = df[df.index.isin(dates_dt)]\n",
            "/Users/mirco/Documents/Tesi/code/models/DGDNN/Data/geometric_dataset_gen.py:133: FutureWarning: The behavior of 'isin' with dtype=datetime64[ns] and castable values (e.g. strings) is deprecated. In a future version, these will not be considered matching by isin. Explicitly cast to the appropriate dtype before calling isin instead.\n",
            "  df = df[df.index.isin(dates_dt)]\n",
            " 89%|████████▉ | 371/416 [04:59<00:35,  1.27it/s]"
          ]
        },
        {
          "name": "stdout",
          "output_type": "stream",
          "text": [
            "Generating graph 371/416...\n"
          ]
        },
        {
          "name": "stderr",
          "output_type": "stream",
          "text": [
            "/Users/mirco/Documents/Tesi/code/models/DGDNN/Data/geometric_dataset_gen.py:133: FutureWarning: The behavior of 'isin' with dtype=datetime64[ns] and castable values (e.g. strings) is deprecated. In a future version, these will not be considered matching by isin. Explicitly cast to the appropriate dtype before calling isin instead.\n",
            "  df = df[df.index.isin(dates_dt)]\n",
            "/Users/mirco/Documents/Tesi/code/models/DGDNN/Data/geometric_dataset_gen.py:133: FutureWarning: The behavior of 'isin' with dtype=datetime64[ns] and castable values (e.g. strings) is deprecated. In a future version, these will not be considered matching by isin. Explicitly cast to the appropriate dtype before calling isin instead.\n",
            "  df = df[df.index.isin(dates_dt)]\n",
            "/Users/mirco/Documents/Tesi/code/models/DGDNN/Data/geometric_dataset_gen.py:133: FutureWarning: The behavior of 'isin' with dtype=datetime64[ns] and castable values (e.g. strings) is deprecated. In a future version, these will not be considered matching by isin. Explicitly cast to the appropriate dtype before calling isin instead.\n",
            "  df = df[df.index.isin(dates_dt)]\n",
            "/Users/mirco/Documents/Tesi/code/models/DGDNN/Data/geometric_dataset_gen.py:133: FutureWarning: The behavior of 'isin' with dtype=datetime64[ns] and castable values (e.g. strings) is deprecated. In a future version, these will not be considered matching by isin. Explicitly cast to the appropriate dtype before calling isin instead.\n",
            "  df = df[df.index.isin(dates_dt)]\n",
            " 89%|████████▉ | 372/416 [05:00<00:34,  1.29it/s]"
          ]
        },
        {
          "name": "stdout",
          "output_type": "stream",
          "text": [
            "Generating graph 372/416...\n"
          ]
        },
        {
          "name": "stderr",
          "output_type": "stream",
          "text": [
            "/Users/mirco/Documents/Tesi/code/models/DGDNN/Data/geometric_dataset_gen.py:133: FutureWarning: The behavior of 'isin' with dtype=datetime64[ns] and castable values (e.g. strings) is deprecated. In a future version, these will not be considered matching by isin. Explicitly cast to the appropriate dtype before calling isin instead.\n",
            "  df = df[df.index.isin(dates_dt)]\n",
            "/Users/mirco/Documents/Tesi/code/models/DGDNN/Data/geometric_dataset_gen.py:133: FutureWarning: The behavior of 'isin' with dtype=datetime64[ns] and castable values (e.g. strings) is deprecated. In a future version, these will not be considered matching by isin. Explicitly cast to the appropriate dtype before calling isin instead.\n",
            "  df = df[df.index.isin(dates_dt)]\n",
            "/Users/mirco/Documents/Tesi/code/models/DGDNN/Data/geometric_dataset_gen.py:133: FutureWarning: The behavior of 'isin' with dtype=datetime64[ns] and castable values (e.g. strings) is deprecated. In a future version, these will not be considered matching by isin. Explicitly cast to the appropriate dtype before calling isin instead.\n",
            "  df = df[df.index.isin(dates_dt)]\n",
            "/Users/mirco/Documents/Tesi/code/models/DGDNN/Data/geometric_dataset_gen.py:133: FutureWarning: The behavior of 'isin' with dtype=datetime64[ns] and castable values (e.g. strings) is deprecated. In a future version, these will not be considered matching by isin. Explicitly cast to the appropriate dtype before calling isin instead.\n",
            "  df = df[df.index.isin(dates_dt)]\n",
            " 90%|████████▉ | 373/416 [05:01<00:34,  1.24it/s]"
          ]
        },
        {
          "name": "stdout",
          "output_type": "stream",
          "text": [
            "Generating graph 373/416...\n"
          ]
        },
        {
          "name": "stderr",
          "output_type": "stream",
          "text": [
            "/Users/mirco/Documents/Tesi/code/models/DGDNN/Data/geometric_dataset_gen.py:133: FutureWarning: The behavior of 'isin' with dtype=datetime64[ns] and castable values (e.g. strings) is deprecated. In a future version, these will not be considered matching by isin. Explicitly cast to the appropriate dtype before calling isin instead.\n",
            "  df = df[df.index.isin(dates_dt)]\n",
            "/Users/mirco/Documents/Tesi/code/models/DGDNN/Data/geometric_dataset_gen.py:133: FutureWarning: The behavior of 'isin' with dtype=datetime64[ns] and castable values (e.g. strings) is deprecated. In a future version, these will not be considered matching by isin. Explicitly cast to the appropriate dtype before calling isin instead.\n",
            "  df = df[df.index.isin(dates_dt)]\n",
            "/Users/mirco/Documents/Tesi/code/models/DGDNN/Data/geometric_dataset_gen.py:133: FutureWarning: The behavior of 'isin' with dtype=datetime64[ns] and castable values (e.g. strings) is deprecated. In a future version, these will not be considered matching by isin. Explicitly cast to the appropriate dtype before calling isin instead.\n",
            "  df = df[df.index.isin(dates_dt)]\n",
            "/Users/mirco/Documents/Tesi/code/models/DGDNN/Data/geometric_dataset_gen.py:133: FutureWarning: The behavior of 'isin' with dtype=datetime64[ns] and castable values (e.g. strings) is deprecated. In a future version, these will not be considered matching by isin. Explicitly cast to the appropriate dtype before calling isin instead.\n",
            "  df = df[df.index.isin(dates_dt)]\n",
            " 90%|████████▉ | 374/416 [05:02<00:35,  1.19it/s]"
          ]
        },
        {
          "name": "stdout",
          "output_type": "stream",
          "text": [
            "Generating graph 374/416...\n"
          ]
        },
        {
          "name": "stderr",
          "output_type": "stream",
          "text": [
            "/Users/mirco/Documents/Tesi/code/models/DGDNN/Data/geometric_dataset_gen.py:133: FutureWarning: The behavior of 'isin' with dtype=datetime64[ns] and castable values (e.g. strings) is deprecated. In a future version, these will not be considered matching by isin. Explicitly cast to the appropriate dtype before calling isin instead.\n",
            "  df = df[df.index.isin(dates_dt)]\n",
            "/Users/mirco/Documents/Tesi/code/models/DGDNN/Data/geometric_dataset_gen.py:133: FutureWarning: The behavior of 'isin' with dtype=datetime64[ns] and castable values (e.g. strings) is deprecated. In a future version, these will not be considered matching by isin. Explicitly cast to the appropriate dtype before calling isin instead.\n",
            "  df = df[df.index.isin(dates_dt)]\n",
            "/Users/mirco/Documents/Tesi/code/models/DGDNN/Data/geometric_dataset_gen.py:133: FutureWarning: The behavior of 'isin' with dtype=datetime64[ns] and castable values (e.g. strings) is deprecated. In a future version, these will not be considered matching by isin. Explicitly cast to the appropriate dtype before calling isin instead.\n",
            "  df = df[df.index.isin(dates_dt)]\n",
            "/Users/mirco/Documents/Tesi/code/models/DGDNN/Data/geometric_dataset_gen.py:133: FutureWarning: The behavior of 'isin' with dtype=datetime64[ns] and castable values (e.g. strings) is deprecated. In a future version, these will not be considered matching by isin. Explicitly cast to the appropriate dtype before calling isin instead.\n",
            "  df = df[df.index.isin(dates_dt)]\n",
            " 90%|█████████ | 375/416 [05:03<00:33,  1.22it/s]"
          ]
        },
        {
          "name": "stdout",
          "output_type": "stream",
          "text": [
            "Generating graph 375/416...\n"
          ]
        },
        {
          "name": "stderr",
          "output_type": "stream",
          "text": [
            "/Users/mirco/Documents/Tesi/code/models/DGDNN/Data/geometric_dataset_gen.py:133: FutureWarning: The behavior of 'isin' with dtype=datetime64[ns] and castable values (e.g. strings) is deprecated. In a future version, these will not be considered matching by isin. Explicitly cast to the appropriate dtype before calling isin instead.\n",
            "  df = df[df.index.isin(dates_dt)]\n",
            "/Users/mirco/Documents/Tesi/code/models/DGDNN/Data/geometric_dataset_gen.py:133: FutureWarning: The behavior of 'isin' with dtype=datetime64[ns] and castable values (e.g. strings) is deprecated. In a future version, these will not be considered matching by isin. Explicitly cast to the appropriate dtype before calling isin instead.\n",
            "  df = df[df.index.isin(dates_dt)]\n",
            "/Users/mirco/Documents/Tesi/code/models/DGDNN/Data/geometric_dataset_gen.py:133: FutureWarning: The behavior of 'isin' with dtype=datetime64[ns] and castable values (e.g. strings) is deprecated. In a future version, these will not be considered matching by isin. Explicitly cast to the appropriate dtype before calling isin instead.\n",
            "  df = df[df.index.isin(dates_dt)]\n",
            "/Users/mirco/Documents/Tesi/code/models/DGDNN/Data/geometric_dataset_gen.py:133: FutureWarning: The behavior of 'isin' with dtype=datetime64[ns] and castable values (e.g. strings) is deprecated. In a future version, these will not be considered matching by isin. Explicitly cast to the appropriate dtype before calling isin instead.\n",
            "  df = df[df.index.isin(dates_dt)]\n",
            " 90%|█████████ | 376/416 [05:04<00:33,  1.20it/s]"
          ]
        },
        {
          "name": "stdout",
          "output_type": "stream",
          "text": [
            "Generating graph 376/416...\n"
          ]
        },
        {
          "name": "stderr",
          "output_type": "stream",
          "text": [
            "/Users/mirco/Documents/Tesi/code/models/DGDNN/Data/geometric_dataset_gen.py:133: FutureWarning: The behavior of 'isin' with dtype=datetime64[ns] and castable values (e.g. strings) is deprecated. In a future version, these will not be considered matching by isin. Explicitly cast to the appropriate dtype before calling isin instead.\n",
            "  df = df[df.index.isin(dates_dt)]\n",
            "/Users/mirco/Documents/Tesi/code/models/DGDNN/Data/geometric_dataset_gen.py:133: FutureWarning: The behavior of 'isin' with dtype=datetime64[ns] and castable values (e.g. strings) is deprecated. In a future version, these will not be considered matching by isin. Explicitly cast to the appropriate dtype before calling isin instead.\n",
            "  df = df[df.index.isin(dates_dt)]\n",
            "/Users/mirco/Documents/Tesi/code/models/DGDNN/Data/geometric_dataset_gen.py:133: FutureWarning: The behavior of 'isin' with dtype=datetime64[ns] and castable values (e.g. strings) is deprecated. In a future version, these will not be considered matching by isin. Explicitly cast to the appropriate dtype before calling isin instead.\n",
            "  df = df[df.index.isin(dates_dt)]\n",
            "/Users/mirco/Documents/Tesi/code/models/DGDNN/Data/geometric_dataset_gen.py:133: FutureWarning: The behavior of 'isin' with dtype=datetime64[ns] and castable values (e.g. strings) is deprecated. In a future version, these will not be considered matching by isin. Explicitly cast to the appropriate dtype before calling isin instead.\n",
            "  df = df[df.index.isin(dates_dt)]\n",
            " 91%|█████████ | 377/416 [05:04<00:31,  1.24it/s]"
          ]
        },
        {
          "name": "stdout",
          "output_type": "stream",
          "text": [
            "Generating graph 377/416...\n"
          ]
        },
        {
          "name": "stderr",
          "output_type": "stream",
          "text": [
            "/Users/mirco/Documents/Tesi/code/models/DGDNN/Data/geometric_dataset_gen.py:133: FutureWarning: The behavior of 'isin' with dtype=datetime64[ns] and castable values (e.g. strings) is deprecated. In a future version, these will not be considered matching by isin. Explicitly cast to the appropriate dtype before calling isin instead.\n",
            "  df = df[df.index.isin(dates_dt)]\n",
            "/Users/mirco/Documents/Tesi/code/models/DGDNN/Data/geometric_dataset_gen.py:133: FutureWarning: The behavior of 'isin' with dtype=datetime64[ns] and castable values (e.g. strings) is deprecated. In a future version, these will not be considered matching by isin. Explicitly cast to the appropriate dtype before calling isin instead.\n",
            "  df = df[df.index.isin(dates_dt)]\n",
            "/Users/mirco/Documents/Tesi/code/models/DGDNN/Data/geometric_dataset_gen.py:133: FutureWarning: The behavior of 'isin' with dtype=datetime64[ns] and castable values (e.g. strings) is deprecated. In a future version, these will not be considered matching by isin. Explicitly cast to the appropriate dtype before calling isin instead.\n",
            "  df = df[df.index.isin(dates_dt)]\n",
            "/Users/mirco/Documents/Tesi/code/models/DGDNN/Data/geometric_dataset_gen.py:133: FutureWarning: The behavior of 'isin' with dtype=datetime64[ns] and castable values (e.g. strings) is deprecated. In a future version, these will not be considered matching by isin. Explicitly cast to the appropriate dtype before calling isin instead.\n",
            "  df = df[df.index.isin(dates_dt)]\n",
            " 91%|█████████ | 378/416 [05:05<00:31,  1.22it/s]"
          ]
        },
        {
          "name": "stdout",
          "output_type": "stream",
          "text": [
            "Generating graph 378/416...\n"
          ]
        },
        {
          "name": "stderr",
          "output_type": "stream",
          "text": [
            "/Users/mirco/Documents/Tesi/code/models/DGDNN/Data/geometric_dataset_gen.py:133: FutureWarning: The behavior of 'isin' with dtype=datetime64[ns] and castable values (e.g. strings) is deprecated. In a future version, these will not be considered matching by isin. Explicitly cast to the appropriate dtype before calling isin instead.\n",
            "  df = df[df.index.isin(dates_dt)]\n",
            "/Users/mirco/Documents/Tesi/code/models/DGDNN/Data/geometric_dataset_gen.py:133: FutureWarning: The behavior of 'isin' with dtype=datetime64[ns] and castable values (e.g. strings) is deprecated. In a future version, these will not be considered matching by isin. Explicitly cast to the appropriate dtype before calling isin instead.\n",
            "  df = df[df.index.isin(dates_dt)]\n",
            "/Users/mirco/Documents/Tesi/code/models/DGDNN/Data/geometric_dataset_gen.py:133: FutureWarning: The behavior of 'isin' with dtype=datetime64[ns] and castable values (e.g. strings) is deprecated. In a future version, these will not be considered matching by isin. Explicitly cast to the appropriate dtype before calling isin instead.\n",
            "  df = df[df.index.isin(dates_dt)]\n",
            "/Users/mirco/Documents/Tesi/code/models/DGDNN/Data/geometric_dataset_gen.py:133: FutureWarning: The behavior of 'isin' with dtype=datetime64[ns] and castable values (e.g. strings) is deprecated. In a future version, these will not be considered matching by isin. Explicitly cast to the appropriate dtype before calling isin instead.\n",
            "  df = df[df.index.isin(dates_dt)]\n",
            " 91%|█████████ | 379/416 [05:06<00:29,  1.27it/s]"
          ]
        },
        {
          "name": "stdout",
          "output_type": "stream",
          "text": [
            "Generating graph 379/416...\n"
          ]
        },
        {
          "name": "stderr",
          "output_type": "stream",
          "text": [
            "/Users/mirco/Documents/Tesi/code/models/DGDNN/Data/geometric_dataset_gen.py:133: FutureWarning: The behavior of 'isin' with dtype=datetime64[ns] and castable values (e.g. strings) is deprecated. In a future version, these will not be considered matching by isin. Explicitly cast to the appropriate dtype before calling isin instead.\n",
            "  df = df[df.index.isin(dates_dt)]\n",
            "/Users/mirco/Documents/Tesi/code/models/DGDNN/Data/geometric_dataset_gen.py:133: FutureWarning: The behavior of 'isin' with dtype=datetime64[ns] and castable values (e.g. strings) is deprecated. In a future version, these will not be considered matching by isin. Explicitly cast to the appropriate dtype before calling isin instead.\n",
            "  df = df[df.index.isin(dates_dt)]\n",
            "/Users/mirco/Documents/Tesi/code/models/DGDNN/Data/geometric_dataset_gen.py:133: FutureWarning: The behavior of 'isin' with dtype=datetime64[ns] and castable values (e.g. strings) is deprecated. In a future version, these will not be considered matching by isin. Explicitly cast to the appropriate dtype before calling isin instead.\n",
            "  df = df[df.index.isin(dates_dt)]\n",
            "/Users/mirco/Documents/Tesi/code/models/DGDNN/Data/geometric_dataset_gen.py:133: FutureWarning: The behavior of 'isin' with dtype=datetime64[ns] and castable values (e.g. strings) is deprecated. In a future version, these will not be considered matching by isin. Explicitly cast to the appropriate dtype before calling isin instead.\n",
            "  df = df[df.index.isin(dates_dt)]\n",
            " 91%|█████████▏| 380/416 [05:07<00:28,  1.24it/s]"
          ]
        },
        {
          "name": "stdout",
          "output_type": "stream",
          "text": [
            "Generating graph 380/416...\n"
          ]
        },
        {
          "name": "stderr",
          "output_type": "stream",
          "text": [
            "/Users/mirco/Documents/Tesi/code/models/DGDNN/Data/geometric_dataset_gen.py:133: FutureWarning: The behavior of 'isin' with dtype=datetime64[ns] and castable values (e.g. strings) is deprecated. In a future version, these will not be considered matching by isin. Explicitly cast to the appropriate dtype before calling isin instead.\n",
            "  df = df[df.index.isin(dates_dt)]\n",
            "/Users/mirco/Documents/Tesi/code/models/DGDNN/Data/geometric_dataset_gen.py:133: FutureWarning: The behavior of 'isin' with dtype=datetime64[ns] and castable values (e.g. strings) is deprecated. In a future version, these will not be considered matching by isin. Explicitly cast to the appropriate dtype before calling isin instead.\n",
            "  df = df[df.index.isin(dates_dt)]\n",
            "/Users/mirco/Documents/Tesi/code/models/DGDNN/Data/geometric_dataset_gen.py:133: FutureWarning: The behavior of 'isin' with dtype=datetime64[ns] and castable values (e.g. strings) is deprecated. In a future version, these will not be considered matching by isin. Explicitly cast to the appropriate dtype before calling isin instead.\n",
            "  df = df[df.index.isin(dates_dt)]\n",
            "/Users/mirco/Documents/Tesi/code/models/DGDNN/Data/geometric_dataset_gen.py:133: FutureWarning: The behavior of 'isin' with dtype=datetime64[ns] and castable values (e.g. strings) is deprecated. In a future version, these will not be considered matching by isin. Explicitly cast to the appropriate dtype before calling isin instead.\n",
            "  df = df[df.index.isin(dates_dt)]\n",
            " 92%|█████████▏| 381/416 [05:08<00:27,  1.30it/s]"
          ]
        },
        {
          "name": "stdout",
          "output_type": "stream",
          "text": [
            "Generating graph 381/416...\n"
          ]
        },
        {
          "name": "stderr",
          "output_type": "stream",
          "text": [
            "/Users/mirco/Documents/Tesi/code/models/DGDNN/Data/geometric_dataset_gen.py:133: FutureWarning: The behavior of 'isin' with dtype=datetime64[ns] and castable values (e.g. strings) is deprecated. In a future version, these will not be considered matching by isin. Explicitly cast to the appropriate dtype before calling isin instead.\n",
            "  df = df[df.index.isin(dates_dt)]\n",
            "/Users/mirco/Documents/Tesi/code/models/DGDNN/Data/geometric_dataset_gen.py:133: FutureWarning: The behavior of 'isin' with dtype=datetime64[ns] and castable values (e.g. strings) is deprecated. In a future version, these will not be considered matching by isin. Explicitly cast to the appropriate dtype before calling isin instead.\n",
            "  df = df[df.index.isin(dates_dt)]\n",
            "/Users/mirco/Documents/Tesi/code/models/DGDNN/Data/geometric_dataset_gen.py:133: FutureWarning: The behavior of 'isin' with dtype=datetime64[ns] and castable values (e.g. strings) is deprecated. In a future version, these will not be considered matching by isin. Explicitly cast to the appropriate dtype before calling isin instead.\n",
            "  df = df[df.index.isin(dates_dt)]\n",
            "/Users/mirco/Documents/Tesi/code/models/DGDNN/Data/geometric_dataset_gen.py:133: FutureWarning: The behavior of 'isin' with dtype=datetime64[ns] and castable values (e.g. strings) is deprecated. In a future version, these will not be considered matching by isin. Explicitly cast to the appropriate dtype before calling isin instead.\n",
            "  df = df[df.index.isin(dates_dt)]\n",
            " 92%|█████████▏| 382/416 [05:08<00:26,  1.27it/s]"
          ]
        },
        {
          "name": "stdout",
          "output_type": "stream",
          "text": [
            "Generating graph 382/416...\n"
          ]
        },
        {
          "name": "stderr",
          "output_type": "stream",
          "text": [
            "/Users/mirco/Documents/Tesi/code/models/DGDNN/Data/geometric_dataset_gen.py:133: FutureWarning: The behavior of 'isin' with dtype=datetime64[ns] and castable values (e.g. strings) is deprecated. In a future version, these will not be considered matching by isin. Explicitly cast to the appropriate dtype before calling isin instead.\n",
            "  df = df[df.index.isin(dates_dt)]\n",
            "/Users/mirco/Documents/Tesi/code/models/DGDNN/Data/geometric_dataset_gen.py:133: FutureWarning: The behavior of 'isin' with dtype=datetime64[ns] and castable values (e.g. strings) is deprecated. In a future version, these will not be considered matching by isin. Explicitly cast to the appropriate dtype before calling isin instead.\n",
            "  df = df[df.index.isin(dates_dt)]\n",
            "/Users/mirco/Documents/Tesi/code/models/DGDNN/Data/geometric_dataset_gen.py:133: FutureWarning: The behavior of 'isin' with dtype=datetime64[ns] and castable values (e.g. strings) is deprecated. In a future version, these will not be considered matching by isin. Explicitly cast to the appropriate dtype before calling isin instead.\n",
            "  df = df[df.index.isin(dates_dt)]\n",
            "/Users/mirco/Documents/Tesi/code/models/DGDNN/Data/geometric_dataset_gen.py:133: FutureWarning: The behavior of 'isin' with dtype=datetime64[ns] and castable values (e.g. strings) is deprecated. In a future version, these will not be considered matching by isin. Explicitly cast to the appropriate dtype before calling isin instead.\n",
            "  df = df[df.index.isin(dates_dt)]\n",
            " 92%|█████████▏| 383/416 [05:09<00:25,  1.31it/s]"
          ]
        },
        {
          "name": "stdout",
          "output_type": "stream",
          "text": [
            "Generating graph 383/416...\n"
          ]
        },
        {
          "name": "stderr",
          "output_type": "stream",
          "text": [
            "/Users/mirco/Documents/Tesi/code/models/DGDNN/Data/geometric_dataset_gen.py:133: FutureWarning: The behavior of 'isin' with dtype=datetime64[ns] and castable values (e.g. strings) is deprecated. In a future version, these will not be considered matching by isin. Explicitly cast to the appropriate dtype before calling isin instead.\n",
            "  df = df[df.index.isin(dates_dt)]\n",
            "/Users/mirco/Documents/Tesi/code/models/DGDNN/Data/geometric_dataset_gen.py:133: FutureWarning: The behavior of 'isin' with dtype=datetime64[ns] and castable values (e.g. strings) is deprecated. In a future version, these will not be considered matching by isin. Explicitly cast to the appropriate dtype before calling isin instead.\n",
            "  df = df[df.index.isin(dates_dt)]\n",
            "/Users/mirco/Documents/Tesi/code/models/DGDNN/Data/geometric_dataset_gen.py:133: FutureWarning: The behavior of 'isin' with dtype=datetime64[ns] and castable values (e.g. strings) is deprecated. In a future version, these will not be considered matching by isin. Explicitly cast to the appropriate dtype before calling isin instead.\n",
            "  df = df[df.index.isin(dates_dt)]\n",
            "/Users/mirco/Documents/Tesi/code/models/DGDNN/Data/geometric_dataset_gen.py:133: FutureWarning: The behavior of 'isin' with dtype=datetime64[ns] and castable values (e.g. strings) is deprecated. In a future version, these will not be considered matching by isin. Explicitly cast to the appropriate dtype before calling isin instead.\n",
            "  df = df[df.index.isin(dates_dt)]\n",
            " 92%|█████████▏| 384/416 [05:10<00:23,  1.34it/s]"
          ]
        },
        {
          "name": "stdout",
          "output_type": "stream",
          "text": [
            "Generating graph 384/416...\n"
          ]
        },
        {
          "name": "stderr",
          "output_type": "stream",
          "text": [
            "/Users/mirco/Documents/Tesi/code/models/DGDNN/Data/geometric_dataset_gen.py:133: FutureWarning: The behavior of 'isin' with dtype=datetime64[ns] and castable values (e.g. strings) is deprecated. In a future version, these will not be considered matching by isin. Explicitly cast to the appropriate dtype before calling isin instead.\n",
            "  df = df[df.index.isin(dates_dt)]\n",
            "/Users/mirco/Documents/Tesi/code/models/DGDNN/Data/geometric_dataset_gen.py:133: FutureWarning: The behavior of 'isin' with dtype=datetime64[ns] and castable values (e.g. strings) is deprecated. In a future version, these will not be considered matching by isin. Explicitly cast to the appropriate dtype before calling isin instead.\n",
            "  df = df[df.index.isin(dates_dt)]\n",
            "/Users/mirco/Documents/Tesi/code/models/DGDNN/Data/geometric_dataset_gen.py:133: FutureWarning: The behavior of 'isin' with dtype=datetime64[ns] and castable values (e.g. strings) is deprecated. In a future version, these will not be considered matching by isin. Explicitly cast to the appropriate dtype before calling isin instead.\n",
            "  df = df[df.index.isin(dates_dt)]\n",
            "/Users/mirco/Documents/Tesi/code/models/DGDNN/Data/geometric_dataset_gen.py:133: FutureWarning: The behavior of 'isin' with dtype=datetime64[ns] and castable values (e.g. strings) is deprecated. In a future version, these will not be considered matching by isin. Explicitly cast to the appropriate dtype before calling isin instead.\n",
            "  df = df[df.index.isin(dates_dt)]\n",
            " 93%|█████████▎| 385/416 [05:10<00:22,  1.37it/s]"
          ]
        },
        {
          "name": "stdout",
          "output_type": "stream",
          "text": [
            "Generating graph 385/416...\n"
          ]
        },
        {
          "name": "stderr",
          "output_type": "stream",
          "text": [
            "/Users/mirco/Documents/Tesi/code/models/DGDNN/Data/geometric_dataset_gen.py:133: FutureWarning: The behavior of 'isin' with dtype=datetime64[ns] and castable values (e.g. strings) is deprecated. In a future version, these will not be considered matching by isin. Explicitly cast to the appropriate dtype before calling isin instead.\n",
            "  df = df[df.index.isin(dates_dt)]\n",
            "/Users/mirco/Documents/Tesi/code/models/DGDNN/Data/geometric_dataset_gen.py:133: FutureWarning: The behavior of 'isin' with dtype=datetime64[ns] and castable values (e.g. strings) is deprecated. In a future version, these will not be considered matching by isin. Explicitly cast to the appropriate dtype before calling isin instead.\n",
            "  df = df[df.index.isin(dates_dt)]\n",
            "/Users/mirco/Documents/Tesi/code/models/DGDNN/Data/geometric_dataset_gen.py:133: FutureWarning: The behavior of 'isin' with dtype=datetime64[ns] and castable values (e.g. strings) is deprecated. In a future version, these will not be considered matching by isin. Explicitly cast to the appropriate dtype before calling isin instead.\n",
            "  df = df[df.index.isin(dates_dt)]\n",
            "/Users/mirco/Documents/Tesi/code/models/DGDNN/Data/geometric_dataset_gen.py:133: FutureWarning: The behavior of 'isin' with dtype=datetime64[ns] and castable values (e.g. strings) is deprecated. In a future version, these will not be considered matching by isin. Explicitly cast to the appropriate dtype before calling isin instead.\n",
            "  df = df[df.index.isin(dates_dt)]\n",
            " 93%|█████████▎| 386/416 [05:11<00:22,  1.32it/s]"
          ]
        },
        {
          "name": "stdout",
          "output_type": "stream",
          "text": [
            "Generating graph 386/416...\n"
          ]
        },
        {
          "name": "stderr",
          "output_type": "stream",
          "text": [
            "/Users/mirco/Documents/Tesi/code/models/DGDNN/Data/geometric_dataset_gen.py:133: FutureWarning: The behavior of 'isin' with dtype=datetime64[ns] and castable values (e.g. strings) is deprecated. In a future version, these will not be considered matching by isin. Explicitly cast to the appropriate dtype before calling isin instead.\n",
            "  df = df[df.index.isin(dates_dt)]\n",
            "/Users/mirco/Documents/Tesi/code/models/DGDNN/Data/geometric_dataset_gen.py:133: FutureWarning: The behavior of 'isin' with dtype=datetime64[ns] and castable values (e.g. strings) is deprecated. In a future version, these will not be considered matching by isin. Explicitly cast to the appropriate dtype before calling isin instead.\n",
            "  df = df[df.index.isin(dates_dt)]\n",
            "/Users/mirco/Documents/Tesi/code/models/DGDNN/Data/geometric_dataset_gen.py:133: FutureWarning: The behavior of 'isin' with dtype=datetime64[ns] and castable values (e.g. strings) is deprecated. In a future version, these will not be considered matching by isin. Explicitly cast to the appropriate dtype before calling isin instead.\n",
            "  df = df[df.index.isin(dates_dt)]\n",
            "/Users/mirco/Documents/Tesi/code/models/DGDNN/Data/geometric_dataset_gen.py:133: FutureWarning: The behavior of 'isin' with dtype=datetime64[ns] and castable values (e.g. strings) is deprecated. In a future version, these will not be considered matching by isin. Explicitly cast to the appropriate dtype before calling isin instead.\n",
            "  df = df[df.index.isin(dates_dt)]\n",
            " 93%|█████████▎| 387/416 [05:12<00:21,  1.34it/s]"
          ]
        },
        {
          "name": "stdout",
          "output_type": "stream",
          "text": [
            "Generating graph 387/416...\n"
          ]
        },
        {
          "name": "stderr",
          "output_type": "stream",
          "text": [
            "/Users/mirco/Documents/Tesi/code/models/DGDNN/Data/geometric_dataset_gen.py:133: FutureWarning: The behavior of 'isin' with dtype=datetime64[ns] and castable values (e.g. strings) is deprecated. In a future version, these will not be considered matching by isin. Explicitly cast to the appropriate dtype before calling isin instead.\n",
            "  df = df[df.index.isin(dates_dt)]\n",
            "/Users/mirco/Documents/Tesi/code/models/DGDNN/Data/geometric_dataset_gen.py:133: FutureWarning: The behavior of 'isin' with dtype=datetime64[ns] and castable values (e.g. strings) is deprecated. In a future version, these will not be considered matching by isin. Explicitly cast to the appropriate dtype before calling isin instead.\n",
            "  df = df[df.index.isin(dates_dt)]\n",
            "/Users/mirco/Documents/Tesi/code/models/DGDNN/Data/geometric_dataset_gen.py:133: FutureWarning: The behavior of 'isin' with dtype=datetime64[ns] and castable values (e.g. strings) is deprecated. In a future version, these will not be considered matching by isin. Explicitly cast to the appropriate dtype before calling isin instead.\n",
            "  df = df[df.index.isin(dates_dt)]\n",
            "/Users/mirco/Documents/Tesi/code/models/DGDNN/Data/geometric_dataset_gen.py:133: FutureWarning: The behavior of 'isin' with dtype=datetime64[ns] and castable values (e.g. strings) is deprecated. In a future version, these will not be considered matching by isin. Explicitly cast to the appropriate dtype before calling isin instead.\n",
            "  df = df[df.index.isin(dates_dt)]\n",
            " 93%|█████████▎| 388/416 [05:13<00:20,  1.35it/s]"
          ]
        },
        {
          "name": "stdout",
          "output_type": "stream",
          "text": [
            "Generating graph 388/416...\n"
          ]
        },
        {
          "name": "stderr",
          "output_type": "stream",
          "text": [
            "/Users/mirco/Documents/Tesi/code/models/DGDNN/Data/geometric_dataset_gen.py:133: FutureWarning: The behavior of 'isin' with dtype=datetime64[ns] and castable values (e.g. strings) is deprecated. In a future version, these will not be considered matching by isin. Explicitly cast to the appropriate dtype before calling isin instead.\n",
            "  df = df[df.index.isin(dates_dt)]\n",
            "/Users/mirco/Documents/Tesi/code/models/DGDNN/Data/geometric_dataset_gen.py:133: FutureWarning: The behavior of 'isin' with dtype=datetime64[ns] and castable values (e.g. strings) is deprecated. In a future version, these will not be considered matching by isin. Explicitly cast to the appropriate dtype before calling isin instead.\n",
            "  df = df[df.index.isin(dates_dt)]\n",
            "/Users/mirco/Documents/Tesi/code/models/DGDNN/Data/geometric_dataset_gen.py:133: FutureWarning: The behavior of 'isin' with dtype=datetime64[ns] and castable values (e.g. strings) is deprecated. In a future version, these will not be considered matching by isin. Explicitly cast to the appropriate dtype before calling isin instead.\n",
            "  df = df[df.index.isin(dates_dt)]\n",
            "/Users/mirco/Documents/Tesi/code/models/DGDNN/Data/geometric_dataset_gen.py:133: FutureWarning: The behavior of 'isin' with dtype=datetime64[ns] and castable values (e.g. strings) is deprecated. In a future version, these will not be considered matching by isin. Explicitly cast to the appropriate dtype before calling isin instead.\n",
            "  df = df[df.index.isin(dates_dt)]\n",
            " 94%|█████████▎| 389/416 [05:14<00:23,  1.17it/s]"
          ]
        },
        {
          "name": "stdout",
          "output_type": "stream",
          "text": [
            "Generating graph 389/416...\n"
          ]
        },
        {
          "name": "stderr",
          "output_type": "stream",
          "text": [
            "/Users/mirco/Documents/Tesi/code/models/DGDNN/Data/geometric_dataset_gen.py:133: FutureWarning: The behavior of 'isin' with dtype=datetime64[ns] and castable values (e.g. strings) is deprecated. In a future version, these will not be considered matching by isin. Explicitly cast to the appropriate dtype before calling isin instead.\n",
            "  df = df[df.index.isin(dates_dt)]\n",
            "/Users/mirco/Documents/Tesi/code/models/DGDNN/Data/geometric_dataset_gen.py:133: FutureWarning: The behavior of 'isin' with dtype=datetime64[ns] and castable values (e.g. strings) is deprecated. In a future version, these will not be considered matching by isin. Explicitly cast to the appropriate dtype before calling isin instead.\n",
            "  df = df[df.index.isin(dates_dt)]\n",
            "/Users/mirco/Documents/Tesi/code/models/DGDNN/Data/geometric_dataset_gen.py:133: FutureWarning: The behavior of 'isin' with dtype=datetime64[ns] and castable values (e.g. strings) is deprecated. In a future version, these will not be considered matching by isin. Explicitly cast to the appropriate dtype before calling isin instead.\n",
            "  df = df[df.index.isin(dates_dt)]\n",
            "/Users/mirco/Documents/Tesi/code/models/DGDNN/Data/geometric_dataset_gen.py:133: FutureWarning: The behavior of 'isin' with dtype=datetime64[ns] and castable values (e.g. strings) is deprecated. In a future version, these will not be considered matching by isin. Explicitly cast to the appropriate dtype before calling isin instead.\n",
            "  df = df[df.index.isin(dates_dt)]\n",
            " 94%|█████████▍| 390/416 [05:15<00:22,  1.15it/s]"
          ]
        },
        {
          "name": "stdout",
          "output_type": "stream",
          "text": [
            "Generating graph 390/416...\n"
          ]
        },
        {
          "name": "stderr",
          "output_type": "stream",
          "text": [
            "/Users/mirco/Documents/Tesi/code/models/DGDNN/Data/geometric_dataset_gen.py:133: FutureWarning: The behavior of 'isin' with dtype=datetime64[ns] and castable values (e.g. strings) is deprecated. In a future version, these will not be considered matching by isin. Explicitly cast to the appropriate dtype before calling isin instead.\n",
            "  df = df[df.index.isin(dates_dt)]\n",
            "/Users/mirco/Documents/Tesi/code/models/DGDNN/Data/geometric_dataset_gen.py:133: FutureWarning: The behavior of 'isin' with dtype=datetime64[ns] and castable values (e.g. strings) is deprecated. In a future version, these will not be considered matching by isin. Explicitly cast to the appropriate dtype before calling isin instead.\n",
            "  df = df[df.index.isin(dates_dt)]\n",
            "/Users/mirco/Documents/Tesi/code/models/DGDNN/Data/geometric_dataset_gen.py:133: FutureWarning: The behavior of 'isin' with dtype=datetime64[ns] and castable values (e.g. strings) is deprecated. In a future version, these will not be considered matching by isin. Explicitly cast to the appropriate dtype before calling isin instead.\n",
            "  df = df[df.index.isin(dates_dt)]\n",
            "/Users/mirco/Documents/Tesi/code/models/DGDNN/Data/geometric_dataset_gen.py:133: FutureWarning: The behavior of 'isin' with dtype=datetime64[ns] and castable values (e.g. strings) is deprecated. In a future version, these will not be considered matching by isin. Explicitly cast to the appropriate dtype before calling isin instead.\n",
            "  df = df[df.index.isin(dates_dt)]\n",
            " 94%|█████████▍| 391/416 [05:16<00:21,  1.17it/s]"
          ]
        },
        {
          "name": "stdout",
          "output_type": "stream",
          "text": [
            "Generating graph 391/416...\n"
          ]
        },
        {
          "name": "stderr",
          "output_type": "stream",
          "text": [
            "/Users/mirco/Documents/Tesi/code/models/DGDNN/Data/geometric_dataset_gen.py:133: FutureWarning: The behavior of 'isin' with dtype=datetime64[ns] and castable values (e.g. strings) is deprecated. In a future version, these will not be considered matching by isin. Explicitly cast to the appropriate dtype before calling isin instead.\n",
            "  df = df[df.index.isin(dates_dt)]\n",
            "/Users/mirco/Documents/Tesi/code/models/DGDNN/Data/geometric_dataset_gen.py:133: FutureWarning: The behavior of 'isin' with dtype=datetime64[ns] and castable values (e.g. strings) is deprecated. In a future version, these will not be considered matching by isin. Explicitly cast to the appropriate dtype before calling isin instead.\n",
            "  df = df[df.index.isin(dates_dt)]\n",
            "/Users/mirco/Documents/Tesi/code/models/DGDNN/Data/geometric_dataset_gen.py:133: FutureWarning: The behavior of 'isin' with dtype=datetime64[ns] and castable values (e.g. strings) is deprecated. In a future version, these will not be considered matching by isin. Explicitly cast to the appropriate dtype before calling isin instead.\n",
            "  df = df[df.index.isin(dates_dt)]\n",
            "/Users/mirco/Documents/Tesi/code/models/DGDNN/Data/geometric_dataset_gen.py:133: FutureWarning: The behavior of 'isin' with dtype=datetime64[ns] and castable values (e.g. strings) is deprecated. In a future version, these will not be considered matching by isin. Explicitly cast to the appropriate dtype before calling isin instead.\n",
            "  df = df[df.index.isin(dates_dt)]\n",
            " 94%|█████████▍| 392/416 [05:16<00:19,  1.23it/s]"
          ]
        },
        {
          "name": "stdout",
          "output_type": "stream",
          "text": [
            "Generating graph 392/416...\n"
          ]
        },
        {
          "name": "stderr",
          "output_type": "stream",
          "text": [
            "/Users/mirco/Documents/Tesi/code/models/DGDNN/Data/geometric_dataset_gen.py:133: FutureWarning: The behavior of 'isin' with dtype=datetime64[ns] and castable values (e.g. strings) is deprecated. In a future version, these will not be considered matching by isin. Explicitly cast to the appropriate dtype before calling isin instead.\n",
            "  df = df[df.index.isin(dates_dt)]\n",
            "/Users/mirco/Documents/Tesi/code/models/DGDNN/Data/geometric_dataset_gen.py:133: FutureWarning: The behavior of 'isin' with dtype=datetime64[ns] and castable values (e.g. strings) is deprecated. In a future version, these will not be considered matching by isin. Explicitly cast to the appropriate dtype before calling isin instead.\n",
            "  df = df[df.index.isin(dates_dt)]\n",
            "/Users/mirco/Documents/Tesi/code/models/DGDNN/Data/geometric_dataset_gen.py:133: FutureWarning: The behavior of 'isin' with dtype=datetime64[ns] and castable values (e.g. strings) is deprecated. In a future version, these will not be considered matching by isin. Explicitly cast to the appropriate dtype before calling isin instead.\n",
            "  df = df[df.index.isin(dates_dt)]\n",
            "/Users/mirco/Documents/Tesi/code/models/DGDNN/Data/geometric_dataset_gen.py:133: FutureWarning: The behavior of 'isin' with dtype=datetime64[ns] and castable values (e.g. strings) is deprecated. In a future version, these will not be considered matching by isin. Explicitly cast to the appropriate dtype before calling isin instead.\n",
            "  df = df[df.index.isin(dates_dt)]\n",
            " 94%|█████████▍| 393/416 [05:17<00:20,  1.14it/s]"
          ]
        },
        {
          "name": "stdout",
          "output_type": "stream",
          "text": [
            "Generating graph 393/416...\n"
          ]
        },
        {
          "name": "stderr",
          "output_type": "stream",
          "text": [
            "/Users/mirco/Documents/Tesi/code/models/DGDNN/Data/geometric_dataset_gen.py:133: FutureWarning: The behavior of 'isin' with dtype=datetime64[ns] and castable values (e.g. strings) is deprecated. In a future version, these will not be considered matching by isin. Explicitly cast to the appropriate dtype before calling isin instead.\n",
            "  df = df[df.index.isin(dates_dt)]\n",
            "/Users/mirco/Documents/Tesi/code/models/DGDNN/Data/geometric_dataset_gen.py:133: FutureWarning: The behavior of 'isin' with dtype=datetime64[ns] and castable values (e.g. strings) is deprecated. In a future version, these will not be considered matching by isin. Explicitly cast to the appropriate dtype before calling isin instead.\n",
            "  df = df[df.index.isin(dates_dt)]\n",
            "/Users/mirco/Documents/Tesi/code/models/DGDNN/Data/geometric_dataset_gen.py:133: FutureWarning: The behavior of 'isin' with dtype=datetime64[ns] and castable values (e.g. strings) is deprecated. In a future version, these will not be considered matching by isin. Explicitly cast to the appropriate dtype before calling isin instead.\n",
            "  df = df[df.index.isin(dates_dt)]\n",
            "/Users/mirco/Documents/Tesi/code/models/DGDNN/Data/geometric_dataset_gen.py:133: FutureWarning: The behavior of 'isin' with dtype=datetime64[ns] and castable values (e.g. strings) is deprecated. In a future version, these will not be considered matching by isin. Explicitly cast to the appropriate dtype before calling isin instead.\n",
            "  df = df[df.index.isin(dates_dt)]\n",
            " 95%|█████████▍| 394/416 [05:18<00:18,  1.19it/s]"
          ]
        },
        {
          "name": "stdout",
          "output_type": "stream",
          "text": [
            "Generating graph 394/416...\n"
          ]
        },
        {
          "name": "stderr",
          "output_type": "stream",
          "text": [
            "/Users/mirco/Documents/Tesi/code/models/DGDNN/Data/geometric_dataset_gen.py:133: FutureWarning: The behavior of 'isin' with dtype=datetime64[ns] and castable values (e.g. strings) is deprecated. In a future version, these will not be considered matching by isin. Explicitly cast to the appropriate dtype before calling isin instead.\n",
            "  df = df[df.index.isin(dates_dt)]\n",
            "/Users/mirco/Documents/Tesi/code/models/DGDNN/Data/geometric_dataset_gen.py:133: FutureWarning: The behavior of 'isin' with dtype=datetime64[ns] and castable values (e.g. strings) is deprecated. In a future version, these will not be considered matching by isin. Explicitly cast to the appropriate dtype before calling isin instead.\n",
            "  df = df[df.index.isin(dates_dt)]\n",
            "/Users/mirco/Documents/Tesi/code/models/DGDNN/Data/geometric_dataset_gen.py:133: FutureWarning: The behavior of 'isin' with dtype=datetime64[ns] and castable values (e.g. strings) is deprecated. In a future version, these will not be considered matching by isin. Explicitly cast to the appropriate dtype before calling isin instead.\n",
            "  df = df[df.index.isin(dates_dt)]\n",
            "/Users/mirco/Documents/Tesi/code/models/DGDNN/Data/geometric_dataset_gen.py:133: FutureWarning: The behavior of 'isin' with dtype=datetime64[ns] and castable values (e.g. strings) is deprecated. In a future version, these will not be considered matching by isin. Explicitly cast to the appropriate dtype before calling isin instead.\n",
            "  df = df[df.index.isin(dates_dt)]\n",
            " 95%|█████████▍| 395/416 [05:19<00:17,  1.17it/s]"
          ]
        },
        {
          "name": "stdout",
          "output_type": "stream",
          "text": [
            "Generating graph 395/416...\n"
          ]
        },
        {
          "name": "stderr",
          "output_type": "stream",
          "text": [
            "/Users/mirco/Documents/Tesi/code/models/DGDNN/Data/geometric_dataset_gen.py:133: FutureWarning: The behavior of 'isin' with dtype=datetime64[ns] and castable values (e.g. strings) is deprecated. In a future version, these will not be considered matching by isin. Explicitly cast to the appropriate dtype before calling isin instead.\n",
            "  df = df[df.index.isin(dates_dt)]\n",
            "/Users/mirco/Documents/Tesi/code/models/DGDNN/Data/geometric_dataset_gen.py:133: FutureWarning: The behavior of 'isin' with dtype=datetime64[ns] and castable values (e.g. strings) is deprecated. In a future version, these will not be considered matching by isin. Explicitly cast to the appropriate dtype before calling isin instead.\n",
            "  df = df[df.index.isin(dates_dt)]\n",
            "/Users/mirco/Documents/Tesi/code/models/DGDNN/Data/geometric_dataset_gen.py:133: FutureWarning: The behavior of 'isin' with dtype=datetime64[ns] and castable values (e.g. strings) is deprecated. In a future version, these will not be considered matching by isin. Explicitly cast to the appropriate dtype before calling isin instead.\n",
            "  df = df[df.index.isin(dates_dt)]\n",
            "/Users/mirco/Documents/Tesi/code/models/DGDNN/Data/geometric_dataset_gen.py:133: FutureWarning: The behavior of 'isin' with dtype=datetime64[ns] and castable values (e.g. strings) is deprecated. In a future version, these will not be considered matching by isin. Explicitly cast to the appropriate dtype before calling isin instead.\n",
            "  df = df[df.index.isin(dates_dt)]\n",
            " 95%|█████████▌| 396/416 [05:20<00:16,  1.22it/s]"
          ]
        },
        {
          "name": "stdout",
          "output_type": "stream",
          "text": [
            "Generating graph 396/416...\n"
          ]
        },
        {
          "name": "stderr",
          "output_type": "stream",
          "text": [
            "/Users/mirco/Documents/Tesi/code/models/DGDNN/Data/geometric_dataset_gen.py:133: FutureWarning: The behavior of 'isin' with dtype=datetime64[ns] and castable values (e.g. strings) is deprecated. In a future version, these will not be considered matching by isin. Explicitly cast to the appropriate dtype before calling isin instead.\n",
            "  df = df[df.index.isin(dates_dt)]\n",
            "/Users/mirco/Documents/Tesi/code/models/DGDNN/Data/geometric_dataset_gen.py:133: FutureWarning: The behavior of 'isin' with dtype=datetime64[ns] and castable values (e.g. strings) is deprecated. In a future version, these will not be considered matching by isin. Explicitly cast to the appropriate dtype before calling isin instead.\n",
            "  df = df[df.index.isin(dates_dt)]\n",
            "/Users/mirco/Documents/Tesi/code/models/DGDNN/Data/geometric_dataset_gen.py:133: FutureWarning: The behavior of 'isin' with dtype=datetime64[ns] and castable values (e.g. strings) is deprecated. In a future version, these will not be considered matching by isin. Explicitly cast to the appropriate dtype before calling isin instead.\n",
            "  df = df[df.index.isin(dates_dt)]\n",
            "/Users/mirco/Documents/Tesi/code/models/DGDNN/Data/geometric_dataset_gen.py:133: FutureWarning: The behavior of 'isin' with dtype=datetime64[ns] and castable values (e.g. strings) is deprecated. In a future version, these will not be considered matching by isin. Explicitly cast to the appropriate dtype before calling isin instead.\n",
            "  df = df[df.index.isin(dates_dt)]\n",
            " 95%|█████████▌| 397/416 [05:21<00:15,  1.20it/s]"
          ]
        },
        {
          "name": "stdout",
          "output_type": "stream",
          "text": [
            "Generating graph 397/416...\n"
          ]
        },
        {
          "name": "stderr",
          "output_type": "stream",
          "text": [
            "/Users/mirco/Documents/Tesi/code/models/DGDNN/Data/geometric_dataset_gen.py:133: FutureWarning: The behavior of 'isin' with dtype=datetime64[ns] and castable values (e.g. strings) is deprecated. In a future version, these will not be considered matching by isin. Explicitly cast to the appropriate dtype before calling isin instead.\n",
            "  df = df[df.index.isin(dates_dt)]\n",
            "/Users/mirco/Documents/Tesi/code/models/DGDNN/Data/geometric_dataset_gen.py:133: FutureWarning: The behavior of 'isin' with dtype=datetime64[ns] and castable values (e.g. strings) is deprecated. In a future version, these will not be considered matching by isin. Explicitly cast to the appropriate dtype before calling isin instead.\n",
            "  df = df[df.index.isin(dates_dt)]\n",
            "/Users/mirco/Documents/Tesi/code/models/DGDNN/Data/geometric_dataset_gen.py:133: FutureWarning: The behavior of 'isin' with dtype=datetime64[ns] and castable values (e.g. strings) is deprecated. In a future version, these will not be considered matching by isin. Explicitly cast to the appropriate dtype before calling isin instead.\n",
            "  df = df[df.index.isin(dates_dt)]\n",
            "/Users/mirco/Documents/Tesi/code/models/DGDNN/Data/geometric_dataset_gen.py:133: FutureWarning: The behavior of 'isin' with dtype=datetime64[ns] and castable values (e.g. strings) is deprecated. In a future version, these will not be considered matching by isin. Explicitly cast to the appropriate dtype before calling isin instead.\n",
            "  df = df[df.index.isin(dates_dt)]\n",
            " 96%|█████████▌| 398/416 [05:21<00:14,  1.24it/s]"
          ]
        },
        {
          "name": "stdout",
          "output_type": "stream",
          "text": [
            "Generating graph 398/416...\n"
          ]
        },
        {
          "name": "stderr",
          "output_type": "stream",
          "text": [
            "/Users/mirco/Documents/Tesi/code/models/DGDNN/Data/geometric_dataset_gen.py:133: FutureWarning: The behavior of 'isin' with dtype=datetime64[ns] and castable values (e.g. strings) is deprecated. In a future version, these will not be considered matching by isin. Explicitly cast to the appropriate dtype before calling isin instead.\n",
            "  df = df[df.index.isin(dates_dt)]\n",
            "/Users/mirco/Documents/Tesi/code/models/DGDNN/Data/geometric_dataset_gen.py:133: FutureWarning: The behavior of 'isin' with dtype=datetime64[ns] and castable values (e.g. strings) is deprecated. In a future version, these will not be considered matching by isin. Explicitly cast to the appropriate dtype before calling isin instead.\n",
            "  df = df[df.index.isin(dates_dt)]\n",
            "/Users/mirco/Documents/Tesi/code/models/DGDNN/Data/geometric_dataset_gen.py:133: FutureWarning: The behavior of 'isin' with dtype=datetime64[ns] and castable values (e.g. strings) is deprecated. In a future version, these will not be considered matching by isin. Explicitly cast to the appropriate dtype before calling isin instead.\n",
            "  df = df[df.index.isin(dates_dt)]\n",
            "/Users/mirco/Documents/Tesi/code/models/DGDNN/Data/geometric_dataset_gen.py:133: FutureWarning: The behavior of 'isin' with dtype=datetime64[ns] and castable values (e.g. strings) is deprecated. In a future version, these will not be considered matching by isin. Explicitly cast to the appropriate dtype before calling isin instead.\n",
            "  df = df[df.index.isin(dates_dt)]\n",
            " 96%|█████████▌| 399/416 [05:22<00:13,  1.28it/s]"
          ]
        },
        {
          "name": "stdout",
          "output_type": "stream",
          "text": [
            "Generating graph 399/416...\n"
          ]
        },
        {
          "name": "stderr",
          "output_type": "stream",
          "text": [
            "/Users/mirco/Documents/Tesi/code/models/DGDNN/Data/geometric_dataset_gen.py:133: FutureWarning: The behavior of 'isin' with dtype=datetime64[ns] and castable values (e.g. strings) is deprecated. In a future version, these will not be considered matching by isin. Explicitly cast to the appropriate dtype before calling isin instead.\n",
            "  df = df[df.index.isin(dates_dt)]\n",
            "/Users/mirco/Documents/Tesi/code/models/DGDNN/Data/geometric_dataset_gen.py:133: FutureWarning: The behavior of 'isin' with dtype=datetime64[ns] and castable values (e.g. strings) is deprecated. In a future version, these will not be considered matching by isin. Explicitly cast to the appropriate dtype before calling isin instead.\n",
            "  df = df[df.index.isin(dates_dt)]\n",
            "/Users/mirco/Documents/Tesi/code/models/DGDNN/Data/geometric_dataset_gen.py:133: FutureWarning: The behavior of 'isin' with dtype=datetime64[ns] and castable values (e.g. strings) is deprecated. In a future version, these will not be considered matching by isin. Explicitly cast to the appropriate dtype before calling isin instead.\n",
            "  df = df[df.index.isin(dates_dt)]\n",
            "/Users/mirco/Documents/Tesi/code/models/DGDNN/Data/geometric_dataset_gen.py:133: FutureWarning: The behavior of 'isin' with dtype=datetime64[ns] and castable values (e.g. strings) is deprecated. In a future version, these will not be considered matching by isin. Explicitly cast to the appropriate dtype before calling isin instead.\n",
            "  df = df[df.index.isin(dates_dt)]\n",
            " 96%|█████████▌| 400/416 [05:23<00:12,  1.24it/s]"
          ]
        },
        {
          "name": "stdout",
          "output_type": "stream",
          "text": [
            "Generating graph 400/416...\n"
          ]
        },
        {
          "name": "stderr",
          "output_type": "stream",
          "text": [
            "/Users/mirco/Documents/Tesi/code/models/DGDNN/Data/geometric_dataset_gen.py:133: FutureWarning: The behavior of 'isin' with dtype=datetime64[ns] and castable values (e.g. strings) is deprecated. In a future version, these will not be considered matching by isin. Explicitly cast to the appropriate dtype before calling isin instead.\n",
            "  df = df[df.index.isin(dates_dt)]\n",
            "/Users/mirco/Documents/Tesi/code/models/DGDNN/Data/geometric_dataset_gen.py:133: FutureWarning: The behavior of 'isin' with dtype=datetime64[ns] and castable values (e.g. strings) is deprecated. In a future version, these will not be considered matching by isin. Explicitly cast to the appropriate dtype before calling isin instead.\n",
            "  df = df[df.index.isin(dates_dt)]\n",
            "/Users/mirco/Documents/Tesi/code/models/DGDNN/Data/geometric_dataset_gen.py:133: FutureWarning: The behavior of 'isin' with dtype=datetime64[ns] and castable values (e.g. strings) is deprecated. In a future version, these will not be considered matching by isin. Explicitly cast to the appropriate dtype before calling isin instead.\n",
            "  df = df[df.index.isin(dates_dt)]\n",
            "/Users/mirco/Documents/Tesi/code/models/DGDNN/Data/geometric_dataset_gen.py:133: FutureWarning: The behavior of 'isin' with dtype=datetime64[ns] and castable values (e.g. strings) is deprecated. In a future version, these will not be considered matching by isin. Explicitly cast to the appropriate dtype before calling isin instead.\n",
            "  df = df[df.index.isin(dates_dt)]\n",
            " 96%|█████████▋| 401/416 [05:24<00:11,  1.27it/s]"
          ]
        },
        {
          "name": "stdout",
          "output_type": "stream",
          "text": [
            "Generating graph 401/416...\n"
          ]
        },
        {
          "name": "stderr",
          "output_type": "stream",
          "text": [
            "/Users/mirco/Documents/Tesi/code/models/DGDNN/Data/geometric_dataset_gen.py:133: FutureWarning: The behavior of 'isin' with dtype=datetime64[ns] and castable values (e.g. strings) is deprecated. In a future version, these will not be considered matching by isin. Explicitly cast to the appropriate dtype before calling isin instead.\n",
            "  df = df[df.index.isin(dates_dt)]\n",
            "/Users/mirco/Documents/Tesi/code/models/DGDNN/Data/geometric_dataset_gen.py:133: FutureWarning: The behavior of 'isin' with dtype=datetime64[ns] and castable values (e.g. strings) is deprecated. In a future version, these will not be considered matching by isin. Explicitly cast to the appropriate dtype before calling isin instead.\n",
            "  df = df[df.index.isin(dates_dt)]\n",
            "/Users/mirco/Documents/Tesi/code/models/DGDNN/Data/geometric_dataset_gen.py:133: FutureWarning: The behavior of 'isin' with dtype=datetime64[ns] and castable values (e.g. strings) is deprecated. In a future version, these will not be considered matching by isin. Explicitly cast to the appropriate dtype before calling isin instead.\n",
            "  df = df[df.index.isin(dates_dt)]\n",
            "/Users/mirco/Documents/Tesi/code/models/DGDNN/Data/geometric_dataset_gen.py:133: FutureWarning: The behavior of 'isin' with dtype=datetime64[ns] and castable values (e.g. strings) is deprecated. In a future version, these will not be considered matching by isin. Explicitly cast to the appropriate dtype before calling isin instead.\n",
            "  df = df[df.index.isin(dates_dt)]\n",
            " 97%|█████████▋| 402/416 [05:24<00:10,  1.29it/s]"
          ]
        },
        {
          "name": "stdout",
          "output_type": "stream",
          "text": [
            "Generating graph 402/416...\n"
          ]
        },
        {
          "name": "stderr",
          "output_type": "stream",
          "text": [
            "/Users/mirco/Documents/Tesi/code/models/DGDNN/Data/geometric_dataset_gen.py:133: FutureWarning: The behavior of 'isin' with dtype=datetime64[ns] and castable values (e.g. strings) is deprecated. In a future version, these will not be considered matching by isin. Explicitly cast to the appropriate dtype before calling isin instead.\n",
            "  df = df[df.index.isin(dates_dt)]\n",
            "/Users/mirco/Documents/Tesi/code/models/DGDNN/Data/geometric_dataset_gen.py:133: FutureWarning: The behavior of 'isin' with dtype=datetime64[ns] and castable values (e.g. strings) is deprecated. In a future version, these will not be considered matching by isin. Explicitly cast to the appropriate dtype before calling isin instead.\n",
            "  df = df[df.index.isin(dates_dt)]\n",
            "/Users/mirco/Documents/Tesi/code/models/DGDNN/Data/geometric_dataset_gen.py:133: FutureWarning: The behavior of 'isin' with dtype=datetime64[ns] and castable values (e.g. strings) is deprecated. In a future version, these will not be considered matching by isin. Explicitly cast to the appropriate dtype before calling isin instead.\n",
            "  df = df[df.index.isin(dates_dt)]\n",
            "/Users/mirco/Documents/Tesi/code/models/DGDNN/Data/geometric_dataset_gen.py:133: FutureWarning: The behavior of 'isin' with dtype=datetime64[ns] and castable values (e.g. strings) is deprecated. In a future version, these will not be considered matching by isin. Explicitly cast to the appropriate dtype before calling isin instead.\n",
            "  df = df[df.index.isin(dates_dt)]\n",
            " 97%|█████████▋| 403/416 [05:25<00:10,  1.25it/s]"
          ]
        },
        {
          "name": "stdout",
          "output_type": "stream",
          "text": [
            "Generating graph 403/416...\n"
          ]
        },
        {
          "name": "stderr",
          "output_type": "stream",
          "text": [
            "/Users/mirco/Documents/Tesi/code/models/DGDNN/Data/geometric_dataset_gen.py:133: FutureWarning: The behavior of 'isin' with dtype=datetime64[ns] and castable values (e.g. strings) is deprecated. In a future version, these will not be considered matching by isin. Explicitly cast to the appropriate dtype before calling isin instead.\n",
            "  df = df[df.index.isin(dates_dt)]\n",
            "/Users/mirco/Documents/Tesi/code/models/DGDNN/Data/geometric_dataset_gen.py:133: FutureWarning: The behavior of 'isin' with dtype=datetime64[ns] and castable values (e.g. strings) is deprecated. In a future version, these will not be considered matching by isin. Explicitly cast to the appropriate dtype before calling isin instead.\n",
            "  df = df[df.index.isin(dates_dt)]\n",
            "/Users/mirco/Documents/Tesi/code/models/DGDNN/Data/geometric_dataset_gen.py:133: FutureWarning: The behavior of 'isin' with dtype=datetime64[ns] and castable values (e.g. strings) is deprecated. In a future version, these will not be considered matching by isin. Explicitly cast to the appropriate dtype before calling isin instead.\n",
            "  df = df[df.index.isin(dates_dt)]\n",
            "/Users/mirco/Documents/Tesi/code/models/DGDNN/Data/geometric_dataset_gen.py:133: FutureWarning: The behavior of 'isin' with dtype=datetime64[ns] and castable values (e.g. strings) is deprecated. In a future version, these will not be considered matching by isin. Explicitly cast to the appropriate dtype before calling isin instead.\n",
            "  df = df[df.index.isin(dates_dt)]\n",
            " 97%|█████████▋| 404/416 [05:26<00:09,  1.25it/s]"
          ]
        },
        {
          "name": "stdout",
          "output_type": "stream",
          "text": [
            "Generating graph 404/416...\n"
          ]
        },
        {
          "name": "stderr",
          "output_type": "stream",
          "text": [
            "/Users/mirco/Documents/Tesi/code/models/DGDNN/Data/geometric_dataset_gen.py:133: FutureWarning: The behavior of 'isin' with dtype=datetime64[ns] and castable values (e.g. strings) is deprecated. In a future version, these will not be considered matching by isin. Explicitly cast to the appropriate dtype before calling isin instead.\n",
            "  df = df[df.index.isin(dates_dt)]\n",
            "/Users/mirco/Documents/Tesi/code/models/DGDNN/Data/geometric_dataset_gen.py:133: FutureWarning: The behavior of 'isin' with dtype=datetime64[ns] and castable values (e.g. strings) is deprecated. In a future version, these will not be considered matching by isin. Explicitly cast to the appropriate dtype before calling isin instead.\n",
            "  df = df[df.index.isin(dates_dt)]\n",
            "/Users/mirco/Documents/Tesi/code/models/DGDNN/Data/geometric_dataset_gen.py:133: FutureWarning: The behavior of 'isin' with dtype=datetime64[ns] and castable values (e.g. strings) is deprecated. In a future version, these will not be considered matching by isin. Explicitly cast to the appropriate dtype before calling isin instead.\n",
            "  df = df[df.index.isin(dates_dt)]\n",
            "/Users/mirco/Documents/Tesi/code/models/DGDNN/Data/geometric_dataset_gen.py:133: FutureWarning: The behavior of 'isin' with dtype=datetime64[ns] and castable values (e.g. strings) is deprecated. In a future version, these will not be considered matching by isin. Explicitly cast to the appropriate dtype before calling isin instead.\n",
            "  df = df[df.index.isin(dates_dt)]\n",
            " 97%|█████████▋| 405/416 [05:27<00:08,  1.28it/s]"
          ]
        },
        {
          "name": "stdout",
          "output_type": "stream",
          "text": [
            "Generating graph 405/416...\n"
          ]
        },
        {
          "name": "stderr",
          "output_type": "stream",
          "text": [
            "/Users/mirco/Documents/Tesi/code/models/DGDNN/Data/geometric_dataset_gen.py:133: FutureWarning: The behavior of 'isin' with dtype=datetime64[ns] and castable values (e.g. strings) is deprecated. In a future version, these will not be considered matching by isin. Explicitly cast to the appropriate dtype before calling isin instead.\n",
            "  df = df[df.index.isin(dates_dt)]\n",
            "/Users/mirco/Documents/Tesi/code/models/DGDNN/Data/geometric_dataset_gen.py:133: FutureWarning: The behavior of 'isin' with dtype=datetime64[ns] and castable values (e.g. strings) is deprecated. In a future version, these will not be considered matching by isin. Explicitly cast to the appropriate dtype before calling isin instead.\n",
            "  df = df[df.index.isin(dates_dt)]\n",
            "/Users/mirco/Documents/Tesi/code/models/DGDNN/Data/geometric_dataset_gen.py:133: FutureWarning: The behavior of 'isin' with dtype=datetime64[ns] and castable values (e.g. strings) is deprecated. In a future version, these will not be considered matching by isin. Explicitly cast to the appropriate dtype before calling isin instead.\n",
            "  df = df[df.index.isin(dates_dt)]\n",
            "/Users/mirco/Documents/Tesi/code/models/DGDNN/Data/geometric_dataset_gen.py:133: FutureWarning: The behavior of 'isin' with dtype=datetime64[ns] and castable values (e.g. strings) is deprecated. In a future version, these will not be considered matching by isin. Explicitly cast to the appropriate dtype before calling isin instead.\n",
            "  df = df[df.index.isin(dates_dt)]\n",
            " 98%|█████████▊| 406/416 [05:28<00:07,  1.30it/s]"
          ]
        },
        {
          "name": "stdout",
          "output_type": "stream",
          "text": [
            "Generating graph 406/416...\n"
          ]
        },
        {
          "name": "stderr",
          "output_type": "stream",
          "text": [
            "/Users/mirco/Documents/Tesi/code/models/DGDNN/Data/geometric_dataset_gen.py:133: FutureWarning: The behavior of 'isin' with dtype=datetime64[ns] and castable values (e.g. strings) is deprecated. In a future version, these will not be considered matching by isin. Explicitly cast to the appropriate dtype before calling isin instead.\n",
            "  df = df[df.index.isin(dates_dt)]\n",
            "/Users/mirco/Documents/Tesi/code/models/DGDNN/Data/geometric_dataset_gen.py:133: FutureWarning: The behavior of 'isin' with dtype=datetime64[ns] and castable values (e.g. strings) is deprecated. In a future version, these will not be considered matching by isin. Explicitly cast to the appropriate dtype before calling isin instead.\n",
            "  df = df[df.index.isin(dates_dt)]\n",
            "/Users/mirco/Documents/Tesi/code/models/DGDNN/Data/geometric_dataset_gen.py:133: FutureWarning: The behavior of 'isin' with dtype=datetime64[ns] and castable values (e.g. strings) is deprecated. In a future version, these will not be considered matching by isin. Explicitly cast to the appropriate dtype before calling isin instead.\n",
            "  df = df[df.index.isin(dates_dt)]\n",
            "/Users/mirco/Documents/Tesi/code/models/DGDNN/Data/geometric_dataset_gen.py:133: FutureWarning: The behavior of 'isin' with dtype=datetime64[ns] and castable values (e.g. strings) is deprecated. In a future version, these will not be considered matching by isin. Explicitly cast to the appropriate dtype before calling isin instead.\n",
            "  df = df[df.index.isin(dates_dt)]\n",
            " 98%|█████████▊| 407/416 [05:28<00:07,  1.25it/s]"
          ]
        },
        {
          "name": "stdout",
          "output_type": "stream",
          "text": [
            "Generating graph 407/416...\n"
          ]
        },
        {
          "name": "stderr",
          "output_type": "stream",
          "text": [
            "/Users/mirco/Documents/Tesi/code/models/DGDNN/Data/geometric_dataset_gen.py:133: FutureWarning: The behavior of 'isin' with dtype=datetime64[ns] and castable values (e.g. strings) is deprecated. In a future version, these will not be considered matching by isin. Explicitly cast to the appropriate dtype before calling isin instead.\n",
            "  df = df[df.index.isin(dates_dt)]\n",
            "/Users/mirco/Documents/Tesi/code/models/DGDNN/Data/geometric_dataset_gen.py:133: FutureWarning: The behavior of 'isin' with dtype=datetime64[ns] and castable values (e.g. strings) is deprecated. In a future version, these will not be considered matching by isin. Explicitly cast to the appropriate dtype before calling isin instead.\n",
            "  df = df[df.index.isin(dates_dt)]\n",
            "/Users/mirco/Documents/Tesi/code/models/DGDNN/Data/geometric_dataset_gen.py:133: FutureWarning: The behavior of 'isin' with dtype=datetime64[ns] and castable values (e.g. strings) is deprecated. In a future version, these will not be considered matching by isin. Explicitly cast to the appropriate dtype before calling isin instead.\n",
            "  df = df[df.index.isin(dates_dt)]\n",
            "/Users/mirco/Documents/Tesi/code/models/DGDNN/Data/geometric_dataset_gen.py:133: FutureWarning: The behavior of 'isin' with dtype=datetime64[ns] and castable values (e.g. strings) is deprecated. In a future version, these will not be considered matching by isin. Explicitly cast to the appropriate dtype before calling isin instead.\n",
            "  df = df[df.index.isin(dates_dt)]\n",
            " 98%|█████████▊| 408/416 [05:29<00:06,  1.27it/s]"
          ]
        },
        {
          "name": "stdout",
          "output_type": "stream",
          "text": [
            "Generating graph 408/416...\n"
          ]
        },
        {
          "name": "stderr",
          "output_type": "stream",
          "text": [
            "/Users/mirco/Documents/Tesi/code/models/DGDNN/Data/geometric_dataset_gen.py:133: FutureWarning: The behavior of 'isin' with dtype=datetime64[ns] and castable values (e.g. strings) is deprecated. In a future version, these will not be considered matching by isin. Explicitly cast to the appropriate dtype before calling isin instead.\n",
            "  df = df[df.index.isin(dates_dt)]\n",
            "/Users/mirco/Documents/Tesi/code/models/DGDNN/Data/geometric_dataset_gen.py:133: FutureWarning: The behavior of 'isin' with dtype=datetime64[ns] and castable values (e.g. strings) is deprecated. In a future version, these will not be considered matching by isin. Explicitly cast to the appropriate dtype before calling isin instead.\n",
            "  df = df[df.index.isin(dates_dt)]\n",
            "/Users/mirco/Documents/Tesi/code/models/DGDNN/Data/geometric_dataset_gen.py:133: FutureWarning: The behavior of 'isin' with dtype=datetime64[ns] and castable values (e.g. strings) is deprecated. In a future version, these will not be considered matching by isin. Explicitly cast to the appropriate dtype before calling isin instead.\n",
            "  df = df[df.index.isin(dates_dt)]\n",
            "/Users/mirco/Documents/Tesi/code/models/DGDNN/Data/geometric_dataset_gen.py:133: FutureWarning: The behavior of 'isin' with dtype=datetime64[ns] and castable values (e.g. strings) is deprecated. In a future version, these will not be considered matching by isin. Explicitly cast to the appropriate dtype before calling isin instead.\n",
            "  df = df[df.index.isin(dates_dt)]\n",
            " 98%|█████████▊| 409/416 [05:30<00:05,  1.28it/s]"
          ]
        },
        {
          "name": "stdout",
          "output_type": "stream",
          "text": [
            "Generating graph 409/416...\n"
          ]
        },
        {
          "name": "stderr",
          "output_type": "stream",
          "text": [
            "/Users/mirco/Documents/Tesi/code/models/DGDNN/Data/geometric_dataset_gen.py:133: FutureWarning: The behavior of 'isin' with dtype=datetime64[ns] and castable values (e.g. strings) is deprecated. In a future version, these will not be considered matching by isin. Explicitly cast to the appropriate dtype before calling isin instead.\n",
            "  df = df[df.index.isin(dates_dt)]\n",
            "/Users/mirco/Documents/Tesi/code/models/DGDNN/Data/geometric_dataset_gen.py:133: FutureWarning: The behavior of 'isin' with dtype=datetime64[ns] and castable values (e.g. strings) is deprecated. In a future version, these will not be considered matching by isin. Explicitly cast to the appropriate dtype before calling isin instead.\n",
            "  df = df[df.index.isin(dates_dt)]\n",
            "/Users/mirco/Documents/Tesi/code/models/DGDNN/Data/geometric_dataset_gen.py:133: FutureWarning: The behavior of 'isin' with dtype=datetime64[ns] and castable values (e.g. strings) is deprecated. In a future version, these will not be considered matching by isin. Explicitly cast to the appropriate dtype before calling isin instead.\n",
            "  df = df[df.index.isin(dates_dt)]\n",
            "/Users/mirco/Documents/Tesi/code/models/DGDNN/Data/geometric_dataset_gen.py:133: FutureWarning: The behavior of 'isin' with dtype=datetime64[ns] and castable values (e.g. strings) is deprecated. In a future version, these will not be considered matching by isin. Explicitly cast to the appropriate dtype before calling isin instead.\n",
            "  df = df[df.index.isin(dates_dt)]\n",
            " 99%|█████████▊| 410/416 [05:31<00:04,  1.23it/s]"
          ]
        },
        {
          "name": "stdout",
          "output_type": "stream",
          "text": [
            "Generating graph 410/416...\n"
          ]
        },
        {
          "name": "stderr",
          "output_type": "stream",
          "text": [
            "/Users/mirco/Documents/Tesi/code/models/DGDNN/Data/geometric_dataset_gen.py:133: FutureWarning: The behavior of 'isin' with dtype=datetime64[ns] and castable values (e.g. strings) is deprecated. In a future version, these will not be considered matching by isin. Explicitly cast to the appropriate dtype before calling isin instead.\n",
            "  df = df[df.index.isin(dates_dt)]\n",
            "/Users/mirco/Documents/Tesi/code/models/DGDNN/Data/geometric_dataset_gen.py:133: FutureWarning: The behavior of 'isin' with dtype=datetime64[ns] and castable values (e.g. strings) is deprecated. In a future version, these will not be considered matching by isin. Explicitly cast to the appropriate dtype before calling isin instead.\n",
            "  df = df[df.index.isin(dates_dt)]\n",
            "/Users/mirco/Documents/Tesi/code/models/DGDNN/Data/geometric_dataset_gen.py:133: FutureWarning: The behavior of 'isin' with dtype=datetime64[ns] and castable values (e.g. strings) is deprecated. In a future version, these will not be considered matching by isin. Explicitly cast to the appropriate dtype before calling isin instead.\n",
            "  df = df[df.index.isin(dates_dt)]\n",
            "/Users/mirco/Documents/Tesi/code/models/DGDNN/Data/geometric_dataset_gen.py:133: FutureWarning: The behavior of 'isin' with dtype=datetime64[ns] and castable values (e.g. strings) is deprecated. In a future version, these will not be considered matching by isin. Explicitly cast to the appropriate dtype before calling isin instead.\n",
            "  df = df[df.index.isin(dates_dt)]\n",
            " 99%|█████████▉| 411/416 [05:32<00:03,  1.25it/s]"
          ]
        },
        {
          "name": "stdout",
          "output_type": "stream",
          "text": [
            "Generating graph 411/416...\n"
          ]
        },
        {
          "name": "stderr",
          "output_type": "stream",
          "text": [
            "/Users/mirco/Documents/Tesi/code/models/DGDNN/Data/geometric_dataset_gen.py:133: FutureWarning: The behavior of 'isin' with dtype=datetime64[ns] and castable values (e.g. strings) is deprecated. In a future version, these will not be considered matching by isin. Explicitly cast to the appropriate dtype before calling isin instead.\n",
            "  df = df[df.index.isin(dates_dt)]\n",
            "/Users/mirco/Documents/Tesi/code/models/DGDNN/Data/geometric_dataset_gen.py:133: FutureWarning: The behavior of 'isin' with dtype=datetime64[ns] and castable values (e.g. strings) is deprecated. In a future version, these will not be considered matching by isin. Explicitly cast to the appropriate dtype before calling isin instead.\n",
            "  df = df[df.index.isin(dates_dt)]\n",
            "/Users/mirco/Documents/Tesi/code/models/DGDNN/Data/geometric_dataset_gen.py:133: FutureWarning: The behavior of 'isin' with dtype=datetime64[ns] and castable values (e.g. strings) is deprecated. In a future version, these will not be considered matching by isin. Explicitly cast to the appropriate dtype before calling isin instead.\n",
            "  df = df[df.index.isin(dates_dt)]\n",
            "/Users/mirco/Documents/Tesi/code/models/DGDNN/Data/geometric_dataset_gen.py:133: FutureWarning: The behavior of 'isin' with dtype=datetime64[ns] and castable values (e.g. strings) is deprecated. In a future version, these will not be considered matching by isin. Explicitly cast to the appropriate dtype before calling isin instead.\n",
            "  df = df[df.index.isin(dates_dt)]\n",
            " 99%|█████████▉| 412/416 [05:32<00:03,  1.24it/s]"
          ]
        },
        {
          "name": "stdout",
          "output_type": "stream",
          "text": [
            "Generating graph 412/416...\n"
          ]
        },
        {
          "name": "stderr",
          "output_type": "stream",
          "text": [
            "/Users/mirco/Documents/Tesi/code/models/DGDNN/Data/geometric_dataset_gen.py:133: FutureWarning: The behavior of 'isin' with dtype=datetime64[ns] and castable values (e.g. strings) is deprecated. In a future version, these will not be considered matching by isin. Explicitly cast to the appropriate dtype before calling isin instead.\n",
            "  df = df[df.index.isin(dates_dt)]\n",
            "/Users/mirco/Documents/Tesi/code/models/DGDNN/Data/geometric_dataset_gen.py:133: FutureWarning: The behavior of 'isin' with dtype=datetime64[ns] and castable values (e.g. strings) is deprecated. In a future version, these will not be considered matching by isin. Explicitly cast to the appropriate dtype before calling isin instead.\n",
            "  df = df[df.index.isin(dates_dt)]\n",
            "/Users/mirco/Documents/Tesi/code/models/DGDNN/Data/geometric_dataset_gen.py:133: FutureWarning: The behavior of 'isin' with dtype=datetime64[ns] and castable values (e.g. strings) is deprecated. In a future version, these will not be considered matching by isin. Explicitly cast to the appropriate dtype before calling isin instead.\n",
            "  df = df[df.index.isin(dates_dt)]\n",
            "/Users/mirco/Documents/Tesi/code/models/DGDNN/Data/geometric_dataset_gen.py:133: FutureWarning: The behavior of 'isin' with dtype=datetime64[ns] and castable values (e.g. strings) is deprecated. In a future version, these will not be considered matching by isin. Explicitly cast to the appropriate dtype before calling isin instead.\n",
            "  df = df[df.index.isin(dates_dt)]\n",
            " 99%|█████████▉| 413/416 [05:33<00:02,  1.25it/s]"
          ]
        },
        {
          "name": "stdout",
          "output_type": "stream",
          "text": [
            "Generating graph 413/416...\n"
          ]
        },
        {
          "name": "stderr",
          "output_type": "stream",
          "text": [
            "/Users/mirco/Documents/Tesi/code/models/DGDNN/Data/geometric_dataset_gen.py:133: FutureWarning: The behavior of 'isin' with dtype=datetime64[ns] and castable values (e.g. strings) is deprecated. In a future version, these will not be considered matching by isin. Explicitly cast to the appropriate dtype before calling isin instead.\n",
            "  df = df[df.index.isin(dates_dt)]\n",
            "/Users/mirco/Documents/Tesi/code/models/DGDNN/Data/geometric_dataset_gen.py:133: FutureWarning: The behavior of 'isin' with dtype=datetime64[ns] and castable values (e.g. strings) is deprecated. In a future version, these will not be considered matching by isin. Explicitly cast to the appropriate dtype before calling isin instead.\n",
            "  df = df[df.index.isin(dates_dt)]\n",
            "/Users/mirco/Documents/Tesi/code/models/DGDNN/Data/geometric_dataset_gen.py:133: FutureWarning: The behavior of 'isin' with dtype=datetime64[ns] and castable values (e.g. strings) is deprecated. In a future version, these will not be considered matching by isin. Explicitly cast to the appropriate dtype before calling isin instead.\n",
            "  df = df[df.index.isin(dates_dt)]\n",
            "/Users/mirco/Documents/Tesi/code/models/DGDNN/Data/geometric_dataset_gen.py:133: FutureWarning: The behavior of 'isin' with dtype=datetime64[ns] and castable values (e.g. strings) is deprecated. In a future version, these will not be considered matching by isin. Explicitly cast to the appropriate dtype before calling isin instead.\n",
            "  df = df[df.index.isin(dates_dt)]\n",
            "100%|█████████▉| 414/416 [05:34<00:01,  1.20it/s]"
          ]
        },
        {
          "name": "stdout",
          "output_type": "stream",
          "text": [
            "Generating graph 414/416...\n"
          ]
        },
        {
          "name": "stderr",
          "output_type": "stream",
          "text": [
            "/Users/mirco/Documents/Tesi/code/models/DGDNN/Data/geometric_dataset_gen.py:133: FutureWarning: The behavior of 'isin' with dtype=datetime64[ns] and castable values (e.g. strings) is deprecated. In a future version, these will not be considered matching by isin. Explicitly cast to the appropriate dtype before calling isin instead.\n",
            "  df = df[df.index.isin(dates_dt)]\n",
            "/Users/mirco/Documents/Tesi/code/models/DGDNN/Data/geometric_dataset_gen.py:133: FutureWarning: The behavior of 'isin' with dtype=datetime64[ns] and castable values (e.g. strings) is deprecated. In a future version, these will not be considered matching by isin. Explicitly cast to the appropriate dtype before calling isin instead.\n",
            "  df = df[df.index.isin(dates_dt)]\n",
            "/Users/mirco/Documents/Tesi/code/models/DGDNN/Data/geometric_dataset_gen.py:133: FutureWarning: The behavior of 'isin' with dtype=datetime64[ns] and castable values (e.g. strings) is deprecated. In a future version, these will not be considered matching by isin. Explicitly cast to the appropriate dtype before calling isin instead.\n",
            "  df = df[df.index.isin(dates_dt)]\n",
            "/Users/mirco/Documents/Tesi/code/models/DGDNN/Data/geometric_dataset_gen.py:133: FutureWarning: The behavior of 'isin' with dtype=datetime64[ns] and castable values (e.g. strings) is deprecated. In a future version, these will not be considered matching by isin. Explicitly cast to the appropriate dtype before calling isin instead.\n",
            "  df = df[df.index.isin(dates_dt)]\n",
            "100%|█████████▉| 415/416 [05:35<00:00,  1.23it/s]"
          ]
        },
        {
          "name": "stdout",
          "output_type": "stream",
          "text": [
            "Generating graph 415/416...\n"
          ]
        },
        {
          "name": "stderr",
          "output_type": "stream",
          "text": [
            "/Users/mirco/Documents/Tesi/code/models/DGDNN/Data/geometric_dataset_gen.py:133: FutureWarning: The behavior of 'isin' with dtype=datetime64[ns] and castable values (e.g. strings) is deprecated. In a future version, these will not be considered matching by isin. Explicitly cast to the appropriate dtype before calling isin instead.\n",
            "  df = df[df.index.isin(dates_dt)]\n",
            "/Users/mirco/Documents/Tesi/code/models/DGDNN/Data/geometric_dataset_gen.py:133: FutureWarning: The behavior of 'isin' with dtype=datetime64[ns] and castable values (e.g. strings) is deprecated. In a future version, these will not be considered matching by isin. Explicitly cast to the appropriate dtype before calling isin instead.\n",
            "  df = df[df.index.isin(dates_dt)]\n",
            "/Users/mirco/Documents/Tesi/code/models/DGDNN/Data/geometric_dataset_gen.py:133: FutureWarning: The behavior of 'isin' with dtype=datetime64[ns] and castable values (e.g. strings) is deprecated. In a future version, these will not be considered matching by isin. Explicitly cast to the appropriate dtype before calling isin instead.\n",
            "  df = df[df.index.isin(dates_dt)]\n",
            "/Users/mirco/Documents/Tesi/code/models/DGDNN/Data/geometric_dataset_gen.py:133: FutureWarning: The behavior of 'isin' with dtype=datetime64[ns] and castable values (e.g. strings) is deprecated. In a future version, these will not be considered matching by isin. Explicitly cast to the appropriate dtype before calling isin instead.\n",
            "  df = df[df.index.isin(dates_dt)]\n",
            "100%|██████████| 416/416 [05:36<00:00,  1.24it/s]\n"
          ]
        }
      ],
      "source": [
        "dir = 'data/datasets/America_Stocks_reduced'\n",
        "dest = 'data/datasets/graph/'\n",
        "market = 'NASDAQ'\n",
        "company_list = ['AAPL', 'AMZN', 'AMRK', 'APOG']\n",
        "start_date = '2010-01-01'\n",
        "end_date = '2015-12-31'\n",
        "window_size = 30  # 30 days window\n",
        "dataset_label = 'train'\n",
        "use_fast_approximation = False\n",
        "\n",
        "# Create a dataset instance\n",
        "dataset = MyGeometricDataset(\n",
        "    root=dir,\n",
        "    desti=dest,\n",
        "    market=market,\n",
        "    comlist=company_list,\n",
        "    start=start_date,\n",
        "    end=end_date,\n",
        "    window=window_size,\n",
        "    dataset_type=dataset_label,\n",
        "    fast_approx=use_fast_approximation\n",
        ")\n"
      ]
    },
    {
      "cell_type": "code",
      "execution_count": 8,
      "metadata": {},
      "outputs": [
        {
          "data": {
            "text/plain": [
              "<models.DGDNN.Data.geometric_dataset_gen.MyDataset at 0x134dcf4f0>"
            ]
          },
          "execution_count": 8,
          "metadata": {},
          "output_type": "execute_result"
        }
      ],
      "source": [
        "dataset"
      ]
    },
    {
      "cell_type": "markdown",
      "metadata": {
        "id": "ql-xe2BnPiCf"
      },
      "source": [
        "# Model 1: GConvGRU"
      ]
    },
    {
      "cell_type": "code",
      "execution_count": null,
      "metadata": {
        "id": "hAP4Vu62Pml2"
      },
      "outputs": [
        {
          "name": "stderr",
          "output_type": "stream",
          "text": [
            "/Users/mirco/Documents/Tesi/code/tesi_venv/lib/python3.9/site-packages/urllib3/__init__.py:35: NotOpenSSLWarning: urllib3 v2 only supports OpenSSL 1.1.1+, currently the 'ssl' module is compiled with 'LibreSSL 2.8.3'. See: https://github.com/urllib3/urllib3/issues/3020\n",
            "  warnings.warn(\n"
          ]
        }
      ],
      "source": [
        "from torch_geometric_temporal.nn import GConvGRU"
      ]
    },
    {
      "cell_type": "code",
      "execution_count": null,
      "metadata": {
        "id": "V_sW9yBwSd9l"
      },
      "outputs": [],
      "source": []
    },
    {
      "cell_type": "markdown",
      "metadata": {
        "id": "zjrSKZOh-Qm5"
      },
      "source": [
        "# Model 2: DGDNN\n",
        "\n",
        "GitHub: https://github.com/pixelhero98/DGDNN"
      ]
    },
    {
      "cell_type": "code",
      "execution_count": null,
      "metadata": {
        "id": "Km3vpuil-UOY"
      },
      "outputs": [],
      "source": [
        "from DGDNN.Model.dgdnn import DGDNN"
      ]
    },
    {
      "cell_type": "code",
      "execution_count": null,
      "metadata": {
        "colab": {
          "base_uri": "https://localhost:8080/"
        },
        "id": "JZRameyH74rl",
        "outputId": "1e25cb16-e9e5-42e9-c2a5-92b6f3759fa1"
      },
      "outputs": [
        {
          "data": {
            "text/plain": [
              "13"
            ]
          },
          "execution_count": 12,
          "metadata": {},
          "output_type": "execute_result"
        }
      ],
      "source": [
        "model = DGDNN(\n",
        "    [20],\n",
        "    [10],\n",
        "    1,\n",
        "    1,\n",
        "    1,\n",
        "    1,\n",
        "    1,\n",
        "    1,\n",
        "    1\n",
        ")\n",
        "\n",
        "sum([p.numel() for p in model.parameters()])"
      ]
    },
    {
      "cell_type": "markdown",
      "metadata": {},
      "source": [
        "## Temp maybe usefull"
      ]
    },
    {
      "cell_type": "code",
      "execution_count": null,
      "metadata": {},
      "outputs": [],
      "source": [
        "from torch_geometric_temporal.signal import DynamicGraphTemporalSignal #Handle dynamic temporal graph"
      ]
    }
  ],
  "metadata": {
    "colab": {
      "provenance": []
    },
    "kernelspec": {
      "display_name": "tesi_venv",
      "language": "python",
      "name": "python3"
    },
    "language_info": {
      "codemirror_mode": {
        "name": "ipython",
        "version": 3
      },
      "file_extension": ".py",
      "mimetype": "text/x-python",
      "name": "python",
      "nbconvert_exporter": "python",
      "pygments_lexer": "ipython3",
      "version": "3.9.6"
    }
  },
  "nbformat": 4,
  "nbformat_minor": 0
}
