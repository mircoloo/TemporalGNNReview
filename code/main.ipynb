{
  "cells": [
    {
      "cell_type": "markdown",
      "metadata": {
        "id": "EKwzdnNJ6C9k"
      },
      "source": []
    },
    {
      "cell_type": "code",
      "execution_count": 1,
      "metadata": {
        "colab": {
          "base_uri": "https://localhost:8080/",
          "height": 36
        },
        "id": "dnJby9Bg5PKX",
        "outputId": "ced7382a-cbc2-4030-dc2f-0dd5ecae0351"
      },
      "outputs": [
        {
          "data": {
            "text/plain": [
              "('2.7.0+cu126', '12.6')"
            ]
          },
          "execution_count": 1,
          "metadata": {},
          "output_type": "execute_result"
        }
      ],
      "source": [
        "import numpy as np\n",
        "import pandas as pd\n",
        "import csv\n",
        "import time\n",
        "#torch\n",
        "import torch\n",
        "import torch.nn as nn\n",
        "import torch.optim as optim\n",
        "from torch_geometric.loader import DataLoader # For batching graph data\n",
        "from torch_geometric.utils import to_dense_adj\n",
        "import torch.nn.functional as F\n",
        "\n",
        "#sklearn\n",
        "from sklearn.metrics import accuracy_score, f1_score, matthews_corrcoef\n",
        "\n",
        "# objective functions\n",
        "from utils import theta_regularizer, neighbor_distance_regularizer\n",
        "\n",
        "#Visualize and create graph/charts\n",
        "import networkx as nx\n",
        "import matplotlib.pyplot as plt\n",
        "\n",
        "#Path managment\n",
        "import os\n",
        "import sys\n",
        "\n",
        "\n",
        "\n",
        "from IPython.display import clear_output\n",
        "device = 'cuda' if torch.cuda.is_available() else 'cpu'\n",
        "torch.seed = 1234\n",
        "torch.__version__, torch.version.cuda"
      ]
    },
    {
      "cell_type": "code",
      "execution_count": 2,
      "metadata": {},
      "outputs": [],
      "source": [
        "# To reload modulse if needed\n",
        "%reload_ext autoreload\n",
        "%autoreload 2"
      ]
    },
    {
      "cell_type": "markdown",
      "metadata": {},
      "source": [
        "### Add the DGDNN libraries into the path to get Data"
      ]
    },
    {
      "cell_type": "code",
      "execution_count": 3,
      "metadata": {},
      "outputs": [],
      "source": [
        "current_dir = os.getcwd() #till /.../home/..../code\n",
        "\n",
        "\n",
        "model_path = os.path.join(current_dir, 'models/DGDNN/Model')\n",
        "if model_path not in sys.path:\n",
        "    sys.path.insert(0, model_path)\n",
        "data_path = os.path.join(current_dir, 'models/DGDNN/Data')\n",
        "if data_path not in sys.path:\n",
        "    sys.path.insert(0, data_path)\n"
      ]
    },
    {
      "cell_type": "markdown",
      "metadata": {},
      "source": [
        "# The dataset "
      ]
    },
    {
      "cell_type": "code",
      "execution_count": 4,
      "metadata": {},
      "outputs": [],
      "source": [
        "from geometric_dataset_gen import MyDataset as MyGeometricDataset\n",
        "from dataset_gen import MyDataset "
      ]
    },
    {
      "cell_type": "code",
      "execution_count": 50,
      "metadata": {},
      "outputs": [],
      "source": [
        "# # Configure the default variables // # these can be tuned // # examples\n",
        "sedate = ['2013-01-01', '2014-12-31']  # these can be tuned\n",
        "val_sedate = ['2015-01-01', '2015-06-30'] # these can be tuned\n",
        "test_sedate = ['2015-07-01', '2017-12-31'] # these can be tuned\n",
        "market = ['NASDAQ', 'NYSE', 'SSE'] # can be changed\n",
        "dataset_type = ['Train', 'Validation', 'Test']\n",
        "\n",
        "com_path = [f'{current_dir}/data/datasets/NASDAQ.csv',\n",
        "            f'{current_dir}/data/datasets/NYSE.csv',\n",
        "            f'{current_dir}/data/datasets/NYSE_missing.csv'\n",
        "            ] # Where the company tickers are\n",
        "\n",
        "des = f\"{current_dir}/data/datasets/graph_snapshots/\" # Where to save the processed graphs\n",
        "\n",
        "# directory = \"/Users/mirco/Documents/Tesi/code/data/datasets/America_Stocks\" \n",
        "# window = 19\n",
        "# NASDAQ_com_list = []\n",
        "# NYSE_com_list = []\n",
        "# NYSE_missing_list = []\n",
        "# com_list = [NASDAQ_com_list, NYSE_com_list, NYSE_missing_list] #Ticker lists\n",
        "\n",
        "# for idx, path in enumerate(com_path): #Per each ticker folder get the path and index\n",
        "#     with open(path) as f:\n",
        "#         file = csv.reader(f)\n",
        "#         for line in file:\n",
        "#             com_list[idx].append(line[0])  # append first element of line if each line is a list\n",
        "# NYSE_com_list = [com for com in NYSE_com_list if com not in NYSE_missing_list] #Filter the com on NYSE since they are missing \n",
        "# fast_approx = False # True for fast approximation and implementation\n",
        "# # Generate datasets\n"
      ]
    },
    {
      "cell_type": "code",
      "execution_count": 51,
      "metadata": {},
      "outputs": [],
      "source": [
        "dir = f'{current_dir}/data/America_Stocks'\n",
        "dest = f'{current_dir}/data/datasets/graph/'\n",
        "market = 'NASDAQ'\n",
        "company_list = ['AAPL', 'ACWI',\n",
        "'ADSK',\n",
        "'ADTN',\n",
        "'ADUS',\n",
        "'AEGN']\n",
        "\n",
        "train_sedate = ['2012-05-01', '2014-12-31']  # these can be tuned\n",
        "val_sedate = ['2015-01-01', '2015-12-31'] # these can be tuned\n",
        "test_sedate = ['2016-01-01', '2016-06-30'] # these can be tuned\n",
        "dataset_type = ['Train', 'Validation', 'Test']\n",
        "window_size = 17# \n",
        "dataset_label = 'train'\n",
        "use_fast_approximation = False\n",
        "\n",
        "print(\"-\"*5, \"Building train dataset...\" , \"-\"*5)\n",
        "train_dataset = MyGeometricDataset(dir, dest, market, company_list, train_sedate[0], train_sedate[1], window_size, dataset_type[0], use_fast_approximation) \n",
        "print(\"-\"*5, \"Building validation dataset...\" , \"-\"*5)\n",
        "validation_dataset = MyGeometricDataset(dir, dest, market, company_list, val_sedate[0], val_sedate[1], window_size, dataset_type[1], use_fast_approximation)\n",
        "print(\"-\"*5, \"Building test dataset...\" , \"-\"*5)\n",
        "test_dataset = MyGeometricDataset(dir, dest, market, company_list, test_sedate[0], test_sedate[1], window_size, dataset_type[2], use_fast_approximation)\n",
        "clear_output()"
      ]
    },
    {
      "cell_type": "code",
      "execution_count": 52,
      "metadata": {},
      "outputs": [
        {
          "name": "stdout",
          "output_type": "stream",
          "text": [
            "Number of snapshots graph of the dataset: 656\n",
            "Graph snapshot structure: Data(x=[6, 85], edge_index=[2, 36], edge_attr=[36], y=[6])\n",
            "Number of nodes: 6\n",
            "Number of target labels: 6\n"
          ]
        }
      ],
      "source": [
        "print(f\"Number of snapshots graph of the dataset: {len(train_dataset)}\")\n",
        "print(f\"Graph snapshot structure: {train_dataset[0]}\")\n",
        "print(f\"Number of nodes: {len(train_dataset[0].x)}\")\n",
        "print(f\"Number of target labels: {len(train_dataset[0].y)}\")"
      ]
    },
    {
      "cell_type": "code",
      "execution_count": 53,
      "metadata": {},
      "outputs": [
        {
          "name": "stdout",
          "output_type": "stream",
          "text": [
            "\n",
            "Visualizing Graph...\n",
            "Number of nodes: 6\n",
            "Number of edges: 21\n",
            "tensor([0, 0, 0, 0, 1, 0])\n"
          ]
        },
        {
          "data": {
            "image/png": "[encoded data removed]",
            "text/plain": [
              "<Figure size 500x500 with 1 Axes>"
            ]
          },
          "metadata": {},
          "output_type": "display_data"
        }
      ],
      "source": [
        "def visualize_geometric_graph(data_sample):\n",
        "    \"\"\"\n",
        "    Visualizes a single torch_geometric.data.Data graph sample.\n",
        "    \"\"\"\n",
        "    # Create a NetworkX graph object\n",
        "    G = nx.Graph()\n",
        "\n",
        "    # The edge_index tensor is of shape [2, num_edges].\n",
        "    # We need to transpose it and convert to a list of tuples.\n",
        "    edge_list = data_sample.edge_index.t().tolist()\n",
        "\n",
        "    # Add edges to the graph. Nodes are added automatically.\n",
        "    G.add_edges_from(edge_list)\n",
        "\n",
        "    print(f\"\\nVisualizing Graph...\")\n",
        "    print(f\"Number of nodes: {G.number_of_nodes()}\")\n",
        "    print(f\"Number of edges: {G.number_of_edges()}\")\n",
        "\n",
        "    # Use the labels (Y tensor) to color the nodes\n",
        "    # For example, class 0 is blue, class 1 is red\n",
        "    colors = ['red' if label == 0 else 'green' for label in data_sample.y] \n",
        "    print(data_sample.y)\n",
        "    # Draw the graph\n",
        "    plt.figure(figsize=(5, 5))\n",
        "    nx.draw(G, with_labels=True, node_color=colors, node_size=200, font_size=8)\n",
        "    plt.title(\"Graph Visualization\")\n",
        "    plt.show()\n",
        "\n",
        "# Visualize the first graph in the dataset\n",
        "\n",
        "visualize_geometric_graph(train_dataset[0])"
      ]
    },
    {
      "cell_type": "markdown",
      "metadata": {
        "id": "ql-xe2BnPiCf"
      },
      "source": [
        "# Model 1: GConvGRU"
      ]
    },
    {
      "cell_type": "code",
      "execution_count": 54,
      "metadata": {
        "id": "hAP4Vu62Pml2"
      },
      "outputs": [],
      "source": [
        "from torch_geometric_temporal.nn import GConvGRU"
      ]
    },
    {
      "cell_type": "code",
      "execution_count": 55,
      "metadata": {},
      "outputs": [
        {
          "data": {
            "text/plain": [
              "666"
            ]
          },
          "execution_count": 55,
          "metadata": {},
          "output_type": "execute_result"
        }
      ],
      "source": [
        "model_GConvGRU = GConvGRU(10, 1, 20).to(device)\n",
        "sum([p.numel() for p in model_GConvGRU.parameters()])"
      ]
    },
    {
      "cell_type": "code",
      "execution_count": 56,
      "metadata": {},
      "outputs": [],
      "source": [
        "train_loader = DataLoader(train_dataset, batch_size=1, shuffle=True)"
      ]
    },
    {
      "cell_type": "markdown",
      "metadata": {},
      "source": [
        "# Train GConvGRU"
      ]
    },
    {
      "cell_type": "markdown",
      "metadata": {
        "id": "zjrSKZOh-Qm5"
      },
      "source": [
        "# Model 2: DGDNN\n",
        "\n",
        "GitHub: https://github.com/pixelhero98/DGDNN"
      ]
    },
    {
      "cell_type": "code",
      "execution_count": 57,
      "metadata": {
        "id": "Km3vpuil-UOY"
      },
      "outputs": [],
      "source": [
        "\n",
        "from dgdnn import DGDNN "
      ]
    },
    {
      "cell_type": "markdown",
      "metadata": {},
      "source": [
        "## Define the model"
      ]
    },
    {
      "cell_type": "code",
      "execution_count": 58,
      "metadata": {},
      "outputs": [],
      "source": [
        "####  Define model\n",
        "layers = 6\n",
        "num_nodes = 6 \n",
        "expansion_step = 7\n",
        "num_heads = 2\n",
        "active_layers = [True, False, False, False, False, False]\n",
        "timestamp = 17  #window\n",
        "classes = 1\n",
        "diffusion_size = [5*timestamp, 31*timestamp, 28*timestamp, 24*timestamp, 20*timestamp, 16*timestamp, 12*timestamp]\n",
        "emb_size = [5 + 31, 64, 28 + 64, 50,\n",
        "            24 + 50, 38, 20 + 38, 24,\n",
        "            16 + 24, 12, 12+12, 10]  \n",
        "\n",
        "#in_size = previous_output + diffusion_size_i\n",
        "\n",
        "model = DGDNN(\n",
        "    diffusion_size=diffusion_size,\n",
        "    embedding_size=emb_size,\n",
        "    classes=1,\n",
        "    layers=layers,\n",
        "    num_nodes=num_nodes,\n",
        "    expansion_step=expansion_step,\n",
        "    num_heads=num_heads,\n",
        "    active=active_layers,\n",
        "    timestamp=timestamp\n",
        ").to(device)"
      ]
    },
    {
      "cell_type": "markdown",
      "metadata": {},
      "source": [
        "## Train DGDNN"
      ]
    },
    {
      "cell_type": "code",
      "execution_count": 59,
      "metadata": {},
      "outputs": [],
      "source": [
        "train_loader = DataLoader(train_dataset, batch_size=1, shuffle=True)\n",
        "validation_loader = DataLoader(validation_dataset, batch_size=1, shuffle=True)\n",
        "test_loader = DataLoader(test_dataset, batch_size=1, shuffle=True)"
      ]
    },
    {
      "cell_type": "code",
      "execution_count": 60,
      "metadata": {},
      "outputs": [
        {
          "name": "stdout",
          "output_type": "stream",
          "text": [
            "Epoch 1/5,  train_loss=459.5870, val_loss=0.6966, val_acc=0.4894, val_f1=0.4921\n",
            "Training finished.\n"
          ]
        }
      ],
      "source": [
        "optimizer = optim.Adam(model.parameters(), lr=2e-4, weight_decay=1.5e-5)\n",
        "criterion = nn.BCEWithLogitsLoss() # For binary classification (output is a single logit)\n",
        "num_epochs = 5\n",
        "\n",
        "model.train()\n",
        "for epoch in range(num_epochs): \n",
        "    train_loss = .0 #loss for each epoch\n",
        "    for train_sample in train_loader: \n",
        "      train_sample = train_sample.to(device)\n",
        "      optimizer.zero_grad()\n",
        "    \n",
        "      A = to_dense_adj(train_sample.edge_index, \n",
        "                        batch=train_sample.batch, # Important for correct batch processing if batch_size > 1\n",
        "                        edge_attr=train_sample.edge_attr, \n",
        "                        max_num_nodes=num_nodes).squeeze(0) # Squeeze for batch_size=1\n",
        "      \n",
        "      C = train_sample.y.unsqueeze(dim=1).float()\n",
        "      # Forward pass\n",
        "      # DGDNN expects X: [num_nodes, features], A: [num_nodes, num_nodes]\n",
        "      outputs = model(train_sample.x, A) # Output shape: [num_nodes, classes]\n",
        "\n",
        "      loss = criterion(outputs, C) - 0.0029 * neighbor_distance_regularizer(model.theta) + theta_regularizer(model.theta)\n",
        "      \n",
        "      # Backward pass and optimize\n",
        "      loss.backward()\n",
        "      optimizer.step()\n",
        "      #loss.step()\n",
        "      train_loss += loss.item()\n",
        "\n",
        "    # Validation step\n",
        "    if epoch%5 == 0:\n",
        "      val_loss =.0 #Reset validation loss\n",
        "      val_acc = .0 #Reset validation accuracy\n",
        "      val_f1 = .0 #Reset f1 score\n",
        "      with torch.no_grad():\n",
        "        for val_sample in validation_loader:\n",
        "          val_sample.to(device)\n",
        "          A = to_dense_adj(val_sample.edge_index, \n",
        "                        batch=val_sample.batch, # Important for correct batch processing if batch_size > 1\n",
        "                        edge_attr=val_sample.edge_attr, \n",
        "                        max_num_nodes=num_nodes).squeeze(0) # Squeeze for batch_size=1\n",
        "          out = model(val_sample.x, A)\n",
        "\n",
        "          y = val_sample.y.detach().cpu() # Obtain the y labels\n",
        "          preds = (out > 0).float().detach().cpu().squeeze() #get the predicted logits\n",
        "\n",
        "          val_loss += criterion(out, val_sample.y.unsqueeze(1).float()).item()\n",
        "          val_acc += accuracy_score(y, preds)\n",
        "          val_f1 += f1_score(y, preds)\n",
        "          #val_mcc += matthews_corrcoef() \n",
        "\n",
        "        print(f\"Epoch {epoch+1}/{num_epochs},  train_loss={train_loss:.4f}, val_loss={(val_loss/len(validation_loader)):.4f}, val_acc={(val_acc/len(validation_loader)):.4f}, val_f1={(val_f1/len(validation_loader)):.4f}\")\n",
        "     \n",
        "print(\"Training finished.\")"
      ]
    },
    {
      "cell_type": "markdown",
      "metadata": {},
      "source": [
        "## Test the model"
      ]
    },
    {
      "cell_type": "code",
      "execution_count": 61,
      "metadata": {},
      "outputs": [],
      "source": [
        "test_loader = DataLoader(test_dataset, batch_size=1, shuffle=True)"
      ]
    },
    {
      "cell_type": "code",
      "execution_count": 62,
      "metadata": {},
      "outputs": [
        {
          "name": "stdout",
          "output_type": "stream",
          "text": [
            "Test acc=0.5244648318042814\n",
            "Test F1=0.6880641925777332\n",
            "Test MCC=0.0\n"
          ]
        }
      ],
      "source": [
        "# Use torch.no_grad() for evaluation to improve speed and save memory\n",
        "model.eval()\n",
        "criterion = nn.BCEWithLogitsLoss()\n",
        "\n",
        "all_logits = []\n",
        "all_labels = []\n",
        "total_test_loss = 0\n",
        "conc = torch.tensor([]).to(device)\n",
        "label_conc = torch.tensor([]).to(device)\n",
        "\n",
        "with torch.no_grad():  # Deactivates autograd for efficiency\n",
        "    for test_sample in test_loader:\n",
        "        test_sample = test_sample.to(device)\n",
        "        \n",
        "        # --- X Preparation ---\n",
        "        X = test_sample.x\n",
        "        A = to_dense_adj(test_sample.edge_index,\n",
        "                         batch=test_sample.batch,\n",
        "                         edge_attr=test_sample.edge_attr,\n",
        "                         max_num_nodes=num_nodes).squeeze(0)\n",
        "        \n",
        "        # Use test_sample.y for labels and prepare for loss calculation\n",
        "        C = test_sample.y.unsqueeze(dim=1).float() \n",
        "        \n",
        "        # --- Forward pass and Loss Calculation ---\n",
        "        out = model(X, A)\n",
        "        loss = criterion(out, C)  # Note: Regularizers are often omitted during evaluation\n",
        "        total_test_loss += loss.item()\n",
        "        \n",
        "\n",
        "        # --- Accumulate logits and labels ---\n",
        "        conc = torch.cat((conc, out.squeeze()), dim=0)\n",
        "        label_conc = torch.cat((label_conc, test_sample.y), dim=0)\n",
        "\n",
        "    test_acc = accuracy_score((conc > 0).detach().cpu().float(),  label_conc.detach().cpu())\n",
        "    test_f1 = f1_score((conc > 0).detach().cpu().float(),  label_conc.detach().cpu())\n",
        "    test_mcc = matthews_corrcoef((conc > 0).detach().cpu().float(),  label_conc.detach().cpu())\n",
        "\n",
        "\n",
        "print(f\"Test acc={test_acc}\")\n",
        "print(f\"Test F1={test_f1}\")\n",
        "print(f\"Test MCC={test_mcc}\")\n",
        "\n",
        "\n",
        "    \n",
        "      \n",
        "\n",
        "#TO FINISH   \n"
      ]
    },
    {
      "cell_type": "code",
      "execution_count": null,
      "metadata": {},
      "outputs": [],
      "source": []
    },
    {
      "cell_type": "markdown",
      "metadata": {},
      "source": [
        "# Model 3. Temporal GNN"
      ]
    },
    {
      "cell_type": "code",
      "execution_count": 63,
      "metadata": {},
      "outputs": [
        {
          "data": {
            "text/plain": [
              "164481"
            ]
          },
          "execution_count": 63,
          "metadata": {},
          "output_type": "execute_result"
        }
      ],
      "source": [
        "class TemporalGNN(nn.Module):\n",
        "    def __init__(self, in_channels, hidden_channels, out_channels, dropout=0.2):\n",
        "        super(TemporalGNN, self).__init__()\n",
        "        self.recurrent1 = GConvGRU(in_channels, hidden_channels, K=2)\n",
        "        #self.recurrent2 = GConvGRU(hidden_channels, hidden_channels, K=2)\n",
        "        #self.recurrent3 = GConvGRU(hidden_channels, hidden_channels, K=2)\n",
        "        self.dropout = nn.Dropout(dropout)\n",
        "        self.linear = nn.Linear(hidden_channels, out_channels)\n",
        "\n",
        "    def forward(self, x, edge_index, edge_weight):\n",
        "        h1 = None\n",
        "        h2 = None\n",
        "        h3 = None\n",
        "        h1 = self.recurrent1(x, edge_index, edge_weight, h1)\n",
        "        #h2 = self.recurrent2(h1, edge_index, edge_weight, h2)\n",
        "        #h3 = self.recurrent3(h2, edge_index, edge_weight, h3)\n",
        "        h = F.relu(h1)\n",
        "        h = self.dropout(h)  # Dropout before final layer\n",
        "        out = self.linear(h)\n",
        "        return out\n",
        "\n",
        "\n",
        "input_dim = 5 * timestamp\n",
        "hidden_dim = 128\n",
        "output_dim = 1\n",
        "\n",
        "model_TemporalGNN = TemporalGNN(input_dim, hidden_dim, output_dim).to(device)\n",
        "sum([p.numel() for p in model_TemporalGNN.parameters()])"
      ]
    },
    {
      "cell_type": "markdown",
      "metadata": {},
      "source": [
        "## Train Temporal_GNN"
      ]
    },
    {
      "cell_type": "code",
      "execution_count": 64,
      "metadata": {},
      "outputs": [],
      "source": [
        "train_loader = DataLoader(train_dataset, batch_size=1, shuffle=True)\n",
        "val_loader = DataLoader(validation_dataset, batch_size=1, shuffle=True)\n",
        "test_loader = DataLoader(test_dataset, batch_size=1, shuffle=True)\n"
      ]
    },
    {
      "cell_type": "code",
      "execution_count": 65,
      "metadata": {},
      "outputs": [
        {
          "name": "stdout",
          "output_type": "stream",
          "text": [
            "Epoch 1/5,  train_loss=457.4966, val_loss=0.6976, val_acc=0.4781, val_f1=0.4744\n"
          ]
        }
      ],
      "source": [
        "optimizer = optim.Adam(model_TemporalGNN.parameters(), lr=2e-4, weight_decay=1.5e-5)\n",
        "criterion = nn.BCEWithLogitsLoss() # For binary classification (output is a single logit)\n",
        "num_epochs = 5\n",
        "\n",
        "\n",
        "for epoch in range(num_epochs):\n",
        "    train_loss = .0\n",
        "    train_acc = .0\n",
        "    model_TemporalGNN.train()\n",
        "    for train_sample in train_loader:\n",
        "        train_sample.to(device)\n",
        "        optimizer.zero_grad()\n",
        "        out = model_TemporalGNN(train_sample.x, train_sample.edge_index, train_sample.edge_weight)\n",
        "        loss = criterion( out, train_sample.y.unsqueeze(1).float() )\n",
        "        loss.backward()\n",
        "        train_loss += loss.item()\n",
        "        optimizer.step()\n",
        "        #train_acc += accuracy_score((out.detach().cpu() > 0).float().squeeze(), validation_dataset[10].y.detach().cpu())\n",
        "\n",
        "    if epoch%5 == 0:\n",
        "      val_loss =.0 #Reset validation loss\n",
        "      val_acc = .0 #Reset validation accuracy\n",
        "      val_f1 = .0 #Reset f1 score\n",
        "      with torch.no_grad():\n",
        "        for val_sample in validation_loader:\n",
        "          val_sample.to(device)\n",
        "          out = model_TemporalGNN(val_sample.x, val_sample.edge_index, val_sample.edge_attr)\n",
        "\n",
        "          y = val_sample.y.detach().cpu() # Obtain the y labels\n",
        "          preds = (out > 0).float().detach().cpu().squeeze() #get the predicted logits\n",
        "\n",
        "          val_loss += criterion(out, val_sample.y.unsqueeze(1).float()).item()\n",
        "          val_acc += accuracy_score(y, preds)\n",
        "          val_f1 += f1_score(y, preds)\n",
        "          #val_mcc += matthews_corrcoef() \n",
        "\n",
        "        print(f\"Epoch {epoch+1}/{num_epochs},  train_loss={train_loss:.4f}, val_loss={(val_loss/len(validation_loader)):.4f}, val_acc={(val_acc/len(validation_loader)):.4f}, val_f1={(val_f1/len(validation_loader)):.4f}\")\n",
        "\n",
        "\n",
        "\n"
      ]
    },
    {
      "cell_type": "markdown",
      "metadata": {},
      "source": [
        "## Test Temporal GNN"
      ]
    },
    {
      "cell_type": "code",
      "execution_count": 66,
      "metadata": {},
      "outputs": [
        {
          "name": "stdout",
          "output_type": "stream",
          "text": [
            "Test acc=0.4831804281345566\n",
            "Test F1=0.4955223880597015\n",
            "Test MCC=-0.03367948411842516\n"
          ]
        }
      ],
      "source": [
        "# Use torch.no_grad() for evaluation to improve speed and save memory\n",
        "model_TemporalGNN.eval()\n",
        "criterion = nn.BCEWithLogitsLoss()\n",
        "\n",
        "all_logits = []\n",
        "all_labels = []\n",
        "total_test_loss = 0\n",
        "conc = torch.tensor([]).to(device)\n",
        "label_conc = torch.tensor([]).to(device)\n",
        "\n",
        "with torch.no_grad():  # Deactivates autograd for efficiency\n",
        "    for test_sample in test_loader:\n",
        "        test_sample = test_sample.to(device)\n",
        "        \n",
        "        \n",
        "        # --- Forward pass and Loss Calculation ---\n",
        "        out = model_TemporalGNN(test_sample.x, test_sample.edge_index, test_sample.edge_attr)\n",
        "        loss = criterion(out, test_sample.y.unsqueeze(1).float())  # Note: Regularizers are often omitted during evaluation\n",
        "        total_test_loss += loss.item()\n",
        "        \n",
        "\n",
        "        # --- Accumulate logits and labels ---\n",
        "        conc = torch.cat((conc, out.squeeze()), dim=0)\n",
        "        label_conc = torch.cat((label_conc, test_sample.y), dim=0)\n",
        "\n",
        "    test_acc = accuracy_score((conc > 0).detach().cpu().float(),  label_conc.detach().cpu())\n",
        "    test_f1 = f1_score((conc > 0).detach().cpu().float(),  label_conc.detach().cpu())\n",
        "    test_mcc = matthews_corrcoef((conc > 0).detach().cpu().float(),  label_conc.detach().cpu())\n",
        "\n",
        "\n",
        "print(f\"Test acc={test_acc}\")\n",
        "print(f\"Test F1={test_f1}\")\n",
        "print(f\"Test MCC={test_mcc}\")\n",
        "\n",
        "\n"
      ]
    },
    {
      "cell_type": "markdown",
      "metadata": {},
      "source": [
        "## Temp maybe usefull"
      ]
    },
    {
      "cell_type": "code",
      "execution_count": 67,
      "metadata": {},
      "outputs": [],
      "source": [
        "from torch_geometric_temporal.signal import DynamicGraphTemporalSignal #Handle dynamic temporal graph"
      ]
    }
  ],
  "metadata": {
    "colab": {
      "provenance": []
    },
    "kernelspec": {
      "display_name": "tesi_venv",
      "language": "python",
      "name": "python3"
    },
    "language_info": {
      "codemirror_mode": {
        "name": "ipython",
        "version": 3
      },
      "file_extension": ".py",
      "mimetype": "text/x-python",
      "name": "python",
      "nbconvert_exporter": "python",
      "pygments_lexer": "ipython3",
      "version": "3.12.7"
    }
  },
  "nbformat": 4,
  "nbformat_minor": 0
}
