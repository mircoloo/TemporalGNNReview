{
  "cells": [
    {
      "cell_type": "markdown",
      "metadata": {
        "id": "EKwzdnNJ6C9k"
      },
      "source": []
    },
    {
      "cell_type": "code",
      "execution_count": 1,
      "metadata": {
        "colab": {
          "base_uri": "https://localhost:8080/",
          "height": 36
        },
        "id": "dnJby9Bg5PKX",
        "outputId": "ced7382a-cbc2-4030-dc2f-0dd5ecae0351"
      },
      "outputs": [
        {
          "data": {
            "text/plain": [
              "('2.7.0+cu126', '12.6')"
            ]
          },
          "execution_count": 1,
          "metadata": {},
          "output_type": "execute_result"
        }
      ],
      "source": [
        "import numpy as np\n",
        "import pandas as pd\n",
        "import csv\n",
        "import time\n",
        "#torch\n",
        "import torch\n",
        "import torch.nn as nn\n",
        "import torch.optim as optim\n",
        "from torch_geometric.loader import DataLoader # For batching graph data\n",
        "from torch_geometric.utils import to_dense_adj\n",
        "import torch.nn.functional as F\n",
        "\n",
        "#sklearn\n",
        "from sklearn.metrics import accuracy_score, f1_score, matthews_corrcoef\n",
        "\n",
        "# objective functions\n",
        "from utils import theta_regularizer, neighbor_distance_regularizer\n",
        "\n",
        "#Visualize and create graph/charts\n",
        "import networkx as nx\n",
        "import matplotlib.pyplot as plt\n",
        "\n",
        "#Path managment\n",
        "import os\n",
        "import sys\n",
        "\n",
        "\n",
        "\n",
        "from IPython.display import clear_output\n",
        "device = 'cuda' if torch.cuda.is_available() else 'cpu'\n",
        "torch.seed = 1234\n",
        "torch.__version__, torch.version.cuda"
      ]
    },
    {
      "cell_type": "code",
      "execution_count": 2,
      "metadata": {},
      "outputs": [],
      "source": [
        "# To reload modulse if needed\n",
        "%reload_ext autoreload\n",
        "%autoreload 2"
      ]
    },
    {
      "cell_type": "markdown",
      "metadata": {},
      "source": [
        "### Add the DGDNN libraries into the path to get Data"
      ]
    },
    {
      "cell_type": "code",
      "execution_count": 3,
      "metadata": {},
      "outputs": [],
      "source": [
        "current_dir = os.getcwd() #till /.../home/..../code\n",
        "\n",
        "\n",
        "model_path = os.path.join(current_dir, 'models/DGDNN/Model')\n",
        "if model_path not in sys.path:\n",
        "    sys.path.insert(0, model_path)\n",
        "data_path = os.path.join(current_dir, 'models/DGDNN/Data')\n",
        "if data_path not in sys.path:\n",
        "    sys.path.insert(0, data_path)\n"
      ]
    },
    {
      "cell_type": "markdown",
      "metadata": {},
      "source": [
        "# The dataset "
      ]
    },
    {
      "cell_type": "code",
      "execution_count": 4,
      "metadata": {},
      "outputs": [],
      "source": [
        "from geometric_dataset_gen import MyDataset as MyGeometricDataset\n",
        "from dataset_gen import MyDataset "
      ]
    },
    {
      "cell_type": "code",
      "execution_count": 5,
      "metadata": {},
      "outputs": [],
      "source": [
        "# # Configure the default variables // # these can be tuned // # examples\n",
        "sedate = ['2013-01-01', '2014-12-31']  # these can be tuned\n",
        "val_sedate = ['2015-01-01', '2015-06-30'] # these can be tuned\n",
        "test_sedate = ['2015-07-01', '2017-12-31'] # these can be tuned\n",
        "market = ['NASDAQ', 'NYSE', 'SSE'] # can be changed\n",
        "dataset_type = ['Train', 'Validation', 'Test']\n",
        "\n",
        "com_path = [f'{current_dir}/data/datasets/NASDAQ.csv',\n",
        "            f'{current_dir}/data/datasets/NYSE.csv',\n",
        "            f'{current_dir}/data/datasets/NYSE_missing.csv'\n",
        "            ] # Where the company tickers are\n",
        "\n",
        "des = f\"{current_dir}/data/datasets/graph_snapshots/\" # Where to save the processed graphs\n",
        "\n",
        "# directory = \"/Users/mirco/Documents/Tesi/code/data/datasets/America_Stocks\" \n",
        "# window = 19\n",
        "# NASDAQ_com_list = []\n",
        "# NYSE_com_list = []\n",
        "# NYSE_missing_list = []\n",
        "# com_list = [NASDAQ_com_list, NYSE_com_list, NYSE_missing_list] #Ticker lists\n",
        "\n",
        "# for idx, path in enumerate(com_path): #Per each ticker folder get the path and index\n",
        "#     with open(path) as f:\n",
        "#         file = csv.reader(f)\n",
        "#         for line in file:\n",
        "#             com_list[idx].append(line[0])  # append first element of line if each line is a list\n",
        "# NYSE_com_list = [com for com in NYSE_com_list if com not in NYSE_missing_list] #Filter the com on NYSE since they are missing \n",
        "# fast_approx = False # True for fast approximation and implementation\n",
        "# # Generate datasets\n"
      ]
    },
    {
      "cell_type": "code",
      "execution_count": null,
      "metadata": {},
      "outputs": [],
      "source": [
        "dir = f'{current_dir}/data/America_Stocks'\n",
        "dest = f'{current_dir}/data/datasets/graph/'\n",
        "market = 'NASDAQ'\n",
        "company_list = ['AAPL', 'ACWI',\n",
        "'ADSK',\n",
        "'ADTN',\n",
        "'ADUS',\n",
        "'AEGN']\n",
        "\n",
        "train_sedate = ['2012-05-01', '2014-12-31']  # these can be tuned\n",
        "val_sedate = ['2015-01-01', '2015-12-31'] # these can be tuned\n",
        "test_sedate = ['2016-01-01', '2016-06-30'] # these can be tuned\n",
        "dataset_type = ['Train', 'Validation', 'Test']\n",
        "window_size = 17# \n",
        "dataset_label = 'train'\n",
        "use_fast_approximation = False\n",
        "\n",
        "print(\"-\"*5, \"Building train dataset...\" , \"-\"*5)\n",
        "train_dataset = MyGeometricDataset(dir, dest, market, company_list, train_sedate[0], train_sedate[1], window_size, dataset_type[0], use_fast_approximation) \n",
        "print(\"-\"*5, \"Building validation dataset...\" , \"-\"*5)\n",
        "validation_dataset = MyGeometricDataset(dir, dest, market, company_list, val_sedate[0], val_sedate[1], window_size, dataset_type[1], use_fast_approximation)\n",
        "print(\"-\"*5, \"Building test dataset...\" , \"-\"*5)\n",
        "test_dataset = MyGeometricDataset(dir, dest, market, company_list, test_sedate[0], test_sedate[1], window_size, dataset_type[2], use_fast_approximation)\n",
        "clear_output()"
      ]
    },
    {
      "cell_type": "code",
      "execution_count": 7,
      "metadata": {},
      "outputs": [
        {
          "name": "stdout",
          "output_type": "stream",
          "text": [
            "Number of snapshots graph of the dataset: 656\n",
            "Graph snapshot structure: Data(x=[6, 85], edge_index=[2, 36], edge_attr=[36], y=[6])\n",
            "Number of nodes: 6\n",
            "Number of target labels: 6\n"
          ]
        }
      ],
      "source": [
        "print(f\"Number of snapshots graph of the dataset: {len(train_dataset)}\")\n",
        "print(f\"Graph snapshot structure: {train_dataset[0]}\")\n",
        "print(f\"Number of nodes: {len(train_dataset[0].x)}\")\n",
        "print(f\"Number of target labels: {len(train_dataset[0].y)}\")"
      ]
    },
    {
      "cell_type": "code",
      "execution_count": 8,
      "metadata": {},
      "outputs": [
        {
          "name": "stdout",
          "output_type": "stream",
          "text": [
            "\n",
            "Visualizing Graph...\n",
            "Number of nodes: 6\n",
            "Number of edges: 21\n",
            "tensor([0, 0, 0, 0, 1, 0])\n"
          ]
        },
        {
          "data": {
            "image/png": "[encoded data removed]",
            "text/plain": [
              "<Figure size 500x500 with 1 Axes>"
            ]
          },
          "metadata": {},
          "output_type": "display_data"
        }
      ],
      "source": [
        "def visualize_geometric_graph(data_sample):\n",
        "    \"\"\"\n",
        "    Visualizes a single torch_geometric.data.Data graph sample.\n",
        "    \"\"\"\n",
        "    # Create a NetworkX graph object\n",
        "    G = nx.Graph()\n",
        "\n",
        "    # The edge_index tensor is of shape [2, num_edges].\n",
        "    # We need to transpose it and convert to a list of tuples.\n",
        "    edge_list = data_sample.edge_index.t().tolist()\n",
        "\n",
        "    # Add edges to the graph. Nodes are added automatically.\n",
        "    G.add_edges_from(edge_list)\n",
        "\n",
        "    print(f\"\\nVisualizing Graph...\")\n",
        "    print(f\"Number of nodes: {G.number_of_nodes()}\")\n",
        "    print(f\"Number of edges: {G.number_of_edges()}\")\n",
        "\n",
        "    # Use the labels (Y tensor) to color the nodes\n",
        "    # For example, class 0 is blue, class 1 is red\n",
        "    colors = ['red' if label == 0 else 'green' for label in data_sample.y] \n",
        "    print(data_sample.y)\n",
        "    # Draw the graph\n",
        "    plt.figure(figsize=(5, 5))\n",
        "    nx.draw(G, with_labels=True, node_color=colors, node_size=200, font_size=8)\n",
        "    plt.title(\"Graph Visualization\")\n",
        "    plt.show()\n",
        "\n",
        "# Visualize the first graph in the dataset\n",
        "\n",
        "visualize_geometric_graph(train_dataset[0])"
      ]
    },
    {
      "cell_type": "markdown",
      "metadata": {
        "id": "ql-xe2BnPiCf"
      },
      "source": [
        "# Model 1: GConvGRU"
      ]
    },
    {
      "cell_type": "code",
      "execution_count": 9,
      "metadata": {
        "id": "hAP4Vu62Pml2"
      },
      "outputs": [],
      "source": [
        "from torch_geometric_temporal.nn import GConvGRU"
      ]
    },
    {
      "cell_type": "code",
      "execution_count": 10,
      "metadata": {},
      "outputs": [
        {
          "data": {
            "text/plain": [
              "666"
            ]
          },
          "execution_count": 10,
          "metadata": {},
          "output_type": "execute_result"
        }
      ],
      "source": [
        "model_GConvGRU = GConvGRU(10, 1, 20).to(device)\n",
        "sum([p.numel() for p in model_GConvGRU.parameters()])"
      ]
    },
    {
      "cell_type": "code",
      "execution_count": 11,
      "metadata": {},
      "outputs": [],
      "source": [
        "train_loader = DataLoader(train_dataset, batch_size=1, shuffle=True)"
      ]
    },
    {
      "cell_type": "markdown",
      "metadata": {},
      "source": [
        "# Train GConvGRU"
      ]
    },
    {
      "cell_type": "markdown",
      "metadata": {
        "id": "zjrSKZOh-Qm5"
      },
      "source": [
        "# Model 2: DGDNN\n",
        "\n",
        "GitHub: https://github.com/pixelhero98/DGDNN"
      ]
    },
    {
      "cell_type": "code",
      "execution_count": 13,
      "metadata": {
        "id": "Km3vpuil-UOY"
      },
      "outputs": [],
      "source": [
        "\n",
        "from dgdnn import DGDNN "
      ]
    },
    {
      "cell_type": "markdown",
      "metadata": {},
      "source": [
        "## Define the model"
      ]
    },
    {
      "cell_type": "code",
      "execution_count": 14,
      "metadata": {},
      "outputs": [],
      "source": [
        "####  Define model\n",
        "layers = 6\n",
        "num_nodes = 6 \n",
        "expansion_step = 7\n",
        "num_heads = 2\n",
        "active_layers = [True, False, False, False, False, False]\n",
        "timestamp = 17  #window\n",
        "classes = 1\n",
        "diffusion_size = [5*timestamp, 31*timestamp, 28*timestamp, 24*timestamp, 20*timestamp, 16*timestamp, 12*timestamp]\n",
        "emb_size = [5 + 31, 64, 28 + 64, 50,\n",
        "            24 + 50, 38, 20 + 38, 24,\n",
        "            16 + 24, 12, 12+12, 10]  \n",
        "\n",
        "#in_size = previous_output + diffusion_size_i\n",
        "\n",
        "model = DGDNN(\n",
        "    diffusion_size=diffusion_size,\n",
        "    embedding_size=emb_size,\n",
        "    classes=1,\n",
        "    layers=layers,\n",
        "    num_nodes=num_nodes,\n",
        "    expansion_step=expansion_step,\n",
        "    num_heads=num_heads,\n",
        "    active=active_layers,\n",
        "    timestamp=timestamp\n",
        ").to(device)"
      ]
    },
    {
      "cell_type": "markdown",
      "metadata": {},
      "source": [
        "## Train DGDNN"
      ]
    },
    {
      "cell_type": "code",
      "execution_count": 15,
      "metadata": {},
      "outputs": [],
      "source": [
        "train_loader = DataLoader(train_dataset, batch_size=1, shuffle=True)\n",
        "validation_loader = DataLoader(validation_dataset, batch_size=1, shuffle=True)\n",
        "test_loader = DataLoader(test_dataset, batch_size=1, shuffle=True)"
      ]
    },
    {
      "cell_type": "code",
      "execution_count": 16,
      "metadata": {},
      "outputs": [
        {
          "name": "stdout",
          "output_type": "stream",
          "text": [
            "Epoch 1/30,  train_loss=464.0536, val_loss=0.7087, val_acc=0.4908, val_f1=0.5528\n"
          ]
        },
        {
          "ename": "KeyboardInterrupt",
          "evalue": "",
          "output_type": "error",
          "traceback": [
            "\u001b[31m---------------------------------------------------------------------------\u001b[39m",
            "\u001b[31mKeyboardInterrupt\u001b[39m                         Traceback (most recent call last)",
            "\u001b[36mCell\u001b[39m\u001b[36m \u001b[39m\u001b[32mIn[16]\u001b[39m\u001b[32m, line 25\u001b[39m\n\u001b[32m     22\u001b[39m loss = criterion(outputs, C) - \u001b[32m0.0029\u001b[39m * neighbor_distance_regularizer(model.theta) + theta_regularizer(model.theta)\n\u001b[32m     24\u001b[39m \u001b[38;5;66;03m# Backward pass and optimize\u001b[39;00m\n\u001b[32m---> \u001b[39m\u001b[32m25\u001b[39m \u001b[43mloss\u001b[49m\u001b[43m.\u001b[49m\u001b[43mbackward\u001b[49m\u001b[43m(\u001b[49m\u001b[43m)\u001b[49m\n\u001b[32m     26\u001b[39m optimizer.step()\n\u001b[32m     27\u001b[39m \u001b[38;5;66;03m#loss.step()\u001b[39;00m\n",
            "\u001b[36mFile \u001b[39m\u001b[32m~/Documents/Unipd/Tesi/TemporalGNNReview/code/tesi_venv/lib/python3.12/site-packages/torch/_tensor.py:648\u001b[39m, in \u001b[36mTensor.backward\u001b[39m\u001b[34m(self, gradient, retain_graph, create_graph, inputs)\u001b[39m\n\u001b[32m    638\u001b[39m \u001b[38;5;28;01mif\u001b[39;00m has_torch_function_unary(\u001b[38;5;28mself\u001b[39m):\n\u001b[32m    639\u001b[39m     \u001b[38;5;28;01mreturn\u001b[39;00m handle_torch_function(\n\u001b[32m    640\u001b[39m         Tensor.backward,\n\u001b[32m    641\u001b[39m         (\u001b[38;5;28mself\u001b[39m,),\n\u001b[32m   (...)\u001b[39m\u001b[32m    646\u001b[39m         inputs=inputs,\n\u001b[32m    647\u001b[39m     )\n\u001b[32m--> \u001b[39m\u001b[32m648\u001b[39m \u001b[43mtorch\u001b[49m\u001b[43m.\u001b[49m\u001b[43mautograd\u001b[49m\u001b[43m.\u001b[49m\u001b[43mbackward\u001b[49m\u001b[43m(\u001b[49m\n\u001b[32m    649\u001b[39m \u001b[43m    \u001b[49m\u001b[38;5;28;43mself\u001b[39;49m\u001b[43m,\u001b[49m\u001b[43m \u001b[49m\u001b[43mgradient\u001b[49m\u001b[43m,\u001b[49m\u001b[43m \u001b[49m\u001b[43mretain_graph\u001b[49m\u001b[43m,\u001b[49m\u001b[43m \u001b[49m\u001b[43mcreate_graph\u001b[49m\u001b[43m,\u001b[49m\u001b[43m \u001b[49m\u001b[43minputs\u001b[49m\u001b[43m=\u001b[49m\u001b[43minputs\u001b[49m\n\u001b[32m    650\u001b[39m \u001b[43m\u001b[49m\u001b[43m)\u001b[49m\n",
            "\u001b[36mFile \u001b[39m\u001b[32m~/Documents/Unipd/Tesi/TemporalGNNReview/code/tesi_venv/lib/python3.12/site-packages/torch/autograd/__init__.py:353\u001b[39m, in \u001b[36mbackward\u001b[39m\u001b[34m(tensors, grad_tensors, retain_graph, create_graph, grad_variables, inputs)\u001b[39m\n\u001b[32m    348\u001b[39m     retain_graph = create_graph\n\u001b[32m    350\u001b[39m \u001b[38;5;66;03m# The reason we repeat the same comment below is that\u001b[39;00m\n\u001b[32m    351\u001b[39m \u001b[38;5;66;03m# some Python versions print out the first line of a multi-line function\u001b[39;00m\n\u001b[32m    352\u001b[39m \u001b[38;5;66;03m# calls in the traceback and some print out the last line\u001b[39;00m\n\u001b[32m--> \u001b[39m\u001b[32m353\u001b[39m \u001b[43m_engine_run_backward\u001b[49m\u001b[43m(\u001b[49m\n\u001b[32m    354\u001b[39m \u001b[43m    \u001b[49m\u001b[43mtensors\u001b[49m\u001b[43m,\u001b[49m\n\u001b[32m    355\u001b[39m \u001b[43m    \u001b[49m\u001b[43mgrad_tensors_\u001b[49m\u001b[43m,\u001b[49m\n\u001b[32m    356\u001b[39m \u001b[43m    \u001b[49m\u001b[43mretain_graph\u001b[49m\u001b[43m,\u001b[49m\n\u001b[32m    357\u001b[39m \u001b[43m    \u001b[49m\u001b[43mcreate_graph\u001b[49m\u001b[43m,\u001b[49m\n\u001b[32m    358\u001b[39m \u001b[43m    \u001b[49m\u001b[43minputs\u001b[49m\u001b[43m,\u001b[49m\n\u001b[32m    359\u001b[39m \u001b[43m    \u001b[49m\u001b[43mallow_unreachable\u001b[49m\u001b[43m=\u001b[49m\u001b[38;5;28;43;01mTrue\u001b[39;49;00m\u001b[43m,\u001b[49m\n\u001b[32m    360\u001b[39m \u001b[43m    \u001b[49m\u001b[43maccumulate_grad\u001b[49m\u001b[43m=\u001b[49m\u001b[38;5;28;43;01mTrue\u001b[39;49;00m\u001b[43m,\u001b[49m\n\u001b[32m    361\u001b[39m \u001b[43m\u001b[49m\u001b[43m)\u001b[49m\n",
            "\u001b[36mFile \u001b[39m\u001b[32m~/Documents/Unipd/Tesi/TemporalGNNReview/code/tesi_venv/lib/python3.12/site-packages/torch/autograd/graph.py:824\u001b[39m, in \u001b[36m_engine_run_backward\u001b[39m\u001b[34m(t_outputs, *args, **kwargs)\u001b[39m\n\u001b[32m    822\u001b[39m     unregister_hooks = _register_logging_hooks_on_whole_graph(t_outputs)\n\u001b[32m    823\u001b[39m \u001b[38;5;28;01mtry\u001b[39;00m:\n\u001b[32m--> \u001b[39m\u001b[32m824\u001b[39m     \u001b[38;5;28;01mreturn\u001b[39;00m \u001b[43mVariable\u001b[49m\u001b[43m.\u001b[49m\u001b[43m_execution_engine\u001b[49m\u001b[43m.\u001b[49m\u001b[43mrun_backward\u001b[49m\u001b[43m(\u001b[49m\u001b[43m  \u001b[49m\u001b[38;5;66;43;03m# Calls into the C++ engine to run the backward pass\u001b[39;49;00m\n\u001b[32m    825\u001b[39m \u001b[43m        \u001b[49m\u001b[43mt_outputs\u001b[49m\u001b[43m,\u001b[49m\u001b[43m \u001b[49m\u001b[43m*\u001b[49m\u001b[43margs\u001b[49m\u001b[43m,\u001b[49m\u001b[43m \u001b[49m\u001b[43m*\u001b[49m\u001b[43m*\u001b[49m\u001b[43mkwargs\u001b[49m\n\u001b[32m    826\u001b[39m \u001b[43m    \u001b[49m\u001b[43m)\u001b[49m  \u001b[38;5;66;03m# Calls into the C++ engine to run the backward pass\u001b[39;00m\n\u001b[32m    827\u001b[39m \u001b[38;5;28;01mfinally\u001b[39;00m:\n\u001b[32m    828\u001b[39m     \u001b[38;5;28;01mif\u001b[39;00m attach_logging_hooks:\n",
            "\u001b[31mKeyboardInterrupt\u001b[39m: "
          ]
        }
      ],
      "source": [
        "optimizer = optim.Adam(model.parameters(), lr=2e-4, weight_decay=1.5e-5)\n",
        "criterion = nn.BCEWithLogitsLoss() # For binary classification (output is a single logit)\n",
        "num_epochs = 30\n",
        "\n",
        "model.train()\n",
        "for epoch in range(num_epochs): \n",
        "    train_loss = .0 #loss for each epoch\n",
        "    for train_sample in train_loader: \n",
        "      train_sample = train_sample.to(device)\n",
        "      optimizer.zero_grad()\n",
        "    \n",
        "      A = to_dense_adj(train_sample.edge_index, \n",
        "                        batch=train_sample.batch, # Important for correct batch processing if batch_size > 1\n",
        "                        edge_attr=train_sample.edge_attr, \n",
        "                        max_num_nodes=num_nodes).squeeze(0) # Squeeze for batch_size=1\n",
        "      \n",
        "      C = train_sample.y.unsqueeze(dim=1).float()\n",
        "      # Forward pass\n",
        "      # DGDNN expects X: [num_nodes, features], A: [num_nodes, num_nodes]\n",
        "      outputs = model(train_sample.x, A) # Output shape: [num_nodes, classes]\n",
        "\n",
        "      loss = criterion(outputs, C) - 0.0029 * neighbor_distance_regularizer(model.theta) + theta_regularizer(model.theta)\n",
        "      \n",
        "      # Backward pass and optimize\n",
        "      loss.backward()\n",
        "      optimizer.step()\n",
        "      #loss.step()\n",
        "      train_loss += loss.item()\n",
        "\n",
        "    # Validation step\n",
        "    if epoch%5 == 0:\n",
        "      val_loss =.0 #Reset validation loss\n",
        "      val_acc = .0 #Reset validation accuracy\n",
        "      val_f1 = .0 #Reset f1 score\n",
        "      with torch.no_grad():\n",
        "        for val_sample in validation_loader:\n",
        "          val_sample.to(device)\n",
        "          A = to_dense_adj(val_sample.edge_index, \n",
        "                        batch=val_sample.batch, # Important for correct batch processing if batch_size > 1\n",
        "                        edge_attr=val_sample.edge_attr, \n",
        "                        max_num_nodes=num_nodes).squeeze(0) # Squeeze for batch_size=1\n",
        "          out = model(val_sample.x, A)\n",
        "\n",
        "          y = val_sample.y.detach().cpu() # Obtain the y labels\n",
        "          preds = (out > 0).float().detach().cpu().squeeze() #get the predicted logits\n",
        "\n",
        "          val_loss += criterion(out, val_sample.y.unsqueeze(1).float()).item()\n",
        "          val_acc += accuracy_score(y, preds)\n",
        "          val_f1 += f1_score(y, preds)\n",
        "          #val_mcc += matthews_corrcoef() \n",
        "\n",
        "        print(f\"Epoch {epoch+1}/{num_epochs},  train_loss={train_loss:.4f}, val_loss={(val_loss/len(validation_loader)):.4f}, val_acc={(val_acc/len(validation_loader)):.4f}, val_f1={(val_f1/len(validation_loader)):.4f}\")\n",
        "     \n",
        "print(\"Training finished.\")"
      ]
    },
    {
      "cell_type": "markdown",
      "metadata": {},
      "source": [
        "## Test the model"
      ]
    },
    {
      "cell_type": "code",
      "execution_count": 203,
      "metadata": {},
      "outputs": [],
      "source": [
        "test_loader = DataLoader(test_dataset, batch_size=1, shuffle=True)"
      ]
    },
    {
      "cell_type": "code",
      "execution_count": null,
      "metadata": {},
      "outputs": [
        {
          "ename": "RuntimeError",
          "evalue": "mat1 and mat2 shapes cannot be multiplied (6x80 and 85x527)",
          "output_type": "error",
          "traceback": [
            "\u001b[31m---------------------------------------------------------------------------\u001b[39m",
            "\u001b[31mRuntimeError\u001b[39m                              Traceback (most recent call last)",
            "\u001b[36mCell\u001b[39m\u001b[36m \u001b[39m\u001b[32mIn[204]\u001b[39m\u001b[32m, line 24\u001b[39m\n\u001b[32m     21\u001b[39m C = data.y.unsqueeze(dim=\u001b[32m1\u001b[39m).float() \n\u001b[32m     23\u001b[39m \u001b[38;5;66;03m# --- Forward pass and Loss Calculation ---\u001b[39;00m\n\u001b[32m---> \u001b[39m\u001b[32m24\u001b[39m outputs = \u001b[43mmodel\u001b[49m\u001b[43m(\u001b[49m\u001b[43mX\u001b[49m\u001b[43m,\u001b[49m\u001b[43m \u001b[49m\u001b[43mA\u001b[49m\u001b[43m)\u001b[49m\n\u001b[32m     25\u001b[39m loss = criterion(outputs, C)  \u001b[38;5;66;03m# Note: Regularizers are often omitted during evaluation\u001b[39;00m\n\u001b[32m     26\u001b[39m total_test_loss += loss.item()\n",
            "\u001b[36mFile \u001b[39m\u001b[32m~/Documents/Unipd/Tesi/TemporalGNNReview/code/tesi_venv/lib/python3.12/site-packages/torch/nn/modules/module.py:1751\u001b[39m, in \u001b[36mModule._wrapped_call_impl\u001b[39m\u001b[34m(self, *args, **kwargs)\u001b[39m\n\u001b[32m   1749\u001b[39m     \u001b[38;5;28;01mreturn\u001b[39;00m \u001b[38;5;28mself\u001b[39m._compiled_call_impl(*args, **kwargs)  \u001b[38;5;66;03m# type: ignore[misc]\u001b[39;00m\n\u001b[32m   1750\u001b[39m \u001b[38;5;28;01melse\u001b[39;00m:\n\u001b[32m-> \u001b[39m\u001b[32m1751\u001b[39m     \u001b[38;5;28;01mreturn\u001b[39;00m \u001b[38;5;28;43mself\u001b[39;49m\u001b[43m.\u001b[49m\u001b[43m_call_impl\u001b[49m\u001b[43m(\u001b[49m\u001b[43m*\u001b[49m\u001b[43margs\u001b[49m\u001b[43m,\u001b[49m\u001b[43m \u001b[49m\u001b[43m*\u001b[49m\u001b[43m*\u001b[49m\u001b[43mkwargs\u001b[49m\u001b[43m)\u001b[49m\n",
            "\u001b[36mFile \u001b[39m\u001b[32m~/Documents/Unipd/Tesi/TemporalGNNReview/code/tesi_venv/lib/python3.12/site-packages/torch/nn/modules/module.py:1762\u001b[39m, in \u001b[36mModule._call_impl\u001b[39m\u001b[34m(self, *args, **kwargs)\u001b[39m\n\u001b[32m   1757\u001b[39m \u001b[38;5;66;03m# If we don't have any hooks, we want to skip the rest of the logic in\u001b[39;00m\n\u001b[32m   1758\u001b[39m \u001b[38;5;66;03m# this function, and just call forward.\u001b[39;00m\n\u001b[32m   1759\u001b[39m \u001b[38;5;28;01mif\u001b[39;00m \u001b[38;5;129;01mnot\u001b[39;00m (\u001b[38;5;28mself\u001b[39m._backward_hooks \u001b[38;5;129;01mor\u001b[39;00m \u001b[38;5;28mself\u001b[39m._backward_pre_hooks \u001b[38;5;129;01mor\u001b[39;00m \u001b[38;5;28mself\u001b[39m._forward_hooks \u001b[38;5;129;01mor\u001b[39;00m \u001b[38;5;28mself\u001b[39m._forward_pre_hooks\n\u001b[32m   1760\u001b[39m         \u001b[38;5;129;01mor\u001b[39;00m _global_backward_pre_hooks \u001b[38;5;129;01mor\u001b[39;00m _global_backward_hooks\n\u001b[32m   1761\u001b[39m         \u001b[38;5;129;01mor\u001b[39;00m _global_forward_hooks \u001b[38;5;129;01mor\u001b[39;00m _global_forward_pre_hooks):\n\u001b[32m-> \u001b[39m\u001b[32m1762\u001b[39m     \u001b[38;5;28;01mreturn\u001b[39;00m \u001b[43mforward_call\u001b[49m\u001b[43m(\u001b[49m\u001b[43m*\u001b[49m\u001b[43margs\u001b[49m\u001b[43m,\u001b[49m\u001b[43m \u001b[49m\u001b[43m*\u001b[49m\u001b[43m*\u001b[49m\u001b[43mkwargs\u001b[49m\u001b[43m)\u001b[49m\n\u001b[32m   1764\u001b[39m result = \u001b[38;5;28;01mNone\u001b[39;00m\n\u001b[32m   1765\u001b[39m called_always_called_hooks = \u001b[38;5;28mset\u001b[39m()\n",
            "\u001b[36mFile \u001b[39m\u001b[32m~/Documents/Unipd/Tesi/TemporalGNNReview/code/models/DGDNN/Model/dgdnn.py:57\u001b[39m, in \u001b[36mDGDNN.forward\u001b[39m\u001b[34m(self, X, A)\u001b[39m\n\u001b[32m     52\u001b[39m theta_prob = F.softmax(\u001b[38;5;28mself\u001b[39m.theta, dim=-\u001b[32m1\u001b[39m)      \u001b[38;5;66;03m# sum-to-1\u001b[39;00m\n\u001b[32m     56\u001b[39m \u001b[38;5;28;01mfor\u001b[39;00m l \u001b[38;5;129;01min\u001b[39;00m \u001b[38;5;28mrange\u001b[39m(\u001b[38;5;28mself\u001b[39m.T.shape[\u001b[32m0\u001b[39m]):\n\u001b[32m---> \u001b[39m\u001b[32m57\u001b[39m     z = \u001b[38;5;28;43mself\u001b[39;49m\u001b[43m.\u001b[49m\u001b[43mdiffusion_layers\u001b[49m\u001b[43m[\u001b[49m\u001b[43ml\u001b[49m\u001b[43m]\u001b[49m\u001b[43m(\u001b[49m\u001b[43mtheta_pos\u001b[49m\u001b[43m[\u001b[49m\u001b[43ml\u001b[49m\u001b[43m]\u001b[49m\u001b[43m,\u001b[49m\u001b[43m \u001b[49m\u001b[38;5;28;43mself\u001b[39;49m\u001b[43m.\u001b[49m\u001b[43mT\u001b[49m\u001b[43m[\u001b[49m\u001b[43ml\u001b[49m\u001b[43m]\u001b[49m\u001b[43m,\u001b[49m\u001b[43m \u001b[49m\u001b[43mz\u001b[49m\u001b[43m,\u001b[49m\u001b[43m \u001b[49m\u001b[43mA\u001b[49m\u001b[43m)\u001b[49m\n\u001b[32m     58\u001b[39m     h = \u001b[38;5;28mself\u001b[39m.cat_attn_layers[l](z, h)\n\u001b[32m     60\u001b[39m \u001b[38;5;28;01mreturn\u001b[39;00m \u001b[38;5;28mself\u001b[39m.linear(h)\n",
            "\u001b[36mFile \u001b[39m\u001b[32m~/Documents/Unipd/Tesi/TemporalGNNReview/code/tesi_venv/lib/python3.12/site-packages/torch/nn/modules/module.py:1751\u001b[39m, in \u001b[36mModule._wrapped_call_impl\u001b[39m\u001b[34m(self, *args, **kwargs)\u001b[39m\n\u001b[32m   1749\u001b[39m     \u001b[38;5;28;01mreturn\u001b[39;00m \u001b[38;5;28mself\u001b[39m._compiled_call_impl(*args, **kwargs)  \u001b[38;5;66;03m# type: ignore[misc]\u001b[39;00m\n\u001b[32m   1750\u001b[39m \u001b[38;5;28;01melse\u001b[39;00m:\n\u001b[32m-> \u001b[39m\u001b[32m1751\u001b[39m     \u001b[38;5;28;01mreturn\u001b[39;00m \u001b[38;5;28;43mself\u001b[39;49m\u001b[43m.\u001b[49m\u001b[43m_call_impl\u001b[49m\u001b[43m(\u001b[49m\u001b[43m*\u001b[49m\u001b[43margs\u001b[49m\u001b[43m,\u001b[49m\u001b[43m \u001b[49m\u001b[43m*\u001b[49m\u001b[43m*\u001b[49m\u001b[43mkwargs\u001b[49m\u001b[43m)\u001b[49m\n",
            "\u001b[36mFile \u001b[39m\u001b[32m~/Documents/Unipd/Tesi/TemporalGNNReview/code/tesi_venv/lib/python3.12/site-packages/torch/nn/modules/module.py:1762\u001b[39m, in \u001b[36mModule._call_impl\u001b[39m\u001b[34m(self, *args, **kwargs)\u001b[39m\n\u001b[32m   1757\u001b[39m \u001b[38;5;66;03m# If we don't have any hooks, we want to skip the rest of the logic in\u001b[39;00m\n\u001b[32m   1758\u001b[39m \u001b[38;5;66;03m# this function, and just call forward.\u001b[39;00m\n\u001b[32m   1759\u001b[39m \u001b[38;5;28;01mif\u001b[39;00m \u001b[38;5;129;01mnot\u001b[39;00m (\u001b[38;5;28mself\u001b[39m._backward_hooks \u001b[38;5;129;01mor\u001b[39;00m \u001b[38;5;28mself\u001b[39m._backward_pre_hooks \u001b[38;5;129;01mor\u001b[39;00m \u001b[38;5;28mself\u001b[39m._forward_hooks \u001b[38;5;129;01mor\u001b[39;00m \u001b[38;5;28mself\u001b[39m._forward_pre_hooks\n\u001b[32m   1760\u001b[39m         \u001b[38;5;129;01mor\u001b[39;00m _global_backward_pre_hooks \u001b[38;5;129;01mor\u001b[39;00m _global_backward_hooks\n\u001b[32m   1761\u001b[39m         \u001b[38;5;129;01mor\u001b[39;00m _global_forward_hooks \u001b[38;5;129;01mor\u001b[39;00m _global_forward_pre_hooks):\n\u001b[32m-> \u001b[39m\u001b[32m1762\u001b[39m     \u001b[38;5;28;01mreturn\u001b[39;00m \u001b[43mforward_call\u001b[49m\u001b[43m(\u001b[49m\u001b[43m*\u001b[49m\u001b[43margs\u001b[49m\u001b[43m,\u001b[49m\u001b[43m \u001b[49m\u001b[43m*\u001b[49m\u001b[43m*\u001b[49m\u001b[43mkwargs\u001b[49m\u001b[43m)\u001b[49m\n\u001b[32m   1764\u001b[39m result = \u001b[38;5;28;01mNone\u001b[39;00m\n\u001b[32m   1765\u001b[39m called_always_called_hooks = \u001b[38;5;28mset\u001b[39m()\n",
            "\u001b[36mFile \u001b[39m\u001b[32m~/Documents/Unipd/Tesi/TemporalGNNReview/code/models/DGDNN/Model/GGD.py:17\u001b[39m, in \u001b[36mGeneralizedGraphDiffusion.forward\u001b[39m\u001b[34m(self, theta, t, x, a)\u001b[39m\n\u001b[32m     14\u001b[39m \u001b[38;5;28;01mfor\u001b[39;00m i \u001b[38;5;129;01min\u001b[39;00m \u001b[38;5;28mrange\u001b[39m(theta.shape[\u001b[32m0\u001b[39m]): \u001b[38;5;66;03m# for each layer\u001b[39;00m\n\u001b[32m     15\u001b[39m     q += theta[i] * t[i]\n\u001b[32m---> \u001b[39m\u001b[32m17\u001b[39m x = \u001b[38;5;28;43mself\u001b[39;49m\u001b[43m.\u001b[49m\u001b[43mfc\u001b[49m\u001b[43m(\u001b[49m\u001b[43m(\u001b[49m\u001b[43mq\u001b[49m\u001b[43m \u001b[49m\u001b[43m*\u001b[49m\u001b[43m \u001b[49m\u001b[43ma\u001b[49m\u001b[43m)\u001b[49m\u001b[43m \u001b[49m\u001b[43m@\u001b[49m\u001b[43m \u001b[49m\u001b[43mx\u001b[49m\u001b[43m)\u001b[49m \u001b[38;5;66;03m#diffusion step\u001b[39;00m\n\u001b[32m     18\u001b[39m \u001b[38;5;28;01mif\u001b[39;00m \u001b[38;5;28mself\u001b[39m.active:\n\u001b[32m     19\u001b[39m     x = \u001b[38;5;28mself\u001b[39m.activation0(x)\n",
            "\u001b[36mFile \u001b[39m\u001b[32m~/Documents/Unipd/Tesi/TemporalGNNReview/code/tesi_venv/lib/python3.12/site-packages/torch/nn/modules/module.py:1751\u001b[39m, in \u001b[36mModule._wrapped_call_impl\u001b[39m\u001b[34m(self, *args, **kwargs)\u001b[39m\n\u001b[32m   1749\u001b[39m     \u001b[38;5;28;01mreturn\u001b[39;00m \u001b[38;5;28mself\u001b[39m._compiled_call_impl(*args, **kwargs)  \u001b[38;5;66;03m# type: ignore[misc]\u001b[39;00m\n\u001b[32m   1750\u001b[39m \u001b[38;5;28;01melse\u001b[39;00m:\n\u001b[32m-> \u001b[39m\u001b[32m1751\u001b[39m     \u001b[38;5;28;01mreturn\u001b[39;00m \u001b[38;5;28;43mself\u001b[39;49m\u001b[43m.\u001b[49m\u001b[43m_call_impl\u001b[49m\u001b[43m(\u001b[49m\u001b[43m*\u001b[49m\u001b[43margs\u001b[49m\u001b[43m,\u001b[49m\u001b[43m \u001b[49m\u001b[43m*\u001b[49m\u001b[43m*\u001b[49m\u001b[43mkwargs\u001b[49m\u001b[43m)\u001b[49m\n",
            "\u001b[36mFile \u001b[39m\u001b[32m~/Documents/Unipd/Tesi/TemporalGNNReview/code/tesi_venv/lib/python3.12/site-packages/torch/nn/modules/module.py:1762\u001b[39m, in \u001b[36mModule._call_impl\u001b[39m\u001b[34m(self, *args, **kwargs)\u001b[39m\n\u001b[32m   1757\u001b[39m \u001b[38;5;66;03m# If we don't have any hooks, we want to skip the rest of the logic in\u001b[39;00m\n\u001b[32m   1758\u001b[39m \u001b[38;5;66;03m# this function, and just call forward.\u001b[39;00m\n\u001b[32m   1759\u001b[39m \u001b[38;5;28;01mif\u001b[39;00m \u001b[38;5;129;01mnot\u001b[39;00m (\u001b[38;5;28mself\u001b[39m._backward_hooks \u001b[38;5;129;01mor\u001b[39;00m \u001b[38;5;28mself\u001b[39m._backward_pre_hooks \u001b[38;5;129;01mor\u001b[39;00m \u001b[38;5;28mself\u001b[39m._forward_hooks \u001b[38;5;129;01mor\u001b[39;00m \u001b[38;5;28mself\u001b[39m._forward_pre_hooks\n\u001b[32m   1760\u001b[39m         \u001b[38;5;129;01mor\u001b[39;00m _global_backward_pre_hooks \u001b[38;5;129;01mor\u001b[39;00m _global_backward_hooks\n\u001b[32m   1761\u001b[39m         \u001b[38;5;129;01mor\u001b[39;00m _global_forward_hooks \u001b[38;5;129;01mor\u001b[39;00m _global_forward_pre_hooks):\n\u001b[32m-> \u001b[39m\u001b[32m1762\u001b[39m     \u001b[38;5;28;01mreturn\u001b[39;00m \u001b[43mforward_call\u001b[49m\u001b[43m(\u001b[49m\u001b[43m*\u001b[49m\u001b[43margs\u001b[49m\u001b[43m,\u001b[49m\u001b[43m \u001b[49m\u001b[43m*\u001b[49m\u001b[43m*\u001b[49m\u001b[43mkwargs\u001b[49m\u001b[43m)\u001b[49m\n\u001b[32m   1764\u001b[39m result = \u001b[38;5;28;01mNone\u001b[39;00m\n\u001b[32m   1765\u001b[39m called_always_called_hooks = \u001b[38;5;28mset\u001b[39m()\n",
            "\u001b[36mFile \u001b[39m\u001b[32m~/Documents/Unipd/Tesi/TemporalGNNReview/code/tesi_venv/lib/python3.12/site-packages/torch/nn/modules/linear.py:125\u001b[39m, in \u001b[36mLinear.forward\u001b[39m\u001b[34m(self, input)\u001b[39m\n\u001b[32m    124\u001b[39m \u001b[38;5;28;01mdef\u001b[39;00m\u001b[38;5;250m \u001b[39m\u001b[34mforward\u001b[39m(\u001b[38;5;28mself\u001b[39m, \u001b[38;5;28minput\u001b[39m: Tensor) -> Tensor:\n\u001b[32m--> \u001b[39m\u001b[32m125\u001b[39m     \u001b[38;5;28;01mreturn\u001b[39;00m \u001b[43mF\u001b[49m\u001b[43m.\u001b[49m\u001b[43mlinear\u001b[49m\u001b[43m(\u001b[49m\u001b[38;5;28;43minput\u001b[39;49m\u001b[43m,\u001b[49m\u001b[43m \u001b[49m\u001b[38;5;28;43mself\u001b[39;49m\u001b[43m.\u001b[49m\u001b[43mweight\u001b[49m\u001b[43m,\u001b[49m\u001b[43m \u001b[49m\u001b[38;5;28;43mself\u001b[39;49m\u001b[43m.\u001b[49m\u001b[43mbias\u001b[49m\u001b[43m)\u001b[49m\n",
            "\u001b[31mRuntimeError\u001b[39m: mat1 and mat2 shapes cannot be multiplied (6x80 and 85x527)"
          ]
        }
      ],
      "source": [
        "# Use torch.no_grad() for evaluation to improve speed and save memory\n",
        "model.eval()\n",
        "criterion = nn.BCEWithLogitsLoss()\n",
        "\n",
        "all_logits = []\n",
        "all_labels = []\n",
        "total_test_loss = 0\n",
        "\n",
        "with torch.no_grad():  # Deactivates autograd for efficiency\n",
        "    for test_sample in test_loader:\n",
        "        test_sample = test_sample.to(device)\n",
        "        \n",
        "        # --- X Preparation ---\n",
        "        X = test_sample.x\n",
        "        A = to_dense_adj(test_sample.edge_index,\n",
        "                         batch=test_sample.batch,\n",
        "                         edge_attr=test_sample.edge_attr,\n",
        "                         max_num_nodes=num_nodes).squeeze(0)\n",
        "        \n",
        "        # Use test_sample.y for labels and prepare for loss calculation\n",
        "        C = test_sample.y.unsqueeze(dim=1).float() \n",
        "        \n",
        "        # --- Forward pass and Loss Calculation ---\n",
        "        outputs = model(X, A)\n",
        "        loss = criterion(outputs, C)  # Note: Regularizers are often omitted during evaluation\n",
        "        total_test_loss += loss.item()\n",
        "        \n",
        "        # --- Accumulate logits and labels ---\n",
        "      \n",
        "\n",
        "# TO FINISH ci sta\n"
      ]
    },
    {
      "cell_type": "markdown",
      "metadata": {},
      "source": [
        "# Model 3. Temporal GNN"
      ]
    },
    {
      "cell_type": "code",
      "execution_count": 17,
      "metadata": {},
      "outputs": [
        {
          "data": {
            "text/plain": [
              "164481"
            ]
          },
          "execution_count": 17,
          "metadata": {},
          "output_type": "execute_result"
        }
      ],
      "source": [
        "class TemporalGNN(nn.Module):\n",
        "    def __init__(self, in_channels, hidden_channels, out_channels, dropout=0.2):\n",
        "        super(TemporalGNN, self).__init__()\n",
        "        self.recurrent1 = GConvGRU(in_channels, hidden_channels, K=2)\n",
        "        #self.recurrent2 = GConvGRU(hidden_channels, hidden_channels, K=2)\n",
        "        #self.recurrent3 = GConvGRU(hidden_channels, hidden_channels, K=2)\n",
        "        self.dropout = nn.Dropout(dropout)\n",
        "        self.linear = nn.Linear(hidden_channels, out_channels)\n",
        "\n",
        "    def forward(self, x, edge_index, edge_weight):\n",
        "        h1 = None\n",
        "        h2 = None\n",
        "        h3 = None\n",
        "        h1 = self.recurrent1(x, edge_index, edge_weight, h1)\n",
        "        #h2 = self.recurrent2(h1, edge_index, edge_weight, h2)\n",
        "        #h3 = self.recurrent3(h2, edge_index, edge_weight, h3)\n",
        "        h = F.relu(h1)\n",
        "        h = self.dropout(h)  # Dropout before final layer\n",
        "        out = self.linear(h)\n",
        "        return out\n",
        "\n",
        "\n",
        "input_dim = 5 * timestamp\n",
        "hidden_dim = 128\n",
        "output_dim = 1\n",
        "\n",
        "model_TemporalGNN = TemporalGNN(input_dim, hidden_dim, output_dim).to(device)\n",
        "sum([p.numel() for p in model_TemporalGNN.parameters()])"
      ]
    },
    {
      "cell_type": "markdown",
      "metadata": {},
      "source": [
        "## Train Temporal_GNN"
      ]
    },
    {
      "cell_type": "code",
      "execution_count": 18,
      "metadata": {},
      "outputs": [],
      "source": [
        "train_loader = DataLoader(train_dataset, batch_size=1, shuffle=True)\n",
        "val_loader = DataLoader(validation_dataset, batch_size=1, shuffle=True)\n",
        "test_loader = DataLoader(test_dataset, batch_size=1, shuffle=True)\n"
      ]
    },
    {
      "cell_type": "code",
      "execution_count": 19,
      "metadata": {},
      "outputs": [
        {
          "name": "stdout",
          "output_type": "stream",
          "text": [
            "Epoch 1/30,  train_loss=458.3627, val_loss=0.7047, val_acc=0.4859, val_f1=0.5619\n",
            "Epoch 6/30,  train_loss=456.1279, val_loss=0.6983, val_acc=0.4965, val_f1=0.5543\n",
            "Epoch 11/30,  train_loss=455.6608, val_loss=0.6993, val_acc=0.4936, val_f1=0.5567\n",
            "Epoch 16/30,  train_loss=455.0621, val_loss=0.6953, val_acc=0.5056, val_f1=0.4692\n",
            "Epoch 21/30,  train_loss=455.4373, val_loss=0.6963, val_acc=0.4929, val_f1=0.5448\n",
            "Epoch 26/30,  train_loss=454.1345, val_loss=0.7008, val_acc=0.4866, val_f1=0.5898\n"
          ]
        }
      ],
      "source": [
        "optimizer = optim.Adam(model_TemporalGNN.parameters(), lr=2e-4, weight_decay=1.5e-5)\n",
        "criterion = nn.BCEWithLogitsLoss() # For binary classification (output is a single logit)\n",
        "num_epochs = 30\n",
        "\n",
        "\n",
        "for epoch in range(num_epochs):\n",
        "    train_loss = .0\n",
        "    train_acc = .0\n",
        "    model_TemporalGNN.train()\n",
        "    for train_sample in train_loader:\n",
        "        train_sample.to(device)\n",
        "        optimizer.zero_grad()\n",
        "        out = model_TemporalGNN(train_sample.x, train_sample.edge_index, train_sample.edge_weight)\n",
        "        loss = criterion( out, train_sample.y.unsqueeze(1).float() )\n",
        "        loss.backward()\n",
        "        train_loss += loss.item()\n",
        "        optimizer.step()\n",
        "        #train_acc += accuracy_score((out.detach().cpu() > 0).float().squeeze(), validation_dataset[10].y.detach().cpu())\n",
        "\n",
        "    if epoch%5 == 0:\n",
        "      val_loss =.0 #Reset validation loss\n",
        "      val_acc = .0 #Reset validation accuracy\n",
        "      val_f1 = .0 #Reset f1 score\n",
        "      with torch.no_grad():\n",
        "        for val_sample in validation_loader:\n",
        "          val_sample.to(device)\n",
        "          out = model_TemporalGNN(val_sample.x, val_sample.edge_index, val_sample.edge_attr)\n",
        "\n",
        "          y = val_sample.y.detach().cpu() # Obtain the y labels\n",
        "          preds = (out > 0).float().detach().cpu().squeeze() #get the predicted logits\n",
        "\n",
        "          val_loss += criterion(out, val_sample.y.unsqueeze(1).float()).item()\n",
        "          val_acc += accuracy_score(y, preds)\n",
        "          val_f1 += f1_score(y, preds)\n",
        "          #val_mcc += matthews_corrcoef() \n",
        "\n",
        "        print(f\"Epoch {epoch+1}/{num_epochs},  train_loss={train_loss:.4f}, val_loss={(val_loss/len(validation_loader)):.4f}, val_acc={(val_acc/len(validation_loader)):.4f}, val_f1={(val_f1/len(validation_loader)):.4f}\")\n",
        "\n",
        "\n",
        "\n"
      ]
    },
    {
      "cell_type": "markdown",
      "metadata": {},
      "source": [
        "## Temp maybe usefull"
      ]
    },
    {
      "cell_type": "code",
      "execution_count": 20,
      "metadata": {},
      "outputs": [],
      "source": [
        "from torch_geometric_temporal.signal import DynamicGraphTemporalSignal #Handle dynamic temporal graph"
      ]
    }
  ],
  "metadata": {
    "colab": {
      "provenance": []
    },
    "kernelspec": {
      "display_name": "tesi_venv",
      "language": "python",
      "name": "python3"
    },
    "language_info": {
      "codemirror_mode": {
        "name": "ipython",
        "version": 3
      },
      "file_extension": ".py",
      "mimetype": "text/x-python",
      "name": "python",
      "nbconvert_exporter": "python",
      "pygments_lexer": "ipython3",
      "version": "3.12.7"
    }
  },
  "nbformat": 4,
  "nbformat_minor": 0
}
