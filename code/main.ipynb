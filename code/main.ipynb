{
  "cells": [
    {
      "cell_type": "markdown",
      "metadata": {
        "id": "EKwzdnNJ6C9k"
      },
      "source": []
    },
    {
      "cell_type": "code",
      "execution_count": 2,
      "metadata": {
        "colab": {
          "base_uri": "https://localhost:8080/",
          "height": 36
        },
        "id": "dnJby9Bg5PKX",
        "outputId": "ced7382a-cbc2-4030-dc2f-0dd5ecae0351"
      },
      "outputs": [
        {
          "data": {
            "text/plain": [
              "('2.7.0+cu126', '12.6')"
            ]
          },
          "execution_count": 2,
          "metadata": {},
          "output_type": "execute_result"
        }
      ],
      "source": [
        "import numpy as np\n",
        "import pandas as pd\n",
        "import csv\n",
        "import time\n",
        "#torch\n",
        "import torch\n",
        "import torch.nn as nn\n",
        "import torch.optim as optim\n",
        "from torch_geometric.loader import DataLoader # For batching graph data\n",
        "from torch_geometric.utils import to_dense_adj\n",
        "import torch.nn.functional as F\n",
        "\n",
        "#sklearn\n",
        "from sklearn.metrics import accuracy_score, f1_score, matthews_corrcoef\n",
        "\n",
        "# objective functions\n",
        "from utils import theta_regularizer, neighbor_distance_regularizer\n",
        "\n",
        "#Visualize and create graph/charts\n",
        "import networkx as nx\n",
        "import matplotlib.pyplot as plt\n",
        "\n",
        "#Path managment\n",
        "import os\n",
        "import sys\n",
        "\n",
        "\n",
        "\n",
        "from IPython.display import clear_output\n",
        "device = 'cuda' if torch.cuda.is_available() else 'cpu'\n",
        "torch.seed = 1234\n",
        "torch.__version__, torch.version.cuda"
      ]
    },
    {
      "cell_type": "code",
      "execution_count": 1,
      "metadata": {},
      "outputs": [],
      "source": [
        "# To reload modulse if needed\n",
        "%reload_ext autoreload\n",
        "%autoreload 2"
      ]
    },
    {
      "cell_type": "markdown",
      "metadata": {},
      "source": [
        "### Add the DGDNN libraries into the path to get Data"
      ]
    },
    {
      "cell_type": "code",
      "execution_count": 8,
      "metadata": {},
      "outputs": [],
      "source": [
        "current_dir = os.getcwd() #till /.../home/..../code\n",
        "\n",
        "\n",
        "model_path = os.path.join(current_dir, 'models/DGDNN/Model')\n",
        "if model_path not in sys.path:\n",
        "    sys.path.insert(0, model_path)\n",
        "data_path = os.path.join(current_dir, 'models/DGDNN/Data')\n",
        "if data_path not in sys.path:\n",
        "    sys.path.insert(0, data_path)\n"
      ]
    },
    {
      "cell_type": "markdown",
      "metadata": {},
      "source": [
        "# The dataset "
      ]
    },
    {
      "cell_type": "code",
      "execution_count": 9,
      "metadata": {},
      "outputs": [],
      "source": [
        "from geometric_dataset_gen import MyDataset as MyGeometricDataset\n",
        "from dataset_gen import MyDataset "
      ]
    },
    {
      "cell_type": "code",
      "execution_count": 10,
      "metadata": {},
      "outputs": [],
      "source": [
        "# # Configure the default variables // # these can be tuned // # examples\n",
        "sedate = ['2013-01-01', '2014-12-31']  # these can be tuned\n",
        "val_sedate = ['2015-01-01', '2015-06-30'] # these can be tuned\n",
        "test_sedate = ['2015-07-01', '2017-12-31'] # these can be tuned\n",
        "market = ['NASDAQ', 'NYSE', 'SSE'] # can be changed\n",
        "dataset_type = ['Train', 'Validation', 'Test']\n",
        "\n",
        "com_path = [f'{current_dir}/data/datasets/NASDAQ.csv',\n",
        "            f'{current_dir}/data/datasets/NYSE.csv',\n",
        "            f'{current_dir}/data/datasets/NYSE_missing.csv'\n",
        "            ] # Where the company tickers are\n",
        "\n",
        "des = f\"{current_dir}/data/datasets/graph_snapshots/\" # Where to save the processed graphs\n",
        "\n",
        "# directory = \"/Users/mirco/Documents/Tesi/code/data/datasets/America_Stocks\" \n",
        "# window = 19\n",
        "# NASDAQ_com_list = []\n",
        "# NYSE_com_list = []\n",
        "# NYSE_missing_list = []\n",
        "# com_list = [NASDAQ_com_list, NYSE_com_list, NYSE_missing_list] #Ticker lists\n",
        "\n",
        "# for idx, path in enumerate(com_path): #Per each ticker folder get the path and index\n",
        "#     with open(path) as f:\n",
        "#         file = csv.reader(f)\n",
        "#         for line in file:\n",
        "#             com_list[idx].append(line[0])  # append first element of line if each line is a list\n",
        "# NYSE_com_list = [com for com in NYSE_com_list if com not in NYSE_missing_list] #Filter the com on NYSE since they are missing \n",
        "# fast_approx = False # True for fast approximation and implementation\n",
        "# # Generate datasets\n"
      ]
    },
    {
      "cell_type": "code",
      "execution_count": 182,
      "metadata": {},
      "outputs": [],
      "source": [
        "dir = f'{current_dir}/data/datasets/America_Stocks'\n",
        "dest = f'{current_dir}/data/datasets/graph/'\n",
        "market = 'NASDAQ'\n",
        "company_list = ['AAPL', 'ACWI',\n",
        "'ADSK',\n",
        "'ADTN',\n",
        "'ADUS',\n",
        "'AEGN']\n",
        "\n",
        "train_sedate = ['2012-05-01', '2014-12-31']  # these can be tuned\n",
        "val_sedate = ['2015-01-01', '2015-12-31'] # these can be tuned\n",
        "test_sedate = ['2016-01-01', '2016-06-30'] # these can be tuned\n",
        "dataset_type = ['Train', 'Validation', 'Test']\n",
        "window_size = 17# \n",
        "dataset_label = 'train'\n",
        "use_fast_approximation = False\n",
        "\n",
        "print(\"-\"*5, \"Building train dataset...\" , \"-\"*5)\n",
        "train_dataset = MyGeometricDataset(dir, dest, market, company_list, train_sedate[0], train_sedate[1], window_size, dataset_type[0], use_fast_approximation) \n",
        "print(\"-\"*5, \"Building validation dataset...\" , \"-\"*5)\n",
        "validation_dataset = MyGeometricDataset(dir, dest, market, company_list, val_sedate[0], val_sedate[1], window_size, dataset_type[1], use_fast_approximation)\n",
        "print(\"-\"*5, \"Building test dataset...\" , \"-\"*5)\n",
        "test_dataset = MyGeometricDataset(dir, dest, market, company_list, test_sedate[0], test_sedate[1], window_size, dataset_type[2], use_fast_approximation)\n",
        "clear_output()\n"
      ]
    },
    {
      "cell_type": "code",
      "execution_count": 12,
      "metadata": {},
      "outputs": [
        {
          "name": "stdout",
          "output_type": "stream",
          "text": [
            "Number of snapshots graph of the dataset: 671\n",
            "Graph snapshot structure: Data(x=[6, 10], edge_index=[2, 36], edge_attr=[36], y=[6])\n",
            "Number of nodes: 6\n",
            "Number of target labels: 6\n"
          ]
        }
      ],
      "source": [
        "print(f\"Number of snapshots graph of the dataset: {len(train_dataset)}\")\n",
        "print(f\"Graph snapshot structure: {train_dataset[0]}\")\n",
        "print(f\"Number of nodes: {len(train_dataset[0].x)}\")\n",
        "print(f\"Number of target labels: {len(train_dataset[0].y)}\")"
      ]
    },
    {
      "cell_type": "code",
      "execution_count": 13,
      "metadata": {},
      "outputs": [
        {
          "name": "stdout",
          "output_type": "stream",
          "text": [
            "\n",
            "Visualizing Graph...\n",
            "Number of nodes: 6\n",
            "Number of edges: 21\n",
            "tensor([0, 0, 0, 0, 0, 0])\n"
          ]
        },
        {
          "data": {
            "image/png": "[encoded data removed]",
            "text/plain": [
              "<Figure size 500x500 with 1 Axes>"
            ]
          },
          "metadata": {},
          "output_type": "display_data"
        }
      ],
      "source": [
        "def visualize_geometric_graph(data_sample):\n",
        "    \"\"\"\n",
        "    Visualizes a single torch_geometric.data.Data graph sample.\n",
        "    \"\"\"\n",
        "    # Create a NetworkX graph object\n",
        "    G = nx.Graph()\n",
        "\n",
        "    # The edge_index tensor is of shape [2, num_edges].\n",
        "    # We need to transpose it and convert to a list of tuples.\n",
        "    edge_list = data_sample.edge_index.t().tolist()\n",
        "\n",
        "    # Add edges to the graph. Nodes are added automatically.\n",
        "    G.add_edges_from(edge_list)\n",
        "\n",
        "    print(f\"\\nVisualizing Graph...\")\n",
        "    print(f\"Number of nodes: {G.number_of_nodes()}\")\n",
        "    print(f\"Number of edges: {G.number_of_edges()}\")\n",
        "\n",
        "    # Use the labels (Y tensor) to color the nodes\n",
        "    # For example, class 0 is blue, class 1 is red\n",
        "    colors = ['red' if label == 0 else 'green' for label in data_sample.y] \n",
        "    print(data_sample.y)\n",
        "    # Draw the graph\n",
        "    plt.figure(figsize=(5, 5))\n",
        "    nx.draw(G, with_labels=True, node_color=colors, node_size=200, font_size=8)\n",
        "    plt.title(\"Graph Visualization\")\n",
        "    plt.show()\n",
        "\n",
        "# Visualize the first graph in the dataset\n",
        "\n",
        "visualize_geometric_graph(train_dataset[0])"
      ]
    },
    {
      "cell_type": "markdown",
      "metadata": {
        "id": "ql-xe2BnPiCf"
      },
      "source": [
        "# Model 1: GConvGRU"
      ]
    },
    {
      "cell_type": "code",
      "execution_count": 14,
      "metadata": {
        "id": "hAP4Vu62Pml2"
      },
      "outputs": [],
      "source": [
        "from torch_geometric_temporal.nn import GConvGRU"
      ]
    },
    {
      "cell_type": "code",
      "execution_count": 104,
      "metadata": {},
      "outputs": [
        {
          "data": {
            "text/plain": [
              "666"
            ]
          },
          "execution_count": 104,
          "metadata": {},
          "output_type": "execute_result"
        }
      ],
      "source": [
        "model_GConvGRU = GConvGRU(10, 1, 20).to(device)\n",
        "\n",
        "sum([p.numel() for p in model_GConvGRU.parameters()])"
      ]
    },
    {
      "cell_type": "code",
      "execution_count": 82,
      "metadata": {},
      "outputs": [],
      "source": [
        "train_loader = DataLoader(train_dataset, batch_size=1, shuffle=True)\n"
      ]
    },
    {
      "cell_type": "code",
      "execution_count": 83,
      "metadata": {},
      "outputs": [],
      "source": [
        "sample = next(iter(train_loader)).to(device)"
      ]
    },
    {
      "cell_type": "markdown",
      "metadata": {},
      "source": [
        "# Train GConvGRU"
      ]
    },
    {
      "cell_type": "code",
      "execution_count": null,
      "metadata": {},
      "outputs": [],
      "source": [
        "optimizer = optim.Adam(model_TemporalGNN.parameters(), lr=0.01, weight_decay=0)\n",
        "criterion = nn.BCEWithLogitsLoss() # For binary classification (output is a single logit)\n",
        "num_epochs = 3000\n",
        "\n",
        "model_TemporalGNN.train()\n",
        "\n",
        "for epoch in range(num_epochs):\n",
        "    \n",
        "    optimizer.zero_grad()\n",
        "    \n",
        "    out = model_TemporalGNN(sample.x, sample.edge_index, sample.edge_weight)\n",
        "\n",
        "    loss = criterion( out, sample.y.unsqueeze(1).float() )\n",
        "\n",
        "    loss.backward()\n",
        "\n",
        "    optimizer.step()\n",
        "\n",
        "    if epoch%50 == 0: print(f\"Loss={loss.item():.6f}\")\n",
        "\n"
      ]
    },
    {
      "cell_type": "markdown",
      "metadata": {
        "id": "zjrSKZOh-Qm5"
      },
      "source": [
        "# Model 2: DGDNN\n",
        "\n",
        "GitHub: https://github.com/pixelhero98/DGDNN"
      ]
    },
    {
      "cell_type": "code",
      "execution_count": 168,
      "metadata": {
        "id": "Km3vpuil-UOY"
      },
      "outputs": [],
      "source": [
        "\n",
        "from dgdnn import DGDNN "
      ]
    },
    {
      "cell_type": "markdown",
      "metadata": {},
      "source": [
        "## Define the model"
      ]
    },
    {
      "cell_type": "code",
      "execution_count": 193,
      "metadata": {},
      "outputs": [],
      "source": [
        "####  Define model\n",
        "layers = 6\n",
        "num_nodes = 6 \n",
        "expansion_step = 7\n",
        "num_heads = 2\n",
        "active_layers = [True, False, False, False, False, False]\n",
        "timestamp = 17  #window\n",
        "classes = 1\n",
        "diffusion_size = [5*timestamp, 31*timestamp, 28*timestamp, 24*timestamp, 20*timestamp, 16*timestamp, 12*timestamp]\n",
        "emb_size = [5 + 31, 64, 28 + 64, 50,\n",
        "            24 + 50, 38, 20 + 38, 24,\n",
        "            16 + 24, 12, 12+12, 10]  \n",
        "\n",
        "#in_size = previous_output + diffusion_size_i\n",
        "\n",
        "model = DGDNN(\n",
        "    diffusion_size=diffusion_size,\n",
        "    embedding_size=emb_size,\n",
        "    classes=1,\n",
        "    layers=layers,\n",
        "    num_nodes=num_nodes,\n",
        "    expansion_step=expansion_step,\n",
        "    num_heads=num_heads,\n",
        "    active=active_layers,\n",
        "    timestamp=timestamp\n",
        ").to(device)"
      ]
    },
    {
      "cell_type": "code",
      "execution_count": 199,
      "metadata": {},
      "outputs": [
        {
          "name": "stdout",
          "output_type": "stream",
          "text": [
            "DataBatch(x=[6, 80], edge_index=[2, 36], edge_attr=[36], y=[6], batch=[6], ptr=[2])\n"
          ]
        }
      ],
      "source": [
        "for el in train_loader:\n",
        "    if el.x.shape[1] != 85:\n",
        "        print(el)"
      ]
    },
    {
      "cell_type": "markdown",
      "metadata": {},
      "source": [
        "## Train DGDNN"
      ]
    },
    {
      "cell_type": "code",
      "execution_count": 194,
      "metadata": {},
      "outputs": [],
      "source": [
        "train_loader = DataLoader(train_dataset, batch_size=1, shuffle=True)\n",
        "validation_loader = DataLoader(validation_dataset, batch_size=1, shuffle=True)\n",
        "test_loader = DataLoader(test_dataset, batch_size=1, shuffle=True)"
      ]
    },
    {
      "cell_type": "code",
      "execution_count": 201,
      "metadata": {},
      "outputs": [
        {
          "name": "stdout",
          "output_type": "stream",
          "text": [
            "Epoch 1/30,  train_loss=450.2773, val_loss=0.7234, val_acc=0.4944, val_f1=0.4607\n",
            "Epoch 2/30,  train_loss=446.8477, val_loss=0.6989, val_acc=0.4930, val_f1=0.4232\n",
            "Epoch 3/30,  train_loss=445.0871, val_loss=0.6946, val_acc=0.4986, val_f1=0.5042\n",
            "Epoch 4/30,  train_loss=449.2333, val_loss=0.6963, val_acc=0.4923, val_f1=0.5535\n",
            "Epoch 5/30,  train_loss=444.3245, val_loss=0.6910, val_acc=0.4951, val_f1=0.5545\n",
            "Epoch 6/30,  train_loss=443.1285, val_loss=0.7194, val_acc=0.4916, val_f1=0.4976\n",
            "Epoch 7/30,  train_loss=444.9821, val_loss=0.6920, val_acc=0.4986, val_f1=0.5042\n",
            "Epoch 8/30,  train_loss=444.3635, val_loss=0.6915, val_acc=0.4803, val_f1=0.5885\n",
            "Epoch 9/30,  train_loss=443.9739, val_loss=0.6925, val_acc=0.4831, val_f1=0.5915\n",
            "Epoch 10/30,  train_loss=443.5404, val_loss=0.6932, val_acc=0.4831, val_f1=0.5915\n",
            "Epoch 11/30,  train_loss=443.7851, val_loss=0.6918, val_acc=0.4944, val_f1=0.5444\n",
            "Epoch 12/30,  train_loss=443.8952, val_loss=0.6917, val_acc=0.4831, val_f1=0.5915\n",
            "Epoch 13/30,  train_loss=443.7591, val_loss=0.6918, val_acc=0.4824, val_f1=0.5908\n",
            "Epoch 14/30,  train_loss=443.7645, val_loss=0.6926, val_acc=0.4831, val_f1=0.5915\n",
            "Epoch 15/30,  train_loss=443.8479, val_loss=0.6932, val_acc=0.4993, val_f1=0.5033\n",
            "Epoch 16/30,  train_loss=443.8283, val_loss=0.6916, val_acc=0.4930, val_f1=0.5526\n",
            "Epoch 17/30,  train_loss=443.8876, val_loss=0.6922, val_acc=0.4831, val_f1=0.5915\n",
            "Epoch 18/30,  train_loss=443.6863, val_loss=0.6919, val_acc=0.4930, val_f1=0.5526\n",
            "Epoch 19/30,  train_loss=443.6643, val_loss=0.6919, val_acc=0.4986, val_f1=0.5042\n",
            "Epoch 20/30,  train_loss=443.7029, val_loss=0.6923, val_acc=0.4831, val_f1=0.5915\n",
            "Epoch 21/30,  train_loss=443.8024, val_loss=0.6919, val_acc=0.4831, val_f1=0.5915\n",
            "Epoch 22/30,  train_loss=443.5019, val_loss=0.6925, val_acc=0.4831, val_f1=0.5915\n",
            "Epoch 23/30,  train_loss=443.7266, val_loss=0.6922, val_acc=0.4831, val_f1=0.5915\n",
            "Epoch 24/30,  train_loss=443.6323, val_loss=0.6923, val_acc=0.4986, val_f1=0.5042\n",
            "Epoch 25/30,  train_loss=443.8273, val_loss=0.6927, val_acc=0.4986, val_f1=0.5042\n",
            "Epoch 26/30,  train_loss=443.3463, val_loss=0.6926, val_acc=0.4831, val_f1=0.5915\n",
            "Epoch 27/30,  train_loss=443.3470, val_loss=0.6933, val_acc=0.4986, val_f1=0.5042\n",
            "Epoch 28/30,  train_loss=443.5636, val_loss=0.6921, val_acc=0.4838, val_f1=0.5917\n",
            "Epoch 29/30,  train_loss=443.6237, val_loss=0.6925, val_acc=0.4831, val_f1=0.5915\n",
            "Epoch 30/30,  train_loss=443.6161, val_loss=0.6926, val_acc=0.4831, val_f1=0.5915\n",
            "Training finished.\n"
          ]
        }
      ],
      "source": [
        "optimizer = optim.Adam(model.parameters(), lr=2e-4, weight_decay=1.5e-5)\n",
        "criterion = nn.BCEWithLogitsLoss() # For binary classification (output is a single logit)\n",
        "num_epochs = 30\n",
        "\n",
        "model.train()\n",
        "for epoch in range(num_epochs):\n",
        "    train_loss = .0\n",
        "    for train_sample in train_loader: # train_sample will be a Batch object, even with batch_size=1\n",
        "      train_sample = train_sample.to(device)\n",
        "      optimizer.zero_grad()\n",
        "\n",
        "      if train_sample.x.shape[1] != timestamp * 5: continue\n",
        "      # Convert edge_index and edge_attr to a dense adjacency matrix\n",
        "      # For batch_size=1, to_dense_adj returns [1, num_nodes, num_nodes]\n",
        "      # Squeeze it to get [num_nodes, num_nodes] as expected by the model.\n",
        "      A = to_dense_adj(train_sample.edge_index, \n",
        "                        batch=train_sample.batch, # Important for correct batch processing if batch_size > 1\n",
        "                        edge_attr=train_sample.edge_attr, \n",
        "                        max_num_nodes=num_nodes).squeeze(0) # Squeeze for batch_size=1\n",
        "      \n",
        "      C = train_sample.y.unsqueeze(dim=1).type(dtype=torch.float32)\n",
        "      # Forward pass\n",
        "      # DGDNN expects X: [num_nodes, features], A: [num_nodes, num_nodes]\n",
        "      outputs = model(train_sample.x, A) # Output shape: [num_nodes, classes]\n",
        "\n",
        "      loss = criterion(outputs, C) - 0.0029 * neighbor_distance_regularizer(model.theta) + theta_regularizer(model.theta)\n",
        "      \n",
        "      # Backward pass and optimize\n",
        "      loss.backward()\n",
        "      optimizer.step()\n",
        "      #loss.step()\n",
        "      train_loss += loss.item()\n",
        "\n",
        "    # Validation step\n",
        "    if epoch%1 == 0:\n",
        "      val_loss =.0 #Reset validation loss\n",
        "      val_acc = .0 #Reset validation accuracy\n",
        "      val_f1 = .0 #Reset f1 score\n",
        "      with torch.no_grad():\n",
        "        for val_sample in validation_loader:\n",
        "          if val_sample.x.shape[1] != timestamp * 5: continue\n",
        "          val_sample.to(device)\n",
        "          A = to_dense_adj(val_sample.edge_index, \n",
        "                        batch=val_sample.batch, # Important for correct batch processing if batch_size > 1\n",
        "                        edge_attr=val_sample.edge_attr, \n",
        "                        max_num_nodes=num_nodes).squeeze(0) # Squeeze for batch_size=1\n",
        "          out = model(val_sample.x, A)\n",
        "\n",
        "          y = val_sample.y.detach().cpu() # Obtain the y labels\n",
        "          preds = (out > 0).float().detach().cpu().squeeze() #get the predicted logits\n",
        "\n",
        "          val_loss += criterion(out, val_sample.y.unsqueeze(1).float()).item()\n",
        "          val_acc += accuracy_score(y, preds)\n",
        "          val_f1 += f1_score(y, preds)\n",
        "          #val_mcc += matthews_corrcoef()\n",
        "\n",
        "        print(f\"Epoch {epoch+1}/{num_epochs},  train_loss={train_loss:.4f}, val_loss={(val_loss/len(validation_loader)):.4f}, val_acc={(val_acc/len(validation_loader)):.4f}, val_f1={(val_f1/len(validation_loader)):.4f}\")\n",
        "     \n",
        "print(\"Training finished.\")"
      ]
    },
    {
      "cell_type": "markdown",
      "metadata": {},
      "source": [
        "## Test the model"
      ]
    },
    {
      "cell_type": "code",
      "execution_count": 203,
      "metadata": {},
      "outputs": [],
      "source": [
        "test_loader = DataLoader(test_dataset, batch_size=1, shuffle=True)"
      ]
    },
    {
      "cell_type": "code",
      "execution_count": 204,
      "metadata": {},
      "outputs": [
        {
          "ename": "RuntimeError",
          "evalue": "mat1 and mat2 shapes cannot be multiplied (6x80 and 85x527)",
          "output_type": "error",
          "traceback": [
            "\u001b[31m---------------------------------------------------------------------------\u001b[39m",
            "\u001b[31mRuntimeError\u001b[39m                              Traceback (most recent call last)",
            "\u001b[36mCell\u001b[39m\u001b[36m \u001b[39m\u001b[32mIn[204]\u001b[39m\u001b[32m, line 24\u001b[39m\n\u001b[32m     21\u001b[39m C = data.y.unsqueeze(dim=\u001b[32m1\u001b[39m).float() \n\u001b[32m     23\u001b[39m \u001b[38;5;66;03m# --- Forward pass and Loss Calculation ---\u001b[39;00m\n\u001b[32m---> \u001b[39m\u001b[32m24\u001b[39m outputs = \u001b[43mmodel\u001b[49m\u001b[43m(\u001b[49m\u001b[43mX\u001b[49m\u001b[43m,\u001b[49m\u001b[43m \u001b[49m\u001b[43mA\u001b[49m\u001b[43m)\u001b[49m\n\u001b[32m     25\u001b[39m loss = criterion(outputs, C)  \u001b[38;5;66;03m# Note: Regularizers are often omitted during evaluation\u001b[39;00m\n\u001b[32m     26\u001b[39m total_test_loss += loss.item()\n",
            "\u001b[36mFile \u001b[39m\u001b[32m~/Documents/Unipd/Tesi/TemporalGNNReview/code/tesi_venv/lib/python3.12/site-packages/torch/nn/modules/module.py:1751\u001b[39m, in \u001b[36mModule._wrapped_call_impl\u001b[39m\u001b[34m(self, *args, **kwargs)\u001b[39m\n\u001b[32m   1749\u001b[39m     \u001b[38;5;28;01mreturn\u001b[39;00m \u001b[38;5;28mself\u001b[39m._compiled_call_impl(*args, **kwargs)  \u001b[38;5;66;03m# type: ignore[misc]\u001b[39;00m\n\u001b[32m   1750\u001b[39m \u001b[38;5;28;01melse\u001b[39;00m:\n\u001b[32m-> \u001b[39m\u001b[32m1751\u001b[39m     \u001b[38;5;28;01mreturn\u001b[39;00m \u001b[38;5;28;43mself\u001b[39;49m\u001b[43m.\u001b[49m\u001b[43m_call_impl\u001b[49m\u001b[43m(\u001b[49m\u001b[43m*\u001b[49m\u001b[43margs\u001b[49m\u001b[43m,\u001b[49m\u001b[43m \u001b[49m\u001b[43m*\u001b[49m\u001b[43m*\u001b[49m\u001b[43mkwargs\u001b[49m\u001b[43m)\u001b[49m\n",
            "\u001b[36mFile \u001b[39m\u001b[32m~/Documents/Unipd/Tesi/TemporalGNNReview/code/tesi_venv/lib/python3.12/site-packages/torch/nn/modules/module.py:1762\u001b[39m, in \u001b[36mModule._call_impl\u001b[39m\u001b[34m(self, *args, **kwargs)\u001b[39m\n\u001b[32m   1757\u001b[39m \u001b[38;5;66;03m# If we don't have any hooks, we want to skip the rest of the logic in\u001b[39;00m\n\u001b[32m   1758\u001b[39m \u001b[38;5;66;03m# this function, and just call forward.\u001b[39;00m\n\u001b[32m   1759\u001b[39m \u001b[38;5;28;01mif\u001b[39;00m \u001b[38;5;129;01mnot\u001b[39;00m (\u001b[38;5;28mself\u001b[39m._backward_hooks \u001b[38;5;129;01mor\u001b[39;00m \u001b[38;5;28mself\u001b[39m._backward_pre_hooks \u001b[38;5;129;01mor\u001b[39;00m \u001b[38;5;28mself\u001b[39m._forward_hooks \u001b[38;5;129;01mor\u001b[39;00m \u001b[38;5;28mself\u001b[39m._forward_pre_hooks\n\u001b[32m   1760\u001b[39m         \u001b[38;5;129;01mor\u001b[39;00m _global_backward_pre_hooks \u001b[38;5;129;01mor\u001b[39;00m _global_backward_hooks\n\u001b[32m   1761\u001b[39m         \u001b[38;5;129;01mor\u001b[39;00m _global_forward_hooks \u001b[38;5;129;01mor\u001b[39;00m _global_forward_pre_hooks):\n\u001b[32m-> \u001b[39m\u001b[32m1762\u001b[39m     \u001b[38;5;28;01mreturn\u001b[39;00m \u001b[43mforward_call\u001b[49m\u001b[43m(\u001b[49m\u001b[43m*\u001b[49m\u001b[43margs\u001b[49m\u001b[43m,\u001b[49m\u001b[43m \u001b[49m\u001b[43m*\u001b[49m\u001b[43m*\u001b[49m\u001b[43mkwargs\u001b[49m\u001b[43m)\u001b[49m\n\u001b[32m   1764\u001b[39m result = \u001b[38;5;28;01mNone\u001b[39;00m\n\u001b[32m   1765\u001b[39m called_always_called_hooks = \u001b[38;5;28mset\u001b[39m()\n",
            "\u001b[36mFile \u001b[39m\u001b[32m~/Documents/Unipd/Tesi/TemporalGNNReview/code/models/DGDNN/Model/dgdnn.py:57\u001b[39m, in \u001b[36mDGDNN.forward\u001b[39m\u001b[34m(self, X, A)\u001b[39m\n\u001b[32m     52\u001b[39m theta_prob = F.softmax(\u001b[38;5;28mself\u001b[39m.theta, dim=-\u001b[32m1\u001b[39m)      \u001b[38;5;66;03m# sum-to-1\u001b[39;00m\n\u001b[32m     56\u001b[39m \u001b[38;5;28;01mfor\u001b[39;00m l \u001b[38;5;129;01min\u001b[39;00m \u001b[38;5;28mrange\u001b[39m(\u001b[38;5;28mself\u001b[39m.T.shape[\u001b[32m0\u001b[39m]):\n\u001b[32m---> \u001b[39m\u001b[32m57\u001b[39m     z = \u001b[38;5;28;43mself\u001b[39;49m\u001b[43m.\u001b[49m\u001b[43mdiffusion_layers\u001b[49m\u001b[43m[\u001b[49m\u001b[43ml\u001b[49m\u001b[43m]\u001b[49m\u001b[43m(\u001b[49m\u001b[43mtheta_pos\u001b[49m\u001b[43m[\u001b[49m\u001b[43ml\u001b[49m\u001b[43m]\u001b[49m\u001b[43m,\u001b[49m\u001b[43m \u001b[49m\u001b[38;5;28;43mself\u001b[39;49m\u001b[43m.\u001b[49m\u001b[43mT\u001b[49m\u001b[43m[\u001b[49m\u001b[43ml\u001b[49m\u001b[43m]\u001b[49m\u001b[43m,\u001b[49m\u001b[43m \u001b[49m\u001b[43mz\u001b[49m\u001b[43m,\u001b[49m\u001b[43m \u001b[49m\u001b[43mA\u001b[49m\u001b[43m)\u001b[49m\n\u001b[32m     58\u001b[39m     h = \u001b[38;5;28mself\u001b[39m.cat_attn_layers[l](z, h)\n\u001b[32m     60\u001b[39m \u001b[38;5;28;01mreturn\u001b[39;00m \u001b[38;5;28mself\u001b[39m.linear(h)\n",
            "\u001b[36mFile \u001b[39m\u001b[32m~/Documents/Unipd/Tesi/TemporalGNNReview/code/tesi_venv/lib/python3.12/site-packages/torch/nn/modules/module.py:1751\u001b[39m, in \u001b[36mModule._wrapped_call_impl\u001b[39m\u001b[34m(self, *args, **kwargs)\u001b[39m\n\u001b[32m   1749\u001b[39m     \u001b[38;5;28;01mreturn\u001b[39;00m \u001b[38;5;28mself\u001b[39m._compiled_call_impl(*args, **kwargs)  \u001b[38;5;66;03m# type: ignore[misc]\u001b[39;00m\n\u001b[32m   1750\u001b[39m \u001b[38;5;28;01melse\u001b[39;00m:\n\u001b[32m-> \u001b[39m\u001b[32m1751\u001b[39m     \u001b[38;5;28;01mreturn\u001b[39;00m \u001b[38;5;28;43mself\u001b[39;49m\u001b[43m.\u001b[49m\u001b[43m_call_impl\u001b[49m\u001b[43m(\u001b[49m\u001b[43m*\u001b[49m\u001b[43margs\u001b[49m\u001b[43m,\u001b[49m\u001b[43m \u001b[49m\u001b[43m*\u001b[49m\u001b[43m*\u001b[49m\u001b[43mkwargs\u001b[49m\u001b[43m)\u001b[49m\n",
            "\u001b[36mFile \u001b[39m\u001b[32m~/Documents/Unipd/Tesi/TemporalGNNReview/code/tesi_venv/lib/python3.12/site-packages/torch/nn/modules/module.py:1762\u001b[39m, in \u001b[36mModule._call_impl\u001b[39m\u001b[34m(self, *args, **kwargs)\u001b[39m\n\u001b[32m   1757\u001b[39m \u001b[38;5;66;03m# If we don't have any hooks, we want to skip the rest of the logic in\u001b[39;00m\n\u001b[32m   1758\u001b[39m \u001b[38;5;66;03m# this function, and just call forward.\u001b[39;00m\n\u001b[32m   1759\u001b[39m \u001b[38;5;28;01mif\u001b[39;00m \u001b[38;5;129;01mnot\u001b[39;00m (\u001b[38;5;28mself\u001b[39m._backward_hooks \u001b[38;5;129;01mor\u001b[39;00m \u001b[38;5;28mself\u001b[39m._backward_pre_hooks \u001b[38;5;129;01mor\u001b[39;00m \u001b[38;5;28mself\u001b[39m._forward_hooks \u001b[38;5;129;01mor\u001b[39;00m \u001b[38;5;28mself\u001b[39m._forward_pre_hooks\n\u001b[32m   1760\u001b[39m         \u001b[38;5;129;01mor\u001b[39;00m _global_backward_pre_hooks \u001b[38;5;129;01mor\u001b[39;00m _global_backward_hooks\n\u001b[32m   1761\u001b[39m         \u001b[38;5;129;01mor\u001b[39;00m _global_forward_hooks \u001b[38;5;129;01mor\u001b[39;00m _global_forward_pre_hooks):\n\u001b[32m-> \u001b[39m\u001b[32m1762\u001b[39m     \u001b[38;5;28;01mreturn\u001b[39;00m \u001b[43mforward_call\u001b[49m\u001b[43m(\u001b[49m\u001b[43m*\u001b[49m\u001b[43margs\u001b[49m\u001b[43m,\u001b[49m\u001b[43m \u001b[49m\u001b[43m*\u001b[49m\u001b[43m*\u001b[49m\u001b[43mkwargs\u001b[49m\u001b[43m)\u001b[49m\n\u001b[32m   1764\u001b[39m result = \u001b[38;5;28;01mNone\u001b[39;00m\n\u001b[32m   1765\u001b[39m called_always_called_hooks = \u001b[38;5;28mset\u001b[39m()\n",
            "\u001b[36mFile \u001b[39m\u001b[32m~/Documents/Unipd/Tesi/TemporalGNNReview/code/models/DGDNN/Model/GGD.py:17\u001b[39m, in \u001b[36mGeneralizedGraphDiffusion.forward\u001b[39m\u001b[34m(self, theta, t, x, a)\u001b[39m\n\u001b[32m     14\u001b[39m \u001b[38;5;28;01mfor\u001b[39;00m i \u001b[38;5;129;01min\u001b[39;00m \u001b[38;5;28mrange\u001b[39m(theta.shape[\u001b[32m0\u001b[39m]): \u001b[38;5;66;03m# for each layer\u001b[39;00m\n\u001b[32m     15\u001b[39m     q += theta[i] * t[i]\n\u001b[32m---> \u001b[39m\u001b[32m17\u001b[39m x = \u001b[38;5;28;43mself\u001b[39;49m\u001b[43m.\u001b[49m\u001b[43mfc\u001b[49m\u001b[43m(\u001b[49m\u001b[43m(\u001b[49m\u001b[43mq\u001b[49m\u001b[43m \u001b[49m\u001b[43m*\u001b[49m\u001b[43m \u001b[49m\u001b[43ma\u001b[49m\u001b[43m)\u001b[49m\u001b[43m \u001b[49m\u001b[43m@\u001b[49m\u001b[43m \u001b[49m\u001b[43mx\u001b[49m\u001b[43m)\u001b[49m \u001b[38;5;66;03m#diffusion step\u001b[39;00m\n\u001b[32m     18\u001b[39m \u001b[38;5;28;01mif\u001b[39;00m \u001b[38;5;28mself\u001b[39m.active:\n\u001b[32m     19\u001b[39m     x = \u001b[38;5;28mself\u001b[39m.activation0(x)\n",
            "\u001b[36mFile \u001b[39m\u001b[32m~/Documents/Unipd/Tesi/TemporalGNNReview/code/tesi_venv/lib/python3.12/site-packages/torch/nn/modules/module.py:1751\u001b[39m, in \u001b[36mModule._wrapped_call_impl\u001b[39m\u001b[34m(self, *args, **kwargs)\u001b[39m\n\u001b[32m   1749\u001b[39m     \u001b[38;5;28;01mreturn\u001b[39;00m \u001b[38;5;28mself\u001b[39m._compiled_call_impl(*args, **kwargs)  \u001b[38;5;66;03m# type: ignore[misc]\u001b[39;00m\n\u001b[32m   1750\u001b[39m \u001b[38;5;28;01melse\u001b[39;00m:\n\u001b[32m-> \u001b[39m\u001b[32m1751\u001b[39m     \u001b[38;5;28;01mreturn\u001b[39;00m \u001b[38;5;28;43mself\u001b[39;49m\u001b[43m.\u001b[49m\u001b[43m_call_impl\u001b[49m\u001b[43m(\u001b[49m\u001b[43m*\u001b[49m\u001b[43margs\u001b[49m\u001b[43m,\u001b[49m\u001b[43m \u001b[49m\u001b[43m*\u001b[49m\u001b[43m*\u001b[49m\u001b[43mkwargs\u001b[49m\u001b[43m)\u001b[49m\n",
            "\u001b[36mFile \u001b[39m\u001b[32m~/Documents/Unipd/Tesi/TemporalGNNReview/code/tesi_venv/lib/python3.12/site-packages/torch/nn/modules/module.py:1762\u001b[39m, in \u001b[36mModule._call_impl\u001b[39m\u001b[34m(self, *args, **kwargs)\u001b[39m\n\u001b[32m   1757\u001b[39m \u001b[38;5;66;03m# If we don't have any hooks, we want to skip the rest of the logic in\u001b[39;00m\n\u001b[32m   1758\u001b[39m \u001b[38;5;66;03m# this function, and just call forward.\u001b[39;00m\n\u001b[32m   1759\u001b[39m \u001b[38;5;28;01mif\u001b[39;00m \u001b[38;5;129;01mnot\u001b[39;00m (\u001b[38;5;28mself\u001b[39m._backward_hooks \u001b[38;5;129;01mor\u001b[39;00m \u001b[38;5;28mself\u001b[39m._backward_pre_hooks \u001b[38;5;129;01mor\u001b[39;00m \u001b[38;5;28mself\u001b[39m._forward_hooks \u001b[38;5;129;01mor\u001b[39;00m \u001b[38;5;28mself\u001b[39m._forward_pre_hooks\n\u001b[32m   1760\u001b[39m         \u001b[38;5;129;01mor\u001b[39;00m _global_backward_pre_hooks \u001b[38;5;129;01mor\u001b[39;00m _global_backward_hooks\n\u001b[32m   1761\u001b[39m         \u001b[38;5;129;01mor\u001b[39;00m _global_forward_hooks \u001b[38;5;129;01mor\u001b[39;00m _global_forward_pre_hooks):\n\u001b[32m-> \u001b[39m\u001b[32m1762\u001b[39m     \u001b[38;5;28;01mreturn\u001b[39;00m \u001b[43mforward_call\u001b[49m\u001b[43m(\u001b[49m\u001b[43m*\u001b[49m\u001b[43margs\u001b[49m\u001b[43m,\u001b[49m\u001b[43m \u001b[49m\u001b[43m*\u001b[49m\u001b[43m*\u001b[49m\u001b[43mkwargs\u001b[49m\u001b[43m)\u001b[49m\n\u001b[32m   1764\u001b[39m result = \u001b[38;5;28;01mNone\u001b[39;00m\n\u001b[32m   1765\u001b[39m called_always_called_hooks = \u001b[38;5;28mset\u001b[39m()\n",
            "\u001b[36mFile \u001b[39m\u001b[32m~/Documents/Unipd/Tesi/TemporalGNNReview/code/tesi_venv/lib/python3.12/site-packages/torch/nn/modules/linear.py:125\u001b[39m, in \u001b[36mLinear.forward\u001b[39m\u001b[34m(self, input)\u001b[39m\n\u001b[32m    124\u001b[39m \u001b[38;5;28;01mdef\u001b[39;00m\u001b[38;5;250m \u001b[39m\u001b[34mforward\u001b[39m(\u001b[38;5;28mself\u001b[39m, \u001b[38;5;28minput\u001b[39m: Tensor) -> Tensor:\n\u001b[32m--> \u001b[39m\u001b[32m125\u001b[39m     \u001b[38;5;28;01mreturn\u001b[39;00m \u001b[43mF\u001b[49m\u001b[43m.\u001b[49m\u001b[43mlinear\u001b[49m\u001b[43m(\u001b[49m\u001b[38;5;28;43minput\u001b[39;49m\u001b[43m,\u001b[49m\u001b[43m \u001b[49m\u001b[38;5;28;43mself\u001b[39;49m\u001b[43m.\u001b[49m\u001b[43mweight\u001b[49m\u001b[43m,\u001b[49m\u001b[43m \u001b[49m\u001b[38;5;28;43mself\u001b[39;49m\u001b[43m.\u001b[49m\u001b[43mbias\u001b[49m\u001b[43m)\u001b[49m\n",
            "\u001b[31mRuntimeError\u001b[39m: mat1 and mat2 shapes cannot be multiplied (6x80 and 85x527)"
          ]
        }
      ],
      "source": [
        "# Use torch.no_grad() for evaluation to improve speed and save memory\n",
        "model.eval()\n",
        "criterion = nn.BCEWithLogitsLoss()\n",
        "\n",
        "all_logits = []\n",
        "all_labels = []\n",
        "total_test_loss = 0\n",
        "\n",
        "with torch.no_grad():  # Deactivates autograd for efficiency\n",
        "    for data in test_loader:\n",
        "        data = data.to(device)\n",
        "        \n",
        "        # --- Data Preparation ---\n",
        "        X = data.x\n",
        "        A = to_dense_adj(data.edge_index,\n",
        "                         batch=data.batch,\n",
        "                         edge_attr=data.edge_attr,\n",
        "                         max_num_nodes=num_nodes).squeeze(0)\n",
        "        \n",
        "        # Use data.y for labels and prepare for loss calculation\n",
        "        C = data.y.unsqueeze(dim=1).float() \n",
        "        \n",
        "        # --- Forward pass and Loss Calculation ---\n",
        "        outputs = model(X, A)\n",
        "        loss = criterion(outputs, C)  # Note: Regularizers are often omitted during evaluation\n",
        "        total_test_loss += loss.item()\n",
        "        \n",
        "        # --- Accumulate logits and labels ---\n",
        "        # Store the raw model outputs (logits) and the true labels\n",
        "        all_logits.append(outputs.cpu())\n",
        "        all_labels.append(data.y.cpu()) # Store the original 0/1 labels\n",
        "\n",
        "# --- Post-loop calculations ---\n",
        "# Concatenate all stored tensors from all batches\n",
        "y_logits = torch.cat(all_logits).flatten()\n",
        "y_true = torch.cat(all_labels).flatten()\n",
        "\n",
        "# Convert logits to binary predictions (0 or 1)\n",
        "# A positive logit corresponds to predicting class 1.\n",
        "y_pred = (y_logits > 0).long()\n",
        "\n",
        "# Calculate metrics using the full dataset's predictions\n",
        "acc = accuracy_score(y_true.numpy(), y_pred.numpy())\n",
        "f1 = f1_score(y_true.numpy(), y_pred.numpy())\n",
        "mcc = matthews_corrcoef(y_true.numpy(), y_pred.numpy())\n",
        "\n",
        "# Calculate and print average loss and metrics\n",
        "avg_test_loss = total_test_loss / len(test_loader)\n",
        "\n",
        "print(f\"Test Results:\")\n",
        "print(f\"Average Loss: {avg_test_loss:.4f}\")\n",
        "print(f\"Accuracy: {acc:.4f}\")\n",
        "print(f\"F1 Score: {f1:.4f}\")\n",
        "print(f\"MCC: {mcc:.4f}\")"
      ]
    },
    {
      "cell_type": "markdown",
      "metadata": {},
      "source": [
        "# Model 3. Temporal GNN"
      ]
    },
    {
      "cell_type": "code",
      "execution_count": 206,
      "metadata": {},
      "outputs": [
        {
          "data": {
            "text/plain": [
              "525569"
            ]
          },
          "execution_count": 206,
          "metadata": {},
          "output_type": "execute_result"
        }
      ],
      "source": [
        "class TemporalGNN(nn.Module):\n",
        "    def __init__(self, in_channels, hidden_channels, out_channels, dropout=0.2):\n",
        "        super(TemporalGNN, self).__init__()\n",
        "        self.recurrent1 = GConvGRU(in_channels, hidden_channels, K=2)\n",
        "        #self.recurrent2 = GConvGRU(hidden_channels, hidden_channels, K=2)\n",
        "        #self.recurrent3 = GConvGRU(hidden_channels, hidden_channels, K=2)\n",
        "        self.dropout = nn.Dropout(dropout)\n",
        "        self.linear = nn.Linear(hidden_channels, out_channels)\n",
        "\n",
        "    def forward(self, x, edge_index, edge_weight):\n",
        "        h1 = None\n",
        "        h2 = None\n",
        "        h3 = None\n",
        "        h1 = self.recurrent1(x, edge_index, edge_weight, h1)\n",
        "        #h2 = self.recurrent2(h1, edge_index, edge_weight, h2)\n",
        "        #h3 = self.recurrent3(h2, edge_index, edge_weight, h3)\n",
        "        h = F.relu(h1)\n",
        "        h = self.dropout(h)  # Dropout before final layer\n",
        "        out = self.linear(h)\n",
        "        return out\n",
        "\n",
        "\n",
        "input_dim = 5 * timestamp\n",
        "hidden_dim = 256\n",
        "output_dim = 1\n",
        "\n",
        "model_TemporalGNN = TemporalGNN(input_dim, hidden_dim, output_dim).to(device)\n",
        "sum([p.numel() for p in model_TemporalGNN.parameters()])"
      ]
    },
    {
      "cell_type": "markdown",
      "metadata": {},
      "source": [
        "## Train Temporal_GNN"
      ]
    },
    {
      "cell_type": "code",
      "execution_count": 207,
      "metadata": {},
      "outputs": [],
      "source": [
        "train_loader = DataLoader(train_dataset, batch_size=1, shuffle=True)\n",
        "val_loader = DataLoader(validation_dataset, batch_size=1, shuffle=True)\n",
        "test_loader = DataLoader(test_dataset, batch_size=1, shuffle=True)\n"
      ]
    },
    {
      "cell_type": "code",
      "execution_count": 208,
      "metadata": {},
      "outputs": [],
      "source": [
        "sample = next(iter(train_loader))"
      ]
    },
    {
      "cell_type": "code",
      "execution_count": 210,
      "metadata": {},
      "outputs": [
        {
          "name": "stdout",
          "output_type": "stream",
          "text": [
            "EPOCH 1: Training Loss=10455.348793, Val Loss=0.162089 Val Acc=0.512658\n",
            "EPOCH 3: Training Loss=10455.485539, Val Loss=0.001051 Val Acc=0.512658\n",
            "EPOCH 5: Training Loss=10455.488747, Val Loss=0.000450 Val Acc=0.512658\n",
            "EPOCH 7: Training Loss=10455.490528, Val Loss=0.000255 Val Acc=0.512658\n"
          ]
        },
        {
          "ename": "KeyboardInterrupt",
          "evalue": "",
          "output_type": "error",
          "traceback": [
            "\u001b[31m---------------------------------------------------------------------------\u001b[39m",
            "\u001b[31mKeyboardInterrupt\u001b[39m                         Traceback (most recent call last)",
            "\u001b[36mCell\u001b[39m\u001b[36m \u001b[39m\u001b[32mIn[210]\u001b[39m\u001b[32m, line 15\u001b[39m\n\u001b[32m     13\u001b[39m optimizer.zero_grad()\n\u001b[32m     14\u001b[39m train_sample.to(device)\n\u001b[32m---> \u001b[39m\u001b[32m15\u001b[39m out = \u001b[43mmodel_TemporalGNN\u001b[49m\u001b[43m(\u001b[49m\u001b[43mtrain_sample\u001b[49m\u001b[43m.\u001b[49m\u001b[43mx\u001b[49m\u001b[43m,\u001b[49m\u001b[43m \u001b[49m\u001b[43msample\u001b[49m\u001b[43m.\u001b[49m\u001b[43medge_index\u001b[49m\u001b[43m,\u001b[49m\u001b[43m \u001b[49m\u001b[43msample\u001b[49m\u001b[43m.\u001b[49m\u001b[43medge_weight\u001b[49m\u001b[43m)\u001b[49m\n\u001b[32m     16\u001b[39m loss = criterion( out, sample.y.unsqueeze(\u001b[32m1\u001b[39m).float() )\n\u001b[32m     17\u001b[39m loss.backward()\n",
            "\u001b[36mFile \u001b[39m\u001b[32m~/Documents/Unipd/Tesi/TemporalGNNReview/code/tesi_venv/lib/python3.12/site-packages/torch/nn/modules/module.py:1751\u001b[39m, in \u001b[36mModule._wrapped_call_impl\u001b[39m\u001b[34m(self, *args, **kwargs)\u001b[39m\n\u001b[32m   1749\u001b[39m     \u001b[38;5;28;01mreturn\u001b[39;00m \u001b[38;5;28mself\u001b[39m._compiled_call_impl(*args, **kwargs)  \u001b[38;5;66;03m# type: ignore[misc]\u001b[39;00m\n\u001b[32m   1750\u001b[39m \u001b[38;5;28;01melse\u001b[39;00m:\n\u001b[32m-> \u001b[39m\u001b[32m1751\u001b[39m     \u001b[38;5;28;01mreturn\u001b[39;00m \u001b[38;5;28;43mself\u001b[39;49m\u001b[43m.\u001b[49m\u001b[43m_call_impl\u001b[49m\u001b[43m(\u001b[49m\u001b[43m*\u001b[49m\u001b[43margs\u001b[49m\u001b[43m,\u001b[49m\u001b[43m \u001b[49m\u001b[43m*\u001b[49m\u001b[43m*\u001b[49m\u001b[43mkwargs\u001b[49m\u001b[43m)\u001b[49m\n",
            "\u001b[36mFile \u001b[39m\u001b[32m~/Documents/Unipd/Tesi/TemporalGNNReview/code/tesi_venv/lib/python3.12/site-packages/torch/nn/modules/module.py:1762\u001b[39m, in \u001b[36mModule._call_impl\u001b[39m\u001b[34m(self, *args, **kwargs)\u001b[39m\n\u001b[32m   1757\u001b[39m \u001b[38;5;66;03m# If we don't have any hooks, we want to skip the rest of the logic in\u001b[39;00m\n\u001b[32m   1758\u001b[39m \u001b[38;5;66;03m# this function, and just call forward.\u001b[39;00m\n\u001b[32m   1759\u001b[39m \u001b[38;5;28;01mif\u001b[39;00m \u001b[38;5;129;01mnot\u001b[39;00m (\u001b[38;5;28mself\u001b[39m._backward_hooks \u001b[38;5;129;01mor\u001b[39;00m \u001b[38;5;28mself\u001b[39m._backward_pre_hooks \u001b[38;5;129;01mor\u001b[39;00m \u001b[38;5;28mself\u001b[39m._forward_hooks \u001b[38;5;129;01mor\u001b[39;00m \u001b[38;5;28mself\u001b[39m._forward_pre_hooks\n\u001b[32m   1760\u001b[39m         \u001b[38;5;129;01mor\u001b[39;00m _global_backward_pre_hooks \u001b[38;5;129;01mor\u001b[39;00m _global_backward_hooks\n\u001b[32m   1761\u001b[39m         \u001b[38;5;129;01mor\u001b[39;00m _global_forward_hooks \u001b[38;5;129;01mor\u001b[39;00m _global_forward_pre_hooks):\n\u001b[32m-> \u001b[39m\u001b[32m1762\u001b[39m     \u001b[38;5;28;01mreturn\u001b[39;00m \u001b[43mforward_call\u001b[49m\u001b[43m(\u001b[49m\u001b[43m*\u001b[49m\u001b[43margs\u001b[49m\u001b[43m,\u001b[49m\u001b[43m \u001b[49m\u001b[43m*\u001b[49m\u001b[43m*\u001b[49m\u001b[43mkwargs\u001b[49m\u001b[43m)\u001b[49m\n\u001b[32m   1764\u001b[39m result = \u001b[38;5;28;01mNone\u001b[39;00m\n\u001b[32m   1765\u001b[39m called_always_called_hooks = \u001b[38;5;28mset\u001b[39m()\n",
            "\u001b[36mCell\u001b[39m\u001b[36m \u001b[39m\u001b[32mIn[206]\u001b[39m\u001b[32m, line 14\u001b[39m, in \u001b[36mTemporalGNN.forward\u001b[39m\u001b[34m(self, x, edge_index, edge_weight)\u001b[39m\n\u001b[32m     12\u001b[39m h2 = \u001b[38;5;28;01mNone\u001b[39;00m\n\u001b[32m     13\u001b[39m h3 = \u001b[38;5;28;01mNone\u001b[39;00m\n\u001b[32m---> \u001b[39m\u001b[32m14\u001b[39m h1 = \u001b[38;5;28;43mself\u001b[39;49m\u001b[43m.\u001b[49m\u001b[43mrecurrent1\u001b[49m\u001b[43m(\u001b[49m\u001b[43mx\u001b[49m\u001b[43m,\u001b[49m\u001b[43m \u001b[49m\u001b[43medge_index\u001b[49m\u001b[43m,\u001b[49m\u001b[43m \u001b[49m\u001b[43medge_weight\u001b[49m\u001b[43m,\u001b[49m\u001b[43m \u001b[49m\u001b[43mh1\u001b[49m\u001b[43m)\u001b[49m\n\u001b[32m     15\u001b[39m \u001b[38;5;66;03m#h2 = self.recurrent2(h1, edge_index, edge_weight, h2)\u001b[39;00m\n\u001b[32m     16\u001b[39m \u001b[38;5;66;03m#h3 = self.recurrent3(h2, edge_index, edge_weight, h3)\u001b[39;00m\n\u001b[32m     17\u001b[39m h = F.relu(h1)\n",
            "\u001b[36mFile \u001b[39m\u001b[32m~/Documents/Unipd/Tesi/TemporalGNNReview/code/tesi_venv/lib/python3.12/site-packages/torch/nn/modules/module.py:1751\u001b[39m, in \u001b[36mModule._wrapped_call_impl\u001b[39m\u001b[34m(self, *args, **kwargs)\u001b[39m\n\u001b[32m   1749\u001b[39m     \u001b[38;5;28;01mreturn\u001b[39;00m \u001b[38;5;28mself\u001b[39m._compiled_call_impl(*args, **kwargs)  \u001b[38;5;66;03m# type: ignore[misc]\u001b[39;00m\n\u001b[32m   1750\u001b[39m \u001b[38;5;28;01melse\u001b[39;00m:\n\u001b[32m-> \u001b[39m\u001b[32m1751\u001b[39m     \u001b[38;5;28;01mreturn\u001b[39;00m \u001b[38;5;28;43mself\u001b[39;49m\u001b[43m.\u001b[49m\u001b[43m_call_impl\u001b[49m\u001b[43m(\u001b[49m\u001b[43m*\u001b[49m\u001b[43margs\u001b[49m\u001b[43m,\u001b[49m\u001b[43m \u001b[49m\u001b[43m*\u001b[49m\u001b[43m*\u001b[49m\u001b[43mkwargs\u001b[49m\u001b[43m)\u001b[49m\n",
            "\u001b[36mFile \u001b[39m\u001b[32m~/Documents/Unipd/Tesi/TemporalGNNReview/code/tesi_venv/lib/python3.12/site-packages/torch/nn/modules/module.py:1762\u001b[39m, in \u001b[36mModule._call_impl\u001b[39m\u001b[34m(self, *args, **kwargs)\u001b[39m\n\u001b[32m   1757\u001b[39m \u001b[38;5;66;03m# If we don't have any hooks, we want to skip the rest of the logic in\u001b[39;00m\n\u001b[32m   1758\u001b[39m \u001b[38;5;66;03m# this function, and just call forward.\u001b[39;00m\n\u001b[32m   1759\u001b[39m \u001b[38;5;28;01mif\u001b[39;00m \u001b[38;5;129;01mnot\u001b[39;00m (\u001b[38;5;28mself\u001b[39m._backward_hooks \u001b[38;5;129;01mor\u001b[39;00m \u001b[38;5;28mself\u001b[39m._backward_pre_hooks \u001b[38;5;129;01mor\u001b[39;00m \u001b[38;5;28mself\u001b[39m._forward_hooks \u001b[38;5;129;01mor\u001b[39;00m \u001b[38;5;28mself\u001b[39m._forward_pre_hooks\n\u001b[32m   1760\u001b[39m         \u001b[38;5;129;01mor\u001b[39;00m _global_backward_pre_hooks \u001b[38;5;129;01mor\u001b[39;00m _global_backward_hooks\n\u001b[32m   1761\u001b[39m         \u001b[38;5;129;01mor\u001b[39;00m _global_forward_hooks \u001b[38;5;129;01mor\u001b[39;00m _global_forward_pre_hooks):\n\u001b[32m-> \u001b[39m\u001b[32m1762\u001b[39m     \u001b[38;5;28;01mreturn\u001b[39;00m \u001b[43mforward_call\u001b[49m\u001b[43m(\u001b[49m\u001b[43m*\u001b[49m\u001b[43margs\u001b[49m\u001b[43m,\u001b[49m\u001b[43m \u001b[49m\u001b[43m*\u001b[49m\u001b[43m*\u001b[49m\u001b[43mkwargs\u001b[49m\u001b[43m)\u001b[49m\n\u001b[32m   1764\u001b[39m result = \u001b[38;5;28;01mNone\u001b[39;00m\n\u001b[32m   1765\u001b[39m called_always_called_hooks = \u001b[38;5;28mset\u001b[39m()\n",
            "\u001b[36mFile \u001b[39m\u001b[32m~/Documents/Unipd/Tesi/TemporalGNNReview/code/tesi_venv/lib/python3.12/site-packages/torch_geometric_temporal/nn/recurrent/gconv_gru.py:168\u001b[39m, in \u001b[36mGConvGRU.forward\u001b[39m\u001b[34m(self, X, edge_index, edge_weight, H, lambda_max)\u001b[39m\n\u001b[32m    166\u001b[39m Z = \u001b[38;5;28mself\u001b[39m._calculate_update_gate(X, edge_index, edge_weight, H, lambda_max)\n\u001b[32m    167\u001b[39m R = \u001b[38;5;28mself\u001b[39m._calculate_reset_gate(X, edge_index, edge_weight, H, lambda_max)\n\u001b[32m--> \u001b[39m\u001b[32m168\u001b[39m H_tilde = \u001b[38;5;28;43mself\u001b[39;49m\u001b[43m.\u001b[49m\u001b[43m_calculate_candidate_state\u001b[49m\u001b[43m(\u001b[49m\u001b[43mX\u001b[49m\u001b[43m,\u001b[49m\u001b[43m \u001b[49m\u001b[43medge_index\u001b[49m\u001b[43m,\u001b[49m\u001b[43m \u001b[49m\u001b[43medge_weight\u001b[49m\u001b[43m,\u001b[49m\u001b[43m \u001b[49m\u001b[43mH\u001b[49m\u001b[43m,\u001b[49m\u001b[43m \u001b[49m\u001b[43mR\u001b[49m\u001b[43m,\u001b[49m\u001b[43m \u001b[49m\u001b[43mlambda_max\u001b[49m\u001b[43m)\u001b[49m\n\u001b[32m    169\u001b[39m H = \u001b[38;5;28mself\u001b[39m._calculate_hidden_state(Z, H, H_tilde)\n\u001b[32m    170\u001b[39m \u001b[38;5;28;01mreturn\u001b[39;00m H\n",
            "\u001b[36mFile \u001b[39m\u001b[32m~/Documents/Unipd/Tesi/TemporalGNNReview/code/tesi_venv/lib/python3.12/site-packages/torch_geometric_temporal/nn/recurrent/gconv_gru.py:132\u001b[39m, in \u001b[36mGConvGRU._calculate_candidate_state\u001b[39m\u001b[34m(self, X, edge_index, edge_weight, H, R, lambda_max)\u001b[39m\n\u001b[32m    131\u001b[39m \u001b[38;5;28;01mdef\u001b[39;00m\u001b[38;5;250m \u001b[39m\u001b[34m_calculate_candidate_state\u001b[39m(\u001b[38;5;28mself\u001b[39m, X, edge_index, edge_weight, H, R, lambda_max):\n\u001b[32m--> \u001b[39m\u001b[32m132\u001b[39m     H_tilde = \u001b[38;5;28;43mself\u001b[39;49m\u001b[43m.\u001b[49m\u001b[43mconv_x_h\u001b[49m\u001b[43m(\u001b[49m\u001b[43mX\u001b[49m\u001b[43m,\u001b[49m\u001b[43m \u001b[49m\u001b[43medge_index\u001b[49m\u001b[43m,\u001b[49m\u001b[43m \u001b[49m\u001b[43medge_weight\u001b[49m\u001b[43m,\u001b[49m\u001b[43m \u001b[49m\u001b[43mlambda_max\u001b[49m\u001b[43m=\u001b[49m\u001b[43mlambda_max\u001b[49m\u001b[43m)\u001b[49m\n\u001b[32m    133\u001b[39m     H_tilde = H_tilde + \u001b[38;5;28mself\u001b[39m.conv_h_h(H * R, edge_index, edge_weight, lambda_max=lambda_max)\n\u001b[32m    134\u001b[39m     H_tilde = torch.tanh(H_tilde)\n",
            "\u001b[36mFile \u001b[39m\u001b[32m~/Documents/Unipd/Tesi/TemporalGNNReview/code/tesi_venv/lib/python3.12/site-packages/torch/nn/modules/module.py:1751\u001b[39m, in \u001b[36mModule._wrapped_call_impl\u001b[39m\u001b[34m(self, *args, **kwargs)\u001b[39m\n\u001b[32m   1749\u001b[39m     \u001b[38;5;28;01mreturn\u001b[39;00m \u001b[38;5;28mself\u001b[39m._compiled_call_impl(*args, **kwargs)  \u001b[38;5;66;03m# type: ignore[misc]\u001b[39;00m\n\u001b[32m   1750\u001b[39m \u001b[38;5;28;01melse\u001b[39;00m:\n\u001b[32m-> \u001b[39m\u001b[32m1751\u001b[39m     \u001b[38;5;28;01mreturn\u001b[39;00m \u001b[38;5;28;43mself\u001b[39;49m\u001b[43m.\u001b[49m\u001b[43m_call_impl\u001b[49m\u001b[43m(\u001b[49m\u001b[43m*\u001b[49m\u001b[43margs\u001b[49m\u001b[43m,\u001b[49m\u001b[43m \u001b[49m\u001b[43m*\u001b[49m\u001b[43m*\u001b[49m\u001b[43mkwargs\u001b[49m\u001b[43m)\u001b[49m\n",
            "\u001b[36mFile \u001b[39m\u001b[32m~/Documents/Unipd/Tesi/TemporalGNNReview/code/tesi_venv/lib/python3.12/site-packages/torch/nn/modules/module.py:1762\u001b[39m, in \u001b[36mModule._call_impl\u001b[39m\u001b[34m(self, *args, **kwargs)\u001b[39m\n\u001b[32m   1757\u001b[39m \u001b[38;5;66;03m# If we don't have any hooks, we want to skip the rest of the logic in\u001b[39;00m\n\u001b[32m   1758\u001b[39m \u001b[38;5;66;03m# this function, and just call forward.\u001b[39;00m\n\u001b[32m   1759\u001b[39m \u001b[38;5;28;01mif\u001b[39;00m \u001b[38;5;129;01mnot\u001b[39;00m (\u001b[38;5;28mself\u001b[39m._backward_hooks \u001b[38;5;129;01mor\u001b[39;00m \u001b[38;5;28mself\u001b[39m._backward_pre_hooks \u001b[38;5;129;01mor\u001b[39;00m \u001b[38;5;28mself\u001b[39m._forward_hooks \u001b[38;5;129;01mor\u001b[39;00m \u001b[38;5;28mself\u001b[39m._forward_pre_hooks\n\u001b[32m   1760\u001b[39m         \u001b[38;5;129;01mor\u001b[39;00m _global_backward_pre_hooks \u001b[38;5;129;01mor\u001b[39;00m _global_backward_hooks\n\u001b[32m   1761\u001b[39m         \u001b[38;5;129;01mor\u001b[39;00m _global_forward_hooks \u001b[38;5;129;01mor\u001b[39;00m _global_forward_pre_hooks):\n\u001b[32m-> \u001b[39m\u001b[32m1762\u001b[39m     \u001b[38;5;28;01mreturn\u001b[39;00m \u001b[43mforward_call\u001b[49m\u001b[43m(\u001b[49m\u001b[43m*\u001b[49m\u001b[43margs\u001b[49m\u001b[43m,\u001b[49m\u001b[43m \u001b[49m\u001b[43m*\u001b[49m\u001b[43m*\u001b[49m\u001b[43mkwargs\u001b[49m\u001b[43m)\u001b[49m\n\u001b[32m   1764\u001b[39m result = \u001b[38;5;28;01mNone\u001b[39;00m\n\u001b[32m   1765\u001b[39m called_always_called_hooks = \u001b[38;5;28mset\u001b[39m()\n",
            "\u001b[36mFile \u001b[39m\u001b[32m~/Documents/Unipd/Tesi/TemporalGNNReview/code/tesi_venv/lib/python3.12/site-packages/torch_geometric/nn/conv/cheb_conv.py:151\u001b[39m, in \u001b[36mChebConv.forward\u001b[39m\u001b[34m(self, x, edge_index, edge_weight, batch, lambda_max)\u001b[39m\n\u001b[32m    142\u001b[39m \u001b[38;5;28;01mdef\u001b[39;00m\u001b[38;5;250m \u001b[39m\u001b[34mforward\u001b[39m(\n\u001b[32m    143\u001b[39m     \u001b[38;5;28mself\u001b[39m,\n\u001b[32m    144\u001b[39m     x: Tensor,\n\u001b[32m   (...)\u001b[39m\u001b[32m    148\u001b[39m     lambda_max: OptTensor = \u001b[38;5;28;01mNone\u001b[39;00m,\n\u001b[32m    149\u001b[39m ) -> Tensor:\n\u001b[32m--> \u001b[39m\u001b[32m151\u001b[39m     edge_index, norm = \u001b[38;5;28;43mself\u001b[39;49m\u001b[43m.\u001b[49m\u001b[43m__norm__\u001b[49m\u001b[43m(\u001b[49m\n\u001b[32m    152\u001b[39m \u001b[43m        \u001b[49m\u001b[43medge_index\u001b[49m\u001b[43m,\u001b[49m\n\u001b[32m    153\u001b[39m \u001b[43m        \u001b[49m\u001b[43mx\u001b[49m\u001b[43m.\u001b[49m\u001b[43msize\u001b[49m\u001b[43m(\u001b[49m\u001b[38;5;28;43mself\u001b[39;49m\u001b[43m.\u001b[49m\u001b[43mnode_dim\u001b[49m\u001b[43m)\u001b[49m\u001b[43m,\u001b[49m\n\u001b[32m    154\u001b[39m \u001b[43m        \u001b[49m\u001b[43medge_weight\u001b[49m\u001b[43m,\u001b[49m\n\u001b[32m    155\u001b[39m \u001b[43m        \u001b[49m\u001b[38;5;28;43mself\u001b[39;49m\u001b[43m.\u001b[49m\u001b[43mnormalization\u001b[49m\u001b[43m,\u001b[49m\n\u001b[32m    156\u001b[39m \u001b[43m        \u001b[49m\u001b[43mlambda_max\u001b[49m\u001b[43m,\u001b[49m\n\u001b[32m    157\u001b[39m \u001b[43m        \u001b[49m\u001b[43mdtype\u001b[49m\u001b[43m=\u001b[49m\u001b[43mx\u001b[49m\u001b[43m.\u001b[49m\u001b[43mdtype\u001b[49m\u001b[43m,\u001b[49m\n\u001b[32m    158\u001b[39m \u001b[43m        \u001b[49m\u001b[43mbatch\u001b[49m\u001b[43m=\u001b[49m\u001b[43mbatch\u001b[49m\u001b[43m,\u001b[49m\n\u001b[32m    159\u001b[39m \u001b[43m    \u001b[49m\u001b[43m)\u001b[49m\n\u001b[32m    161\u001b[39m     Tx_0 = x\n\u001b[32m    162\u001b[39m     Tx_1 = x  \u001b[38;5;66;03m# Dummy.\u001b[39;00m\n",
            "\u001b[36mFile \u001b[39m\u001b[32m~/Documents/Unipd/Tesi/TemporalGNNReview/code/tesi_venv/lib/python3.12/site-packages/torch_geometric/nn/conv/cheb_conv.py:119\u001b[39m, in \u001b[36mChebConv.__norm__\u001b[39m\u001b[34m(self, edge_index, num_nodes, edge_weight, normalization, lambda_max, dtype, batch)\u001b[39m\n\u001b[32m    109\u001b[39m \u001b[38;5;28;01mdef\u001b[39;00m\u001b[38;5;250m \u001b[39m\u001b[34m__norm__\u001b[39m(\n\u001b[32m    110\u001b[39m     \u001b[38;5;28mself\u001b[39m,\n\u001b[32m    111\u001b[39m     edge_index: Tensor,\n\u001b[32m   (...)\u001b[39m\u001b[32m    117\u001b[39m     batch: OptTensor = \u001b[38;5;28;01mNone\u001b[39;00m,\n\u001b[32m    118\u001b[39m ):\n\u001b[32m--> \u001b[39m\u001b[32m119\u001b[39m     edge_index, edge_weight = \u001b[43mget_laplacian\u001b[49m\u001b[43m(\u001b[49m\u001b[43medge_index\u001b[49m\u001b[43m,\u001b[49m\u001b[43m \u001b[49m\u001b[43medge_weight\u001b[49m\u001b[43m,\u001b[49m\n\u001b[32m    120\u001b[39m \u001b[43m                                            \u001b[49m\u001b[43mnormalization\u001b[49m\u001b[43m,\u001b[49m\u001b[43m \u001b[49m\u001b[43mdtype\u001b[49m\u001b[43m,\u001b[49m\n\u001b[32m    121\u001b[39m \u001b[43m                                            \u001b[49m\u001b[43mnum_nodes\u001b[49m\u001b[43m)\u001b[49m\n\u001b[32m    122\u001b[39m     \u001b[38;5;28;01massert\u001b[39;00m edge_weight \u001b[38;5;129;01mis\u001b[39;00m \u001b[38;5;129;01mnot\u001b[39;00m \u001b[38;5;28;01mNone\u001b[39;00m\n\u001b[32m    124\u001b[39m     \u001b[38;5;28;01mif\u001b[39;00m lambda_max \u001b[38;5;129;01mis\u001b[39;00m \u001b[38;5;28;01mNone\u001b[39;00m:\n",
            "\u001b[36mFile \u001b[39m\u001b[32m~/Documents/Unipd/Tesi/TemporalGNNReview/code/tesi_venv/lib/python3.12/site-packages/torch_geometric/utils/laplacian.py:83\u001b[39m, in \u001b[36mget_laplacian\u001b[39m\u001b[34m(edge_index, edge_weight, normalization, dtype, num_nodes)\u001b[39m\n\u001b[32m     81\u001b[39m     \u001b[38;5;66;03m# L = I - A_norm.\u001b[39;00m\n\u001b[32m     82\u001b[39m     \u001b[38;5;28;01massert\u001b[39;00m \u001b[38;5;28misinstance\u001b[39m(edge_weight, Tensor)\n\u001b[32m---> \u001b[39m\u001b[32m83\u001b[39m     edge_index, edge_weight = \u001b[43madd_self_loops\u001b[49m\u001b[43m(\u001b[49m\u001b[43m  \u001b[49m\u001b[38;5;66;43;03m#\u001b[39;49;00m\n\u001b[32m     84\u001b[39m \u001b[43m        \u001b[49m\u001b[43medge_index\u001b[49m\u001b[43m,\u001b[49m\u001b[43m \u001b[49m\u001b[43m-\u001b[49m\u001b[43medge_weight\u001b[49m\u001b[43m,\u001b[49m\u001b[43m \u001b[49m\u001b[43mfill_value\u001b[49m\u001b[43m=\u001b[49m\u001b[32;43m1.\u001b[39;49m\u001b[43m,\u001b[49m\u001b[43m \u001b[49m\u001b[43mnum_nodes\u001b[49m\u001b[43m=\u001b[49m\u001b[43mnum_nodes\u001b[49m\u001b[43m)\u001b[49m\n\u001b[32m     85\u001b[39m \u001b[38;5;28;01melse\u001b[39;00m:\n\u001b[32m     86\u001b[39m     \u001b[38;5;66;03m# Compute A_norm = -D^{-1} A.\u001b[39;00m\n\u001b[32m     87\u001b[39m     deg_inv = \u001b[32m1.0\u001b[39m / deg\n",
            "\u001b[36mFile \u001b[39m\u001b[32m~/Documents/Unipd/Tesi/TemporalGNNReview/code/tesi_venv/lib/python3.12/site-packages/torch_geometric/utils/loop.py:490\u001b[39m, in \u001b[36madd_self_loops\u001b[39m\u001b[34m(edge_index, edge_attr, fill_value, num_nodes)\u001b[39m\n\u001b[32m    487\u001b[39m \u001b[38;5;28;01mif\u001b[39;00m edge_attr \u001b[38;5;129;01mis\u001b[39;00m \u001b[38;5;129;01mnot\u001b[39;00m \u001b[38;5;28;01mNone\u001b[39;00m:\n\u001b[32m    488\u001b[39m     loop_attr = compute_loop_attr(  \u001b[38;5;66;03m#\u001b[39;00m\n\u001b[32m    489\u001b[39m         edge_index, edge_attr, N, is_sparse, fill_value)\n\u001b[32m--> \u001b[39m\u001b[32m490\u001b[39m     edge_attr = \u001b[43mtorch\u001b[49m\u001b[43m.\u001b[49m\u001b[43mcat\u001b[49m\u001b[43m(\u001b[49m\u001b[43m[\u001b[49m\u001b[43medge_attr\u001b[49m\u001b[43m,\u001b[49m\u001b[43m \u001b[49m\u001b[43mloop_attr\u001b[49m\u001b[43m]\u001b[49m\u001b[43m,\u001b[49m\u001b[43m \u001b[49m\u001b[43mdim\u001b[49m\u001b[43m=\u001b[49m\u001b[32;43m0\u001b[39;49m\u001b[43m)\u001b[49m\n\u001b[32m    492\u001b[39m \u001b[38;5;28;01mreturn\u001b[39;00m full_edge_index, edge_attr\n",
            "\u001b[31mKeyboardInterrupt\u001b[39m: "
          ]
        }
      ],
      "source": [
        "optimizer = optim.Adam(model_TemporalGNN.parameters(), lr=2e-4, weight_decay=1.5e-5)\n",
        "criterion = nn.BCEWithLogitsLoss() # For binary classification (output is a single logit)\n",
        "num_epochs = 20\n",
        "\n",
        "model_TemporalGNN.train()\n",
        "\n",
        "for epoch in range(num_epochs):\n",
        "    train_loss = .0\n",
        "    train_acc = .0\n",
        "    model.train()\n",
        "    for train_sample in train_loader:\n",
        "        if train_sample.x.shape[1] != timestamp * 5: continue\n",
        "        optimizer.zero_grad()\n",
        "        train_sample.to(device)\n",
        "        out = model_TemporalGNN(train_sample.x, sample.edge_index, sample.edge_weight)\n",
        "        loss = criterion( out, sample.y.unsqueeze(1).float() )\n",
        "        loss.backward()\n",
        "        epoch_loss += loss.item()\n",
        "        optimizer.step()\n",
        "        #train_acc += accuracy_score((out.detach().cpu() > 0).float().squeeze(), validation_dataset[10].y.detach().cpu())\n",
        "\n",
        "    if epoch%2 == 0:\n",
        "        val_loss = .0\n",
        "        val_acc = .0\n",
        "        with torch.no_grad():\n",
        "            for val_sample in val_loader:\n",
        "                if val_sample.x.shape[1] != timestamp * 5: continue\n",
        "                val_sample.to(device)\n",
        "                out = model_TemporalGNN(val_sample.x, val_sample.edge_index, val_sample.edge_attr)\n",
        "                val_loss += criterion(out, sample.y.unsqueeze(1).float()).item()\n",
        "                val_acc += accuracy_score((out.detach().cpu() > 0).float().squeeze(), val_sample.y.detach().cpu())\n",
        "\n",
        "            print(f\"EPOCH {epoch+1}: Training Loss={epoch_loss:.6f}, Val Loss={val_loss:.6f} Val Acc={ (val_acc/len(val_loader)):.6f}\")"
      ]
    },
    {
      "cell_type": "code",
      "execution_count": null,
      "metadata": {},
      "outputs": [
        {
          "data": {
            "text/plain": [
              "123"
            ]
          },
          "execution_count": 161,
          "metadata": {},
          "output_type": "execute_result"
        }
      ],
      "source": []
    },
    {
      "cell_type": "markdown",
      "metadata": {},
      "source": [
        "## Temp maybe usefull"
      ]
    },
    {
      "cell_type": "code",
      "execution_count": null,
      "metadata": {},
      "outputs": [],
      "source": [
        "from torch_geometric_temporal.signal import DynamicGraphTemporalSignal #Handle dynamic temporal graph"
      ]
    }
  ],
  "metadata": {
    "colab": {
      "provenance": []
    },
    "kernelspec": {
      "display_name": "tesi_venv",
      "language": "python",
      "name": "python3"
    },
    "language_info": {
      "codemirror_mode": {
        "name": "ipython",
        "version": 3
      },
      "file_extension": ".py",
      "mimetype": "text/x-python",
      "name": "python",
      "nbconvert_exporter": "python",
      "pygments_lexer": "ipython3",
      "version": "3.12.7"
    }
  },
  "nbformat": 4,
  "nbformat_minor": 0
}
