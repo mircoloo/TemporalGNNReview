{
  "cells": [
    {
      "cell_type": "markdown",
      "metadata": {
        "id": "EKwzdnNJ6C9k"
      },
      "source": []
    },
    {
      "cell_type": "code",
      "execution_count": 42,
      "metadata": {
        "colab": {
          "base_uri": "https://localhost:8080/",
          "height": 36
        },
        "id": "dnJby9Bg5PKX",
        "outputId": "ced7382a-cbc2-4030-dc2f-0dd5ecae0351"
      },
      "outputs": [
        {
          "data": {
            "text/plain": [
              "('2.7.0+cu126', '12.6')"
            ]
          },
          "execution_count": 42,
          "metadata": {},
          "output_type": "execute_result"
        }
      ],
      "source": [
        "import numpy as np\n",
        "import pandas as pd\n",
        "import csv\n",
        "import time\n",
        "#torch\n",
        "import torch\n",
        "import torch.nn as nn\n",
        "import torch.optim as optim\n",
        "from torch_geometric.loader import DataLoader # For batching graph data\n",
        "from torch_geometric.utils import to_dense_adj\n",
        "import torch.nn.functional as F\n",
        "\n",
        "#sklearn\n",
        "from sklearn.metrics import accuracy_score, f1_score, matthews_corrcoef\n",
        "\n",
        "# objective functions\n",
        "from utils import theta_regularizer, neighbor_distance_regularizer\n",
        "\n",
        "#Visualize and create graph/charts\n",
        "import networkx as nx\n",
        "import matplotlib.pyplot as plt\n",
        "\n",
        "#Path managment\n",
        "import os\n",
        "import sys\n",
        "\n",
        "\n",
        "\n",
        "from IPython.display import clear_output\n",
        "device = 'cuda' if torch.cuda.is_available() else 'cpu'\n",
        "torch.seed = 1234\n",
        "torch.__version__, torch.version.cuda"
      ]
    },
    {
      "cell_type": "code",
      "execution_count": 78,
      "metadata": {},
      "outputs": [],
      "source": [
        "# To reload modulse if needed\n",
        "%reload_ext autoreload\n",
        "%autoreload 2"
      ]
    },
    {
      "cell_type": "markdown",
      "metadata": {},
      "source": [
        "### Add the DGDNN libraries into the path to get Data"
      ]
    },
    {
      "cell_type": "code",
      "execution_count": 44,
      "metadata": {},
      "outputs": [],
      "source": [
        "current_dir = os.getcwd() #till /.../home/..../code\n",
        "\n",
        "\n",
        "model_path = os.path.join(current_dir, 'models/DGDNN/Model')\n",
        "if model_path not in sys.path:\n",
        "    sys.path.insert(0, model_path)\n",
        "data_path = os.path.join(current_dir, 'models/DGDNN/Data')\n",
        "if data_path not in sys.path:\n",
        "    sys.path.insert(0, data_path)\n"
      ]
    },
    {
      "cell_type": "markdown",
      "metadata": {},
      "source": [
        "# The dataset "
      ]
    },
    {
      "cell_type": "code",
      "execution_count": 45,
      "metadata": {},
      "outputs": [],
      "source": [
        "from geometric_dataset_gen import MyDataset as MyGeometricDataset\n",
        "from dataset_gen import MyDataset "
      ]
    },
    {
      "cell_type": "code",
      "execution_count": 46,
      "metadata": {},
      "outputs": [],
      "source": [
        "# # Configure the default variables // # these can be tuned // # examples\n",
        "sedate = ['2013-01-01', '2014-12-31']  # these can be tuned\n",
        "val_sedate = ['2015-01-01', '2015-06-30'] # these can be tuned\n",
        "test_sedate = ['2015-07-01', '2017-12-31'] # these can be tuned\n",
        "market = ['NASDAQ', 'NYSE', 'SSE'] # can be changed\n",
        "dataset_type = ['Train', 'Validation', 'Test']\n",
        "\n",
        "com_path = [f'{current_dir}/data/tickers/NASDAQ.csv',\n",
        "            f'{current_dir}/data/tickers/NYSE.csv',\n",
        "            f'{current_dir}/data/tickers/NYSE_missing.csv'\n",
        "            ] # Where the company tickers are\n",
        "\n",
        "des = f\"{current_dir}/data/datasets/graph\" # Where to save the processed graphs\n",
        "\n",
        "# directory = \"/Users/mirco/Documents/Tesi/code/data/datasets/America_Stocks\" \n",
        "# window = 19\n",
        "NASDAQ_com_list = []\n",
        "NYSE_com_list = []\n",
        "NYSE_missing_list = []\n",
        "com_lists = [NASDAQ_com_list, NYSE_com_list, NYSE_missing_list] #Ticker lists\n",
        "com_lists = [NASDAQ_com_list, NYSE_com_list, NYSE_missing_list] #Ticker lists\n",
        "\n",
        "for idx, path in enumerate(com_path): #Per each ticker folder get the path and index\n",
        "    with open(path) as f:\n",
        "        file = csv.reader(f)\n",
        "        for line in file:\n",
        "            com_lists[idx].append(line[0])  # append first element of line if each line is a list\n",
        "NYSE_com_list = [com for com in NYSE_com_list if com not in NYSE_missing_list] #Filter the com on NYSE since they are missing \n",
        "# fast_approx = False # True for fast approximation and implementation\n",
        "# # Generate datasets\n"
      ]
    },
    {
      "cell_type": "code",
      "execution_count": 47,
      "metadata": {},
      "outputs": [
        {
          "data": {
            "text/plain": [
              "20"
            ]
          },
          "execution_count": 47,
          "metadata": {},
          "output_type": "execute_result"
        }
      ],
      "source": [
        "NYSE_com_list[:] = NYSE_com_list[:20]\n",
        "com_lists[1] = NYSE_com_list\n",
        "len(com_lists[1])"
      ]
    },
    {
      "cell_type": "code",
      "execution_count": 48,
      "metadata": {},
      "outputs": [
        {
          "name": "stderr",
          "output_type": "stream",
          "text": [
            "[*********************100%***********************]  1 of 1 completed\n"
          ]
        },
        {
          "data": {
            "application/vnd.microsoft.datawrangler.viewer.v0+json": {
              "columns": [
                {
                  "name": "Date",
                  "rawType": "datetime64[ns]",
                  "type": "datetime"
                },
                {
                  "name": "('Close', 'AAPL')",
                  "rawType": "float64",
                  "type": "float"
                },
                {
                  "name": "('High', 'AAPL')",
                  "rawType": "float64",
                  "type": "float"
                },
                {
                  "name": "('Low', 'AAPL')",
                  "rawType": "float64",
                  "type": "float"
                },
                {
                  "name": "('Open', 'AAPL')",
                  "rawType": "float64",
                  "type": "float"
                },
                {
                  "name": "('Volume', 'AAPL')",
                  "rawType": "int64",
                  "type": "integer"
                }
              ],
              "ref": "c0a9c0ca-41e8-46ec-96ba-25cc9d2bb6fb",
              "rows": [
                [
                  "1980-12-12 00:00:00",
                  "0.09859663248062134",
                  "0.09902528970147612",
                  "0.09859663248062134",
                  "0.09859663248062134",
                  "469033600"
                ],
                [
                  "1980-12-15 00:00:00",
                  "0.09345279633998871",
                  "0.09388145360875348",
                  "0.09345279633998871",
                  "0.09388145360875348",
                  "175884800"
                ],
                [
                  "1980-12-16 00:00:00",
                  "0.08659353852272034",
                  "0.08702218996721225",
                  "0.08659353852272034",
                  "0.08702218996721225",
                  "105728000"
                ],
                [
                  "1980-12-17 00:00:00",
                  "0.08873682469129562",
                  "0.08916548194383776",
                  "0.08873682469129562",
                  "0.08873682469129562",
                  "86441600"
                ],
                [
                  "1980-12-18 00:00:00",
                  "0.09130951762199402",
                  "0.09173816912243167",
                  "0.09130951762199402",
                  "0.09130951762199402",
                  "73449600"
                ],
                [
                  "1980-12-19 00:00:00",
                  "0.09688198566436768",
                  "0.09731064275523038",
                  "0.09688198566436768",
                  "0.09688198566436768",
                  "48630400"
                ],
                [
                  "1980-12-22 00:00:00",
                  "0.10159719735383987",
                  "0.1020266214238251",
                  "0.10159719735383987",
                  "0.10159719735383987",
                  "37363200"
                ],
                [
                  "1980-12-23 00:00:00",
                  "0.10588449239730835",
                  "0.10631314948051442",
                  "0.10588449239730835",
                  "0.10588449239730835",
                  "46950400"
                ],
                [
                  "1980-12-24 00:00:00",
                  "0.11145702749490738",
                  "0.11188568468332696",
                  "0.11145702749490738",
                  "0.11145702749490738",
                  "48003200"
                ],
                [
                  "1980-12-26 00:00:00",
                  "0.12174554169178009",
                  "0.12217419903302752",
                  "0.12174554169178009",
                  "0.12174554169178009",
                  "55574400"
                ],
                [
                  "1980-12-29 00:00:00",
                  "0.1234600841999054",
                  "0.12388874127932767",
                  "0.12346008419990538",
                  "0.12346008419990538",
                  "93161600"
                ],
                [
                  "1980-12-30 00:00:00",
                  "0.12045951187610626",
                  "0.12088815752393137",
                  "0.12045951187610626",
                  "0.12088815752393137",
                  "68880000"
                ],
                [
                  "1980-12-31 00:00:00",
                  "0.1170303151011467",
                  "0.11745897233185838",
                  "0.1170303151011467",
                  "0.11745897233185838",
                  "35750400"
                ],
                [
                  "1981-01-02 00:00:00",
                  "0.11831630766391754",
                  "0.11917362235951334",
                  "0.11831630766391754",
                  "0.11831630766391754",
                  "21660800"
                ],
                [
                  "1981-01-05 00:00:00",
                  "0.11574432998895645",
                  "0.11617297568053778",
                  "0.11574432998895645",
                  "0.11617297568053778",
                  "35728000"
                ],
                [
                  "1981-01-06 00:00:00",
                  "0.11059971153736115",
                  "0.1110283687196543",
                  "0.11059971153736116",
                  "0.1110283687196543",
                  "45158400"
                ],
                [
                  "1981-01-07 00:00:00",
                  "0.10588449239730835",
                  "0.10631314948051442",
                  "0.10588449239730835",
                  "0.10631314948051442",
                  "55686400"
                ],
                [
                  "1981-01-08 00:00:00",
                  "0.10374119132757187",
                  "0.1041698368044694",
                  "0.10374119132757187",
                  "0.1041698368044694",
                  "39827200"
                ],
                [
                  "1981-01-09 00:00:00",
                  "0.10931375622749329",
                  "0.10974241342856958",
                  "0.10931375622749329",
                  "0.10931375622749329",
                  "21504000"
                ],
                [
                  "1981-01-12 00:00:00",
                  "0.10845641046762466",
                  "0.10931371308438641",
                  "0.10845641046762466",
                  "0.10931371308438641",
                  "23699200"
                ],
                [
                  "1981-01-13 00:00:00",
                  "0.10459858924150467",
                  "0.1050272465568559",
                  "0.10459858924150467",
                  "0.1050272465568559",
                  "23049600"
                ],
                [
                  "1981-01-14 00:00:00",
                  "0.1050271987915039",
                  "0.10545585591190604",
                  "0.1050271987915039",
                  "0.1050271987915039",
                  "14291200"
                ],
                [
                  "1981-01-15 00:00:00",
                  "0.107170470058918",
                  "0.1080277728295884",
                  "0.107170470058918",
                  "0.107170470058918",
                  "14067200"
                ],
                [
                  "1981-01-16 00:00:00",
                  "0.10631319135427475",
                  "0.10674184860631679",
                  "0.10631319135427475",
                  "0.10674184860631679",
                  "13395200"
                ],
                [
                  "1981-01-19 00:00:00",
                  "0.11274300515651703",
                  "0.11317166241163786",
                  "0.11274300515651703",
                  "0.11274300515651703",
                  "41574400"
                ],
                [
                  "1981-01-20 00:00:00",
                  "0.10931375622749329",
                  "0.10974241342856958",
                  "0.10931375622749329",
                  "0.10974241342856958",
                  "30083200"
                ],
                [
                  "1981-01-21 00:00:00",
                  "0.11145702749490738",
                  "0.1123143304247097",
                  "0.11145702749490738",
                  "0.11145702749490738",
                  "15904000"
                ],
                [
                  "1981-01-22 00:00:00",
                  "0.11274300515651703",
                  "0.1136003196667587",
                  "0.11274300515651703",
                  "0.11274300515651703",
                  "35548800"
                ],
                [
                  "1981-01-23 00:00:00",
                  "0.11231434345245361",
                  "0.11317165792873575",
                  "0.11231434345245361",
                  "0.11274300069059469",
                  "11222400"
                ],
                [
                  "1981-01-26 00:00:00",
                  "0.11059971153736115",
                  "0.1110283687196543",
                  "0.11059971153736116",
                  "0.1110283687196543",
                  "24640000"
                ],
                [
                  "1981-01-27 00:00:00",
                  "0.10974239557981491",
                  "0.11059969839549665",
                  "0.10974239557981491",
                  "0.11059969839549665",
                  "23699200"
                ],
                [
                  "1981-01-28 00:00:00",
                  "0.10631319135427475",
                  "0.10674184860631679",
                  "0.10631319135427475",
                  "0.10674184860631679",
                  "28156800"
                ],
                [
                  "1981-01-29 00:00:00",
                  "0.102455273270607",
                  "0.10288393041508499",
                  "0.102455273270607",
                  "0.10288393041508499",
                  "43904000"
                ],
                [
                  "1981-01-30 00:00:00",
                  "0.09688198566436768",
                  "0.09773929984609309",
                  "0.09688198566436768",
                  "0.09773929984609309",
                  "46188800"
                ],
                [
                  "1981-02-02 00:00:00",
                  "0.09130951762199402",
                  "0.09173816912243167",
                  "0.09130951762199402",
                  "0.09173816912243167",
                  "23766400"
                ],
                [
                  "1981-02-03 00:00:00",
                  "0.09473874419927597",
                  "0.09516739566206792",
                  "0.09473874419927597",
                  "0.09473874419927597",
                  "19152000"
                ],
                [
                  "1981-02-04 00:00:00",
                  "0.09816800057888031",
                  "0.09859664641326914",
                  "0.09816800057888031",
                  "0.09816800057888031",
                  "27865600"
                ],
                [
                  "1981-02-05 00:00:00",
                  "0.09816800057888031",
                  "0.0990253036946973",
                  "0.09816800057888031",
                  "0.09816800057888031",
                  "7929600"
                ],
                [
                  "1981-02-06 00:00:00",
                  "0.09859663248062134",
                  "0.09902528970147612",
                  "0.09859663248062134",
                  "0.09859663248062134",
                  "13865600"
                ],
                [
                  "1981-02-09 00:00:00",
                  "0.09345279633998871",
                  "0.09431010515399875",
                  "0.09345279633998871",
                  "0.09431010515399875",
                  "16755200"
                ],
                [
                  "1981-02-10 00:00:00",
                  "0.09345279633998871",
                  "0.09388145360875348",
                  "0.09345279633998871",
                  "0.09345279633998871",
                  "18345600"
                ],
                [
                  "1981-02-11 00:00:00",
                  "0.09045221656560898",
                  "0.0908808681023852",
                  "0.09045221656560898",
                  "0.0908808681023852",
                  "13843200"
                ],
                [
                  "1981-02-12 00:00:00",
                  "0.08959414064884186",
                  "0.09002356488736121",
                  "0.08959414064884186",
                  "0.09002356488736121",
                  "14560000"
                ],
                [
                  "1981-02-13 00:00:00",
                  "0.08745086193084717",
                  "0.08830817068839537",
                  "0.08745086193084717",
                  "0.08830817068839537",
                  "11155200"
                ],
                [
                  "1981-02-17 00:00:00",
                  "0.08959414064884186",
                  "0.09002356488736121",
                  "0.08959414064884186",
                  "0.08959414064884186",
                  "12275200"
                ],
                [
                  "1981-02-18 00:00:00",
                  "0.09345279633998871",
                  "0.09431010515399875",
                  "0.09345279633998871",
                  "0.09345279633998871",
                  "19241600"
                ],
                [
                  "1981-02-19 00:00:00",
                  "0.08787952363491058",
                  "0.08830818092513447",
                  "0.08787952363491058",
                  "0.08830818092513447",
                  "22310400"
                ],
                [
                  "1981-02-20 00:00:00",
                  "0.08316431939601898",
                  "0.08359297664301059",
                  "0.08316431939601898",
                  "0.08359297664301059",
                  "24371200"
                ],
                [
                  "1981-02-23 00:00:00",
                  "0.08445028215646744",
                  "0.0848789394159787",
                  "0.08445028215646744",
                  "0.08445028215646744",
                  "14112000"
                ],
                [
                  "1981-02-24 00:00:00",
                  "0.08144969493150711",
                  "0.0823070036290961",
                  "0.08144969493150711",
                  "0.0823070036290961",
                  "16979200"
                ]
              ],
              "shape": {
                "columns": 5,
                "rows": 11217
              }
            },
            "text/html": [
              "<div>\n",
              "<style scoped>\n",
              "    .dataframe tbody tr th:only-of-type {\n",
              "        vertical-align: middle;\n",
              "    }\n",
              "\n",
              "    .dataframe tbody tr th {\n",
              "        vertical-align: top;\n",
              "    }\n",
              "\n",
              "    .dataframe thead tr th {\n",
              "        text-align: left;\n",
              "    }\n",
              "\n",
              "    .dataframe thead tr:last-of-type th {\n",
              "        text-align: right;\n",
              "    }\n",
              "</style>\n",
              "<table border=\"1\" class=\"dataframe\">\n",
              "  <thead>\n",
              "    <tr>\n",
              "      <th>Price</th>\n",
              "      <th>Close</th>\n",
              "      <th>High</th>\n",
              "      <th>Low</th>\n",
              "      <th>Open</th>\n",
              "      <th>Volume</th>\n",
              "    </tr>\n",
              "    <tr>\n",
              "      <th>Ticker</th>\n",
              "      <th>AAPL</th>\n",
              "      <th>AAPL</th>\n",
              "      <th>AAPL</th>\n",
              "      <th>AAPL</th>\n",
              "      <th>AAPL</th>\n",
              "    </tr>\n",
              "    <tr>\n",
              "      <th>Date</th>\n",
              "      <th></th>\n",
              "      <th></th>\n",
              "      <th></th>\n",
              "      <th></th>\n",
              "      <th></th>\n",
              "    </tr>\n",
              "  </thead>\n",
              "  <tbody>\n",
              "    <tr>\n",
              "      <th>1980-12-12</th>\n",
              "      <td>0.098597</td>\n",
              "      <td>0.099025</td>\n",
              "      <td>0.098597</td>\n",
              "      <td>0.098597</td>\n",
              "      <td>469033600</td>\n",
              "    </tr>\n",
              "    <tr>\n",
              "      <th>1980-12-15</th>\n",
              "      <td>0.093453</td>\n",
              "      <td>0.093881</td>\n",
              "      <td>0.093453</td>\n",
              "      <td>0.093881</td>\n",
              "      <td>175884800</td>\n",
              "    </tr>\n",
              "    <tr>\n",
              "      <th>1980-12-16</th>\n",
              "      <td>0.086594</td>\n",
              "      <td>0.087022</td>\n",
              "      <td>0.086594</td>\n",
              "      <td>0.087022</td>\n",
              "      <td>105728000</td>\n",
              "    </tr>\n",
              "    <tr>\n",
              "      <th>1980-12-17</th>\n",
              "      <td>0.088737</td>\n",
              "      <td>0.089165</td>\n",
              "      <td>0.088737</td>\n",
              "      <td>0.088737</td>\n",
              "      <td>86441600</td>\n",
              "    </tr>\n",
              "    <tr>\n",
              "      <th>1980-12-18</th>\n",
              "      <td>0.091310</td>\n",
              "      <td>0.091738</td>\n",
              "      <td>0.091310</td>\n",
              "      <td>0.091310</td>\n",
              "      <td>73449600</td>\n",
              "    </tr>\n",
              "    <tr>\n",
              "      <th>...</th>\n",
              "      <td>...</td>\n",
              "      <td>...</td>\n",
              "      <td>...</td>\n",
              "      <td>...</td>\n",
              "      <td>...</td>\n",
              "    </tr>\n",
              "    <tr>\n",
              "      <th>2025-06-09</th>\n",
              "      <td>201.449997</td>\n",
              "      <td>206.000000</td>\n",
              "      <td>200.020004</td>\n",
              "      <td>204.389999</td>\n",
              "      <td>72862600</td>\n",
              "    </tr>\n",
              "    <tr>\n",
              "      <th>2025-06-10</th>\n",
              "      <td>202.669998</td>\n",
              "      <td>204.350006</td>\n",
              "      <td>200.570007</td>\n",
              "      <td>200.600006</td>\n",
              "      <td>54672600</td>\n",
              "    </tr>\n",
              "    <tr>\n",
              "      <th>2025-06-11</th>\n",
              "      <td>198.779999</td>\n",
              "      <td>204.500000</td>\n",
              "      <td>198.410004</td>\n",
              "      <td>203.500000</td>\n",
              "      <td>60989900</td>\n",
              "    </tr>\n",
              "    <tr>\n",
              "      <th>2025-06-12</th>\n",
              "      <td>199.199997</td>\n",
              "      <td>199.679993</td>\n",
              "      <td>197.360001</td>\n",
              "      <td>199.080002</td>\n",
              "      <td>43904600</td>\n",
              "    </tr>\n",
              "    <tr>\n",
              "      <th>2025-06-13</th>\n",
              "      <td>196.449997</td>\n",
              "      <td>200.369995</td>\n",
              "      <td>195.699997</td>\n",
              "      <td>199.729996</td>\n",
              "      <td>51362400</td>\n",
              "    </tr>\n",
              "  </tbody>\n",
              "</table>\n",
              "<p>11217 rows × 5 columns</p>\n",
              "</div>"
            ],
            "text/plain": [
              "Price            Close        High         Low        Open     Volume\n",
              "Ticker            AAPL        AAPL        AAPL        AAPL       AAPL\n",
              "Date                                                                 \n",
              "1980-12-12    0.098597    0.099025    0.098597    0.098597  469033600\n",
              "1980-12-15    0.093453    0.093881    0.093453    0.093881  175884800\n",
              "1980-12-16    0.086594    0.087022    0.086594    0.087022  105728000\n",
              "1980-12-17    0.088737    0.089165    0.088737    0.088737   86441600\n",
              "1980-12-18    0.091310    0.091738    0.091310    0.091310   73449600\n",
              "...                ...         ...         ...         ...        ...\n",
              "2025-06-09  201.449997  206.000000  200.020004  204.389999   72862600\n",
              "2025-06-10  202.669998  204.350006  200.570007  200.600006   54672600\n",
              "2025-06-11  198.779999  204.500000  198.410004  203.500000   60989900\n",
              "2025-06-12  199.199997  199.679993  197.360001  199.080002   43904600\n",
              "2025-06-13  196.449997  200.369995  195.699997  199.729996   51362400\n",
              "\n",
              "[11217 rows x 5 columns]"
            ]
          },
          "execution_count": 48,
          "metadata": {},
          "output_type": "execute_result"
        }
      ],
      "source": [
        "import yfinance as yf\n",
        "df = yf.download('AAPL')\n",
        "\n",
        "df"
      ]
    },
    {
      "cell_type": "code",
      "execution_count": 49,
      "metadata": {},
      "outputs": [
        {
          "data": {
            "text/plain": [
              "<Axes: xlabel='Date'>"
            ]
          },
          "execution_count": 49,
          "metadata": {},
          "output_type": "execute_result"
        },
        {
          "data": {
            "image/png": "[encoded data removed]",
            "text/plain": [
              "<Figure size 640x480 with 1 Axes>"
            ]
          },
          "metadata": {},
          "output_type": "display_data"
        }
      ],
      "source": [
        "df2 = pd.read_csv('/home/mirco/Documents/Tesi/code/data/datasets/stocks_CSVs/America_Stocks/NASDAQ_AAPL_30Y.csv', index_col='Date')\n",
        "df2.Close.plot()"
      ]
    },
    {
      "cell_type": "code",
      "execution_count": 50,
      "metadata": {},
      "outputs": [
        {
          "name": "stdout",
          "output_type": "stream",
          "text": [
            "----- Building train dataset... -----\n",
            "2017-06-30 2017-07-03\n",
            "----- Building validation dataset... -----\n",
            "2017-12-29 2018-01-02\n",
            "----- Building test dataset... -----\n",
            "2019-12-31 2020-01-02\n"
          ]
        }
      ],
      "source": [
        "dir = f'{current_dir}/data/datasets/stocks_CSVs/America_Stocks_Updated'\n",
        "dest = f'{current_dir}/data/datasets/graph'\n",
        "market = 'NASDAQ'\n",
        "company_list = ['AAPL', \n",
        "                'ACWI',\n",
        "                'ADSK',\n",
        "                'ADTN',\n",
        "                'ADUS',\n",
        "                ]\n",
        "\n",
        "\n",
        "#company_list = com_lists[1]\n",
        "\n",
        "train_sedate = ['2016-05-01', '2017-06-30']  # these can be tuned\n",
        "val_sedate = ['2017-07-01', '2017-12-31'] # these can be tuned\n",
        "test_sedate = ['2018-01-01', '2019-12-31'] # these can be tuned\n",
        "dataset_type = ['Train', 'Validation', 'Test']\n",
        "window_size = 2# \n",
        "dataset_label = 'train'\n",
        "use_fast_approximation = False\n",
        "\n",
        "print(\"-\"*5, \"Building train dataset...\" , \"-\"*5)\n",
        "train_dataset = MyGeometricDataset(dir, dest, market, company_list, train_sedate[0], train_sedate[1], window_size, dataset_type[0], use_fast_approximation) \n",
        "print(\"-\"*5, \"Building validation dataset...\" , \"-\"*5)\n",
        "validation_dataset = MyGeometricDataset(dir, dest, market, company_list, val_sedate[0], val_sedate[1], window_size, dataset_type[1], use_fast_approximation)\n",
        "print(\"-\"*5, \"Building test dataset...\" , \"-\"*5)\n",
        "test_dataset = MyGeometricDataset(dir, dest, market, company_list, test_sedate[0], test_sedate[1], window_size, dataset_type[2], use_fast_approximation)\n",
        "#clear_output()"
      ]
    },
    {
      "cell_type": "code",
      "execution_count": 51,
      "metadata": {},
      "outputs": [
        {
          "name": "stdout",
          "output_type": "stream",
          "text": [
            "========== Train ==========\n",
            "Number of snapshots graph of the dataset: 294\n",
            "Graph snapshot structure: Data(x=[5, 10], edge_index=[2, 25], edge_attr=[25], y=[5])\n",
            "Number of features: 5\n",
            "Number of nodes: 5\n",
            "Number of target labels: 5\n",
            "========== Val ==========\n",
            "Number of snapshots graph of the dataset: 125\n",
            "Graph snapshot structure: Data(x=[5, 10], edge_index=[2, 25], edge_attr=[25], y=[5])\n",
            "Number of features: 5\n",
            "Number of nodes: 5\n",
            "Number of target labels: 5\n",
            "========== Test ==========\n",
            "Number of snapshots graph of the dataset: 502\n",
            "Graph snapshot structure: Data(x=[5, 10], edge_index=[2, 25], edge_attr=[25], y=[5])\n",
            "Number of features: 5\n",
            "Number of nodes: 5\n",
            "Number of target labels: 5\n"
          ]
        }
      ],
      "source": [
        "print(\"========== Train ==========\")\n",
        "print(f\"Number of snapshots graph of the dataset: {len(train_dataset)}\")\n",
        "print(f\"Graph snapshot structure: {train_dataset[0]}\")\n",
        "print(f\"Number of features: {int(train_dataset[0].x.shape[1] / window_size)}\")\n",
        "print(f\"Number of nodes: {len(train_dataset[0].x)}\")\n",
        "print(f\"Number of target labels: {len(train_dataset[0].y)}\")\n",
        "\n",
        "print(\"========== Val ==========\")\n",
        "\n",
        "print(f\"Number of snapshots graph of the dataset: {len(validation_dataset)}\")\n",
        "print(f\"Graph snapshot structure: {validation_dataset[0]}\")\n",
        "print(f\"Number of features: {int(validation_dataset[0].x.shape[1] / window_size)}\")\n",
        "print(f\"Number of nodes: {len(validation_dataset[0].x)}\")\n",
        "print(f\"Number of target labels: {len(validation_dataset[0].y)}\")\n",
        "\n",
        "print(\"========== Test ==========\")\n",
        "\n",
        "print(f\"Number of snapshots graph of the dataset: {len(test_dataset)}\")\n",
        "print(f\"Graph snapshot structure: {test_dataset[0]}\")\n",
        "print(f\"Number of features: {int(test_dataset[0].x.shape[1] / window_size)}\")\n",
        "print(f\"Number of nodes: {len(test_dataset[0].x)}\")\n",
        "print(f\"Number of target labels: {len(test_dataset[0].y)}\")"
      ]
    },
    {
      "cell_type": "code",
      "execution_count": 52,
      "metadata": {},
      "outputs": [
        {
          "name": "stdout",
          "output_type": "stream",
          "text": [
            "\n",
            "Visualizing Graph...\n",
            "Number of nodes: 5\n",
            "Number of edges: 15\n",
            "tensor([0, 1, 1, 1, 0])\n"
          ]
        },
        {
          "data": {
            "image/png": "[encoded data removed]",
            "text/plain": [
              "<Figure size 500x500 with 1 Axes>"
            ]
          },
          "metadata": {},
          "output_type": "display_data"
        }
      ],
      "source": [
        "def visualize_geometric_graph(data_sample):\n",
        "    \"\"\"\n",
        "    Visualizes a single torch_geometric.data.Data graph sample.\n",
        "    \"\"\"\n",
        "    # Create a NetworkX graph object\n",
        "    G = nx.Graph()\n",
        "\n",
        "    # The edge_index tensor is of shape [2, num_edges].\n",
        "    # We need to transpose it and convert to a list of tuples.\n",
        "    edge_list = data_sample.edge_index.t().tolist()\n",
        "\n",
        "    # Add edges to the graph. Nodes are added automatically.\n",
        "    G.add_edges_from(edge_list)\n",
        "\n",
        "    print(f\"\\nVisualizing Graph...\")\n",
        "    print(f\"Number of nodes: {G.number_of_nodes()}\")\n",
        "    print(f\"Number of edges: {G.number_of_edges()}\")\n",
        "\n",
        "    # Use the labels (Y tensor) to color the nodes\n",
        "    # For example, class 0 is blue, class 1 is red\n",
        "    colors = ['red' if label == 0 else 'green' for label in data_sample.y] \n",
        "    print(data_sample.y)\n",
        "    # Draw the graph\n",
        "    plt.figure(figsize=(5, 5))\n",
        "    nx.draw(G, with_labels=True, node_color=colors, node_size=200, font_size=8)\n",
        "    plt.title(\"Graph Visualization\")\n",
        "    plt.show()\n",
        "\n",
        "# Visualize the first graph in the dataset\n",
        "\n",
        "visualize_geometric_graph(train_dataset[20])"
      ]
    },
    {
      "cell_type": "markdown",
      "metadata": {
        "id": "ql-xe2BnPiCf"
      },
      "source": [
        "# Model 1: GConvGRU"
      ]
    },
    {
      "cell_type": "code",
      "execution_count": 53,
      "metadata": {
        "id": "hAP4Vu62Pml2"
      },
      "outputs": [],
      "source": [
        "from torch_geometric_temporal.nn import GConvGRU"
      ]
    },
    {
      "cell_type": "code",
      "execution_count": 54,
      "metadata": {},
      "outputs": [
        {
          "data": {
            "text/plain": [
              "666"
            ]
          },
          "execution_count": 54,
          "metadata": {},
          "output_type": "execute_result"
        }
      ],
      "source": [
        "model_GConvGRU = GConvGRU(10, 1, 20).to(device)\n",
        "sum([p.numel() for p in model_GConvGRU.parameters()])"
      ]
    },
    {
      "cell_type": "markdown",
      "metadata": {
        "id": "zjrSKZOh-Qm5"
      },
      "source": [
        "# Model 2: DGDNN\n",
        "\n",
        "GitHub: https://github.com/pixelhero98/DGDNN"
      ]
    },
    {
      "cell_type": "code",
      "execution_count": 55,
      "metadata": {
        "id": "Km3vpuil-UOY"
      },
      "outputs": [],
      "source": [
        "\n",
        "from dgdnn import DGDNN "
      ]
    },
    {
      "cell_type": "markdown",
      "metadata": {},
      "source": [
        "## Define the model"
      ]
    },
    {
      "cell_type": "code",
      "execution_count": 57,
      "metadata": {},
      "outputs": [
        {
          "data": {
            "text/plain": [
              "144243"
            ]
          },
          "execution_count": 57,
          "metadata": {},
          "output_type": "execute_result"
        }
      ],
      "source": [
        "####  Define model\n",
        "layers = 6\n",
        "num_nodes = train_dataset[0].x.shape[0]\n",
        "expansion_step = 7\n",
        "num_heads = 2\n",
        "active_layers = [True, False, False, False, False, False]\n",
        "timestamp = 2  #window\n",
        "classes = 1\n",
        "diffusion_size = [5*timestamp, 31*timestamp, 28*timestamp, 24*timestamp, 20*timestamp, 16*timestamp, 12*timestamp]\n",
        "emb_size = [5 + 31, 64, 28 + 64, 50,\n",
        "            24 + 50, 38, 20 + 38, 24,\n",
        "            16 + 24, 12, 12+12, 10]  \n",
        "\n",
        "\n",
        "##### NEW MODEl ####\n",
        "# layers = 2\n",
        "# num_nodes = 6\n",
        "# expansion_step = 2\n",
        "# num_heads = 2\n",
        "# active_layers = [True, False]\n",
        "# timestamp = 2  #window\n",
        "# classes = 1\n",
        "# diffusion_size = [5*timestamp, 13*timestamp, 8*timestamp]\n",
        "\n",
        "# emb_size = [5 + 13, 64, 64 + 8, 10]  \n",
        " \n",
        "#in_size = previous_output + diffusion_size_i\n",
        "model_DGDNN = DGDNN(\n",
        "    diffusion_size=diffusion_size,\n",
        "    embedding_size=emb_size,\n",
        "    classes=1,\n",
        "    layers=layers,\n",
        "    num_nodes=num_nodes,\n",
        "    expansion_step=expansion_step,\n",
        "    num_heads=num_heads,\n",
        "    active=active_layers,\n",
        "    timestamp=timestamp\n",
        ").to(device)\n",
        "\n",
        "sum([p.numel() for p in model_DGDNN.parameters()])"
      ]
    },
    {
      "cell_type": "markdown",
      "metadata": {},
      "source": [
        "## Train DGDNN"
      ]
    },
    {
      "cell_type": "code",
      "execution_count": 58,
      "metadata": {},
      "outputs": [],
      "source": [
        "train_loader = DataLoader(train_dataset, batch_size=1, shuffle=True)\n",
        "validation_loader = DataLoader(validation_dataset, batch_size=1, shuffle=True)\n",
        "test_loader = DataLoader(test_dataset, batch_size=1, shuffle=True)"
      ]
    },
    {
      "cell_type": "code",
      "execution_count": 61,
      "metadata": {},
      "outputs": [
        {
          "name": "stdout",
          "output_type": "stream",
          "text": [
            "Epoch 0/30,  train_loss=198.8101, val_loss=0.6914, val_acc=0.5376, val_f1=0.6508\n",
            "Epoch 5/30,  train_loss=197.6556, val_loss=0.6870, val_acc=0.5376, val_f1=0.6508\n",
            "Epoch 10/30,  train_loss=197.4350, val_loss=0.6847, val_acc=0.5536, val_f1=0.5570\n",
            "Epoch 15/30,  train_loss=197.3480, val_loss=0.6875, val_acc=0.5376, val_f1=0.6508\n",
            "Epoch 20/30,  train_loss=197.0598, val_loss=0.6844, val_acc=0.5568, val_f1=0.5579\n",
            "Epoch 25/30,  train_loss=197.1221, val_loss=0.6859, val_acc=0.5568, val_f1=0.5579\n",
            "Epoch 30/30,  train_loss=196.8813, val_loss=0.6863, val_acc=0.5328, val_f1=0.6009\n",
            "Training finished.\n"
          ]
        }
      ],
      "source": [
        "optimizer = optim.Adam(model_DGDNN.parameters(), lr=2e-4, weight_decay=1.5e-5)\n",
        "criterion = nn.BCEWithLogitsLoss() # For binary classification (output is a single logit)\n",
        "num_epochs = 30\n",
        "\n",
        "model_DGDNN.train()\n",
        "for epoch in range(num_epochs+1): \n",
        "    train_loss = .0 #loss for each epoch\n",
        "    for train_sample in train_loader: \n",
        "      if train_sample.x.shape[-1] != 5 * timestamp:\n",
        "        print( f\"Found {train_sample.x.shape}, SKIP\" ) \n",
        "        continue\n",
        "      train_sample = train_sample.to(device)\n",
        "      optimizer.zero_grad()\n",
        "      \n",
        "      A = to_dense_adj(train_sample.edge_index, \n",
        "                        batch=train_sample.batch, # Important for correct batch processing if batch_size > 1\n",
        "                        edge_attr=train_sample.edge_attr, \n",
        "                        max_num_nodes=num_nodes).squeeze(0) # Squeeze for batch_size=1\n",
        "      \n",
        "      C = train_sample.y.unsqueeze(dim=1).float()\n",
        "      # Forward pass\n",
        "      # DGDNN expects X: [num_nodes, features], A: [num_nodes, num_nodes]\n",
        "      outputs = model_DGDNN(train_sample.x, A) # Output shape: [num_nodes, classes]\n",
        "\n",
        "      loss = criterion(outputs, C) - 0.0029 * neighbor_distance_regularizer(model_DGDNN.theta) + theta_regularizer(model_DGDNN.theta)\n",
        "      \n",
        "      # Backward pass and optimize\n",
        "      loss.backward()\n",
        "      optimizer.step()\n",
        "      #loss.step()\n",
        "      train_loss += loss.item()\n",
        "\n",
        "    # Validation step\n",
        "    if epoch%(5) == 0:\n",
        "      val_loss =.0 #Reset validation loss\n",
        "      val_acc = .0 #Reset validation accuracy\n",
        "      val_f1 = .0 #Reset f1 score\n",
        "      with torch.no_grad():\n",
        "        for val_sample in validation_loader:\n",
        "          if val_sample.x.shape[-1] != 5 * timestamp:\n",
        "            print( f\"Found {val_sample.x.shape}, SKIP\" ) \n",
        "            continue\n",
        "          val_sample.to(device)\n",
        "          A = to_dense_adj(val_sample.edge_index, \n",
        "                        batch=val_sample.batch, # Important for correct batch processing if batch_size > 1\n",
        "                        edge_attr=val_sample.edge_attr, \n",
        "                        max_num_nodes=num_nodes).squeeze(0) # Squeeze for batch_size=1\n",
        "          out = model_DGDNN(val_sample.x, A)\n",
        "\n",
        "          y = val_sample.y.detach().cpu() # Obtain the y labels\n",
        "          preds = (out > 0).float().detach().cpu().squeeze() #get the predicted logits\n",
        "\n",
        "          val_loss += criterion(out, val_sample.y.unsqueeze(1).float()).item()\n",
        "          val_acc += accuracy_score(y, preds)\n",
        "          val_f1 += f1_score(y, preds, zero_division=0)\n",
        "          #val_mcc += matthews_corrcoef() \n",
        "\n",
        "        print(f\"Epoch {epoch}/{num_epochs},  train_loss={train_loss:.4f}, val_loss={(val_loss/len(validation_loader)):.4f}, val_acc={(val_acc/len(validation_loader)):.4f}, val_f1={(val_f1/len(validation_loader)):.4f}\")\n",
        "     \n",
        "print(\"Training finished.\")"
      ]
    },
    {
      "cell_type": "code",
      "execution_count": 63,
      "metadata": {},
      "outputs": [
        {
          "data": {
            "text/plain": [
              "(tensor(806), 1764)"
            ]
          },
          "execution_count": 63,
          "metadata": {},
          "output_type": "execute_result"
        }
      ],
      "source": [
        "label_1 = 0\n",
        "for s in train_loader:\n",
        "    label_1 += s.y.sum()\n",
        "label_1, len(train_loader)*6"
      ]
    },
    {
      "cell_type": "markdown",
      "metadata": {},
      "source": [
        "## Test the model"
      ]
    },
    {
      "cell_type": "code",
      "execution_count": 64,
      "metadata": {},
      "outputs": [],
      "source": [
        "test_loader = DataLoader(test_dataset, batch_size=1, shuffle=True)"
      ]
    },
    {
      "cell_type": "code",
      "execution_count": 69,
      "metadata": {},
      "outputs": [
        {
          "name": "stdout",
          "output_type": "stream",
          "text": [
            "Test acc=0.547410358565737\n",
            "Test F1=0.6641040804257835\n",
            "Test MCC=0.047624939137915906\n",
            "Predicted negative: 502\n"
          ]
        },
        {
          "ename": "TypeError",
          "evalue": "expected str, bytes or os.PathLike object, not builtin_function_or_method",
          "output_type": "error",
          "traceback": [
            "\u001b[31m---------------------------------------------------------------------------\u001b[39m",
            "\u001b[31mTypeError\u001b[39m                                 Traceback (most recent call last)",
            "\u001b[36mCell\u001b[39m\u001b[36m \u001b[39m\u001b[32mIn[69]\u001b[39m\u001b[32m, line 44\u001b[39m\n\u001b[32m     42\u001b[39m \u001b[38;5;66;03m#TO FINISH   \u001b[39;00m\n\u001b[32m     43\u001b[39m \u001b[38;5;28;01mfrom\u001b[39;00m\u001b[38;5;250m \u001b[39m\u001b[34;01mutils\u001b[39;00m\u001b[38;5;250m \u001b[39m\u001b[38;5;28;01mimport\u001b[39;00m create_test_report\n\u001b[32m---> \u001b[39m\u001b[32m44\u001b[39m \u001b[43mcreate_test_report\u001b[49m\u001b[43m(\u001b[49m\u001b[33;43m\"\u001b[39;49m\u001b[33;43mDGDNN\u001b[39;49m\u001b[33;43m\"\u001b[39;49m\u001b[43m,\u001b[49m\u001b[43m \u001b[49m\u001b[43mnum_epochs\u001b[49m\u001b[43m,\u001b[49m\u001b[43m \u001b[49m\u001b[33;43m'\u001b[39;49m\u001b[33;43m./\u001b[39;49m\u001b[33;43m'\u001b[39;49m\u001b[43m,\u001b[49m\u001b[43m \u001b[49m\u001b[43mtest_acc\u001b[49m\u001b[43m,\u001b[49m\u001b[43m \u001b[49m\u001b[43mtest_f1\u001b[49m\u001b[43m,\u001b[49m\u001b[43m \u001b[49m\u001b[43mtest_mcc\u001b[49m\u001b[43m,\u001b[49m\u001b[43m \u001b[49m\u001b[33;43m'\u001b[39;49m\u001b[33;43msd\u001b[39;49m\u001b[33;43m'\u001b[39;49m\u001b[43m)\u001b[49m\n",
            "\u001b[36mFile \u001b[39m\u001b[32m<string>:2\u001b[39m, in \u001b[36mcreate_test_report\u001b[39m\u001b[34m(model_name, epochs, dest, acc, f1, mcc, prediction_balance)\u001b[39m\n",
            "\u001b[36mFile \u001b[39m\u001b[32m<frozen posixpath>:76\u001b[39m, in \u001b[36mjoin\u001b[39m\u001b[34m(a, *p)\u001b[39m\n",
            "\u001b[31mTypeError\u001b[39m: expected str, bytes or os.PathLike object, not builtin_function_or_method"
          ]
        }
      ],
      "source": [
        "# Use torch.no_grad() for evaluation to improve speed and save memory\n",
        "model_DGDNN.eval()\n",
        "\n",
        "all_logits = []\n",
        "all_labels = [] \n",
        "total_test_loss = 0\n",
        "conc = torch.tensor([]).to(device)\n",
        "label_conc = torch.tensor([]).to(device)\n",
        "\n",
        "with torch.no_grad():  # Deactivates autograd for efficiency\n",
        "    for test_sample in test_loader:\n",
        "        if test_sample.x.shape[-1] != 5 * timestamp: continue\n",
        "        test_sample = test_sample.to(device)\n",
        "        \n",
        "        # --- X Preparation ---\n",
        "        X = test_sample.x\n",
        "        A = to_dense_adj(test_sample.edge_index,\n",
        "                         batch=test_sample.batch,\n",
        "                         edge_attr=test_sample.edge_attr,\n",
        "                         max_num_nodes=num_nodes).squeeze(0)\n",
        "        \n",
        "        # Use test_sample.y for labels and prepare for loss calculation\n",
        "        C = test_sample.y.unsqueeze(dim=1).float() \n",
        "        \n",
        "        # --- Forward pass and Loss Calculation ---\n",
        "        out = model_DGDNN(X, A)\n",
        "        \n",
        "        # --- Accumulate logits and labels ---\n",
        "        conc = torch.cat((conc, out.squeeze()), dim=0)\n",
        "        label_conc = torch.cat((label_conc, test_sample.y), dim=0)\n",
        "\n",
        "    test_acc = accuracy_score((conc > 0).detach().cpu().float(),  label_conc.detach().cpu())\n",
        "    test_f1 = f1_score((conc > 0).detach().cpu().float(),  label_conc.detach().cpu())\n",
        "    test_mcc = matthews_corrcoef((conc > 0).detach().cpu().float(),  label_conc.detach().cpu())\n",
        "\n",
        "\n",
        "print(f\"Test acc={test_acc}\")\n",
        "print(f\"Test F1={test_f1}\")\n",
        "print(f\"Test MCC={test_mcc}\")\n",
        "print(f\"Predicted negative: {(conc < 0).sum()}\")\n",
        "\n",
        "#TO FINISH   \n",
        "\n"
      ]
    },
    {
      "cell_type": "code",
      "execution_count": null,
      "metadata": {},
      "outputs": [],
      "source": []
    },
    {
      "cell_type": "code",
      "execution_count": 83,
      "metadata": {},
      "outputs": [],
      "source": [
        "from utils import create_test_report\n",
        "create_test_report(\"DGDNN\", num_epochs, './', test_acc, test_f1, test_mcc, 'sd')"
      ]
    },
    {
      "cell_type": "markdown",
      "metadata": {},
      "source": [
        "# Model 3. Temporal GNN"
      ]
    },
    {
      "cell_type": "code",
      "execution_count": null,
      "metadata": {},
      "outputs": [
        {
          "data": {
            "text/plain": [
              "6360065"
            ]
          },
          "execution_count": 50,
          "metadata": {},
          "output_type": "execute_result"
        }
      ],
      "source": [
        "class TemporalGNN(nn.Module):\n",
        "    def __init__(self, in_channels, hidden_channels, out_channels, dropout=0.2):\n",
        "        super(TemporalGNN, self).__init__()\n",
        "        self.recurrent1 = GConvGRU(in_channels, hidden_channels, K=2)\n",
        "        #self.recurrent2 = GConvGRU(hidden_channels, hidden_channels, K=2)\n",
        "        #self.recurrent3 = GConvGRU(hidden_channels, hidden_channels, K=2)\n",
        "        self.dropout = nn.Dropout(dropout)\n",
        "        self.linear = nn.Linear(hidden_channels, out_channels)\n",
        "\n",
        "    def forward(self, x, edge_index, edge_weight):\n",
        "        h1 = None\n",
        "        h2 = None\n",
        "        h3 = None\n",
        "        h1 = self.recurrent1(x, edge_index, edge_weight, h1)\n",
        "        #h2 = self.recurrent2(h1, edge_index, edge_weight, h2)\n",
        "        #h3 = self.recurrent3(h2, edge_index, edge_weight, h3)\n",
        "        h = F.relu(h1)\n",
        "        h = self.dropout(h)  # Dropout before final layer\n",
        "        out = self.linear(h)\n",
        "        return out\n",
        "\n",
        "\n",
        "input_dim = 5 * timestamp\n",
        "hidden_dim = 1024\n",
        "output_dim = 1\n",
        "\n",
        "model_TemporalGNN = TemporalGNN(input_dim, hidden_dim, output_dim).to(device)\n",
        "sum([p.numel() for p in model_TemporalGNN.parameters()])"
      ]
    },
    {
      "cell_type": "markdown",
      "metadata": {},
      "source": [
        "## Train Temporal_GNN"
      ]
    },
    {
      "cell_type": "code",
      "execution_count": null,
      "metadata": {},
      "outputs": [],
      "source": [
        "train_loader = DataLoader(train_dataset, batch_size=1, shuffle=True)\n",
        "val_loader = DataLoader(validation_dataset, batch_size=1, shuffle=True)\n",
        "test_loader = DataLoader(test_dataset, batch_size=1, shuffle=True)\n"
      ]
    },
    {
      "cell_type": "code",
      "execution_count": null,
      "metadata": {},
      "outputs": [
        {
          "name": "stdout",
          "output_type": "stream",
          "text": [
            "Epoch 0/15,  train_loss=203.6195, val_loss=0.6888, val_acc=0.5504, val_f1=0.5899\n",
            "Epoch 5/15,  train_loss=203.3088, val_loss=0.6892, val_acc=0.5552, val_f1=0.5679\n",
            "Epoch 10/15,  train_loss=203.1100, val_loss=0.6897, val_acc=0.5552, val_f1=0.5691\n",
            "Epoch 15/15,  train_loss=202.6861, val_loss=0.6878, val_acc=0.5632, val_f1=0.5914\n"
          ]
        }
      ],
      "source": [
        "optimizer = optim.Adam(model_TemporalGNN.parameters(), lr=2e-4, weight_decay=1.5e-5)\n",
        "criterion = nn.BCEWithLogitsLoss() # For binary classification (output is a single logit)\n",
        "num_epochs = 15\n",
        "\n",
        "for epoch in range(num_epochs+1):\n",
        "    train_loss = .0\n",
        "    train_acc = .0\n",
        "    model_TemporalGNN.train()\n",
        "    for train_sample in train_loader:\n",
        "        if train_sample.x.shape[-1] != 5 * timestamp: continue\n",
        "        \n",
        "        train_sample.to(device)\n",
        "        optimizer.zero_grad()\n",
        "        out = model_TemporalGNN(train_sample.x, train_sample.edge_index, train_sample.edge_weight)\n",
        "        loss = criterion( out, train_sample.y.unsqueeze(1).float() )\n",
        "        loss.backward()\n",
        "        train_loss += loss.item()\n",
        "        optimizer.step()\n",
        "        #train_acc += accuracy_score((out.detach().cpu() > 0).float().squeeze(), validation_dataset[10].y.detach().cpu())\n",
        "\n",
        "    if epoch%5 == 0:\n",
        "      val_loss =.0 #Reset validation loss\n",
        "      val_acc = .0 #Reset validation accuracy\n",
        "      val_f1 = .0 #Reset f1 score\n",
        "      with torch.no_grad():\n",
        "        for val_sample in validation_loader:\n",
        "          if val_sample.x.shape[-1] != 5 * timestamp: continue\n",
        "          \n",
        "          val_sample.to(device)\n",
        "          out = model_TemporalGNN(val_sample.x, val_sample.edge_index, val_sample.edge_attr)\n",
        "\n",
        "          y = val_sample.y.detach().cpu() # Obtain the y labels\n",
        "          preds = (out > 0).float().detach().cpu().squeeze() #get the predicted logits\n",
        "\n",
        "          val_loss += criterion(out, val_sample.y.unsqueeze(1).float()).item()\n",
        "          val_acc += accuracy_score(y, preds)\n",
        "          val_f1 += f1_score(y, preds)\n",
        "          #val_mcc += matthews_corrcoef() \n",
        "\n",
        "        print(f\"Epoch {epoch}/{num_epochs},  train_loss={train_loss:.4f}, val_loss={(val_loss/len(validation_loader)):.4f}, val_acc={(val_acc/len(validation_loader)):.4f}, val_f1={(val_f1/len(validation_loader)):.4f}\")\n",
        "\n",
        "\n",
        "\n"
      ]
    },
    {
      "cell_type": "markdown",
      "metadata": {},
      "source": [
        "## Test Temporal GNN"
      ]
    },
    {
      "cell_type": "code",
      "execution_count": null,
      "metadata": {},
      "outputs": [
        {
          "name": "stdout",
          "output_type": "stream",
          "text": [
            "Test acc=0.5350597609561752\n",
            "Test F1=0.6217179902755268\n",
            "Test MCC=0.03845651150426428\n",
            "Predicted negative: 799\n"
          ]
        }
      ],
      "source": [
        "# Use torch.no_grad() for evaluation to improve speed and save memory\n",
        "model_TemporalGNN.eval()\n",
        "criterion = nn.BCEWithLogitsLoss()\n",
        "\n",
        "all_logits = []\n",
        "all_labels = []\n",
        "total_test_loss = 0\n",
        "conc = torch.tensor([]).to(device)\n",
        "label_conc = torch.tensor([]).to(device)\n",
        "\n",
        "with torch.no_grad():  # Deactivates autograd for efficiency\n",
        "    for test_sample in test_loader:\n",
        "        if test_sample.x.shape[-1] != 5 * timestamp: continue\n",
        "\n",
        "        test_sample = test_sample.to(device)\n",
        "        \n",
        "        \n",
        "        # --- Forward pass and Loss Calculation ---\n",
        "        out = model_TemporalGNN(test_sample.x, test_sample.edge_index, test_sample.edge_attr)\n",
        "        loss = criterion(out, test_sample.y.unsqueeze(1).float())  # Note: Regularizers are often omitted during evaluation\n",
        "        total_test_loss += loss.item()\n",
        "        \n",
        "\n",
        "        # --- Accumulate logits and labels ---\n",
        "        conc = torch.cat((conc, out.squeeze()), dim=0)\n",
        "        label_conc = torch.cat((label_conc, test_sample.y), dim=0)\n",
        "\n",
        "    test_acc = accuracy_score((conc > 0).detach().cpu().float(),  label_conc.detach().cpu())\n",
        "    test_f1 = f1_score((conc > 0).detach().cpu().float(),  label_conc.detach().cpu())\n",
        "    test_mcc = matthews_corrcoef((conc > 0).detach().cpu().float(),  label_conc.detach().cpu())\n",
        "\n",
        "\n",
        "print(f\"Test acc={test_acc}\")\n",
        "print(f\"Test F1={test_f1}\")\n",
        "print(f\"Test MCC={test_mcc}\")\n",
        "print(f\"Predicted negative: {(conc < 0).sum()}\")\n",
        "\n"
      ]
    },
    {
      "cell_type": "markdown",
      "metadata": {},
      "source": [
        "# Model 4: HyperStockGAT\n",
        "\n",
        "https://github.com/midas-research/hyper-stockgat-www\n",
        "\n",
        "ORIGINAL FROM PAPER: https://github.com/HazyResearch/hgcn"
      ]
    }
  ],
  "metadata": {
    "colab": {
      "provenance": []
    },
    "kernelspec": {
      "display_name": "tesi_venv",
      "language": "python",
      "name": "python3"
    },
    "language_info": {
      "codemirror_mode": {
        "name": "ipython",
        "version": 3
      },
      "file_extension": ".py",
      "mimetype": "text/x-python",
      "name": "python",
      "nbconvert_exporter": "python",
      "pygments_lexer": "ipython3",
      "version": "3.12.7"
    }
  },
  "nbformat": 4,
  "nbformat_minor": 0
}
