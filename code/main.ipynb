{
  "cells": [
    {
      "cell_type": "markdown",
      "metadata": {
        "id": "EKwzdnNJ6C9k"
      },
      "source": []
    },
    {
      "cell_type": "code",
      "execution_count": 1,
      "metadata": {
        "colab": {
          "base_uri": "https://localhost:8080/",
          "height": 36
        },
        "id": "dnJby9Bg5PKX",
        "outputId": "ced7382a-cbc2-4030-dc2f-0dd5ecae0351"
      },
      "outputs": [
        {
          "data": {
            "text/plain": [
              "('2.2.2', None)"
            ]
          },
          "execution_count": 1,
          "metadata": {},
          "output_type": "execute_result"
        }
      ],
      "source": [
        "import numpy as np\n",
        "import pandas as pd\n",
        "import csv\n",
        "import time\n",
        "#torch\n",
        "import torch\n",
        "import torch.nn as nn\n",
        "import torch.optim as optim\n",
        "from torch_geometric.loader import DataLoader # For batching graph data\n",
        "from torch_geometric.utils import to_dense_adj\n",
        "import torch.nn.functional as F\n",
        "\n",
        "#sklearn\n",
        "from sklearn.metrics import accuracy_score, f1_score, matthews_corrcoef\n",
        "\n",
        "# objective functions\n",
        "from utils import theta_regularizer, neighbor_distance_regularizer\n",
        "\n",
        "#Visualize and create graph/charts\n",
        "import networkx as nx\n",
        "import matplotlib.pyplot as plt\n",
        "\n",
        "#Path managment\n",
        "import os\n",
        "import sys\n",
        "\n",
        "\n",
        "\n",
        "from IPython.display import clear_output\n",
        "device = 'cuda' if torch.cuda.is_available() else 'cpu'\n",
        "torch.seed = 1234\n",
        "torch.__version__, torch.version.cuda"
      ]
    },
    {
      "cell_type": "code",
      "execution_count": 17,
      "metadata": {},
      "outputs": [],
      "source": [
        "# To reload modulse if needed\n",
        "%reload_ext autoreload\n",
        "%autoreload 2"
      ]
    },
    {
      "cell_type": "markdown",
      "metadata": {},
      "source": [
        "### Add the DGDNN libraries into the path to get Data"
      ]
    },
    {
      "cell_type": "code",
      "execution_count": 3,
      "metadata": {},
      "outputs": [],
      "source": [
        "current_dir = os.getcwd() #till /.../home/..../code\n",
        "\n",
        "\n",
        "model_path = os.path.join(current_dir, 'models/DGDNN/Model')\n",
        "if model_path not in sys.path:\n",
        "    sys.path.insert(0, model_path)\n",
        "data_path = os.path.join(current_dir, 'models/DGDNN/Data')\n",
        "if data_path not in sys.path:\n",
        "    sys.path.insert(0, data_path)\n"
      ]
    },
    {
      "cell_type": "markdown",
      "metadata": {},
      "source": [
        "# The dataset "
      ]
    },
    {
      "cell_type": "code",
      "execution_count": 4,
      "metadata": {},
      "outputs": [],
      "source": [
        "from geometric_dataset_gen import MyDataset as MyGeometricDataset\n",
        "from dataset_gen import MyDataset "
      ]
    },
    {
      "cell_type": "code",
      "execution_count": 5,
      "metadata": {},
      "outputs": [],
      "source": [
        "# # Configure the default variables // # these can be tuned // # examples\n",
        "sedate = ['2013-01-01', '2014-12-31']  # these can be tuned\n",
        "val_sedate = ['2015-01-01', '2015-06-30'] # these can be tuned\n",
        "test_sedate = ['2015-07-01', '2017-12-31'] # these can be tuned\n",
        "market = ['NASDAQ', 'NYSE', 'SSE'] # can be changed\n",
        "dataset_type = ['Train', 'Validation', 'Test']\n",
        "\n",
        "com_path = [f'{current_dir}/data/tickers/NASDAQ.csv',\n",
        "            f'{current_dir}/data/tickers/NYSE.csv',\n",
        "            f'{current_dir}/data/tickers/NYSE_missing.csv'\n",
        "            ] # Where the company tickers are\n",
        "\n",
        "des = f\"{current_dir}/data/datasets/graph\" # Where to save the processed graphs\n",
        "\n",
        "# directory = \"/Users/mirco/Documents/Tesi/code/data/datasets/America_Stocks\" \n",
        "# window = 19\n",
        "NASDAQ_com_list = []\n",
        "NYSE_com_list = []\n",
        "NYSE_missing_list = []\n",
        "com_lists = [NASDAQ_com_list, NYSE_com_list, NYSE_missing_list] #Ticker lists\n",
        "com_lists = [NASDAQ_com_list, NYSE_com_list, NYSE_missing_list] #Ticker lists\n",
        "\n",
        "for idx, path in enumerate(com_path): #Per each ticker folder get the path and index\n",
        "    with open(path) as f:\n",
        "        file = csv.reader(f)\n",
        "        for line in file:\n",
        "            com_lists[idx].append(line[0])  # append first element of line if each line is a list\n",
        "NYSE_com_list = [com for com in NYSE_com_list if com not in NYSE_missing_list] #Filter the com on NYSE since they are missing \n",
        "# fast_approx = False # True for fast approximation and implementation\n",
        "# # Generate datasets\n"
      ]
    },
    {
      "cell_type": "code",
      "execution_count": 6,
      "metadata": {},
      "outputs": [
        {
          "data": {
            "text/plain": [
              "20"
            ]
          },
          "execution_count": 6,
          "metadata": {},
          "output_type": "execute_result"
        }
      ],
      "source": [
        "\n",
        "NYSE_com_list[:] = NYSE_com_list[:20]\n",
        "com_lists[1] = NYSE_com_list\n",
        "len(com_lists[1])"
      ]
    },
    {
      "cell_type": "code",
      "execution_count": 7,
      "metadata": {},
      "outputs": [],
      "source": [
        "dir = f'{current_dir}/data/datasets/stocks_CSVs/America_Stocks'\n",
        "dest = f'{current_dir}/data/datasets/graph/'\n",
        "market = 'NASDAQ'\n",
        "company_list = ['AAPL', 'ACWI',\n",
        "'ADSK',\n",
        "'ADTN',\n",
        "'ADUS',\n",
        "'AEGN']\n",
        "\n",
        "#company_list = com_lists[1]\n",
        "\n",
        "train_sedate = ['2012-05-01', '2014-12-31']  # these can be tuned\n",
        "val_sedate = ['2015-01-01', '2015-06-30'] # these can be tuned\n",
        "test_sedate = ['2015-07-01', '2016-06-30'] # these can be tuned\n",
        "dataset_type = ['Train', 'Validation', 'Test']\n",
        "window_size = 2# \n",
        "dataset_label = 'train'\n",
        "use_fast_approximation = False\n",
        "\n",
        "print(\"-\"*5, \"Building train dataset...\" , \"-\"*5)\n",
        "train_dataset = MyGeometricDataset(dir, dest, market, company_list, train_sedate[0], train_sedate[1], window_size, dataset_type[0], use_fast_approximation) \n",
        "print(\"-\"*5, \"Building validation dataset...\" , \"-\"*5)\n",
        "validation_dataset = MyGeometricDataset(dir, dest, market, company_list, val_sedate[0], val_sedate[1], window_size, dataset_type[1], use_fast_approximation)\n",
        "print(\"-\"*5, \"Building test dataset...\" , \"-\"*5)\n",
        "test_dataset = MyGeometricDataset(dir, dest, market, company_list, test_sedate[0], test_sedate[1], window_size, dataset_type[2], use_fast_approximation)\n",
        "clear_output()"
      ]
    },
    {
      "cell_type": "code",
      "execution_count": 8,
      "metadata": {},
      "outputs": [
        {
          "name": "stdout",
          "output_type": "stream",
          "text": [
            "Number of snapshots graph of the dataset: 671\n",
            "Graph snapshot structure: Data(x=[6, 10], edge_index=[2, 36], edge_attr=[36], y=[6])\n",
            "Number of nodes: 6\n",
            "Number of target labels: 6\n"
          ]
        }
      ],
      "source": [
        "print(f\"Number of snapshots graph of the dataset: {len(train_dataset)}\")\n",
        "print(f\"Graph snapshot structure: {train_dataset[0]}\")\n",
        "print(f\"Number of nodes: {len(train_dataset[0].x)}\")\n",
        "print(f\"Number of target labels: {len(train_dataset[0].y)}\")"
      ]
    },
    {
      "cell_type": "code",
      "execution_count": 9,
      "metadata": {},
      "outputs": [
        {
          "name": "stdout",
          "output_type": "stream",
          "text": [
            "\n",
            "Visualizing Graph...\n",
            "Number of nodes: 6\n",
            "Number of edges: 21\n",
            "tensor([0, 0, 0, 0, 0, 0])\n"
          ]
        },
        {
          "data": {
            "image/png": "[encoded data removed]",
            "text/plain": [
              "<Figure size 500x500 with 1 Axes>"
            ]
          },
          "metadata": {},
          "output_type": "display_data"
        }
      ],
      "source": [
        "def visualize_geometric_graph(data_sample):\n",
        "    \"\"\"\n",
        "    Visualizes a single torch_geometric.data.Data graph sample.\n",
        "    \"\"\"\n",
        "    # Create a NetworkX graph object\n",
        "    G = nx.Graph()\n",
        "\n",
        "    # The edge_index tensor is of shape [2, num_edges].\n",
        "    # We need to transpose it and convert to a list of tuples.\n",
        "    edge_list = data_sample.edge_index.t().tolist()\n",
        "\n",
        "    # Add edges to the graph. Nodes are added automatically.\n",
        "    G.add_edges_from(edge_list)\n",
        "\n",
        "    print(f\"\\nVisualizing Graph...\")\n",
        "    print(f\"Number of nodes: {G.number_of_nodes()}\")\n",
        "    print(f\"Number of edges: {G.number_of_edges()}\")\n",
        "\n",
        "    # Use the labels (Y tensor) to color the nodes\n",
        "    # For example, class 0 is blue, class 1 is red\n",
        "    colors = ['red' if label == 0 else 'green' for label in data_sample.y] \n",
        "    print(data_sample.y)\n",
        "    # Draw the graph\n",
        "    plt.figure(figsize=(5, 5))\n",
        "    nx.draw(G, with_labels=True, node_color=colors, node_size=200, font_size=8)\n",
        "    plt.title(\"Graph Visualization\")\n",
        "    plt.show()\n",
        "\n",
        "# Visualize the first graph in the dataset\n",
        "\n",
        "visualize_geometric_graph(train_dataset[20])"
      ]
    },
    {
      "cell_type": "markdown",
      "metadata": {
        "id": "ql-xe2BnPiCf"
      },
      "source": [
        "# Model 1: GConvGRU"
      ]
    },
    {
      "cell_type": "code",
      "execution_count": 10,
      "metadata": {
        "id": "hAP4Vu62Pml2"
      },
      "outputs": [
        {
          "name": "stderr",
          "output_type": "stream",
          "text": [
            "/Users/mirco/Documents/Tesi/code/tesi_venv/lib/python3.9/site-packages/urllib3/__init__.py:35: NotOpenSSLWarning: urllib3 v2 only supports OpenSSL 1.1.1+, currently the 'ssl' module is compiled with 'LibreSSL 2.8.3'. See: https://github.com/urllib3/urllib3/issues/3020\n",
            "  warnings.warn(\n"
          ]
        }
      ],
      "source": [
        "from torch_geometric_temporal.nn import GConvGRU"
      ]
    },
    {
      "cell_type": "code",
      "execution_count": 11,
      "metadata": {},
      "outputs": [
        {
          "data": {
            "text/plain": [
              "666"
            ]
          },
          "execution_count": 11,
          "metadata": {},
          "output_type": "execute_result"
        }
      ],
      "source": [
        "model_GConvGRU = GConvGRU(10, 1, 20).to(device)\n",
        "sum([p.numel() for p in model_GConvGRU.parameters()])"
      ]
    },
    {
      "cell_type": "markdown",
      "metadata": {
        "id": "zjrSKZOh-Qm5"
      },
      "source": [
        "# Model 2: DGDNN\n",
        "\n",
        "GitHub: https://github.com/pixelhero98/DGDNN"
      ]
    },
    {
      "cell_type": "code",
      "execution_count": 18,
      "metadata": {
        "id": "Km3vpuil-UOY"
      },
      "outputs": [],
      "source": [
        "\n",
        "from dgdnn import DGDNN "
      ]
    },
    {
      "cell_type": "markdown",
      "metadata": {},
      "source": [
        "## Define the model"
      ]
    },
    {
      "cell_type": "code",
      "execution_count": 20,
      "metadata": {},
      "outputs": [
        {
          "data": {
            "text/plain": [
              "30919"
            ]
          },
          "execution_count": 20,
          "metadata": {},
          "output_type": "execute_result"
        }
      ],
      "source": [
        "####  Define model\n",
        "layers = 6\n",
        "num_nodes = 20\n",
        "expansion_step = 7\n",
        "num_heads = 2\n",
        "active_layers = [True, False, False, False, False, False]\n",
        "timestamp = 17  #window\n",
        "classes = 1\n",
        "diffusion_size = [5*timestamp, 31*timestamp, 28*timestamp, 24*timestamp, 20*timestamp, 16*timestamp, 12*timestamp]\n",
        "emb_size = [5 + 31, 64, 28 + 64, 50,\n",
        "            24 + 50, 38, 20 + 38, 24,\n",
        "            16 + 24, 12, 12+12, 10]  \n",
        "\n",
        "\n",
        "##### NEW MODEl ####\n",
        "layers = 2\n",
        "num_nodes = 6\n",
        "expansion_step = 2\n",
        "num_heads = 2\n",
        "active_layers = [True, False]\n",
        "timestamp = 2  #window\n",
        "classes = 1\n",
        "diffusion_size = [5*timestamp, 13*timestamp, 8*timestamp]\n",
        "\n",
        "emb_size = [5 + 13, 64, 64 + 8, 10]  \n",
        " \n",
        "#in_size = previous_output + diffusion_size_i\n",
        "model = DGDNN(\n",
        "    diffusion_size=diffusion_size,\n",
        "    embedding_size=emb_size,\n",
        "    classes=1,\n",
        "    layers=layers,\n",
        "    num_nodes=num_nodes,\n",
        "    expansion_step=expansion_step,\n",
        "    num_heads=num_heads,\n",
        "    active=active_layers,\n",
        "    timestamp=timestamp\n",
        ").to(device)\n",
        "\n",
        "sum([p.numel() for p in model.parameters()])"
      ]
    },
    {
      "cell_type": "markdown",
      "metadata": {},
      "source": [
        "## Train DGDNN"
      ]
    },
    {
      "cell_type": "code",
      "execution_count": 21,
      "metadata": {},
      "outputs": [],
      "source": [
        "train_loader = DataLoader(train_dataset, batch_size=1, shuffle=True)\n",
        "validation_loader = DataLoader(validation_dataset, batch_size=1, shuffle=True)\n",
        "test_loader = DataLoader(test_dataset, batch_size=1, shuffle=True)"
      ]
    },
    {
      "cell_type": "code",
      "execution_count": 25,
      "metadata": {},
      "outputs": [],
      "source": [
        "train_sample = next(iter(train_loader))"
      ]
    },
    {
      "cell_type": "code",
      "execution_count": 58,
      "metadata": {},
      "outputs": [
        {
          "name": "stdout",
          "output_type": "stream",
          "text": [
            "Epoch 1/20,  train_loss=460.6605, val_loss=0.6942, val_acc=0.4986, val_f1=0.6114\n",
            "Epoch 5/20,  train_loss=460.4146, val_loss=0.6942, val_acc=0.4986, val_f1=0.6114\n",
            "Epoch 9/20,  train_loss=459.7003, val_loss=0.6927, val_acc=0.5176, val_f1=0.3709\n",
            "Epoch 13/20,  train_loss=460.0073, val_loss=0.6935, val_acc=0.5014, val_f1=0.5306\n",
            "Epoch 17/20,  train_loss=460.0135, val_loss=0.6933, val_acc=0.4986, val_f1=0.6107\n",
            "Training finished.\n"
          ]
        }
      ],
      "source": [
        "optimizer = optim.Adam(model.parameters(), lr=2e-4, weight_decay=1.5e-5)\n",
        "criterion = nn.BCEWithLogitsLoss() # For binary classification (output is a single logit)\n",
        "num_epochs = 20\n",
        "\n",
        "model.train()\n",
        "for epoch in range(num_epochs): \n",
        "    train_loss = .0 #loss for each epoch\n",
        "    for train_sample in train_loader: \n",
        "      if train_sample.x.shape[-1] != 5 * timestamp:\n",
        "        print( f\"Found {train_sample.x.shape}, SKIP\" ) \n",
        "        continue\n",
        "      train_sample = train_sample.to(device)\n",
        "      optimizer.zero_grad()\n",
        "      \n",
        "      A = to_dense_adj(train_sample.edge_index, \n",
        "                        batch=train_sample.batch, # Important for correct batch processing if batch_size > 1\n",
        "                        edge_attr=train_sample.edge_attr, \n",
        "                        max_num_nodes=num_nodes).squeeze(0) # Squeeze for batch_size=1\n",
        "      \n",
        "      C = train_sample.y.unsqueeze(dim=1).float()\n",
        "      # Forward pass\n",
        "      # DGDNN expects X: [num_nodes, features], A: [num_nodes, num_nodes]\n",
        "      outputs = model(train_sample.x, A) # Output shape: [num_nodes, classes]\n",
        "\n",
        "      loss = criterion(outputs, C) - 0.0029 * neighbor_distance_regularizer(model.theta) + theta_regularizer(model.theta)\n",
        "      \n",
        "      # Backward pass and optimize\n",
        "      loss.backward()\n",
        "      optimizer.step()\n",
        "      #loss.step()\n",
        "      train_loss += loss.item()\n",
        "\n",
        "    # Validation step\n",
        "    if epoch%(4) == 0:\n",
        "      val_loss =.0 #Reset validation loss\n",
        "      val_acc = .0 #Reset validation accuracy\n",
        "      val_f1 = .0 #Reset f1 score\n",
        "      with torch.no_grad():\n",
        "        for val_sample in validation_loader:\n",
        "          if val_sample.x.shape[-1] != 5 * timestamp:\n",
        "            print( f\"Found {val_sample.x.shape}, SKIP\" ) \n",
        "            continue\n",
        "          val_sample.to(device)\n",
        "          A = to_dense_adj(val_sample.edge_index, \n",
        "                        batch=val_sample.batch, # Important for correct batch processing if batch_size > 1\n",
        "                        edge_attr=val_sample.edge_attr, \n",
        "                        max_num_nodes=num_nodes).squeeze(0) # Squeeze for batch_size=1\n",
        "          out = model(val_sample.x, A)\n",
        "\n",
        "          y = val_sample.y.detach().cpu() # Obtain the y labels\n",
        "          preds = (out > 0).float().detach().cpu().squeeze() #get the predicted logits\n",
        "\n",
        "          val_loss += criterion(out, val_sample.y.unsqueeze(1).float()).item()\n",
        "          val_acc += accuracy_score(y, preds)\n",
        "          val_f1 += f1_score(y, preds, zero_division=0)\n",
        "          #val_mcc += matthews_corrcoef() \n",
        "\n",
        "        print(f\"Epoch {epoch+1}/{num_epochs},  train_loss={train_loss:.4f}, val_loss={(val_loss/len(validation_loader)):.4f}, val_acc={(val_acc/len(validation_loader)):.4f}, val_f1={(val_f1/len(validation_loader)):.4f}\")\n",
        "     \n",
        "print(\"Training finished.\")"
      ]
    },
    {
      "cell_type": "markdown",
      "metadata": {},
      "source": [
        "## Test the model"
      ]
    },
    {
      "cell_type": "code",
      "execution_count": 59,
      "metadata": {},
      "outputs": [],
      "source": [
        "test_loader = DataLoader(test_dataset, batch_size=1, shuffle=True)"
      ]
    },
    {
      "cell_type": "code",
      "execution_count": 68,
      "metadata": {},
      "outputs": [
        {
          "name": "stdout",
          "output_type": "stream",
          "text": [
            "Test acc=0.49404761904761907\n",
            "Test F1=0.6613545816733067\n",
            "Test MCC=0.0\n",
            "Predicted negative: 0\n"
          ]
        }
      ],
      "source": [
        "# Use torch.no_grad() for evaluation to improve speed and save memory\n",
        "model.eval()\n",
        "\n",
        "all_logits = []\n",
        "all_labels = [] \n",
        "total_test_loss = 0\n",
        "conc = torch.tensor([]).to(device)\n",
        "label_conc = torch.tensor([]).to(device)\n",
        "\n",
        "with torch.no_grad():  # Deactivates autograd for efficiency\n",
        "    for test_sample in test_loader:\n",
        "        if test_sample.x.shape[-1] != 5 * timestamp: continue\n",
        "        test_sample = test_sample.to(device)\n",
        "        \n",
        "        # --- X Preparation ---\n",
        "        X = test_sample.x\n",
        "        A = to_dense_adj(test_sample.edge_index,\n",
        "                         batch=test_sample.batch,\n",
        "                         edge_attr=test_sample.edge_attr,\n",
        "                         max_num_nodes=num_nodes).squeeze(0)\n",
        "        \n",
        "        # Use test_sample.y for labels and prepare for loss calculation\n",
        "        C = test_sample.y.unsqueeze(dim=1).float() \n",
        "        \n",
        "        # --- Forward pass and Loss Calculation ---\n",
        "        out = model(X, A)\n",
        "        \n",
        "        # --- Accumulate logits and labels ---\n",
        "        conc = torch.cat((conc, out.squeeze()), dim=0)\n",
        "        label_conc = torch.cat((label_conc, test_sample.y), dim=0)\n",
        "\n",
        "    test_acc = accuracy_score((conc > 0).detach().cpu().float(),  label_conc.detach().cpu())\n",
        "    test_f1 = f1_score((conc > 0).detach().cpu().float(),  label_conc.detach().cpu())\n",
        "    test_mcc = matthews_corrcoef((conc > 0).detach().cpu().float(),  label_conc.detach().cpu())\n",
        "\n",
        "\n",
        "print(f\"Test acc={test_acc}\")\n",
        "print(f\"Test F1={test_f1}\")\n",
        "print(f\"Test MCC={test_mcc}\")\n",
        "print(f\"Predicted negative: {(conc < 0).sum()}\")\n",
        "\n",
        "\n",
        "    \n",
        "      \n",
        "\n",
        "#TO FINISH   \n"
      ]
    },
    {
      "cell_type": "code",
      "execution_count": 62,
      "metadata": {},
      "outputs": [
        {
          "data": {
            "text/plain": [
              "[tensor(-0.0259)]"
            ]
          },
          "execution_count": 62,
          "metadata": {},
          "output_type": "execute_result"
        }
      ],
      "source": [
        "\n",
        "[ val for val in conc if val < 0]"
      ]
    },
    {
      "cell_type": "code",
      "execution_count": null,
      "metadata": {},
      "outputs": [],
      "source": []
    },
    {
      "cell_type": "markdown",
      "metadata": {},
      "source": [
        "# Model 3. Temporal GNN"
      ]
    },
    {
      "cell_type": "code",
      "execution_count": 63,
      "metadata": {},
      "outputs": [
        {
          "data": {
            "text/plain": [
              "1607169"
            ]
          },
          "execution_count": 63,
          "metadata": {},
          "output_type": "execute_result"
        }
      ],
      "source": [
        "class TemporalGNN(nn.Module):\n",
        "    def __init__(self, in_channels, hidden_channels, out_channels, dropout=0.2):\n",
        "        super(TemporalGNN, self).__init__()\n",
        "        self.recurrent1 = GConvGRU(in_channels, hidden_channels, K=2)\n",
        "        #self.recurrent2 = GConvGRU(hidden_channels, hidden_channels, K=2)\n",
        "        #self.recurrent3 = GConvGRU(hidden_channels, hidden_channels, K=2)\n",
        "        self.dropout = nn.Dropout(dropout)\n",
        "        self.linear = nn.Linear(hidden_channels, out_channels)\n",
        "\n",
        "    def forward(self, x, edge_index, edge_weight):\n",
        "        h1 = None\n",
        "        h2 = None\n",
        "        h3 = None\n",
        "        h1 = self.recurrent1(x, edge_index, edge_weight, h1)\n",
        "        #h2 = self.recurrent2(h1, edge_index, edge_weight, h2)\n",
        "        #h3 = self.recurrent3(h2, edge_index, edge_weight, h3)\n",
        "        h = F.relu(h1)\n",
        "        h = self.dropout(h)  # Dropout before final layer\n",
        "        out = self.linear(h)\n",
        "        return out\n",
        "\n",
        "\n",
        "input_dim = 5 * timestamp\n",
        "hidden_dim = 512\n",
        "output_dim = 1\n",
        "\n",
        "model_TemporalGNN = TemporalGNN(input_dim, hidden_dim, output_dim).to(device)\n",
        "sum([p.numel() for p in model_TemporalGNN.parameters()])"
      ]
    },
    {
      "cell_type": "markdown",
      "metadata": {},
      "source": [
        "## Train Temporal_GNN"
      ]
    },
    {
      "cell_type": "code",
      "execution_count": 64,
      "metadata": {},
      "outputs": [],
      "source": [
        "train_loader = DataLoader(train_dataset, batch_size=1, shuffle=True)\n",
        "val_loader = DataLoader(validation_dataset, batch_size=1, shuffle=True)\n",
        "test_loader = DataLoader(test_dataset, batch_size=1, shuffle=True)\n"
      ]
    },
    {
      "cell_type": "code",
      "execution_count": 65,
      "metadata": {},
      "outputs": [
        {
          "name": "stdout",
          "output_type": "stream",
          "text": [
            "Epoch 1/20,  train_loss=467.6018, val_loss=0.7031, val_acc=0.4973, val_f1=0.6066\n",
            "Epoch 5/20,  train_loss=467.0472, val_loss=0.7028, val_acc=0.5068, val_f1=0.6096\n"
          ]
        },
        {
          "ename": "KeyboardInterrupt",
          "evalue": "",
          "output_type": "error",
          "traceback": [
            "\u001b[0;31m---------------------------------------------------------------------------\u001b[0m",
            "\u001b[0;31mKeyboardInterrupt\u001b[0m                         Traceback (most recent call last)",
            "Cell \u001b[0;32mIn[65], line 19\u001b[0m\n\u001b[1;32m     17\u001b[0m     loss\u001b[38;5;241m.\u001b[39mbackward()\n\u001b[1;32m     18\u001b[0m     train_loss \u001b[38;5;241m+\u001b[39m\u001b[38;5;241m=\u001b[39m loss\u001b[38;5;241m.\u001b[39mitem()\n\u001b[0;32m---> 19\u001b[0m     \u001b[43moptimizer\u001b[49m\u001b[38;5;241;43m.\u001b[39;49m\u001b[43mstep\u001b[49m\u001b[43m(\u001b[49m\u001b[43m)\u001b[49m\n\u001b[1;32m     20\u001b[0m     \u001b[38;5;66;03m#train_acc += accuracy_score((out.detach().cpu() > 0).float().squeeze(), validation_dataset[10].y.detach().cpu())\u001b[39;00m\n\u001b[1;32m     22\u001b[0m \u001b[38;5;28;01mif\u001b[39;00m epoch\u001b[38;5;241m%\u001b[39m\u001b[38;5;241m4\u001b[39m \u001b[38;5;241m==\u001b[39m \u001b[38;5;241m0\u001b[39m:\n",
            "File \u001b[0;32m~/Documents/Tesi/code/tesi_venv/lib/python3.9/site-packages/torch/optim/optimizer.py:385\u001b[0m, in \u001b[0;36mOptimizer.profile_hook_step.<locals>.wrapper\u001b[0;34m(*args, **kwargs)\u001b[0m\n\u001b[1;32m    380\u001b[0m         \u001b[38;5;28;01melse\u001b[39;00m:\n\u001b[1;32m    381\u001b[0m             \u001b[38;5;28;01mraise\u001b[39;00m \u001b[38;5;167;01mRuntimeError\u001b[39;00m(\n\u001b[1;32m    382\u001b[0m                 \u001b[38;5;124mf\u001b[39m\u001b[38;5;124m\"\u001b[39m\u001b[38;5;132;01m{\u001b[39;00mfunc\u001b[38;5;132;01m}\u001b[39;00m\u001b[38;5;124m must return None or a tuple of (new_args, new_kwargs), but got \u001b[39m\u001b[38;5;132;01m{\u001b[39;00mresult\u001b[38;5;132;01m}\u001b[39;00m\u001b[38;5;124m.\u001b[39m\u001b[38;5;124m\"\u001b[39m\n\u001b[1;32m    383\u001b[0m             )\n\u001b[0;32m--> 385\u001b[0m out \u001b[38;5;241m=\u001b[39m \u001b[43mfunc\u001b[49m\u001b[43m(\u001b[49m\u001b[38;5;241;43m*\u001b[39;49m\u001b[43margs\u001b[49m\u001b[43m,\u001b[49m\u001b[43m \u001b[49m\u001b[38;5;241;43m*\u001b[39;49m\u001b[38;5;241;43m*\u001b[39;49m\u001b[43mkwargs\u001b[49m\u001b[43m)\u001b[49m\n\u001b[1;32m    386\u001b[0m \u001b[38;5;28mself\u001b[39m\u001b[38;5;241m.\u001b[39m_optimizer_step_code()\n\u001b[1;32m    388\u001b[0m \u001b[38;5;66;03m# call optimizer step post hooks\u001b[39;00m\n",
            "File \u001b[0;32m~/Documents/Tesi/code/tesi_venv/lib/python3.9/site-packages/torch/optim/optimizer.py:76\u001b[0m, in \u001b[0;36m_use_grad_for_differentiable.<locals>._use_grad\u001b[0;34m(self, *args, **kwargs)\u001b[0m\n\u001b[1;32m     74\u001b[0m     torch\u001b[38;5;241m.\u001b[39mset_grad_enabled(\u001b[38;5;28mself\u001b[39m\u001b[38;5;241m.\u001b[39mdefaults[\u001b[38;5;124m'\u001b[39m\u001b[38;5;124mdifferentiable\u001b[39m\u001b[38;5;124m'\u001b[39m])\n\u001b[1;32m     75\u001b[0m     torch\u001b[38;5;241m.\u001b[39m_dynamo\u001b[38;5;241m.\u001b[39mgraph_break()\n\u001b[0;32m---> 76\u001b[0m     ret \u001b[38;5;241m=\u001b[39m \u001b[43mfunc\u001b[49m\u001b[43m(\u001b[49m\u001b[38;5;28;43mself\u001b[39;49m\u001b[43m,\u001b[49m\u001b[43m \u001b[49m\u001b[38;5;241;43m*\u001b[39;49m\u001b[43margs\u001b[49m\u001b[43m,\u001b[49m\u001b[43m \u001b[49m\u001b[38;5;241;43m*\u001b[39;49m\u001b[38;5;241;43m*\u001b[39;49m\u001b[43mkwargs\u001b[49m\u001b[43m)\u001b[49m\n\u001b[1;32m     77\u001b[0m \u001b[38;5;28;01mfinally\u001b[39;00m:\n\u001b[1;32m     78\u001b[0m     torch\u001b[38;5;241m.\u001b[39m_dynamo\u001b[38;5;241m.\u001b[39mgraph_break()\n",
            "File \u001b[0;32m~/Documents/Tesi/code/tesi_venv/lib/python3.9/site-packages/torch/optim/adam.py:166\u001b[0m, in \u001b[0;36mAdam.step\u001b[0;34m(self, closure)\u001b[0m\n\u001b[1;32m    155\u001b[0m     beta1, beta2 \u001b[38;5;241m=\u001b[39m group[\u001b[38;5;124m'\u001b[39m\u001b[38;5;124mbetas\u001b[39m\u001b[38;5;124m'\u001b[39m]\n\u001b[1;32m    157\u001b[0m     has_complex \u001b[38;5;241m=\u001b[39m \u001b[38;5;28mself\u001b[39m\u001b[38;5;241m.\u001b[39m_init_group(\n\u001b[1;32m    158\u001b[0m         group,\n\u001b[1;32m    159\u001b[0m         params_with_grad,\n\u001b[0;32m   (...)\u001b[0m\n\u001b[1;32m    163\u001b[0m         max_exp_avg_sqs,\n\u001b[1;32m    164\u001b[0m         state_steps)\n\u001b[0;32m--> 166\u001b[0m     \u001b[43madam\u001b[49m\u001b[43m(\u001b[49m\n\u001b[1;32m    167\u001b[0m \u001b[43m        \u001b[49m\u001b[43mparams_with_grad\u001b[49m\u001b[43m,\u001b[49m\n\u001b[1;32m    168\u001b[0m \u001b[43m        \u001b[49m\u001b[43mgrads\u001b[49m\u001b[43m,\u001b[49m\n\u001b[1;32m    169\u001b[0m \u001b[43m        \u001b[49m\u001b[43mexp_avgs\u001b[49m\u001b[43m,\u001b[49m\n\u001b[1;32m    170\u001b[0m \u001b[43m        \u001b[49m\u001b[43mexp_avg_sqs\u001b[49m\u001b[43m,\u001b[49m\n\u001b[1;32m    171\u001b[0m \u001b[43m        \u001b[49m\u001b[43mmax_exp_avg_sqs\u001b[49m\u001b[43m,\u001b[49m\n\u001b[1;32m    172\u001b[0m \u001b[43m        \u001b[49m\u001b[43mstate_steps\u001b[49m\u001b[43m,\u001b[49m\n\u001b[1;32m    173\u001b[0m \u001b[43m        \u001b[49m\u001b[43mamsgrad\u001b[49m\u001b[38;5;241;43m=\u001b[39;49m\u001b[43mgroup\u001b[49m\u001b[43m[\u001b[49m\u001b[38;5;124;43m'\u001b[39;49m\u001b[38;5;124;43mamsgrad\u001b[39;49m\u001b[38;5;124;43m'\u001b[39;49m\u001b[43m]\u001b[49m\u001b[43m,\u001b[49m\n\u001b[1;32m    174\u001b[0m \u001b[43m        \u001b[49m\u001b[43mhas_complex\u001b[49m\u001b[38;5;241;43m=\u001b[39;49m\u001b[43mhas_complex\u001b[49m\u001b[43m,\u001b[49m\n\u001b[1;32m    175\u001b[0m \u001b[43m        \u001b[49m\u001b[43mbeta1\u001b[49m\u001b[38;5;241;43m=\u001b[39;49m\u001b[43mbeta1\u001b[49m\u001b[43m,\u001b[49m\n\u001b[1;32m    176\u001b[0m \u001b[43m        \u001b[49m\u001b[43mbeta2\u001b[49m\u001b[38;5;241;43m=\u001b[39;49m\u001b[43mbeta2\u001b[49m\u001b[43m,\u001b[49m\n\u001b[1;32m    177\u001b[0m \u001b[43m        \u001b[49m\u001b[43mlr\u001b[49m\u001b[38;5;241;43m=\u001b[39;49m\u001b[43mgroup\u001b[49m\u001b[43m[\u001b[49m\u001b[38;5;124;43m'\u001b[39;49m\u001b[38;5;124;43mlr\u001b[39;49m\u001b[38;5;124;43m'\u001b[39;49m\u001b[43m]\u001b[49m\u001b[43m,\u001b[49m\n\u001b[1;32m    178\u001b[0m \u001b[43m        \u001b[49m\u001b[43mweight_decay\u001b[49m\u001b[38;5;241;43m=\u001b[39;49m\u001b[43mgroup\u001b[49m\u001b[43m[\u001b[49m\u001b[38;5;124;43m'\u001b[39;49m\u001b[38;5;124;43mweight_decay\u001b[39;49m\u001b[38;5;124;43m'\u001b[39;49m\u001b[43m]\u001b[49m\u001b[43m,\u001b[49m\n\u001b[1;32m    179\u001b[0m \u001b[43m        \u001b[49m\u001b[43meps\u001b[49m\u001b[38;5;241;43m=\u001b[39;49m\u001b[43mgroup\u001b[49m\u001b[43m[\u001b[49m\u001b[38;5;124;43m'\u001b[39;49m\u001b[38;5;124;43meps\u001b[39;49m\u001b[38;5;124;43m'\u001b[39;49m\u001b[43m]\u001b[49m\u001b[43m,\u001b[49m\n\u001b[1;32m    180\u001b[0m \u001b[43m        \u001b[49m\u001b[43mmaximize\u001b[49m\u001b[38;5;241;43m=\u001b[39;49m\u001b[43mgroup\u001b[49m\u001b[43m[\u001b[49m\u001b[38;5;124;43m'\u001b[39;49m\u001b[38;5;124;43mmaximize\u001b[39;49m\u001b[38;5;124;43m'\u001b[39;49m\u001b[43m]\u001b[49m\u001b[43m,\u001b[49m\n\u001b[1;32m    181\u001b[0m \u001b[43m        \u001b[49m\u001b[43mforeach\u001b[49m\u001b[38;5;241;43m=\u001b[39;49m\u001b[43mgroup\u001b[49m\u001b[43m[\u001b[49m\u001b[38;5;124;43m'\u001b[39;49m\u001b[38;5;124;43mforeach\u001b[39;49m\u001b[38;5;124;43m'\u001b[39;49m\u001b[43m]\u001b[49m\u001b[43m,\u001b[49m\n\u001b[1;32m    182\u001b[0m \u001b[43m        \u001b[49m\u001b[43mcapturable\u001b[49m\u001b[38;5;241;43m=\u001b[39;49m\u001b[43mgroup\u001b[49m\u001b[43m[\u001b[49m\u001b[38;5;124;43m'\u001b[39;49m\u001b[38;5;124;43mcapturable\u001b[39;49m\u001b[38;5;124;43m'\u001b[39;49m\u001b[43m]\u001b[49m\u001b[43m,\u001b[49m\n\u001b[1;32m    183\u001b[0m \u001b[43m        \u001b[49m\u001b[43mdifferentiable\u001b[49m\u001b[38;5;241;43m=\u001b[39;49m\u001b[43mgroup\u001b[49m\u001b[43m[\u001b[49m\u001b[38;5;124;43m'\u001b[39;49m\u001b[38;5;124;43mdifferentiable\u001b[39;49m\u001b[38;5;124;43m'\u001b[39;49m\u001b[43m]\u001b[49m\u001b[43m,\u001b[49m\n\u001b[1;32m    184\u001b[0m \u001b[43m        \u001b[49m\u001b[43mfused\u001b[49m\u001b[38;5;241;43m=\u001b[39;49m\u001b[43mgroup\u001b[49m\u001b[43m[\u001b[49m\u001b[38;5;124;43m'\u001b[39;49m\u001b[38;5;124;43mfused\u001b[39;49m\u001b[38;5;124;43m'\u001b[39;49m\u001b[43m]\u001b[49m\u001b[43m,\u001b[49m\n\u001b[1;32m    185\u001b[0m \u001b[43m        \u001b[49m\u001b[43mgrad_scale\u001b[49m\u001b[38;5;241;43m=\u001b[39;49m\u001b[38;5;28;43mgetattr\u001b[39;49m\u001b[43m(\u001b[49m\u001b[38;5;28;43mself\u001b[39;49m\u001b[43m,\u001b[49m\u001b[43m \u001b[49m\u001b[38;5;124;43m\"\u001b[39;49m\u001b[38;5;124;43mgrad_scale\u001b[39;49m\u001b[38;5;124;43m\"\u001b[39;49m\u001b[43m,\u001b[49m\u001b[43m \u001b[49m\u001b[38;5;28;43;01mNone\u001b[39;49;00m\u001b[43m)\u001b[49m\u001b[43m,\u001b[49m\n\u001b[1;32m    186\u001b[0m \u001b[43m        \u001b[49m\u001b[43mfound_inf\u001b[49m\u001b[38;5;241;43m=\u001b[39;49m\u001b[38;5;28;43mgetattr\u001b[39;49m\u001b[43m(\u001b[49m\u001b[38;5;28;43mself\u001b[39;49m\u001b[43m,\u001b[49m\u001b[43m \u001b[49m\u001b[38;5;124;43m\"\u001b[39;49m\u001b[38;5;124;43mfound_inf\u001b[39;49m\u001b[38;5;124;43m\"\u001b[39;49m\u001b[43m,\u001b[49m\u001b[43m \u001b[49m\u001b[38;5;28;43;01mNone\u001b[39;49;00m\u001b[43m)\u001b[49m\u001b[43m,\u001b[49m\n\u001b[1;32m    187\u001b[0m \u001b[43m    \u001b[49m\u001b[43m)\u001b[49m\n\u001b[1;32m    189\u001b[0m \u001b[38;5;28;01mreturn\u001b[39;00m loss\n",
            "File \u001b[0;32m~/Documents/Tesi/code/tesi_venv/lib/python3.9/site-packages/torch/optim/adam.py:316\u001b[0m, in \u001b[0;36madam\u001b[0;34m(params, grads, exp_avgs, exp_avg_sqs, max_exp_avg_sqs, state_steps, foreach, capturable, differentiable, fused, grad_scale, found_inf, has_complex, amsgrad, beta1, beta2, lr, weight_decay, eps, maximize)\u001b[0m\n\u001b[1;32m    313\u001b[0m \u001b[38;5;28;01melse\u001b[39;00m:\n\u001b[1;32m    314\u001b[0m     func \u001b[38;5;241m=\u001b[39m _single_tensor_adam\n\u001b[0;32m--> 316\u001b[0m \u001b[43mfunc\u001b[49m\u001b[43m(\u001b[49m\u001b[43mparams\u001b[49m\u001b[43m,\u001b[49m\n\u001b[1;32m    317\u001b[0m \u001b[43m     \u001b[49m\u001b[43mgrads\u001b[49m\u001b[43m,\u001b[49m\n\u001b[1;32m    318\u001b[0m \u001b[43m     \u001b[49m\u001b[43mexp_avgs\u001b[49m\u001b[43m,\u001b[49m\n\u001b[1;32m    319\u001b[0m \u001b[43m     \u001b[49m\u001b[43mexp_avg_sqs\u001b[49m\u001b[43m,\u001b[49m\n\u001b[1;32m    320\u001b[0m \u001b[43m     \u001b[49m\u001b[43mmax_exp_avg_sqs\u001b[49m\u001b[43m,\u001b[49m\n\u001b[1;32m    321\u001b[0m \u001b[43m     \u001b[49m\u001b[43mstate_steps\u001b[49m\u001b[43m,\u001b[49m\n\u001b[1;32m    322\u001b[0m \u001b[43m     \u001b[49m\u001b[43mamsgrad\u001b[49m\u001b[38;5;241;43m=\u001b[39;49m\u001b[43mamsgrad\u001b[49m\u001b[43m,\u001b[49m\n\u001b[1;32m    323\u001b[0m \u001b[43m     \u001b[49m\u001b[43mhas_complex\u001b[49m\u001b[38;5;241;43m=\u001b[39;49m\u001b[43mhas_complex\u001b[49m\u001b[43m,\u001b[49m\n\u001b[1;32m    324\u001b[0m \u001b[43m     \u001b[49m\u001b[43mbeta1\u001b[49m\u001b[38;5;241;43m=\u001b[39;49m\u001b[43mbeta1\u001b[49m\u001b[43m,\u001b[49m\n\u001b[1;32m    325\u001b[0m \u001b[43m     \u001b[49m\u001b[43mbeta2\u001b[49m\u001b[38;5;241;43m=\u001b[39;49m\u001b[43mbeta2\u001b[49m\u001b[43m,\u001b[49m\n\u001b[1;32m    326\u001b[0m \u001b[43m     \u001b[49m\u001b[43mlr\u001b[49m\u001b[38;5;241;43m=\u001b[39;49m\u001b[43mlr\u001b[49m\u001b[43m,\u001b[49m\n\u001b[1;32m    327\u001b[0m \u001b[43m     \u001b[49m\u001b[43mweight_decay\u001b[49m\u001b[38;5;241;43m=\u001b[39;49m\u001b[43mweight_decay\u001b[49m\u001b[43m,\u001b[49m\n\u001b[1;32m    328\u001b[0m \u001b[43m     \u001b[49m\u001b[43meps\u001b[49m\u001b[38;5;241;43m=\u001b[39;49m\u001b[43meps\u001b[49m\u001b[43m,\u001b[49m\n\u001b[1;32m    329\u001b[0m \u001b[43m     \u001b[49m\u001b[43mmaximize\u001b[49m\u001b[38;5;241;43m=\u001b[39;49m\u001b[43mmaximize\u001b[49m\u001b[43m,\u001b[49m\n\u001b[1;32m    330\u001b[0m \u001b[43m     \u001b[49m\u001b[43mcapturable\u001b[49m\u001b[38;5;241;43m=\u001b[39;49m\u001b[43mcapturable\u001b[49m\u001b[43m,\u001b[49m\n\u001b[1;32m    331\u001b[0m \u001b[43m     \u001b[49m\u001b[43mdifferentiable\u001b[49m\u001b[38;5;241;43m=\u001b[39;49m\u001b[43mdifferentiable\u001b[49m\u001b[43m,\u001b[49m\n\u001b[1;32m    332\u001b[0m \u001b[43m     \u001b[49m\u001b[43mgrad_scale\u001b[49m\u001b[38;5;241;43m=\u001b[39;49m\u001b[43mgrad_scale\u001b[49m\u001b[43m,\u001b[49m\n\u001b[1;32m    333\u001b[0m \u001b[43m     \u001b[49m\u001b[43mfound_inf\u001b[49m\u001b[38;5;241;43m=\u001b[39;49m\u001b[43mfound_inf\u001b[49m\u001b[43m)\u001b[49m\n",
            "File \u001b[0;32m~/Documents/Tesi/code/tesi_venv/lib/python3.9/site-packages/torch/optim/adam.py:392\u001b[0m, in \u001b[0;36m_single_tensor_adam\u001b[0;34m(params, grads, exp_avgs, exp_avg_sqs, max_exp_avg_sqs, state_steps, grad_scale, found_inf, amsgrad, has_complex, beta1, beta2, lr, weight_decay, eps, maximize, capturable, differentiable)\u001b[0m\n\u001b[1;32m    390\u001b[0m \u001b[38;5;66;03m# Decay the first and second moment running average coefficient\u001b[39;00m\n\u001b[1;32m    391\u001b[0m exp_avg\u001b[38;5;241m.\u001b[39mlerp_(grad, \u001b[38;5;241m1\u001b[39m \u001b[38;5;241m-\u001b[39m beta1)\n\u001b[0;32m--> 392\u001b[0m \u001b[43mexp_avg_sq\u001b[49m\u001b[38;5;241;43m.\u001b[39;49m\u001b[43mmul_\u001b[49m\u001b[43m(\u001b[49m\u001b[43mbeta2\u001b[49m\u001b[43m)\u001b[49m\u001b[38;5;241;43m.\u001b[39;49m\u001b[43maddcmul_\u001b[49m\u001b[43m(\u001b[49m\u001b[43mgrad\u001b[49m\u001b[43m,\u001b[49m\u001b[43m \u001b[49m\u001b[43mgrad\u001b[49m\u001b[38;5;241;43m.\u001b[39;49m\u001b[43mconj\u001b[49m\u001b[43m(\u001b[49m\u001b[43m)\u001b[49m\u001b[43m,\u001b[49m\u001b[43m \u001b[49m\u001b[43mvalue\u001b[49m\u001b[38;5;241;43m=\u001b[39;49m\u001b[38;5;241;43m1\u001b[39;49m\u001b[43m \u001b[49m\u001b[38;5;241;43m-\u001b[39;49m\u001b[43m \u001b[49m\u001b[43mbeta2\u001b[49m\u001b[43m)\u001b[49m\n\u001b[1;32m    394\u001b[0m \u001b[38;5;28;01mif\u001b[39;00m capturable \u001b[38;5;129;01mor\u001b[39;00m differentiable:\n\u001b[1;32m    395\u001b[0m     step \u001b[38;5;241m=\u001b[39m step_t\n",
            "\u001b[0;31mKeyboardInterrupt\u001b[0m: "
          ]
        }
      ],
      "source": [
        "optimizer = optim.Adam(model_TemporalGNN.parameters(), lr=2e-4, weight_decay=1.5e-5)\n",
        "criterion = nn.BCEWithLogitsLoss() # For binary classification (output is a single logit)\n",
        "num_epochs = 20\n",
        "\n",
        "\n",
        "for epoch in range(num_epochs):\n",
        "    train_loss = .0\n",
        "    train_acc = .0\n",
        "    model_TemporalGNN.train()\n",
        "    for train_sample in train_loader:\n",
        "        if train_sample.x.shape[-1] != 5 * timestamp: continue\n",
        "        \n",
        "        train_sample.to(device)\n",
        "        optimizer.zero_grad()\n",
        "        out = model_TemporalGNN(train_sample.x, train_sample.edge_index, train_sample.edge_weight)\n",
        "        loss = criterion( out, train_sample.y.unsqueeze(1).float() )\n",
        "        loss.backward()\n",
        "        train_loss += loss.item()\n",
        "        optimizer.step()\n",
        "        #train_acc += accuracy_score((out.detach().cpu() > 0).float().squeeze(), validation_dataset[10].y.detach().cpu())\n",
        "\n",
        "    if epoch%4 == 0:\n",
        "      val_loss =.0 #Reset validation loss\n",
        "      val_acc = .0 #Reset validation accuracy\n",
        "      val_f1 = .0 #Reset f1 score\n",
        "      with torch.no_grad():\n",
        "        for val_sample in validation_loader:\n",
        "          if val_sample.x.shape[-1] != 5 * timestamp: continue\n",
        "          \n",
        "          val_sample.to(device)\n",
        "          out = model_TemporalGNN(val_sample.x, val_sample.edge_index, val_sample.edge_attr)\n",
        "\n",
        "          y = val_sample.y.detach().cpu() # Obtain the y labels\n",
        "          preds = (out > 0).float().detach().cpu().squeeze() #get the predicted logits\n",
        "\n",
        "          val_loss += criterion(out, val_sample.y.unsqueeze(1).float()).item()\n",
        "          val_acc += accuracy_score(y, preds)\n",
        "          val_f1 += f1_score(y, preds)\n",
        "          #val_mcc += matthews_corrcoef() \n",
        "\n",
        "        print(f\"Epoch {epoch+1}/{num_epochs},  train_loss={train_loss:.4f}, val_loss={(val_loss/len(validation_loader)):.4f}, val_acc={(val_acc/len(validation_loader)):.4f}, val_f1={(val_f1/len(validation_loader)):.4f}\")\n",
        "\n",
        "\n",
        "\n"
      ]
    },
    {
      "cell_type": "markdown",
      "metadata": {},
      "source": [
        "## Test Temporal GNN"
      ]
    },
    {
      "cell_type": "code",
      "execution_count": 69,
      "metadata": {},
      "outputs": [
        {
          "name": "stdout",
          "output_type": "stream",
          "text": [
            "Test acc=0.49933862433862436\n",
            "Test F1=0.5549676660787772\n",
            "Test MCC=0.001860223195893912\n",
            "Predicted negative: 558\n"
          ]
        }
      ],
      "source": [
        "# Use torch.no_grad() for evaluation to improve speed and save memory\n",
        "model_TemporalGNN.eval()\n",
        "criterion = nn.BCEWithLogitsLoss()\n",
        "\n",
        "all_logits = []\n",
        "all_labels = []\n",
        "total_test_loss = 0\n",
        "conc = torch.tensor([]).to(device)\n",
        "label_conc = torch.tensor([]).to(device)\n",
        "\n",
        "with torch.no_grad():  # Deactivates autograd for efficiency\n",
        "    for test_sample in test_loader:\n",
        "        if test_sample.x.shape[-1] != 5 * timestamp: continue\n",
        "\n",
        "        test_sample = test_sample.to(device)\n",
        "        \n",
        "        \n",
        "        # --- Forward pass and Loss Calculation ---\n",
        "        out = model_TemporalGNN(test_sample.x, test_sample.edge_index, test_sample.edge_attr)\n",
        "        loss = criterion(out, test_sample.y.unsqueeze(1).float())  # Note: Regularizers are often omitted during evaluation\n",
        "        total_test_loss += loss.item()\n",
        "        \n",
        "\n",
        "        # --- Accumulate logits and labels ---\n",
        "        conc = torch.cat((conc, out.squeeze()), dim=0)\n",
        "        label_conc = torch.cat((label_conc, test_sample.y), dim=0)\n",
        "\n",
        "    test_acc = accuracy_score((conc > 0).detach().cpu().float(),  label_conc.detach().cpu())\n",
        "    test_f1 = f1_score((conc > 0).detach().cpu().float(),  label_conc.detach().cpu())\n",
        "    test_mcc = matthews_corrcoef((conc > 0).detach().cpu().float(),  label_conc.detach().cpu())\n",
        "\n",
        "\n",
        "print(f\"Test acc={test_acc}\")\n",
        "print(f\"Test F1={test_f1}\")\n",
        "print(f\"Test MCC={test_mcc}\")\n",
        "print(f\"Predicted negative: {(conc < 0).sum()}\")\n",
        "\n"
      ]
    }
  ],
  "metadata": {
    "colab": {
      "provenance": []
    },
    "kernelspec": {
      "display_name": "tesi_venv",
      "language": "python",
      "name": "python3"
    },
    "language_info": {
      "codemirror_mode": {
        "name": "ipython",
        "version": 3
      },
      "file_extension": ".py",
      "mimetype": "text/x-python",
      "name": "python",
      "nbconvert_exporter": "python",
      "pygments_lexer": "ipython3",
      "version": "3.9.6"
    }
  },
  "nbformat": 4,
  "nbformat_minor": 0
}
