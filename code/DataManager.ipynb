{
 "cells": [
  {
   "cell_type": "markdown",
   "id": "883ba7cb",
   "metadata": {},
   "source": [
    "This notebook is used to handle a manipulate the various datasets"
   ]
  },
  {
   "cell_type": "code",
   "execution_count": 1,
   "id": "4b514cdb",
   "metadata": {},
   "outputs": [],
   "source": [
    "import torch\n"
   ]
  }
 ],
 "metadata": {
  "kernelspec": {
   "display_name": "tesi_venv",
   "language": "python",
   "name": "python3"
  },
  "language_info": {
   "codemirror_mode": {
    "name": "ipython",
    "version": 3
   },
   "file_extension": ".py",
   "mimetype": "text/x-python",
   "name": "python",
   "nbconvert_exporter": "python",
   "pygments_lexer": "ipython3",
   "version": "3.12.7"
  }
 },
 "nbformat": 4,
 "nbformat_minor": 5
}
