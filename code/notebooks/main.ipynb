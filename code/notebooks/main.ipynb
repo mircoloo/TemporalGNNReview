{
  "cells": [
    {
      "cell_type": "markdown",
      "metadata": {
        "id": "EKwzdnNJ6C9k"
      },
      "source": []
    },
    {
      "cell_type": "code",
      "execution_count": 1,
      "metadata": {
        "colab": {
          "base_uri": "https://localhost:8080/",
          "height": 36
        },
        "id": "dnJby9Bg5PKX",
        "outputId": "ced7382a-cbc2-4030-dc2f-0dd5ecae0351"
      },
      "outputs": [
        {
          "data": {
            "text/plain": [
              "('2.5.1', '12.1')"
            ]
          },
          "execution_count": 1,
          "metadata": {},
          "output_type": "execute_result"
        }
      ],
      "source": [
        "import numpy as np\n",
        "import pandas as pd\n",
        "import csv\n",
        "import time\n",
        "#torch\n",
        "import torch\n",
        "import torch.nn as nn\n",
        "import torch.optim as optim\n",
        "from torch_geometric.loader import DataLoader # For batching graph data\n",
        "from torch_geometric.utils import to_dense_adj\n",
        "import torch.nn.functional as F\n",
        "\n",
        "#sklearn\n",
        "from sklearn.metrics import accuracy_score, f1_score, matthews_corrcoef\n",
        "\n",
        "# objective functions\n",
        "from utils import theta_regularizer, neighbor_distance_regularizer\n",
        "\n",
        "#Visualize and create graph/charts\n",
        "import networkx as nx\n",
        "import matplotlib.pyplot as plt\n",
        "\n",
        "#Path managment\n",
        "import os\n",
        "import sys\n",
        "\n",
        "\n",
        "\n",
        "from IPython.display import clear_output\n",
        "device = 'cuda' if torch.cuda.is_available() else 'cpu'\n",
        "torch.seed = 1234\n",
        "torch.__version__, torch.version.cuda"
      ]
    },
    {
      "cell_type": "code",
      "execution_count": 2,
      "metadata": {},
      "outputs": [],
      "source": [
        "# To reload modulse if needed\n",
        "%reload_ext autoreload\n",
        "%autoreload 2"
      ]
    },
    {
      "cell_type": "markdown",
      "metadata": {},
      "source": [
        "### Add the DGDNN libraries into the path to get Data"
      ]
    },
    {
      "cell_type": "code",
      "execution_count": 3,
      "metadata": {},
      "outputs": [],
      "source": [
        "current_dir = os.getcwd() #till /.../home/..../code\n",
        "\n",
        "\n",
        "model_path = os.path.join(current_dir, 'models/DGDNN/Model')\n",
        "if model_path not in sys.path:\n",
        "    sys.path.insert(0, model_path)\n",
        "data_path = os.path.join(current_dir, 'models/DGDNN/Data')\n",
        "if data_path not in sys.path:\n",
        "    sys.path.insert(0, data_path)\n"
      ]
    },
    {
      "cell_type": "markdown",
      "metadata": {},
      "source": [
        "# The dataset "
      ]
    },
    {
      "cell_type": "code",
      "execution_count": 4,
      "metadata": {},
      "outputs": [],
      "source": [
        "from geometric_dataset_gen import MyDataset as MyGeometricDataset\n",
        "from dataset_gen import MyDataset "
      ]
    },
    {
      "cell_type": "code",
      "execution_count": 5,
      "metadata": {},
      "outputs": [],
      "source": [
        "# # Configure the default variables // # these can be tuned // # examples\n",
        "sedate = ['2013-01-01', '2014-12-31']  # these can be tuned\n",
        "val_sedate = ['2015-01-01', '2015-06-30'] # these can be tuned\n",
        "test_sedate = ['2015-07-01', '2017-12-31'] # these can be tuned\n",
        "market = ['NASDAQ', 'NYSE', 'SSE'] # can be changed\n",
        "dataset_type = ['Train', 'Validation', 'Test']\n",
        "\n",
        "com_path = [f'{current_dir}/data/tickers/NASDAQ.csv',\n",
        "            f'{current_dir}/data/tickers/NYSE.csv',\n",
        "            f'{current_dir}/data/tickers/NYSE_missing.csv'\n",
        "            ] # Where the company tickers are\n",
        "\n",
        "des = f\"{current_dir}/data/datasets/graph\" # Where to save the processed graphs\n",
        "\n",
        "# directory = \"/Users/mirco/Documents/Tesi/code/data/datasets/America_Stocks\" \n",
        "# window = 19\n",
        "NASDAQ_com_list = []\n",
        "NYSE_com_list = []\n",
        "NYSE_missing_list = []\n",
        "com_lists = [NASDAQ_com_list, NYSE_com_list, NYSE_missing_list] #Ticker lists\n",
        "com_lists = [NASDAQ_com_list, NYSE_com_list, NYSE_missing_list] #Ticker lists\n",
        "\n",
        "for idx, path in enumerate(com_path): #Per each ticker folder get the path and index\n",
        "    with open(path) as f:\n",
        "        file = csv.reader(f)\n",
        "        for line in file:\n",
        "            com_lists[idx].append(line[0])  # append first element of line if each line is a list\n",
        "NYSE_com_list = [com for com in NYSE_com_list if com not in NYSE_missing_list] #Filter the com on NYSE since they are missing \n",
        "# fast_approx = False # True for fast approximation and implementation\n",
        "# # Generate datasets\n"
      ]
    },
    {
      "cell_type": "code",
      "execution_count": 6,
      "metadata": {},
      "outputs": [
        {
          "data": {
            "text/plain": [
              "20"
            ]
          },
          "execution_count": 6,
          "metadata": {},
          "output_type": "execute_result"
        }
      ],
      "source": [
        "NYSE_com_list[:] = NYSE_com_list[:20]\n",
        "com_lists[1] = NYSE_com_list\n",
        "len(com_lists[1])"
      ]
    },
    {
      "cell_type": "code",
      "execution_count": 7,
      "metadata": {},
      "outputs": [
        {
          "name": "stdout",
          "output_type": "stream",
          "text": [
            "----- Building train dataset... -----\n",
            "Stock AABA not present in the data csv files\n",
            "Stock AAWW not present in the data csv files\n",
            "Stock AAXN not present in the data csv files\n",
            "Stock ABAX not present in the data csv files\n",
            "Stock ABMD not present in the data csv files\n",
            "for stock ACET there are no dates in range\n",
            "Stock ACOR not present in the data csv files\n",
            "Stock ACXM not present in the data csv files\n",
            "Stock AEGN not present in the data csv files\n",
            "Stock AFAM not present in the data csv files\n",
            "Stock AFSI not present in the data csv files\n",
            "Stock AGII not present in the data csv files\n",
            "Stock AHGP not present in the data csv files\n",
            "Stock AIMC not present in the data csv files\n",
            "Stock AKRX not present in the data csv files\n",
            "Stock ALOG not present in the data csv files\n",
            "Stock ALXN not present in the data csv files\n",
            "Stock AMAG not present in the data csv files\n",
            "Stock AMNB not present in the data csv files\n",
            "Stock AMOT not present in the data csv files\n",
            "Stock AMSWA not present in the data csv files\n",
            "for stock AMTD there are no dates in range\n",
            "Stock ANAT not present in the data csv files\n",
            "Stock ANCX not present in the data csv files\n",
            "Stock AOBC not present in the data csv files\n",
            "Stock APLP not present in the data csv files\n",
            "Stock ARII not present in the data csv files\n",
            "Stock ARNA not present in the data csv files\n",
            "Stock ASCMA not present in the data csv files\n",
            "Stock ASFI not present in the data csv files\n",
            "Stock ATHN not present in the data csv files\n",
            "Stock ATRI not present in the data csv files\n",
            "Stock ATVI not present in the data csv files\n",
            "Stock AVHI not present in the data csv files\n",
            "Stock AZPN not present in the data csv files\n",
            "Stock BABY not present in the data csv files\n",
            "Stock BBBY not present in the data csv files\n",
            "Stock BDGE not present in the data csv files\n",
            "Stock BKCC not present in the data csv files\n",
            "Stock BLMT not present in the data csv files\n",
            "Stock BMTC not present in the data csv files\n",
            "Stock BOBE not present in the data csv files\n",
            "Stock BOFI not present in the data csv files\n",
            "Stock BPFH not present in the data csv files\n",
            "Stock BPOPN not present in the data csv files\n",
            "Stock BRCD not present in the data csv files\n",
            "Stock BREW not present in the data csv files\n",
            "Stock BRKS not present in the data csv files\n",
            "Stock BSF not present in the data csv files\n",
            "Stock BSFT not present in the data csv files\n",
            "Stock BSTC not present in the data csv files\n",
            "Stock BWINB not present in the data csv files\n",
            "Stock BWLD not present in the data csv files\n",
            "for stock CA there are no dates in range\n",
            "for stock CA there are no after_end_dates in range\n",
            "Stock CALL not present in the data csv files\n",
            "for stock CAMP there are no dates in range\n",
            "for stock CAMP there are no after_end_dates in range\n",
            "Stock CARB not present in the data csv files\n",
            "Stock CBF not present in the data csv files\n",
            "Stock CCMP not present in the data csv files\n",
            "Stock CELG not present in the data csv files\n",
            "Stock CERN not present in the data csv files\n",
            "Stock CHFC not present in the data csv files\n",
            "Stock CHUY not present in the data csv files\n",
            "Stock CLCT not present in the data csv files\n",
            "Stock CNBKA not present in the data csv files\n",
            "Stock CNSL not present in the data csv files\n",
            "Stock COBZ not present in the data csv files\n",
            "Stock CONN not present in the data csv files\n",
            "Stock CORE not present in the data csv files\n",
            "Stock CPLA not present in the data csv files\n",
            "Stock CPSI not present in the data csv files\n",
            "Stock CRAY not present in the data csv files\n",
            "for stock CRED there are no dates in range\n",
            "for stock CRED there are no after_end_dates in range\n",
            "Stock CREE not present in the data csv files\n",
            "Stock CRZO not present in the data csv files\n"
          ]
        },
        {
          "ename": "KeyboardInterrupt",
          "evalue": "",
          "output_type": "error",
          "traceback": [
            "\u001b[31m---------------------------------------------------------------------------\u001b[39m",
            "\u001b[31mKeyboardInterrupt\u001b[39m                         Traceback (most recent call last)",
            "\u001b[36mCell\u001b[39m\u001b[36m \u001b[39m\u001b[32mIn[7]\u001b[39m\u001b[32m, line 25\u001b[39m\n\u001b[32m     22\u001b[39m use_fast_approximation = \u001b[38;5;28;01mFalse\u001b[39;00m\n\u001b[32m     24\u001b[39m \u001b[38;5;28mprint\u001b[39m(\u001b[33m\"\u001b[39m\u001b[33m-\u001b[39m\u001b[33m\"\u001b[39m*\u001b[32m5\u001b[39m, \u001b[33m\"\u001b[39m\u001b[33mBuilding train dataset...\u001b[39m\u001b[33m\"\u001b[39m , \u001b[33m\"\u001b[39m\u001b[33m-\u001b[39m\u001b[33m\"\u001b[39m*\u001b[32m5\u001b[39m)\n\u001b[32m---> \u001b[39m\u001b[32m25\u001b[39m train_dataset = \u001b[43mMyGeometricDataset\u001b[49m\u001b[43m(\u001b[49m\u001b[38;5;28;43mdir\u001b[39;49m\u001b[43m,\u001b[49m\u001b[43m \u001b[49m\u001b[43mdest\u001b[49m\u001b[43m,\u001b[49m\u001b[43m \u001b[49m\u001b[43mmarket\u001b[49m\u001b[43m,\u001b[49m\u001b[43m \u001b[49m\u001b[43mcompany_list\u001b[49m\u001b[43m,\u001b[49m\u001b[43m \u001b[49m\u001b[43mtrain_sedate\u001b[49m\u001b[43m[\u001b[49m\u001b[32;43m0\u001b[39;49m\u001b[43m]\u001b[49m\u001b[43m,\u001b[49m\u001b[43m \u001b[49m\u001b[43mtrain_sedate\u001b[49m\u001b[43m[\u001b[49m\u001b[32;43m1\u001b[39;49m\u001b[43m]\u001b[49m\u001b[43m,\u001b[49m\u001b[43m \u001b[49m\u001b[43mwindow_size\u001b[49m\u001b[43m,\u001b[49m\u001b[43m \u001b[49m\u001b[43mdataset_type\u001b[49m\u001b[43m[\u001b[49m\u001b[32;43m0\u001b[39;49m\u001b[43m]\u001b[49m\u001b[43m,\u001b[49m\u001b[43m \u001b[49m\u001b[43muse_fast_approximation\u001b[49m\u001b[43m)\u001b[49m \n\u001b[32m     26\u001b[39m \u001b[38;5;28mprint\u001b[39m(\u001b[33m\"\u001b[39m\u001b[33m-\u001b[39m\u001b[33m\"\u001b[39m*\u001b[32m5\u001b[39m, \u001b[33m\"\u001b[39m\u001b[33mBuilding validation dataset...\u001b[39m\u001b[33m\"\u001b[39m , \u001b[33m\"\u001b[39m\u001b[33m-\u001b[39m\u001b[33m\"\u001b[39m*\u001b[32m5\u001b[39m)\n\u001b[32m     27\u001b[39m validation_dataset = MyGeometricDataset(\u001b[38;5;28mdir\u001b[39m, dest, market, company_list, val_sedate[\u001b[32m0\u001b[39m], val_sedate[\u001b[32m1\u001b[39m], window_size, dataset_type[\u001b[32m1\u001b[39m], use_fast_approximation)\n",
            "\u001b[36mFile \u001b[39m\u001b[32m/extra/mbisoffi/tests/TemporalGNNReview/code/models/DGDNN/Data/geometric_dataset_gen.py:26\u001b[39m, in \u001b[36mMyDataset.__init__\u001b[39m\u001b[34m(self, root, desti, market, comlist, start, end, window, dataset_type, fast_approx)\u001b[39m\n\u001b[32m     24\u001b[39m \u001b[38;5;28mself\u001b[39m.end = end\n\u001b[32m     25\u001b[39m \u001b[38;5;28mself\u001b[39m.window = window\n\u001b[32m---> \u001b[39m\u001b[32m26\u001b[39m \u001b[38;5;28mself\u001b[39m.dates, \u001b[38;5;28mself\u001b[39m.next_day = \u001b[38;5;28;43mself\u001b[39;49m\u001b[43m.\u001b[49m\u001b[43mfind_dates\u001b[49m\u001b[43m(\u001b[49m\u001b[43mstart\u001b[49m\u001b[43m,\u001b[49m\u001b[43m \u001b[49m\u001b[43mend\u001b[49m\u001b[43m,\u001b[49m\u001b[43m \u001b[49m\u001b[43mroot\u001b[49m\u001b[43m,\u001b[49m\u001b[43m \u001b[49m\u001b[43mcomlist\u001b[49m\u001b[43m,\u001b[49m\u001b[43m \u001b[49m\u001b[43mmarket\u001b[49m\u001b[43m)\u001b[49m \n\u001b[32m     27\u001b[39m \u001b[38;5;28mself\u001b[39m.dataset_type = dataset_type\n\u001b[32m     28\u001b[39m \u001b[38;5;28mself\u001b[39m.fast_approx = fast_approx\n",
            "\u001b[36mFile \u001b[39m\u001b[32m/extra/mbisoffi/tests/TemporalGNNReview/code/models/DGDNN/Data/geometric_dataset_gen.py:79\u001b[39m, in \u001b[36mMyDataset.find_dates\u001b[39m\u001b[34m(self, start, end, path, comlist, market)\u001b[39m\n\u001b[32m     76\u001b[39m         \u001b[38;5;28;01mif\u001b[39;00m \u001b[38;5;28mself\u001b[39m.check_years(date_str, start, end): \u001b[38;5;66;03m#if the date is between start << date_str << end\u001b[39;00m\n\u001b[32m     77\u001b[39m             dates.add(date_str)\n\u001b[32m---> \u001b[39m\u001b[32m79\u001b[39m         \u001b[38;5;28;01melif\u001b[39;00m \u001b[38;5;28;43mself\u001b[39;49m\u001b[43m.\u001b[49m\u001b[43mcheck_years\u001b[49m\u001b[43m(\u001b[49m\u001b[43mdate_str\u001b[49m\u001b[43m,\u001b[49m\u001b[43m \u001b[49m\u001b[43mend\u001b[49m\u001b[43m,\u001b[49m\u001b[43m \u001b[49m\u001b[33;43m'\u001b[39;49m\u001b[33;43m2020-01-31\u001b[39;49m\u001b[33;43m'\u001b[39;49m\u001b[43m)\u001b[49m:  \u001b[38;5;66;03m# '2017-12-31' is just an example, replacing with the latest date when datasets change\u001b[39;00m\n\u001b[32m     80\u001b[39m             after_end_dates.add(date_str)\n\u001b[32m     82\u001b[39m \u001b[38;5;28;01mif\u001b[39;00m ( \u001b[38;5;28mlen\u001b[39m(dates) == \u001b[32m0\u001b[39m):\n",
            "\u001b[36mFile \u001b[39m\u001b[32m/extra/mbisoffi/tests/TemporalGNNReview/code/models/DGDNN/Data/geometric_dataset_gen.py:49\u001b[39m, in \u001b[36mMyDataset.check_years\u001b[39m\u001b[34m(self, date_str, start_str, end_str)\u001b[39m\n\u001b[32m     45\u001b[39m     \u001b[38;5;28;01melse\u001b[39;00m:\n\u001b[32m     47\u001b[39m         \u001b[38;5;28;01mraise\u001b[39;00m \u001b[38;5;167;01mFileNotFoundError\u001b[39;00m(\u001b[33mf\u001b[39m\u001b[33m\"\u001b[39m\u001b[33mNo graph data found for index \u001b[39m\u001b[38;5;132;01m{\u001b[39;00midx\u001b[38;5;132;01m}\u001b[39;00m\u001b[33m\"\u001b[39m)\n\u001b[32m---> \u001b[39m\u001b[32m49\u001b[39m \u001b[38;5;28;01mdef\u001b[39;00m\u001b[38;5;250m \u001b[39m\u001b[34mcheck_years\u001b[39m(\u001b[38;5;28mself\u001b[39m, date_str: \u001b[38;5;28mstr\u001b[39m, start_str: \u001b[38;5;28mstr\u001b[39m, end_str: \u001b[38;5;28mstr\u001b[39m) -> \u001b[38;5;28mbool\u001b[39m:\n\u001b[32m     50\u001b[39m \u001b[38;5;250m    \u001b[39m\u001b[33;03m\"\"\"\u001b[39;00m\n\u001b[32m     51\u001b[39m \u001b[33;03m    Check if the provided dates are cronologically corrects\u001b[39;00m\n\u001b[32m     52\u001b[39m \u001b[33;03m    \"\"\"\u001b[39;00m\n\u001b[32m     53\u001b[39m     date_format = \u001b[33m\"\u001b[39m\u001b[33m%\u001b[39m\u001b[33mY-\u001b[39m\u001b[33m%\u001b[39m\u001b[33mm-\u001b[39m\u001b[38;5;132;01m%d\u001b[39;00m\u001b[33m\"\u001b[39m\n",
            "\u001b[31mKeyboardInterrupt\u001b[39m: "
          ]
        }
      ],
      "source": [
        "dir = f'{current_dir}/data/datasets/stocks_CSVs/America_Stocks_Updated'\n",
        "dest = f'{current_dir}/data/datasets/graph'\n",
        "market = 'NASDAQ'\n",
        "\n",
        "\"\"\"\n",
        "company_list = ['AAPL', \n",
        "                'ACWI',\n",
        "                'ADSK',\n",
        "                'ADTN',\n",
        "                'ADUS',\n",
        "                ]\n",
        "\"\"\"\n",
        "\n",
        "company_list = com_lists[0]\n",
        "\n",
        "train_sedate = ['2016-05-01', '2017-06-30']  # these can be tuned\n",
        "val_sedate = ['2017-07-01', '2017-12-31'] # these can be tuned\n",
        "test_sedate = ['2018-01-01', '2019-12-31'] # these can be tuned\n",
        "dataset_type = ['Train', 'Validation', 'Test']\n",
        "window_size = 19# For Nasdaq \n",
        "dataset_label = 'train'\n",
        "use_fast_approximation = False\n",
        "\n",
        "print(\"-\"*5, \"Building train dataset...\" , \"-\"*5)\n",
        "train_dataset = MyGeometricDataset(dir, dest, market, company_list, train_sedate[0], train_sedate[1], window_size, dataset_type[0], use_fast_approximation) \n",
        "print(\"-\"*5, \"Building validation dataset...\" , \"-\"*5)\n",
        "validation_dataset = MyGeometricDataset(dir, dest, market, company_list, val_sedate[0], val_sedate[1], window_size, dataset_type[1], use_fast_approximation)\n",
        "print(\"-\"*5, \"Building test dataset...\" , \"-\"*5)\n",
        "test_dataset = MyGeometricDataset(dir, dest, market, company_list, test_sedate[0], test_sedate[1], window_size, dataset_type[2], use_fast_approximation)\n",
        "#clear_output()"
      ]
    },
    {
      "cell_type": "code",
      "execution_count": 10,
      "metadata": {},
      "outputs": [
        {
          "name": "stdout",
          "output_type": "stream",
          "text": [
            "========== Train ==========\n",
            "Number of snapshots graph of the dataset: 294\n",
            "Graph snapshot structure: Data(x=[5, 10], edge_index=[2, 25], edge_attr=[25], y=[5])\n",
            "Number of features: 5\n",
            "Number of nodes: 5\n",
            "Number of target labels: 5\n",
            "========== Val ==========\n",
            "Number of snapshots graph of the dataset: 125\n",
            "Graph snapshot structure: Data(x=[5, 10], edge_index=[2, 25], edge_attr=[25], y=[5])\n",
            "Number of features: 5\n",
            "Number of nodes: 5\n",
            "Number of target labels: 5\n",
            "========== Test ==========\n",
            "Number of snapshots graph of the dataset: 502\n",
            "Graph snapshot structure: Data(x=[5, 10], edge_index=[2, 25], edge_attr=[25], y=[5])\n",
            "Number of features: 5\n",
            "Number of nodes: 5\n",
            "Number of target labels: 5\n"
          ]
        }
      ],
      "source": [
        "print(\"========== Train ==========\")\n",
        "print(f\"Number of snapshots graph of the dataset: {len(train_dataset)}\")\n",
        "print(f\"Graph snapshot structure: {train_dataset[0]}\")\n",
        "print(f\"Number of features: {int(train_dataset[0].x.shape[1] / window_size)}\")\n",
        "print(f\"Number of nodes: {len(train_dataset[0].x)}\")\n",
        "print(f\"Number of target labels: {len(train_dataset[0].y)}\")\n",
        "\n",
        "print(\"========== Val ==========\")\n",
        "\n",
        "print(f\"Number of snapshots graph of the dataset: {len(validation_dataset)}\")\n",
        "print(f\"Graph snapshot structure: {validation_dataset[0]}\")\n",
        "print(f\"Number of features: {int(validation_dataset[0].x.shape[1] / window_size)}\")\n",
        "print(f\"Number of nodes: {len(validation_dataset[0].x)}\")\n",
        "print(f\"Number of target labels: {len(validation_dataset[0].y)}\")\n",
        "\n",
        "print(\"========== Test ==========\")\n",
        "\n",
        "print(f\"Number of snapshots graph of the dataset: {len(test_dataset)}\")\n",
        "print(f\"Graph snapshot structure: {test_dataset[0]}\")\n",
        "print(f\"Number of features: {int(test_dataset[0].x.shape[1] / window_size)}\")\n",
        "print(f\"Number of nodes: {len(test_dataset[0].x)}\")\n",
        "print(f\"Number of target labels: {len(test_dataset[0].y)}\")"
      ]
    },
    {
      "cell_type": "code",
      "execution_count": 11,
      "metadata": {},
      "outputs": [
        {
          "name": "stdout",
          "output_type": "stream",
          "text": [
            "\n",
            "Visualizing Graph...\n",
            "Number of nodes: 5\n",
            "Number of edges: 15\n",
            "tensor([0, 1, 1, 1, 0])\n"
          ]
        },
        {
          "data": {
            "image/png": "[encoded data removed]",
            "text/plain": [
              "<Figure size 500x500 with 1 Axes>"
            ]
          },
          "metadata": {},
          "output_type": "display_data"
        }
      ],
      "source": [
        "def visualize_geometric_graph(data_sample):\n",
        "    \"\"\"\n",
        "    Visualizes a single torch_geometric.data.Data graph sample.\n",
        "    \"\"\"\n",
        "    # Create a NetworkX graph object\n",
        "    G = nx.Graph()\n",
        "\n",
        "    # The edge_index tensor is of shape [2, num_edges].\n",
        "    # We need to transpose it and convert to a list of tuples.\n",
        "    edge_list = data_sample.edge_index.t().tolist()\n",
        "\n",
        "    # Add edges to the graph. Nodes are added automatically.\n",
        "    G.add_edges_from(edge_list)\n",
        "\n",
        "    print(f\"\\nVisualizing Graph...\")\n",
        "    print(f\"Number of nodes: {G.number_of_nodes()}\")\n",
        "    print(f\"Number of edges: {G.number_of_edges()}\")\n",
        "\n",
        "    # Use the labels (Y tensor) to color the nodes\n",
        "    # For example, class 0 is blue, class 1 is red\n",
        "    colors = ['red' if label == 0 else 'green' for label in data_sample.y] \n",
        "    print(data_sample.y)\n",
        "    # Draw the graph\n",
        "    plt.figure(figsize=(5, 5))\n",
        "    nx.draw(G, with_labels=True, node_color=colors, node_size=200, font_size=8)\n",
        "    plt.title(\"Graph Visualization\")\n",
        "    plt.show()\n",
        "\n",
        "# Visualize the first graph in the dataset\n",
        "\n",
        "visualize_geometric_graph(train_dataset[20])"
      ]
    },
    {
      "cell_type": "markdown",
      "metadata": {
        "id": "ql-xe2BnPiCf"
      },
      "source": [
        "# Model 1: GConvGRU"
      ]
    },
    {
      "cell_type": "code",
      "execution_count": 12,
      "metadata": {
        "id": "hAP4Vu62Pml2"
      },
      "outputs": [],
      "source": [
        "from torch_geometric_temporal.nn import GConvGRU"
      ]
    },
    {
      "cell_type": "code",
      "execution_count": 13,
      "metadata": {},
      "outputs": [
        {
          "data": {
            "text/plain": [
              "666"
            ]
          },
          "execution_count": 13,
          "metadata": {},
          "output_type": "execute_result"
        }
      ],
      "source": [
        "model_GConvGRU = GConvGRU(10, 1, 20).to(device)\n",
        "sum([p.numel() for p in model_GConvGRU.parameters()])"
      ]
    },
    {
      "cell_type": "markdown",
      "metadata": {
        "id": "zjrSKZOh-Qm5"
      },
      "source": [
        "# Model 2: DGDNN\n",
        "\n",
        "GitHub: https://github.com/pixelhero98/DGDNN"
      ]
    },
    {
      "cell_type": "code",
      "execution_count": 16,
      "metadata": {
        "id": "Km3vpuil-UOY"
      },
      "outputs": [],
      "source": [
        "\n",
        "from dgdnn import DGDNN "
      ]
    },
    {
      "cell_type": "markdown",
      "metadata": {},
      "source": [
        "## Define the model"
      ]
    },
    {
      "cell_type": "code",
      "execution_count": 17,
      "metadata": {},
      "outputs": [
        {
          "data": {
            "text/plain": [
              "144243"
            ]
          },
          "execution_count": 17,
          "metadata": {},
          "output_type": "execute_result"
        }
      ],
      "source": [
        "####  Define model\n",
        "layers = 6\n",
        "num_nodes = train_dataset[0].x.shape[0]\n",
        "expansion_step = 7\n",
        "num_heads = 2\n",
        "active_layers = [True, False, False, False, False, False]\n",
        "timestamp = 2  #window\n",
        "classes = 1\n",
        "diffusion_size = [5*timestamp, 31*timestamp, 28*timestamp, 24*timestamp, 20*timestamp, 16*timestamp, 12*timestamp]\n",
        "emb_size = [5 + 31, 64, 28 + 64, 50,\n",
        "            24 + 50, 38, 20 + 38, 24,\n",
        "            16 + 24, 12, 12+12, 10]  \n",
        "\n",
        "\n",
        "##### NEW MODEl ####\n",
        "# layers = 2\n",
        "# num_nodes = 6\n",
        "# expansion_step = 2\n",
        "# num_heads = 2\n",
        "# active_layers = [True, False]\n",
        "# timestamp = 2  #window\n",
        "# classes = 1\n",
        "# diffusion_size = [5*timestamp, 13*timestamp, 8*timestamp]\n",
        "\n",
        "# emb_size = [5 + 13, 64, 64 + 8, 10]  \n",
        " \n",
        "#in_size = previous_output + diffusion_size_i\n",
        "model_DGDNN = DGDNN(\n",
        "    diffusion_size=diffusion_size,\n",
        "    embedding_size=emb_size,\n",
        "    classes=1,\n",
        "    layers=layers,\n",
        "    num_nodes=num_nodes,\n",
        "    expansion_step=expansion_step,\n",
        "    num_heads=num_heads,\n",
        "    active=active_layers,\n",
        "    timestamp=timestamp\n",
        ").to(device)\n",
        "\n",
        "sum([p.numel() for p in model_DGDNN.parameters()])"
      ]
    },
    {
      "cell_type": "markdown",
      "metadata": {},
      "source": [
        "## Train DGDNN"
      ]
    },
    {
      "cell_type": "code",
      "execution_count": 18,
      "metadata": {},
      "outputs": [],
      "source": [
        "train_loader = DataLoader(train_dataset, batch_size=1, shuffle=True)\n",
        "validation_loader = DataLoader(validation_dataset, batch_size=1, shuffle=True)\n",
        "test_loader = DataLoader(test_dataset, batch_size=1, shuffle=True)"
      ]
    },
    {
      "cell_type": "code",
      "execution_count": 19,
      "metadata": {},
      "outputs": [
        {
          "name": "stdout",
          "output_type": "stream",
          "text": [
            "Epoch 0/30,  train_loss=200.0947, val_loss=0.6887, val_acc=0.5376, val_f1=0.6508\n"
          ]
        },
        {
          "ename": "KeyboardInterrupt",
          "evalue": "",
          "output_type": "error",
          "traceback": [
            "\u001b[31m---------------------------------------------------------------------------\u001b[39m",
            "\u001b[31mKeyboardInterrupt\u001b[39m                         Traceback (most recent call last)",
            "\u001b[36mCell\u001b[39m\u001b[36m \u001b[39m\u001b[32mIn[19]\u001b[39m\u001b[32m, line 25\u001b[39m\n\u001b[32m     21\u001b[39m \u001b[38;5;66;03m# Forward pass\u001b[39;00m\n\u001b[32m     22\u001b[39m \u001b[38;5;66;03m# DGDNN expects X: [num_nodes, features], A: [num_nodes, num_nodes]\u001b[39;00m\n\u001b[32m     23\u001b[39m outputs = model_DGDNN(train_sample.x, A) \u001b[38;5;66;03m# Output shape: [num_nodes, classes]\u001b[39;00m\n\u001b[32m---> \u001b[39m\u001b[32m25\u001b[39m loss = criterion(outputs, C) - \u001b[32m0.0029\u001b[39m * \u001b[43mneighbor_distance_regularizer\u001b[49m\u001b[43m(\u001b[49m\u001b[43mmodel_DGDNN\u001b[49m\u001b[43m.\u001b[49m\u001b[43mtheta\u001b[49m\u001b[43m)\u001b[49m + theta_regularizer(model_DGDNN.theta)\n\u001b[32m     27\u001b[39m \u001b[38;5;66;03m# Backward pass and optimize\u001b[39;00m\n\u001b[32m     28\u001b[39m loss.backward()\n",
            "\u001b[36mFile \u001b[39m\u001b[32m/extra/mbisoffi/tests/TemporalGNNReview/code/utils.py:16\u001b[39m, in \u001b[36mneighbor_distance_regularizer\u001b[39m\u001b[34m(theta)\u001b[39m\n\u001b[32m     14\u001b[39m \u001b[38;5;28;01mfor\u001b[39;00m idx, row \u001b[38;5;129;01min\u001b[39;00m \u001b[38;5;28menumerate\u001b[39m(theta):\n\u001b[32m     15\u001b[39m     \u001b[38;5;28;01mfor\u001b[39;00m i, j \u001b[38;5;129;01min\u001b[39;00m \u001b[38;5;28menumerate\u001b[39m(row):\n\u001b[32m---> \u001b[39m\u001b[32m16\u001b[39m         result[idx, i] = i * j\n\u001b[32m     18\u001b[39m result_sum = torch.sum(result, dim=\u001b[32m1\u001b[39m)\n\u001b[32m     19\u001b[39m \u001b[38;5;28;01mreturn\u001b[39;00m torch.sum(result / result_sum[:, \u001b[38;5;28;01mNone\u001b[39;00m])\n",
            "\u001b[31mKeyboardInterrupt\u001b[39m: "
          ]
        }
      ],
      "source": [
        "optimizer = optim.Adam(model_DGDNN.parameters(), lr=2e-4, weight_decay=1.5e-5)\n",
        "criterion = nn.BCEWithLogitsLoss() # For binary classification (output is a single logit)\n",
        "num_epochs = 30\n",
        "\n",
        "model_DGDNN.train()\n",
        "for epoch in range(num_epochs+1): \n",
        "    train_loss = .0 #loss for each epoch\n",
        "    for train_sample in train_loader: \n",
        "      if train_sample.x.shape[-1] != 5 * timestamp:\n",
        "        print( f\"Found {train_sample.x.shape}, SKIP\" ) \n",
        "        continue\n",
        "      train_sample = train_sample.to(device)\n",
        "      optimizer.zero_grad()\n",
        "      \n",
        "      A = to_dense_adj(train_sample.edge_index, \n",
        "                        batch=train_sample.batch, # Important for correct batch processing if batch_size > 1\n",
        "                        edge_attr=train_sample.edge_attr, \n",
        "                        max_num_nodes=num_nodes).squeeze(0) # Squeeze for batch_size=1\n",
        "      \n",
        "      C = train_sample.y.unsqueeze(dim=1).float()\n",
        "      # Forward pass\n",
        "      # DGDNN expects X: [num_nodes, features], A: [num_nodes, num_nodes]\n",
        "      outputs = model_DGDNN(train_sample.x, A) # Output shape: [num_nodes, classes]\n",
        "\n",
        "      loss = criterion(outputs, C) - 0.0029 * neighbor_distance_regularizer(model_DGDNN.theta) + theta_regularizer(model_DGDNN.theta)\n",
        "      \n",
        "      # Backward pass and optimize\n",
        "      loss.backward()\n",
        "      optimizer.step()\n",
        "      #loss.step()\n",
        "      train_loss += loss.item()\n",
        "\n",
        "    # Validation step\n",
        "    if epoch%(5) == 0:\n",
        "      val_loss =.0 #Reset validation loss\n",
        "      val_acc = .0 #Reset validation accuracy\n",
        "      val_f1 = .0 #Reset f1 score\n",
        "      with torch.no_grad():\n",
        "        for val_sample in validation_loader:\n",
        "          if val_sample.x.shape[-1] != 5 * timestamp:\n",
        "            print( f\"Found {val_sample.x.shape}, SKIP\" ) \n",
        "            continue\n",
        "          val_sample.to(device)\n",
        "          A = to_dense_adj(val_sample.edge_index, \n",
        "                        batch=val_sample.batch, # Important for correct batch processing if batch_size > 1\n",
        "                        edge_attr=val_sample.edge_attr, \n",
        "                        max_num_nodes=num_nodes).squeeze(0) # Squeeze for batch_size=1\n",
        "          out = model_DGDNN(val_sample.x, A)\n",
        "\n",
        "          y = val_sample.y.detach().cpu() # Obtain the y labels\n",
        "          preds = (out > 0).float().detach().cpu().squeeze() #get the predicted logits\n",
        "\n",
        "          val_loss += criterion(out, val_sample.y.unsqueeze(1).float()).item()\n",
        "          val_acc += accuracy_score(y, preds)\n",
        "          val_f1 += f1_score(y, preds, zero_division=0)\n",
        "          #val_mcc += matthews_corrcoef() \n",
        "\n",
        "        print(f\"Epoch {epoch}/{num_epochs},  train_loss={train_loss:.4f}, val_loss={(val_loss/len(validation_loader)):.4f}, val_acc={(val_acc/len(validation_loader)):.4f}, val_f1={(val_f1/len(validation_loader)):.4f}\")\n",
        "     \n",
        "print(\"Training finished.\")"
      ]
    },
    {
      "cell_type": "code",
      "execution_count": 63,
      "metadata": {},
      "outputs": [
        {
          "data": {
            "text/plain": [
              "(tensor(806), 1764)"
            ]
          },
          "execution_count": 63,
          "metadata": {},
          "output_type": "execute_result"
        }
      ],
      "source": [
        "label_1 = 0\n",
        "for s in train_loader:\n",
        "    label_1 += s.y.sum()\n",
        "label_1, len(train_loader)*6"
      ]
    },
    {
      "cell_type": "markdown",
      "metadata": {},
      "source": [
        "## Test the model"
      ]
    },
    {
      "cell_type": "code",
      "execution_count": 64,
      "metadata": {},
      "outputs": [],
      "source": [
        "test_loader = DataLoader(test_dataset, batch_size=1, shuffle=True)"
      ]
    },
    {
      "cell_type": "code",
      "execution_count": 69,
      "metadata": {},
      "outputs": [
        {
          "name": "stdout",
          "output_type": "stream",
          "text": [
            "Test acc=0.547410358565737\n",
            "Test F1=0.6641040804257835\n",
            "Test MCC=0.047624939137915906\n",
            "Predicted negative: 502\n"
          ]
        },
        {
          "ename": "TypeError",
          "evalue": "expected str, bytes or os.PathLike object, not builtin_function_or_method",
          "output_type": "error",
          "traceback": [
            "\u001b[31m---------------------------------------------------------------------------\u001b[39m",
            "\u001b[31mTypeError\u001b[39m                                 Traceback (most recent call last)",
            "\u001b[36mCell\u001b[39m\u001b[36m \u001b[39m\u001b[32mIn[69]\u001b[39m\u001b[32m, line 44\u001b[39m\n\u001b[32m     42\u001b[39m \u001b[38;5;66;03m#TO FINISH   \u001b[39;00m\n\u001b[32m     43\u001b[39m \u001b[38;5;28;01mfrom\u001b[39;00m\u001b[38;5;250m \u001b[39m\u001b[34;01mutils\u001b[39;00m\u001b[38;5;250m \u001b[39m\u001b[38;5;28;01mimport\u001b[39;00m create_test_report\n\u001b[32m---> \u001b[39m\u001b[32m44\u001b[39m \u001b[43mcreate_test_report\u001b[49m\u001b[43m(\u001b[49m\u001b[33;43m\"\u001b[39;49m\u001b[33;43mDGDNN\u001b[39;49m\u001b[33;43m\"\u001b[39;49m\u001b[43m,\u001b[49m\u001b[43m \u001b[49m\u001b[43mnum_epochs\u001b[49m\u001b[43m,\u001b[49m\u001b[43m \u001b[49m\u001b[33;43m'\u001b[39;49m\u001b[33;43m./\u001b[39;49m\u001b[33;43m'\u001b[39;49m\u001b[43m,\u001b[49m\u001b[43m \u001b[49m\u001b[43mtest_acc\u001b[49m\u001b[43m,\u001b[49m\u001b[43m \u001b[49m\u001b[43mtest_f1\u001b[49m\u001b[43m,\u001b[49m\u001b[43m \u001b[49m\u001b[43mtest_mcc\u001b[49m\u001b[43m,\u001b[49m\u001b[43m \u001b[49m\u001b[33;43m'\u001b[39;49m\u001b[33;43msd\u001b[39;49m\u001b[33;43m'\u001b[39;49m\u001b[43m)\u001b[49m\n",
            "\u001b[36mFile \u001b[39m\u001b[32m<string>:2\u001b[39m, in \u001b[36mcreate_test_report\u001b[39m\u001b[34m(model_name, epochs, dest, acc, f1, mcc, prediction_balance)\u001b[39m\n",
            "\u001b[36mFile \u001b[39m\u001b[32m<frozen posixpath>:76\u001b[39m, in \u001b[36mjoin\u001b[39m\u001b[34m(a, *p)\u001b[39m\n",
            "\u001b[31mTypeError\u001b[39m: expected str, bytes or os.PathLike object, not builtin_function_or_method"
          ]
        }
      ],
      "source": [
        "# Use torch.no_grad() for evaluation to improve speed and save memory\n",
        "model_DGDNN.eval()\n",
        "\n",
        "all_logits = []\n",
        "all_labels = [] \n",
        "total_test_loss = 0\n",
        "conc = torch.tensor([]).to(device)\n",
        "label_conc = torch.tensor([]).to(device)\n",
        "\n",
        "with torch.no_grad():  # Deactivates autograd for efficiency\n",
        "    for test_sample in test_loader:\n",
        "        if test_sample.x.shape[-1] != 5 * timestamp: continue\n",
        "        test_sample = test_sample.to(device)\n",
        "        \n",
        "        # --- X Preparation ---\n",
        "        X = test_sample.x\n",
        "        A = to_dense_adj(test_sample.edge_index,\n",
        "                         batch=test_sample.batch,\n",
        "                         edge_attr=test_sample.edge_attr,\n",
        "                         max_num_nodes=num_nodes).squeeze(0)\n",
        "        \n",
        "        # Use test_sample.y for labels and prepare for loss calculation\n",
        "        C = test_sample.y.unsqueeze(dim=1).float() \n",
        "        \n",
        "        # --- Forward pass and Loss Calculation ---\n",
        "        out = model_DGDNN(X, A)\n",
        "        \n",
        "        # --- Accumulate logits and labels ---\n",
        "        conc = torch.cat((conc, out.squeeze()), dim=0)\n",
        "        label_conc = torch.cat((label_conc, test_sample.y), dim=0)\n",
        "\n",
        "    test_acc = accuracy_score((conc > 0).detach().cpu().float(),  label_conc.detach().cpu())\n",
        "    test_f1 = f1_score((conc > 0).detach().cpu().float(),  label_conc.detach().cpu())\n",
        "    test_mcc = matthews_corrcoef((conc > 0).detach().cpu().float(),  label_conc.detach().cpu())\n",
        "\n",
        "\n",
        "print(f\"Test acc={test_acc}\")\n",
        "print(f\"Test F1={test_f1}\")\n",
        "print(f\"Test MCC={test_mcc}\")\n",
        "print(f\"Predicted negative: {(conc < 0).sum()}\")\n",
        "\n",
        "#TO FINISH   \n",
        "\n"
      ]
    },
    {
      "cell_type": "code",
      "execution_count": null,
      "metadata": {},
      "outputs": [],
      "source": []
    },
    {
      "cell_type": "code",
      "execution_count": 83,
      "metadata": {},
      "outputs": [],
      "source": [
        "from utils import create_test_report\n",
        "create_test_report(\"DGDNN\", num_epochs, './', test_acc, test_f1, test_mcc, 'sd')"
      ]
    },
    {
      "cell_type": "markdown",
      "metadata": {},
      "source": [
        "# Model 3. Temporal GNN"
      ]
    },
    {
      "cell_type": "code",
      "execution_count": null,
      "metadata": {},
      "outputs": [
        {
          "data": {
            "text/plain": [
              "6360065"
            ]
          },
          "execution_count": 50,
          "metadata": {},
          "output_type": "execute_result"
        }
      ],
      "source": [
        "class TemporalGNN(nn.Module):\n",
        "    def __init__(self, in_channels, hidden_channels, out_channels, dropout=0.2):\n",
        "        super(TemporalGNN, self).__init__()\n",
        "        self.recurrent1 = GConvGRU(in_channels, hidden_channels, K=2)\n",
        "        #self.recurrent2 = GConvGRU(hidden_channels, hidden_channels, K=2)\n",
        "        #self.recurrent3 = GConvGRU(hidden_channels, hidden_channels, K=2)\n",
        "        self.dropout = nn.Dropout(dropout)\n",
        "        self.linear = nn.Linear(hidden_channels, out_channels)\n",
        "\n",
        "    def forward(self, x, edge_index, edge_weight):\n",
        "        h1 = None\n",
        "        h2 = None\n",
        "        h3 = None\n",
        "        h1 = self.recurrent1(x, edge_index, edge_weight, h1)\n",
        "        #h2 = self.recurrent2(h1, edge_index, edge_weight, h2)\n",
        "        #h3 = self.recurrent3(h2, edge_index, edge_weight, h3)\n",
        "        h = F.relu(h1)\n",
        "        h = self.dropout(h)  # Dropout before final layer\n",
        "        out = self.linear(h)\n",
        "        return out\n",
        "\n",
        "\n",
        "input_dim = 5 * timestamp\n",
        "hidden_dim = 1024\n",
        "output_dim = 1\n",
        "\n",
        "model_TemporalGNN = TemporalGNN(input_dim, hidden_dim, output_dim).to(device)\n",
        "sum([p.numel() for p in model_TemporalGNN.parameters()])"
      ]
    },
    {
      "cell_type": "markdown",
      "metadata": {},
      "source": [
        "## Train Temporal_GNN"
      ]
    },
    {
      "cell_type": "code",
      "execution_count": null,
      "metadata": {},
      "outputs": [],
      "source": [
        "train_loader = DataLoader(train_dataset, batch_size=1, shuffle=True)\n",
        "val_loader = DataLoader(validation_dataset, batch_size=1, shuffle=True)\n",
        "test_loader = DataLoader(test_dataset, batch_size=1, shuffle=True)\n"
      ]
    },
    {
      "cell_type": "code",
      "execution_count": null,
      "metadata": {},
      "outputs": [
        {
          "name": "stdout",
          "output_type": "stream",
          "text": [
            "Epoch 0/15,  train_loss=203.6195, val_loss=0.6888, val_acc=0.5504, val_f1=0.5899\n",
            "Epoch 5/15,  train_loss=203.3088, val_loss=0.6892, val_acc=0.5552, val_f1=0.5679\n",
            "Epoch 10/15,  train_loss=203.1100, val_loss=0.6897, val_acc=0.5552, val_f1=0.5691\n",
            "Epoch 15/15,  train_loss=202.6861, val_loss=0.6878, val_acc=0.5632, val_f1=0.5914\n"
          ]
        }
      ],
      "source": [
        "optimizer = optim.Adam(model_TemporalGNN.parameters(), lr=2e-4, weight_decay=1.5e-5)\n",
        "criterion = nn.BCEWithLogitsLoss() # For binary classification (output is a single logit)\n",
        "num_epochs = 15\n",
        "\n",
        "for epoch in range(num_epochs+1):\n",
        "    train_loss = .0\n",
        "    train_acc = .0\n",
        "    model_TemporalGNN.train()\n",
        "    for train_sample in train_loader:\n",
        "        if train_sample.x.shape[-1] != 5 * timestamp: continue\n",
        "        \n",
        "        train_sample.to(device)\n",
        "        optimizer.zero_grad()\n",
        "        out = model_TemporalGNN(train_sample.x, train_sample.edge_index, train_sample.edge_weight)\n",
        "        loss = criterion( out, train_sample.y.unsqueeze(1).float() )\n",
        "        loss.backward()\n",
        "        train_loss += loss.item()\n",
        "        optimizer.step()\n",
        "        #train_acc += accuracy_score((out.detach().cpu() > 0).float().squeeze(), validation_dataset[10].y.detach().cpu())\n",
        "\n",
        "    if epoch%5 == 0:\n",
        "      val_loss =.0 #Reset validation loss\n",
        "      val_acc = .0 #Reset validation accuracy\n",
        "      val_f1 = .0 #Reset f1 score\n",
        "      with torch.no_grad():\n",
        "        for val_sample in validation_loader:\n",
        "          if val_sample.x.shape[-1] != 5 * timestamp: continue\n",
        "          \n",
        "          val_sample.to(device)\n",
        "          out = model_TemporalGNN(val_sample.x, val_sample.edge_index, val_sample.edge_attr)\n",
        "\n",
        "          y = val_sample.y.detach().cpu() # Obtain the y labels\n",
        "          preds = (out > 0).float().detach().cpu().squeeze() #get the predicted logits\n",
        "\n",
        "          val_loss += criterion(out, val_sample.y.unsqueeze(1).float()).item()\n",
        "          val_acc += accuracy_score(y, preds)\n",
        "          val_f1 += f1_score(y, preds)\n",
        "          #val_mcc += matthews_corrcoef() \n",
        "\n",
        "        print(f\"Epoch {epoch}/{num_epochs},  train_loss={train_loss:.4f}, val_loss={(val_loss/len(validation_loader)):.4f}, val_acc={(val_acc/len(validation_loader)):.4f}, val_f1={(val_f1/len(validation_loader)):.4f}\")\n",
        "\n",
        "\n",
        "\n"
      ]
    },
    {
      "cell_type": "markdown",
      "metadata": {},
      "source": [
        "## Test Temporal GNN"
      ]
    },
    {
      "cell_type": "code",
      "execution_count": null,
      "metadata": {},
      "outputs": [
        {
          "name": "stdout",
          "output_type": "stream",
          "text": [
            "Test acc=0.5350597609561752\n",
            "Test F1=0.6217179902755268\n",
            "Test MCC=0.03845651150426428\n",
            "Predicted negative: 799\n"
          ]
        }
      ],
      "source": [
        "# Use torch.no_grad() for evaluation to improve speed and save memory\n",
        "model_TemporalGNN.eval()\n",
        "criterion = nn.BCEWithLogitsLoss()\n",
        "\n",
        "all_logits = []\n",
        "all_labels = []\n",
        "total_test_loss = 0\n",
        "conc = torch.tensor([]).to(device)\n",
        "label_conc = torch.tensor([]).to(device)\n",
        "\n",
        "with torch.no_grad():  # Deactivates autograd for efficiency\n",
        "    for test_sample in test_loader:\n",
        "        if test_sample.x.shape[-1] != 5 * timestamp: continue\n",
        "\n",
        "        test_sample = test_sample.to(device)\n",
        "        \n",
        "        \n",
        "        # --- Forward pass and Loss Calculation ---\n",
        "        out = model_TemporalGNN(test_sample.x, test_sample.edge_index, test_sample.edge_attr)\n",
        "        loss = criterion(out, test_sample.y.unsqueeze(1).float())  # Note: Regularizers are often omitted during evaluation\n",
        "        total_test_loss += loss.item()\n",
        "        \n",
        "\n",
        "        # --- Accumulate logits and labels ---\n",
        "        conc = torch.cat((conc, out.squeeze()), dim=0)\n",
        "        label_conc = torch.cat((label_conc, test_sample.y), dim=0)\n",
        "\n",
        "    test_acc = accuracy_score((conc > 0).detach().cpu().float(),  label_conc.detach().cpu())\n",
        "    test_f1 = f1_score((conc > 0).detach().cpu().float(),  label_conc.detach().cpu())\n",
        "    test_mcc = matthews_corrcoef((conc > 0).detach().cpu().float(),  label_conc.detach().cpu())\n",
        "\n",
        "\n",
        "print(f\"Test acc={test_acc}\")\n",
        "print(f\"Test F1={test_f1}\")\n",
        "print(f\"Test MCC={test_mcc}\")\n",
        "print(f\"Predicted negative: {(conc < 0).sum()}\")\n",
        "\n"
      ]
    },
    {
      "cell_type": "markdown",
      "metadata": {},
      "source": [
        "# Model 4: HyperStockGAT\n",
        "\n",
        "https://github.com/midas-research/hyper-stockgat-www\n",
        "\n",
        "ORIGINAL FROM PAPER: https://github.com/HazyResearch/hgcn"
      ]
    }
  ],
  "metadata": {
    "colab": {
      "provenance": []
    },
    "kernelspec": {
      "display_name": "tesi_venv",
      "language": "python",
      "name": "python3"
    },
    "language_info": {
      "codemirror_mode": {
        "name": "ipython",
        "version": 3
      },
      "file_extension": ".py",
      "mimetype": "text/x-python",
      "name": "python",
      "nbconvert_exporter": "python",
      "pygments_lexer": "ipython3",
      "version": "3.11.13"
    }
  },
  "nbformat": 4,
  "nbformat_minor": 0
}
